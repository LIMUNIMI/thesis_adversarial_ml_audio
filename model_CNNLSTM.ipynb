{
 "cells": [
  {
   "cell_type": "markdown",
   "id": "a4b044eb",
   "metadata": {},
   "source": [
    "Import data for train/test"
   ]
  },
  {
   "cell_type": "code",
   "execution_count": 1,
   "id": "d06a8d2e",
   "metadata": {},
   "outputs": [],
   "source": [
    "import numpy as np\n",
    "x_train = np.load('processed_data/first_experiment/x_train.npy')\n",
    "x_test = np.load('processed_data/first_experiment/x_test.npy')\n",
    "y_train = np.load('processed_data/first_experiment/y_train.npy')\n",
    "y_test = np.load('processed_data/first_experiment/y_test.npy')"
   ]
  },
  {
   "cell_type": "markdown",
   "id": "c9614dc8",
   "metadata": {},
   "source": [
    "Define a model for SER"
   ]
  },
  {
   "cell_type": "code",
   "execution_count": 2,
   "id": "3f35aef4",
   "metadata": {},
   "outputs": [],
   "source": [
    "import tensorflow as tf\n",
    "import tensorflow.keras\n",
    "from tensorflow.keras.models import Sequential \n",
    "from tensorflow.keras.layers import Conv1D, Flatten, Dense, Dropout, MaxPooling1D, LSTM, TimeDistributed, Input"
   ]
  },
  {
   "cell_type": "code",
   "execution_count": 3,
   "id": "b2c3499c",
   "metadata": {},
   "outputs": [
    {
     "name": "stdout",
     "output_type": "stream",
     "text": [
      "Model: \"sequential\"\n",
      "_________________________________________________________________\n",
      "Layer (type)                 Output Shape              Param #   \n",
      "=================================================================\n",
      "time_distributed (TimeDistri (None, 128, 102, 64)      256       \n",
      "_________________________________________________________________\n",
      "time_distributed_1 (TimeDist (None, 128, 51, 64)       0         \n",
      "_________________________________________________________________\n",
      "time_distributed_2 (TimeDist (None, 128, 49, 64)       12352     \n",
      "_________________________________________________________________\n",
      "time_distributed_3 (TimeDist (None, 128, 12, 64)       0         \n",
      "_________________________________________________________________\n",
      "time_distributed_4 (TimeDist (None, 128, 10, 128)      24704     \n",
      "_________________________________________________________________\n",
      "time_distributed_5 (TimeDist (None, 128, 2, 128)       0         \n",
      "_________________________________________________________________\n",
      "time_distributed_6 (TimeDist (None, 128, 256)          0         \n",
      "_________________________________________________________________\n",
      "lstm (LSTM)                  (None, 128, 128)          197120    \n",
      "_________________________________________________________________\n",
      "flatten_1 (Flatten)          (None, 16384)             0         \n",
      "_________________________________________________________________\n",
      "dense (Dense)                (None, 7)                 114695    \n",
      "=================================================================\n",
      "Total params: 349,127\n",
      "Trainable params: 349,127\n",
      "Non-trainable params: 0\n",
      "_________________________________________________________________\n"
     ]
    }
   ],
   "source": [
    "model = Sequential()\n",
    "model.add(TimeDistributed(Conv1D(64, kernel_size=(3), activation='relu', strides=(1)), input_shape = (128, 104, 1)))\n",
    "model.add(TimeDistributed(MaxPooling1D(pool_size=(2), strides=(2))))\n",
    "\n",
    "model.add(TimeDistributed(Conv1D(64, kernel_size=(3), activation='relu', strides=(1))))\n",
    "model.add(TimeDistributed(MaxPooling1D(pool_size=(4), strides=(4))))\n",
    "\n",
    "model.add(TimeDistributed(Conv1D(128, kernel_size=(3), activation='relu', strides=(1))))\n",
    "model.add(TimeDistributed(MaxPooling1D(pool_size=(4), strides=(4))))\n",
    "\n",
    "# model.add(Conv2D(128, kernel_size=(3, 3), activation='relu', strides=(1, 1)))\n",
    "# model.add(MaxPooling2D(pool_size=(4, 4), strides=(4, 4)))\n",
    "model.add(TimeDistributed(Flatten()))\n",
    "\n",
    "# define LSTM model\n",
    "model.add(LSTM(128, return_sequences=True))\n",
    "model.add(Flatten())\n",
    "model.add(Dense(7, activation='softmax'))\n",
    "\n",
    "model.compile(loss='categorical_crossentropy', optimizer='adam', metrics=['accuracy'])\n",
    "model.summary()"
   ]
  },
  {
   "cell_type": "code",
   "execution_count": 4,
   "id": "b7236364",
   "metadata": {},
   "outputs": [
    {
     "name": "stdout",
     "output_type": "stream",
     "text": [
      "Epoch 1/50\n",
      "15/15 [==============================] - 13s 421ms/step - loss: 2.4011 - accuracy: 0.1350 - val_loss: 2.0346 - val_accuracy: 0.2301\n",
      "Epoch 2/50\n",
      "15/15 [==============================] - 5s 303ms/step - loss: 1.9384 - accuracy: 0.2168 - val_loss: 1.7860 - val_accuracy: 0.4248\n",
      "Epoch 3/50\n",
      "15/15 [==============================] - 5s 304ms/step - loss: 1.8544 - accuracy: 0.2743 - val_loss: 1.7104 - val_accuracy: 0.3717\n",
      "Epoch 4/50\n",
      "15/15 [==============================] - 5s 303ms/step - loss: 1.6708 - accuracy: 0.3518 - val_loss: 1.6734 - val_accuracy: 0.3363\n",
      "Epoch 5/50\n",
      "15/15 [==============================] - 5s 304ms/step - loss: 1.6134 - accuracy: 0.3186 - val_loss: 1.4020 - val_accuracy: 0.4690\n",
      "Epoch 6/50\n",
      "15/15 [==============================] - 5s 304ms/step - loss: 1.3494 - accuracy: 0.4580 - val_loss: 1.3042 - val_accuracy: 0.4336\n",
      "Epoch 7/50\n",
      "15/15 [==============================] - 5s 304ms/step - loss: 1.2589 - accuracy: 0.5022 - val_loss: 1.6336 - val_accuracy: 0.4602\n",
      "Epoch 8/50\n",
      "15/15 [==============================] - 5s 306ms/step - loss: 1.3053 - accuracy: 0.5066 - val_loss: 1.3850 - val_accuracy: 0.4602\n",
      "Epoch 9/50\n",
      "15/15 [==============================] - 5s 306ms/step - loss: 1.2924 - accuracy: 0.4757 - val_loss: 1.2195 - val_accuracy: 0.5310\n",
      "Epoch 10/50\n",
      "15/15 [==============================] - 5s 305ms/step - loss: 1.0675 - accuracy: 0.5420 - val_loss: 1.1422 - val_accuracy: 0.6106\n",
      "Epoch 11/50\n",
      "15/15 [==============================] - 5s 303ms/step - loss: 0.9797 - accuracy: 0.6084 - val_loss: 1.2690 - val_accuracy: 0.5044\n",
      "Epoch 12/50\n",
      "15/15 [==============================] - 5s 305ms/step - loss: 0.9241 - accuracy: 0.6372 - val_loss: 1.0951 - val_accuracy: 0.5929\n",
      "Epoch 13/50\n",
      "15/15 [==============================] - 5s 304ms/step - loss: 0.7874 - accuracy: 0.6881 - val_loss: 1.0449 - val_accuracy: 0.5929\n",
      "Epoch 14/50\n",
      "15/15 [==============================] - 5s 303ms/step - loss: 0.7535 - accuracy: 0.7323 - val_loss: 1.4551 - val_accuracy: 0.4513\n",
      "Epoch 15/50\n",
      "15/15 [==============================] - 5s 303ms/step - loss: 0.8360 - accuracy: 0.6704 - val_loss: 1.0768 - val_accuracy: 0.5398\n",
      "Epoch 16/50\n",
      "15/15 [==============================] - 5s 306ms/step - loss: 0.6775 - accuracy: 0.7367 - val_loss: 1.0047 - val_accuracy: 0.6460\n",
      "Epoch 17/50\n",
      "15/15 [==============================] - 5s 307ms/step - loss: 0.5855 - accuracy: 0.7920 - val_loss: 0.9897 - val_accuracy: 0.6637\n",
      "Epoch 18/50\n",
      "15/15 [==============================] - 5s 306ms/step - loss: 0.5749 - accuracy: 0.7832 - val_loss: 1.1341 - val_accuracy: 0.6106\n",
      "Epoch 19/50\n",
      "15/15 [==============================] - 5s 304ms/step - loss: 0.5174 - accuracy: 0.8296 - val_loss: 1.1119 - val_accuracy: 0.5752\n",
      "Epoch 20/50\n",
      "15/15 [==============================] - 5s 306ms/step - loss: 0.4230 - accuracy: 0.8650 - val_loss: 1.1221 - val_accuracy: 0.5487\n",
      "Epoch 21/50\n",
      "15/15 [==============================] - 5s 309ms/step - loss: 0.5322 - accuracy: 0.8097 - val_loss: 0.9742 - val_accuracy: 0.6726\n",
      "Epoch 22/50\n",
      "15/15 [==============================] - 5s 308ms/step - loss: 0.4517 - accuracy: 0.8385 - val_loss: 1.0007 - val_accuracy: 0.5664\n",
      "Epoch 23/50\n",
      "15/15 [==============================] - 5s 307ms/step - loss: 0.3779 - accuracy: 0.8894 - val_loss: 0.9793 - val_accuracy: 0.6195\n",
      "Epoch 24/50\n",
      "15/15 [==============================] - 5s 308ms/step - loss: 0.3099 - accuracy: 0.9204 - val_loss: 1.0749 - val_accuracy: 0.5929\n",
      "Epoch 25/50\n",
      "15/15 [==============================] - 5s 309ms/step - loss: 0.2771 - accuracy: 0.9270 - val_loss: 1.1070 - val_accuracy: 0.6018\n",
      "Epoch 26/50\n",
      "15/15 [==============================] - 5s 310ms/step - loss: 0.2353 - accuracy: 0.9513 - val_loss: 1.0640 - val_accuracy: 0.6106\n"
     ]
    }
   ],
   "source": [
    "from tensorflow.keras.callbacks import EarlyStopping \n",
    "early_stopping = EarlyStopping(monitor='val_loss', patience=5, mode='auto', restore_best_weights=True)\n",
    "history = model.fit(x_train, y_train, batch_size=32, epochs=50, validation_data=(x_test, y_test), callbacks=[early_stopping])"
   ]
  },
  {
   "cell_type": "code",
   "execution_count": 5,
   "id": "274a3c67",
   "metadata": {},
   "outputs": [
    {
     "data": {
      "image/png": "[encoded data removed]",
      "text/plain": [
       "<Figure size 432x288 with 1 Axes>"
      ]
     },
     "metadata": {
      "needs_background": "light"
     },
     "output_type": "display_data"
    }
   ],
   "source": [
    "import matplotlib.pyplot as plt\n",
    "plt.plot(history.history['accuracy'])\n",
    "plt.plot(history.history['val_accuracy'])\n",
    "plt.title('model accuracy')\n",
    "plt.ylabel('accuracy')\n",
    "plt.xlabel('epoch')\n",
    "plt.legend(['train', 'val'], loc='upper left')\n",
    "plt.show()"
   ]
  },
  {
   "cell_type": "code",
   "execution_count": 6,
   "id": "6b5f679d",
   "metadata": {},
   "outputs": [
    {
     "data": {
      "image/png": "[encoded data removed]",
      "text/plain": [
       "<Figure size 432x288 with 1 Axes>"
      ]
     },
     "metadata": {
      "needs_background": "light"
     },
     "output_type": "display_data"
    }
   ],
   "source": [
    "plt.plot(history.history['loss'])\n",
    "plt.plot(history.history['val_loss'])\n",
    "plt.title('model loss')\n",
    "plt.ylabel('loss')\n",
    "plt.xlabel('epoch')\n",
    "plt.legend(['train', 'val'], loc='upper left')\n",
    "plt.show()"
   ]
  },
  {
   "cell_type": "code",
   "execution_count": 7,
   "id": "a0f0599e",
   "metadata": {},
   "outputs": [
    {
     "name": "stdout",
     "output_type": "stream",
     "text": [
      "4/4 [==============================] - 1s 92ms/step - loss: 0.9742 - accuracy: 0.6726\n",
      "Accuracy on original test data: 67.26%\n"
     ]
    }
   ],
   "source": [
    "_, accuracy_test_original = model.evaluate(x_test, y_test)\n",
    "print('Accuracy on original test data: {:4.2f}%'.format(accuracy_test_original * 100))"
   ]
  },
  {
   "cell_type": "markdown",
   "id": "d9299a6d",
   "metadata": {},
   "source": [
    "Save the model for future computations"
   ]
  },
  {
   "cell_type": "code",
   "execution_count": 16,
   "id": "58f43ba1",
   "metadata": {},
   "outputs": [],
   "source": [
    "model.save('trained_models/CNN_LSTM1.h5')"
   ]
  }
 ],
 "metadata": {
  "kernelspec": {
   "display_name": "Python 3 (ipykernel)",
   "language": "python",
   "name": "python3"
  },
  "language_info": {
   "codemirror_mode": {
    "name": "ipython",
    "version": 3
   },
   "file_extension": ".py",
   "mimetype": "text/x-python",
   "name": "python",
   "nbconvert_exporter": "python",
   "pygments_lexer": "ipython3",
   "version": "3.9.13"
  }
 },
 "nbformat": 4,
 "nbformat_minor": 5
}
