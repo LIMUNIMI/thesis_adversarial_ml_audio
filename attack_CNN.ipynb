{
 "cells": [
  {
   "cell_type": "markdown",
   "id": "718abdcb",
   "metadata": {},
   "source": [
    "Import the pre trained model"
   ]
  },
  {
   "cell_type": "code",
   "execution_count": 1,
   "id": "e3cd8df7",
   "metadata": {},
   "outputs": [],
   "source": [
    "import tensorflow as tf\n",
    "import tensorflow.keras"
   ]
  },
  {
   "cell_type": "code",
   "execution_count": 2,
   "id": "0401dc20",
   "metadata": {},
   "outputs": [
    {
     "name": "stdout",
     "output_type": "stream",
     "text": [
      "Model: \"sequential\"\n",
      "_________________________________________________________________\n",
      "Layer (type)                 Output Shape              Param #   \n",
      "=================================================================\n",
      "conv2d (Conv2D)              (None, 256, 256, 16)      448       \n",
      "_________________________________________________________________\n",
      "max_pooling2d (MaxPooling2D) (None, 128, 128, 16)      0         \n",
      "_________________________________________________________________\n",
      "conv2d_1 (Conv2D)            (None, 64, 64, 32)        4640      \n",
      "_________________________________________________________________\n",
      "max_pooling2d_1 (MaxPooling2 (None, 32, 32, 32)        0         \n",
      "_________________________________________________________________\n",
      "conv2d_2 (Conv2D)            (None, 16, 16, 64)        18496     \n",
      "_________________________________________________________________\n",
      "max_pooling2d_2 (MaxPooling2 (None, 8, 8, 64)          0         \n",
      "_________________________________________________________________\n",
      "flatten (Flatten)            (None, 4096)              0         \n",
      "_________________________________________________________________\n",
      "dropout (Dropout)            (None, 4096)              0         \n",
      "_________________________________________________________________\n",
      "dense (Dense)                (None, 128)               524416    \n",
      "_________________________________________________________________\n",
      "dense_1 (Dense)              (None, 64)                8256      \n",
      "_________________________________________________________________\n",
      "dense_2 (Dense)              (None, 7)                 455       \n",
      "=================================================================\n",
      "Total params: 556,711\n",
      "Trainable params: 556,711\n",
      "Non-trainable params: 0\n",
      "_________________________________________________________________\n"
     ]
    }
   ],
   "source": [
    "model = tf.keras.models.load_model('trained_models/firstCNN.h5')\n",
    "model.summary()"
   ]
  },
  {
   "cell_type": "markdown",
   "id": "e93c6d5a",
   "metadata": {},
   "source": [
    "Import the pre processed data"
   ]
  },
  {
   "cell_type": "code",
   "execution_count": 6,
   "id": "50a0cdf3",
   "metadata": {},
   "outputs": [],
   "source": [
    "import numpy as np\n",
    "x_train = np.load('processed_data/first_experiment/x_im_train.npy')\n",
    "x_test = np.load('processed_data/first_experiment/x_im_test.npy')\n",
    "y_train = np.load('processed_data/first_experiment/y_im_train.npy')\n",
    "y_test = np.load('processed_data/first_experiment/y_im_test.npy')"
   ]
  },
  {
   "cell_type": "code",
   "execution_count": 8,
   "id": "f4a8fd97",
   "metadata": {},
   "outputs": [
    {
     "name": "stdout",
     "output_type": "stream",
     "text": [
      "4/4 [==============================] - 6s 127ms/step - loss: 0.8203 - accuracy: 0.7345\n",
      "Accuracy on original test data: 73.45%\n"
     ]
    }
   ],
   "source": [
    "_, accuracy_test_original = model.evaluate(x_test, y_test)\n",
    "print('Accuracy on original test data: {:4.2f}%'.format(accuracy_test_original * 100))"
   ]
  },
  {
   "cell_type": "markdown",
   "id": "68fb6cf7",
   "metadata": {},
   "source": [
    "Make ART model"
   ]
  },
  {
   "cell_type": "code",
   "execution_count": 9,
   "id": "00df425d",
   "metadata": {},
   "outputs": [
    {
     "name": "stderr",
     "output_type": "stream",
     "text": [
      "C:\\Users\\Nicolas Facchinetti\\.conda\\envs\\thesis\\lib\\site-packages\\art\\estimators\\certification\\__init__.py:13: UserWarning: PyTorch not found. Not importing DeepZ functionality\n",
      "  warnings.warn(\"PyTorch not found. Not importing DeepZ functionality\")\n"
     ]
    }
   ],
   "source": [
    "from art.estimators.classification import TensorFlowV2Classifier\n",
    "from art.attacks.evasion import FastGradientMethod, CarliniL0Method"
   ]
  },
  {
   "cell_type": "code",
   "execution_count": 10,
   "id": "cb61026d",
   "metadata": {},
   "outputs": [],
   "source": [
    "loss_object = tf.keras.losses.CategoricalCrossentropy()\n",
    "classifier = TensorFlowV2Classifier(model=model, nb_classes=7, input_shape=(256, 256, 3), loss_object=loss_object)"
   ]
  },
  {
   "cell_type": "code",
   "execution_count": 11,
   "id": "c4c4a733",
   "metadata": {},
   "outputs": [],
   "source": [
    "attack_fgsm = FastGradientMethod(estimator=classifier, eps=0.3)"
   ]
  },
  {
   "cell_type": "code",
   "execution_count": 12,
   "id": "6558c293",
   "metadata": {},
   "outputs": [],
   "source": [
    "x_test_adv = attack_fgsm.generate(x_test)"
   ]
  },
  {
   "cell_type": "code",
   "execution_count": 13,
   "id": "b33746b1",
   "metadata": {},
   "outputs": [
    {
     "name": "stdout",
     "output_type": "stream",
     "text": [
      "4/4 [==============================] - 0s 53ms/step - loss: 23.7582 - accuracy: 0.0708\n",
      "Accuracy on adversarial test data: 7.08%\n",
      "Average perturbation: 0.27\n"
     ]
    }
   ],
   "source": [
    "_, accuracy_test_attack = model.evaluate(x_test_adv, y_test)\n",
    "perturbation = np.mean(np.abs((x_test_adv - x_test)))\n",
    "\n",
    "print('Accuracy on adversarial test data: {:4.2f}%'.format(accuracy_test_attack * 100))\n",
    "print('Average perturbation: {:4.2f}'.format(perturbation))"
   ]
  },
  {
   "cell_type": "code",
   "execution_count": null,
   "id": "77645e5d",
   "metadata": {},
   "outputs": [],
   "source": [
    "attack_cw = CarliniL0Method(classifier=classifier)\n",
    "\n",
    "x_test_adv = attack_cw.generate(x_test)"
   ]
  },
  {
   "cell_type": "code",
   "execution_count": null,
   "id": "1506b646",
   "metadata": {},
   "outputs": [],
   "source": [
    "loss_test, accuracy_test = model.evaluate(x_test_adv, y_test)\n",
    "perturbation = np.mean(np.abs((x_test_adv - x_test)))\n",
    "print('Accuracy on original test data: {:4.2f}%'.format(accuracy_test_original * 100))\n",
    "print('Accuracy on adversarial test data: {:4.2f}%'.format(accuracy_test * 100))\n",
    "print('Average perturbation: {:4.2f}'.format(perturbation))"
   ]
  }
 ],
 "metadata": {
  "kernelspec": {
   "display_name": "Python 3 (ipykernel)",
   "language": "python",
   "name": "python3"
  },
  "language_info": {
   "codemirror_mode": {
    "name": "ipython",
    "version": 3
   },
   "file_extension": ".py",
   "mimetype": "text/x-python",
   "name": "python",
   "nbconvert_exporter": "python",
   "pygments_lexer": "ipython3",
   "version": "3.9.13"
  }
 },
 "nbformat": 4,
 "nbformat_minor": 5
}
