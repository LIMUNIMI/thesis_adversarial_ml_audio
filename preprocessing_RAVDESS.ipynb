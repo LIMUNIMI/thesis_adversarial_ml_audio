{
 "cells": [
  {
   "cell_type": "markdown",
   "id": "3a5b7259",
   "metadata": {},
   "source": [
    "Dataset preparation for RAVDESS dataset"
   ]
  },
  {
   "cell_type": "code",
   "execution_count": 1,
   "id": "e0bf42ef",
   "metadata": {},
   "outputs": [],
   "source": [
    "import os\n",
    "import numpy as np\n",
    "import pandas as pd\n",
    "import librosa"
   ]
  },
  {
   "cell_type": "markdown",
   "id": "5268f3d0",
   "metadata": {},
   "source": [
    "# DataFrame with Input Samples"
   ]
  },
  {
   "cell_type": "markdown",
   "id": "b6c9bc32",
   "metadata": {},
   "source": [
    "Create Pandas DataFrame with filename and label"
   ]
  },
  {
   "cell_type": "code",
   "execution_count": 2,
   "id": "323e19f7",
   "metadata": {},
   "outputs": [
    {
     "data": {
      "text/html": [
       "<div>\n",
       "<style scoped>\n",
       "    .dataframe tbody tr th:only-of-type {\n",
       "        vertical-align: middle;\n",
       "    }\n",
       "\n",
       "    .dataframe tbody tr th {\n",
       "        vertical-align: top;\n",
       "    }\n",
       "\n",
       "    .dataframe thead th {\n",
       "        text-align: right;\n",
       "    }\n",
       "</style>\n",
       "<table border=\"1\" class=\"dataframe\">\n",
       "  <thead>\n",
       "    <tr style=\"text-align: right;\">\n",
       "      <th></th>\n",
       "      <th>path</th>\n",
       "      <th>filename</th>\n",
       "      <th>label</th>\n",
       "      <th>actor</th>\n",
       "      <th>gender</th>\n",
       "      <th>length</th>\n",
       "    </tr>\n",
       "  </thead>\n",
       "  <tbody>\n",
       "    <tr>\n",
       "      <th>0</th>\n",
       "      <td>/datasets/nicolas_facchinetti/RAVDESS/data/Act...</td>\n",
       "      <td>03-01-05-01-02-01-15.wav</td>\n",
       "      <td>angry</td>\n",
       "      <td>Actor_15</td>\n",
       "      <td>m</td>\n",
       "      <td>3.703719</td>\n",
       "    </tr>\n",
       "    <tr>\n",
       "      <th>1</th>\n",
       "      <td>/datasets/nicolas_facchinetti/RAVDESS/data/Act...</td>\n",
       "      <td>03-01-08-01-02-02-15.wav</td>\n",
       "      <td>surprised</td>\n",
       "      <td>Actor_15</td>\n",
       "      <td>m</td>\n",
       "      <td>3.370068</td>\n",
       "    </tr>\n",
       "    <tr>\n",
       "      <th>2</th>\n",
       "      <td>/datasets/nicolas_facchinetti/RAVDESS/data/Act...</td>\n",
       "      <td>03-01-07-02-02-02-15.wav</td>\n",
       "      <td>disgust</td>\n",
       "      <td>Actor_15</td>\n",
       "      <td>m</td>\n",
       "      <td>3.470159</td>\n",
       "    </tr>\n",
       "    <tr>\n",
       "      <th>3</th>\n",
       "      <td>/datasets/nicolas_facchinetti/RAVDESS/data/Act...</td>\n",
       "      <td>03-01-04-01-02-01-15.wav</td>\n",
       "      <td>sad</td>\n",
       "      <td>Actor_15</td>\n",
       "      <td>m</td>\n",
       "      <td>3.303356</td>\n",
       "    </tr>\n",
       "    <tr>\n",
       "      <th>4</th>\n",
       "      <td>/datasets/nicolas_facchinetti/RAVDESS/data/Act...</td>\n",
       "      <td>03-01-03-01-02-01-15.wav</td>\n",
       "      <td>happy</td>\n",
       "      <td>Actor_15</td>\n",
       "      <td>m</td>\n",
       "      <td>3.336689</td>\n",
       "    </tr>\n",
       "    <tr>\n",
       "      <th>...</th>\n",
       "      <td>...</td>\n",
       "      <td>...</td>\n",
       "      <td>...</td>\n",
       "      <td>...</td>\n",
       "      <td>...</td>\n",
       "      <td>...</td>\n",
       "    </tr>\n",
       "    <tr>\n",
       "      <th>1435</th>\n",
       "      <td>/datasets/nicolas_facchinetti/RAVDESS/data/Act...</td>\n",
       "      <td>03-01-06-02-01-02-13.wav</td>\n",
       "      <td>fearful</td>\n",
       "      <td>Actor_13</td>\n",
       "      <td>m</td>\n",
       "      <td>3.269977</td>\n",
       "    </tr>\n",
       "    <tr>\n",
       "      <th>1436</th>\n",
       "      <td>/datasets/nicolas_facchinetti/RAVDESS/data/Act...</td>\n",
       "      <td>03-01-02-01-02-01-13.wav</td>\n",
       "      <td>calm</td>\n",
       "      <td>Actor_13</td>\n",
       "      <td>m</td>\n",
       "      <td>3.136463</td>\n",
       "    </tr>\n",
       "    <tr>\n",
       "      <th>1437</th>\n",
       "      <td>/datasets/nicolas_facchinetti/RAVDESS/data/Act...</td>\n",
       "      <td>03-01-04-01-01-02-13.wav</td>\n",
       "      <td>sad</td>\n",
       "      <td>Actor_13</td>\n",
       "      <td>m</td>\n",
       "      <td>3.536871</td>\n",
       "    </tr>\n",
       "    <tr>\n",
       "      <th>1438</th>\n",
       "      <td>/datasets/nicolas_facchinetti/RAVDESS/data/Act...</td>\n",
       "      <td>03-01-08-01-02-02-13.wav</td>\n",
       "      <td>surprised</td>\n",
       "      <td>Actor_13</td>\n",
       "      <td>m</td>\n",
       "      <td>3.036417</td>\n",
       "    </tr>\n",
       "    <tr>\n",
       "      <th>1439</th>\n",
       "      <td>/datasets/nicolas_facchinetti/RAVDESS/data/Act...</td>\n",
       "      <td>03-01-07-01-01-02-13.wav</td>\n",
       "      <td>disgust</td>\n",
       "      <td>Actor_13</td>\n",
       "      <td>m</td>\n",
       "      <td>3.169841</td>\n",
       "    </tr>\n",
       "  </tbody>\n",
       "</table>\n",
       "<p>1440 rows × 6 columns</p>\n",
       "</div>"
      ],
      "text/plain": [
       "                                                   path  \\\n",
       "0     /datasets/nicolas_facchinetti/RAVDESS/data/Act...   \n",
       "1     /datasets/nicolas_facchinetti/RAVDESS/data/Act...   \n",
       "2     /datasets/nicolas_facchinetti/RAVDESS/data/Act...   \n",
       "3     /datasets/nicolas_facchinetti/RAVDESS/data/Act...   \n",
       "4     /datasets/nicolas_facchinetti/RAVDESS/data/Act...   \n",
       "...                                                 ...   \n",
       "1435  /datasets/nicolas_facchinetti/RAVDESS/data/Act...   \n",
       "1436  /datasets/nicolas_facchinetti/RAVDESS/data/Act...   \n",
       "1437  /datasets/nicolas_facchinetti/RAVDESS/data/Act...   \n",
       "1438  /datasets/nicolas_facchinetti/RAVDESS/data/Act...   \n",
       "1439  /datasets/nicolas_facchinetti/RAVDESS/data/Act...   \n",
       "\n",
       "                      filename      label     actor gender    length  \n",
       "0     03-01-05-01-02-01-15.wav      angry  Actor_15      m  3.703719  \n",
       "1     03-01-08-01-02-02-15.wav  surprised  Actor_15      m  3.370068  \n",
       "2     03-01-07-02-02-02-15.wav    disgust  Actor_15      m  3.470159  \n",
       "3     03-01-04-01-02-01-15.wav        sad  Actor_15      m  3.303356  \n",
       "4     03-01-03-01-02-01-15.wav      happy  Actor_15      m  3.336689  \n",
       "...                        ...        ...       ...    ...       ...  \n",
       "1435  03-01-06-02-01-02-13.wav    fearful  Actor_13      m  3.269977  \n",
       "1436  03-01-02-01-02-01-13.wav       calm  Actor_13      m  3.136463  \n",
       "1437  03-01-04-01-01-02-13.wav        sad  Actor_13      m  3.536871  \n",
       "1438  03-01-08-01-02-02-13.wav  surprised  Actor_13      m  3.036417  \n",
       "1439  03-01-07-01-01-02-13.wav    disgust  Actor_13      m  3.169841  \n",
       "\n",
       "[1440 rows x 6 columns]"
      ]
     },
     "execution_count": 2,
     "metadata": {},
     "output_type": "execute_result"
    }
   ],
   "source": [
    "label2name = {\n",
    "    \"01\": \"neutral\",\n",
    "    \"02\": \"calm\",\n",
    "    \"03\": \"happy\",\n",
    "    \"04\": \"sad\",\n",
    "    \"05\": \"angry\",\n",
    "    \"06\": \"fearful\",\n",
    "    \"07\": \"disgust\",\n",
    "    \"08\": \"surprised\"\n",
    "}\n",
    "# Filename identifiers\n",
    "# Modality (01 = full-AV, 02 = video-only, 03 = audio-only).\n",
    "# Vocal channel (01 = speech, 02 = song).\n",
    "# Emotion (01 = neutral, 02 = calm, 03 = happy, 04 = sad, 05 = angry, 06 = fearful, 07 = disgust, 08 = surprised).\n",
    "# Emotional intensity (01 = normal, 02 = strong). NOTE: There is no strong intensity for the 'neutral' emotion.\n",
    "# Statement (01 = \"Kids are talking by the door\", 02 = \"Dogs are sitting by the door\").\n",
    "# Repetition (01 = 1st repetition, 02 = 2nd repetition).\n",
    "# Actor (01 to 24. Odd numbered actors are male, even numbered actors are female).\n",
    "# Filename example: 03-01-06-01-02-01-12.wav\n",
    "\n",
    "dir_path = '/datasets/nicolas_facchinetti/RAVDESS/data/'\n",
    "data = []\n",
    "for actor in os.listdir(dir_path):\n",
    "    path = dir_path+f\"{actor}\"\n",
    "    for filename in os.listdir(path):\n",
    "        filepath = os.path.join(path, filename)\n",
    "        \n",
    "        samples, sr = librosa.load(filepath, sr=22050)\n",
    "        info = filename.split(\"-\")\n",
    "        length = len(samples)/sr\n",
    "        cat = label2name[info[2]]\n",
    "        gender = ('f' if int(info[-1][:2]) % 2 == 0 else 'm')\n",
    "\n",
    "        data.append([filepath, filename, cat, actor, gender, length])\n",
    "    \n",
    "    \n",
    "df_info = pd.DataFrame(data, columns=['path', \"filename\", 'label', 'actor', 'gender', 'length'])\n",
    "df_info"
   ]
  },
  {
   "cell_type": "markdown",
   "id": "3bf82ee2",
   "metadata": {},
   "source": [
    "Sampes length analysis"
   ]
  },
  {
   "cell_type": "code",
   "execution_count": 3,
   "id": "e9ee6162",
   "metadata": {},
   "outputs": [
    {
     "data": {
      "text/plain": [
       "count    1440.000000\n",
       "mean        3.700688\n",
       "std         0.336676\n",
       "min         2.936281\n",
       "25%         3.470159\n",
       "50%         3.670340\n",
       "75%         3.870567\n",
       "max         5.271973\n",
       "Name: length, dtype: float64"
      ]
     },
     "execution_count": 3,
     "metadata": {},
     "output_type": "execute_result"
    }
   ],
   "source": [
    "df_info[\"length\"].describe()"
   ]
  },
  {
   "cell_type": "code",
   "execution_count": 4,
   "id": "32d014a3",
   "metadata": {
    "scrolled": true
   },
   "outputs": [
    {
     "data": {
      "text/plain": [
       "angry        192\n",
       "surprised    192\n",
       "disgust      192\n",
       "sad          192\n",
       "happy        192\n",
       "fearful      192\n",
       "calm         192\n",
       "neutral       96\n",
       "Name: label, dtype: int64"
      ]
     },
     "execution_count": 4,
     "metadata": {},
     "output_type": "execute_result"
    }
   ],
   "source": [
    "df_info.label.value_counts()"
   ]
  },
  {
   "cell_type": "code",
   "execution_count": 5,
   "id": "cb87d62c",
   "metadata": {},
   "outputs": [
    {
     "data": {
      "text/plain": [
       "Actor_15    60\n",
       "Actor_20    60\n",
       "Actor_01    60\n",
       "Actor_06    60\n",
       "Actor_09    60\n",
       "Actor_16    60\n",
       "Actor_22    60\n",
       "Actor_17    60\n",
       "Actor_24    60\n",
       "Actor_02    60\n",
       "Actor_23    60\n",
       "Actor_07    60\n",
       "Actor_19    60\n",
       "Actor_10    60\n",
       "Actor_12    60\n",
       "Actor_05    60\n",
       "Actor_08    60\n",
       "Actor_14    60\n",
       "Actor_11    60\n",
       "Actor_18    60\n",
       "Actor_21    60\n",
       "Actor_03    60\n",
       "Actor_04    60\n",
       "Actor_13    60\n",
       "Name: actor, dtype: int64"
      ]
     },
     "execution_count": 5,
     "metadata": {},
     "output_type": "execute_result"
    }
   ],
   "source": [
    "df_info.actor.value_counts()"
   ]
  },
  {
   "cell_type": "markdown",
   "id": "d7690792",
   "metadata": {},
   "source": [
    "Save metadata"
   ]
  },
  {
   "cell_type": "code",
   "execution_count": 6,
   "id": "abd9b6c3",
   "metadata": {},
   "outputs": [],
   "source": [
    "\n",
    "df_info.to_csv(\"/datasets/nicolas_facchinetti/processed_data/RAVDESS/processed_metadata.csv\", index=False)"
   ]
  }
 ],
 "metadata": {
  "kernelspec": {
   "display_name": "Python 3 (ipykernel)",
   "language": "python",
   "name": "python3"
  },
  "language_info": {
   "codemirror_mode": {
    "name": "ipython",
    "version": 3
   },
   "file_extension": ".py",
   "mimetype": "text/x-python",
   "name": "python",
   "nbconvert_exporter": "python",
   "pygments_lexer": "ipython3",
   "version": "3.9.13"
  }
 },
 "nbformat": 4,
 "nbformat_minor": 5
}
