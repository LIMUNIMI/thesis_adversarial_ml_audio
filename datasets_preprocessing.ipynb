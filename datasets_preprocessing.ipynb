{
 "cells": [
  {
   "cell_type": "markdown",
   "id": "3a5b7259",
   "metadata": {},
   "source": [
    "Extract features from EmoDB dataset"
   ]
  },
  {
   "cell_type": "code",
   "execution_count": 11,
   "id": "e0bf42ef",
   "metadata": {},
   "outputs": [],
   "source": [
    "import librosa\n",
    "import os\n",
    "import numpy as np\n",
    "import pandas as pd"
   ]
  },
  {
   "cell_type": "markdown",
   "id": "08ce6d72",
   "metadata": {},
   "source": [
    "# Import metadatas"
   ]
  },
  {
   "cell_type": "code",
   "execution_count": 85,
   "id": "3b8fa4af",
   "metadata": {},
   "outputs": [],
   "source": [
    "sr = 22050"
   ]
  },
  {
   "cell_type": "code",
   "execution_count": 27,
   "id": "dd72c2b1",
   "metadata": {},
   "outputs": [],
   "source": [
    "ravdess = pd.read_csv(\"/datasets/nicolas_facchinetti/processed_data/RAVDESS/processed_metadata.csv\")\n",
    "emovo = pd.read_csv(\"/datasets/nicolas_facchinetti/processed_data/EMOVO/processed_metadata.csv\")\n",
    "emodb = pd.read_csv(\"/datasets/nicolas_facchinetti/processed_data/EmoDB/processed_metadata.csv\")"
   ]
  },
  {
   "cell_type": "code",
   "execution_count": 28,
   "id": "d15eb23f",
   "metadata": {},
   "outputs": [
    {
     "data": {
      "text/html": [
       "<div>\n",
       "<style scoped>\n",
       "    .dataframe tbody tr th:only-of-type {\n",
       "        vertical-align: middle;\n",
       "    }\n",
       "\n",
       "    .dataframe tbody tr th {\n",
       "        vertical-align: top;\n",
       "    }\n",
       "\n",
       "    .dataframe thead th {\n",
       "        text-align: right;\n",
       "    }\n",
       "</style>\n",
       "<table border=\"1\" class=\"dataframe\">\n",
       "  <thead>\n",
       "    <tr style=\"text-align: right;\">\n",
       "      <th></th>\n",
       "      <th>path</th>\n",
       "      <th>filename</th>\n",
       "      <th>label</th>\n",
       "      <th>actor</th>\n",
       "      <th>gender</th>\n",
       "      <th>length</th>\n",
       "    </tr>\n",
       "  </thead>\n",
       "  <tbody>\n",
       "    <tr>\n",
       "      <th>0</th>\n",
       "      <td>/datasets/nicolas_facchinetti/EmoDB/data/13a05...</td>\n",
       "      <td>13a05Tc.wav</td>\n",
       "      <td>Sadness</td>\n",
       "      <td>13</td>\n",
       "      <td>f</td>\n",
       "      <td>4.451375</td>\n",
       "    </tr>\n",
       "    <tr>\n",
       "      <th>1</th>\n",
       "      <td>/datasets/nicolas_facchinetti/EmoDB/data/14b09...</td>\n",
       "      <td>14b09Ac.wav</td>\n",
       "      <td>Fear</td>\n",
       "      <td>14</td>\n",
       "      <td>f</td>\n",
       "      <td>2.287688</td>\n",
       "    </tr>\n",
       "    <tr>\n",
       "      <th>2</th>\n",
       "      <td>/datasets/nicolas_facchinetti/EmoDB/data/11b02...</td>\n",
       "      <td>11b02Na.wav</td>\n",
       "      <td>Neutral</td>\n",
       "      <td>11</td>\n",
       "      <td>m</td>\n",
       "      <td>2.698812</td>\n",
       "    </tr>\n",
       "    <tr>\n",
       "      <th>3</th>\n",
       "      <td>/datasets/nicolas_facchinetti/EmoDB/data/09b03...</td>\n",
       "      <td>09b03Fd.wav</td>\n",
       "      <td>Happiness</td>\n",
       "      <td>9</td>\n",
       "      <td>f</td>\n",
       "      <td>3.312500</td>\n",
       "    </tr>\n",
       "    <tr>\n",
       "      <th>4</th>\n",
       "      <td>/datasets/nicolas_facchinetti/EmoDB/data/16b10...</td>\n",
       "      <td>16b10Fb.wav</td>\n",
       "      <td>Happiness</td>\n",
       "      <td>16</td>\n",
       "      <td>f</td>\n",
       "      <td>2.583500</td>\n",
       "    </tr>\n",
       "    <tr>\n",
       "      <th>...</th>\n",
       "      <td>...</td>\n",
       "      <td>...</td>\n",
       "      <td>...</td>\n",
       "      <td>...</td>\n",
       "      <td>...</td>\n",
       "      <td>...</td>\n",
       "    </tr>\n",
       "    <tr>\n",
       "      <th>530</th>\n",
       "      <td>/datasets/nicolas_facchinetti/EmoDB/data/15a04...</td>\n",
       "      <td>15a04Wa.wav</td>\n",
       "      <td>Anger</td>\n",
       "      <td>15</td>\n",
       "      <td>m</td>\n",
       "      <td>1.945375</td>\n",
       "    </tr>\n",
       "    <tr>\n",
       "      <th>531</th>\n",
       "      <td>/datasets/nicolas_facchinetti/EmoDB/data/11b03...</td>\n",
       "      <td>11b03Td.wav</td>\n",
       "      <td>Sadness</td>\n",
       "      <td>11</td>\n",
       "      <td>m</td>\n",
       "      <td>5.905000</td>\n",
       "    </tr>\n",
       "    <tr>\n",
       "      <th>532</th>\n",
       "      <td>/datasets/nicolas_facchinetti/EmoDB/data/12b02...</td>\n",
       "      <td>12b02Na.wav</td>\n",
       "      <td>Neutral</td>\n",
       "      <td>12</td>\n",
       "      <td>m</td>\n",
       "      <td>2.982063</td>\n",
       "    </tr>\n",
       "    <tr>\n",
       "      <th>533</th>\n",
       "      <td>/datasets/nicolas_facchinetti/EmoDB/data/14b01...</td>\n",
       "      <td>14b01Eb.wav</td>\n",
       "      <td>Disgust</td>\n",
       "      <td>14</td>\n",
       "      <td>f</td>\n",
       "      <td>3.291750</td>\n",
       "    </tr>\n",
       "    <tr>\n",
       "      <th>534</th>\n",
       "      <td>/datasets/nicolas_facchinetti/EmoDB/data/08b01...</td>\n",
       "      <td>08b01Fe.wav</td>\n",
       "      <td>Happiness</td>\n",
       "      <td>8</td>\n",
       "      <td>f</td>\n",
       "      <td>2.515750</td>\n",
       "    </tr>\n",
       "  </tbody>\n",
       "</table>\n",
       "<p>535 rows × 6 columns</p>\n",
       "</div>"
      ],
      "text/plain": [
       "                                                  path     filename  \\\n",
       "0    /datasets/nicolas_facchinetti/EmoDB/data/13a05...  13a05Tc.wav   \n",
       "1    /datasets/nicolas_facchinetti/EmoDB/data/14b09...  14b09Ac.wav   \n",
       "2    /datasets/nicolas_facchinetti/EmoDB/data/11b02...  11b02Na.wav   \n",
       "3    /datasets/nicolas_facchinetti/EmoDB/data/09b03...  09b03Fd.wav   \n",
       "4    /datasets/nicolas_facchinetti/EmoDB/data/16b10...  16b10Fb.wav   \n",
       "..                                                 ...          ...   \n",
       "530  /datasets/nicolas_facchinetti/EmoDB/data/15a04...  15a04Wa.wav   \n",
       "531  /datasets/nicolas_facchinetti/EmoDB/data/11b03...  11b03Td.wav   \n",
       "532  /datasets/nicolas_facchinetti/EmoDB/data/12b02...  12b02Na.wav   \n",
       "533  /datasets/nicolas_facchinetti/EmoDB/data/14b01...  14b01Eb.wav   \n",
       "534  /datasets/nicolas_facchinetti/EmoDB/data/08b01...  08b01Fe.wav   \n",
       "\n",
       "         label  actor gender    length  \n",
       "0      Sadness     13      f  4.451375  \n",
       "1         Fear     14      f  2.287688  \n",
       "2      Neutral     11      m  2.698812  \n",
       "3    Happiness      9      f  3.312500  \n",
       "4    Happiness     16      f  2.583500  \n",
       "..         ...    ...    ...       ...  \n",
       "530      Anger     15      m  1.945375  \n",
       "531    Sadness     11      m  5.905000  \n",
       "532    Neutral     12      m  2.982063  \n",
       "533    Disgust     14      f  3.291750  \n",
       "534  Happiness      8      f  2.515750  \n",
       "\n",
       "[535 rows x 6 columns]"
      ]
     },
     "execution_count": 28,
     "metadata": {},
     "output_type": "execute_result"
    }
   ],
   "source": [
    "emodb"
   ]
  },
  {
   "cell_type": "code",
   "execution_count": 29,
   "id": "40368274",
   "metadata": {},
   "outputs": [
    {
     "data": {
      "text/html": [
       "<div>\n",
       "<style scoped>\n",
       "    .dataframe tbody tr th:only-of-type {\n",
       "        vertical-align: middle;\n",
       "    }\n",
       "\n",
       "    .dataframe tbody tr th {\n",
       "        vertical-align: top;\n",
       "    }\n",
       "\n",
       "    .dataframe thead th {\n",
       "        text-align: right;\n",
       "    }\n",
       "</style>\n",
       "<table border=\"1\" class=\"dataframe\">\n",
       "  <thead>\n",
       "    <tr style=\"text-align: right;\">\n",
       "      <th></th>\n",
       "      <th>path</th>\n",
       "      <th>filename</th>\n",
       "      <th>label</th>\n",
       "      <th>actor</th>\n",
       "      <th>gender</th>\n",
       "      <th>length</th>\n",
       "    </tr>\n",
       "  </thead>\n",
       "  <tbody>\n",
       "    <tr>\n",
       "      <th>0</th>\n",
       "      <td>/datasets/nicolas_facchinetti/RAVDESS/data/Act...</td>\n",
       "      <td>03-01-05-01-02-01-15.wav</td>\n",
       "      <td>angry</td>\n",
       "      <td>Actor_15</td>\n",
       "      <td>m</td>\n",
       "      <td>3.703708</td>\n",
       "    </tr>\n",
       "    <tr>\n",
       "      <th>1</th>\n",
       "      <td>/datasets/nicolas_facchinetti/RAVDESS/data/Act...</td>\n",
       "      <td>03-01-08-01-02-02-15.wav</td>\n",
       "      <td>surprised</td>\n",
       "      <td>Actor_15</td>\n",
       "      <td>m</td>\n",
       "      <td>3.370042</td>\n",
       "    </tr>\n",
       "    <tr>\n",
       "      <th>2</th>\n",
       "      <td>/datasets/nicolas_facchinetti/RAVDESS/data/Act...</td>\n",
       "      <td>03-01-07-02-02-02-15.wav</td>\n",
       "      <td>disgust</td>\n",
       "      <td>Actor_15</td>\n",
       "      <td>m</td>\n",
       "      <td>3.470146</td>\n",
       "    </tr>\n",
       "    <tr>\n",
       "      <th>3</th>\n",
       "      <td>/datasets/nicolas_facchinetti/RAVDESS/data/Act...</td>\n",
       "      <td>03-01-04-01-02-01-15.wav</td>\n",
       "      <td>sad</td>\n",
       "      <td>Actor_15</td>\n",
       "      <td>m</td>\n",
       "      <td>3.303313</td>\n",
       "    </tr>\n",
       "    <tr>\n",
       "      <th>4</th>\n",
       "      <td>/datasets/nicolas_facchinetti/RAVDESS/data/Act...</td>\n",
       "      <td>03-01-03-01-02-01-15.wav</td>\n",
       "      <td>happy</td>\n",
       "      <td>Actor_15</td>\n",
       "      <td>m</td>\n",
       "      <td>3.336667</td>\n",
       "    </tr>\n",
       "    <tr>\n",
       "      <th>...</th>\n",
       "      <td>...</td>\n",
       "      <td>...</td>\n",
       "      <td>...</td>\n",
       "      <td>...</td>\n",
       "      <td>...</td>\n",
       "      <td>...</td>\n",
       "    </tr>\n",
       "    <tr>\n",
       "      <th>1435</th>\n",
       "      <td>/datasets/nicolas_facchinetti/RAVDESS/data/Act...</td>\n",
       "      <td>03-01-06-02-01-02-13.wav</td>\n",
       "      <td>fearful</td>\n",
       "      <td>Actor_13</td>\n",
       "      <td>m</td>\n",
       "      <td>3.269938</td>\n",
       "    </tr>\n",
       "    <tr>\n",
       "      <th>1436</th>\n",
       "      <td>/datasets/nicolas_facchinetti/RAVDESS/data/Act...</td>\n",
       "      <td>03-01-02-01-02-01-13.wav</td>\n",
       "      <td>calm</td>\n",
       "      <td>Actor_13</td>\n",
       "      <td>m</td>\n",
       "      <td>3.136458</td>\n",
       "    </tr>\n",
       "    <tr>\n",
       "      <th>1437</th>\n",
       "      <td>/datasets/nicolas_facchinetti/RAVDESS/data/Act...</td>\n",
       "      <td>03-01-04-01-01-02-13.wav</td>\n",
       "      <td>sad</td>\n",
       "      <td>Actor_13</td>\n",
       "      <td>m</td>\n",
       "      <td>3.536854</td>\n",
       "    </tr>\n",
       "    <tr>\n",
       "      <th>1438</th>\n",
       "      <td>/datasets/nicolas_facchinetti/RAVDESS/data/Act...</td>\n",
       "      <td>03-01-08-01-02-02-13.wav</td>\n",
       "      <td>surprised</td>\n",
       "      <td>Actor_13</td>\n",
       "      <td>m</td>\n",
       "      <td>3.036375</td>\n",
       "    </tr>\n",
       "    <tr>\n",
       "      <th>1439</th>\n",
       "      <td>/datasets/nicolas_facchinetti/RAVDESS/data/Act...</td>\n",
       "      <td>03-01-07-01-01-02-13.wav</td>\n",
       "      <td>disgust</td>\n",
       "      <td>Actor_13</td>\n",
       "      <td>m</td>\n",
       "      <td>3.169833</td>\n",
       "    </tr>\n",
       "  </tbody>\n",
       "</table>\n",
       "<p>1440 rows × 6 columns</p>\n",
       "</div>"
      ],
      "text/plain": [
       "                                                   path  \\\n",
       "0     /datasets/nicolas_facchinetti/RAVDESS/data/Act...   \n",
       "1     /datasets/nicolas_facchinetti/RAVDESS/data/Act...   \n",
       "2     /datasets/nicolas_facchinetti/RAVDESS/data/Act...   \n",
       "3     /datasets/nicolas_facchinetti/RAVDESS/data/Act...   \n",
       "4     /datasets/nicolas_facchinetti/RAVDESS/data/Act...   \n",
       "...                                                 ...   \n",
       "1435  /datasets/nicolas_facchinetti/RAVDESS/data/Act...   \n",
       "1436  /datasets/nicolas_facchinetti/RAVDESS/data/Act...   \n",
       "1437  /datasets/nicolas_facchinetti/RAVDESS/data/Act...   \n",
       "1438  /datasets/nicolas_facchinetti/RAVDESS/data/Act...   \n",
       "1439  /datasets/nicolas_facchinetti/RAVDESS/data/Act...   \n",
       "\n",
       "                      filename      label     actor gender    length  \n",
       "0     03-01-05-01-02-01-15.wav      angry  Actor_15      m  3.703708  \n",
       "1     03-01-08-01-02-02-15.wav  surprised  Actor_15      m  3.370042  \n",
       "2     03-01-07-02-02-02-15.wav    disgust  Actor_15      m  3.470146  \n",
       "3     03-01-04-01-02-01-15.wav        sad  Actor_15      m  3.303313  \n",
       "4     03-01-03-01-02-01-15.wav      happy  Actor_15      m  3.336667  \n",
       "...                        ...        ...       ...    ...       ...  \n",
       "1435  03-01-06-02-01-02-13.wav    fearful  Actor_13      m  3.269938  \n",
       "1436  03-01-02-01-02-01-13.wav       calm  Actor_13      m  3.136458  \n",
       "1437  03-01-04-01-01-02-13.wav        sad  Actor_13      m  3.536854  \n",
       "1438  03-01-08-01-02-02-13.wav  surprised  Actor_13      m  3.036375  \n",
       "1439  03-01-07-01-01-02-13.wav    disgust  Actor_13      m  3.169833  \n",
       "\n",
       "[1440 rows x 6 columns]"
      ]
     },
     "execution_count": 29,
     "metadata": {},
     "output_type": "execute_result"
    }
   ],
   "source": [
    "ravdess"
   ]
  },
  {
   "cell_type": "code",
   "execution_count": 30,
   "id": "439e68db",
   "metadata": {},
   "outputs": [
    {
     "data": {
      "text/html": [
       "<div>\n",
       "<style scoped>\n",
       "    .dataframe tbody tr th:only-of-type {\n",
       "        vertical-align: middle;\n",
       "    }\n",
       "\n",
       "    .dataframe tbody tr th {\n",
       "        vertical-align: top;\n",
       "    }\n",
       "\n",
       "    .dataframe thead th {\n",
       "        text-align: right;\n",
       "    }\n",
       "</style>\n",
       "<table border=\"1\" class=\"dataframe\">\n",
       "  <thead>\n",
       "    <tr style=\"text-align: right;\">\n",
       "      <th></th>\n",
       "      <th>path</th>\n",
       "      <th>filename</th>\n",
       "      <th>label</th>\n",
       "      <th>actor</th>\n",
       "      <th>gender</th>\n",
       "      <th>length</th>\n",
       "    </tr>\n",
       "  </thead>\n",
       "  <tbody>\n",
       "    <tr>\n",
       "      <th>0</th>\n",
       "      <td>/datasets/nicolas_facchinetti/EMOVO/data/m3/gi...</td>\n",
       "      <td>gio-m3-l1.wav</td>\n",
       "      <td>gioia</td>\n",
       "      <td>m3</td>\n",
       "      <td>m</td>\n",
       "      <td>5.205333</td>\n",
       "    </tr>\n",
       "    <tr>\n",
       "      <th>1</th>\n",
       "      <td>/datasets/nicolas_facchinetti/EMOVO/data/m3/gi...</td>\n",
       "      <td>gio-m3-b3.wav</td>\n",
       "      <td>gioia</td>\n",
       "      <td>m3</td>\n",
       "      <td>m</td>\n",
       "      <td>1.877333</td>\n",
       "    </tr>\n",
       "    <tr>\n",
       "      <th>2</th>\n",
       "      <td>/datasets/nicolas_facchinetti/EMOVO/data/m3/pa...</td>\n",
       "      <td>pau-m3-n5.wav</td>\n",
       "      <td>paura</td>\n",
       "      <td>m3</td>\n",
       "      <td>m</td>\n",
       "      <td>4.394667</td>\n",
       "    </tr>\n",
       "    <tr>\n",
       "      <th>3</th>\n",
       "      <td>/datasets/nicolas_facchinetti/EMOVO/data/m3/tr...</td>\n",
       "      <td>tri-m3-b2.wav</td>\n",
       "      <td>tristezza</td>\n",
       "      <td>m3</td>\n",
       "      <td>m</td>\n",
       "      <td>2.773333</td>\n",
       "    </tr>\n",
       "    <tr>\n",
       "      <th>4</th>\n",
       "      <td>/datasets/nicolas_facchinetti/EMOVO/data/m3/tr...</td>\n",
       "      <td>tri-m3-l4.wav</td>\n",
       "      <td>tristezza</td>\n",
       "      <td>m3</td>\n",
       "      <td>m</td>\n",
       "      <td>3.370667</td>\n",
       "    </tr>\n",
       "    <tr>\n",
       "      <th>...</th>\n",
       "      <td>...</td>\n",
       "      <td>...</td>\n",
       "      <td>...</td>\n",
       "      <td>...</td>\n",
       "      <td>...</td>\n",
       "      <td>...</td>\n",
       "    </tr>\n",
       "    <tr>\n",
       "      <th>583</th>\n",
       "      <td>/datasets/nicolas_facchinetti/EMOVO/data/m2/di...</td>\n",
       "      <td>dis-m2-b3.wav</td>\n",
       "      <td>disgusto</td>\n",
       "      <td>m2</td>\n",
       "      <td>m</td>\n",
       "      <td>2.474667</td>\n",
       "    </tr>\n",
       "    <tr>\n",
       "      <th>584</th>\n",
       "      <td>/datasets/nicolas_facchinetti/EMOVO/data/m2/so...</td>\n",
       "      <td>sor-m2-d1.wav</td>\n",
       "      <td>sorpresa</td>\n",
       "      <td>m2</td>\n",
       "      <td>m</td>\n",
       "      <td>2.090667</td>\n",
       "    </tr>\n",
       "    <tr>\n",
       "      <th>585</th>\n",
       "      <td>/datasets/nicolas_facchinetti/EMOVO/data/m2/pa...</td>\n",
       "      <td>pau-m2-b3.wav</td>\n",
       "      <td>paura</td>\n",
       "      <td>m2</td>\n",
       "      <td>m</td>\n",
       "      <td>1.962667</td>\n",
       "    </tr>\n",
       "    <tr>\n",
       "      <th>586</th>\n",
       "      <td>/datasets/nicolas_facchinetti/EMOVO/data/m2/tr...</td>\n",
       "      <td>tri-m2-n2.wav</td>\n",
       "      <td>tristezza</td>\n",
       "      <td>m2</td>\n",
       "      <td>m</td>\n",
       "      <td>2.368000</td>\n",
       "    </tr>\n",
       "    <tr>\n",
       "      <th>587</th>\n",
       "      <td>/datasets/nicolas_facchinetti/EMOVO/data/m2/ra...</td>\n",
       "      <td>rab-m2-l1.wav</td>\n",
       "      <td>rabbia</td>\n",
       "      <td>m2</td>\n",
       "      <td>m</td>\n",
       "      <td>5.461333</td>\n",
       "    </tr>\n",
       "  </tbody>\n",
       "</table>\n",
       "<p>588 rows × 6 columns</p>\n",
       "</div>"
      ],
      "text/plain": [
       "                                                  path       filename  \\\n",
       "0    /datasets/nicolas_facchinetti/EMOVO/data/m3/gi...  gio-m3-l1.wav   \n",
       "1    /datasets/nicolas_facchinetti/EMOVO/data/m3/gi...  gio-m3-b3.wav   \n",
       "2    /datasets/nicolas_facchinetti/EMOVO/data/m3/pa...  pau-m3-n5.wav   \n",
       "3    /datasets/nicolas_facchinetti/EMOVO/data/m3/tr...  tri-m3-b2.wav   \n",
       "4    /datasets/nicolas_facchinetti/EMOVO/data/m3/tr...  tri-m3-l4.wav   \n",
       "..                                                 ...            ...   \n",
       "583  /datasets/nicolas_facchinetti/EMOVO/data/m2/di...  dis-m2-b3.wav   \n",
       "584  /datasets/nicolas_facchinetti/EMOVO/data/m2/so...  sor-m2-d1.wav   \n",
       "585  /datasets/nicolas_facchinetti/EMOVO/data/m2/pa...  pau-m2-b3.wav   \n",
       "586  /datasets/nicolas_facchinetti/EMOVO/data/m2/tr...  tri-m2-n2.wav   \n",
       "587  /datasets/nicolas_facchinetti/EMOVO/data/m2/ra...  rab-m2-l1.wav   \n",
       "\n",
       "         label actor gender    length  \n",
       "0        gioia    m3      m  5.205333  \n",
       "1        gioia    m3      m  1.877333  \n",
       "2        paura    m3      m  4.394667  \n",
       "3    tristezza    m3      m  2.773333  \n",
       "4    tristezza    m3      m  3.370667  \n",
       "..         ...   ...    ...       ...  \n",
       "583   disgusto    m2      m  2.474667  \n",
       "584   sorpresa    m2      m  2.090667  \n",
       "585      paura    m2      m  1.962667  \n",
       "586  tristezza    m2      m  2.368000  \n",
       "587     rabbia    m2      m  5.461333  \n",
       "\n",
       "[588 rows x 6 columns]"
      ]
     },
     "execution_count": 30,
     "metadata": {},
     "output_type": "execute_result"
    }
   ],
   "source": [
    "emovo"
   ]
  },
  {
   "cell_type": "code",
   "execution_count": 106,
   "id": "ae7a9126",
   "metadata": {},
   "outputs": [
    {
     "data": {
      "text/html": [
       "<div>\n",
       "<style scoped>\n",
       "    .dataframe tbody tr th:only-of-type {\n",
       "        vertical-align: middle;\n",
       "    }\n",
       "\n",
       "    .dataframe tbody tr th {\n",
       "        vertical-align: top;\n",
       "    }\n",
       "\n",
       "    .dataframe thead th {\n",
       "        text-align: right;\n",
       "    }\n",
       "</style>\n",
       "<table border=\"1\" class=\"dataframe\">\n",
       "  <thead>\n",
       "    <tr style=\"text-align: right;\">\n",
       "      <th></th>\n",
       "      <th>path</th>\n",
       "      <th>filename</th>\n",
       "      <th>label</th>\n",
       "      <th>actor</th>\n",
       "      <th>gender</th>\n",
       "      <th>length</th>\n",
       "    </tr>\n",
       "  </thead>\n",
       "  <tbody>\n",
       "    <tr>\n",
       "      <th>0</th>\n",
       "      <td>/datasets/nicolas_facchinetti/EmoDB/data/13a05...</td>\n",
       "      <td>13a05Tc.wav</td>\n",
       "      <td>Sadness</td>\n",
       "      <td>13</td>\n",
       "      <td>f</td>\n",
       "      <td>4.451375</td>\n",
       "    </tr>\n",
       "    <tr>\n",
       "      <th>1</th>\n",
       "      <td>/datasets/nicolas_facchinetti/EmoDB/data/14b09...</td>\n",
       "      <td>14b09Ac.wav</td>\n",
       "      <td>Fear</td>\n",
       "      <td>14</td>\n",
       "      <td>f</td>\n",
       "      <td>2.287688</td>\n",
       "    </tr>\n",
       "    <tr>\n",
       "      <th>2</th>\n",
       "      <td>/datasets/nicolas_facchinetti/EmoDB/data/11b02...</td>\n",
       "      <td>11b02Na.wav</td>\n",
       "      <td>Neutral</td>\n",
       "      <td>11</td>\n",
       "      <td>m</td>\n",
       "      <td>2.698812</td>\n",
       "    </tr>\n",
       "    <tr>\n",
       "      <th>3</th>\n",
       "      <td>/datasets/nicolas_facchinetti/EmoDB/data/09b03...</td>\n",
       "      <td>09b03Fd.wav</td>\n",
       "      <td>Happiness</td>\n",
       "      <td>9</td>\n",
       "      <td>f</td>\n",
       "      <td>3.312500</td>\n",
       "    </tr>\n",
       "    <tr>\n",
       "      <th>4</th>\n",
       "      <td>/datasets/nicolas_facchinetti/EmoDB/data/16b10...</td>\n",
       "      <td>16b10Fb.wav</td>\n",
       "      <td>Happiness</td>\n",
       "      <td>16</td>\n",
       "      <td>f</td>\n",
       "      <td>2.583500</td>\n",
       "    </tr>\n",
       "    <tr>\n",
       "      <th>...</th>\n",
       "      <td>...</td>\n",
       "      <td>...</td>\n",
       "      <td>...</td>\n",
       "      <td>...</td>\n",
       "      <td>...</td>\n",
       "      <td>...</td>\n",
       "    </tr>\n",
       "    <tr>\n",
       "      <th>1435</th>\n",
       "      <td>/datasets/nicolas_facchinetti/RAVDESS/data/Act...</td>\n",
       "      <td>03-01-06-02-01-02-13.wav</td>\n",
       "      <td>fearful</td>\n",
       "      <td>Actor_13</td>\n",
       "      <td>m</td>\n",
       "      <td>3.269938</td>\n",
       "    </tr>\n",
       "    <tr>\n",
       "      <th>1436</th>\n",
       "      <td>/datasets/nicolas_facchinetti/RAVDESS/data/Act...</td>\n",
       "      <td>03-01-02-01-02-01-13.wav</td>\n",
       "      <td>calm</td>\n",
       "      <td>Actor_13</td>\n",
       "      <td>m</td>\n",
       "      <td>3.136458</td>\n",
       "    </tr>\n",
       "    <tr>\n",
       "      <th>1437</th>\n",
       "      <td>/datasets/nicolas_facchinetti/RAVDESS/data/Act...</td>\n",
       "      <td>03-01-04-01-01-02-13.wav</td>\n",
       "      <td>sad</td>\n",
       "      <td>Actor_13</td>\n",
       "      <td>m</td>\n",
       "      <td>3.536854</td>\n",
       "    </tr>\n",
       "    <tr>\n",
       "      <th>1438</th>\n",
       "      <td>/datasets/nicolas_facchinetti/RAVDESS/data/Act...</td>\n",
       "      <td>03-01-08-01-02-02-13.wav</td>\n",
       "      <td>surprised</td>\n",
       "      <td>Actor_13</td>\n",
       "      <td>m</td>\n",
       "      <td>3.036375</td>\n",
       "    </tr>\n",
       "    <tr>\n",
       "      <th>1439</th>\n",
       "      <td>/datasets/nicolas_facchinetti/RAVDESS/data/Act...</td>\n",
       "      <td>03-01-07-01-01-02-13.wav</td>\n",
       "      <td>disgust</td>\n",
       "      <td>Actor_13</td>\n",
       "      <td>m</td>\n",
       "      <td>3.169833</td>\n",
       "    </tr>\n",
       "  </tbody>\n",
       "</table>\n",
       "<p>2563 rows × 6 columns</p>\n",
       "</div>"
      ],
      "text/plain": [
       "                                                   path  \\\n",
       "0     /datasets/nicolas_facchinetti/EmoDB/data/13a05...   \n",
       "1     /datasets/nicolas_facchinetti/EmoDB/data/14b09...   \n",
       "2     /datasets/nicolas_facchinetti/EmoDB/data/11b02...   \n",
       "3     /datasets/nicolas_facchinetti/EmoDB/data/09b03...   \n",
       "4     /datasets/nicolas_facchinetti/EmoDB/data/16b10...   \n",
       "...                                                 ...   \n",
       "1435  /datasets/nicolas_facchinetti/RAVDESS/data/Act...   \n",
       "1436  /datasets/nicolas_facchinetti/RAVDESS/data/Act...   \n",
       "1437  /datasets/nicolas_facchinetti/RAVDESS/data/Act...   \n",
       "1438  /datasets/nicolas_facchinetti/RAVDESS/data/Act...   \n",
       "1439  /datasets/nicolas_facchinetti/RAVDESS/data/Act...   \n",
       "\n",
       "                      filename      label     actor gender    length  \n",
       "0                  13a05Tc.wav    Sadness        13      f  4.451375  \n",
       "1                  14b09Ac.wav       Fear        14      f  2.287688  \n",
       "2                  11b02Na.wav    Neutral        11      m  2.698812  \n",
       "3                  09b03Fd.wav  Happiness         9      f  3.312500  \n",
       "4                  16b10Fb.wav  Happiness        16      f  2.583500  \n",
       "...                        ...        ...       ...    ...       ...  \n",
       "1435  03-01-06-02-01-02-13.wav    fearful  Actor_13      m  3.269938  \n",
       "1436  03-01-02-01-02-01-13.wav       calm  Actor_13      m  3.136458  \n",
       "1437  03-01-04-01-01-02-13.wav        sad  Actor_13      m  3.536854  \n",
       "1438  03-01-08-01-02-02-13.wav  surprised  Actor_13      m  3.036375  \n",
       "1439  03-01-07-01-01-02-13.wav    disgust  Actor_13      m  3.169833  \n",
       "\n",
       "[2563 rows x 6 columns]"
      ]
     },
     "execution_count": 106,
     "metadata": {},
     "output_type": "execute_result"
    }
   ],
   "source": [
    "frames = {'emodb': emodb, 'emovo': emovo, 'ravdess': ravdess}\n",
    "\n",
    "result = pd.concat(frames.values())\n",
    "result"
   ]
  },
  {
   "cell_type": "markdown",
   "id": "f02af7bf",
   "metadata": {},
   "source": [
    "# Example fetures extraction"
   ]
  },
  {
   "cell_type": "code",
   "execution_count": 86,
   "id": "c39bc8ae",
   "metadata": {},
   "outputs": [],
   "source": [
    "example_audio = emodb.path[0]\n",
    "samples, sample_rate = librosa.load(example_audio, sr=sr)"
   ]
  },
  {
   "cell_type": "code",
   "execution_count": 87,
   "id": "24a8b03b",
   "metadata": {},
   "outputs": [
    {
     "data": {
      "text/plain": [
       "<librosa.display.AdaptiveWaveplot at 0x7fc36d52fee0>"
      ]
     },
     "execution_count": 87,
     "metadata": {},
     "output_type": "execute_result"
    },
    {
     "data": {
      "image/png": "[encoded data removed]",
      "text/plain": [
       "<Figure size 1000x700 with 1 Axes>"
      ]
     },
     "metadata": {},
     "output_type": "display_data"
    }
   ],
   "source": [
    "import librosa.display\n",
    "import matplotlib.pyplot as plt\n",
    "\n",
    "plt.figure(figsize=(10,7))\n",
    "plt.axis('off')\n",
    "librosa.display.waveshow(samples, sr=sample_rate)"
   ]
  },
  {
   "cell_type": "code",
   "execution_count": 88,
   "id": "3e1eaa6f",
   "metadata": {},
   "outputs": [
    {
     "name": "stderr",
     "output_type": "stream",
     "text": [
      "/home/nicolas/.conda/envs/thesis/lib/python3.9/site-packages/librosa/util/decorators.py:88: UserWarning: Trying to display complex-valued input. Showing magnitude instead.\n",
      "  return f(*args, **kwargs)\n"
     ]
    },
    {
     "data": {
      "text/plain": [
       "<matplotlib.collections.QuadMesh at 0x7fc36d3bdbe0>"
      ]
     },
     "execution_count": 88,
     "metadata": {},
     "output_type": "execute_result"
    },
    {
     "data": {
      "image/png": "[encoded data removed]",
      "text/plain": [
       "<Figure size 640x480 with 1 Axes>"
      ]
     },
     "metadata": {},
     "output_type": "display_data"
    }
   ],
   "source": [
    "# convert to spectrogram\n",
    "sgram = librosa.stft(samples, n_fft=2048, hop_length=512)\n",
    "librosa.display.specshow(sgram)"
   ]
  },
  {
   "cell_type": "code",
   "execution_count": 89,
   "id": "663119d3",
   "metadata": {},
   "outputs": [
    {
     "name": "stderr",
     "output_type": "stream",
     "text": [
      "/tmp/ipykernel_1770386/29967690.py:2: FutureWarning: Pass y=[-0.0365614  -0.04392435 -0.03795066 ... -0.00020954 -0.00081818\n",
      "  0.        ] as keyword args. From version 0.10 passing these as positional arguments will result in an error\n",
      "  mel_scale_sgram = librosa.feature.melspectrogram(samples, sr=sample_rate, n_fft=2048, hop_length=512, n_mels=64)\n"
     ]
    },
    {
     "data": {
      "text/plain": [
       "<matplotlib.collections.QuadMesh at 0x7fc36d3ed550>"
      ]
     },
     "execution_count": 89,
     "metadata": {},
     "output_type": "execute_result"
    },
    {
     "data": {
      "image/png": "[encoded data removed]",
      "text/plain": [
       "<Figure size 640x480 with 1 Axes>"
      ]
     },
     "metadata": {},
     "output_type": "display_data"
    }
   ],
   "source": [
    "# use the mel-scale instead of raw frequency\n",
    "mel_scale_sgram = librosa.feature.melspectrogram(samples, sr=sample_rate, n_fft=2048, hop_length=512, n_mels=64)\n",
    "librosa.display.specshow(mel_scale_sgram)"
   ]
  },
  {
   "cell_type": "code",
   "execution_count": 90,
   "id": "5042a29a",
   "metadata": {},
   "outputs": [
    {
     "data": {
      "text/plain": [
       "<matplotlib.collections.QuadMesh at 0x7fc36d3a4a00>"
      ]
     },
     "execution_count": 90,
     "metadata": {},
     "output_type": "execute_result"
    },
    {
     "data": {
      "image/png": "[encoded data removed]",
      "text/plain": [
       "<Figure size 640x480 with 1 Axes>"
      ]
     },
     "metadata": {},
     "output_type": "display_data"
    }
   ],
   "source": [
    "# use the decibel scale to get the final Mel Spectrogram\n",
    "log_mel_sgram = librosa.amplitude_to_db(mel_scale_sgram, ref=np.min)\n",
    "librosa.display.specshow(log_mel_sgram, sr=sample_rate)"
   ]
  },
  {
   "cell_type": "markdown",
   "id": "3ce9732a",
   "metadata": {},
   "source": [
    "# Length analysis"
   ]
  },
  {
   "cell_type": "code",
   "execution_count": 39,
   "id": "cdb58250",
   "metadata": {},
   "outputs": [
    {
     "data": {
      "text/plain": [
       "count    2563.000000\n",
       "mean        3.375415\n",
       "std         0.924356\n",
       "min         1.225500\n",
       "25%         2.885187\n",
       "50%         3.536854\n",
       "75%         3.837167\n",
       "max        13.994667\n",
       "Name: length, dtype: float64"
      ]
     },
     "execution_count": 39,
     "metadata": {},
     "output_type": "execute_result"
    }
   ],
   "source": [
    "result[\"length\"].describe()"
   ]
  },
  {
   "cell_type": "markdown",
   "id": "be2c1e52",
   "metadata": {},
   "source": [
    "Let's keep a length equal to 75% of the data, pad the shorter while split the longer. Throw away samples below min lenght"
   ]
  },
  {
   "cell_type": "code",
   "execution_count": 94,
   "id": "16872bd7",
   "metadata": {},
   "outputs": [
    {
     "data": {
      "text/plain": [
       "1.2255"
      ]
     },
     "execution_count": 94,
     "metadata": {},
     "output_type": "execute_result"
    }
   ],
   "source": [
    "target_l = result[\"length\"].describe()[\"75%\"]\n",
    "buffer_length = target_l*sr\n",
    "min_l = result[\"length\"].describe()[\"min\"]"
   ]
  },
  {
   "cell_type": "code",
   "execution_count": 76,
   "id": "2c071221",
   "metadata": {},
   "outputs": [
    {
     "data": {
      "text/plain": [
       "375    /datasets/nicolas_facchinetti/EmoDB/data/12a02...\n",
       "Name: path, dtype: object"
      ]
     },
     "execution_count": 76,
     "metadata": {},
     "output_type": "execute_result"
    }
   ],
   "source": [
    "min_l = result[\"length\"].describe()[\"min\"]\n",
    "min_s = result.loc[result['length'] == min_l, \"path\"]\n",
    "min_s"
   ]
  },
  {
   "cell_type": "code",
   "execution_count": 95,
   "id": "69d50ca7",
   "metadata": {},
   "outputs": [],
   "source": [
    "short_sample, sr = librosa.load(min_s[375])"
   ]
  },
  {
   "cell_type": "code",
   "execution_count": 96,
   "id": "a2b74099",
   "metadata": {},
   "outputs": [
    {
     "data": {
      "text/plain": [
       "(array([0., 0., 0., ..., 0., 0., 0.], dtype=float32), 3.837142857142857)"
      ]
     },
     "execution_count": 96,
     "metadata": {},
     "output_type": "execute_result"
    }
   ],
   "source": [
    "padded = librosa.util.pad_center(short_sample, size=buffer_length)\n",
    "padded, len(padded)/sr"
   ]
  },
  {
   "cell_type": "code",
   "execution_count": 104,
   "id": "d86358b3",
   "metadata": {},
   "outputs": [
    {
     "data": {
      "text/plain": [
       "<matplotlib.collections.QuadMesh at 0x7fc36d325e80>"
      ]
     },
     "execution_count": 104,
     "metadata": {},
     "output_type": "execute_result"
    },
    {
     "data": {
      "image/png": "[encoded data removed]",
      "text/plain": [
       "<Figure size 640x480 with 1 Axes>"
      ]
     },
     "metadata": {},
     "output_type": "display_data"
    }
   ],
   "source": [
    "mels = librosa.feature.melspectrogram(y=padded, sr=sr, n_fft=2048, hop_length=512, n_mels=128)\n",
    "log = librosa.amplitude_to_db(mels, ref=np.min)\n",
    "librosa.display.specshow(log, sr=sample_rate)"
   ]
  },
  {
   "cell_type": "code",
   "execution_count": 81,
   "id": "48609978",
   "metadata": {},
   "outputs": [
    {
     "data": {
      "text/plain": [
       "423    /datasets/nicolas_facchinetti/EMOVO/data/m1/tr...\n",
       "Name: path, dtype: object"
      ]
     },
     "execution_count": 81,
     "metadata": {},
     "output_type": "execute_result"
    }
   ],
   "source": [
    "max_l = result[\"length\"].describe()[\"max\"]\n",
    "max_s = result.loc[result['length'] == max_l, \"path\"]\n",
    "max_s"
   ]
  },
  {
   "cell_type": "code",
   "execution_count": 99,
   "id": "04690c10",
   "metadata": {},
   "outputs": [
    {
     "data": {
      "text/plain": [
       "(array([3.5495430e-04, 4.9356360e-04, 1.8817498e-04, ..., 3.8151650e-04,\n",
       "        1.0554499e-05, 0.0000000e+00], dtype=float32),\n",
       " 13.99469387755102)"
      ]
     },
     "execution_count": 99,
     "metadata": {},
     "output_type": "execute_result"
    }
   ],
   "source": [
    "long_sample, _ = librosa.load(max_s[423], sr=sr)\n",
    "long_sample, len(long_sample)/sr"
   ]
  },
  {
   "cell_type": "code",
   "execution_count": 100,
   "id": "196e43c8",
   "metadata": {},
   "outputs": [],
   "source": [
    "def split_sample(audio, length, minimum):\n",
    "    samples_total = len(audio)\n",
    "    samples_wrote = 0\n",
    "    segments = []\n",
    "    \n",
    "    to_process = samples_total - samples_wrote\n",
    "    while to_process > minimum:\n",
    "        segment = audio[samples_wrote : (samples_wrote + length)]\n",
    "        segments.append(segment)\n",
    "        samples_wrote += length\n",
    "        to_process = samples_total - samples_wrote\n",
    "    return segments"
   ]
  },
  {
   "cell_type": "code",
   "execution_count": 102,
   "id": "eef39cfc",
   "metadata": {},
   "outputs": [
    {
     "data": {
      "text/plain": [
       "[3.837142857142857, 3.837142857142857, 3.837142857142857, 2.483265306122449]"
      ]
     },
     "execution_count": 102,
     "metadata": {},
     "output_type": "execute_result"
    }
   ],
   "source": [
    "splitted = split_sample(long_sample, int(buffer_length), int(min_l))\n",
    "[len(s)/sr for s in splitted]"
   ]
  },
  {
   "cell_type": "markdown",
   "id": "e888643e",
   "metadata": {},
   "source": [
    "# Dataset processing"
   ]
  },
  {
   "cell_type": "markdown",
   "id": "68096aa2",
   "metadata": {},
   "source": [
    "Split and pad all the samples to the same length, then extract log Mel-specotrograms from all the samples"
   ]
  },
  {
   "cell_type": "code",
   "execution_count": 112,
   "id": "60dc97d5",
   "metadata": {},
   "outputs": [
    {
     "data": {
      "text/html": [
       "<div>\n",
       "<style scoped>\n",
       "    .dataframe tbody tr th:only-of-type {\n",
       "        vertical-align: middle;\n",
       "    }\n",
       "\n",
       "    .dataframe tbody tr th {\n",
       "        vertical-align: top;\n",
       "    }\n",
       "\n",
       "    .dataframe thead th {\n",
       "        text-align: right;\n",
       "    }\n",
       "</style>\n",
       "<table border=\"1\" class=\"dataframe\">\n",
       "  <thead>\n",
       "    <tr style=\"text-align: right;\">\n",
       "      <th></th>\n",
       "      <th>path</th>\n",
       "      <th>filename</th>\n",
       "      <th>label</th>\n",
       "      <th>actor</th>\n",
       "      <th>gender</th>\n",
       "      <th>length</th>\n",
       "    </tr>\n",
       "  </thead>\n",
       "  <tbody>\n",
       "    <tr>\n",
       "      <th>0</th>\n",
       "      <td>/datasets/nicolas_facchinetti/EmoDB/data/13a05...</td>\n",
       "      <td>13a05Tc.wav</td>\n",
       "      <td>Sadness</td>\n",
       "      <td>13</td>\n",
       "      <td>f</td>\n",
       "      <td>4.451375</td>\n",
       "    </tr>\n",
       "    <tr>\n",
       "      <th>1</th>\n",
       "      <td>/datasets/nicolas_facchinetti/EmoDB/data/14b09...</td>\n",
       "      <td>14b09Ac.wav</td>\n",
       "      <td>Fear</td>\n",
       "      <td>14</td>\n",
       "      <td>f</td>\n",
       "      <td>2.287688</td>\n",
       "    </tr>\n",
       "    <tr>\n",
       "      <th>2</th>\n",
       "      <td>/datasets/nicolas_facchinetti/EmoDB/data/11b02...</td>\n",
       "      <td>11b02Na.wav</td>\n",
       "      <td>Neutral</td>\n",
       "      <td>11</td>\n",
       "      <td>m</td>\n",
       "      <td>2.698812</td>\n",
       "    </tr>\n",
       "    <tr>\n",
       "      <th>3</th>\n",
       "      <td>/datasets/nicolas_facchinetti/EmoDB/data/09b03...</td>\n",
       "      <td>09b03Fd.wav</td>\n",
       "      <td>Happiness</td>\n",
       "      <td>9</td>\n",
       "      <td>f</td>\n",
       "      <td>3.312500</td>\n",
       "    </tr>\n",
       "    <tr>\n",
       "      <th>4</th>\n",
       "      <td>/datasets/nicolas_facchinetti/EmoDB/data/16b10...</td>\n",
       "      <td>16b10Fb.wav</td>\n",
       "      <td>Happiness</td>\n",
       "      <td>16</td>\n",
       "      <td>f</td>\n",
       "      <td>2.583500</td>\n",
       "    </tr>\n",
       "  </tbody>\n",
       "</table>\n",
       "</div>"
      ],
      "text/plain": [
       "                                                path     filename      label  \\\n",
       "0  /datasets/nicolas_facchinetti/EmoDB/data/13a05...  13a05Tc.wav    Sadness   \n",
       "1  /datasets/nicolas_facchinetti/EmoDB/data/14b09...  14b09Ac.wav       Fear   \n",
       "2  /datasets/nicolas_facchinetti/EmoDB/data/11b02...  11b02Na.wav    Neutral   \n",
       "3  /datasets/nicolas_facchinetti/EmoDB/data/09b03...  09b03Fd.wav  Happiness   \n",
       "4  /datasets/nicolas_facchinetti/EmoDB/data/16b10...  16b10Fb.wav  Happiness   \n",
       "\n",
       "  actor gender    length  \n",
       "0    13      f  4.451375  \n",
       "1    14      f  2.287688  \n",
       "2    11      m  2.698812  \n",
       "3     9      f  3.312500  \n",
       "4    16      f  2.583500  "
      ]
     },
     "execution_count": 112,
     "metadata": {},
     "output_type": "execute_result"
    }
   ],
   "source": [
    "result.head()"
   ]
  },
  {
   "cell_type": "code",
   "execution_count": 132,
   "id": "6b123a63",
   "metadata": {},
   "outputs": [],
   "source": [
    "def process_audio_files(metadata):\n",
    "    sgram_list = []\n",
    "    mod_data = []\n",
    "    for _, data in metadata.iterrows():\n",
    "        # load audio data\n",
    "        path = data[\"path\"]\n",
    "        samples, _ = librosa.load(path, sr=sr)\n",
    "        \n",
    "        # split larger segmtents\n",
    "        samples = [samples]\n",
    "        if data[\"length\"] >= buffer_length/sr:\n",
    "            samples = split_sample(samples[0], int(buffer_length), int(min_l))\n",
    "\n",
    "        # pad segments\n",
    "        for num, s in enumerate(samples):\n",
    "            padded = librosa.util.pad_center(s, size=buffer_length)\n",
    "\n",
    "            mod_data.append([data[\"path\"], data[\"filename\"], str(num), data[\"label\"], data[\"actor\"], data[\"gender\"]])\n",
    "\n",
    "            # compute log mel-spectrograms\n",
    "            mel_scale_sgram = librosa.feature.melspectrogram(y=padded, sr=sr, n_fft=2048, hop_length=512, n_mels=128)\n",
    "            log_mel_sgram = librosa.amplitude_to_db(mel_scale_sgram, ref=np.min)\n",
    "            sgram_list.append(log_mel_sgram)\n",
    "            \n",
    "    df_info_mod = pd.DataFrame(mod_data, columns=['path', 'filename', 'chunk', 'label', 'actor', 'gender'])\n",
    "    return sgram_list, df_info_mod"
   ]
  },
  {
   "cell_type": "code",
   "execution_count": 133,
   "id": "9cd4ca67",
   "metadata": {},
   "outputs": [],
   "source": [
    "elaborated_data = {}\n",
    "for dataset in frames:\n",
    "    sgram, df = process_audio_files(frames[dataset])\n",
    "    \n",
    "    elaborated_data[dataset] = {\"img\": sgram, \"df\":df}"
   ]
  },
  {
   "cell_type": "code",
   "execution_count": 175,
   "id": "b2b4720f",
   "metadata": {},
   "outputs": [
    {
     "data": {
      "text/html": [
       "<div>\n",
       "<style scoped>\n",
       "    .dataframe tbody tr th:only-of-type {\n",
       "        vertical-align: middle;\n",
       "    }\n",
       "\n",
       "    .dataframe tbody tr th {\n",
       "        vertical-align: top;\n",
       "    }\n",
       "\n",
       "    .dataframe thead th {\n",
       "        text-align: right;\n",
       "    }\n",
       "</style>\n",
       "<table border=\"1\" class=\"dataframe\">\n",
       "  <thead>\n",
       "    <tr style=\"text-align: right;\">\n",
       "      <th></th>\n",
       "      <th>path</th>\n",
       "      <th>filename</th>\n",
       "      <th>chunk</th>\n",
       "      <th>label</th>\n",
       "      <th>actor</th>\n",
       "      <th>gender</th>\n",
       "    </tr>\n",
       "  </thead>\n",
       "  <tbody>\n",
       "    <tr>\n",
       "      <th>0</th>\n",
       "      <td>/datasets/nicolas_facchinetti/EMOVO/data/m3/gi...</td>\n",
       "      <td>gio-m3-l1.wav</td>\n",
       "      <td>0</td>\n",
       "      <td>gioia</td>\n",
       "      <td>m3</td>\n",
       "      <td>m</td>\n",
       "    </tr>\n",
       "    <tr>\n",
       "      <th>1</th>\n",
       "      <td>/datasets/nicolas_facchinetti/EMOVO/data/m3/gi...</td>\n",
       "      <td>gio-m3-l1.wav</td>\n",
       "      <td>1</td>\n",
       "      <td>gioia</td>\n",
       "      <td>m3</td>\n",
       "      <td>m</td>\n",
       "    </tr>\n",
       "    <tr>\n",
       "      <th>2</th>\n",
       "      <td>/datasets/nicolas_facchinetti/EMOVO/data/m3/gi...</td>\n",
       "      <td>gio-m3-b3.wav</td>\n",
       "      <td>0</td>\n",
       "      <td>gioia</td>\n",
       "      <td>m3</td>\n",
       "      <td>m</td>\n",
       "    </tr>\n",
       "    <tr>\n",
       "      <th>3</th>\n",
       "      <td>/datasets/nicolas_facchinetti/EMOVO/data/m3/pa...</td>\n",
       "      <td>pau-m3-n5.wav</td>\n",
       "      <td>0</td>\n",
       "      <td>paura</td>\n",
       "      <td>m3</td>\n",
       "      <td>m</td>\n",
       "    </tr>\n",
       "    <tr>\n",
       "      <th>4</th>\n",
       "      <td>/datasets/nicolas_facchinetti/EMOVO/data/m3/pa...</td>\n",
       "      <td>pau-m3-n5.wav</td>\n",
       "      <td>1</td>\n",
       "      <td>paura</td>\n",
       "      <td>m3</td>\n",
       "      <td>m</td>\n",
       "    </tr>\n",
       "    <tr>\n",
       "      <th>...</th>\n",
       "      <td>...</td>\n",
       "      <td>...</td>\n",
       "      <td>...</td>\n",
       "      <td>...</td>\n",
       "      <td>...</td>\n",
       "      <td>...</td>\n",
       "    </tr>\n",
       "    <tr>\n",
       "      <th>739</th>\n",
       "      <td>/datasets/nicolas_facchinetti/EMOVO/data/m2/so...</td>\n",
       "      <td>sor-m2-d1.wav</td>\n",
       "      <td>0</td>\n",
       "      <td>sorpresa</td>\n",
       "      <td>m2</td>\n",
       "      <td>m</td>\n",
       "    </tr>\n",
       "    <tr>\n",
       "      <th>740</th>\n",
       "      <td>/datasets/nicolas_facchinetti/EMOVO/data/m2/pa...</td>\n",
       "      <td>pau-m2-b3.wav</td>\n",
       "      <td>0</td>\n",
       "      <td>paura</td>\n",
       "      <td>m2</td>\n",
       "      <td>m</td>\n",
       "    </tr>\n",
       "    <tr>\n",
       "      <th>741</th>\n",
       "      <td>/datasets/nicolas_facchinetti/EMOVO/data/m2/tr...</td>\n",
       "      <td>tri-m2-n2.wav</td>\n",
       "      <td>0</td>\n",
       "      <td>tristezza</td>\n",
       "      <td>m2</td>\n",
       "      <td>m</td>\n",
       "    </tr>\n",
       "    <tr>\n",
       "      <th>742</th>\n",
       "      <td>/datasets/nicolas_facchinetti/EMOVO/data/m2/ra...</td>\n",
       "      <td>rab-m2-l1.wav</td>\n",
       "      <td>0</td>\n",
       "      <td>rabbia</td>\n",
       "      <td>m2</td>\n",
       "      <td>m</td>\n",
       "    </tr>\n",
       "    <tr>\n",
       "      <th>743</th>\n",
       "      <td>/datasets/nicolas_facchinetti/EMOVO/data/m2/ra...</td>\n",
       "      <td>rab-m2-l1.wav</td>\n",
       "      <td>1</td>\n",
       "      <td>rabbia</td>\n",
       "      <td>m2</td>\n",
       "      <td>m</td>\n",
       "    </tr>\n",
       "  </tbody>\n",
       "</table>\n",
       "<p>744 rows × 6 columns</p>\n",
       "</div>"
      ],
      "text/plain": [
       "                                                  path       filename chunk  \\\n",
       "0    /datasets/nicolas_facchinetti/EMOVO/data/m3/gi...  gio-m3-l1.wav     0   \n",
       "1    /datasets/nicolas_facchinetti/EMOVO/data/m3/gi...  gio-m3-l1.wav     1   \n",
       "2    /datasets/nicolas_facchinetti/EMOVO/data/m3/gi...  gio-m3-b3.wav     0   \n",
       "3    /datasets/nicolas_facchinetti/EMOVO/data/m3/pa...  pau-m3-n5.wav     0   \n",
       "4    /datasets/nicolas_facchinetti/EMOVO/data/m3/pa...  pau-m3-n5.wav     1   \n",
       "..                                                 ...            ...   ...   \n",
       "739  /datasets/nicolas_facchinetti/EMOVO/data/m2/so...  sor-m2-d1.wav     0   \n",
       "740  /datasets/nicolas_facchinetti/EMOVO/data/m2/pa...  pau-m2-b3.wav     0   \n",
       "741  /datasets/nicolas_facchinetti/EMOVO/data/m2/tr...  tri-m2-n2.wav     0   \n",
       "742  /datasets/nicolas_facchinetti/EMOVO/data/m2/ra...  rab-m2-l1.wav     0   \n",
       "743  /datasets/nicolas_facchinetti/EMOVO/data/m2/ra...  rab-m2-l1.wav     1   \n",
       "\n",
       "         label actor gender  \n",
       "0        gioia    m3      m  \n",
       "1        gioia    m3      m  \n",
       "2        gioia    m3      m  \n",
       "3        paura    m3      m  \n",
       "4        paura    m3      m  \n",
       "..         ...   ...    ...  \n",
       "739   sorpresa    m2      m  \n",
       "740      paura    m2      m  \n",
       "741  tristezza    m2      m  \n",
       "742     rabbia    m2      m  \n",
       "743     rabbia    m2      m  \n",
       "\n",
       "[744 rows x 6 columns]"
      ]
     },
     "execution_count": 175,
     "metadata": {},
     "output_type": "execute_result"
    }
   ],
   "source": [
    "elaborated_data[\"emovo\"][\"df\"]"
   ]
  },
  {
   "cell_type": "code",
   "execution_count": 176,
   "id": "59964cc1",
   "metadata": {},
   "outputs": [
    {
     "data": {
      "text/plain": [
       "<Figure size 640x480 with 0 Axes>"
      ]
     },
     "metadata": {},
     "output_type": "display_data"
    }
   ],
   "source": [
    "# save image to local drive\n",
    "for dataset in frames:\n",
    "    image_metadata = []\n",
    "    df = elaborated_data[dataset][\"df\"]\n",
    "    for count, sample in enumerate(elaborated_data[dataset][\"img\"]):\n",
    "        # label and filename\n",
    "        label = df.iloc[count][\"label\"]\n",
    "        chunk = df.iloc[count][\"chunk\"]\n",
    "        file = df.iloc[count][\"filename\"]\n",
    "        \n",
    "        path = f'/datasets/nicolas_facchinetti/processed_data/{dataset}/images/{label}/'\n",
    "        if not os.path.exists(path):\n",
    "            os.makedirs(path)\n",
    "        \n",
    "        filename = f'/datasets/nicolas_facchinetti/processed_data/{dataset}/images/{label}/{file}_{chunk}.png'\n",
    "        # save image to local drive\n",
    "        img = librosa.display.specshow(sample, sr=sr, n_fft=2048, hop_length=512)\n",
    "        plt.savefig(filename)\n",
    "        plt.clf()\n",
    "        image_metadata.append(filename)\n",
    "    elaborated_data[dataset][\"df\"][\"img_path\"] = image_metadata"
   ]
  },
  {
   "cell_type": "code",
   "execution_count": 177,
   "id": "0d50cfc4",
   "metadata": {},
   "outputs": [
    {
     "data": {
      "text/html": [
       "<div>\n",
       "<style scoped>\n",
       "    .dataframe tbody tr th:only-of-type {\n",
       "        vertical-align: middle;\n",
       "    }\n",
       "\n",
       "    .dataframe tbody tr th {\n",
       "        vertical-align: top;\n",
       "    }\n",
       "\n",
       "    .dataframe thead th {\n",
       "        text-align: right;\n",
       "    }\n",
       "</style>\n",
       "<table border=\"1\" class=\"dataframe\">\n",
       "  <thead>\n",
       "    <tr style=\"text-align: right;\">\n",
       "      <th></th>\n",
       "      <th>path</th>\n",
       "      <th>filename</th>\n",
       "      <th>chunk</th>\n",
       "      <th>label</th>\n",
       "      <th>actor</th>\n",
       "      <th>gender</th>\n",
       "      <th>img_path</th>\n",
       "    </tr>\n",
       "  </thead>\n",
       "  <tbody>\n",
       "    <tr>\n",
       "      <th>0</th>\n",
       "      <td>/datasets/nicolas_facchinetti/EMOVO/data/m3/gi...</td>\n",
       "      <td>gio-m3-l1.wav</td>\n",
       "      <td>0</td>\n",
       "      <td>gioia</td>\n",
       "      <td>m3</td>\n",
       "      <td>m</td>\n",
       "      <td>/datasets/nicolas_facchinetti/processed_data/e...</td>\n",
       "    </tr>\n",
       "    <tr>\n",
       "      <th>1</th>\n",
       "      <td>/datasets/nicolas_facchinetti/EMOVO/data/m3/gi...</td>\n",
       "      <td>gio-m3-l1.wav</td>\n",
       "      <td>1</td>\n",
       "      <td>gioia</td>\n",
       "      <td>m3</td>\n",
       "      <td>m</td>\n",
       "      <td>/datasets/nicolas_facchinetti/processed_data/e...</td>\n",
       "    </tr>\n",
       "    <tr>\n",
       "      <th>2</th>\n",
       "      <td>/datasets/nicolas_facchinetti/EMOVO/data/m3/gi...</td>\n",
       "      <td>gio-m3-b3.wav</td>\n",
       "      <td>0</td>\n",
       "      <td>gioia</td>\n",
       "      <td>m3</td>\n",
       "      <td>m</td>\n",
       "      <td>/datasets/nicolas_facchinetti/processed_data/e...</td>\n",
       "    </tr>\n",
       "    <tr>\n",
       "      <th>3</th>\n",
       "      <td>/datasets/nicolas_facchinetti/EMOVO/data/m3/pa...</td>\n",
       "      <td>pau-m3-n5.wav</td>\n",
       "      <td>0</td>\n",
       "      <td>paura</td>\n",
       "      <td>m3</td>\n",
       "      <td>m</td>\n",
       "      <td>/datasets/nicolas_facchinetti/processed_data/e...</td>\n",
       "    </tr>\n",
       "    <tr>\n",
       "      <th>4</th>\n",
       "      <td>/datasets/nicolas_facchinetti/EMOVO/data/m3/pa...</td>\n",
       "      <td>pau-m3-n5.wav</td>\n",
       "      <td>1</td>\n",
       "      <td>paura</td>\n",
       "      <td>m3</td>\n",
       "      <td>m</td>\n",
       "      <td>/datasets/nicolas_facchinetti/processed_data/e...</td>\n",
       "    </tr>\n",
       "    <tr>\n",
       "      <th>...</th>\n",
       "      <td>...</td>\n",
       "      <td>...</td>\n",
       "      <td>...</td>\n",
       "      <td>...</td>\n",
       "      <td>...</td>\n",
       "      <td>...</td>\n",
       "      <td>...</td>\n",
       "    </tr>\n",
       "    <tr>\n",
       "      <th>739</th>\n",
       "      <td>/datasets/nicolas_facchinetti/EMOVO/data/m2/so...</td>\n",
       "      <td>sor-m2-d1.wav</td>\n",
       "      <td>0</td>\n",
       "      <td>sorpresa</td>\n",
       "      <td>m2</td>\n",
       "      <td>m</td>\n",
       "      <td>/datasets/nicolas_facchinetti/processed_data/e...</td>\n",
       "    </tr>\n",
       "    <tr>\n",
       "      <th>740</th>\n",
       "      <td>/datasets/nicolas_facchinetti/EMOVO/data/m2/pa...</td>\n",
       "      <td>pau-m2-b3.wav</td>\n",
       "      <td>0</td>\n",
       "      <td>paura</td>\n",
       "      <td>m2</td>\n",
       "      <td>m</td>\n",
       "      <td>/datasets/nicolas_facchinetti/processed_data/e...</td>\n",
       "    </tr>\n",
       "    <tr>\n",
       "      <th>741</th>\n",
       "      <td>/datasets/nicolas_facchinetti/EMOVO/data/m2/tr...</td>\n",
       "      <td>tri-m2-n2.wav</td>\n",
       "      <td>0</td>\n",
       "      <td>tristezza</td>\n",
       "      <td>m2</td>\n",
       "      <td>m</td>\n",
       "      <td>/datasets/nicolas_facchinetti/processed_data/e...</td>\n",
       "    </tr>\n",
       "    <tr>\n",
       "      <th>742</th>\n",
       "      <td>/datasets/nicolas_facchinetti/EMOVO/data/m2/ra...</td>\n",
       "      <td>rab-m2-l1.wav</td>\n",
       "      <td>0</td>\n",
       "      <td>rabbia</td>\n",
       "      <td>m2</td>\n",
       "      <td>m</td>\n",
       "      <td>/datasets/nicolas_facchinetti/processed_data/e...</td>\n",
       "    </tr>\n",
       "    <tr>\n",
       "      <th>743</th>\n",
       "      <td>/datasets/nicolas_facchinetti/EMOVO/data/m2/ra...</td>\n",
       "      <td>rab-m2-l1.wav</td>\n",
       "      <td>1</td>\n",
       "      <td>rabbia</td>\n",
       "      <td>m2</td>\n",
       "      <td>m</td>\n",
       "      <td>/datasets/nicolas_facchinetti/processed_data/e...</td>\n",
       "    </tr>\n",
       "  </tbody>\n",
       "</table>\n",
       "<p>744 rows × 7 columns</p>\n",
       "</div>"
      ],
      "text/plain": [
       "                                                  path       filename chunk  \\\n",
       "0    /datasets/nicolas_facchinetti/EMOVO/data/m3/gi...  gio-m3-l1.wav     0   \n",
       "1    /datasets/nicolas_facchinetti/EMOVO/data/m3/gi...  gio-m3-l1.wav     1   \n",
       "2    /datasets/nicolas_facchinetti/EMOVO/data/m3/gi...  gio-m3-b3.wav     0   \n",
       "3    /datasets/nicolas_facchinetti/EMOVO/data/m3/pa...  pau-m3-n5.wav     0   \n",
       "4    /datasets/nicolas_facchinetti/EMOVO/data/m3/pa...  pau-m3-n5.wav     1   \n",
       "..                                                 ...            ...   ...   \n",
       "739  /datasets/nicolas_facchinetti/EMOVO/data/m2/so...  sor-m2-d1.wav     0   \n",
       "740  /datasets/nicolas_facchinetti/EMOVO/data/m2/pa...  pau-m2-b3.wav     0   \n",
       "741  /datasets/nicolas_facchinetti/EMOVO/data/m2/tr...  tri-m2-n2.wav     0   \n",
       "742  /datasets/nicolas_facchinetti/EMOVO/data/m2/ra...  rab-m2-l1.wav     0   \n",
       "743  /datasets/nicolas_facchinetti/EMOVO/data/m2/ra...  rab-m2-l1.wav     1   \n",
       "\n",
       "         label actor gender                                           img_path  \n",
       "0        gioia    m3      m  /datasets/nicolas_facchinetti/processed_data/e...  \n",
       "1        gioia    m3      m  /datasets/nicolas_facchinetti/processed_data/e...  \n",
       "2        gioia    m3      m  /datasets/nicolas_facchinetti/processed_data/e...  \n",
       "3        paura    m3      m  /datasets/nicolas_facchinetti/processed_data/e...  \n",
       "4        paura    m3      m  /datasets/nicolas_facchinetti/processed_data/e...  \n",
       "..         ...   ...    ...                                                ...  \n",
       "739   sorpresa    m2      m  /datasets/nicolas_facchinetti/processed_data/e...  \n",
       "740      paura    m2      m  /datasets/nicolas_facchinetti/processed_data/e...  \n",
       "741  tristezza    m2      m  /datasets/nicolas_facchinetti/processed_data/e...  \n",
       "742     rabbia    m2      m  /datasets/nicolas_facchinetti/processed_data/e...  \n",
       "743     rabbia    m2      m  /datasets/nicolas_facchinetti/processed_data/e...  \n",
       "\n",
       "[744 rows x 7 columns]"
      ]
     },
     "execution_count": 177,
     "metadata": {},
     "output_type": "execute_result"
    }
   ],
   "source": [
    "elaborated_data[\"emovo\"][\"df\"]"
   ]
  },
  {
   "cell_type": "markdown",
   "id": "212a5c61",
   "metadata": {},
   "source": [
    "# Prepare data for models"
   ]
  },
  {
   "cell_type": "markdown",
   "id": "23edc1cb",
   "metadata": {},
   "source": [
    "One-hot encode the labels"
   ]
  },
  {
   "cell_type": "code",
   "execution_count": 138,
   "id": "d36e714c",
   "metadata": {},
   "outputs": [],
   "source": [
    "from sklearn.preprocessing import OneHotEncoder\n",
    "encoder = OneHotEncoder()\n",
    "\n",
    "for dataset in frames:\n",
    "    # one-hot encode labels\n",
    "    df = elaborated_data[dataset][\"df\"][\"label\"]\n",
    "    Y = encoder.fit_transform(np.array(df_label).reshape(-1,1)).toarray()\n",
    "    elaborated_data[dataset][\"y\"] = Y\n",
    "    "
   ]
  },
  {
   "cell_type": "code",
   "execution_count": 139,
   "id": "d0cf0c2b",
   "metadata": {},
   "outputs": [
    {
     "data": {
      "text/plain": [
       "array([[0., 0., 0., ..., 0., 0., 1.],\n",
       "       [0., 0., 0., ..., 0., 0., 1.],\n",
       "       [0., 0., 0., ..., 0., 0., 0.],\n",
       "       ...,\n",
       "       [0., 0., 0., ..., 0., 1., 0.],\n",
       "       [0., 0., 1., ..., 0., 0., 0.],\n",
       "       [0., 0., 0., ..., 1., 0., 0.]])"
      ]
     },
     "execution_count": 139,
     "metadata": {},
     "output_type": "execute_result"
    }
   ],
   "source": [
    "elaborated_data[\"emodb\"][\"y\"]"
   ]
  },
  {
   "cell_type": "markdown",
   "id": "4545cedf",
   "metadata": {},
   "source": [
    "Process the images"
   ]
  },
  {
   "cell_type": "code",
   "execution_count": 178,
   "id": "616903f5",
   "metadata": {
    "scrolled": false
   },
   "outputs": [],
   "source": [
    "import tensorflow as tf\n",
    "img_height = 256\n",
    "img_width = 256"
   ]
  },
  {
   "cell_type": "code",
   "execution_count": 179,
   "id": "d36ca599",
   "metadata": {},
   "outputs": [],
   "source": [
    "def process_path_image(file_path):\n",
    "    # Load the raw data from the file as a string\n",
    "    img = tf.io.read_file(file_path)\n",
    "    # Convert the compressed string to a 3D uint8 tensor\n",
    "    img = tf.io.decode_png(img, channels=3)\n",
    "    # Resize the image to the desired size\n",
    "    img = tf.image.resize(img, [img_height, img_width])\n",
    "    # Scale pixelin [0,1] interval\n",
    "    img /= 255.0\n",
    "    return img"
   ]
  },
  {
   "cell_type": "code",
   "execution_count": 182,
   "id": "2061c6ec",
   "metadata": {
    "scrolled": false
   },
   "outputs": [
    {
     "name": "stderr",
     "output_type": "stream",
     "text": [
      "2022-10-31 20:27:57.769245: I tensorflow/compiler/jit/xla_gpu_device.cc:99] Not creating XLA devices, tf_xla_enable_xla_devices not set\n",
      "2022-10-31 20:27:57.770180: I tensorflow/core/common_runtime/gpu/gpu_device.cc:1720] Found device 0 with properties: \n",
      "pciBusID: 0000:15:00.0 name: NVIDIA TITAN V computeCapability: 7.0\n",
      "coreClock: 1.455GHz coreCount: 80 deviceMemorySize: 11.78GiB deviceMemoryBandwidth: 607.97GiB/s\n",
      "2022-10-31 20:27:57.770297: I tensorflow/stream_executor/platform/default/dso_loader.cc:49] Successfully opened dynamic library libcudart.so.10.1\n",
      "2022-10-31 20:27:57.770345: I tensorflow/stream_executor/platform/default/dso_loader.cc:49] Successfully opened dynamic library libcublas.so.10\n",
      "2022-10-31 20:27:57.770381: I tensorflow/stream_executor/platform/default/dso_loader.cc:49] Successfully opened dynamic library libcublasLt.so.10\n",
      "2022-10-31 20:27:57.770415: I tensorflow/stream_executor/platform/default/dso_loader.cc:49] Successfully opened dynamic library libcufft.so.10\n",
      "2022-10-31 20:27:57.770449: I tensorflow/stream_executor/platform/default/dso_loader.cc:49] Successfully opened dynamic library libcurand.so.10\n",
      "2022-10-31 20:27:57.770484: I tensorflow/stream_executor/platform/default/dso_loader.cc:49] Successfully opened dynamic library libcusolver.so.10\n",
      "2022-10-31 20:27:57.770519: I tensorflow/stream_executor/platform/default/dso_loader.cc:49] Successfully opened dynamic library libcusparse.so.10\n",
      "2022-10-31 20:27:57.770553: I tensorflow/stream_executor/platform/default/dso_loader.cc:49] Successfully opened dynamic library libcudnn.so.7\n",
      "2022-10-31 20:27:57.774647: I tensorflow/core/common_runtime/gpu/gpu_device.cc:1862] Adding visible gpu devices: 0\n",
      "2022-10-31 20:27:58.347621: I tensorflow/core/common_runtime/gpu/gpu_device.cc:1261] Device interconnect StreamExecutor with strength 1 edge matrix:\n",
      "2022-10-31 20:27:58.347651: I tensorflow/core/common_runtime/gpu/gpu_device.cc:1267]      0 \n",
      "2022-10-31 20:27:58.347657: I tensorflow/core/common_runtime/gpu/gpu_device.cc:1280] 0:   N \n",
      "2022-10-31 20:27:58.348441: I tensorflow/core/common_runtime/gpu/gpu_device.cc:1406] Created TensorFlow device (/job:localhost/replica:0/task:0/device:GPU:0 with 10914 MB memory) -> physical GPU (device: 0, name: NVIDIA TITAN V, pci bus id: 0000:15:00.0, compute capability: 7.0)\n"
     ]
    },
    {
     "data": {
      "text/plain": [
       "(TensorShape([256, 256, 3]),\n",
       " <tf.Tensor: shape=(256, 256, 3), dtype=float32, numpy=\n",
       " array([[[1., 1., 1.],\n",
       "         [1., 1., 1.],\n",
       "         [1., 1., 1.],\n",
       "         ...,\n",
       "         [1., 1., 1.],\n",
       "         [1., 1., 1.],\n",
       "         [1., 1., 1.]],\n",
       " \n",
       "        [[1., 1., 1.],\n",
       "         [1., 1., 1.],\n",
       "         [1., 1., 1.],\n",
       "         ...,\n",
       "         [1., 1., 1.],\n",
       "         [1., 1., 1.],\n",
       "         [1., 1., 1.]],\n",
       " \n",
       "        [[1., 1., 1.],\n",
       "         [1., 1., 1.],\n",
       "         [1., 1., 1.],\n",
       "         ...,\n",
       "         [1., 1., 1.],\n",
       "         [1., 1., 1.],\n",
       "         [1., 1., 1.]],\n",
       " \n",
       "        ...,\n",
       " \n",
       "        [[1., 1., 1.],\n",
       "         [1., 1., 1.],\n",
       "         [1., 1., 1.],\n",
       "         ...,\n",
       "         [1., 1., 1.],\n",
       "         [1., 1., 1.],\n",
       "         [1., 1., 1.]],\n",
       " \n",
       "        [[1., 1., 1.],\n",
       "         [1., 1., 1.],\n",
       "         [1., 1., 1.],\n",
       "         ...,\n",
       "         [1., 1., 1.],\n",
       "         [1., 1., 1.],\n",
       "         [1., 1., 1.]],\n",
       " \n",
       "        [[1., 1., 1.],\n",
       "         [1., 1., 1.],\n",
       "         [1., 1., 1.],\n",
       "         ...,\n",
       "         [1., 1., 1.],\n",
       "         [1., 1., 1.],\n",
       "         [1., 1., 1.]]], dtype=float32)>)"
      ]
     },
     "execution_count": 182,
     "metadata": {},
     "output_type": "execute_result"
    }
   ],
   "source": [
    "p = process_path_image(elaborated_data[dataset][\"df\"].iloc[0].img_path)\n",
    "p.shape, p"
   ]
  },
  {
   "cell_type": "code",
   "execution_count": 184,
   "id": "5e3f40cd",
   "metadata": {},
   "outputs": [],
   "source": [
    "for dataset in frames:\n",
    "    X = np.array([process_path_image(f) for f in elaborated_data[dataset][\"df\"].img_path])\n",
    "    elaborated_data[dataset][\"x\"] = X"
   ]
  },
  {
   "cell_type": "code",
   "execution_count": 185,
   "id": "9e6e1ccb",
   "metadata": {},
   "outputs": [
    {
     "data": {
      "text/plain": [
       "(604, 256, 256, 3)"
      ]
     },
     "execution_count": 185,
     "metadata": {},
     "output_type": "execute_result"
    }
   ],
   "source": [
    "elaborated_data[\"emodb\"][\"x\"].shape"
   ]
  },
  {
   "cell_type": "markdown",
   "id": "a316a452",
   "metadata": {},
   "source": [
    "# Save data"
   ]
  },
  {
   "cell_type": "markdown",
   "id": "19b91f7c",
   "metadata": {},
   "source": [
    "Save data for future computations"
   ]
  },
  {
   "cell_type": "code",
   "execution_count": 186,
   "id": "9f90eb70",
   "metadata": {},
   "outputs": [],
   "source": [
    "for dataset in frames:\n",
    "    x = elaborated_data[dataset][\"x\"]\n",
    "    y = elaborated_data[dataset][\"y\"]\n",
    "    df = elaborated_data[dataset][\"df\"]\n",
    "    \n",
    "    np.save(f'/datasets/nicolas_facchinetti/processed_data/{dataset}/x_im.npy', X_image)\n",
    "    np.save(f'/datasets/nicolas_facchinetti/processed_data/{dataset}/y_im.npy', Y)\n",
    "    df.to_csv(f\"/datasets/nicolas_facchinetti/processed_data/{dataset}/mod_metadata.csv\", index=False)"
   ]
  }
 ],
 "metadata": {
  "kernelspec": {
   "display_name": "Python 3 (ipykernel)",
   "language": "python",
   "name": "python3"
  },
  "language_info": {
   "codemirror_mode": {
    "name": "ipython",
    "version": 3
   },
   "file_extension": ".py",
   "mimetype": "text/x-python",
   "name": "python",
   "nbconvert_exporter": "python",
   "pygments_lexer": "ipython3",
   "version": "3.9.13"
  }
 },
 "nbformat": 4,
 "nbformat_minor": 5
}
