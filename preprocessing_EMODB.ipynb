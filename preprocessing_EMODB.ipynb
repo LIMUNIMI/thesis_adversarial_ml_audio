{
 "cells": [
  {
   "cell_type": "markdown",
   "id": "3a5b7259",
   "metadata": {},
   "source": [
    "Extract features from EmoDB dataset"
   ]
  },
  {
   "cell_type": "code",
   "execution_count": 1,
   "id": "e0bf42ef",
   "metadata": {},
   "outputs": [],
   "source": [
    "import os\n",
    "import numpy as np\n",
    "import pandas as pd\n",
    "import librosa"
   ]
  },
  {
   "cell_type": "markdown",
   "id": "5268f3d0",
   "metadata": {},
   "source": [
    "# DataFrame with Input Samples"
   ]
  },
  {
   "cell_type": "markdown",
   "id": "b6c9bc32",
   "metadata": {},
   "source": [
    "Create Pandas DataFrame with filename and label"
   ]
  },
  {
   "cell_type": "code",
   "execution_count": 2,
   "id": "323e19f7",
   "metadata": {},
   "outputs": [
    {
     "data": {
      "text/html": [
       "<div>\n",
       "<style scoped>\n",
       "    .dataframe tbody tr th:only-of-type {\n",
       "        vertical-align: middle;\n",
       "    }\n",
       "\n",
       "    .dataframe tbody tr th {\n",
       "        vertical-align: top;\n",
       "    }\n",
       "\n",
       "    .dataframe thead th {\n",
       "        text-align: right;\n",
       "    }\n",
       "</style>\n",
       "<table border=\"1\" class=\"dataframe\">\n",
       "  <thead>\n",
       "    <tr style=\"text-align: right;\">\n",
       "      <th></th>\n",
       "      <th>path</th>\n",
       "      <th>filename</th>\n",
       "      <th>label</th>\n",
       "      <th>actor</th>\n",
       "      <th>gender</th>\n",
       "      <th>length</th>\n",
       "    </tr>\n",
       "  </thead>\n",
       "  <tbody>\n",
       "    <tr>\n",
       "      <th>0</th>\n",
       "      <td>/datasets/nicolas_facchinetti/EmoDB/data/13a05...</td>\n",
       "      <td>13a05Tc.wav</td>\n",
       "      <td>Sadness</td>\n",
       "      <td>13</td>\n",
       "      <td>f</td>\n",
       "      <td>4.451383</td>\n",
       "    </tr>\n",
       "    <tr>\n",
       "      <th>1</th>\n",
       "      <td>/datasets/nicolas_facchinetti/EmoDB/data/14b09...</td>\n",
       "      <td>14b09Ac.wav</td>\n",
       "      <td>Fear</td>\n",
       "      <td>14</td>\n",
       "      <td>f</td>\n",
       "      <td>2.287710</td>\n",
       "    </tr>\n",
       "    <tr>\n",
       "      <th>2</th>\n",
       "      <td>/datasets/nicolas_facchinetti/EmoDB/data/11b02...</td>\n",
       "      <td>11b02Na.wav</td>\n",
       "      <td>Neutral</td>\n",
       "      <td>11</td>\n",
       "      <td>m</td>\n",
       "      <td>2.698821</td>\n",
       "    </tr>\n",
       "    <tr>\n",
       "      <th>3</th>\n",
       "      <td>/datasets/nicolas_facchinetti/EmoDB/data/09b03...</td>\n",
       "      <td>09b03Fd.wav</td>\n",
       "      <td>Happiness</td>\n",
       "      <td>09</td>\n",
       "      <td>f</td>\n",
       "      <td>3.312517</td>\n",
       "    </tr>\n",
       "    <tr>\n",
       "      <th>4</th>\n",
       "      <td>/datasets/nicolas_facchinetti/EmoDB/data/16b10...</td>\n",
       "      <td>16b10Fb.wav</td>\n",
       "      <td>Happiness</td>\n",
       "      <td>16</td>\n",
       "      <td>f</td>\n",
       "      <td>2.583537</td>\n",
       "    </tr>\n",
       "    <tr>\n",
       "      <th>...</th>\n",
       "      <td>...</td>\n",
       "      <td>...</td>\n",
       "      <td>...</td>\n",
       "      <td>...</td>\n",
       "      <td>...</td>\n",
       "      <td>...</td>\n",
       "    </tr>\n",
       "    <tr>\n",
       "      <th>530</th>\n",
       "      <td>/datasets/nicolas_facchinetti/EmoDB/data/15a04...</td>\n",
       "      <td>15a04Wa.wav</td>\n",
       "      <td>Anger</td>\n",
       "      <td>15</td>\n",
       "      <td>m</td>\n",
       "      <td>1.945397</td>\n",
       "    </tr>\n",
       "    <tr>\n",
       "      <th>531</th>\n",
       "      <td>/datasets/nicolas_facchinetti/EmoDB/data/11b03...</td>\n",
       "      <td>11b03Td.wav</td>\n",
       "      <td>Sadness</td>\n",
       "      <td>11</td>\n",
       "      <td>m</td>\n",
       "      <td>5.905034</td>\n",
       "    </tr>\n",
       "    <tr>\n",
       "      <th>532</th>\n",
       "      <td>/datasets/nicolas_facchinetti/EmoDB/data/12b02...</td>\n",
       "      <td>12b02Na.wav</td>\n",
       "      <td>Neutral</td>\n",
       "      <td>12</td>\n",
       "      <td>m</td>\n",
       "      <td>2.982086</td>\n",
       "    </tr>\n",
       "    <tr>\n",
       "      <th>533</th>\n",
       "      <td>/datasets/nicolas_facchinetti/EmoDB/data/14b01...</td>\n",
       "      <td>14b01Eb.wav</td>\n",
       "      <td>Disgust</td>\n",
       "      <td>14</td>\n",
       "      <td>f</td>\n",
       "      <td>3.291791</td>\n",
       "    </tr>\n",
       "    <tr>\n",
       "      <th>534</th>\n",
       "      <td>/datasets/nicolas_facchinetti/EmoDB/data/08b01...</td>\n",
       "      <td>08b01Fe.wav</td>\n",
       "      <td>Happiness</td>\n",
       "      <td>08</td>\n",
       "      <td>f</td>\n",
       "      <td>2.515782</td>\n",
       "    </tr>\n",
       "  </tbody>\n",
       "</table>\n",
       "<p>535 rows × 6 columns</p>\n",
       "</div>"
      ],
      "text/plain": [
       "                                                  path     filename  \\\n",
       "0    /datasets/nicolas_facchinetti/EmoDB/data/13a05...  13a05Tc.wav   \n",
       "1    /datasets/nicolas_facchinetti/EmoDB/data/14b09...  14b09Ac.wav   \n",
       "2    /datasets/nicolas_facchinetti/EmoDB/data/11b02...  11b02Na.wav   \n",
       "3    /datasets/nicolas_facchinetti/EmoDB/data/09b03...  09b03Fd.wav   \n",
       "4    /datasets/nicolas_facchinetti/EmoDB/data/16b10...  16b10Fb.wav   \n",
       "..                                                 ...          ...   \n",
       "530  /datasets/nicolas_facchinetti/EmoDB/data/15a04...  15a04Wa.wav   \n",
       "531  /datasets/nicolas_facchinetti/EmoDB/data/11b03...  11b03Td.wav   \n",
       "532  /datasets/nicolas_facchinetti/EmoDB/data/12b02...  12b02Na.wav   \n",
       "533  /datasets/nicolas_facchinetti/EmoDB/data/14b01...  14b01Eb.wav   \n",
       "534  /datasets/nicolas_facchinetti/EmoDB/data/08b01...  08b01Fe.wav   \n",
       "\n",
       "         label actor gender    length  \n",
       "0      Sadness    13      f  4.451383  \n",
       "1         Fear    14      f  2.287710  \n",
       "2      Neutral    11      m  2.698821  \n",
       "3    Happiness    09      f  3.312517  \n",
       "4    Happiness    16      f  2.583537  \n",
       "..         ...   ...    ...       ...  \n",
       "530      Anger    15      m  1.945397  \n",
       "531    Sadness    11      m  5.905034  \n",
       "532    Neutral    12      m  2.982086  \n",
       "533    Disgust    14      f  3.291791  \n",
       "534  Happiness    08      f  2.515782  \n",
       "\n",
       "[535 rows x 6 columns]"
      ]
     },
     "execution_count": 2,
     "metadata": {},
     "output_type": "execute_result"
    }
   ],
   "source": [
    "label2name = {\n",
    "    \"L\": \"Boredom\",\n",
    "    \"A\": \"Fear\",\n",
    "    \"E\": \"Disgust\",\n",
    "    \"F\": \"Happiness\",\n",
    "    \"T\": \"Sadness\",\n",
    "    \"W\": \"Anger\",\n",
    "    \"N\": \"Neutral\"\n",
    "}\n",
    "\n",
    "male = ['03', '10', '11', '12', '15']\n",
    "\n",
    "dir_path = '/datasets/nicolas_facchinetti/EmoDB/data'\n",
    "data = []\n",
    "for filename in os.listdir(dir_path):\n",
    "    filepath = os.path.join(dir_path, filename)\n",
    "    \n",
    "    samples, sr = librosa.load(filepath, sr=22050)\n",
    "    length = len(samples)/sr\n",
    "    cat = label2name[filename[5]]\n",
    "    actor = filename[0:2]\n",
    "    gender = 'm' if actor in male else 'f'\n",
    "    data.append([filepath, filename, cat, actor, gender, length])\n",
    "    \n",
    "df_info = pd.DataFrame(data, columns=['path', 'filename', 'label', 'actor', 'gender', 'length'])\n",
    "df_info"
   ]
  },
  {
   "cell_type": "markdown",
   "id": "3bf82ee2",
   "metadata": {},
   "source": [
    "Sampes length analysis"
   ]
  },
  {
   "cell_type": "code",
   "execution_count": 3,
   "id": "e9ee6162",
   "metadata": {},
   "outputs": [
    {
     "data": {
      "text/plain": [
       "count    535.000000\n",
       "mean       2.779635\n",
       "std        1.028189\n",
       "min        1.225533\n",
       "25%        2.026621\n",
       "50%        2.590204\n",
       "75%        3.308435\n",
       "max        8.978277\n",
       "Name: length, dtype: float64"
      ]
     },
     "execution_count": 3,
     "metadata": {},
     "output_type": "execute_result"
    }
   ],
   "source": [
    "df_info[\"length\"].describe()"
   ]
  },
  {
   "cell_type": "code",
   "execution_count": 4,
   "id": "32d014a3",
   "metadata": {
    "scrolled": true
   },
   "outputs": [
    {
     "data": {
      "text/plain": [
       "Anger        127\n",
       "Boredom       81\n",
       "Neutral       79\n",
       "Happiness     71\n",
       "Fear          69\n",
       "Sadness       62\n",
       "Disgust       46\n",
       "Name: label, dtype: int64"
      ]
     },
     "execution_count": 4,
     "metadata": {},
     "output_type": "execute_result"
    }
   ],
   "source": [
    "df_info.label.value_counts()"
   ]
  },
  {
   "cell_type": "code",
   "execution_count": 5,
   "id": "cb87d62c",
   "metadata": {},
   "outputs": [
    {
     "data": {
      "text/plain": [
       "16    71\n",
       "14    69\n",
       "13    61\n",
       "08    58\n",
       "15    56\n",
       "11    55\n",
       "03    49\n",
       "09    43\n",
       "10    38\n",
       "12    35\n",
       "Name: actor, dtype: int64"
      ]
     },
     "execution_count": 5,
     "metadata": {},
     "output_type": "execute_result"
    }
   ],
   "source": [
    "df_info.actor.value_counts()"
   ]
  },
  {
   "cell_type": "markdown",
   "id": "d7690792",
   "metadata": {},
   "source": [
    "Save metadata"
   ]
  },
  {
   "cell_type": "code",
   "execution_count": 6,
   "id": "abd9b6c3",
   "metadata": {},
   "outputs": [],
   "source": [
    "df_info.to_csv(\"/datasets/nicolas_facchinetti/processed_data/EmoDB/processed_metadata.csv\", index=False)"
   ]
  },
  {
   "cell_type": "code",
   "execution_count": null,
   "id": "fe7d629b",
   "metadata": {},
   "outputs": [],
   "source": []
  }
 ],
 "metadata": {
  "kernelspec": {
   "display_name": "Python 3 (ipykernel)",
   "language": "python",
   "name": "python3"
  },
  "language_info": {
   "codemirror_mode": {
    "name": "ipython",
    "version": 3
   },
   "file_extension": ".py",
   "mimetype": "text/x-python",
   "name": "python",
   "nbconvert_exporter": "python",
   "pygments_lexer": "ipython3",
   "version": "3.9.13"
  }
 },
 "nbformat": 4,
 "nbformat_minor": 5
}
