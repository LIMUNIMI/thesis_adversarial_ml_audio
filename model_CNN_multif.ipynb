{
 "cells": [
  {
   "cell_type": "markdown",
   "id": "a8abf493",
   "metadata": {},
   "source": [
    "Import data for train/test"
   ]
  },
  {
   "cell_type": "code",
   "execution_count": 10,
   "id": "8df3291f",
   "metadata": {},
   "outputs": [],
   "source": [
    "import numpy as np\n",
    "import pandas as pd\n",
    "x = np.load(f'/datasets/nicolas_facchinetti/processed_data/emodb/x_multif.npy').reshape(-1, 256, 256, 6)\n",
    "y = np.load(f'/datasets/nicolas_facchinetti/processed_data/emodb/y_multif.npy')\n",
    "metadata = pd.read_csv(f'/datasets/nicolas_facchinetti/processed_data/emodb/metadata_multif.csv')"
   ]
  },
  {
   "cell_type": "code",
   "execution_count": 11,
   "id": "4ae3465f",
   "metadata": {},
   "outputs": [
    {
     "data": {
      "text/plain": [
       "(802, 256, 256, 6)"
      ]
     },
     "execution_count": 11,
     "metadata": {},
     "output_type": "execute_result"
    }
   ],
   "source": [
    "x.shape"
   ]
  },
  {
   "cell_type": "markdown",
   "id": "73e4b8ed",
   "metadata": {},
   "source": [
    "Train test data"
   ]
  },
  {
   "cell_type": "code",
   "execution_count": 12,
   "id": "ea401198",
   "metadata": {},
   "outputs": [],
   "source": [
    "def leave_one_speaker_out(data, n=5):\n",
    "    speakers = data.actor.unique()\n",
    "    # random select n actors as test\n",
    "    selected = np.random.choice(speakers, size=n, replace=False)\n",
    "    \n",
    "    myCViterator = []\n",
    "    for i in selected:\n",
    "        trainIndices = data[data['actor']!=i ].index.values.astype(int)\n",
    "        testIndices =  data[data['actor']==i ].index.values.astype(int)\n",
    "        myCViterator.append((trainIndices, testIndices))\n",
    "    return myCViterator"
   ]
  },
  {
   "cell_type": "code",
   "execution_count": 13,
   "id": "580d0628",
   "metadata": {},
   "outputs": [
    {
     "data": {
      "text/plain": [
       "(array([  0,   1,   2,   5,   6,   7,   8,   9,  10,  11,  12,  13,  14,\n",
       "         15,  16,  17,  18,  19,  20,  23,  24,  25,  26,  27,  30,  31,\n",
       "         32,  33,  34,  35,  36,  37,  38,  39,  40,  41,  42,  43,  44,\n",
       "         45,  46,  47,  48,  49,  50,  51,  52,  53,  54,  55,  56,  57,\n",
       "         58,  59,  60,  61,  62,  63,  64,  66,  67,  68,  69,  70,  71,\n",
       "         72,  73,  74,  76,  77,  78,  81,  82,  83,  84,  87,  88,  89,\n",
       "         90,  91,  92,  93,  94,  95,  96,  97,  98,  99, 100, 101, 102,\n",
       "        103, 104, 105, 108, 109, 112, 113, 114, 116, 117, 118, 119, 120,\n",
       "        121, 122, 124, 125, 126, 127, 128, 129, 130, 131, 132, 133, 134,\n",
       "        135, 136, 137, 138, 139, 140, 141, 144, 145, 146, 147, 148, 149,\n",
       "        152, 153, 155, 156, 157, 158, 159, 160, 161, 162, 163, 164, 165,\n",
       "        166, 167, 168, 169, 170, 171, 172, 173, 176, 177, 178, 179, 180,\n",
       "        181, 182, 183, 184, 185, 186, 187, 188, 189, 190, 191, 192, 193,\n",
       "        194, 195, 196, 197, 198, 199, 200, 201, 202, 203, 204, 205, 206,\n",
       "        208, 209, 211, 212, 213, 214, 215, 216, 217, 218, 219, 220, 221,\n",
       "        222, 223, 224, 225, 226, 227, 228, 229, 230, 231, 232, 233, 234,\n",
       "        235, 236, 237, 238, 239, 240, 241, 242, 243, 244, 245, 246, 247,\n",
       "        248, 249, 250, 251, 252, 253, 254, 255, 256, 257, 258, 259, 260,\n",
       "        261, 262, 263, 264, 265, 266, 267, 268, 269, 270, 271, 272, 273,\n",
       "        274, 275, 277, 278, 279, 280, 283, 284, 285, 286, 287, 288, 289,\n",
       "        290, 291, 292, 293, 294, 295, 296, 297, 298, 299, 300, 302, 303,\n",
       "        304, 305, 306, 309, 310, 311, 312, 314, 315, 316, 317, 318, 319,\n",
       "        320, 321, 322, 323, 324, 325, 326, 327, 328, 329, 330, 331, 332,\n",
       "        333, 334, 335, 336, 337, 338, 339, 340, 341, 342, 343, 344, 345,\n",
       "        346, 347, 348, 349, 350, 351, 352, 353, 354, 355, 356, 357, 358,\n",
       "        359, 360, 361, 362, 363, 364, 365, 366, 367, 368, 369, 370, 371,\n",
       "        372, 373, 374, 375, 376, 377, 378, 379, 382, 383, 384, 385, 386,\n",
       "        387, 388, 389, 390, 391, 392, 393, 394, 395, 396, 397, 400, 401,\n",
       "        402, 403, 404, 405, 406, 407, 408, 413, 414, 415, 416, 417, 418,\n",
       "        419, 420, 421, 422, 423, 424, 425, 426, 427, 428, 429, 430, 431,\n",
       "        432, 433, 434, 435, 436, 437, 438, 439, 440, 441, 444, 445, 446,\n",
       "        447, 448, 449, 450, 451, 452, 453, 454, 455, 456, 457, 458, 459,\n",
       "        460, 461, 463, 464, 465, 466, 467, 468, 469, 470, 471, 472, 473,\n",
       "        474, 475, 476, 477, 478, 479, 481, 482, 483, 484, 488, 489, 490,\n",
       "        491, 492, 493, 494, 495, 496, 497, 500, 501, 502, 503, 504, 506,\n",
       "        507, 508, 509, 510, 511, 512, 513, 515, 516, 517, 518, 519, 520,\n",
       "        521, 522, 524, 528, 529, 530, 531, 532, 533, 534, 535, 536, 537,\n",
       "        538, 539, 540, 541, 542, 543, 544, 545, 546, 548, 549, 550, 551,\n",
       "        552, 553, 554, 555, 556, 557, 558, 559, 560, 561, 562, 563, 564,\n",
       "        565, 566, 568, 569, 570, 571, 572, 573, 574, 575, 576, 577, 578,\n",
       "        580, 581, 582, 583, 584, 585, 586, 587, 588, 589, 590, 591, 593,\n",
       "        594, 595, 596, 597, 598, 599, 602, 604, 605, 606, 607, 608, 609,\n",
       "        610, 611, 612, 613, 614, 615, 616, 617, 618, 619, 620, 621, 622,\n",
       "        623, 624, 625, 626, 628, 629, 630, 631, 632, 635, 636, 637, 638,\n",
       "        639, 640, 641, 642, 643, 644, 645, 646, 647, 648, 649, 650, 651,\n",
       "        652, 653, 654, 655, 656, 657, 658, 661, 664, 665, 666, 667, 668,\n",
       "        669, 670, 671, 672, 673, 674, 675, 676, 677, 678, 681, 682, 683,\n",
       "        684, 685, 686, 687, 691, 692, 693, 694, 695, 696, 697, 698, 699,\n",
       "        700, 701, 702, 703, 704, 705, 706, 707, 708, 709, 710, 711, 712,\n",
       "        713, 714, 715, 716, 717, 718, 719, 720, 721, 722, 723, 724, 725,\n",
       "        726, 727, 728, 729, 730, 731, 734, 735, 736, 737, 738, 739, 740,\n",
       "        741, 743, 744, 745, 746, 747, 748, 749, 750, 751, 752, 753, 754,\n",
       "        755, 756, 757, 758, 759, 760, 761, 762, 763, 764, 765, 766, 769,\n",
       "        770, 771, 772, 773, 774, 775, 776, 777, 778, 779, 780, 781, 782,\n",
       "        783, 784, 785, 786, 787, 788, 789, 790, 793, 797, 798, 799, 800,\n",
       "        801]),\n",
       " array([  3,   4,  21,  22,  28,  29,  65,  75,  79,  80,  85,  86, 106,\n",
       "        107, 110, 111, 115, 123, 142, 143, 150, 151, 154, 174, 175, 207,\n",
       "        210, 276, 281, 282, 301, 307, 308, 313, 380, 381, 398, 399, 409,\n",
       "        410, 411, 412, 442, 443, 462, 480, 485, 486, 487, 498, 499, 505,\n",
       "        514, 523, 525, 526, 527, 547, 567, 579, 592, 600, 601, 603, 627,\n",
       "        633, 634, 659, 660, 662, 663, 679, 680, 688, 689, 690, 732, 733,\n",
       "        742, 767, 768, 791, 792, 794, 795, 796]))"
      ]
     },
     "execution_count": 13,
     "metadata": {},
     "output_type": "execute_result"
    }
   ],
   "source": [
    "indices = leave_one_speaker_out(metadata, 1)\n",
    "train = indices[0][0]\n",
    "test = indices[0][1]\n",
    "train, test"
   ]
  },
  {
   "cell_type": "code",
   "execution_count": 14,
   "id": "51d78a77",
   "metadata": {},
   "outputs": [
    {
     "data": {
      "text/plain": [
       "((716, 256, 256, 6), (716, 7), (86, 256, 256, 6), (86, 7))"
      ]
     },
     "execution_count": 14,
     "metadata": {},
     "output_type": "execute_result"
    }
   ],
   "source": [
    "x_train = x[train]\n",
    "y_train = y[train]\n",
    "x_test = x[test]\n",
    "y_test = y[test]\n",
    "x_train.shape, y_train.shape, x_test.shape, y_test.shape"
   ]
  },
  {
   "cell_type": "markdown",
   "id": "c9614dc8",
   "metadata": {},
   "source": [
    "# Define a model for SER"
   ]
  },
  {
   "cell_type": "code",
   "execution_count": 15,
   "id": "3f35aef4",
   "metadata": {},
   "outputs": [
    {
     "name": "stderr",
     "output_type": "stream",
     "text": [
      "2022-11-09 16:18:46.194695: I tensorflow/stream_executor/platform/default/dso_loader.cc:49] Successfully opened dynamic library libcudart.so.10.1\n"
     ]
    }
   ],
   "source": [
    "import tensorflow as tf\n",
    "import tensorflow.keras\n",
    "from tensorflow.keras.models import Sequential \n",
    "from tensorflow.keras.layers import Conv2D, Flatten, Dense, Dropout, MaxPool2D, InputLayer"
   ]
  },
  {
   "cell_type": "code",
   "execution_count": 21,
   "id": "8032900b",
   "metadata": {},
   "outputs": [],
   "source": [
    "input_size = (256, 256, 6)"
   ]
  },
  {
   "cell_type": "code",
   "execution_count": 22,
   "id": "b2c3499c",
   "metadata": {},
   "outputs": [
    {
     "name": "stdout",
     "output_type": "stream",
     "text": [
      "Model: \"sequential_2\"\n",
      "_________________________________________________________________\n",
      "Layer (type)                 Output Shape              Param #   \n",
      "=================================================================\n",
      "conv2d_6 (Conv2D)            (None, 256, 256, 16)      880       \n",
      "_________________________________________________________________\n",
      "max_pooling2d_6 (MaxPooling2 (None, 128, 128, 16)      0         \n",
      "_________________________________________________________________\n",
      "conv2d_7 (Conv2D)            (None, 64, 64, 32)        4640      \n",
      "_________________________________________________________________\n",
      "max_pooling2d_7 (MaxPooling2 (None, 32, 32, 32)        0         \n",
      "_________________________________________________________________\n",
      "conv2d_8 (Conv2D)            (None, 16, 16, 64)        18496     \n",
      "_________________________________________________________________\n",
      "max_pooling2d_8 (MaxPooling2 (None, 8, 8, 64)          0         \n",
      "_________________________________________________________________\n",
      "flatten_2 (Flatten)          (None, 4096)              0         \n",
      "_________________________________________________________________\n",
      "dropout_2 (Dropout)          (None, 4096)              0         \n",
      "_________________________________________________________________\n",
      "dense_6 (Dense)              (None, 128)               524416    \n",
      "_________________________________________________________________\n",
      "dense_7 (Dense)              (None, 64)                8256      \n",
      "_________________________________________________________________\n",
      "dense_8 (Dense)              (None, 7)                 455       \n",
      "=================================================================\n",
      "Total params: 557,143\n",
      "Trainable params: 557,143\n",
      "Non-trainable params: 0\n",
      "_________________________________________________________________\n"
     ]
    }
   ],
   "source": [
    "model = Sequential([\n",
    "    InputLayer(input_shape=input_size),\n",
    "    #1st hidden layer\n",
    "    Conv2D(16, (3, 3), activation='relu', padding=\"same\"),\n",
    "    MaxPool2D((2, 2)),\n",
    "    #2nd hidden layer\n",
    "    Conv2D(32, (3, 3), activation='relu', strides=(2, 2), padding=\"same\"),\n",
    "    MaxPool2D((2, 2)),\n",
    "    # 3rd conv block\n",
    "    Conv2D(64, (3, 3), activation='relu', strides=(2, 2), padding='same'),\n",
    "    MaxPool2D(pool_size=(2, 2), padding='same'),\n",
    "    #ANN\n",
    "    Flatten(),\n",
    "    Dropout(0.2),\n",
    "    Dense(units = 128, activation='relu'),\n",
    "    Dense(units = 64, activation='relu'),\n",
    "    #Output layer\n",
    "    Dense(units= 7, activation='softmax'),\n",
    "]) \n",
    "model.summary()"
   ]
  },
  {
   "cell_type": "code",
   "execution_count": 23,
   "id": "df3182a3",
   "metadata": {},
   "outputs": [],
   "source": [
    "model.compile(loss='categorical_crossentropy', optimizer='adam', metrics=['accuracy'])"
   ]
  },
  {
   "cell_type": "code",
   "execution_count": 28,
   "id": "a44f77cf",
   "metadata": {},
   "outputs": [
    {
     "name": "stdout",
     "output_type": "stream",
     "text": [
      "Epoch 1/50\n",
      "23/23 [==============================] - 1s 35ms/step - loss: 0.9733 - accuracy: 0.6285 - val_loss: 1.3835 - val_accuracy: 0.5116\n",
      "Epoch 2/50\n",
      "23/23 [==============================] - 1s 29ms/step - loss: 0.8019 - accuracy: 0.7151 - val_loss: 1.4045 - val_accuracy: 0.5581\n",
      "Epoch 3/50\n",
      "23/23 [==============================] - 1s 31ms/step - loss: 0.7309 - accuracy: 0.7291 - val_loss: 1.6810 - val_accuracy: 0.4302\n",
      "Epoch 4/50\n",
      "23/23 [==============================] - 1s 31ms/step - loss: 0.5962 - accuracy: 0.8045 - val_loss: 1.5153 - val_accuracy: 0.5000\n",
      "Epoch 5/50\n",
      "23/23 [==============================] - 1s 33ms/step - loss: 0.4473 - accuracy: 0.8450 - val_loss: 1.2738 - val_accuracy: 0.5698\n",
      "Epoch 6/50\n",
      "23/23 [==============================] - 1s 31ms/step - loss: 0.3310 - accuracy: 0.8883 - val_loss: 1.4701 - val_accuracy: 0.5000\n",
      "Epoch 7/50\n",
      "23/23 [==============================] - 1s 33ms/step - loss: 0.2788 - accuracy: 0.9050 - val_loss: 2.3062 - val_accuracy: 0.4767\n",
      "Epoch 8/50\n",
      "23/23 [==============================] - 1s 33ms/step - loss: 0.2097 - accuracy: 0.9218 - val_loss: 2.2709 - val_accuracy: 0.4651\n",
      "Epoch 9/50\n",
      "23/23 [==============================] - 1s 31ms/step - loss: 0.2406 - accuracy: 0.9078 - val_loss: 1.8295 - val_accuracy: 0.5814\n",
      "Epoch 10/50\n",
      "23/23 [==============================] - 1s 33ms/step - loss: 0.2166 - accuracy: 0.9260 - val_loss: 1.9039 - val_accuracy: 0.4767\n",
      "Epoch 11/50\n",
      "23/23 [==============================] - 1s 32ms/step - loss: 0.1151 - accuracy: 0.9581 - val_loss: 2.4232 - val_accuracy: 0.4535\n",
      "Epoch 12/50\n",
      "23/23 [==============================] - 1s 34ms/step - loss: 0.1485 - accuracy: 0.9441 - val_loss: 3.0042 - val_accuracy: 0.4651\n",
      "Epoch 13/50\n",
      "23/23 [==============================] - 1s 33ms/step - loss: 0.0916 - accuracy: 0.9735 - val_loss: 2.4004 - val_accuracy: 0.5116\n",
      "Epoch 14/50\n",
      "23/23 [==============================] - 1s 32ms/step - loss: 0.0876 - accuracy: 0.9721 - val_loss: 3.0050 - val_accuracy: 0.4767\n",
      "Epoch 15/50\n",
      "23/23 [==============================] - 1s 32ms/step - loss: 0.0491 - accuracy: 0.9874 - val_loss: 3.4331 - val_accuracy: 0.4186\n",
      "Epoch 16/50\n",
      "23/23 [==============================] - 1s 31ms/step - loss: 0.0499 - accuracy: 0.9860 - val_loss: 3.0980 - val_accuracy: 0.4767\n",
      "Epoch 17/50\n",
      "23/23 [==============================] - 1s 33ms/step - loss: 0.0321 - accuracy: 0.9930 - val_loss: 2.9186 - val_accuracy: 0.4767\n",
      "Epoch 18/50\n",
      "23/23 [==============================] - 1s 32ms/step - loss: 0.0294 - accuracy: 0.9888 - val_loss: 2.6904 - val_accuracy: 0.4884\n",
      "Epoch 19/50\n",
      "23/23 [==============================] - 1s 33ms/step - loss: 0.0616 - accuracy: 0.9763 - val_loss: 3.0343 - val_accuracy: 0.4767\n",
      "Epoch 20/50\n",
      "23/23 [==============================] - 1s 32ms/step - loss: 0.0652 - accuracy: 0.9804 - val_loss: 3.2498 - val_accuracy: 0.4535\n",
      "Epoch 21/50\n",
      "23/23 [==============================] - 1s 33ms/step - loss: 0.0413 - accuracy: 0.9888 - val_loss: 4.0095 - val_accuracy: 0.4302\n",
      "Epoch 22/50\n",
      "23/23 [==============================] - 1s 33ms/step - loss: 0.0832 - accuracy: 0.9665 - val_loss: 3.3727 - val_accuracy: 0.4767\n",
      "Epoch 23/50\n",
      "23/23 [==============================] - 1s 31ms/step - loss: 0.0662 - accuracy: 0.9791 - val_loss: 2.8213 - val_accuracy: 0.5465\n",
      "Epoch 24/50\n",
      "23/23 [==============================] - 1s 32ms/step - loss: 0.0417 - accuracy: 0.9860 - val_loss: 3.1463 - val_accuracy: 0.4651\n",
      "Epoch 25/50\n",
      "23/23 [==============================] - 1s 32ms/step - loss: 0.0202 - accuracy: 0.9958 - val_loss: 3.3286 - val_accuracy: 0.4884\n",
      "Epoch 26/50\n",
      "23/23 [==============================] - 1s 31ms/step - loss: 0.0695 - accuracy: 0.9749 - val_loss: 3.6737 - val_accuracy: 0.5116\n",
      "Epoch 27/50\n",
      "23/23 [==============================] - 1s 30ms/step - loss: 0.0283 - accuracy: 0.9888 - val_loss: 3.4007 - val_accuracy: 0.5000\n",
      "Epoch 28/50\n",
      "23/23 [==============================] - 1s 32ms/step - loss: 0.0177 - accuracy: 0.9958 - val_loss: 3.6111 - val_accuracy: 0.4884\n",
      "Epoch 29/50\n",
      "23/23 [==============================] - 1s 33ms/step - loss: 0.0162 - accuracy: 0.9958 - val_loss: 3.0142 - val_accuracy: 0.5233\n",
      "Epoch 30/50\n",
      "23/23 [==============================] - 1s 32ms/step - loss: 0.0087 - accuracy: 0.9986 - val_loss: 3.2176 - val_accuracy: 0.5233\n",
      "Epoch 31/50\n",
      "23/23 [==============================] - 1s 33ms/step - loss: 0.0105 - accuracy: 0.9986 - val_loss: 3.8752 - val_accuracy: 0.5000\n",
      "Epoch 32/50\n",
      "23/23 [==============================] - 1s 31ms/step - loss: 0.0250 - accuracy: 0.9944 - val_loss: 3.9089 - val_accuracy: 0.4535\n",
      "Epoch 33/50\n",
      "23/23 [==============================] - 1s 31ms/step - loss: 0.0544 - accuracy: 0.9791 - val_loss: 3.5991 - val_accuracy: 0.5814\n",
      "Epoch 34/50\n",
      "23/23 [==============================] - 1s 33ms/step - loss: 0.0899 - accuracy: 0.9679 - val_loss: 3.8772 - val_accuracy: 0.4884\n",
      "Epoch 35/50\n",
      "23/23 [==============================] - 1s 32ms/step - loss: 0.0362 - accuracy: 0.9860 - val_loss: 3.3558 - val_accuracy: 0.5233\n",
      "Epoch 36/50\n",
      "23/23 [==============================] - 1s 32ms/step - loss: 0.0222 - accuracy: 0.9944 - val_loss: 3.5759 - val_accuracy: 0.4535\n",
      "Epoch 37/50\n",
      "23/23 [==============================] - 1s 35ms/step - loss: 0.0108 - accuracy: 0.9972 - val_loss: 3.1991 - val_accuracy: 0.5233\n",
      "Epoch 38/50\n",
      "23/23 [==============================] - 1s 32ms/step - loss: 0.0122 - accuracy: 0.9958 - val_loss: 3.2665 - val_accuracy: 0.5116\n",
      "Epoch 39/50\n",
      "23/23 [==============================] - 1s 31ms/step - loss: 0.0060 - accuracy: 1.0000 - val_loss: 3.3528 - val_accuracy: 0.5116\n",
      "Epoch 40/50\n",
      "23/23 [==============================] - 1s 33ms/step - loss: 0.0174 - accuracy: 0.9958 - val_loss: 3.4044 - val_accuracy: 0.5116\n",
      "Epoch 41/50\n",
      "23/23 [==============================] - 1s 32ms/step - loss: 0.0179 - accuracy: 0.9958 - val_loss: 3.8037 - val_accuracy: 0.5116\n",
      "Epoch 42/50\n",
      "23/23 [==============================] - 1s 32ms/step - loss: 0.0039 - accuracy: 1.0000 - val_loss: 3.4795 - val_accuracy: 0.4884\n",
      "Epoch 43/50\n",
      "23/23 [==============================] - 1s 34ms/step - loss: 0.0083 - accuracy: 0.9972 - val_loss: 3.9785 - val_accuracy: 0.5000\n",
      "Epoch 44/50\n",
      "23/23 [==============================] - 1s 34ms/step - loss: 0.0080 - accuracy: 0.9972 - val_loss: 4.0026 - val_accuracy: 0.5000\n",
      "Epoch 45/50\n",
      "23/23 [==============================] - 1s 32ms/step - loss: 0.0354 - accuracy: 0.9902 - val_loss: 4.1063 - val_accuracy: 0.4419\n",
      "Epoch 46/50\n",
      "23/23 [==============================] - 1s 34ms/step - loss: 0.0243 - accuracy: 0.9916 - val_loss: 3.7668 - val_accuracy: 0.4651\n",
      "Epoch 47/50\n",
      "23/23 [==============================] - 1s 43ms/step - loss: 0.0139 - accuracy: 0.9944 - val_loss: 3.6151 - val_accuracy: 0.4651\n",
      "Epoch 48/50\n",
      "23/23 [==============================] - 1s 32ms/step - loss: 0.0112 - accuracy: 0.9972 - val_loss: 4.5349 - val_accuracy: 0.4419\n",
      "Epoch 49/50\n",
      "23/23 [==============================] - 1s 33ms/step - loss: 0.0240 - accuracy: 0.9902 - val_loss: 3.9831 - val_accuracy: 0.5116\n",
      "Epoch 50/50\n",
      "23/23 [==============================] - 1s 31ms/step - loss: 0.0274 - accuracy: 0.9958 - val_loss: 4.0201 - val_accuracy: 0.4767\n"
     ]
    }
   ],
   "source": [
    "from tensorflow.keras.callbacks import EarlyStopping \n",
    "early_stopping = EarlyStopping(monitor='val_loss', patience=5, mode='auto', restore_best_weights=True)\n",
    "\n",
    "history = model.fit(x_train, y_train,\n",
    "                    batch_size=32,\n",
    "                    epochs=50,\n",
    "                    validation_data=(x_test, y_test))"
   ]
  },
  {
   "cell_type": "code",
   "execution_count": 29,
   "id": "274a3c67",
   "metadata": {},
   "outputs": [
    {
     "data": {
      "image/png": "[encoded data removed]",
      "text/plain": [
       "<Figure size 640x480 with 1 Axes>"
      ]
     },
     "metadata": {},
     "output_type": "display_data"
    }
   ],
   "source": [
    "import matplotlib.pyplot as plt\n",
    "plt.plot(history.history['accuracy'])\n",
    "plt.plot(history.history['val_accuracy'])\n",
    "plt.title('model accuracy')\n",
    "plt.ylabel('accuracy')\n",
    "plt.xlabel('epoch')\n",
    "plt.legend(['train', 'val'], loc='upper left')\n",
    "plt.show()"
   ]
  },
  {
   "cell_type": "code",
   "execution_count": 30,
   "id": "6b5f679d",
   "metadata": {},
   "outputs": [
    {
     "data": {
      "image/png": "[encoded data removed]",
      "text/plain": [
       "<Figure size 640x480 with 1 Axes>"
      ]
     },
     "metadata": {},
     "output_type": "display_data"
    }
   ],
   "source": [
    "plt.plot(history.history['loss'])\n",
    "plt.plot(history.history['val_loss'])\n",
    "plt.title('model loss')\n",
    "plt.ylabel('loss')\n",
    "plt.xlabel('epoch')\n",
    "plt.legend(['train', 'val'], loc='upper left')\n",
    "plt.show()"
   ]
  },
  {
   "cell_type": "code",
   "execution_count": 31,
   "id": "a89bac7a",
   "metadata": {},
   "outputs": [
    {
     "name": "stdout",
     "output_type": "stream",
     "text": [
      "3/3 [==============================] - 0s 19ms/step - loss: 4.0201 - accuracy: 0.4767\n",
      "Accuracy on original test data: 47.67%\n"
     ]
    }
   ],
   "source": [
    "_, accuracy_test_original = model.evaluate(x_test, y_test)\n",
    "print('Accuracy on original test data: {:4.2f}%'.format(accuracy_test_original * 100))"
   ]
  },
  {
   "cell_type": "markdown",
   "id": "043476db",
   "metadata": {},
   "source": [
    "Save the model for future computations"
   ]
  },
  {
   "cell_type": "code",
   "execution_count": 20,
   "id": "46f2decd",
   "metadata": {},
   "outputs": [],
   "source": [
    "model.save('/datasets/nicolas_facchinetti/trained_models/EmoDB/firstCNN.h5')"
   ]
  },
  {
   "cell_type": "code",
   "execution_count": null,
   "id": "882b8851",
   "metadata": {},
   "outputs": [],
   "source": []
  }
 ],
 "metadata": {
  "kernelspec": {
   "display_name": "Python 3 (ipykernel)",
   "language": "python",
   "name": "python3"
  },
  "language_info": {
   "codemirror_mode": {
    "name": "ipython",
    "version": 3
   },
   "file_extension": ".py",
   "mimetype": "text/x-python",
   "name": "python",
   "nbconvert_exporter": "python",
   "pygments_lexer": "ipython3",
   "version": "3.9.13"
  }
 },
 "nbformat": 4,
 "nbformat_minor": 5
}
