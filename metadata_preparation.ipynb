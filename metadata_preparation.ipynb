{
 "cells": [
  {
   "cell_type": "code",
   "execution_count": 1,
   "id": "e0bf42ef",
   "metadata": {},
   "outputs": [],
   "source": [
    "import os\n",
    "import numpy as np\n",
    "import pandas as pd\n",
    "import librosa"
   ]
  },
  {
   "cell_type": "markdown",
   "id": "b9a75ade",
   "metadata": {},
   "source": [
    "Extract and prepare metadata from the used datasets"
   ]
  },
  {
   "cell_type": "code",
   "execution_count": 2,
   "id": "3331669b",
   "metadata": {},
   "outputs": [],
   "source": [
    "ds = [\"emodb\", \"emovo\", \"ravdess\"]\n",
    "for d in ds:\n",
    "    directory = f'/datasets/nicolas_facchinetti/processed_data/{d}/'\n",
    "    if not os.path.exists(directory):\n",
    "        os.makedirs(directory)"
   ]
  },
  {
   "cell_type": "markdown",
   "id": "3a5b7259",
   "metadata": {},
   "source": [
    "# EmoDB dataset"
   ]
  },
  {
   "cell_type": "markdown",
   "id": "b6c9bc32",
   "metadata": {},
   "source": [
    "Create Pandas DataFrame with filename and label"
   ]
  },
  {
   "cell_type": "code",
   "execution_count": 3,
   "id": "323e19f7",
   "metadata": {},
   "outputs": [
    {
     "data": {
      "text/html": [
       "<div>\n",
       "<style scoped>\n",
       "    .dataframe tbody tr th:only-of-type {\n",
       "        vertical-align: middle;\n",
       "    }\n",
       "\n",
       "    .dataframe tbody tr th {\n",
       "        vertical-align: top;\n",
       "    }\n",
       "\n",
       "    .dataframe thead th {\n",
       "        text-align: right;\n",
       "    }\n",
       "</style>\n",
       "<table border=\"1\" class=\"dataframe\">\n",
       "  <thead>\n",
       "    <tr style=\"text-align: right;\">\n",
       "      <th></th>\n",
       "      <th>path</th>\n",
       "      <th>filename</th>\n",
       "      <th>label</th>\n",
       "      <th>actor</th>\n",
       "      <th>gender</th>\n",
       "      <th>length</th>\n",
       "    </tr>\n",
       "  </thead>\n",
       "  <tbody>\n",
       "    <tr>\n",
       "      <th>0</th>\n",
       "      <td>/datasets/nicolas_facchinetti/emodb/data/13a05...</td>\n",
       "      <td>13a05Tc.wav</td>\n",
       "      <td>sad</td>\n",
       "      <td>13</td>\n",
       "      <td>f</td>\n",
       "      <td>4.451383</td>\n",
       "    </tr>\n",
       "    <tr>\n",
       "      <th>1</th>\n",
       "      <td>/datasets/nicolas_facchinetti/emodb/data/14b09...</td>\n",
       "      <td>14b09Ac.wav</td>\n",
       "      <td>fear</td>\n",
       "      <td>14</td>\n",
       "      <td>f</td>\n",
       "      <td>2.287710</td>\n",
       "    </tr>\n",
       "    <tr>\n",
       "      <th>2</th>\n",
       "      <td>/datasets/nicolas_facchinetti/emodb/data/11b02...</td>\n",
       "      <td>11b02Na.wav</td>\n",
       "      <td>neutral</td>\n",
       "      <td>11</td>\n",
       "      <td>m</td>\n",
       "      <td>2.698821</td>\n",
       "    </tr>\n",
       "    <tr>\n",
       "      <th>3</th>\n",
       "      <td>/datasets/nicolas_facchinetti/emodb/data/09b03...</td>\n",
       "      <td>09b03Fd.wav</td>\n",
       "      <td>happy</td>\n",
       "      <td>09</td>\n",
       "      <td>f</td>\n",
       "      <td>3.312517</td>\n",
       "    </tr>\n",
       "    <tr>\n",
       "      <th>4</th>\n",
       "      <td>/datasets/nicolas_facchinetti/emodb/data/16b10...</td>\n",
       "      <td>16b10Fb.wav</td>\n",
       "      <td>happy</td>\n",
       "      <td>16</td>\n",
       "      <td>f</td>\n",
       "      <td>2.583537</td>\n",
       "    </tr>\n",
       "    <tr>\n",
       "      <th>...</th>\n",
       "      <td>...</td>\n",
       "      <td>...</td>\n",
       "      <td>...</td>\n",
       "      <td>...</td>\n",
       "      <td>...</td>\n",
       "      <td>...</td>\n",
       "    </tr>\n",
       "    <tr>\n",
       "      <th>530</th>\n",
       "      <td>/datasets/nicolas_facchinetti/emodb/data/15a04...</td>\n",
       "      <td>15a04Wa.wav</td>\n",
       "      <td>angry</td>\n",
       "      <td>15</td>\n",
       "      <td>m</td>\n",
       "      <td>1.945397</td>\n",
       "    </tr>\n",
       "    <tr>\n",
       "      <th>531</th>\n",
       "      <td>/datasets/nicolas_facchinetti/emodb/data/11b03...</td>\n",
       "      <td>11b03Td.wav</td>\n",
       "      <td>sad</td>\n",
       "      <td>11</td>\n",
       "      <td>m</td>\n",
       "      <td>5.905034</td>\n",
       "    </tr>\n",
       "    <tr>\n",
       "      <th>532</th>\n",
       "      <td>/datasets/nicolas_facchinetti/emodb/data/12b02...</td>\n",
       "      <td>12b02Na.wav</td>\n",
       "      <td>neutral</td>\n",
       "      <td>12</td>\n",
       "      <td>m</td>\n",
       "      <td>2.982086</td>\n",
       "    </tr>\n",
       "    <tr>\n",
       "      <th>533</th>\n",
       "      <td>/datasets/nicolas_facchinetti/emodb/data/14b01...</td>\n",
       "      <td>14b01Eb.wav</td>\n",
       "      <td>disgust</td>\n",
       "      <td>14</td>\n",
       "      <td>f</td>\n",
       "      <td>3.291791</td>\n",
       "    </tr>\n",
       "    <tr>\n",
       "      <th>534</th>\n",
       "      <td>/datasets/nicolas_facchinetti/emodb/data/08b01...</td>\n",
       "      <td>08b01Fe.wav</td>\n",
       "      <td>happy</td>\n",
       "      <td>08</td>\n",
       "      <td>f</td>\n",
       "      <td>2.515782</td>\n",
       "    </tr>\n",
       "  </tbody>\n",
       "</table>\n",
       "<p>535 rows × 6 columns</p>\n",
       "</div>"
      ],
      "text/plain": [
       "                                                  path     filename    label  \\\n",
       "0    /datasets/nicolas_facchinetti/emodb/data/13a05...  13a05Tc.wav      sad   \n",
       "1    /datasets/nicolas_facchinetti/emodb/data/14b09...  14b09Ac.wav     fear   \n",
       "2    /datasets/nicolas_facchinetti/emodb/data/11b02...  11b02Na.wav  neutral   \n",
       "3    /datasets/nicolas_facchinetti/emodb/data/09b03...  09b03Fd.wav    happy   \n",
       "4    /datasets/nicolas_facchinetti/emodb/data/16b10...  16b10Fb.wav    happy   \n",
       "..                                                 ...          ...      ...   \n",
       "530  /datasets/nicolas_facchinetti/emodb/data/15a04...  15a04Wa.wav    angry   \n",
       "531  /datasets/nicolas_facchinetti/emodb/data/11b03...  11b03Td.wav      sad   \n",
       "532  /datasets/nicolas_facchinetti/emodb/data/12b02...  12b02Na.wav  neutral   \n",
       "533  /datasets/nicolas_facchinetti/emodb/data/14b01...  14b01Eb.wav  disgust   \n",
       "534  /datasets/nicolas_facchinetti/emodb/data/08b01...  08b01Fe.wav    happy   \n",
       "\n",
       "    actor gender    length  \n",
       "0      13      f  4.451383  \n",
       "1      14      f  2.287710  \n",
       "2      11      m  2.698821  \n",
       "3      09      f  3.312517  \n",
       "4      16      f  2.583537  \n",
       "..    ...    ...       ...  \n",
       "530    15      m  1.945397  \n",
       "531    11      m  5.905034  \n",
       "532    12      m  2.982086  \n",
       "533    14      f  3.291791  \n",
       "534    08      f  2.515782  \n",
       "\n",
       "[535 rows x 6 columns]"
      ]
     },
     "execution_count": 3,
     "metadata": {},
     "output_type": "execute_result"
    }
   ],
   "source": [
    "label2name = {\n",
    "    \"L\": \"bored\",\n",
    "    \"A\": \"fear\",\n",
    "    \"E\": \"disgust\",\n",
    "    \"F\": \"happy\",\n",
    "    \"T\": \"sad\",\n",
    "    \"W\": \"angry\",\n",
    "    \"N\": \"neutral\"\n",
    "}\n",
    "\n",
    "male = ['03', '10', '11', '12', '15']\n",
    "\n",
    "dir_path = '/datasets/nicolas_facchinetti/emodb/data'\n",
    "data = []\n",
    "for filename in os.listdir(dir_path):\n",
    "    filepath = os.path.join(dir_path, filename)\n",
    "    \n",
    "    samples, sr = librosa.load(filepath, sr=22050)\n",
    "    length = len(samples)/sr\n",
    "    cat = label2name[filename[5]]\n",
    "    actor = filename[0:2]\n",
    "    gender = 'm' if actor in male else 'f'\n",
    "    data.append([filepath, filename, cat, actor, gender, length])\n",
    "    \n",
    "df_emodb = pd.DataFrame(data, columns=['path', 'filename', 'label', 'actor', 'gender', 'length'])\n",
    "df_emodb"
   ]
  },
  {
   "cell_type": "markdown",
   "id": "3bf82ee2",
   "metadata": {},
   "source": [
    "Sampes length analysis"
   ]
  },
  {
   "cell_type": "code",
   "execution_count": 4,
   "id": "e9ee6162",
   "metadata": {},
   "outputs": [
    {
     "data": {
      "text/plain": [
       "count    535.000000\n",
       "mean       2.779635\n",
       "std        1.028189\n",
       "min        1.225533\n",
       "25%        2.026621\n",
       "50%        2.590204\n",
       "75%        3.308435\n",
       "max        8.978277\n",
       "Name: length, dtype: float64"
      ]
     },
     "execution_count": 4,
     "metadata": {},
     "output_type": "execute_result"
    }
   ],
   "source": [
    "df_emodb[\"length\"].describe()"
   ]
  },
  {
   "cell_type": "code",
   "execution_count": 31,
   "id": "32d014a3",
   "metadata": {
    "scrolled": true
   },
   "outputs": [
    {
     "data": {
      "text/plain": [
       "angry      127\n",
       "bored       81\n",
       "neutral     79\n",
       "happy       71\n",
       "fear        69\n",
       "sad         62\n",
       "disgust     46\n",
       "Name: emodb, dtype: int64"
      ]
     },
     "execution_count": 31,
     "metadata": {},
     "output_type": "execute_result"
    }
   ],
   "source": [
    "emodb_l = df_emodb.label.value_counts().rename('emodb')\n",
    "emodb_l"
   ]
  },
  {
   "cell_type": "code",
   "execution_count": 6,
   "id": "cb87d62c",
   "metadata": {},
   "outputs": [
    {
     "data": {
      "text/plain": [
       "16    71\n",
       "14    69\n",
       "13    61\n",
       "08    58\n",
       "15    56\n",
       "11    55\n",
       "03    49\n",
       "09    43\n",
       "10    38\n",
       "12    35\n",
       "Name: actor, dtype: int64"
      ]
     },
     "execution_count": 6,
     "metadata": {},
     "output_type": "execute_result"
    }
   ],
   "source": [
    "df_emodb.actor.value_counts()"
   ]
  },
  {
   "cell_type": "markdown",
   "id": "d7690792",
   "metadata": {},
   "source": [
    "Save metadata"
   ]
  },
  {
   "cell_type": "markdown",
   "id": "5268f3d0",
   "metadata": {},
   "source": [
    "# EMOVO"
   ]
  },
  {
   "cell_type": "markdown",
   "id": "6c07caf8",
   "metadata": {},
   "source": [
    "Create Pandas DataFrame with filename and label"
   ]
  },
  {
   "cell_type": "code",
   "execution_count": 36,
   "id": "8e4ab7c6",
   "metadata": {},
   "outputs": [
    {
     "data": {
      "text/html": [
       "<div>\n",
       "<style scoped>\n",
       "    .dataframe tbody tr th:only-of-type {\n",
       "        vertical-align: middle;\n",
       "    }\n",
       "\n",
       "    .dataframe tbody tr th {\n",
       "        vertical-align: top;\n",
       "    }\n",
       "\n",
       "    .dataframe thead th {\n",
       "        text-align: right;\n",
       "    }\n",
       "</style>\n",
       "<table border=\"1\" class=\"dataframe\">\n",
       "  <thead>\n",
       "    <tr style=\"text-align: right;\">\n",
       "      <th></th>\n",
       "      <th>path</th>\n",
       "      <th>filename</th>\n",
       "      <th>label</th>\n",
       "      <th>actor</th>\n",
       "      <th>gender</th>\n",
       "      <th>length</th>\n",
       "    </tr>\n",
       "  </thead>\n",
       "  <tbody>\n",
       "    <tr>\n",
       "      <th>0</th>\n",
       "      <td>/datasets/nicolas_facchinetti/emovo/data/m3/gi...</td>\n",
       "      <td>gio-m3-l1.wav</td>\n",
       "      <td>happy</td>\n",
       "      <td>m3</td>\n",
       "      <td>m</td>\n",
       "      <td>5.205351</td>\n",
       "    </tr>\n",
       "    <tr>\n",
       "      <th>1</th>\n",
       "      <td>/datasets/nicolas_facchinetti/emovo/data/m3/gi...</td>\n",
       "      <td>gio-m3-b3.wav</td>\n",
       "      <td>happy</td>\n",
       "      <td>m3</td>\n",
       "      <td>m</td>\n",
       "      <td>1.877370</td>\n",
       "    </tr>\n",
       "    <tr>\n",
       "      <th>2</th>\n",
       "      <td>/datasets/nicolas_facchinetti/emovo/data/m3/pa...</td>\n",
       "      <td>pau-m3-n5.wav</td>\n",
       "      <td>fear</td>\n",
       "      <td>m3</td>\n",
       "      <td>m</td>\n",
       "      <td>4.394694</td>\n",
       "    </tr>\n",
       "    <tr>\n",
       "      <th>3</th>\n",
       "      <td>/datasets/nicolas_facchinetti/emovo/data/m3/tr...</td>\n",
       "      <td>tri-m3-b2.wav</td>\n",
       "      <td>sad</td>\n",
       "      <td>m3</td>\n",
       "      <td>m</td>\n",
       "      <td>2.773333</td>\n",
       "    </tr>\n",
       "    <tr>\n",
       "      <th>4</th>\n",
       "      <td>/datasets/nicolas_facchinetti/emovo/data/m3/tr...</td>\n",
       "      <td>tri-m3-l4.wav</td>\n",
       "      <td>sad</td>\n",
       "      <td>m3</td>\n",
       "      <td>m</td>\n",
       "      <td>3.370703</td>\n",
       "    </tr>\n",
       "    <tr>\n",
       "      <th>...</th>\n",
       "      <td>...</td>\n",
       "      <td>...</td>\n",
       "      <td>...</td>\n",
       "      <td>...</td>\n",
       "      <td>...</td>\n",
       "      <td>...</td>\n",
       "    </tr>\n",
       "    <tr>\n",
       "      <th>583</th>\n",
       "      <td>/datasets/nicolas_facchinetti/emovo/data/m2/di...</td>\n",
       "      <td>dis-m2-b3.wav</td>\n",
       "      <td>disgust</td>\n",
       "      <td>m2</td>\n",
       "      <td>m</td>\n",
       "      <td>2.474694</td>\n",
       "    </tr>\n",
       "    <tr>\n",
       "      <th>584</th>\n",
       "      <td>/datasets/nicolas_facchinetti/emovo/data/m2/so...</td>\n",
       "      <td>sor-m2-d1.wav</td>\n",
       "      <td>surprised</td>\n",
       "      <td>m2</td>\n",
       "      <td>m</td>\n",
       "      <td>2.090703</td>\n",
       "    </tr>\n",
       "    <tr>\n",
       "      <th>585</th>\n",
       "      <td>/datasets/nicolas_facchinetti/emovo/data/m2/pa...</td>\n",
       "      <td>pau-m2-b3.wav</td>\n",
       "      <td>fear</td>\n",
       "      <td>m2</td>\n",
       "      <td>m</td>\n",
       "      <td>1.962676</td>\n",
       "    </tr>\n",
       "    <tr>\n",
       "      <th>586</th>\n",
       "      <td>/datasets/nicolas_facchinetti/emovo/data/m2/tr...</td>\n",
       "      <td>tri-m2-n2.wav</td>\n",
       "      <td>sad</td>\n",
       "      <td>m2</td>\n",
       "      <td>m</td>\n",
       "      <td>2.368027</td>\n",
       "    </tr>\n",
       "    <tr>\n",
       "      <th>587</th>\n",
       "      <td>/datasets/nicolas_facchinetti/emovo/data/m2/ra...</td>\n",
       "      <td>rab-m2-l1.wav</td>\n",
       "      <td>angry</td>\n",
       "      <td>m2</td>\n",
       "      <td>m</td>\n",
       "      <td>5.461361</td>\n",
       "    </tr>\n",
       "  </tbody>\n",
       "</table>\n",
       "<p>588 rows × 6 columns</p>\n",
       "</div>"
      ],
      "text/plain": [
       "                                                  path       filename  \\\n",
       "0    /datasets/nicolas_facchinetti/emovo/data/m3/gi...  gio-m3-l1.wav   \n",
       "1    /datasets/nicolas_facchinetti/emovo/data/m3/gi...  gio-m3-b3.wav   \n",
       "2    /datasets/nicolas_facchinetti/emovo/data/m3/pa...  pau-m3-n5.wav   \n",
       "3    /datasets/nicolas_facchinetti/emovo/data/m3/tr...  tri-m3-b2.wav   \n",
       "4    /datasets/nicolas_facchinetti/emovo/data/m3/tr...  tri-m3-l4.wav   \n",
       "..                                                 ...            ...   \n",
       "583  /datasets/nicolas_facchinetti/emovo/data/m2/di...  dis-m2-b3.wav   \n",
       "584  /datasets/nicolas_facchinetti/emovo/data/m2/so...  sor-m2-d1.wav   \n",
       "585  /datasets/nicolas_facchinetti/emovo/data/m2/pa...  pau-m2-b3.wav   \n",
       "586  /datasets/nicolas_facchinetti/emovo/data/m2/tr...  tri-m2-n2.wav   \n",
       "587  /datasets/nicolas_facchinetti/emovo/data/m2/ra...  rab-m2-l1.wav   \n",
       "\n",
       "         label actor gender    length  \n",
       "0        happy    m3      m  5.205351  \n",
       "1        happy    m3      m  1.877370  \n",
       "2         fear    m3      m  4.394694  \n",
       "3          sad    m3      m  2.773333  \n",
       "4          sad    m3      m  3.370703  \n",
       "..         ...   ...    ...       ...  \n",
       "583    disgust    m2      m  2.474694  \n",
       "584  surprised    m2      m  2.090703  \n",
       "585       fear    m2      m  1.962676  \n",
       "586        sad    m2      m  2.368027  \n",
       "587      angry    m2      m  5.461361  \n",
       "\n",
       "[588 rows x 6 columns]"
      ]
     },
     "execution_count": 36,
     "metadata": {},
     "output_type": "execute_result"
    }
   ],
   "source": [
    "label2name = {\n",
    "    \"dis\": \"disgust\",\n",
    "    \"neu\": \"neutral\",\n",
    "    \"gio\": \"happy\",\n",
    "    \"pau\": \"fear\",\n",
    "    \"tri\": \"sad\",\n",
    "    \"rab\": \"angry\",\n",
    "    \"sor\": \"surprised\",\n",
    "}\n",
    "\n",
    "dir_path = '/datasets/nicolas_facchinetti/emovo/data'\n",
    "data = []\n",
    "for actor in os.listdir(dir_path):\n",
    "    path = dir_path+f\"/{actor}\"\n",
    "    for filename in os.listdir(path):\n",
    "        filepath = os.path.join(path, filename)\n",
    "        info = filename.split(\"-\")\n",
    "        samples, sr = librosa.load(filepath, sr=22050)\n",
    "        \n",
    "        length = len(samples)/sr\n",
    "        cat = label2name[filename[0:3]]\n",
    "        gender = actor[0]\n",
    "        data.append([filepath, filename, cat, actor, gender, length])\n",
    "    \n",
    "    \n",
    "df_emovo = pd.DataFrame(data, columns=['path', 'filename', 'label', 'actor', 'gender', 'length'])\n",
    "df_emovo"
   ]
  },
  {
   "cell_type": "markdown",
   "id": "6d355b05",
   "metadata": {},
   "source": [
    "Sampes length analysis"
   ]
  },
  {
   "cell_type": "code",
   "execution_count": 9,
   "id": "6c8767d4",
   "metadata": {},
   "outputs": [
    {
     "data": {
      "text/plain": [
       "count    588.000000\n",
       "mean       3.121005\n",
       "std        1.357110\n",
       "min        1.290703\n",
       "25%        2.133333\n",
       "50%        2.773333\n",
       "75%        3.840000\n",
       "max       13.994694\n",
       "Name: length, dtype: float64"
      ]
     },
     "execution_count": 9,
     "metadata": {},
     "output_type": "execute_result"
    }
   ],
   "source": [
    "df_emovo[\"length\"].describe()"
   ]
  },
  {
   "cell_type": "code",
   "execution_count": 39,
   "id": "756ae920",
   "metadata": {
    "scrolled": true
   },
   "outputs": [
    {
     "data": {
      "text/plain": [
       "happy        84\n",
       "fear         84\n",
       "sad          84\n",
       "surprised    84\n",
       "disgust      84\n",
       "neutral      84\n",
       "angry        84\n",
       "Name: emovo, dtype: int64"
      ]
     },
     "execution_count": 39,
     "metadata": {},
     "output_type": "execute_result"
    }
   ],
   "source": [
    "emovo_l = df_emovo.label.value_counts().rename('emovo')\n",
    "emovo_l"
   ]
  },
  {
   "cell_type": "code",
   "execution_count": 11,
   "id": "50a9583a",
   "metadata": {},
   "outputs": [
    {
     "data": {
      "text/plain": [
       "m3    98\n",
       "f1    98\n",
       "f2    98\n",
       "f3    98\n",
       "m1    98\n",
       "m2    98\n",
       "Name: actor, dtype: int64"
      ]
     },
     "execution_count": 11,
     "metadata": {},
     "output_type": "execute_result"
    }
   ],
   "source": [
    "df_emovo.actor.value_counts()"
   ]
  },
  {
   "cell_type": "markdown",
   "id": "f7ccb052",
   "metadata": {},
   "source": [
    "Save metadata"
   ]
  },
  {
   "cell_type": "markdown",
   "id": "93720072",
   "metadata": {},
   "source": [
    "# RAVDESS"
   ]
  },
  {
   "cell_type": "markdown",
   "id": "1537cae2",
   "metadata": {},
   "source": [
    "Create Pandas DataFrame with filename and label"
   ]
  },
  {
   "cell_type": "code",
   "execution_count": 34,
   "id": "722d6e5b",
   "metadata": {},
   "outputs": [
    {
     "data": {
      "text/html": [
       "<div>\n",
       "<style scoped>\n",
       "    .dataframe tbody tr th:only-of-type {\n",
       "        vertical-align: middle;\n",
       "    }\n",
       "\n",
       "    .dataframe tbody tr th {\n",
       "        vertical-align: top;\n",
       "    }\n",
       "\n",
       "    .dataframe thead th {\n",
       "        text-align: right;\n",
       "    }\n",
       "</style>\n",
       "<table border=\"1\" class=\"dataframe\">\n",
       "  <thead>\n",
       "    <tr style=\"text-align: right;\">\n",
       "      <th></th>\n",
       "      <th>path</th>\n",
       "      <th>filename</th>\n",
       "      <th>label</th>\n",
       "      <th>actor</th>\n",
       "      <th>gender</th>\n",
       "      <th>length</th>\n",
       "    </tr>\n",
       "  </thead>\n",
       "  <tbody>\n",
       "    <tr>\n",
       "      <th>0</th>\n",
       "      <td>/datasets/nicolas_facchinetti/ravdess/data/Act...</td>\n",
       "      <td>03-01-05-01-02-01-15.wav</td>\n",
       "      <td>angry</td>\n",
       "      <td>Actor_15</td>\n",
       "      <td>m</td>\n",
       "      <td>3.703719</td>\n",
       "    </tr>\n",
       "    <tr>\n",
       "      <th>1</th>\n",
       "      <td>/datasets/nicolas_facchinetti/ravdess/data/Act...</td>\n",
       "      <td>03-01-08-01-02-02-15.wav</td>\n",
       "      <td>surprised</td>\n",
       "      <td>Actor_15</td>\n",
       "      <td>m</td>\n",
       "      <td>3.370068</td>\n",
       "    </tr>\n",
       "    <tr>\n",
       "      <th>2</th>\n",
       "      <td>/datasets/nicolas_facchinetti/ravdess/data/Act...</td>\n",
       "      <td>03-01-07-02-02-02-15.wav</td>\n",
       "      <td>disgust</td>\n",
       "      <td>Actor_15</td>\n",
       "      <td>m</td>\n",
       "      <td>3.470159</td>\n",
       "    </tr>\n",
       "    <tr>\n",
       "      <th>3</th>\n",
       "      <td>/datasets/nicolas_facchinetti/ravdess/data/Act...</td>\n",
       "      <td>03-01-04-01-02-01-15.wav</td>\n",
       "      <td>sad</td>\n",
       "      <td>Actor_15</td>\n",
       "      <td>m</td>\n",
       "      <td>3.303356</td>\n",
       "    </tr>\n",
       "    <tr>\n",
       "      <th>4</th>\n",
       "      <td>/datasets/nicolas_facchinetti/ravdess/data/Act...</td>\n",
       "      <td>03-01-03-01-02-01-15.wav</td>\n",
       "      <td>happy</td>\n",
       "      <td>Actor_15</td>\n",
       "      <td>m</td>\n",
       "      <td>3.336689</td>\n",
       "    </tr>\n",
       "    <tr>\n",
       "      <th>...</th>\n",
       "      <td>...</td>\n",
       "      <td>...</td>\n",
       "      <td>...</td>\n",
       "      <td>...</td>\n",
       "      <td>...</td>\n",
       "      <td>...</td>\n",
       "    </tr>\n",
       "    <tr>\n",
       "      <th>1435</th>\n",
       "      <td>/datasets/nicolas_facchinetti/ravdess/data/Act...</td>\n",
       "      <td>03-01-06-02-01-02-13.wav</td>\n",
       "      <td>fear</td>\n",
       "      <td>Actor_13</td>\n",
       "      <td>m</td>\n",
       "      <td>3.269977</td>\n",
       "    </tr>\n",
       "    <tr>\n",
       "      <th>1436</th>\n",
       "      <td>/datasets/nicolas_facchinetti/ravdess/data/Act...</td>\n",
       "      <td>03-01-02-01-02-01-13.wav</td>\n",
       "      <td>calm</td>\n",
       "      <td>Actor_13</td>\n",
       "      <td>m</td>\n",
       "      <td>3.136463</td>\n",
       "    </tr>\n",
       "    <tr>\n",
       "      <th>1437</th>\n",
       "      <td>/datasets/nicolas_facchinetti/ravdess/data/Act...</td>\n",
       "      <td>03-01-04-01-01-02-13.wav</td>\n",
       "      <td>sad</td>\n",
       "      <td>Actor_13</td>\n",
       "      <td>m</td>\n",
       "      <td>3.536871</td>\n",
       "    </tr>\n",
       "    <tr>\n",
       "      <th>1438</th>\n",
       "      <td>/datasets/nicolas_facchinetti/ravdess/data/Act...</td>\n",
       "      <td>03-01-08-01-02-02-13.wav</td>\n",
       "      <td>surprised</td>\n",
       "      <td>Actor_13</td>\n",
       "      <td>m</td>\n",
       "      <td>3.036417</td>\n",
       "    </tr>\n",
       "    <tr>\n",
       "      <th>1439</th>\n",
       "      <td>/datasets/nicolas_facchinetti/ravdess/data/Act...</td>\n",
       "      <td>03-01-07-01-01-02-13.wav</td>\n",
       "      <td>disgust</td>\n",
       "      <td>Actor_13</td>\n",
       "      <td>m</td>\n",
       "      <td>3.169841</td>\n",
       "    </tr>\n",
       "  </tbody>\n",
       "</table>\n",
       "<p>1440 rows × 6 columns</p>\n",
       "</div>"
      ],
      "text/plain": [
       "                                                   path  \\\n",
       "0     /datasets/nicolas_facchinetti/ravdess/data/Act...   \n",
       "1     /datasets/nicolas_facchinetti/ravdess/data/Act...   \n",
       "2     /datasets/nicolas_facchinetti/ravdess/data/Act...   \n",
       "3     /datasets/nicolas_facchinetti/ravdess/data/Act...   \n",
       "4     /datasets/nicolas_facchinetti/ravdess/data/Act...   \n",
       "...                                                 ...   \n",
       "1435  /datasets/nicolas_facchinetti/ravdess/data/Act...   \n",
       "1436  /datasets/nicolas_facchinetti/ravdess/data/Act...   \n",
       "1437  /datasets/nicolas_facchinetti/ravdess/data/Act...   \n",
       "1438  /datasets/nicolas_facchinetti/ravdess/data/Act...   \n",
       "1439  /datasets/nicolas_facchinetti/ravdess/data/Act...   \n",
       "\n",
       "                      filename      label     actor gender    length  \n",
       "0     03-01-05-01-02-01-15.wav      angry  Actor_15      m  3.703719  \n",
       "1     03-01-08-01-02-02-15.wav  surprised  Actor_15      m  3.370068  \n",
       "2     03-01-07-02-02-02-15.wav    disgust  Actor_15      m  3.470159  \n",
       "3     03-01-04-01-02-01-15.wav        sad  Actor_15      m  3.303356  \n",
       "4     03-01-03-01-02-01-15.wav      happy  Actor_15      m  3.336689  \n",
       "...                        ...        ...       ...    ...       ...  \n",
       "1435  03-01-06-02-01-02-13.wav       fear  Actor_13      m  3.269977  \n",
       "1436  03-01-02-01-02-01-13.wav       calm  Actor_13      m  3.136463  \n",
       "1437  03-01-04-01-01-02-13.wav        sad  Actor_13      m  3.536871  \n",
       "1438  03-01-08-01-02-02-13.wav  surprised  Actor_13      m  3.036417  \n",
       "1439  03-01-07-01-01-02-13.wav    disgust  Actor_13      m  3.169841  \n",
       "\n",
       "[1440 rows x 6 columns]"
      ]
     },
     "execution_count": 34,
     "metadata": {},
     "output_type": "execute_result"
    }
   ],
   "source": [
    "label2name = {\n",
    "    \"01\": \"neutral\",\n",
    "    \"02\": \"calm\",\n",
    "    \"03\": \"happy\",\n",
    "    \"04\": \"sad\",\n",
    "    \"05\": \"angry\",\n",
    "    \"06\": \"fear\",\n",
    "    \"07\": \"disgust\",\n",
    "    \"08\": \"surprised\"\n",
    "}\n",
    "# Filename identifiers\n",
    "# Modality (01 = full-AV, 02 = video-only, 03 = audio-only).\n",
    "# Vocal channel (01 = speech, 02 = song).\n",
    "# Emotion (01 = neutral, 02 = calm, 03 = happy, 04 = sad, 05 = angry, 06 = fearful, 07 = disgust, 08 = surprised).\n",
    "# Emotional intensity (01 = normal, 02 = strong). NOTE: There is no strong intensity for the 'neutral' emotion.\n",
    "# Statement (01 = \"Kids are talking by the door\", 02 = \"Dogs are sitting by the door\").\n",
    "# Repetition (01 = 1st repetition, 02 = 2nd repetition).\n",
    "# Actor (01 to 24. Odd numbered actors are male, even numbered actors are female).\n",
    "# Filename example: 03-01-06-01-02-01-12.wav\n",
    "\n",
    "dir_path = '/datasets/nicolas_facchinetti/ravdess/data/'\n",
    "data = []\n",
    "for actor in os.listdir(dir_path):\n",
    "    path = dir_path+f\"{actor}\"\n",
    "    for filename in os.listdir(path):\n",
    "        filepath = os.path.join(path, filename)\n",
    "        \n",
    "        samples, sr = librosa.load(filepath, sr=22050)\n",
    "        info = filename.split(\"-\")\n",
    "        length = len(samples)/sr\n",
    "        cat = label2name[info[2]]\n",
    "        gender = ('f' if int(info[-1][:2]) % 2 == 0 else 'm')\n",
    "\n",
    "        data.append([filepath, filename, cat, actor, gender, length])\n",
    "    \n",
    "    \n",
    "df_ravdess = pd.DataFrame(data, columns=['path', \"filename\", 'label', 'actor', 'gender', 'length'])\n",
    "df_ravdess"
   ]
  },
  {
   "cell_type": "markdown",
   "id": "b10a6c13",
   "metadata": {},
   "source": [
    "Sampes length analysis"
   ]
  },
  {
   "cell_type": "code",
   "execution_count": 14,
   "id": "a8dff652",
   "metadata": {},
   "outputs": [
    {
     "data": {
      "text/plain": [
       "count    1440.000000\n",
       "mean        3.700688\n",
       "std         0.336676\n",
       "min         2.936281\n",
       "25%         3.470159\n",
       "50%         3.670340\n",
       "75%         3.870567\n",
       "max         5.271973\n",
       "Name: length, dtype: float64"
      ]
     },
     "execution_count": 14,
     "metadata": {},
     "output_type": "execute_result"
    }
   ],
   "source": [
    "df_ravdess[\"length\"].describe()"
   ]
  },
  {
   "cell_type": "code",
   "execution_count": 41,
   "id": "13cee64f",
   "metadata": {
    "scrolled": true
   },
   "outputs": [
    {
     "data": {
      "text/plain": [
       "angry        192\n",
       "surprised    192\n",
       "disgust      192\n",
       "sad          192\n",
       "happy        192\n",
       "fear         192\n",
       "calm         192\n",
       "neutral       96\n",
       "Name: ravdess, dtype: int64"
      ]
     },
     "execution_count": 41,
     "metadata": {},
     "output_type": "execute_result"
    }
   ],
   "source": [
    "ravdess_l = df_ravdess.label.value_counts().rename('ravdess')\n",
    "ravdess_l"
   ]
  },
  {
   "cell_type": "code",
   "execution_count": 16,
   "id": "4f2a4e20",
   "metadata": {},
   "outputs": [
    {
     "data": {
      "text/plain": [
       "Actor_15    60\n",
       "Actor_20    60\n",
       "Actor_01    60\n",
       "Actor_06    60\n",
       "Actor_09    60\n",
       "Actor_16    60\n",
       "Actor_22    60\n",
       "Actor_17    60\n",
       "Actor_24    60\n",
       "Actor_02    60\n",
       "Actor_23    60\n",
       "Actor_07    60\n",
       "Actor_19    60\n",
       "Actor_10    60\n",
       "Actor_12    60\n",
       "Actor_05    60\n",
       "Actor_08    60\n",
       "Actor_14    60\n",
       "Actor_11    60\n",
       "Actor_18    60\n",
       "Actor_21    60\n",
       "Actor_03    60\n",
       "Actor_04    60\n",
       "Actor_13    60\n",
       "Name: actor, dtype: int64"
      ]
     },
     "execution_count": 16,
     "metadata": {},
     "output_type": "execute_result"
    }
   ],
   "source": [
    "df_ravdess.actor.value_counts()"
   ]
  },
  {
   "cell_type": "markdown",
   "id": "92d7d1cb",
   "metadata": {},
   "source": [
    "# Compare labels of emotions"
   ]
  },
  {
   "cell_type": "code",
   "execution_count": 43,
   "id": "507d53ad",
   "metadata": {},
   "outputs": [
    {
     "data": {
      "text/plain": [
       "[7, 7, 8]"
      ]
     },
     "execution_count": 43,
     "metadata": {},
     "output_type": "execute_result"
    }
   ],
   "source": [
    "[len(emodb_l), len(emovo_l), len(ravdess_l)]"
   ]
  },
  {
   "cell_type": "code",
   "execution_count": 42,
   "id": "2e2fb631",
   "metadata": {},
   "outputs": [
    {
     "data": {
      "text/html": [
       "<div>\n",
       "<style scoped>\n",
       "    .dataframe tbody tr th:only-of-type {\n",
       "        vertical-align: middle;\n",
       "    }\n",
       "\n",
       "    .dataframe tbody tr th {\n",
       "        vertical-align: top;\n",
       "    }\n",
       "\n",
       "    .dataframe thead th {\n",
       "        text-align: right;\n",
       "    }\n",
       "</style>\n",
       "<table border=\"1\" class=\"dataframe\">\n",
       "  <thead>\n",
       "    <tr style=\"text-align: right;\">\n",
       "      <th></th>\n",
       "      <th>emodb</th>\n",
       "      <th>emovo</th>\n",
       "      <th>ravdess</th>\n",
       "    </tr>\n",
       "  </thead>\n",
       "  <tbody>\n",
       "    <tr>\n",
       "      <th>angry</th>\n",
       "      <td>127.0</td>\n",
       "      <td>84.0</td>\n",
       "      <td>192.0</td>\n",
       "    </tr>\n",
       "    <tr>\n",
       "      <th>bored</th>\n",
       "      <td>81.0</td>\n",
       "      <td>NaN</td>\n",
       "      <td>NaN</td>\n",
       "    </tr>\n",
       "    <tr>\n",
       "      <th>neutral</th>\n",
       "      <td>79.0</td>\n",
       "      <td>84.0</td>\n",
       "      <td>96.0</td>\n",
       "    </tr>\n",
       "    <tr>\n",
       "      <th>happy</th>\n",
       "      <td>71.0</td>\n",
       "      <td>84.0</td>\n",
       "      <td>192.0</td>\n",
       "    </tr>\n",
       "    <tr>\n",
       "      <th>fear</th>\n",
       "      <td>69.0</td>\n",
       "      <td>84.0</td>\n",
       "      <td>192.0</td>\n",
       "    </tr>\n",
       "    <tr>\n",
       "      <th>sad</th>\n",
       "      <td>62.0</td>\n",
       "      <td>84.0</td>\n",
       "      <td>192.0</td>\n",
       "    </tr>\n",
       "    <tr>\n",
       "      <th>disgust</th>\n",
       "      <td>46.0</td>\n",
       "      <td>84.0</td>\n",
       "      <td>192.0</td>\n",
       "    </tr>\n",
       "    <tr>\n",
       "      <th>surprised</th>\n",
       "      <td>NaN</td>\n",
       "      <td>84.0</td>\n",
       "      <td>192.0</td>\n",
       "    </tr>\n",
       "    <tr>\n",
       "      <th>calm</th>\n",
       "      <td>NaN</td>\n",
       "      <td>NaN</td>\n",
       "      <td>192.0</td>\n",
       "    </tr>\n",
       "  </tbody>\n",
       "</table>\n",
       "</div>"
      ],
      "text/plain": [
       "           emodb  emovo  ravdess\n",
       "angry      127.0   84.0    192.0\n",
       "bored       81.0    NaN      NaN\n",
       "neutral     79.0   84.0     96.0\n",
       "happy       71.0   84.0    192.0\n",
       "fear        69.0   84.0    192.0\n",
       "sad         62.0   84.0    192.0\n",
       "disgust     46.0   84.0    192.0\n",
       "surprised    NaN   84.0    192.0\n",
       "calm         NaN    NaN    192.0"
      ]
     },
     "execution_count": 42,
     "metadata": {},
     "output_type": "execute_result"
    }
   ],
   "source": [
    "pd.concat([emodb_l, emovo_l, ravdess_l], axis=1)"
   ]
  },
  {
   "cell_type": "markdown",
   "id": "db4801e6",
   "metadata": {},
   "source": [
    "For the study we want to conduct all the dataset must have the same number of labels, remove 'neutral' from Ravdess to have a better balanced dataset"
   ]
  },
  {
   "cell_type": "code",
   "execution_count": 46,
   "id": "454573f1",
   "metadata": {},
   "outputs": [],
   "source": [
    "df_ravdess_mod = df_ravdess.drop(df_ravdess[df_ravdess.label == 'neutral'].index)"
   ]
  },
  {
   "cell_type": "code",
   "execution_count": 47,
   "id": "b8810aff",
   "metadata": {},
   "outputs": [
    {
     "data": {
      "text/plain": [
       "angry        192\n",
       "surprised    192\n",
       "disgust      192\n",
       "sad          192\n",
       "happy        192\n",
       "fear         192\n",
       "calm         192\n",
       "Name: label, dtype: int64"
      ]
     },
     "execution_count": 47,
     "metadata": {},
     "output_type": "execute_result"
    }
   ],
   "source": [
    "df_ravdess_mod.label.value_counts()"
   ]
  },
  {
   "cell_type": "markdown",
   "id": "2388be2c",
   "metadata": {},
   "source": [
    "# Save metadata"
   ]
  },
  {
   "cell_type": "code",
   "execution_count": 48,
   "id": "abd9b6c3",
   "metadata": {},
   "outputs": [],
   "source": [
    "df_emodb.to_csv(\"/datasets/nicolas_facchinetti/processed_data/emodb/processed_metadata.csv\", index=False)"
   ]
  },
  {
   "cell_type": "code",
   "execution_count": 49,
   "id": "ad1855cf",
   "metadata": {},
   "outputs": [],
   "source": [
    "df_emovo.to_csv(\"/datasets/nicolas_facchinetti/processed_data/emovo/processed_metadata.csv\", index=False)"
   ]
  },
  {
   "cell_type": "code",
   "execution_count": 50,
   "id": "9c168987",
   "metadata": {},
   "outputs": [],
   "source": [
    "df_ravdess_mod.to_csv(\"/datasets/nicolas_facchinetti/processed_data/ravdess/processed_metadata.csv\", index=False)"
   ]
  }
 ],
 "metadata": {
  "kernelspec": {
   "display_name": "Python 3 (ipykernel)",
   "language": "python",
   "name": "python3"
  },
  "language_info": {
   "codemirror_mode": {
    "name": "ipython",
    "version": 3
   },
   "file_extension": ".py",
   "mimetype": "text/x-python",
   "name": "python",
   "nbconvert_exporter": "python",
   "pygments_lexer": "ipython3",
   "version": "3.9.13"
  }
 },
 "nbformat": 4,
 "nbformat_minor": 5
}
