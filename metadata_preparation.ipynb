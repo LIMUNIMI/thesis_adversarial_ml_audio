{
 "cells": [
  {
   "cell_type": "code",
   "execution_count": 1,
   "id": "e0bf42ef",
   "metadata": {},
   "outputs": [],
   "source": [
    "import os\n",
    "import numpy as np\n",
    "import pandas as pd\n",
    "import librosa"
   ]
  },
  {
   "cell_type": "markdown",
   "id": "b7c01576",
   "metadata": {},
   "source": [
    "Extract and prepare metadata from the used datasets"
   ]
  },
  {
   "cell_type": "code",
   "execution_count": 6,
   "id": "3e7f5099",
   "metadata": {},
   "outputs": [],
   "source": [
    "ds = [\"emodb\", \"emovo\", \"ravdess\"]\n",
    "for d in ds:\n",
    "    #directory = f'/datasets/nicolas_facchinetti/processed_data/{d}/'\n",
    "    directory = \"D:\\\\Scuola\\\\TesiMag\\\\thesis_adversarial_ml_audio\\\\processed_data\\\\{}\\\\\".format(d)\n",
    "    if not os.path.exists(directory):\n",
    "        os.makedirs(directory)"
   ]
  },
  {
   "cell_type": "markdown",
   "id": "3a5b7259",
   "metadata": {},
   "source": [
    "# EmoDB dataset"
   ]
  },
  {
   "cell_type": "markdown",
   "id": "b6c9bc32",
   "metadata": {},
   "source": [
    "Create Pandas DataFrame with filename and label"
   ]
  },
  {
   "cell_type": "code",
   "execution_count": 8,
   "id": "323e19f7",
   "metadata": {},
   "outputs": [
    {
     "data": {
      "text/html": [
       "<div>\n",
       "<style scoped>\n",
       "    .dataframe tbody tr th:only-of-type {\n",
       "        vertical-align: middle;\n",
       "    }\n",
       "\n",
       "    .dataframe tbody tr th {\n",
       "        vertical-align: top;\n",
       "    }\n",
       "\n",
       "    .dataframe thead th {\n",
       "        text-align: right;\n",
       "    }\n",
       "</style>\n",
       "<table border=\"1\" class=\"dataframe\">\n",
       "  <thead>\n",
       "    <tr style=\"text-align: right;\">\n",
       "      <th></th>\n",
       "      <th>path</th>\n",
       "      <th>filename</th>\n",
       "      <th>label</th>\n",
       "      <th>actor</th>\n",
       "      <th>gender</th>\n",
       "      <th>length</th>\n",
       "    </tr>\n",
       "  </thead>\n",
       "  <tbody>\n",
       "    <tr>\n",
       "      <th>0</th>\n",
       "      <td>D:\\Scuola\\TesiMag\\thesis_adversarial_ml_audio\\...</td>\n",
       "      <td>03a01Fa.wav</td>\n",
       "      <td>happy</td>\n",
       "      <td>03</td>\n",
       "      <td>m</td>\n",
       "      <td>1.898277</td>\n",
       "    </tr>\n",
       "    <tr>\n",
       "      <th>1</th>\n",
       "      <td>D:\\Scuola\\TesiMag\\thesis_adversarial_ml_audio\\...</td>\n",
       "      <td>03a01Nc.wav</td>\n",
       "      <td>neutral</td>\n",
       "      <td>03</td>\n",
       "      <td>m</td>\n",
       "      <td>1.611293</td>\n",
       "    </tr>\n",
       "    <tr>\n",
       "      <th>2</th>\n",
       "      <td>D:\\Scuola\\TesiMag\\thesis_adversarial_ml_audio\\...</td>\n",
       "      <td>03a01Wa.wav</td>\n",
       "      <td>angry</td>\n",
       "      <td>03</td>\n",
       "      <td>m</td>\n",
       "      <td>1.877823</td>\n",
       "    </tr>\n",
       "    <tr>\n",
       "      <th>3</th>\n",
       "      <td>D:\\Scuola\\TesiMag\\thesis_adversarial_ml_audio\\...</td>\n",
       "      <td>03a02Fc.wav</td>\n",
       "      <td>happy</td>\n",
       "      <td>03</td>\n",
       "      <td>m</td>\n",
       "      <td>2.006259</td>\n",
       "    </tr>\n",
       "    <tr>\n",
       "      <th>4</th>\n",
       "      <td>D:\\Scuola\\TesiMag\\thesis_adversarial_ml_audio\\...</td>\n",
       "      <td>03a02Nc.wav</td>\n",
       "      <td>neutral</td>\n",
       "      <td>03</td>\n",
       "      <td>m</td>\n",
       "      <td>1.439819</td>\n",
       "    </tr>\n",
       "    <tr>\n",
       "      <th>...</th>\n",
       "      <td>...</td>\n",
       "      <td>...</td>\n",
       "      <td>...</td>\n",
       "      <td>...</td>\n",
       "      <td>...</td>\n",
       "      <td>...</td>\n",
       "    </tr>\n",
       "    <tr>\n",
       "      <th>530</th>\n",
       "      <td>D:\\Scuola\\TesiMag\\thesis_adversarial_ml_audio\\...</td>\n",
       "      <td>16b10Lb.wav</td>\n",
       "      <td>bored</td>\n",
       "      <td>16</td>\n",
       "      <td>f</td>\n",
       "      <td>3.442721</td>\n",
       "    </tr>\n",
       "    <tr>\n",
       "      <th>531</th>\n",
       "      <td>D:\\Scuola\\TesiMag\\thesis_adversarial_ml_audio\\...</td>\n",
       "      <td>16b10Tb.wav</td>\n",
       "      <td>sad</td>\n",
       "      <td>16</td>\n",
       "      <td>f</td>\n",
       "      <td>3.500635</td>\n",
       "    </tr>\n",
       "    <tr>\n",
       "      <th>532</th>\n",
       "      <td>D:\\Scuola\\TesiMag\\thesis_adversarial_ml_audio\\...</td>\n",
       "      <td>16b10Td.wav</td>\n",
       "      <td>sad</td>\n",
       "      <td>16</td>\n",
       "      <td>f</td>\n",
       "      <td>3.934195</td>\n",
       "    </tr>\n",
       "    <tr>\n",
       "      <th>533</th>\n",
       "      <td>D:\\Scuola\\TesiMag\\thesis_adversarial_ml_audio\\...</td>\n",
       "      <td>16b10Wa.wav</td>\n",
       "      <td>angry</td>\n",
       "      <td>16</td>\n",
       "      <td>f</td>\n",
       "      <td>2.414150</td>\n",
       "    </tr>\n",
       "    <tr>\n",
       "      <th>534</th>\n",
       "      <td>D:\\Scuola\\TesiMag\\thesis_adversarial_ml_audio\\...</td>\n",
       "      <td>16b10Wb.wav</td>\n",
       "      <td>angry</td>\n",
       "      <td>16</td>\n",
       "      <td>f</td>\n",
       "      <td>2.522540</td>\n",
       "    </tr>\n",
       "  </tbody>\n",
       "</table>\n",
       "<p>535 rows × 6 columns</p>\n",
       "</div>"
      ],
      "text/plain": [
       "                                                  path     filename    label  \\\n",
       "0    D:\\Scuola\\TesiMag\\thesis_adversarial_ml_audio\\...  03a01Fa.wav    happy   \n",
       "1    D:\\Scuola\\TesiMag\\thesis_adversarial_ml_audio\\...  03a01Nc.wav  neutral   \n",
       "2    D:\\Scuola\\TesiMag\\thesis_adversarial_ml_audio\\...  03a01Wa.wav    angry   \n",
       "3    D:\\Scuola\\TesiMag\\thesis_adversarial_ml_audio\\...  03a02Fc.wav    happy   \n",
       "4    D:\\Scuola\\TesiMag\\thesis_adversarial_ml_audio\\...  03a02Nc.wav  neutral   \n",
       "..                                                 ...          ...      ...   \n",
       "530  D:\\Scuola\\TesiMag\\thesis_adversarial_ml_audio\\...  16b10Lb.wav    bored   \n",
       "531  D:\\Scuola\\TesiMag\\thesis_adversarial_ml_audio\\...  16b10Tb.wav      sad   \n",
       "532  D:\\Scuola\\TesiMag\\thesis_adversarial_ml_audio\\...  16b10Td.wav      sad   \n",
       "533  D:\\Scuola\\TesiMag\\thesis_adversarial_ml_audio\\...  16b10Wa.wav    angry   \n",
       "534  D:\\Scuola\\TesiMag\\thesis_adversarial_ml_audio\\...  16b10Wb.wav    angry   \n",
       "\n",
       "    actor gender    length  \n",
       "0      03      m  1.898277  \n",
       "1      03      m  1.611293  \n",
       "2      03      m  1.877823  \n",
       "3      03      m  2.006259  \n",
       "4      03      m  1.439819  \n",
       "..    ...    ...       ...  \n",
       "530    16      f  3.442721  \n",
       "531    16      f  3.500635  \n",
       "532    16      f  3.934195  \n",
       "533    16      f  2.414150  \n",
       "534    16      f  2.522540  \n",
       "\n",
       "[535 rows x 6 columns]"
      ]
     },
     "execution_count": 8,
     "metadata": {},
     "output_type": "execute_result"
    }
   ],
   "source": [
    "label2name = {\n",
    "    \"L\": \"bored\",\n",
    "    \"A\": \"fear\",\n",
    "    \"E\": \"disgust\",\n",
    "    \"F\": \"happy\",\n",
    "    \"T\": \"sad\",\n",
    "    \"W\": \"angry\",\n",
    "    \"N\": \"neutral\"\n",
    "}\n",
    "\n",
    "male = ['03', '10', '11', '12', '15']\n",
    "\n",
    "#dir_path = '/datasets/nicolas_facchinetti/emodb/data'\n",
    "dir_path = \"D:\\\\Scuola\\\\TesiMag\\\\thesis_adversarial_ml_audio\\\\datasets\\\\emodb\\\\data\\\\\"\n",
    "\n",
    "data = []\n",
    "for filename in os.listdir(dir_path):\n",
    "    filepath = os.path.join(dir_path, filename)\n",
    "    \n",
    "    samples, sr = librosa.load(filepath, sr=22050)\n",
    "    length = len(samples)/sr\n",
    "    cat = label2name[filename[5]]\n",
    "    actor = filename[0:2]\n",
    "    gender = 'm' if actor in male else 'f'\n",
    "    data.append([filepath, filename, cat, actor, gender, length])\n",
    "    \n",
    "df_emodb = pd.DataFrame(data, columns=['path', 'filename', 'label', 'actor', 'gender', 'length'])\n",
    "df_emodb"
   ]
  },
  {
   "cell_type": "markdown",
   "id": "3bf82ee2",
   "metadata": {},
   "source": [
    "Sampes length analysis"
   ]
  },
  {
   "cell_type": "code",
   "execution_count": 9,
   "id": "e9ee6162",
   "metadata": {},
   "outputs": [
    {
     "data": {
      "text/plain": [
       "count    535.000000\n",
       "mean       2.779635\n",
       "std        1.028189\n",
       "min        1.225533\n",
       "25%        2.026621\n",
       "50%        2.590204\n",
       "75%        3.308435\n",
       "max        8.978277\n",
       "Name: length, dtype: float64"
      ]
     },
     "execution_count": 9,
     "metadata": {},
     "output_type": "execute_result"
    }
   ],
   "source": [
    "df_emodb[\"length\"].describe()"
   ]
  },
  {
   "cell_type": "code",
   "execution_count": 10,
   "id": "32d014a3",
   "metadata": {
    "scrolled": true
   },
   "outputs": [
    {
     "data": {
      "text/plain": [
       "angry      127\n",
       "bored       81\n",
       "neutral     79\n",
       "happy       71\n",
       "fear        69\n",
       "sad         62\n",
       "disgust     46\n",
       "Name: emodb, dtype: int64"
      ]
     },
     "execution_count": 10,
     "metadata": {},
     "output_type": "execute_result"
    }
   ],
   "source": [
    "emodb_l = df_emodb.label.value_counts().rename('emodb')\n",
    "emodb_l"
   ]
  },
  {
   "cell_type": "code",
   "execution_count": 11,
   "id": "cb87d62c",
   "metadata": {},
   "outputs": [
    {
     "data": {
      "text/plain": [
       "16    71\n",
       "14    69\n",
       "13    61\n",
       "08    58\n",
       "15    56\n",
       "11    55\n",
       "03    49\n",
       "09    43\n",
       "10    38\n",
       "12    35\n",
       "Name: actor, dtype: int64"
      ]
     },
     "execution_count": 11,
     "metadata": {},
     "output_type": "execute_result"
    }
   ],
   "source": [
    "df_emodb.actor.value_counts()"
   ]
  },
  {
   "cell_type": "markdown",
   "id": "d7690792",
   "metadata": {},
   "source": [
    "Save metadata"
   ]
  },
  {
   "cell_type": "markdown",
   "id": "5268f3d0",
   "metadata": {},
   "source": [
    "# EMOVO"
   ]
  },
  {
   "cell_type": "markdown",
   "id": "48a48a08",
   "metadata": {},
   "source": [
    "Create Pandas DataFrame with filename and label"
   ]
  },
  {
   "cell_type": "code",
   "execution_count": 12,
   "id": "0ca49161",
   "metadata": {},
   "outputs": [
    {
     "data": {
      "text/html": [
       "<div>\n",
       "<style scoped>\n",
       "    .dataframe tbody tr th:only-of-type {\n",
       "        vertical-align: middle;\n",
       "    }\n",
       "\n",
       "    .dataframe tbody tr th {\n",
       "        vertical-align: top;\n",
       "    }\n",
       "\n",
       "    .dataframe thead th {\n",
       "        text-align: right;\n",
       "    }\n",
       "</style>\n",
       "<table border=\"1\" class=\"dataframe\">\n",
       "  <thead>\n",
       "    <tr style=\"text-align: right;\">\n",
       "      <th></th>\n",
       "      <th>path</th>\n",
       "      <th>filename</th>\n",
       "      <th>label</th>\n",
       "      <th>actor</th>\n",
       "      <th>gender</th>\n",
       "      <th>length</th>\n",
       "    </tr>\n",
       "  </thead>\n",
       "  <tbody>\n",
       "    <tr>\n",
       "      <th>0</th>\n",
       "      <td>D:\\Scuola\\TesiMag\\thesis_adversarial_ml_audio\\...</td>\n",
       "      <td>dis-f1-b1.wav</td>\n",
       "      <td>disgust</td>\n",
       "      <td>f1</td>\n",
       "      <td>f</td>\n",
       "      <td>2.858685</td>\n",
       "    </tr>\n",
       "    <tr>\n",
       "      <th>1</th>\n",
       "      <td>D:\\Scuola\\TesiMag\\thesis_adversarial_ml_audio\\...</td>\n",
       "      <td>dis-f1-b2.wav</td>\n",
       "      <td>disgust</td>\n",
       "      <td>f1</td>\n",
       "      <td>f</td>\n",
       "      <td>2.858685</td>\n",
       "    </tr>\n",
       "    <tr>\n",
       "      <th>2</th>\n",
       "      <td>D:\\Scuola\\TesiMag\\thesis_adversarial_ml_audio\\...</td>\n",
       "      <td>dis-f1-b3.wav</td>\n",
       "      <td>disgust</td>\n",
       "      <td>f1</td>\n",
       "      <td>f</td>\n",
       "      <td>2.389342</td>\n",
       "    </tr>\n",
       "    <tr>\n",
       "      <th>3</th>\n",
       "      <td>D:\\Scuola\\TesiMag\\thesis_adversarial_ml_audio\\...</td>\n",
       "      <td>dis-f1-d1.wav</td>\n",
       "      <td>disgust</td>\n",
       "      <td>f1</td>\n",
       "      <td>f</td>\n",
       "      <td>1.992018</td>\n",
       "    </tr>\n",
       "    <tr>\n",
       "      <th>4</th>\n",
       "      <td>D:\\Scuola\\TesiMag\\thesis_adversarial_ml_audio\\...</td>\n",
       "      <td>dis-f1-d2.wav</td>\n",
       "      <td>disgust</td>\n",
       "      <td>f1</td>\n",
       "      <td>f</td>\n",
       "      <td>2.782676</td>\n",
       "    </tr>\n",
       "    <tr>\n",
       "      <th>...</th>\n",
       "      <td>...</td>\n",
       "      <td>...</td>\n",
       "      <td>...</td>\n",
       "      <td>...</td>\n",
       "      <td>...</td>\n",
       "      <td>...</td>\n",
       "    </tr>\n",
       "    <tr>\n",
       "      <th>583</th>\n",
       "      <td>D:\\Scuola\\TesiMag\\thesis_adversarial_ml_audio\\...</td>\n",
       "      <td>tri-m3-n1.wav</td>\n",
       "      <td>sad</td>\n",
       "      <td>m3</td>\n",
       "      <td>m</td>\n",
       "      <td>1.877370</td>\n",
       "    </tr>\n",
       "    <tr>\n",
       "      <th>584</th>\n",
       "      <td>D:\\Scuola\\TesiMag\\thesis_adversarial_ml_audio\\...</td>\n",
       "      <td>tri-m3-n2.wav</td>\n",
       "      <td>sad</td>\n",
       "      <td>m3</td>\n",
       "      <td>m</td>\n",
       "      <td>3.114694</td>\n",
       "    </tr>\n",
       "    <tr>\n",
       "      <th>585</th>\n",
       "      <td>D:\\Scuola\\TesiMag\\thesis_adversarial_ml_audio\\...</td>\n",
       "      <td>tri-m3-n3.wav</td>\n",
       "      <td>sad</td>\n",
       "      <td>m3</td>\n",
       "      <td>m</td>\n",
       "      <td>2.474694</td>\n",
       "    </tr>\n",
       "    <tr>\n",
       "      <th>586</th>\n",
       "      <td>D:\\Scuola\\TesiMag\\thesis_adversarial_ml_audio\\...</td>\n",
       "      <td>tri-m3-n4.wav</td>\n",
       "      <td>sad</td>\n",
       "      <td>m3</td>\n",
       "      <td>m</td>\n",
       "      <td>4.906667</td>\n",
       "    </tr>\n",
       "    <tr>\n",
       "      <th>587</th>\n",
       "      <td>D:\\Scuola\\TesiMag\\thesis_adversarial_ml_audio\\...</td>\n",
       "      <td>tri-m3-n5.wav</td>\n",
       "      <td>sad</td>\n",
       "      <td>m3</td>\n",
       "      <td>m</td>\n",
       "      <td>5.376009</td>\n",
       "    </tr>\n",
       "  </tbody>\n",
       "</table>\n",
       "<p>588 rows × 6 columns</p>\n",
       "</div>"
      ],
      "text/plain": [
       "                                                  path       filename  \\\n",
       "0    D:\\Scuola\\TesiMag\\thesis_adversarial_ml_audio\\...  dis-f1-b1.wav   \n",
       "1    D:\\Scuola\\TesiMag\\thesis_adversarial_ml_audio\\...  dis-f1-b2.wav   \n",
       "2    D:\\Scuola\\TesiMag\\thesis_adversarial_ml_audio\\...  dis-f1-b3.wav   \n",
       "3    D:\\Scuola\\TesiMag\\thesis_adversarial_ml_audio\\...  dis-f1-d1.wav   \n",
       "4    D:\\Scuola\\TesiMag\\thesis_adversarial_ml_audio\\...  dis-f1-d2.wav   \n",
       "..                                                 ...            ...   \n",
       "583  D:\\Scuola\\TesiMag\\thesis_adversarial_ml_audio\\...  tri-m3-n1.wav   \n",
       "584  D:\\Scuola\\TesiMag\\thesis_adversarial_ml_audio\\...  tri-m3-n2.wav   \n",
       "585  D:\\Scuola\\TesiMag\\thesis_adversarial_ml_audio\\...  tri-m3-n3.wav   \n",
       "586  D:\\Scuola\\TesiMag\\thesis_adversarial_ml_audio\\...  tri-m3-n4.wav   \n",
       "587  D:\\Scuola\\TesiMag\\thesis_adversarial_ml_audio\\...  tri-m3-n5.wav   \n",
       "\n",
       "       label actor gender    length  \n",
       "0    disgust    f1      f  2.858685  \n",
       "1    disgust    f1      f  2.858685  \n",
       "2    disgust    f1      f  2.389342  \n",
       "3    disgust    f1      f  1.992018  \n",
       "4    disgust    f1      f  2.782676  \n",
       "..       ...   ...    ...       ...  \n",
       "583      sad    m3      m  1.877370  \n",
       "584      sad    m3      m  3.114694  \n",
       "585      sad    m3      m  2.474694  \n",
       "586      sad    m3      m  4.906667  \n",
       "587      sad    m3      m  5.376009  \n",
       "\n",
       "[588 rows x 6 columns]"
      ]
     },
     "execution_count": 12,
     "metadata": {},
     "output_type": "execute_result"
    }
   ],
   "source": [
    "label2name = {\n",
    "    \"dis\": \"disgust\",\n",
    "    \"neu\": \"neutral\",\n",
    "    \"gio\": \"happy\",\n",
    "    \"pau\": \"fear\",\n",
    "    \"tri\": \"sad\",\n",
    "    \"rab\": \"angry\",\n",
    "    \"sor\": \"surprised\",\n",
    "}\n",
    "\n",
    "# dir_path = '/datasets/nicolas_facchinetti/emovo/data'\n",
    "dir_path = \"D:\\\\Scuola\\\\TesiMag\\\\thesis_adversarial_ml_audio\\\\datasets\\\\emovo\\\\data\\\\\"\n",
    "data = []\n",
    "for actor in os.listdir(dir_path):\n",
    "    path = dir_path+f\"/{actor}\"\n",
    "    for filename in os.listdir(path):\n",
    "        filepath = os.path.join(path, filename)\n",
    "        info = filename.split(\"-\")\n",
    "        samples, sr = librosa.load(filepath, sr=22050)\n",
    "        \n",
    "        length = len(samples)/sr\n",
    "        cat = label2name[filename[0:3]]\n",
    "        gender = actor[0]\n",
    "        data.append([filepath, filename, cat, actor, gender, length])\n",
    "    \n",
    "    \n",
    "df_emovo = pd.DataFrame(data, columns=['path', 'filename', 'label', 'actor', 'gender', 'length'])\n",
    "df_emovo"
   ]
  },
  {
   "cell_type": "markdown",
   "id": "34c93135",
   "metadata": {},
   "source": [
    "Sampes length analysis"
   ]
  },
  {
   "cell_type": "code",
   "execution_count": 13,
   "id": "0da75168",
   "metadata": {},
   "outputs": [
    {
     "data": {
      "text/plain": [
       "count    588.000000\n",
       "mean       3.121005\n",
       "std        1.357110\n",
       "min        1.290703\n",
       "25%        2.133333\n",
       "50%        2.773333\n",
       "75%        3.840000\n",
       "max       13.994694\n",
       "Name: length, dtype: float64"
      ]
     },
     "execution_count": 13,
     "metadata": {},
     "output_type": "execute_result"
    }
   ],
   "source": [
    "df_emovo[\"length\"].describe()"
   ]
  },
  {
   "cell_type": "code",
   "execution_count": 14,
   "id": "ed56a6dc",
   "metadata": {
    "scrolled": true
   },
   "outputs": [
    {
     "data": {
      "text/plain": [
       "disgust      84\n",
       "happy        84\n",
       "neutral      84\n",
       "fear         84\n",
       "angry        84\n",
       "surprised    84\n",
       "sad          84\n",
       "Name: emovo, dtype: int64"
      ]
     },
     "execution_count": 14,
     "metadata": {},
     "output_type": "execute_result"
    }
   ],
   "source": [
    "emovo_l = df_emovo.label.value_counts().rename('emovo')\n",
    "emovo_l"
   ]
  },
  {
   "cell_type": "code",
   "execution_count": 15,
   "id": "61bfefe7",
   "metadata": {},
   "outputs": [
    {
     "data": {
      "text/plain": [
       "f1    98\n",
       "f2    98\n",
       "f3    98\n",
       "m1    98\n",
       "m2    98\n",
       "m3    98\n",
       "Name: actor, dtype: int64"
      ]
     },
     "execution_count": 15,
     "metadata": {},
     "output_type": "execute_result"
    }
   ],
   "source": [
    "df_emovo.actor.value_counts()"
   ]
  },
  {
   "cell_type": "markdown",
   "id": "0fa8c32c",
   "metadata": {},
   "source": [
    "Save metadata"
   ]
  },
  {
   "cell_type": "markdown",
   "id": "30e0ea15",
   "metadata": {},
   "source": [
    "# RAVDESS"
   ]
  },
  {
   "cell_type": "markdown",
   "id": "eb15b3a4",
   "metadata": {},
   "source": [
    "Create Pandas DataFrame with filename and label"
   ]
  },
  {
   "cell_type": "code",
   "execution_count": 16,
   "id": "0175afe5",
   "metadata": {},
   "outputs": [
    {
     "data": {
      "text/html": [
       "<div>\n",
       "<style scoped>\n",
       "    .dataframe tbody tr th:only-of-type {\n",
       "        vertical-align: middle;\n",
       "    }\n",
       "\n",
       "    .dataframe tbody tr th {\n",
       "        vertical-align: top;\n",
       "    }\n",
       "\n",
       "    .dataframe thead th {\n",
       "        text-align: right;\n",
       "    }\n",
       "</style>\n",
       "<table border=\"1\" class=\"dataframe\">\n",
       "  <thead>\n",
       "    <tr style=\"text-align: right;\">\n",
       "      <th></th>\n",
       "      <th>path</th>\n",
       "      <th>filename</th>\n",
       "      <th>label</th>\n",
       "      <th>actor</th>\n",
       "      <th>gender</th>\n",
       "      <th>length</th>\n",
       "    </tr>\n",
       "  </thead>\n",
       "  <tbody>\n",
       "    <tr>\n",
       "      <th>0</th>\n",
       "      <td>D:\\Scuola\\TesiMag\\thesis_adversarial_ml_audio\\...</td>\n",
       "      <td>03-01-01-01-01-01-01.wav</td>\n",
       "      <td>neutral</td>\n",
       "      <td>Actor_01</td>\n",
       "      <td>m</td>\n",
       "      <td>3.303311</td>\n",
       "    </tr>\n",
       "    <tr>\n",
       "      <th>1</th>\n",
       "      <td>D:\\Scuola\\TesiMag\\thesis_adversarial_ml_audio\\...</td>\n",
       "      <td>03-01-01-01-01-02-01.wav</td>\n",
       "      <td>neutral</td>\n",
       "      <td>Actor_01</td>\n",
       "      <td>m</td>\n",
       "      <td>3.336689</td>\n",
       "    </tr>\n",
       "    <tr>\n",
       "      <th>2</th>\n",
       "      <td>D:\\Scuola\\TesiMag\\thesis_adversarial_ml_audio\\...</td>\n",
       "      <td>03-01-01-01-02-01-01.wav</td>\n",
       "      <td>neutral</td>\n",
       "      <td>Actor_01</td>\n",
       "      <td>m</td>\n",
       "      <td>3.269932</td>\n",
       "    </tr>\n",
       "    <tr>\n",
       "      <th>3</th>\n",
       "      <td>D:\\Scuola\\TesiMag\\thesis_adversarial_ml_audio\\...</td>\n",
       "      <td>03-01-01-01-02-02-01.wav</td>\n",
       "      <td>neutral</td>\n",
       "      <td>Actor_01</td>\n",
       "      <td>m</td>\n",
       "      <td>3.169841</td>\n",
       "    </tr>\n",
       "    <tr>\n",
       "      <th>4</th>\n",
       "      <td>D:\\Scuola\\TesiMag\\thesis_adversarial_ml_audio\\...</td>\n",
       "      <td>03-01-02-01-01-01-01.wav</td>\n",
       "      <td>calm</td>\n",
       "      <td>Actor_01</td>\n",
       "      <td>m</td>\n",
       "      <td>3.536871</td>\n",
       "    </tr>\n",
       "    <tr>\n",
       "      <th>...</th>\n",
       "      <td>...</td>\n",
       "      <td>...</td>\n",
       "      <td>...</td>\n",
       "      <td>...</td>\n",
       "      <td>...</td>\n",
       "      <td>...</td>\n",
       "    </tr>\n",
       "    <tr>\n",
       "      <th>1435</th>\n",
       "      <td>D:\\Scuola\\TesiMag\\thesis_adversarial_ml_audio\\...</td>\n",
       "      <td>03-01-08-01-02-02-24.wav</td>\n",
       "      <td>surprised</td>\n",
       "      <td>Actor_24</td>\n",
       "      <td>f</td>\n",
       "      <td>3.403401</td>\n",
       "    </tr>\n",
       "    <tr>\n",
       "      <th>1436</th>\n",
       "      <td>D:\\Scuola\\TesiMag\\thesis_adversarial_ml_audio\\...</td>\n",
       "      <td>03-01-08-02-01-01-24.wav</td>\n",
       "      <td>surprised</td>\n",
       "      <td>Actor_24</td>\n",
       "      <td>f</td>\n",
       "      <td>3.937279</td>\n",
       "    </tr>\n",
       "    <tr>\n",
       "      <th>1437</th>\n",
       "      <td>D:\\Scuola\\TesiMag\\thesis_adversarial_ml_audio\\...</td>\n",
       "      <td>03-01-08-02-01-02-24.wav</td>\n",
       "      <td>surprised</td>\n",
       "      <td>Actor_24</td>\n",
       "      <td>f</td>\n",
       "      <td>3.970658</td>\n",
       "    </tr>\n",
       "    <tr>\n",
       "      <th>1438</th>\n",
       "      <td>D:\\Scuola\\TesiMag\\thesis_adversarial_ml_audio\\...</td>\n",
       "      <td>03-01-08-02-02-01-24.wav</td>\n",
       "      <td>surprised</td>\n",
       "      <td>Actor_24</td>\n",
       "      <td>f</td>\n",
       "      <td>3.670340</td>\n",
       "    </tr>\n",
       "    <tr>\n",
       "      <th>1439</th>\n",
       "      <td>D:\\Scuola\\TesiMag\\thesis_adversarial_ml_audio\\...</td>\n",
       "      <td>03-01-08-02-02-02-24.wav</td>\n",
       "      <td>surprised</td>\n",
       "      <td>Actor_24</td>\n",
       "      <td>f</td>\n",
       "      <td>3.636961</td>\n",
       "    </tr>\n",
       "  </tbody>\n",
       "</table>\n",
       "<p>1440 rows × 6 columns</p>\n",
       "</div>"
      ],
      "text/plain": [
       "                                                   path  \\\n",
       "0     D:\\Scuola\\TesiMag\\thesis_adversarial_ml_audio\\...   \n",
       "1     D:\\Scuola\\TesiMag\\thesis_adversarial_ml_audio\\...   \n",
       "2     D:\\Scuola\\TesiMag\\thesis_adversarial_ml_audio\\...   \n",
       "3     D:\\Scuola\\TesiMag\\thesis_adversarial_ml_audio\\...   \n",
       "4     D:\\Scuola\\TesiMag\\thesis_adversarial_ml_audio\\...   \n",
       "...                                                 ...   \n",
       "1435  D:\\Scuola\\TesiMag\\thesis_adversarial_ml_audio\\...   \n",
       "1436  D:\\Scuola\\TesiMag\\thesis_adversarial_ml_audio\\...   \n",
       "1437  D:\\Scuola\\TesiMag\\thesis_adversarial_ml_audio\\...   \n",
       "1438  D:\\Scuola\\TesiMag\\thesis_adversarial_ml_audio\\...   \n",
       "1439  D:\\Scuola\\TesiMag\\thesis_adversarial_ml_audio\\...   \n",
       "\n",
       "                      filename      label     actor gender    length  \n",
       "0     03-01-01-01-01-01-01.wav    neutral  Actor_01      m  3.303311  \n",
       "1     03-01-01-01-01-02-01.wav    neutral  Actor_01      m  3.336689  \n",
       "2     03-01-01-01-02-01-01.wav    neutral  Actor_01      m  3.269932  \n",
       "3     03-01-01-01-02-02-01.wav    neutral  Actor_01      m  3.169841  \n",
       "4     03-01-02-01-01-01-01.wav       calm  Actor_01      m  3.536871  \n",
       "...                        ...        ...       ...    ...       ...  \n",
       "1435  03-01-08-01-02-02-24.wav  surprised  Actor_24      f  3.403401  \n",
       "1436  03-01-08-02-01-01-24.wav  surprised  Actor_24      f  3.937279  \n",
       "1437  03-01-08-02-01-02-24.wav  surprised  Actor_24      f  3.970658  \n",
       "1438  03-01-08-02-02-01-24.wav  surprised  Actor_24      f  3.670340  \n",
       "1439  03-01-08-02-02-02-24.wav  surprised  Actor_24      f  3.636961  \n",
       "\n",
       "[1440 rows x 6 columns]"
      ]
     },
     "execution_count": 16,
     "metadata": {},
     "output_type": "execute_result"
    }
   ],
   "source": [
    "label2name = {\n",
    "    \"01\": \"neutral\",\n",
    "    \"02\": \"calm\",\n",
    "    \"03\": \"happy\",\n",
    "    \"04\": \"sad\",\n",
    "    \"05\": \"angry\",\n",
    "    \"06\": \"fear\",\n",
    "    \"07\": \"disgust\",\n",
    "    \"08\": \"surprised\"\n",
    "}\n",
    "# Filename identifiers\n",
    "# Modality (01 = full-AV, 02 = video-only, 03 = audio-only).\n",
    "# Vocal channel (01 = speech, 02 = song).\n",
    "# Emotion (01 = neutral, 02 = calm, 03 = happy, 04 = sad, 05 = angry, 06 = fearful, 07 = disgust, 08 = surprised).\n",
    "# Emotional intensity (01 = normal, 02 = strong). NOTE: There is no strong intensity for the 'neutral' emotion.\n",
    "# Statement (01 = \"Kids are talking by the door\", 02 = \"Dogs are sitting by the door\").\n",
    "# Repetition (01 = 1st repetition, 02 = 2nd repetition).\n",
    "# Actor (01 to 24. Odd numbered actors are male, even numbered actors are female).\n",
    "# Filename example: 03-01-06-01-02-01-12.wav\n",
    "\n",
    "# dir_path = '/datasets/nicolas_facchinetti/ravdess/data/'\n",
    "dir_path = \"D:\\\\Scuola\\\\TesiMag\\\\thesis_adversarial_ml_audio\\\\datasets\\\\ravdess\\\\\"\n",
    "data = []\n",
    "for actor in os.listdir(dir_path):\n",
    "    path = dir_path+f\"{actor}\"\n",
    "    for filename in os.listdir(path):\n",
    "        filepath = os.path.join(path, filename)\n",
    "        \n",
    "        samples, sr = librosa.load(filepath, sr=22050)\n",
    "        info = filename.split(\"-\")\n",
    "        length = len(samples)/sr\n",
    "        cat = label2name[info[2]]\n",
    "        gender = ('f' if int(info[-1][:2]) % 2 == 0 else 'm')\n",
    "\n",
    "        data.append([filepath, filename, cat, actor, gender, length])\n",
    "    \n",
    "    \n",
    "df_ravdess = pd.DataFrame(data, columns=['path', \"filename\", 'label', 'actor', 'gender', 'length'])\n",
    "df_ravdess"
   ]
  },
  {
   "cell_type": "markdown",
   "id": "1b76928b",
   "metadata": {},
   "source": [
    "Sampes length analysis"
   ]
  },
  {
   "cell_type": "code",
   "execution_count": 17,
   "id": "2cd42473",
   "metadata": {},
   "outputs": [
    {
     "data": {
      "text/plain": [
       "count    1440.000000\n",
       "mean        3.700688\n",
       "std         0.336676\n",
       "min         2.936281\n",
       "25%         3.470159\n",
       "50%         3.670340\n",
       "75%         3.870567\n",
       "max         5.271973\n",
       "Name: length, dtype: float64"
      ]
     },
     "execution_count": 17,
     "metadata": {},
     "output_type": "execute_result"
    }
   ],
   "source": [
    "df_ravdess[\"length\"].describe()"
   ]
  },
  {
   "cell_type": "code",
   "execution_count": 18,
   "id": "cf3e4ef2",
   "metadata": {
    "scrolled": true
   },
   "outputs": [
    {
     "data": {
      "text/plain": [
       "calm         192\n",
       "happy        192\n",
       "sad          192\n",
       "angry        192\n",
       "fear         192\n",
       "disgust      192\n",
       "surprised    192\n",
       "neutral       96\n",
       "Name: ravdess, dtype: int64"
      ]
     },
     "execution_count": 18,
     "metadata": {},
     "output_type": "execute_result"
    }
   ],
   "source": [
    "ravdess_l = df_ravdess.label.value_counts().rename('ravdess')\n",
    "ravdess_l"
   ]
  },
  {
   "cell_type": "code",
   "execution_count": 19,
   "id": "76f07c98",
   "metadata": {},
   "outputs": [
    {
     "data": {
      "text/plain": [
       "Actor_01    60\n",
       "Actor_02    60\n",
       "Actor_23    60\n",
       "Actor_22    60\n",
       "Actor_21    60\n",
       "Actor_20    60\n",
       "Actor_19    60\n",
       "Actor_18    60\n",
       "Actor_17    60\n",
       "Actor_16    60\n",
       "Actor_15    60\n",
       "Actor_14    60\n",
       "Actor_13    60\n",
       "Actor_12    60\n",
       "Actor_11    60\n",
       "Actor_10    60\n",
       "Actor_09    60\n",
       "Actor_08    60\n",
       "Actor_07    60\n",
       "Actor_06    60\n",
       "Actor_05    60\n",
       "Actor_04    60\n",
       "Actor_03    60\n",
       "Actor_24    60\n",
       "Name: actor, dtype: int64"
      ]
     },
     "execution_count": 19,
     "metadata": {},
     "output_type": "execute_result"
    }
   ],
   "source": [
    "df_ravdess.actor.value_counts()"
   ]
  },
  {
   "cell_type": "markdown",
   "id": "b8a24c70",
   "metadata": {},
   "source": [
    "# Compare labels of emotions"
   ]
  },
  {
   "cell_type": "code",
   "execution_count": 20,
   "id": "c63bcbaa",
   "metadata": {},
   "outputs": [
    {
     "data": {
      "text/plain": [
       "[7, 7, 8]"
      ]
     },
     "execution_count": 20,
     "metadata": {},
     "output_type": "execute_result"
    }
   ],
   "source": [
    "[len(emodb_l), len(emovo_l), len(ravdess_l)]"
   ]
  },
  {
   "cell_type": "code",
   "execution_count": 21,
   "id": "8ebbc106",
   "metadata": {},
   "outputs": [
    {
     "data": {
      "text/html": [
       "<div>\n",
       "<style scoped>\n",
       "    .dataframe tbody tr th:only-of-type {\n",
       "        vertical-align: middle;\n",
       "    }\n",
       "\n",
       "    .dataframe tbody tr th {\n",
       "        vertical-align: top;\n",
       "    }\n",
       "\n",
       "    .dataframe thead th {\n",
       "        text-align: right;\n",
       "    }\n",
       "</style>\n",
       "<table border=\"1\" class=\"dataframe\">\n",
       "  <thead>\n",
       "    <tr style=\"text-align: right;\">\n",
       "      <th></th>\n",
       "      <th>emodb</th>\n",
       "      <th>emovo</th>\n",
       "      <th>ravdess</th>\n",
       "    </tr>\n",
       "  </thead>\n",
       "  <tbody>\n",
       "    <tr>\n",
       "      <th>angry</th>\n",
       "      <td>127.0</td>\n",
       "      <td>84.0</td>\n",
       "      <td>192.0</td>\n",
       "    </tr>\n",
       "    <tr>\n",
       "      <th>bored</th>\n",
       "      <td>81.0</td>\n",
       "      <td>NaN</td>\n",
       "      <td>NaN</td>\n",
       "    </tr>\n",
       "    <tr>\n",
       "      <th>neutral</th>\n",
       "      <td>79.0</td>\n",
       "      <td>84.0</td>\n",
       "      <td>96.0</td>\n",
       "    </tr>\n",
       "    <tr>\n",
       "      <th>happy</th>\n",
       "      <td>71.0</td>\n",
       "      <td>84.0</td>\n",
       "      <td>192.0</td>\n",
       "    </tr>\n",
       "    <tr>\n",
       "      <th>fear</th>\n",
       "      <td>69.0</td>\n",
       "      <td>84.0</td>\n",
       "      <td>192.0</td>\n",
       "    </tr>\n",
       "    <tr>\n",
       "      <th>sad</th>\n",
       "      <td>62.0</td>\n",
       "      <td>84.0</td>\n",
       "      <td>192.0</td>\n",
       "    </tr>\n",
       "    <tr>\n",
       "      <th>disgust</th>\n",
       "      <td>46.0</td>\n",
       "      <td>84.0</td>\n",
       "      <td>192.0</td>\n",
       "    </tr>\n",
       "    <tr>\n",
       "      <th>surprised</th>\n",
       "      <td>NaN</td>\n",
       "      <td>84.0</td>\n",
       "      <td>192.0</td>\n",
       "    </tr>\n",
       "    <tr>\n",
       "      <th>calm</th>\n",
       "      <td>NaN</td>\n",
       "      <td>NaN</td>\n",
       "      <td>192.0</td>\n",
       "    </tr>\n",
       "  </tbody>\n",
       "</table>\n",
       "</div>"
      ],
      "text/plain": [
       "           emodb  emovo  ravdess\n",
       "angry      127.0   84.0    192.0\n",
       "bored       81.0    NaN      NaN\n",
       "neutral     79.0   84.0     96.0\n",
       "happy       71.0   84.0    192.0\n",
       "fear        69.0   84.0    192.0\n",
       "sad         62.0   84.0    192.0\n",
       "disgust     46.0   84.0    192.0\n",
       "surprised    NaN   84.0    192.0\n",
       "calm         NaN    NaN    192.0"
      ]
     },
     "execution_count": 21,
     "metadata": {},
     "output_type": "execute_result"
    }
   ],
   "source": [
    "pd.concat([emodb_l, emovo_l, ravdess_l], axis=1)"
   ]
  },
  {
   "cell_type": "markdown",
   "id": "0ddd0ca3",
   "metadata": {},
   "source": [
    "# Save metadata"
   ]
  },
  {
   "cell_type": "code",
   "execution_count": 24,
   "id": "abd9b6c3",
   "metadata": {},
   "outputs": [],
   "source": [
    "#df_emodb.to_csv(\"/datasets/nicolas_facchinetti/processed_data/emodb/processed_metadata.csv\", index=False)\n",
    "df_emodb.to_csv(\"D:\\\\Scuola\\\\TesiMag\\\\thesis_adversarial_ml_audio\\\\processed_data/emodb/processed_metadata.csv\", index=False)"
   ]
  },
  {
   "cell_type": "code",
   "execution_count": 29,
   "id": "9891933b",
   "metadata": {},
   "outputs": [],
   "source": [
    "#df_emovo.to_csv(\"/datasets/nicolas_facchinetti/processed_data/emodb/processed_metadata.csv\", index=False)\n",
    "df_emovo.to_csv(\"D:\\\\Scuola\\\\TesiMag\\\\thesis_adversarial_ml_audio\\\\processed_data\\\\emovo/processed_metadata.csv\", index=False)"
   ]
  },
  {
   "cell_type": "code",
   "execution_count": 28,
   "id": "3231ee32",
   "metadata": {},
   "outputs": [],
   "source": [
    "#df_ravdess_mod.to_csv(\"/datasets/nicolas_facchinetti/processed_data/ravdess/processed_metadata.csv\", index=False)\n",
    "df_ravdess.to_csv(\"D:\\\\Scuola\\\\TesiMag\\\\thesis_adversarial_ml_audio\\\\processed_data\\\\ravdess/processed_metadata.csv\", index=False)"
   ]
  },
  {
   "cell_type": "code",
   "execution_count": null,
   "id": "a0cf4580",
   "metadata": {},
   "outputs": [],
   "source": []
  }
 ],
 "metadata": {
  "kernelspec": {
   "display_name": "Python 3 (ipykernel)",
   "language": "python",
   "name": "python3"
  },
  "language_info": {
   "codemirror_mode": {
    "name": "ipython",
    "version": 3
   },
   "file_extension": ".py",
   "mimetype": "text/x-python",
   "name": "python",
   "nbconvert_exporter": "python",
   "pygments_lexer": "ipython3",
   "version": "3.9.13"
  }
 },
 "nbformat": 4,
 "nbformat_minor": 5
}
