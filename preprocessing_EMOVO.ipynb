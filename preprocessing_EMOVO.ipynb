{
 "cells": [
  {
   "cell_type": "markdown",
   "id": "3a5b7259",
   "metadata": {},
   "source": [
    "Extract features from EmoDB dataset"
   ]
  },
  {
   "cell_type": "code",
   "execution_count": 1,
   "id": "e0bf42ef",
   "metadata": {},
   "outputs": [],
   "source": [
    "import librosa\n",
    "import os\n",
    "import numpy as np\n",
    "import pandas as pd"
   ]
  },
  {
   "cell_type": "markdown",
   "id": "5268f3d0",
   "metadata": {},
   "source": [
    "# DataFrame with Input Samples"
   ]
  },
  {
   "cell_type": "markdown",
   "id": "b6c9bc32",
   "metadata": {},
   "source": [
    "Create Pandas DataFrame with filename and label"
   ]
  },
  {
   "cell_type": "code",
   "execution_count": 2,
   "id": "323e19f7",
   "metadata": {},
   "outputs": [
    {
     "data": {
      "text/html": [
       "<div>\n",
       "<style scoped>\n",
       "    .dataframe tbody tr th:only-of-type {\n",
       "        vertical-align: middle;\n",
       "    }\n",
       "\n",
       "    .dataframe tbody tr th {\n",
       "        vertical-align: top;\n",
       "    }\n",
       "\n",
       "    .dataframe thead th {\n",
       "        text-align: right;\n",
       "    }\n",
       "</style>\n",
       "<table border=\"1\" class=\"dataframe\">\n",
       "  <thead>\n",
       "    <tr style=\"text-align: right;\">\n",
       "      <th></th>\n",
       "      <th>path</th>\n",
       "      <th>filename</th>\n",
       "      <th>label</th>\n",
       "      <th>actor</th>\n",
       "      <th>gender</th>\n",
       "      <th>length</th>\n",
       "    </tr>\n",
       "  </thead>\n",
       "  <tbody>\n",
       "    <tr>\n",
       "      <th>0</th>\n",
       "      <td>/datasets/nicolas_facchinetti/EMOVO/data/m3/gi...</td>\n",
       "      <td>gio-m3-l1.wav</td>\n",
       "      <td>gioia</td>\n",
       "      <td>m3</td>\n",
       "      <td>m</td>\n",
       "      <td>5.205351</td>\n",
       "    </tr>\n",
       "    <tr>\n",
       "      <th>1</th>\n",
       "      <td>/datasets/nicolas_facchinetti/EMOVO/data/m3/gi...</td>\n",
       "      <td>gio-m3-b3.wav</td>\n",
       "      <td>gioia</td>\n",
       "      <td>m3</td>\n",
       "      <td>m</td>\n",
       "      <td>1.877370</td>\n",
       "    </tr>\n",
       "    <tr>\n",
       "      <th>2</th>\n",
       "      <td>/datasets/nicolas_facchinetti/EMOVO/data/m3/pa...</td>\n",
       "      <td>pau-m3-n5.wav</td>\n",
       "      <td>paura</td>\n",
       "      <td>m3</td>\n",
       "      <td>m</td>\n",
       "      <td>4.394694</td>\n",
       "    </tr>\n",
       "    <tr>\n",
       "      <th>3</th>\n",
       "      <td>/datasets/nicolas_facchinetti/EMOVO/data/m3/tr...</td>\n",
       "      <td>tri-m3-b2.wav</td>\n",
       "      <td>tristezza</td>\n",
       "      <td>m3</td>\n",
       "      <td>m</td>\n",
       "      <td>2.773333</td>\n",
       "    </tr>\n",
       "    <tr>\n",
       "      <th>4</th>\n",
       "      <td>/datasets/nicolas_facchinetti/EMOVO/data/m3/tr...</td>\n",
       "      <td>tri-m3-l4.wav</td>\n",
       "      <td>tristezza</td>\n",
       "      <td>m3</td>\n",
       "      <td>m</td>\n",
       "      <td>3.370703</td>\n",
       "    </tr>\n",
       "    <tr>\n",
       "      <th>...</th>\n",
       "      <td>...</td>\n",
       "      <td>...</td>\n",
       "      <td>...</td>\n",
       "      <td>...</td>\n",
       "      <td>...</td>\n",
       "      <td>...</td>\n",
       "    </tr>\n",
       "    <tr>\n",
       "      <th>583</th>\n",
       "      <td>/datasets/nicolas_facchinetti/EMOVO/data/m2/di...</td>\n",
       "      <td>dis-m2-b3.wav</td>\n",
       "      <td>disgusto</td>\n",
       "      <td>m2</td>\n",
       "      <td>m</td>\n",
       "      <td>2.474694</td>\n",
       "    </tr>\n",
       "    <tr>\n",
       "      <th>584</th>\n",
       "      <td>/datasets/nicolas_facchinetti/EMOVO/data/m2/so...</td>\n",
       "      <td>sor-m2-d1.wav</td>\n",
       "      <td>sorpresa</td>\n",
       "      <td>m2</td>\n",
       "      <td>m</td>\n",
       "      <td>2.090703</td>\n",
       "    </tr>\n",
       "    <tr>\n",
       "      <th>585</th>\n",
       "      <td>/datasets/nicolas_facchinetti/EMOVO/data/m2/pa...</td>\n",
       "      <td>pau-m2-b3.wav</td>\n",
       "      <td>paura</td>\n",
       "      <td>m2</td>\n",
       "      <td>m</td>\n",
       "      <td>1.962676</td>\n",
       "    </tr>\n",
       "    <tr>\n",
       "      <th>586</th>\n",
       "      <td>/datasets/nicolas_facchinetti/EMOVO/data/m2/tr...</td>\n",
       "      <td>tri-m2-n2.wav</td>\n",
       "      <td>tristezza</td>\n",
       "      <td>m2</td>\n",
       "      <td>m</td>\n",
       "      <td>2.368027</td>\n",
       "    </tr>\n",
       "    <tr>\n",
       "      <th>587</th>\n",
       "      <td>/datasets/nicolas_facchinetti/EMOVO/data/m2/ra...</td>\n",
       "      <td>rab-m2-l1.wav</td>\n",
       "      <td>rabbia</td>\n",
       "      <td>m2</td>\n",
       "      <td>m</td>\n",
       "      <td>5.461361</td>\n",
       "    </tr>\n",
       "  </tbody>\n",
       "</table>\n",
       "<p>588 rows × 6 columns</p>\n",
       "</div>"
      ],
      "text/plain": [
       "                                                  path       filename  \\\n",
       "0    /datasets/nicolas_facchinetti/EMOVO/data/m3/gi...  gio-m3-l1.wav   \n",
       "1    /datasets/nicolas_facchinetti/EMOVO/data/m3/gi...  gio-m3-b3.wav   \n",
       "2    /datasets/nicolas_facchinetti/EMOVO/data/m3/pa...  pau-m3-n5.wav   \n",
       "3    /datasets/nicolas_facchinetti/EMOVO/data/m3/tr...  tri-m3-b2.wav   \n",
       "4    /datasets/nicolas_facchinetti/EMOVO/data/m3/tr...  tri-m3-l4.wav   \n",
       "..                                                 ...            ...   \n",
       "583  /datasets/nicolas_facchinetti/EMOVO/data/m2/di...  dis-m2-b3.wav   \n",
       "584  /datasets/nicolas_facchinetti/EMOVO/data/m2/so...  sor-m2-d1.wav   \n",
       "585  /datasets/nicolas_facchinetti/EMOVO/data/m2/pa...  pau-m2-b3.wav   \n",
       "586  /datasets/nicolas_facchinetti/EMOVO/data/m2/tr...  tri-m2-n2.wav   \n",
       "587  /datasets/nicolas_facchinetti/EMOVO/data/m2/ra...  rab-m2-l1.wav   \n",
       "\n",
       "         label actor gender    length  \n",
       "0        gioia    m3      m  5.205351  \n",
       "1        gioia    m3      m  1.877370  \n",
       "2        paura    m3      m  4.394694  \n",
       "3    tristezza    m3      m  2.773333  \n",
       "4    tristezza    m3      m  3.370703  \n",
       "..         ...   ...    ...       ...  \n",
       "583   disgusto    m2      m  2.474694  \n",
       "584   sorpresa    m2      m  2.090703  \n",
       "585      paura    m2      m  1.962676  \n",
       "586  tristezza    m2      m  2.368027  \n",
       "587     rabbia    m2      m  5.461361  \n",
       "\n",
       "[588 rows x 6 columns]"
      ]
     },
     "execution_count": 2,
     "metadata": {},
     "output_type": "execute_result"
    }
   ],
   "source": [
    "label2name = {\n",
    "    \"dis\": \"disgusto\",\n",
    "    \"neu\": \"neutro\",\n",
    "    \"gio\": \"gioia\",\n",
    "    \"pau\": \"paura\",\n",
    "    \"tri\": \"tristezza\",\n",
    "    \"rab\": \"rabbia\",\n",
    "    \"sor\": \"sorpresa\",\n",
    "}\n",
    "\n",
    "dir_path = '/datasets/nicolas_facchinetti/EMOVO/data'\n",
    "data = []\n",
    "for actor in os.listdir(dir_path):\n",
    "    path = dir_path+f\"/{actor}\"\n",
    "    for filename in os.listdir(path):\n",
    "        filepath = os.path.join(path, filename)\n",
    "        info = filename.split(\"-\")\n",
    "        samples, sr = librosa.load(filepath, sr=22050)\n",
    "        \n",
    "        length = len(samples)/sr\n",
    "        cat = label2name[filename[0:3]]\n",
    "        gender = actor[0]\n",
    "        data.append([filepath, filename, cat, actor, gender, length])\n",
    "    \n",
    "    \n",
    "df_info = pd.DataFrame(data, columns=['path', 'filename', 'label', 'actor', 'gender', 'length'])\n",
    "df_info\n"
   ]
  },
  {
   "cell_type": "markdown",
   "id": "3bf82ee2",
   "metadata": {},
   "source": [
    "Sampes length analysis"
   ]
  },
  {
   "cell_type": "code",
   "execution_count": 3,
   "id": "e9ee6162",
   "metadata": {},
   "outputs": [
    {
     "data": {
      "text/plain": [
       "count    588.000000\n",
       "mean       3.121005\n",
       "std        1.357110\n",
       "min        1.290703\n",
       "25%        2.133333\n",
       "50%        2.773333\n",
       "75%        3.840000\n",
       "max       13.994694\n",
       "Name: length, dtype: float64"
      ]
     },
     "execution_count": 3,
     "metadata": {},
     "output_type": "execute_result"
    }
   ],
   "source": [
    "df_info[\"length\"].describe()"
   ]
  },
  {
   "cell_type": "code",
   "execution_count": 4,
   "id": "32d014a3",
   "metadata": {
    "scrolled": true
   },
   "outputs": [
    {
     "data": {
      "text/plain": [
       "gioia        84\n",
       "paura        84\n",
       "tristezza    84\n",
       "sorpresa     84\n",
       "disgusto     84\n",
       "neutro       84\n",
       "rabbia       84\n",
       "Name: label, dtype: int64"
      ]
     },
     "execution_count": 4,
     "metadata": {},
     "output_type": "execute_result"
    }
   ],
   "source": [
    "df_info.label.value_counts()"
   ]
  },
  {
   "cell_type": "code",
   "execution_count": 5,
   "id": "cb87d62c",
   "metadata": {},
   "outputs": [
    {
     "data": {
      "text/plain": [
       "m3    98\n",
       "f1    98\n",
       "f2    98\n",
       "f3    98\n",
       "m1    98\n",
       "m2    98\n",
       "Name: actor, dtype: int64"
      ]
     },
     "execution_count": 5,
     "metadata": {},
     "output_type": "execute_result"
    }
   ],
   "source": [
    "df_info.actor.value_counts()"
   ]
  },
  {
   "cell_type": "markdown",
   "id": "d7690792",
   "metadata": {},
   "source": [
    "Save metadata"
   ]
  },
  {
   "cell_type": "code",
   "execution_count": 6,
   "id": "abd9b6c3",
   "metadata": {},
   "outputs": [],
   "source": [
    "df_info.to_csv(\"/datasets/nicolas_facchinetti/processed_data/EMOVO/processed_metadata.csv\", index=False)"
   ]
  }
 ],
 "metadata": {
  "kernelspec": {
   "display_name": "Python 3 (ipykernel)",
   "language": "python",
   "name": "python3"
  },
  "language_info": {
   "codemirror_mode": {
    "name": "ipython",
    "version": 3
   },
   "file_extension": ".py",
   "mimetype": "text/x-python",
   "name": "python",
   "nbconvert_exporter": "python",
   "pygments_lexer": "ipython3",
   "version": "3.9.13"
  }
 },
 "nbformat": 4,
 "nbformat_minor": 5
}
