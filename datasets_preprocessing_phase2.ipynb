{
 "cells": [
  {
   "cell_type": "markdown",
   "id": "3a5b7259",
   "metadata": {},
   "source": [
    "Extract features from EmoDB dataset"
   ]
  },
  {
   "cell_type": "code",
   "execution_count": 1,
   "id": "e0bf42ef",
   "metadata": {},
   "outputs": [],
   "source": [
    "import librosa\n",
    "import os\n",
    "import numpy as np\n",
    "import pandas as pd"
   ]
  },
  {
   "cell_type": "markdown",
   "id": "08ce6d72",
   "metadata": {},
   "source": [
    "# Import metadatas"
   ]
  },
  {
   "cell_type": "code",
   "execution_count": 2,
   "id": "3b8fa4af",
   "metadata": {},
   "outputs": [],
   "source": [
    "sr = 16000"
   ]
  },
  {
   "cell_type": "code",
   "execution_count": 3,
   "id": "dd72c2b1",
   "metadata": {},
   "outputs": [],
   "source": [
    "#ravdess = pd.read_csv(\"/datasets/nicolas_facchinetti/processed_data/ravdess/processed_metadata.csv\")\n",
    "#emovo = pd.read_csv(\"/datasets/nicolas_facchinetti/processed_data/emovo/processed_metadata.csv\")\n",
    "#emodb = pd.read_csv(\"/datasets/nicolas_facchinetti/processed_data/emodb/processed_metadata.csv\")\n",
    "\n",
    "ravdess = pd.read_csv(\"D:\\\\Scuola\\\\TesiMag\\\\thesis_adversarial_ml_audio\\\\processed_data/ravdess/processed_metadata.csv\")\n",
    "emovo = pd.read_csv(\"D:\\\\Scuola\\\\TesiMag\\\\thesis_adversarial_ml_audio\\\\processed_data/emovo/processed_metadata.csv\")\n",
    "emodb = pd.read_csv(\"D:\\\\Scuola\\\\TesiMag\\\\thesis_adversarial_ml_audio\\\\processed_data/emodb/processed_metadata.csv\")"
   ]
  },
  {
   "cell_type": "code",
   "execution_count": 4,
   "id": "d15eb23f",
   "metadata": {},
   "outputs": [
    {
     "data": {
      "text/html": [
       "<div>\n",
       "<style scoped>\n",
       "    .dataframe tbody tr th:only-of-type {\n",
       "        vertical-align: middle;\n",
       "    }\n",
       "\n",
       "    .dataframe tbody tr th {\n",
       "        vertical-align: top;\n",
       "    }\n",
       "\n",
       "    .dataframe thead th {\n",
       "        text-align: right;\n",
       "    }\n",
       "</style>\n",
       "<table border=\"1\" class=\"dataframe\">\n",
       "  <thead>\n",
       "    <tr style=\"text-align: right;\">\n",
       "      <th></th>\n",
       "      <th>path</th>\n",
       "      <th>filename</th>\n",
       "      <th>label</th>\n",
       "      <th>actor</th>\n",
       "      <th>gender</th>\n",
       "      <th>length</th>\n",
       "    </tr>\n",
       "  </thead>\n",
       "  <tbody>\n",
       "    <tr>\n",
       "      <th>0</th>\n",
       "      <td>D:\\Scuola\\TesiMag\\thesis_adversarial_ml_audio\\...</td>\n",
       "      <td>03a01Fa.wav</td>\n",
       "      <td>happy</td>\n",
       "      <td>3</td>\n",
       "      <td>m</td>\n",
       "      <td>1.898277</td>\n",
       "    </tr>\n",
       "    <tr>\n",
       "      <th>1</th>\n",
       "      <td>D:\\Scuola\\TesiMag\\thesis_adversarial_ml_audio\\...</td>\n",
       "      <td>03a01Nc.wav</td>\n",
       "      <td>neutral</td>\n",
       "      <td>3</td>\n",
       "      <td>m</td>\n",
       "      <td>1.611293</td>\n",
       "    </tr>\n",
       "    <tr>\n",
       "      <th>2</th>\n",
       "      <td>D:\\Scuola\\TesiMag\\thesis_adversarial_ml_audio\\...</td>\n",
       "      <td>03a01Wa.wav</td>\n",
       "      <td>angry</td>\n",
       "      <td>3</td>\n",
       "      <td>m</td>\n",
       "      <td>1.877823</td>\n",
       "    </tr>\n",
       "    <tr>\n",
       "      <th>3</th>\n",
       "      <td>D:\\Scuola\\TesiMag\\thesis_adversarial_ml_audio\\...</td>\n",
       "      <td>03a02Fc.wav</td>\n",
       "      <td>happy</td>\n",
       "      <td>3</td>\n",
       "      <td>m</td>\n",
       "      <td>2.006259</td>\n",
       "    </tr>\n",
       "    <tr>\n",
       "      <th>4</th>\n",
       "      <td>D:\\Scuola\\TesiMag\\thesis_adversarial_ml_audio\\...</td>\n",
       "      <td>03a02Nc.wav</td>\n",
       "      <td>neutral</td>\n",
       "      <td>3</td>\n",
       "      <td>m</td>\n",
       "      <td>1.439819</td>\n",
       "    </tr>\n",
       "    <tr>\n",
       "      <th>...</th>\n",
       "      <td>...</td>\n",
       "      <td>...</td>\n",
       "      <td>...</td>\n",
       "      <td>...</td>\n",
       "      <td>...</td>\n",
       "      <td>...</td>\n",
       "    </tr>\n",
       "    <tr>\n",
       "      <th>530</th>\n",
       "      <td>D:\\Scuola\\TesiMag\\thesis_adversarial_ml_audio\\...</td>\n",
       "      <td>16b10Lb.wav</td>\n",
       "      <td>bored</td>\n",
       "      <td>16</td>\n",
       "      <td>f</td>\n",
       "      <td>3.442721</td>\n",
       "    </tr>\n",
       "    <tr>\n",
       "      <th>531</th>\n",
       "      <td>D:\\Scuola\\TesiMag\\thesis_adversarial_ml_audio\\...</td>\n",
       "      <td>16b10Tb.wav</td>\n",
       "      <td>sad</td>\n",
       "      <td>16</td>\n",
       "      <td>f</td>\n",
       "      <td>3.500635</td>\n",
       "    </tr>\n",
       "    <tr>\n",
       "      <th>532</th>\n",
       "      <td>D:\\Scuola\\TesiMag\\thesis_adversarial_ml_audio\\...</td>\n",
       "      <td>16b10Td.wav</td>\n",
       "      <td>sad</td>\n",
       "      <td>16</td>\n",
       "      <td>f</td>\n",
       "      <td>3.934195</td>\n",
       "    </tr>\n",
       "    <tr>\n",
       "      <th>533</th>\n",
       "      <td>D:\\Scuola\\TesiMag\\thesis_adversarial_ml_audio\\...</td>\n",
       "      <td>16b10Wa.wav</td>\n",
       "      <td>angry</td>\n",
       "      <td>16</td>\n",
       "      <td>f</td>\n",
       "      <td>2.414150</td>\n",
       "    </tr>\n",
       "    <tr>\n",
       "      <th>534</th>\n",
       "      <td>D:\\Scuola\\TesiMag\\thesis_adversarial_ml_audio\\...</td>\n",
       "      <td>16b10Wb.wav</td>\n",
       "      <td>angry</td>\n",
       "      <td>16</td>\n",
       "      <td>f</td>\n",
       "      <td>2.522540</td>\n",
       "    </tr>\n",
       "  </tbody>\n",
       "</table>\n",
       "<p>535 rows × 6 columns</p>\n",
       "</div>"
      ],
      "text/plain": [
       "                                                  path     filename    label  \\\n",
       "0    D:\\Scuola\\TesiMag\\thesis_adversarial_ml_audio\\...  03a01Fa.wav    happy   \n",
       "1    D:\\Scuola\\TesiMag\\thesis_adversarial_ml_audio\\...  03a01Nc.wav  neutral   \n",
       "2    D:\\Scuola\\TesiMag\\thesis_adversarial_ml_audio\\...  03a01Wa.wav    angry   \n",
       "3    D:\\Scuola\\TesiMag\\thesis_adversarial_ml_audio\\...  03a02Fc.wav    happy   \n",
       "4    D:\\Scuola\\TesiMag\\thesis_adversarial_ml_audio\\...  03a02Nc.wav  neutral   \n",
       "..                                                 ...          ...      ...   \n",
       "530  D:\\Scuola\\TesiMag\\thesis_adversarial_ml_audio\\...  16b10Lb.wav    bored   \n",
       "531  D:\\Scuola\\TesiMag\\thesis_adversarial_ml_audio\\...  16b10Tb.wav      sad   \n",
       "532  D:\\Scuola\\TesiMag\\thesis_adversarial_ml_audio\\...  16b10Td.wav      sad   \n",
       "533  D:\\Scuola\\TesiMag\\thesis_adversarial_ml_audio\\...  16b10Wa.wav    angry   \n",
       "534  D:\\Scuola\\TesiMag\\thesis_adversarial_ml_audio\\...  16b10Wb.wav    angry   \n",
       "\n",
       "     actor gender    length  \n",
       "0        3      m  1.898277  \n",
       "1        3      m  1.611293  \n",
       "2        3      m  1.877823  \n",
       "3        3      m  2.006259  \n",
       "4        3      m  1.439819  \n",
       "..     ...    ...       ...  \n",
       "530     16      f  3.442721  \n",
       "531     16      f  3.500635  \n",
       "532     16      f  3.934195  \n",
       "533     16      f  2.414150  \n",
       "534     16      f  2.522540  \n",
       "\n",
       "[535 rows x 6 columns]"
      ]
     },
     "execution_count": 4,
     "metadata": {},
     "output_type": "execute_result"
    }
   ],
   "source": [
    "emodb"
   ]
  },
  {
   "cell_type": "code",
   "execution_count": 5,
   "id": "40368274",
   "metadata": {},
   "outputs": [
    {
     "data": {
      "text/html": [
       "<div>\n",
       "<style scoped>\n",
       "    .dataframe tbody tr th:only-of-type {\n",
       "        vertical-align: middle;\n",
       "    }\n",
       "\n",
       "    .dataframe tbody tr th {\n",
       "        vertical-align: top;\n",
       "    }\n",
       "\n",
       "    .dataframe thead th {\n",
       "        text-align: right;\n",
       "    }\n",
       "</style>\n",
       "<table border=\"1\" class=\"dataframe\">\n",
       "  <thead>\n",
       "    <tr style=\"text-align: right;\">\n",
       "      <th></th>\n",
       "      <th>path</th>\n",
       "      <th>filename</th>\n",
       "      <th>label</th>\n",
       "      <th>actor</th>\n",
       "      <th>gender</th>\n",
       "      <th>length</th>\n",
       "    </tr>\n",
       "  </thead>\n",
       "  <tbody>\n",
       "    <tr>\n",
       "      <th>0</th>\n",
       "      <td>D:\\Scuola\\TesiMag\\thesis_adversarial_ml_audio\\...</td>\n",
       "      <td>03-01-01-01-01-01-01.wav</td>\n",
       "      <td>neutral</td>\n",
       "      <td>Actor_01</td>\n",
       "      <td>m</td>\n",
       "      <td>3.303311</td>\n",
       "    </tr>\n",
       "    <tr>\n",
       "      <th>1</th>\n",
       "      <td>D:\\Scuola\\TesiMag\\thesis_adversarial_ml_audio\\...</td>\n",
       "      <td>03-01-01-01-01-02-01.wav</td>\n",
       "      <td>neutral</td>\n",
       "      <td>Actor_01</td>\n",
       "      <td>m</td>\n",
       "      <td>3.336689</td>\n",
       "    </tr>\n",
       "    <tr>\n",
       "      <th>2</th>\n",
       "      <td>D:\\Scuola\\TesiMag\\thesis_adversarial_ml_audio\\...</td>\n",
       "      <td>03-01-01-01-02-01-01.wav</td>\n",
       "      <td>neutral</td>\n",
       "      <td>Actor_01</td>\n",
       "      <td>m</td>\n",
       "      <td>3.269932</td>\n",
       "    </tr>\n",
       "    <tr>\n",
       "      <th>3</th>\n",
       "      <td>D:\\Scuola\\TesiMag\\thesis_adversarial_ml_audio\\...</td>\n",
       "      <td>03-01-01-01-02-02-01.wav</td>\n",
       "      <td>neutral</td>\n",
       "      <td>Actor_01</td>\n",
       "      <td>m</td>\n",
       "      <td>3.169841</td>\n",
       "    </tr>\n",
       "    <tr>\n",
       "      <th>4</th>\n",
       "      <td>D:\\Scuola\\TesiMag\\thesis_adversarial_ml_audio\\...</td>\n",
       "      <td>03-01-02-01-01-01-01.wav</td>\n",
       "      <td>calm</td>\n",
       "      <td>Actor_01</td>\n",
       "      <td>m</td>\n",
       "      <td>3.536871</td>\n",
       "    </tr>\n",
       "    <tr>\n",
       "      <th>...</th>\n",
       "      <td>...</td>\n",
       "      <td>...</td>\n",
       "      <td>...</td>\n",
       "      <td>...</td>\n",
       "      <td>...</td>\n",
       "      <td>...</td>\n",
       "    </tr>\n",
       "    <tr>\n",
       "      <th>1435</th>\n",
       "      <td>D:\\Scuola\\TesiMag\\thesis_adversarial_ml_audio\\...</td>\n",
       "      <td>03-01-08-01-02-02-24.wav</td>\n",
       "      <td>surprised</td>\n",
       "      <td>Actor_24</td>\n",
       "      <td>f</td>\n",
       "      <td>3.403401</td>\n",
       "    </tr>\n",
       "    <tr>\n",
       "      <th>1436</th>\n",
       "      <td>D:\\Scuola\\TesiMag\\thesis_adversarial_ml_audio\\...</td>\n",
       "      <td>03-01-08-02-01-01-24.wav</td>\n",
       "      <td>surprised</td>\n",
       "      <td>Actor_24</td>\n",
       "      <td>f</td>\n",
       "      <td>3.937279</td>\n",
       "    </tr>\n",
       "    <tr>\n",
       "      <th>1437</th>\n",
       "      <td>D:\\Scuola\\TesiMag\\thesis_adversarial_ml_audio\\...</td>\n",
       "      <td>03-01-08-02-01-02-24.wav</td>\n",
       "      <td>surprised</td>\n",
       "      <td>Actor_24</td>\n",
       "      <td>f</td>\n",
       "      <td>3.970658</td>\n",
       "    </tr>\n",
       "    <tr>\n",
       "      <th>1438</th>\n",
       "      <td>D:\\Scuola\\TesiMag\\thesis_adversarial_ml_audio\\...</td>\n",
       "      <td>03-01-08-02-02-01-24.wav</td>\n",
       "      <td>surprised</td>\n",
       "      <td>Actor_24</td>\n",
       "      <td>f</td>\n",
       "      <td>3.670340</td>\n",
       "    </tr>\n",
       "    <tr>\n",
       "      <th>1439</th>\n",
       "      <td>D:\\Scuola\\TesiMag\\thesis_adversarial_ml_audio\\...</td>\n",
       "      <td>03-01-08-02-02-02-24.wav</td>\n",
       "      <td>surprised</td>\n",
       "      <td>Actor_24</td>\n",
       "      <td>f</td>\n",
       "      <td>3.636961</td>\n",
       "    </tr>\n",
       "  </tbody>\n",
       "</table>\n",
       "<p>1440 rows × 6 columns</p>\n",
       "</div>"
      ],
      "text/plain": [
       "                                                   path  \\\n",
       "0     D:\\Scuola\\TesiMag\\thesis_adversarial_ml_audio\\...   \n",
       "1     D:\\Scuola\\TesiMag\\thesis_adversarial_ml_audio\\...   \n",
       "2     D:\\Scuola\\TesiMag\\thesis_adversarial_ml_audio\\...   \n",
       "3     D:\\Scuola\\TesiMag\\thesis_adversarial_ml_audio\\...   \n",
       "4     D:\\Scuola\\TesiMag\\thesis_adversarial_ml_audio\\...   \n",
       "...                                                 ...   \n",
       "1435  D:\\Scuola\\TesiMag\\thesis_adversarial_ml_audio\\...   \n",
       "1436  D:\\Scuola\\TesiMag\\thesis_adversarial_ml_audio\\...   \n",
       "1437  D:\\Scuola\\TesiMag\\thesis_adversarial_ml_audio\\...   \n",
       "1438  D:\\Scuola\\TesiMag\\thesis_adversarial_ml_audio\\...   \n",
       "1439  D:\\Scuola\\TesiMag\\thesis_adversarial_ml_audio\\...   \n",
       "\n",
       "                      filename      label     actor gender    length  \n",
       "0     03-01-01-01-01-01-01.wav    neutral  Actor_01      m  3.303311  \n",
       "1     03-01-01-01-01-02-01.wav    neutral  Actor_01      m  3.336689  \n",
       "2     03-01-01-01-02-01-01.wav    neutral  Actor_01      m  3.269932  \n",
       "3     03-01-01-01-02-02-01.wav    neutral  Actor_01      m  3.169841  \n",
       "4     03-01-02-01-01-01-01.wav       calm  Actor_01      m  3.536871  \n",
       "...                        ...        ...       ...    ...       ...  \n",
       "1435  03-01-08-01-02-02-24.wav  surprised  Actor_24      f  3.403401  \n",
       "1436  03-01-08-02-01-01-24.wav  surprised  Actor_24      f  3.937279  \n",
       "1437  03-01-08-02-01-02-24.wav  surprised  Actor_24      f  3.970658  \n",
       "1438  03-01-08-02-02-01-24.wav  surprised  Actor_24      f  3.670340  \n",
       "1439  03-01-08-02-02-02-24.wav  surprised  Actor_24      f  3.636961  \n",
       "\n",
       "[1440 rows x 6 columns]"
      ]
     },
     "execution_count": 5,
     "metadata": {},
     "output_type": "execute_result"
    }
   ],
   "source": [
    "ravdess"
   ]
  },
  {
   "cell_type": "code",
   "execution_count": 6,
   "id": "439e68db",
   "metadata": {},
   "outputs": [
    {
     "data": {
      "text/html": [
       "<div>\n",
       "<style scoped>\n",
       "    .dataframe tbody tr th:only-of-type {\n",
       "        vertical-align: middle;\n",
       "    }\n",
       "\n",
       "    .dataframe tbody tr th {\n",
       "        vertical-align: top;\n",
       "    }\n",
       "\n",
       "    .dataframe thead th {\n",
       "        text-align: right;\n",
       "    }\n",
       "</style>\n",
       "<table border=\"1\" class=\"dataframe\">\n",
       "  <thead>\n",
       "    <tr style=\"text-align: right;\">\n",
       "      <th></th>\n",
       "      <th>path</th>\n",
       "      <th>filename</th>\n",
       "      <th>label</th>\n",
       "      <th>actor</th>\n",
       "      <th>gender</th>\n",
       "      <th>length</th>\n",
       "    </tr>\n",
       "  </thead>\n",
       "  <tbody>\n",
       "    <tr>\n",
       "      <th>0</th>\n",
       "      <td>D:\\Scuola\\TesiMag\\thesis_adversarial_ml_audio\\...</td>\n",
       "      <td>dis-f1-b1.wav</td>\n",
       "      <td>disgust</td>\n",
       "      <td>f1</td>\n",
       "      <td>f</td>\n",
       "      <td>2.858685</td>\n",
       "    </tr>\n",
       "    <tr>\n",
       "      <th>1</th>\n",
       "      <td>D:\\Scuola\\TesiMag\\thesis_adversarial_ml_audio\\...</td>\n",
       "      <td>dis-f1-b2.wav</td>\n",
       "      <td>disgust</td>\n",
       "      <td>f1</td>\n",
       "      <td>f</td>\n",
       "      <td>2.858685</td>\n",
       "    </tr>\n",
       "    <tr>\n",
       "      <th>2</th>\n",
       "      <td>D:\\Scuola\\TesiMag\\thesis_adversarial_ml_audio\\...</td>\n",
       "      <td>dis-f1-b3.wav</td>\n",
       "      <td>disgust</td>\n",
       "      <td>f1</td>\n",
       "      <td>f</td>\n",
       "      <td>2.389342</td>\n",
       "    </tr>\n",
       "    <tr>\n",
       "      <th>3</th>\n",
       "      <td>D:\\Scuola\\TesiMag\\thesis_adversarial_ml_audio\\...</td>\n",
       "      <td>dis-f1-d1.wav</td>\n",
       "      <td>disgust</td>\n",
       "      <td>f1</td>\n",
       "      <td>f</td>\n",
       "      <td>1.992018</td>\n",
       "    </tr>\n",
       "    <tr>\n",
       "      <th>4</th>\n",
       "      <td>D:\\Scuola\\TesiMag\\thesis_adversarial_ml_audio\\...</td>\n",
       "      <td>dis-f1-d2.wav</td>\n",
       "      <td>disgust</td>\n",
       "      <td>f1</td>\n",
       "      <td>f</td>\n",
       "      <td>2.782676</td>\n",
       "    </tr>\n",
       "    <tr>\n",
       "      <th>...</th>\n",
       "      <td>...</td>\n",
       "      <td>...</td>\n",
       "      <td>...</td>\n",
       "      <td>...</td>\n",
       "      <td>...</td>\n",
       "      <td>...</td>\n",
       "    </tr>\n",
       "    <tr>\n",
       "      <th>583</th>\n",
       "      <td>D:\\Scuola\\TesiMag\\thesis_adversarial_ml_audio\\...</td>\n",
       "      <td>tri-m3-n1.wav</td>\n",
       "      <td>sad</td>\n",
       "      <td>m3</td>\n",
       "      <td>m</td>\n",
       "      <td>1.877370</td>\n",
       "    </tr>\n",
       "    <tr>\n",
       "      <th>584</th>\n",
       "      <td>D:\\Scuola\\TesiMag\\thesis_adversarial_ml_audio\\...</td>\n",
       "      <td>tri-m3-n2.wav</td>\n",
       "      <td>sad</td>\n",
       "      <td>m3</td>\n",
       "      <td>m</td>\n",
       "      <td>3.114694</td>\n",
       "    </tr>\n",
       "    <tr>\n",
       "      <th>585</th>\n",
       "      <td>D:\\Scuola\\TesiMag\\thesis_adversarial_ml_audio\\...</td>\n",
       "      <td>tri-m3-n3.wav</td>\n",
       "      <td>sad</td>\n",
       "      <td>m3</td>\n",
       "      <td>m</td>\n",
       "      <td>2.474694</td>\n",
       "    </tr>\n",
       "    <tr>\n",
       "      <th>586</th>\n",
       "      <td>D:\\Scuola\\TesiMag\\thesis_adversarial_ml_audio\\...</td>\n",
       "      <td>tri-m3-n4.wav</td>\n",
       "      <td>sad</td>\n",
       "      <td>m3</td>\n",
       "      <td>m</td>\n",
       "      <td>4.906667</td>\n",
       "    </tr>\n",
       "    <tr>\n",
       "      <th>587</th>\n",
       "      <td>D:\\Scuola\\TesiMag\\thesis_adversarial_ml_audio\\...</td>\n",
       "      <td>tri-m3-n5.wav</td>\n",
       "      <td>sad</td>\n",
       "      <td>m3</td>\n",
       "      <td>m</td>\n",
       "      <td>5.376009</td>\n",
       "    </tr>\n",
       "  </tbody>\n",
       "</table>\n",
       "<p>588 rows × 6 columns</p>\n",
       "</div>"
      ],
      "text/plain": [
       "                                                  path       filename  \\\n",
       "0    D:\\Scuola\\TesiMag\\thesis_adversarial_ml_audio\\...  dis-f1-b1.wav   \n",
       "1    D:\\Scuola\\TesiMag\\thesis_adversarial_ml_audio\\...  dis-f1-b2.wav   \n",
       "2    D:\\Scuola\\TesiMag\\thesis_adversarial_ml_audio\\...  dis-f1-b3.wav   \n",
       "3    D:\\Scuola\\TesiMag\\thesis_adversarial_ml_audio\\...  dis-f1-d1.wav   \n",
       "4    D:\\Scuola\\TesiMag\\thesis_adversarial_ml_audio\\...  dis-f1-d2.wav   \n",
       "..                                                 ...            ...   \n",
       "583  D:\\Scuola\\TesiMag\\thesis_adversarial_ml_audio\\...  tri-m3-n1.wav   \n",
       "584  D:\\Scuola\\TesiMag\\thesis_adversarial_ml_audio\\...  tri-m3-n2.wav   \n",
       "585  D:\\Scuola\\TesiMag\\thesis_adversarial_ml_audio\\...  tri-m3-n3.wav   \n",
       "586  D:\\Scuola\\TesiMag\\thesis_adversarial_ml_audio\\...  tri-m3-n4.wav   \n",
       "587  D:\\Scuola\\TesiMag\\thesis_adversarial_ml_audio\\...  tri-m3-n5.wav   \n",
       "\n",
       "       label actor gender    length  \n",
       "0    disgust    f1      f  2.858685  \n",
       "1    disgust    f1      f  2.858685  \n",
       "2    disgust    f1      f  2.389342  \n",
       "3    disgust    f1      f  1.992018  \n",
       "4    disgust    f1      f  2.782676  \n",
       "..       ...   ...    ...       ...  \n",
       "583      sad    m3      m  1.877370  \n",
       "584      sad    m3      m  3.114694  \n",
       "585      sad    m3      m  2.474694  \n",
       "586      sad    m3      m  4.906667  \n",
       "587      sad    m3      m  5.376009  \n",
       "\n",
       "[588 rows x 6 columns]"
      ]
     },
     "execution_count": 6,
     "metadata": {},
     "output_type": "execute_result"
    }
   ],
   "source": [
    "emovo"
   ]
  },
  {
   "cell_type": "code",
   "execution_count": 7,
   "id": "ae7a9126",
   "metadata": {},
   "outputs": [
    {
     "data": {
      "text/html": [
       "<div>\n",
       "<style scoped>\n",
       "    .dataframe tbody tr th:only-of-type {\n",
       "        vertical-align: middle;\n",
       "    }\n",
       "\n",
       "    .dataframe tbody tr th {\n",
       "        vertical-align: top;\n",
       "    }\n",
       "\n",
       "    .dataframe thead th {\n",
       "        text-align: right;\n",
       "    }\n",
       "</style>\n",
       "<table border=\"1\" class=\"dataframe\">\n",
       "  <thead>\n",
       "    <tr style=\"text-align: right;\">\n",
       "      <th></th>\n",
       "      <th>path</th>\n",
       "      <th>filename</th>\n",
       "      <th>label</th>\n",
       "      <th>actor</th>\n",
       "      <th>gender</th>\n",
       "      <th>length</th>\n",
       "    </tr>\n",
       "  </thead>\n",
       "  <tbody>\n",
       "    <tr>\n",
       "      <th>0</th>\n",
       "      <td>D:\\Scuola\\TesiMag\\thesis_adversarial_ml_audio\\...</td>\n",
       "      <td>03a01Fa.wav</td>\n",
       "      <td>happy</td>\n",
       "      <td>3</td>\n",
       "      <td>m</td>\n",
       "      <td>1.898277</td>\n",
       "    </tr>\n",
       "    <tr>\n",
       "      <th>1</th>\n",
       "      <td>D:\\Scuola\\TesiMag\\thesis_adversarial_ml_audio\\...</td>\n",
       "      <td>03a01Nc.wav</td>\n",
       "      <td>neutral</td>\n",
       "      <td>3</td>\n",
       "      <td>m</td>\n",
       "      <td>1.611293</td>\n",
       "    </tr>\n",
       "    <tr>\n",
       "      <th>2</th>\n",
       "      <td>D:\\Scuola\\TesiMag\\thesis_adversarial_ml_audio\\...</td>\n",
       "      <td>03a01Wa.wav</td>\n",
       "      <td>angry</td>\n",
       "      <td>3</td>\n",
       "      <td>m</td>\n",
       "      <td>1.877823</td>\n",
       "    </tr>\n",
       "    <tr>\n",
       "      <th>3</th>\n",
       "      <td>D:\\Scuola\\TesiMag\\thesis_adversarial_ml_audio\\...</td>\n",
       "      <td>03a02Fc.wav</td>\n",
       "      <td>happy</td>\n",
       "      <td>3</td>\n",
       "      <td>m</td>\n",
       "      <td>2.006259</td>\n",
       "    </tr>\n",
       "    <tr>\n",
       "      <th>4</th>\n",
       "      <td>D:\\Scuola\\TesiMag\\thesis_adversarial_ml_audio\\...</td>\n",
       "      <td>03a02Nc.wav</td>\n",
       "      <td>neutral</td>\n",
       "      <td>3</td>\n",
       "      <td>m</td>\n",
       "      <td>1.439819</td>\n",
       "    </tr>\n",
       "    <tr>\n",
       "      <th>...</th>\n",
       "      <td>...</td>\n",
       "      <td>...</td>\n",
       "      <td>...</td>\n",
       "      <td>...</td>\n",
       "      <td>...</td>\n",
       "      <td>...</td>\n",
       "    </tr>\n",
       "    <tr>\n",
       "      <th>1435</th>\n",
       "      <td>D:\\Scuola\\TesiMag\\thesis_adversarial_ml_audio\\...</td>\n",
       "      <td>03-01-08-01-02-02-24.wav</td>\n",
       "      <td>surprised</td>\n",
       "      <td>Actor_24</td>\n",
       "      <td>f</td>\n",
       "      <td>3.403401</td>\n",
       "    </tr>\n",
       "    <tr>\n",
       "      <th>1436</th>\n",
       "      <td>D:\\Scuola\\TesiMag\\thesis_adversarial_ml_audio\\...</td>\n",
       "      <td>03-01-08-02-01-01-24.wav</td>\n",
       "      <td>surprised</td>\n",
       "      <td>Actor_24</td>\n",
       "      <td>f</td>\n",
       "      <td>3.937279</td>\n",
       "    </tr>\n",
       "    <tr>\n",
       "      <th>1437</th>\n",
       "      <td>D:\\Scuola\\TesiMag\\thesis_adversarial_ml_audio\\...</td>\n",
       "      <td>03-01-08-02-01-02-24.wav</td>\n",
       "      <td>surprised</td>\n",
       "      <td>Actor_24</td>\n",
       "      <td>f</td>\n",
       "      <td>3.970658</td>\n",
       "    </tr>\n",
       "    <tr>\n",
       "      <th>1438</th>\n",
       "      <td>D:\\Scuola\\TesiMag\\thesis_adversarial_ml_audio\\...</td>\n",
       "      <td>03-01-08-02-02-01-24.wav</td>\n",
       "      <td>surprised</td>\n",
       "      <td>Actor_24</td>\n",
       "      <td>f</td>\n",
       "      <td>3.670340</td>\n",
       "    </tr>\n",
       "    <tr>\n",
       "      <th>1439</th>\n",
       "      <td>D:\\Scuola\\TesiMag\\thesis_adversarial_ml_audio\\...</td>\n",
       "      <td>03-01-08-02-02-02-24.wav</td>\n",
       "      <td>surprised</td>\n",
       "      <td>Actor_24</td>\n",
       "      <td>f</td>\n",
       "      <td>3.636961</td>\n",
       "    </tr>\n",
       "  </tbody>\n",
       "</table>\n",
       "<p>2563 rows × 6 columns</p>\n",
       "</div>"
      ],
      "text/plain": [
       "                                                   path  \\\n",
       "0     D:\\Scuola\\TesiMag\\thesis_adversarial_ml_audio\\...   \n",
       "1     D:\\Scuola\\TesiMag\\thesis_adversarial_ml_audio\\...   \n",
       "2     D:\\Scuola\\TesiMag\\thesis_adversarial_ml_audio\\...   \n",
       "3     D:\\Scuola\\TesiMag\\thesis_adversarial_ml_audio\\...   \n",
       "4     D:\\Scuola\\TesiMag\\thesis_adversarial_ml_audio\\...   \n",
       "...                                                 ...   \n",
       "1435  D:\\Scuola\\TesiMag\\thesis_adversarial_ml_audio\\...   \n",
       "1436  D:\\Scuola\\TesiMag\\thesis_adversarial_ml_audio\\...   \n",
       "1437  D:\\Scuola\\TesiMag\\thesis_adversarial_ml_audio\\...   \n",
       "1438  D:\\Scuola\\TesiMag\\thesis_adversarial_ml_audio\\...   \n",
       "1439  D:\\Scuola\\TesiMag\\thesis_adversarial_ml_audio\\...   \n",
       "\n",
       "                      filename      label     actor gender    length  \n",
       "0                  03a01Fa.wav      happy         3      m  1.898277  \n",
       "1                  03a01Nc.wav    neutral         3      m  1.611293  \n",
       "2                  03a01Wa.wav      angry         3      m  1.877823  \n",
       "3                  03a02Fc.wav      happy         3      m  2.006259  \n",
       "4                  03a02Nc.wav    neutral         3      m  1.439819  \n",
       "...                        ...        ...       ...    ...       ...  \n",
       "1435  03-01-08-01-02-02-24.wav  surprised  Actor_24      f  3.403401  \n",
       "1436  03-01-08-02-01-01-24.wav  surprised  Actor_24      f  3.937279  \n",
       "1437  03-01-08-02-01-02-24.wav  surprised  Actor_24      f  3.970658  \n",
       "1438  03-01-08-02-02-01-24.wav  surprised  Actor_24      f  3.670340  \n",
       "1439  03-01-08-02-02-02-24.wav  surprised  Actor_24      f  3.636961  \n",
       "\n",
       "[2563 rows x 6 columns]"
      ]
     },
     "execution_count": 7,
     "metadata": {},
     "output_type": "execute_result"
    }
   ],
   "source": [
    "frames = {'emodb': emodb, 'emovo': emovo, 'ravdess': ravdess}\n",
    "\n",
    "result = pd.concat(frames.values())\n",
    "result"
   ]
  },
  {
   "cell_type": "markdown",
   "id": "5f2d42b1",
   "metadata": {},
   "source": [
    "# Remove labels"
   ]
  },
  {
   "cell_type": "markdown",
   "id": "75828b98",
   "metadata": {},
   "source": [
    "Remove the labels to obtain the same number in all datasets by dropping problematic labels and the most correlated of the rest"
   ]
  },
  {
   "cell_type": "markdown",
   "id": "a764a43e",
   "metadata": {},
   "source": [
    "For emodb, remove class disgust that have serious imbalance and the most correlated which is ..."
   ]
  },
  {
   "cell_type": "code",
   "execution_count": 8,
   "id": "4940db11",
   "metadata": {},
   "outputs": [],
   "source": [
    "frames['emodb'] = frames['emodb'].drop(frames['emodb'][frames['emodb'].label == 'disgust'].index)\n",
    "frames['emodb'] = frames['emodb'].drop(frames['emodb'][frames['emodb'].label == 'bored'].index)"
   ]
  },
  {
   "cell_type": "code",
   "execution_count": 9,
   "id": "d26b9d00",
   "metadata": {},
   "outputs": [
    {
     "data": {
      "text/plain": [
       "array(['happy', 'neutral', 'angry', 'sad', 'fear'], dtype=object)"
      ]
     },
     "execution_count": 9,
     "metadata": {},
     "output_type": "execute_result"
    }
   ],
   "source": [
    "frames['emodb'].label.unique()"
   ]
  },
  {
   "cell_type": "markdown",
   "id": "650479e2",
   "metadata": {},
   "source": [
    "For emovo, remove the most correlated labes which are ..."
   ]
  },
  {
   "cell_type": "code",
   "execution_count": 10,
   "id": "84684681",
   "metadata": {},
   "outputs": [],
   "source": [
    "frames['emovo'] = frames['emovo'].drop(frames['emovo'][frames['emovo'].label == 'neutral'].index)\n",
    "frames['emovo'] = frames['emovo'].drop(frames['emovo'][frames['emovo'].label == 'disgust'].index)"
   ]
  },
  {
   "cell_type": "code",
   "execution_count": 11,
   "id": "7b294643",
   "metadata": {},
   "outputs": [
    {
     "data": {
      "text/plain": [
       "array(['happy', 'fear', 'angry', 'surprised', 'sad'], dtype=object)"
      ]
     },
     "execution_count": 11,
     "metadata": {},
     "output_type": "execute_result"
    }
   ],
   "source": [
    "frames['emovo'].label.unique()"
   ]
  },
  {
   "cell_type": "markdown",
   "id": "169d01ea",
   "metadata": {},
   "source": [
    "For ravdess, remove class neutral neutral which have half of the samples and the 2 most correlated which are ..."
   ]
  },
  {
   "cell_type": "code",
   "execution_count": 12,
   "id": "a850b19a",
   "metadata": {},
   "outputs": [],
   "source": [
    "frames['ravdess'] = frames['ravdess'].drop(frames['ravdess'][frames['ravdess'].label == 'neutral'].index)\n",
    "frames['ravdess'] = frames['ravdess'].drop(frames['ravdess'][frames['ravdess'].label == 'happy'].index)\n",
    "frames['ravdess'] = frames['ravdess'].drop(frames['ravdess'][frames['ravdess'].label == 'fear'].index)"
   ]
  },
  {
   "cell_type": "code",
   "execution_count": 13,
   "id": "4e55c536",
   "metadata": {},
   "outputs": [
    {
     "data": {
      "text/plain": [
       "array(['calm', 'sad', 'angry', 'disgust', 'surprised'], dtype=object)"
      ]
     },
     "execution_count": 13,
     "metadata": {},
     "output_type": "execute_result"
    }
   ],
   "source": [
    "frames['ravdess'].label.unique()"
   ]
  },
  {
   "cell_type": "markdown",
   "id": "8a08beb9",
   "metadata": {},
   "source": [
    "# Balance datasets"
   ]
  },
  {
   "cell_type": "code",
   "execution_count": 14,
   "id": "4cc65a86",
   "metadata": {},
   "outputs": [
    {
     "data": {
      "text/plain": [
       "<AxesSubplot: >"
      ]
     },
     "execution_count": 14,
     "metadata": {},
     "output_type": "execute_result"
    },
    {
     "data": {
      "image/png": "[encoded data removed]",
      "text/plain": [
       "<Figure size 432x288 with 1 Axes>"
      ]
     },
     "metadata": {
      "needs_background": "light"
     },
     "output_type": "display_data"
    }
   ],
   "source": [
    "frames['emodb']['actor'].hist(bins=40)"
   ]
  },
  {
   "cell_type": "code",
   "execution_count": 15,
   "id": "2d5771db",
   "metadata": {},
   "outputs": [
    {
     "data": {
      "text/plain": [
       "<AxesSubplot: >"
      ]
     },
     "execution_count": 15,
     "metadata": {},
     "output_type": "execute_result"
    },
    {
     "data": {
      "image/png": "[encoded data removed]",
      "text/plain": [
       "<Figure size 432x288 with 1 Axes>"
      ]
     },
     "metadata": {
      "needs_background": "light"
     },
     "output_type": "display_data"
    }
   ],
   "source": [
    "frames['emodb']['label'].hist(bins=40)"
   ]
  },
  {
   "cell_type": "markdown",
   "id": "6c635434",
   "metadata": {},
   "source": [
    "Undersample angry class to 80 sample"
   ]
  },
  {
   "cell_type": "code",
   "execution_count": 16,
   "id": "730f1fce",
   "metadata": {},
   "outputs": [
    {
     "data": {
      "text/plain": [
       "<AxesSubplot: >"
      ]
     },
     "execution_count": 16,
     "metadata": {},
     "output_type": "execute_result"
    },
    {
     "data": {
      "image/png": "[encoded data removed]",
      "text/plain": [
       "<Figure size 432x288 with 1 Axes>"
      ]
     },
     "metadata": {
      "needs_background": "light"
     },
     "output_type": "display_data"
    }
   ],
   "source": [
    "frames['emodb'][frames['emodb'].label == 'angry']['actor'].hist(bins=40)"
   ]
  },
  {
   "cell_type": "markdown",
   "id": "1ca335f3",
   "metadata": {},
   "source": [
    "Keep only 8 samples for each actor"
   ]
  },
  {
   "cell_type": "code",
   "execution_count": 17,
   "id": "3e2c200d",
   "metadata": {},
   "outputs": [],
   "source": [
    "actors_emodb = frames['emodb'].actor.unique()\n",
    "for a in actors_emodb:\n",
    "    cond = (frames['emodb'].actor == a) & (frames['emodb'].label == 'angry')\n",
    "    ext = frames['emodb'][cond].sample(n=8, random_state=1997).index\n",
    "    to_drop = np.setdiff1d(frames['emodb'][cond].index, ext, assume_unique=True)\n",
    "    \n",
    "    frames['emodb'].drop(index=to_drop, inplace=True)"
   ]
  },
  {
   "cell_type": "code",
   "execution_count": 18,
   "id": "a90ea29c",
   "metadata": {},
   "outputs": [
    {
     "data": {
      "text/plain": [
       "<AxesSubplot: >"
      ]
     },
     "execution_count": 18,
     "metadata": {},
     "output_type": "execute_result"
    },
    {
     "data": {
      "image/png": "[encoded data removed]",
      "text/plain": [
       "<Figure size 432x288 with 1 Axes>"
      ]
     },
     "metadata": {
      "needs_background": "light"
     },
     "output_type": "display_data"
    }
   ],
   "source": [
    "frames['emodb']['label'].hist(bins=40)"
   ]
  },
  {
   "cell_type": "code",
   "execution_count": 19,
   "id": "be97035f",
   "metadata": {},
   "outputs": [
    {
     "data": {
      "text/plain": [
       "<AxesSubplot: >"
      ]
     },
     "execution_count": 19,
     "metadata": {},
     "output_type": "execute_result"
    },
    {
     "data": {
      "image/png": "[encoded data removed]",
      "text/plain": [
       "<Figure size 432x288 with 1 Axes>"
      ]
     },
     "metadata": {
      "needs_background": "light"
     },
     "output_type": "display_data"
    }
   ],
   "source": [
    "frames['emodb']['actor'].hist(bins=40)"
   ]
  },
  {
   "cell_type": "code",
   "execution_count": 20,
   "id": "d2049cbc",
   "metadata": {},
   "outputs": [
    {
     "data": {
      "text/plain": [
       "<AxesSubplot: >"
      ]
     },
     "execution_count": 20,
     "metadata": {},
     "output_type": "execute_result"
    },
    {
     "data": {
      "image/png": "[encoded data removed]",
      "text/plain": [
       "<Figure size 432x288 with 1 Axes>"
      ]
     },
     "metadata": {
      "needs_background": "light"
     },
     "output_type": "display_data"
    }
   ],
   "source": [
    "frames['emodb'][frames['emodb'].label == 'angry']['actor'].hist(bins=40)"
   ]
  },
  {
   "cell_type": "code",
   "execution_count": 21,
   "id": "525638e6",
   "metadata": {},
   "outputs": [
    {
     "data": {
      "text/plain": [
       "<AxesSubplot: >"
      ]
     },
     "execution_count": 21,
     "metadata": {},
     "output_type": "execute_result"
    },
    {
     "data": {
      "image/png": "[encoded data removed]",
      "text/plain": [
       "<Figure size 432x288 with 1 Axes>"
      ]
     },
     "metadata": {
      "needs_background": "light"
     },
     "output_type": "display_data"
    }
   ],
   "source": [
    "frames['emovo']['actor'].hist(bins=40)"
   ]
  },
  {
   "cell_type": "code",
   "execution_count": 22,
   "id": "aedd60a5",
   "metadata": {},
   "outputs": [
    {
     "data": {
      "text/plain": [
       "<AxesSubplot: >"
      ]
     },
     "execution_count": 22,
     "metadata": {},
     "output_type": "execute_result"
    },
    {
     "data": {
      "image/png": "[encoded data removed]",
      "text/plain": [
       "<Figure size 432x288 with 1 Axes>"
      ]
     },
     "metadata": {
      "needs_background": "light"
     },
     "output_type": "display_data"
    }
   ],
   "source": [
    "frames['emovo']['label'].hist(bins=40)"
   ]
  },
  {
   "cell_type": "code",
   "execution_count": 23,
   "id": "ba0b812e",
   "metadata": {},
   "outputs": [
    {
     "data": {
      "text/plain": [
       "<AxesSubplot: >"
      ]
     },
     "execution_count": 23,
     "metadata": {},
     "output_type": "execute_result"
    },
    {
     "data": {
      "image/png": "[encoded data removed]",
      "text/plain": [
       "<Figure size 432x288 with 1 Axes>"
      ]
     },
     "metadata": {
      "needs_background": "light"
     },
     "output_type": "display_data"
    }
   ],
   "source": [
    "frames['ravdess']['actor'].hist(bins=40)"
   ]
  },
  {
   "cell_type": "code",
   "execution_count": 24,
   "id": "bb2943a6",
   "metadata": {},
   "outputs": [
    {
     "data": {
      "text/plain": [
       "<AxesSubplot: >"
      ]
     },
     "execution_count": 24,
     "metadata": {},
     "output_type": "execute_result"
    },
    {
     "data": {
      "image/png": "[encoded data removed]",
      "text/plain": [
       "<Figure size 432x288 with 1 Axes>"
      ]
     },
     "metadata": {
      "needs_background": "light"
     },
     "output_type": "display_data"
    }
   ],
   "source": [
    "frames['ravdess']['label'].hist(bins=40)"
   ]
  },
  {
   "cell_type": "code",
   "execution_count": 25,
   "id": "e5b633db",
   "metadata": {},
   "outputs": [],
   "source": [
    "for d in frames:\n",
    "    frames[d].reset_index(inplace=True)"
   ]
  },
  {
   "cell_type": "code",
   "execution_count": 26,
   "id": "e2ba8222",
   "metadata": {},
   "outputs": [
    {
     "data": {
      "text/html": [
       "<div>\n",
       "<style scoped>\n",
       "    .dataframe tbody tr th:only-of-type {\n",
       "        vertical-align: middle;\n",
       "    }\n",
       "\n",
       "    .dataframe tbody tr th {\n",
       "        vertical-align: top;\n",
       "    }\n",
       "\n",
       "    .dataframe thead th {\n",
       "        text-align: right;\n",
       "    }\n",
       "</style>\n",
       "<table border=\"1\" class=\"dataframe\">\n",
       "  <thead>\n",
       "    <tr style=\"text-align: right;\">\n",
       "      <th></th>\n",
       "      <th>index</th>\n",
       "      <th>path</th>\n",
       "      <th>filename</th>\n",
       "      <th>label</th>\n",
       "      <th>actor</th>\n",
       "      <th>gender</th>\n",
       "      <th>length</th>\n",
       "    </tr>\n",
       "  </thead>\n",
       "  <tbody>\n",
       "    <tr>\n",
       "      <th>0</th>\n",
       "      <td>0</td>\n",
       "      <td>D:\\Scuola\\TesiMag\\thesis_adversarial_ml_audio\\...</td>\n",
       "      <td>03a01Fa.wav</td>\n",
       "      <td>happy</td>\n",
       "      <td>3</td>\n",
       "      <td>m</td>\n",
       "      <td>1.898277</td>\n",
       "    </tr>\n",
       "    <tr>\n",
       "      <th>1</th>\n",
       "      <td>1</td>\n",
       "      <td>D:\\Scuola\\TesiMag\\thesis_adversarial_ml_audio\\...</td>\n",
       "      <td>03a01Nc.wav</td>\n",
       "      <td>neutral</td>\n",
       "      <td>3</td>\n",
       "      <td>m</td>\n",
       "      <td>1.611293</td>\n",
       "    </tr>\n",
       "    <tr>\n",
       "      <th>2</th>\n",
       "      <td>3</td>\n",
       "      <td>D:\\Scuola\\TesiMag\\thesis_adversarial_ml_audio\\...</td>\n",
       "      <td>03a02Fc.wav</td>\n",
       "      <td>happy</td>\n",
       "      <td>3</td>\n",
       "      <td>m</td>\n",
       "      <td>2.006259</td>\n",
       "    </tr>\n",
       "    <tr>\n",
       "      <th>3</th>\n",
       "      <td>4</td>\n",
       "      <td>D:\\Scuola\\TesiMag\\thesis_adversarial_ml_audio\\...</td>\n",
       "      <td>03a02Nc.wav</td>\n",
       "      <td>neutral</td>\n",
       "      <td>3</td>\n",
       "      <td>m</td>\n",
       "      <td>1.439819</td>\n",
       "    </tr>\n",
       "    <tr>\n",
       "      <th>4</th>\n",
       "      <td>5</td>\n",
       "      <td>D:\\Scuola\\TesiMag\\thesis_adversarial_ml_audio\\...</td>\n",
       "      <td>03a02Ta.wav</td>\n",
       "      <td>sad</td>\n",
       "      <td>3</td>\n",
       "      <td>m</td>\n",
       "      <td>1.735692</td>\n",
       "    </tr>\n",
       "    <tr>\n",
       "      <th>...</th>\n",
       "      <td>...</td>\n",
       "      <td>...</td>\n",
       "      <td>...</td>\n",
       "      <td>...</td>\n",
       "      <td>...</td>\n",
       "      <td>...</td>\n",
       "      <td>...</td>\n",
       "    </tr>\n",
       "    <tr>\n",
       "      <th>356</th>\n",
       "      <td>527</td>\n",
       "      <td>D:\\Scuola\\TesiMag\\thesis_adversarial_ml_audio\\...</td>\n",
       "      <td>16b10Aa.wav</td>\n",
       "      <td>fear</td>\n",
       "      <td>16</td>\n",
       "      <td>f</td>\n",
       "      <td>2.582721</td>\n",
       "    </tr>\n",
       "    <tr>\n",
       "      <th>357</th>\n",
       "      <td>529</td>\n",
       "      <td>D:\\Scuola\\TesiMag\\thesis_adversarial_ml_audio\\...</td>\n",
       "      <td>16b10Fb.wav</td>\n",
       "      <td>happy</td>\n",
       "      <td>16</td>\n",
       "      <td>f</td>\n",
       "      <td>2.583537</td>\n",
       "    </tr>\n",
       "    <tr>\n",
       "      <th>358</th>\n",
       "      <td>531</td>\n",
       "      <td>D:\\Scuola\\TesiMag\\thesis_adversarial_ml_audio\\...</td>\n",
       "      <td>16b10Tb.wav</td>\n",
       "      <td>sad</td>\n",
       "      <td>16</td>\n",
       "      <td>f</td>\n",
       "      <td>3.500635</td>\n",
       "    </tr>\n",
       "    <tr>\n",
       "      <th>359</th>\n",
       "      <td>532</td>\n",
       "      <td>D:\\Scuola\\TesiMag\\thesis_adversarial_ml_audio\\...</td>\n",
       "      <td>16b10Td.wav</td>\n",
       "      <td>sad</td>\n",
       "      <td>16</td>\n",
       "      <td>f</td>\n",
       "      <td>3.934195</td>\n",
       "    </tr>\n",
       "    <tr>\n",
       "      <th>360</th>\n",
       "      <td>533</td>\n",
       "      <td>D:\\Scuola\\TesiMag\\thesis_adversarial_ml_audio\\...</td>\n",
       "      <td>16b10Wa.wav</td>\n",
       "      <td>angry</td>\n",
       "      <td>16</td>\n",
       "      <td>f</td>\n",
       "      <td>2.414150</td>\n",
       "    </tr>\n",
       "  </tbody>\n",
       "</table>\n",
       "<p>361 rows × 7 columns</p>\n",
       "</div>"
      ],
      "text/plain": [
       "     index                                               path     filename  \\\n",
       "0        0  D:\\Scuola\\TesiMag\\thesis_adversarial_ml_audio\\...  03a01Fa.wav   \n",
       "1        1  D:\\Scuola\\TesiMag\\thesis_adversarial_ml_audio\\...  03a01Nc.wav   \n",
       "2        3  D:\\Scuola\\TesiMag\\thesis_adversarial_ml_audio\\...  03a02Fc.wav   \n",
       "3        4  D:\\Scuola\\TesiMag\\thesis_adversarial_ml_audio\\...  03a02Nc.wav   \n",
       "4        5  D:\\Scuola\\TesiMag\\thesis_adversarial_ml_audio\\...  03a02Ta.wav   \n",
       "..     ...                                                ...          ...   \n",
       "356    527  D:\\Scuola\\TesiMag\\thesis_adversarial_ml_audio\\...  16b10Aa.wav   \n",
       "357    529  D:\\Scuola\\TesiMag\\thesis_adversarial_ml_audio\\...  16b10Fb.wav   \n",
       "358    531  D:\\Scuola\\TesiMag\\thesis_adversarial_ml_audio\\...  16b10Tb.wav   \n",
       "359    532  D:\\Scuola\\TesiMag\\thesis_adversarial_ml_audio\\...  16b10Td.wav   \n",
       "360    533  D:\\Scuola\\TesiMag\\thesis_adversarial_ml_audio\\...  16b10Wa.wav   \n",
       "\n",
       "       label  actor gender    length  \n",
       "0      happy      3      m  1.898277  \n",
       "1    neutral      3      m  1.611293  \n",
       "2      happy      3      m  2.006259  \n",
       "3    neutral      3      m  1.439819  \n",
       "4        sad      3      m  1.735692  \n",
       "..       ...    ...    ...       ...  \n",
       "356     fear     16      f  2.582721  \n",
       "357    happy     16      f  2.583537  \n",
       "358      sad     16      f  3.500635  \n",
       "359      sad     16      f  3.934195  \n",
       "360    angry     16      f  2.414150  \n",
       "\n",
       "[361 rows x 7 columns]"
      ]
     },
     "execution_count": 26,
     "metadata": {},
     "output_type": "execute_result"
    }
   ],
   "source": [
    "frames['emodb']"
   ]
  },
  {
   "cell_type": "markdown",
   "id": "c522622e",
   "metadata": {},
   "source": [
    "# Load and trim the samples for each dataset"
   ]
  },
  {
   "cell_type": "code",
   "execution_count": 27,
   "id": "f1d59494",
   "metadata": {},
   "outputs": [],
   "source": [
    "def load_samples(metadata):\n",
    "    samples = []\n",
    "    for _, data in metadata.iterrows():\n",
    "        # load audio data\n",
    "        path = data[\"path\"]\n",
    "        sample, _ = librosa.load(path, sr=sr)\n",
    "        trimmed = librosa.effects.trim(sample, top_db=30, frame_length=512, hop_length=64)[0]\n",
    "        samples.append(trimmed)\n",
    "    return samples"
   ]
  },
  {
   "cell_type": "code",
   "execution_count": 28,
   "id": "364e4ae1",
   "metadata": {},
   "outputs": [
    {
     "name": "stdout",
     "output_type": "stream",
     "text": [
      "Processing emodb\n",
      "Processing emovo\n",
      "Processing ravdess\n"
     ]
    }
   ],
   "source": [
    "dataset_samples = {}\n",
    "for dataset in frames:\n",
    "    print(f'Processing {dataset}')\n",
    "    dataset_samples[dataset] = load_samples(frames[dataset])"
   ]
  },
  {
   "cell_type": "code",
   "execution_count": 29,
   "id": "b9054d12",
   "metadata": {},
   "outputs": [
    {
     "data": {
      "text/plain": [
       "(361, 361, 420, 420, 960, 960)"
      ]
     },
     "execution_count": 29,
     "metadata": {},
     "output_type": "execute_result"
    }
   ],
   "source": [
    "len(dataset_samples['emodb']), len(frames['emodb']), len(dataset_samples['emovo']), len(frames['emovo']), len(dataset_samples['ravdess']), len(frames['ravdess'])"
   ]
  },
  {
   "cell_type": "markdown",
   "id": "719dab11",
   "metadata": {},
   "source": [
    "Update metadata with new lengths"
   ]
  },
  {
   "cell_type": "code",
   "execution_count": 30,
   "id": "b0c91f4d",
   "metadata": {},
   "outputs": [],
   "source": [
    "for d in dataset_samples:\n",
    "    trimmed_length = [len(s)/sr for s in dataset_samples[d]]\n",
    "    frames[d]['trimmed_lenght'] = trimmed_length"
   ]
  },
  {
   "cell_type": "code",
   "execution_count": 31,
   "id": "0dbc335c",
   "metadata": {},
   "outputs": [
    {
     "data": {
      "text/html": [
       "<div>\n",
       "<style scoped>\n",
       "    .dataframe tbody tr th:only-of-type {\n",
       "        vertical-align: middle;\n",
       "    }\n",
       "\n",
       "    .dataframe tbody tr th {\n",
       "        vertical-align: top;\n",
       "    }\n",
       "\n",
       "    .dataframe thead th {\n",
       "        text-align: right;\n",
       "    }\n",
       "</style>\n",
       "<table border=\"1\" class=\"dataframe\">\n",
       "  <thead>\n",
       "    <tr style=\"text-align: right;\">\n",
       "      <th></th>\n",
       "      <th>index</th>\n",
       "      <th>path</th>\n",
       "      <th>filename</th>\n",
       "      <th>label</th>\n",
       "      <th>actor</th>\n",
       "      <th>gender</th>\n",
       "      <th>length</th>\n",
       "      <th>trimmed_lenght</th>\n",
       "    </tr>\n",
       "  </thead>\n",
       "  <tbody>\n",
       "    <tr>\n",
       "      <th>0</th>\n",
       "      <td>0</td>\n",
       "      <td>D:\\Scuola\\TesiMag\\thesis_adversarial_ml_audio\\...</td>\n",
       "      <td>03a01Fa.wav</td>\n",
       "      <td>happy</td>\n",
       "      <td>3</td>\n",
       "      <td>m</td>\n",
       "      <td>1.898277</td>\n",
       "      <td>1.656</td>\n",
       "    </tr>\n",
       "    <tr>\n",
       "      <th>1</th>\n",
       "      <td>1</td>\n",
       "      <td>D:\\Scuola\\TesiMag\\thesis_adversarial_ml_audio\\...</td>\n",
       "      <td>03a01Nc.wav</td>\n",
       "      <td>neutral</td>\n",
       "      <td>3</td>\n",
       "      <td>m</td>\n",
       "      <td>1.611293</td>\n",
       "      <td>1.328</td>\n",
       "    </tr>\n",
       "    <tr>\n",
       "      <th>2</th>\n",
       "      <td>3</td>\n",
       "      <td>D:\\Scuola\\TesiMag\\thesis_adversarial_ml_audio\\...</td>\n",
       "      <td>03a02Fc.wav</td>\n",
       "      <td>happy</td>\n",
       "      <td>3</td>\n",
       "      <td>m</td>\n",
       "      <td>2.006259</td>\n",
       "      <td>1.792</td>\n",
       "    </tr>\n",
       "    <tr>\n",
       "      <th>3</th>\n",
       "      <td>4</td>\n",
       "      <td>D:\\Scuola\\TesiMag\\thesis_adversarial_ml_audio\\...</td>\n",
       "      <td>03a02Nc.wav</td>\n",
       "      <td>neutral</td>\n",
       "      <td>3</td>\n",
       "      <td>m</td>\n",
       "      <td>1.439819</td>\n",
       "      <td>1.220</td>\n",
       "    </tr>\n",
       "    <tr>\n",
       "      <th>4</th>\n",
       "      <td>5</td>\n",
       "      <td>D:\\Scuola\\TesiMag\\thesis_adversarial_ml_audio\\...</td>\n",
       "      <td>03a02Ta.wav</td>\n",
       "      <td>sad</td>\n",
       "      <td>3</td>\n",
       "      <td>m</td>\n",
       "      <td>1.735692</td>\n",
       "      <td>1.548</td>\n",
       "    </tr>\n",
       "    <tr>\n",
       "      <th>...</th>\n",
       "      <td>...</td>\n",
       "      <td>...</td>\n",
       "      <td>...</td>\n",
       "      <td>...</td>\n",
       "      <td>...</td>\n",
       "      <td>...</td>\n",
       "      <td>...</td>\n",
       "      <td>...</td>\n",
       "    </tr>\n",
       "    <tr>\n",
       "      <th>955</th>\n",
       "      <td>1435</td>\n",
       "      <td>D:\\Scuola\\TesiMag\\thesis_adversarial_ml_audio\\...</td>\n",
       "      <td>03-01-08-01-02-02-24.wav</td>\n",
       "      <td>surprised</td>\n",
       "      <td>Actor_24</td>\n",
       "      <td>f</td>\n",
       "      <td>3.403401</td>\n",
       "      <td>1.388</td>\n",
       "    </tr>\n",
       "    <tr>\n",
       "      <th>956</th>\n",
       "      <td>1436</td>\n",
       "      <td>D:\\Scuola\\TesiMag\\thesis_adversarial_ml_audio\\...</td>\n",
       "      <td>03-01-08-02-01-01-24.wav</td>\n",
       "      <td>surprised</td>\n",
       "      <td>Actor_24</td>\n",
       "      <td>f</td>\n",
       "      <td>3.937279</td>\n",
       "      <td>1.924</td>\n",
       "    </tr>\n",
       "    <tr>\n",
       "      <th>957</th>\n",
       "      <td>1437</td>\n",
       "      <td>D:\\Scuola\\TesiMag\\thesis_adversarial_ml_audio\\...</td>\n",
       "      <td>03-01-08-02-01-02-24.wav</td>\n",
       "      <td>surprised</td>\n",
       "      <td>Actor_24</td>\n",
       "      <td>f</td>\n",
       "      <td>3.970658</td>\n",
       "      <td>1.928</td>\n",
       "    </tr>\n",
       "    <tr>\n",
       "      <th>958</th>\n",
       "      <td>1438</td>\n",
       "      <td>D:\\Scuola\\TesiMag\\thesis_adversarial_ml_audio\\...</td>\n",
       "      <td>03-01-08-02-02-01-24.wav</td>\n",
       "      <td>surprised</td>\n",
       "      <td>Actor_24</td>\n",
       "      <td>f</td>\n",
       "      <td>3.670340</td>\n",
       "      <td>1.948</td>\n",
       "    </tr>\n",
       "    <tr>\n",
       "      <th>959</th>\n",
       "      <td>1439</td>\n",
       "      <td>D:\\Scuola\\TesiMag\\thesis_adversarial_ml_audio\\...</td>\n",
       "      <td>03-01-08-02-02-02-24.wav</td>\n",
       "      <td>surprised</td>\n",
       "      <td>Actor_24</td>\n",
       "      <td>f</td>\n",
       "      <td>3.636961</td>\n",
       "      <td>1.764</td>\n",
       "    </tr>\n",
       "  </tbody>\n",
       "</table>\n",
       "<p>1741 rows × 8 columns</p>\n",
       "</div>"
      ],
      "text/plain": [
       "     index                                               path  \\\n",
       "0        0  D:\\Scuola\\TesiMag\\thesis_adversarial_ml_audio\\...   \n",
       "1        1  D:\\Scuola\\TesiMag\\thesis_adversarial_ml_audio\\...   \n",
       "2        3  D:\\Scuola\\TesiMag\\thesis_adversarial_ml_audio\\...   \n",
       "3        4  D:\\Scuola\\TesiMag\\thesis_adversarial_ml_audio\\...   \n",
       "4        5  D:\\Scuola\\TesiMag\\thesis_adversarial_ml_audio\\...   \n",
       "..     ...                                                ...   \n",
       "955   1435  D:\\Scuola\\TesiMag\\thesis_adversarial_ml_audio\\...   \n",
       "956   1436  D:\\Scuola\\TesiMag\\thesis_adversarial_ml_audio\\...   \n",
       "957   1437  D:\\Scuola\\TesiMag\\thesis_adversarial_ml_audio\\...   \n",
       "958   1438  D:\\Scuola\\TesiMag\\thesis_adversarial_ml_audio\\...   \n",
       "959   1439  D:\\Scuola\\TesiMag\\thesis_adversarial_ml_audio\\...   \n",
       "\n",
       "                     filename      label     actor gender    length  \\\n",
       "0                 03a01Fa.wav      happy         3      m  1.898277   \n",
       "1                 03a01Nc.wav    neutral         3      m  1.611293   \n",
       "2                 03a02Fc.wav      happy         3      m  2.006259   \n",
       "3                 03a02Nc.wav    neutral         3      m  1.439819   \n",
       "4                 03a02Ta.wav        sad         3      m  1.735692   \n",
       "..                        ...        ...       ...    ...       ...   \n",
       "955  03-01-08-01-02-02-24.wav  surprised  Actor_24      f  3.403401   \n",
       "956  03-01-08-02-01-01-24.wav  surprised  Actor_24      f  3.937279   \n",
       "957  03-01-08-02-01-02-24.wav  surprised  Actor_24      f  3.970658   \n",
       "958  03-01-08-02-02-01-24.wav  surprised  Actor_24      f  3.670340   \n",
       "959  03-01-08-02-02-02-24.wav  surprised  Actor_24      f  3.636961   \n",
       "\n",
       "     trimmed_lenght  \n",
       "0             1.656  \n",
       "1             1.328  \n",
       "2             1.792  \n",
       "3             1.220  \n",
       "4             1.548  \n",
       "..              ...  \n",
       "955           1.388  \n",
       "956           1.924  \n",
       "957           1.928  \n",
       "958           1.948  \n",
       "959           1.764  \n",
       "\n",
       "[1741 rows x 8 columns]"
      ]
     },
     "execution_count": 31,
     "metadata": {},
     "output_type": "execute_result"
    }
   ],
   "source": [
    "result = pd.concat(frames.values())\n",
    "result"
   ]
  },
  {
   "cell_type": "markdown",
   "id": "2a64d55b",
   "metadata": {},
   "source": [
    "# Split and repeat"
   ]
  },
  {
   "cell_type": "markdown",
   "id": "be2c1e52",
   "metadata": {},
   "source": [
    "Let's keep a sample length equal to 3 seconds, repeat the shorter while split the longer segments. Throw away samples below min lenght"
   ]
  },
  {
   "cell_type": "code",
   "execution_count": 32,
   "id": "16872bd7",
   "metadata": {},
   "outputs": [
    {
     "data": {
      "text/plain": [
       "(3, 48000)"
      ]
     },
     "execution_count": 32,
     "metadata": {},
     "output_type": "execute_result"
    }
   ],
   "source": [
    "target_l = 3\n",
    "buffer_length = target_l*sr\n",
    "target_l, buffer_length"
   ]
  },
  {
   "cell_type": "code",
   "execution_count": 33,
   "id": "17d30f93",
   "metadata": {},
   "outputs": [
    {
     "data": {
      "text/html": [
       "<div>\n",
       "<style scoped>\n",
       "    .dataframe tbody tr th:only-of-type {\n",
       "        vertical-align: middle;\n",
       "    }\n",
       "\n",
       "    .dataframe tbody tr th {\n",
       "        vertical-align: top;\n",
       "    }\n",
       "\n",
       "    .dataframe thead th {\n",
       "        text-align: right;\n",
       "    }\n",
       "</style>\n",
       "<table border=\"1\" class=\"dataframe\">\n",
       "  <thead>\n",
       "    <tr style=\"text-align: right;\">\n",
       "      <th></th>\n",
       "      <th>index</th>\n",
       "      <th>path</th>\n",
       "      <th>filename</th>\n",
       "      <th>label</th>\n",
       "      <th>actor</th>\n",
       "      <th>gender</th>\n",
       "      <th>length</th>\n",
       "      <th>trimmed_lenght</th>\n",
       "    </tr>\n",
       "  </thead>\n",
       "  <tbody>\n",
       "    <tr>\n",
       "      <th>228</th>\n",
       "      <td>340</td>\n",
       "      <td>D:\\Scuola\\TesiMag\\thesis_adversarial_ml_audio\\...</td>\n",
       "      <td>pau-m1-d2.wav</td>\n",
       "      <td>fear</td>\n",
       "      <td>m1</td>\n",
       "      <td>m</td>\n",
       "      <td>1.92</td>\n",
       "      <td>0.9</td>\n",
       "    </tr>\n",
       "  </tbody>\n",
       "</table>\n",
       "</div>"
      ],
      "text/plain": [
       "     index                                               path       filename  \\\n",
       "228    340  D:\\Scuola\\TesiMag\\thesis_adversarial_ml_audio\\...  pau-m1-d2.wav   \n",
       "\n",
       "    label actor gender  length  trimmed_lenght  \n",
       "228  fear    m1      m    1.92             0.9  "
      ]
     },
     "execution_count": 33,
     "metadata": {},
     "output_type": "execute_result"
    }
   ],
   "source": [
    "min_l = result[\"trimmed_lenght\"].describe()[\"min\"]\n",
    "min_s = result.loc[result['trimmed_lenght'] == min_l]\n",
    "min_s"
   ]
  },
  {
   "cell_type": "code",
   "execution_count": 34,
   "id": "dff90f3d",
   "metadata": {},
   "outputs": [],
   "source": [
    "import math \n",
    "def repeat_sample(data, length):\n",
    "    n = math.ceil(length/len(data))\n",
    "    data = np.tile(data, n)\n",
    "    return data[:int(length)]"
   ]
  },
  {
   "cell_type": "code",
   "execution_count": 35,
   "id": "196e43c8",
   "metadata": {},
   "outputs": [],
   "source": [
    "def split_sample(audio, length, minimum):\n",
    "    samples_total = len(audio)\n",
    "    samples_wrote = 0\n",
    "    segments = []\n",
    "    \n",
    "    to_process = samples_total - samples_wrote\n",
    "    while to_process > minimum:\n",
    "        segment = audio[samples_wrote : (samples_wrote + length)]\n",
    "        segments.append(segment)\n",
    "        samples_wrote += length\n",
    "        to_process = samples_total - samples_wrote\n",
    "    return segments"
   ]
  },
  {
   "cell_type": "markdown",
   "id": "b46fda04",
   "metadata": {},
   "source": [
    "# Data augmentation"
   ]
  },
  {
   "cell_type": "markdown",
   "id": "7bdb5954",
   "metadata": {},
   "source": [
    "We have not so much samples, augment the datasets' records"
   ]
  },
  {
   "cell_type": "code",
   "execution_count": 36,
   "id": "afb6fbac",
   "metadata": {},
   "outputs": [],
   "source": [
    "def time_stretch_sample(sample, factors):\n",
    "    stretched = []\n",
    "    for f in factors:\n",
    "        stretched.append(librosa.effects.time_stretch(y=sample, rate=f))\n",
    "    return stretched\n",
    "\n",
    "def pitch_shift_sample(sample, factors, sr):\n",
    "    stretched = []\n",
    "    for f in factors:\n",
    "        stretched.append(librosa.effects.pitch_shift(y=sample, sr=sr, n_steps=f))\n",
    "    return stretched\n",
    "\n",
    "time_factors = [0.75, 0.9, 1.1, 1.25]\n",
    "pitch_factors = [-3, -1.5, +1.5, +3]"
   ]
  },
  {
   "cell_type": "code",
   "execution_count": 37,
   "id": "d9b05f91",
   "metadata": {},
   "outputs": [
    {
     "data": {
      "text/html": [
       "\n",
       "                <audio  controls=\"controls\" >\n",
       "                    <source src=\"data:audio/wav;base64,UklGRiTAAABXQVZFZm10IBAAAAABAAEAgD4AAAB9AAACABAAZGF0YQDAAAAAAAAAAAAAAAAAAAAAAAAAAAAAAAAAAAAAAAAAAAAAAAAAAAAAAAAAAAAAAAAAAAAAAAAAAAAAAAAAAAAAAAAAAAAAAAAAAAAAAAAAAAAAAAAAAAAAAAAAAAAAAAAAAAAAAAAAAAAAAAAAAAAAAAAAAAAAAAAAAAAAAAAAAAAAAAAAAAAAAAAAAAAAAAAAAAAAAAAA//8BAP7/AgD9/wMA/f8DAP7/AAADAPD/y//V/yIApv+S/3r/tf/d/5H/lP9y/87/iv96/0b/dv+r/7b/u/99/4P/dP/x////DgDo/zQAewCLAHYAcgDeABYBTgHUANIA7wBEAUMBIgEzAUcBsAFOAT8BMgFpAaABYQFOAQgBMAEHAdIAiACpANMAawCOACEAIAAdABgAPQC9/6f/gv9j/1T/Df8+/z//D//m/qf+nP6s/rL+fv5y/un9JP5O/iH+4P2f/Qz+KP7S/Sj9X/1o/aH94/yp/Oz8ifyF/PL7QPzi+y785Pu6+x/8NPzy/ND8c/18/Tn+mv4D/08A3wAgAlQCQQM+BBAFIAaFBroHMAjNCOUIMgm/CcoJQAqvCZkJBAm0CFQIVgf0BjEGjwU/BDkDMAJAAXcAbv9u/jH9pfyX+zH7jfrx+Q/5JPjd9/n2ifak9bn1A/X+9Gz0rvNx8+jyqfOU8knyevGf8sTyxPFe8iTzWvZO9w/5Z/rV/AwAAAHFAxwG3gnvC8EN4g/IEJESeRPrFcUWXxc2F2UXZBfpFWIV0hN1E28RLw+KDO8J+QflBeEDCQES//r8S/s++Sb4Efdk9hL2FvWO9An09PPp8zr0FPR087TzLvSq877ylvKe81HzWfLN8Hbw3O+97n/uI+5Q79nv9fIe9FH1Cvai+Hb8oP00AbMDuQijChwMWg2ID1ITEBWrFz8YLRobGjgaSxqjGeEZzhgoGBYVdxISEJINpQuvCEcGLAPAAFv+Q/xv+ub4N/jn9vD1tPQa9B/0WfQ09Nbzf/Nc8x7zZPIv8k3yZfLS8UTxru/f7oDu0e1l7Izr7uqE6oLqe+u373/xC/Mu9GH3jPrA/M3/OQQRClgNhQ9ED/ARpBWbGREc1BzfHrUf5R+pHpAeuh5AHgkdOBqQFqESPhAiDucLoQh9BFwBbf4+/LP5xfcK96X2ZvV78+3xvfGw8sfy6PH38Ojw3fBs73ju8O4S7r7tEe2H7KvrTOlH6XHpBOgQ5+7ldugY7F/vq/Gw8dX2OPrQ/Mr9jALFC8sQXBJCEcMUXBiiG38duCCqIxckRiQQI88ibiGMIXQhDx/JGg0WSRI4D8YM4QmtBaEB3/7++234Ofa/9b313vQm8w/xl+/V71zvQO9K7yPvLu/a7Hbr0+sg6mTqGuoL6troqeYs5WHlaeR34kDkZOU46/nqhO8C83j1Rfn6+ssCtwZNDy8SNRUpFx4ZchvFHf0jdybPJ2onZCnTKFkmZCVtJYAjmiBDHO8WtxE5DhUMSQf2AjL/pfv39wD1TvRa8+LxKvE28Lbuyuyk7CXthe2G7HvsXuzT6R3pw+cK6Mfor+eX5xvmZOVv5MHhquFe4bbkbue96mnvDfI693f2MPqT/3cG1g6yE9kYrBfpGSMchR6VI38nwytdK0QrsSqyJ7cmDSaHJt4jZB5UGVETOA8XC8sGxAZhAoz67vSN8pD2OfMX8c/uf+247fDkheqE7EPm2OpU6w7nTeVk5THldeXR5AfoyeZI4Tzh1N8G4qLeO+EQ6FPtQ/DD8d/49fkiANsBQw3oFJwazyAhG/YgUxzOHw8pjSl5K+IpbCdyJI8gUhyiHFcZNxdXEjELmwh7BIADhQBu/2b+X/w5+rD5+PlU+wH+2/wS/N/4+/iU9iD1r/Ib77ntIugJ5+Hk3uKg39vePd5J2unaddjK2bnX4dch3h7kgPBN968BYQMABKkKuA9aHackciveKkwnhCS9H4Ih3iE/I5IiAh+qGF0QvgscC9IK/wt5C8UI2gbRAwoEpgKMBAQG2AYcCHMFwgRYAkMDrgMUAxAA0Pmh9fTxBO006ErmvuPH4HLdEtyz2rjXZdf32IjW3NG20eTVBd4C7OD7SQxnFB0SKA+OD6UXXCO5Luwyiy8rI1UVWQqMBVQHQQruDvIO1gzvBOMAoAQnDZQVnxm9GnkZVxmsFbQT9xCpEEIO9AdeAzb91/pd+aX6evdv8evql+hF5VjgUt6G3LLeRN1r4GfaFdt72y/dsttg1oPWvdRj5WbztglSEHIa5hk4EOkSORQlJqkvczgLJVsMqv0i90H7egArCsoLPhDSEuMTTRFFFxIiASiAKrYleh9WEnMKAgd6A8UBY/73+6b3hPQ18lz2GPqE+173iO9m6kLoV+la5DXfEd0C3bbds+SD3FLWuM0CyS/WzNRP8skOWiPwJcQdlhtM/40QQyPQL4EzbRllDFH1l+8x8arySgeCGzMm1h28GpEgsCOUMoAwuSmFIhYO+QYPA0wDaAFPAeT+tPax8TjzVv+2AhcJ0QZpAHfzKOPD5H7k9+hN6NHnCN7F2anZPtVY0pjA6MyX2Br1Ph5LHrEdrB1rEjnwDu2IEx8kNyy4HdYCtu5l4V3mAOwaDnUvojKAKx4fiR17GZIi5S7dIEIUNwvKA+sAmv2m/t/8OwWcBwz8xPbW9lIEywqYBTr4j+Ua4i/jfOqR75rp/eZL377aK9S7zvvMZ8qt1rzknAGIHUEjzx7oG20A+eT2/KUSAiliKk0SBflY4Y7gXeZvAWEfgDSxNp8nlhy5D7cWZyDyHrMX1QyuB7IBBP/Y+8/6+gK3BqAAs/eS94j8iP8Z//zxz+KF3T7k7Opc7MDoLeS/2xDUFt092YLcHdbs1wztP/utIH4kDCu8H2zyb+WU9XMcSyt3LBoTGfS843bfQ/F7BEkluDdXOn0oSw3pBQwRkh9nHUYZjg7YAo796f1YANcBeAwVDaIAhfSW7gb3Uf5n/cfx4OWs4P7fS+bf5unn7t+g4Ize09xH2bzHIdYi4jMESCX8KNQqPBeA+iTkUvd2F7orVy6RGnr70OK04LfsgQu5Jko8QD05I48MZwMQC3AVTxlhGbcPUQSf/tL75P7tBdIQPA4xAEHyYe+19t70gvJR6yPiTNwn4JPma99X33Lcd9+i7Afm/9Xrz8rYqfQAI4Q06i8aG2nyO93w5M0TETA8Mg4jw/705kvXaObxDBEwNkEGPjoprgsg/0UBxwqWFhAaMxetC3D7TvOs9XoHsxavEVcFBPjW61fsf+ub72zvoeTD5SjfVd5b2NbcAOMe23Dhztaq0uDMuufXGfcnYDCzH1L8xdRQ5F8VNSnBNWooKwrW43HcmeYm/J0nSTx6QpAqzhQpCHoF1xPbFzIevhUwDw8Hl/uX+6X8KAotCEn/k/3S8mP1cPPq8ffvnecb6kHl+uSp4A7gmt4I3Mrm6uHA1IvPweOtEDQozSvsK6wAcNVo20EK9i9SMCkvUAy04trVQN3DATIkBDlyPhQtNxQsBIsHeBB0FrUdxR7nF+gHCf/e+8n8RgTKA4kBdvri7xPusO+B63LpfueE6KrnUeJY5orertun3oLdxtiAz+PiBAycJiMq/yS8+a7QGd8LD0c00zGSKVcGXt9Z2ZvhwAN4Ie4rLjBUJc8QtgSzC/0WCBlsGqccvxTTB1oC0gC0AuIFbQWC/X70Y+8e8CX14+1U6STnDOYG5bjkj+i+4RPfkt2S4OLYXNit7TcOTyeYIwQdpfOY1gvoDRU2Pno26Cb9AM7bRt7M8yAShCCuH6YVlhCkD8QNmhXWFmAUxREKFEAURgwuCPQAKQGaABn6tfVQ8Ub1Pvgc9nzrHOKM4N/fWuZn6rTrZuUu3q/ajdTq1fTr1BHTKL8rdRTj84fgpOuZGZVAc0CYHrL/huY04wP66RBsIRQbsQoHBNsF+gkjEvwbMhtOFdIO2QuvCbkG2QdCBjwCjPh+7xLtYO+C9BrzkurD5KTh1ODf5Efpo+gU31PeNeHO3VriHPTJAX4LDBcPEIT+nO+a+JMcuDn6NjUcXQHI78H0FQdaFBAV/gYt/KD/5gZiCw8RtBRWFbEWrhRFDS0IKQcgCfkJsgQ2/Evwl+kC7dfyRPH46EjjpOEI5cDpW+iH5o3g5d8N44jkjOli5wn+IxBPEs0NwPTy7Lr4dyOZQzo8px0w9oHuO/5yGa0jChqzCIP3Qfs0AY8HvAkkDRISchPJEjMHNf4aAcMK/Qu0CAUBYvRm7NTpeu/67zXn9ONO5WDo0+c/5R3lWueo6d/mPeop5vzqlf5BDGAPGf/19Sz29QRnIYc0uTP7FwP+Sf8iFtgmyiRrHEANnP9y/qsFjQmZBzUFRwQXBSQEQAF+/iMAlwO/BZEBRvmq8w7yoPIO8h7xWewd5WbnGu7G7j7wbO86733wU/P/9rb3SPoD/acAuf/V+7P28/mbA6YILBJwE3INeQeDCHMW7iB8HgwY+xQmDsMNLhEYD+0HtP82/6z91Pm5+Qj7Dvsf/G39F/p49VD0rPzbBQYBG/YS7LXqePSbCFIShAIN8qLpFPISBH8RsRUvBwn0JO2X+FEE6gaGBpsAYPaS7nryI/0vAxEDZQQkAuP9bf6lBG0MGQ76DAYK5wZhAsUAagEnAb7/SAHfBjgFTv4m/B79avqvANoMBwsZ/0b2APqF/uYAkwjPB5j7bOxI9UIDpwkRFrYOafxO6yLty/yzCggUCA8yAt7tWeaC9SQGEAnwBHL/KvVy7gf1pQI3B9EArflf9hz3zfuGATADFP8/+TL2OfhH/LcAuwLoAR0B1gARAWoACwH3BCcI1AVVBO8FtAfUBuoFdQgcCfUERv91AUUFuwJtAlEG7gWH/lb41P2LA2EE6AWABb8EO//5/A3/Nf0f+h/5p/g2+LP4S/gu+Hr3Pff+96T5Vvxi/cj76/io94X4LfrA+wn7mPpq+ZL5hPpm/Ez/SwHfBMAFfApPCMwEEgq0CewGdQfGB1EHqQJM/X8DcAHE/dEFQwkVBPMCGAmFCY4JOwoiCv4Fyf3D/CL/Cf0y+dj32Peu9o71jPcN+Zr4APus/SH+TP7T/Fb6O/r5+wL9evvX9wj2XvYJ+Mf6OP63/9z+V//MAHID0AXCBcQDDAJRAf0A1f88/dv7D/wu/noBeQTqBYMFOgV+BmYJ9wp0ChMINgTcAd8AkQDOAJj/bv4p/Mf7xfyN/Rr/0P38/6UAF/+eAdwCw/42AQECev0aAKb7j/hb+n/7a/3C/vv+vwKSBGMDyAXQAEAD7QSCAfcCAfui+rcAkPgX+PsAkgCL/77+PgLvBnMDhgKCApP/AP9R/7n/Ev4N+1z8Lv33+wP+R//f/Xv94v1U/ln/OQF/AuQCgQPiA+ECAwKeAZcBVQFP/wj/Pf9WAI8D8gXnBpsFGQR2A2UD3wNsBNsDAQHC/Vj7mfo/+8P8d//nAZUDzAPZApMBmwBMAFgAIwGpABL/7fwF+1T7Hf3l/i3/0v4Z/vf8Nfxz/EH+FwA6AW8B8gBWAJ3/pv87ACQAzv9l/zv/gAAJAuQDdARHA6kCmwLrA6gE8gNgAvX/Sf5a/SP9P/38/Cz9TP0H/sb/KgEoAgMC4gHkAVwBhgB1/8n+Af6V/Yn94/10/iP/R/+4/rT+OP8kAMoAFgH7AO4AkwDN/1P/4f5N/tL9YP6R/2oBpQJxAs4B8gEdA4IEtgWzBa0EHAJK/9D8GfyP/d7+t/9c/gT9evz7/Df/OwGwAgIDqQK8AdAAEQAj/4f+Nv4h/pL9C/1W/RP+EP8WABgBkgEcAqMCEwNgA9MCXQIHAfH+A/0p/ND8RP5e/1D/Cf+Z/lz/AgFIA30F1AWNBKYBBf/g/dz9V/5h/sf9RP0k/fr86P0VAFkCvAP1A4gDgwJ5AawAGgEGAe7/0/7v/Gj8Afw6/Dz9qP0u/gH/kQAvAgYECgX0BIkDJwEt/1n+Rv9+AG8AWv6N+yT6vfrC/UsBfgM+BPoCMwETAOz/AADE/0v/zP36++L6VvuL/N795v98AawCfAMgBIIEsgPWAjsCkQFQAPr+rf03/cn95f2T/YX9nv0x/rT/GgHXAuEDYQTAA4YCewIvA/MDTwObAYb+PPvB+Bn5DPwR/0UBRQFeAH7/1f8AAa8B8QCH/7T+nP2V/FL72Pq4+hb8s/4zAQED4wLJAhUCUALcAr4CMQK9AKP/SP7R/TX+6P43/6z+sP5F/xsAUgHDArEDqQNqA2gDigMgBMsE1gPGAID9/Psa/KP8svxi/NP8yP0W/zIAKgAKAAIAPwAeAN/+ff1m+1X6Mvsv/Xn/lwBUAW0BlAH7AbsCggNkA8QCiQHD/xL+b/7H/xoBSAHi/2/+kv2n/oAASgIOA8ACMwIdAtQCLAOWA2wCQwC3/qf9OP2g/F78CvxY/Ov9Kf/X/+//qv8AAKkAAwFhAGP+5Puk+kv7ovwN/k7/RgDCAJEBhwLNAvYCiQIoAlcBJQCJ/6//CADq/8j/yf6G/hv/hAA6ArICjwKNAVEBxwGpArsD5wLMACL/c/42/vT96/2N/RP9R/1M/iT/q/+ZAIMBUgIZAhgBYv/q/Xr9p/2o/R/9v/xn/FD9df5XAGACiAIsApIBbAEbAdMA3QDdAAkBZADV//r+nP4p/2cA0gHSAQICEAI4AgcCqgF9AegASwAd/4f+7/31/fj9bP0t/ST9hv7o/zcBGQLUAQ0BAgDh/ygAjgBLAH7/qP65/Ur9+/wF/nb//QAZArUB8gDa/2j/kf9LACcBYwH/AAAARf9J/woA3ABSAbYBagKhAkAC/AGVAXIBTAETAXgAnf/o/qj9nfw6/Jr8rvyk/U//KwGXATkB/gZLCdj+N/nJ+kr7iAbCC2kDmPrH9533yfezCcUR6gJ69EX71QS5+6cC/Ay/Bev2cPKs/RoKNAns+wf5Qv1nAkwHeRAVDlj2JezS/KYOEBCjCOP4j+3h+VQL+QVg+er1efQA9Q0EXA0xAnX4zPe+ACkDzwDJ/7//NAFxAV8CFv9h/RD9Uvo1AGYJjwW9/4b8SP7fCu0NcQDv9aj4W//eBEIJ4QO199P0uvykBJkHMAWXAWUA9QKlBFr9nPo8AKECrgPDBGz/J/Qo80/7fwEfBIgDwv4A+gb+ZgJj/4f8vAJzBUkCZwOEAlz+gvob/k0AU/uE/xIGywVhAEH9mQBSA6wFywOKBcX+8PVS/pcIGAdo/Jn5cPY9+9gGWg0cCf39zfxD/okCDgUGAuv73v6eCQMH4/v/+Lf64vrdA1UOZwes/AAATALJ+zL9jQr0CnT/Tv71+6LyPvZsAxcCt/r5AAgCFvl5+sT+Z/7Z++QCOgk7/xj5kvsM+yP22vznBegAmf99AwIC6v8nA3ALXAl6A2oH8QNa/j4FcQvEAZn9tQR9A+kEignCBHj+YwPfCRQGQf+d+/f2V/n1BZEGSvl+7j7vGPID9gX15/Pn+G79SAN6+vf1M/Me+RwNCBk3CSHr+fCV/+cKWxQeEokA2e3n9zATAR6vE/QLcAG6+0AK5xkpFcMDO/sF+yP9hgk5DtwBgfM38xf+OwI0AZz4N+9j7Ib0K/eV9f/uwuZD8uD/GQJ36+vi2epM+1IWkyHxELnm2+XMAsId5yuUHhQBeuYK8eoWoSqeHpoK7vaP8YoFliHVIt8MT/oQ+70EEQxXENsDAvW273n4b//h+VzzaOqi59znXelo6F/jIvDw/kQBwOcK1/Hf8PQDGicuWCSP6mXWofiSI7tFIDloFV7oTuTRE4A+DzevEAbwztvq86gkdTLGFJzso97n7F8LCx5/DjXxVN6M5MT2cgTn+T/lZ9Zv1dzaYPAyEeoLCu7nzhPXOe0CFflHckI7AuPNW+XVFU5B+U6jLHnzkdO67pcr6UA+IYz619cd2mMLhjPEK/X9P9ii3gb+QRz8GaH/qOb12ifrxgPVAY3r3NWlzjbR0ObSFGcbXvns0aDL9+LxDWJQ1WA+GWHQ0s9PAPFAUVpJPNgDYNRr1ZYTdz8/KIz8bNaX2I75yx0XJ6AI6emq53L4SgbwCqcCbPfC7eTvgPIp7NXfhNZ71f/ZJ/5WFcMGZ+Yp0ibfiQJxRIForjWr55bPNu3WKXdQYjqhDzvhGMq47S0gICZWBOjnyekW+CkJtRepEWUD5gGtA3IBGAGj/5D9zfpu+fbvRt/j04jReNVe15f9UiQ3G5Lzrs5MzEvz0EVffo5bZPaLyM7OiAeEUptBoR344hW3S8w6CIY1aiIEArbv3/Ii9uYEyhKNE84XKQ3VAGL4efSI+dAEDgjx9v3V78bOyE3UJuGh5sQKTx03FrjvK8mt0voAE1//f7ZC/uwwxL/OLRDbUkk+zQXjxue1pNqjFJg8KCanAfn0PvCn9n4KYhZnGFsS3Qg7+vvuy+sv9tcGxf+I4eLJcMfBz5nhluyf+D4QvCBaEWbmWNAf3fgUElvVY2kkO94vxD3T7hL3Sh8vG++9xyzJxe/KIeQ5ryTvA4Ly3uWq7lgKFxfGGE0O6vxx7cPiTe+PCOMTOf2c2QrOU9Oz4brx+e+T48nyjBEqF1L+meBE17jztDStVvY27fYPzgDNovgpLVIoaAQ14+vcK+3FCYUlnyHMEjEJVfn47wj9twxGFWYTPAZo9EvkJ+gHAPkOOwJk6fHbctwd5drwdfUn6rHfVfjhFEQZtAWt5PfZIvJ2J/FDEi8y/ZnWHNhv9ZoV4xlOEeMCIPWM8/z+vBKVG4Mc0ROb/jPv0/W2Bf0Q3BGVBmP2xOnP8ZQC7glYAwr4U+5N5CjsWPLT7LnpIuSn6Xf/PBpHGE/4uOIg4jEJIzKJOnUiEvFl3sXm9/8aEcEPhQy+AQT9x/eE/24OIBhKG7QSdgCl8kH7fwenENANPgOM90TxP/g0/27/z/7OAJT2ZO6V6jPqoemc7JXzPeZZ7+gKZhefElH8wejw5jcNVzLWMUEXP/Kc4CznggCjDGcM6RAcChL/x/p8/xcMWRkxIEwRavlx9cD71QeQEMEM2AAX8yzvAfd1+14EgQPR+DX8T/Lv7Tnq9fHu9PTp1fBo7E/7uA0CFfUTYPuY5qrnugt2LTkuIRiV9bnhS+TW94oJrhUIHVwOWgMu/qL+sAeWEugbCxDoA3j7Lvhj/UIDoQqDBPn51fBK8kj1V/8qCZf9tfrw8NXq0Omj8Tr3iOsp8qnonuqHBnQV8hSIAXHvzOT89cEf9S7mIRwJmO7R4inuyQJLEQYb3RlZDbb9P/rV+yQH+hSQFOUMmP7s+mb3kfvyBOMEDABr+nn4UPF/+L0DtQX5/NPwb+wE6KXzTv3G/vzz7OKV6pPwuv9lD5oO9g0tARX3nvJi/RUWLh0fGJUJSvfL7Snx7ANJFp8fERlXCkH9A/fU+sMEpxJFEVEH7/l885v0PvsOBZgFfAKx86bwrPsdBkkFpgAP+TvnHOl09+EBufw/+lny4eNQ5HHo9vzBEK8YDw+w+kvvPfS2CGgbDyA3FZEKrPrw8FnxLPxqEb8bCRt7DDv6OfOU+40LAxWPEIwFfPiJ8u71WPxPBpsI/ARR9o7u9e5J+tQHRQF/+XTthfLG7lD0gv8q9UH0Me8Z9/ztXPdmDEEIkQmxAdUAbf5GA4oLCwqpDjsTUQhh+jX3Qf7WCyIXchwsEf0HNARwAvMF9gs5DagH4QIq+6fzbfW7AAAEUwJw/j/3qvPO9gr8VvVi70jxQvFW8Jz1vvpX9QTw6++b74PsYvrPBjcGLgVQ/WP7q/a5/z8KsQ0wEhMSGBAFCHMFhQDXA0ANchbOFlwQGgmf/x8D0QiVDQwLOAglBncA3f+o/e79a//sAyoDDvs29AXxEvSS9yz53vCe6l/qjOzs8GPyjvAB6+TuT/SH82L4qfzqAfwC4gKtBN0AMQj+DpIRLA/sDDILDAhXCG4GogfvCe0Q3hFcDscJJgfrBlkIVQomBpID/gF6APX+Qf2C+4X3wPff9zT45vuc/JP7KvU0+SP3TPcx+Hr2yvNr8QX8HPcA9eLssPCf8bH8TwYcAOMACfpKBBEB8wj6C3YNVxAeDrEMNQZgDHYNfA+HDK8LdAf6B7UHsQbuBDcDAwNX/sn9DPx8/O78EgEf/kT7Mvpm+qf6y/ua/T/6Ivcy9FL2UvW+9/36Pfr/9mD17PmA9vf4mv9F+4P3avlJ+QX3ufkZALQDVgSHAIj5nP10BOMM1wp9CjwKWAfXCsMI2wumBI4Myw0BDRUMYgW2CLIDaAhdAjIBbQEjAIv/Hv5mABL7QfrF+Jz88vsy+ob9QfoG/3L/kQCUA/780gP1/pr/mwAa/Gb+8PSy+0L6Q/30+wn6HP95/AYFjv4tAcUAYQKLBhUCCQfFA5QGQAQ+AroDif7gAqEDgAQABbUCWwQN/5cBCADn/jMBgP8EAyH+8/92/S79dwLUAlMBPf0OAG7+iv1X/9QAZ/64/jT/+fuK/yUBWAGbAB4B9QEMAboBmAOSArUAZgNNAC3+Lf5M/mn+0P0l/nH7A/7Q/ED/7/2G/QsBJQAUA4n9t/9t/an8ZgBy/n4CHv6u/V/+nvtG/xMCAQQmA7EB7QEIARgDwgPkBDEEEgVhBAQAvwGi/0sBX/40AMYAvv5lA9z/mvyY/J0BtQDGAosB1gKqANr+NQD1+8YBwv6s/G/2Ofhk+377vf+T+3b5hvh6+2D9zf/fANABW/yU/Gf/xv9KAcP8X/3b/P381/wW/9cA6AIkAvv/dAG5AXUDUwHFAHIAd/84AoUEWQMdAwIDMgIiAt0CowCR/wH+sPwP/BL8KgA9/cb9X/9qAHj/ZADgASEAbwDa/mP/GgHyAaL/hv6C+7j66fpH/PT+vAGFAO394f+KATYFdgRbB8EF1QNtA/H/CQEnALT/kAAdAWD/vP9d+/X80gJpAigDgQCWAFr+6vz5AMb/Uv6BAcn+QPzi+lj5Tv+K/1YE7AD6+CX9u/rZ/QD+MQLdAzb/BgKx/UUAvQROBmQFXgNvBOACtgImAlECNQPvAM//IP0R/UgAlf3l/zUCtQJ+BW0DTwFcACMC9gRCBFkBT/yj+hb7vfvO/Cz+XP9t+5v54vo+/K8AIwFFAFsAef/FAbsA1gJDA8kBIwJN/wn/Fv7F/2H/qf4UAIn+If9fAFEC9wJ3AQYEdQXZBH8DogHnAekBhgBmAJ0AqQD9AUL+qP0g/sf+Uv9j/db+ZPxs/Zf/NQHLA4oDVAKKAKL+Ef+yAhEDPgFn/Wv8Hf2D/7cAUf7d/fX7R/0+AKQCdwHt/0sAZQF3AsUBmgJnAaYDOgNsAcv/Lv6CACsBFgIOAcgATQBSAbz/Rf7M/0AAeQI3AowAzP+6/zj+ZP+NARkDYgLE/oX9sPy//oQAGv86/j/+j/85/t/93/7P/rUBegFQAYsAof4WAKD/Nv/J/hf9ef2B/oP/qQBp/Tb8TP5HAPICvAMfAlH/HAAJAj8DwwMABNQBBP8C/z7/ff+t/5wAHwDg/6z/DP4G/1gC2wHZALMAmf9BABYAx/94/+b+kgCBAMv+1f+Z/pH+RwAgAdn/y/3X/CP9aP+Y/3r/Ff91AHYA4gBvAUEBrwK1AjIDyQLNARAAIf/V/kL/8f+z/ib+Tf4//r3+fgBkAToBkQExAl4DiANWAisB+wDRAe7/hv7a/Jb6jfxQ/T7+3v1Y/jEA/v/TAJYA6ADQAZABt/8MAMYAEAFfAqUAx/8/AE4ABABo//z+bf8AAAAARwB5AEoAgABJAPf/AwHgAFYBgf+v/uz/mP/6/7b+Cf5R/xP/Gv6Q/2L92/yL/oT+XwDhAPwAgwAnAYcBngFaAY7/tAA7AXEApADY/rX+G//x/74BGACK/88AlAF6AXACpgCQ/00Av/9AAsQAZv/1/Q/+3gCcAFwARP5O/fr6YPu8/e3+mAA6ALgBOwBl/6P/8//qAJf/kQCOAI8Azf+5/Sn/cwJkAoEB1f85/mT/Zf5dAGcB4gJmAqwAWAEIALoBpAEzAtUBJQBr/pL9nP4u/ykBT/9Z/fL7d/vw/Hb9MwCbAKwA1v54/Dz+Yv//AI8BfADR/u79efw6/Wr/wgCOAkQChQCc/wAAdQA1A64DEAOwAOT9XP0X/aAAkQE4A1YCdgAmAdEBQwS0A5oBff6Y/gL+9v2i/kH9OP5O/lL98PxB/Vf/DQEBAZgB0v8g/4T+qf7g/0L/Hv9V/jr+sf3y/iIAQAE4A9wEYQSVADYAOwDdAIcDIgIXAM3+xfzv/Lf+BAHnA+wDjwIaAUYAbwJ7AksBxADO/Z/78/qy+ub97f8Z/2L+A//j/9sABwL9Ag0DfgAB/xr9Q/1a/aX+8//o/mv/zP3c/jwA/wGBAi8COQExAcICCwGVAev/FwEHAS0B3wLYAMgBvAB7AVIAxv92AUwBpf+V/N796/2T/y0AmP30/rMAqwELAjUBOgCUAG0AWv/2/qP/yv82/m3+vfzm+1P/nwEbAZkBAwJtAAQCqgLjAHr/PwFEALkAuwAJAG8CtAD5/5r/oABq/+X/O//X/roArP8BAP3/FAFfAmcBVwCMAH4A5QBsAAoAAP0L/JP9dADXAkAAr/4v/cb+TgFQAfQApAFmAfL+QP/qAHcBhAF2AhMCZ/+3/28AjgF2AFX+Z/+x/rz//f7J/Zj/EQBNAR8CHQK3AjADawGPACcAOP9K/tD8q/zv/cf/pQDu/iL+4wDrANcBgQCMAUMD6gEcA4ABXwHGACP/l/6+/mH/zP9u/50BowAJ/7D+JP5AAGMBfQJmANP/x/+8AD8CNANrA9z/3/9//0v+nP8uABX/V/yv/LX8oP0Y/1T/bwH1Ac4BpAGGAf0BfQLCAlMCkgA2AGYAVACc/tn9A/+u/ob/Y//hAEQAlgArAvQAdwIxAdb/s/6W/nEAggLnARUAxv4X/N398QL9AoYArv1Q/Uz/Zv/h/9v9wQC7/x8AUgBaADYD7ALeAZP/GwFD/Q//6v6Y/54BRf+J/t385/8EAUcBpQG4AkoC9gE+AS7+bwDcAnUC8AFT/uv7b/zs/fL+MgKBAU7+OQIzACkAXgCP/yr/2f6dAEv/2ADu/EkAEAKs/9b/bP9oAnn/0P1kAvoDjPwL+VT8LQP+Akj/EP96/+MBIAbGApP+UQGQAqkCbf3P/tn9Vf08/dH97ACiAAwA/Pyl//wA5gKoBUYEPwBi/eT95QFuAuD95/yZ/CL/IAHi+rv88QYuANj5AQO0AvQBjgEZ/83+6gCwAYr8IwGzAar/ZgDSAGH+tADhAcD/1QB4/RT////5/6j8Lf7Q/8kBdwN/ABwB6/7S/XQAoAEBAbYDkf8k/Vb9JgA4ADL+eAHnAIn9bfwcAaIC6wKfAfcAD/5o/tv/hQHPBLgAX/9y+5b8cgGV/7wDKwKp/uf+0P7Q/b3/CAPI/WwAwv4pAJz9Ov3uAlf/TgJCADYEvP8o/FIAWwKYAZr9ZAL+/9v+gfu+AMIF0QC/A8v9dP6N/8X9dv8d/74F0f9c/P/7TwDlAhf9V/6e/E4Bkf/H/uj+3gAvAcj8lf2SAEYC2vxn/mr/pAAKAIIAjf/p/fb/hwH7AzwCVQBn/bP+0P+N/+sAvQAWA9UBgP0TAID/Rv8OAaoABwGQAGf/xv4kAXH/dgBq/8/+uv/4/Sr/2f9z/1b/yQBOAGICcAAEACQA4v9IAtcAkAA8/m3/fgB8AAEBlf7j/sr/dgBIAfYAzQIIArj/6P2M/dYApwDBAaMBdQAFAFb+8AD0AZoA9v2T+wv+BQB0AAX+8f3j/xL9N/+PAjsBuADL/+D/DwNcACL97f6cAO8AFP4K/l7/I//p/xoBUAIqAUj/JgGpALT/XQDH/gv/vP/R/23/eP5E/kMAUwFhAnQB5f5E/lT+vQAQALr+j/3r+3H8g/6CAIQB7gCBAM0BPwHjAC0AqgAwAHT+Rf4V/23+A/2+/ej+WwEyAUwBtQGTAW8B8ABAAc0AwQB3/zj+1/2I/n3/wACdAa4Aov9T/+8AvgLeAnoBuP88/tn9WP5w/mf+3v0k/gX/u//DAHYBawI1AjoBJgBj/8X/xv/7/4X/3v73/vr+dv+5/wsAlQD7APkBNwKMAbQAX/+j/04AgQDEANf/If8w/wQAIAHVAY0BDQFiAMz/ugD5APkAaQBE/4n+Tv5G/+T/ZwAiAOD/MQB3AG0BZwFSAJD/9f4r/wAAMQCDAKb/nv7R/kv/iwBYASIBhwBtAGwAywADAUkCSAGF/Q//5f/Y/mIBTAHN/X3+EAGKAH3++P88As4Axv8H/94BhAKS/9b+wf7M/0T+uv23/tL//v86/hgA/wGEAMX/Sv9qAMUCsAFsAWb/Pf45/339j//oABb//v4N/1n/c/+p//QAsgD7AEMBlAC7AOX/zP+o/77+7P7V/s/+0f8jAFAALQCs/8n/if8v/8P+SP+//2AAjQA0AIz/sf4hAFYBvQFTARIAG/9//1QAOQEXAcAA7v+W/iz/J/9bAN4AuP+g/1YAYwBMAG0AKgC//0AAWAFYAAIAkf+//u3+Cf8v/3z/Jf/t//wAlQD6AEAAUwBiAbUA5v/z/3UA+P9y/2H/zP7v/o7/RgCzAC4Aav9B/x0AYQHwAUwB7gCxAIMALAADAE0AMQBJAIcAEwBx/xr/Cf/6/3EA9wCGAH//Z/9n/xIAYwCnAGcAgAAYAacA+gA/AY0ACADv/nL+UP7g/hsAbgBUAE//0f7+/pz/vwA/AUYBXwDj/rP+s/8XAWcB3wD2/xz/q/9OAPIA9gA0AE//s/6K/h7/9P+jAAIBrgA5ACYAiwDfACEBmQCbAAwAo//J/xD/xv7A/m7/v/9O//r+Hf8T/7r/yQAEAQsBmADI/6L/xv86//3+av8KACQABACN/wf/Gf+H/10AmACXAKMAMAAAAOf/nv+w/6//FACrACsBfQHxAIMA5/+5/x0AMgBpAAQAjP8J/7X+O//q/4kAYADk/8b/7P87AGIAOAAZACQADQDS/3//Ov+U/0AA8v9Z/9P+zf6C/4wAJwGOAGkAiADvAAEBZgDT/2r/qv/2/wAAVP8j/9v+Bf/O/yUAFgB0/yQAnAD3AOMAaQCcAIAAoQAYAMf/HP8F/+r/LgBaANr/eP+1/x8A/P+Z/yP/Nf8kAI0AlAD5/6f/1f/Q/1sAhgAjAOn/IAB0AFAALwC3/w7/Mv9m/6D/qP94/7f/8v+1AOgA1AAMARYB8wB5ADcA+//F/5X/e/8//zX/Zv/A//f/2P/W/+b/YwD9ABgBqQAxAL7/yv+aAMAABACy/tz9ef5f/0QAvgBtANL/ff+F/9//OgAPAO7/HQAwALb/Wv/A/0QAfwCSADkANwB5ALcAnwAqABYA0v/p/wIAv/+v/4j/nP/7/1gAqABIAO//LQCCAN8AqwAIAJP/bP9d/5v/0v+N/0z/V/9y/8D/FAASABoAHwAtAD4AbQBUAEMAEQCW/4f/h/8AAFoANAAIAMv/9f+pAO0AzwBXALz/kf/G/0QATgAnAO7/iP9l/2r/rP8LAB0AcgCDACUAFADl/xEAOAA0ACcAxP+A//n+wf4w/+b/YABrAFAAIQA2AD0AjQCiAIYAVgDK/3f/bf/c//j/2//i/+//BQABAEMAhABWAGYAYgAgANL/M/+A/yQARQBpABsAdv+K/0IA2wAQAdwApQBMAMj/tP/c//r/CwDG/4n/dP+q/xQAYwCMAFMAUgCIAPAAOAEmAUcAYf+O/2P/JP+U/mr+ZP9gABgBxAAJAM3/WQCLAcwB6gDE/8j+i/5g/5wATwESASMA6v6Y/lf/SgBdAZQBcwGgANP/z/8EACQBvgFbAasAEQCb/9f/hQDBAGQA6P+6/4v/bP9u/z3/N//G/xEAHgDQ/9T/yP8bALQARwDy/8X/y/8cAFAA3P9b/yP/Vf/T/zkANgCt/7f/SADUAD0B5QCrABIBTAEiARIATv82/3AAswE8AUkAYf/z/iv/q/9r/3D/2P+LAAoBswAgADL/bP/f/xoAFQAg/5f+2f6p/w0Agf84/5r/OwClAJEARgAYAFEAgQAHAI3/5/+eAL0B3gGmAGD/O/89AMcBXQKCAd3/7f5l/+3/7wBpAJ8AoP+TAPcAGARQBVL/L/zO+/wGAAekAxT7zfObAPkLTA6X/CX0ve9E+3oSgw+qAGn2wfa497kBaQYnCgcHVf4m+mjvivyZEOkQuQZ89e3qG/bGCmsWmwvA/W7yYe7h/WwJJQyFBxQBfvc/+sr68PvKBa/+tQGP/on31fw6+If5Jf4O/aIEpASJ/FH6l/jaAP4FKwStAAn65//wAboGKAqT/4r8Df1qA24DtQQNBdP+kfwR9PD1Y//JCC4FZPr19lv0WfunCHsFLvqC/M37EQMZBK38gf1m/NoAjAI2BGb5b/1oBP8BFwN/+4r/1/xqBUoIxwQS/tf09vku+j8IJwyJCI4Ca/Js8QEEpQ41B1YC/foN+08HIwbG/Kr4PP5kBjgHKgEm+nX++Pyr/5ABo/+iAVb/vv5V+F/+4v/lB2sL1/oH+JT4BwchEA0LhftD83/6WwL8CvIDzvzk+DH8hgANAev+2fkP/zMEmQPj/qj8pP6WAD3/JwACAm8AA/8j/iz/YAB3A7UFq/8w/OD5yvcCAr8JUAPa/cj9ivq8+fv7+QJjBnwCw/tY+Dz8dAHIANz8Xf7X/hQAvv3Y/fX9yvrq/iQGkgXaA6AHNgAQ/BkEOQgUB9sGlQc0BjEClgR9CosHdwaOB+ABXQSdDPYJOQd1A8v8EfscAcgFawIqACH6cvUW9+r2c/nF/S/6IffQ8AvsqfIs+Wv8GPge88nugu7g9r8F+wfN+uv39/Zv+SoGvBbIE4UIwwhjCuIP1Q9gFmYaoBkBFt8NPwxBDXwQgg0mDroHPf9u/ez9g/8r/En7t/f88dbvn/LL88/yXPI38OTtIe/b7lzuq+zn6mXvrffr/7j5aPT68jf1rgHjCs0QpQznB2IHhwpaEQ8V7BZWFCYS2hHKEQAPYxAFEh8NmgkkBe4DsAM3AwkDIv3M95f11vZQ+Yf3EfQm8KLv8fIJ8/jveO257Y/wlPH36qflvuva+GECVgOU/aj01fKL/ZsQbxxOFjQKOQfHB10NNhdNGykXsA5qC24LjBHhFNcQ5wn2BTcGLARwA5YA+vxc+r/4SvjA9ePwF+5u763wCe5Q6Rnof+q86annHeV74Mvj4fLMBvEH1/4W+hH0l/p/DzIoRiaTFpcH+v2RA3kMfRmgGLcT0AjFArYEEwhSDqsOzhSeECQI//+//Xb+cwAoB+4DgfpT8lPvzeuA7U/yaPBL6UPkJuSp4EzeQ+Bz42/wfgJvC7sIeAEt+Ij2jgWVH6gxXCsoE3H36O8K+rkKsxg7GwYSkAA79bb5IAp4FsUbdRqtEUECs/jd+5wD3gh8CBMDFvjl7d/pD+0n8pHxDeu+48vgk+Fk45vjweJL66v6FgreElsQ7QLV8tT2FhASKoMwMCAmAaTqe+jz9ocPnx13GQIGvvfv+TsF0hTpHjce3hXuDGgEGQCjAUUFgQc4BlkCh/k67arl4eVb63Pvn+5m6aHgiN903zLgD+UI88QIvRKMFooNlfjT67v69hspMkYtFA9+7+zfJ+a8/RkatyLIETj7C/d0AlYRuyAzIm4YDAuoATcBqwXWCFsJ4Ae/A7v8/fHF6grqOfBZ9Snzd+oa4kjgTeHc4m7joufh9/AQsBxTGVcDRuhd53QE7i4COX0gsvkf3bfa6u0nE6cmyx17BA/2af3ICIgaxSObHRARBARX/9cAHgR4BxYLsg7nChT6DOpg6OntIflf/UTzTej14B3j9OKO4m7hv+WPBiUpCTIzFfjoWNRK4ncXX0V9PKYPUeGkzrvXGf1+IvolbRTn/jv+EgUhD6AX6RDHCQYF3wUrBZUDeADQ/kkGYQ4IDJL7BvH07QT1EvsO+Hzwxeb+5O7lxOkp42Dh5+CTCAIzvTOFIlXg18f50HkI0ELlON0c29xgyP3UH/bRHSwlkx+UCPgExQUMDscNRP4tAeQGnwk4B/ED6gGTAiwBwv9fAmn96fcz+awBMgYc997qCeMh5YjtU/JR8vboC+K27QomeDjeLf0BLcbiwYreYCUOOrwxTQTjxejJ390y/1gakyYDHUYMVgSuAGX9vvKj9e8DSQ5+C/L9a/jj/b0D4gTyApv+9/dR9YL/kQnuAbbuB+Ez5LTsJfUD+xP2rurG4ublfA9ZMfYx7xMF2eXGDdFICeI0kDauHnLfU9Ma4kvxcwIIGRwoThzrDxwDJPik6z/tdf4MEqUWeAbX9/34BgLqAWEElgUo/vv3PvmbAaoFuvas5+/utfI5+b/6afnP9wPqw+fV65AOoiy8K9MN3dsXzR3Z9wzaNEI4IxzH5EXdNOY08OYAhxN3Ja4cwRFTB434zuuc6gL+9hP3HekOz/ul9sz47/tMA+YMtgbp/Sj3z/zm/iz0m/FO81P76v5OACb84/MZ66bjZeO49lQaJi8/LMj+qNQwzVHpOh7eNeoxDghz41nkoeiI8d38mBR4JJ8fBhjlBjPye+Tk6lYCKha9HWgNJvwc+W30DfXQ/cQJGQxaA77/wfsn9PHvJ/BK+8cA8v5J+6D0BfYC7NToI+g/7XAJmiWBOeAUiuG8zqDYpgeWKpM0Dxed7RfqQe0U8575KgbbHAciTB+pDkX3zOfH4jT1twoyF7kT3QbJAc79x/Tt9DYAigeRB6IGQwRH963tG+4e9LD8TQDg/2v8MvpV92nvqeyl56Pu3gygKpM2Wg4u3RrNl9zcDIEtQDJFEgPu+O+e8ozzWfUpAhYcWyPIHA0HqPAn5FHjcvmSDh8WWxCwCTAKfQd6+QXut/YLAtsGMgpACYD64u188HP0m/pEAGEAwgL1AmD/Tvj469bkk9yp7coStS2oLz4E2dxg0YvoGhPILKkpVQRK8qb4EvWa8hrxXgCiG5Eh3xmkBXfyd+eo54j9Cg5vELgHJAT6Bw4Ev/2u9tX5DgAcAq0GLgi9AXL4BvcF+Mj1gvX1+8cBfgUeBt36/+um4WTaFOhbDZcqwC7FEaroBNPB4iAIqh4XIQsLH/hW+iT4dvQs8ij7HxWZIDwbYwse+MLqI+br8Zj/uQjYCrIKmwy2B3j/Mviu+9QC8QRjBe8Bjv0i+Zz4yPjl9wv3iPgyAfUIhQbt/mT1Dekt4oDhz/l6GW0oviNb/DDbvdkX9Z8Vph4nFXMAMvyY/zH3V/Lp8qgFoxz+HQMUyQFc8cHo9epR9xT/SQXlC1YRfRLuBjv4WfS6+jEDTQauBp0Bc/iy+Fr5Bvmk+Jv5QgOACCwMOQYw+ODty+QI3yfk/gTGIIAoCxzv8yPYvt6h/2IakB7cEFD+Cv7w/bP2FfNI9hcMXB1FG04Qrv1c7VLmxezt97H+jwanDo8TfBArA2/1x/Se/SkEUgYCBEz+Wvmh+Qr8Rvr9+QH/sAZLC7IHpP509fbtIOhG4n7juP4qHsMsMCIw+2vczNyE+84VJRu4ETMAswA8ADn30PHY8bAIwh0RHMQQHf8878LmuOuO9Tr8uwW8DRcVpxGABRz6j/OV+iECvAbjB6UCa/0P+Qf5U/rW+dn/3Ad/CJ4Fq/7B90Xze+sW6F/l8/LnE34lAybEC0Dn+Nld62wL3hewFXgHLv/xAQz6HfP07/j+uhkmHxsV6gR881zo9+gt8/T5CQFsCYkQ/RLqCUABTfm6+FcBigWWCOgCvfmt9rX1gfrr/NkBowrOCrgJogOx+PPyVe1D6YTp5Odc+8AX1SNRIu0Cm+My3Xr10xJzF0cSywCE/Pr/+fbE8arxzQccIWQf5RGv/qjuBejy667z1/cEBG4PVBVjEicGF/0o9nr6GgNGBtYG3/7J+WH4QPhN/Ef+7weoDXgI8APw+ljzlu/c7Mrthe2d6+b9jhfuJNghnQJF5vje7PM0DvkSzA7KABj/FwEu96vxEPVNDEYgthsLDpj9Y/CI6jfuvPJJ9pEEYhE1FjgQxgTL/m76Tf0FAn4E7wPu/Tv7uvlB+PX6BP6GBO0IzAMzA5z+G/mt943yB/Fc7XfqpPT0DechcSFMCxXuMN4c61MIhhN7EuIF3/3bACP5CPJg82EE0ht7H4oT/AJG9Ozs7O6M83P0bP/dDVoTVA5GBSgBNv0h/zQCdAVZBRT/aPtv9q/1JfmN/lIHIApaBtIDZf1D+dj5Lvj99MfuHenJ5wr+2xn7H3gVXQDu6mrmG/+fEBERuAhB/af/QPsf8mTxWPwLFIMgDRruCon5Ru557lH07fPy+PEH4RBSDpAGRgOxAaIDpASnBLYF5wAu+/T0cfNt97r+3gaLCcwIYQTh/kr7mfkx+Cf3//PW7mfnwuilAqsXVB21Fa8Asu186a3+gAxbDNcFz/4VAZL5nPHW8lX/DROlHCMX5geo+eHyMfQk9gX0xvkyCQQRJQ5WB9ID9QKQAR4D7AToBRkDq/6t+lH12fXt/DIDhwenBxQCUv0K+Aj48/qX+nP5NfFY6fzmvvcvD4IXKRe/Bn/0Nu0K+R8K7gtOB3oA5wCc+3HwfPAb+90LbBejGP8OQQHD+LP3Kfp4+Nf5rASUDM8JmgPLAz4GrQXwBNkEvAUJBAQAd/yH9QX0LPrI/6sC3v9F/tH9a/+7/9D9S/zL+Gvy3upr50vrRQFWEe0TDwy3/EH0C/ZaB24OGwyPBmgA5/ly7WbrWPJsAIMPRhknGjwQQwWd/JT55PgN96j8MgbTCEIDKABnAgYExgfwC8oM2ggXA/X95PdC84nyOPeM/TMAEgFpATIBMv9T/Tv9tfr69sDvYOn45JbuAQY2Ec8Tngu6AIj8iAFvCd8HwgUXAJz8IvW068ntlfmKCv8TARfDEoYKDQPE/Nn4kPbH+HL/KgUMBHcBHwCqAnAFUgjPCeIHqQbF///6ovh9+Kf7HP8UARUBnQC0/dz7cfn++cz5uPjU9r7wEe2C60b4YwrjERwQLwO0+r/6TAQhCsYGvwYYBioE4vfA7EbusPu+CYMOaw+IC38G4f9l+pD40PqH/3ME3QSHAz8Bif+bAYwCEgW/BfQJIAuRB9oCYvzS+Sj6Ivx5/ML9Vv2B/fv82/sj+3z4W/eg9WvyGvJH8Qr5JwYqC74KeQGU/In7nAZ9D2ML5gmOBVoCcvYb7LHpFfQ6BT4Lxwt7CFEIbwZIAi3+gfzmAVUG2QZTBFAA1/3R/bP+EQCIAkAJiQ2ZClsG5gB7/i79B/xV/Qf/a/+l/MD4ffYP9oT2pvlk+tT5qPaJ9PPztvkTBPQFnQZxAOD9Qf9pCQYOEAhYCcoFxQIl99ruce6n+E8F6QZQCEcHNggMBSwBLP2H/egEwwdrBwwEvgEGAukBiAGW//ID1QmhCpEG3/8N/mr9Df09/Av+tgGhA+YAg/p99kj1B/dP+Nv3+/RN79jt2u3I9X8DbQu0DVMH0gMBAsAJGwx0BXoDGgNzBdv9v/Wz7iX1tAGhBksGwQIABaQFPwX7/7X8jgHQB2cLXQi6BXoF8gX4BJoA9v6o/2MC6gFI/x/+Gv6sADYCiALlAegB6gDg/T75+PQb8kbxP/FN8FjwcPJK9rj8xwTjCFkIkAVRAX//0gPMCEQJ4gdGB5MF1QMoAaL9RPwC/UT+4fwa/C390/5I/zr+9/4iA2sKzQ7TDkQMnwn3BjgCi//p/k4BrQOQAjr/G/yj/Ej/twGcAV0AIv4A/cD6rPeb9z35BPzO+3b55fV49Hj0YPX99zn6J/3D/tT/SP/vAc8Giwp9DGMMVAyaCUMG2AFH/1r/bQC0AJD+Vf07/f/9jf01/Mn8Gv/mAcICTwLuAx0HzQmHCSEIhAc3B4oGeASGAcr+r/1Y/Br75PlJ+nf8nP4rADv+qPv5+VX4+/av9oL3m/gG+cv4vPlW+4v8uvz8/Kv+7gH4BMIFVASVAtcD/waDCLoGxgL0AX0EoQbBBCn/LvxN/TQAIQGnACwBpAKRBOcErAMyAogBzQHrARwB0P/7/jD/LP9C////MwK6BBEFTQMkALT9ZvxS/Gj78fls+aT7AAG7AVH+Jf43AD8BHgDr/cn8Qvzi+1n7AP1D/1b/c/+RAJQCUgMVAgMA1v5x/h7+ef71/pv/UwCkAfIDHAZ3B9wGsgSDAvoA3P9g/gH90fz5/YT/dgDAALUBEgNgBJcEBQMEAef/zP91AEoCKQOwAocAtf6a/k/+Hv+YAIgBWADL/gD/1P8oAIgANAPfBT8F6/+r++n8Wvxj+X75EvxN/tn+Gv4M/pv+uf79/oMAmwIKA6ABMf4R++D54/pm/nMB4wK9AnIB8v9k/ij9zP3f/+cB2gISAqoBtgH8AQoCJQLIAqcC/AHW/0/++f4fANEANQCIAFwCIwQxBfoDbQFU/3D+e/6k/uX/DwGgAZMBNQBP/0//xwBAAZT/Yf9h/3L+Ev20/KT+uwArAuQBGgHMALb/iv91/4j+Kv0r+3z6S/tE/IT81vyM/tQA4AFbATEANv83/0n/gP/A/xAAvQCJAEMAcADVAJwBsAEaAdwAJgGUARwBCwBW/0IA3gHPAjIDgALyAWsBEwEgAX0Azf/c/4oAIwFyAcAB+gGQAc8AUACEAMEBgwJ5AmwBjP+b/on9DP1S/bn9sP4u/9j+0P0j/cP8+Pxi/WX9e/3X/fj+0v+x/1D/hv+JAKoB9wGRAagAtP+J/m39wf3F/h4A5gCNAG8AswBBASsC7gKiAnYBHgCs/2wAcAE1AvYBFwFGAGkAtgCGACcB7wFwAloBAP9W/kf/qgCUAdEB7wF2AVAAkf5G/UD96f13/n7+Y/6S/jr/Yv/4/tj+Wf9tANUB6QIzA/QCCQIkAcEAzQCeALj/xv4q/rL9lv0b/k3/AQHpAZMCngPXBJIEBgI6/0P97fx6/On7U/wa/p4AyQEDAugBpQI+A9QCCAK9AJH/Fv4w/Gf7kvyY/u0A8AGeAWMBDgHDAEv/YP1U/Gv8n/2l/qX/AgHGAioFcAYtBtsEIAJO/379Wv2n/f39wf6s/wABXQFFAe0BuwKfAnwBFgBH/wj/XP7o/Sb+X/82Ae8CnwNMAnoAWv8a/2H/BP/f/Z38V/z6/SAAUQJNA/UCagPcAxgDKwBe/Gj5//hZ+pz7a/2A/44CVgVvBkkFqAJNAZcAN/9Z/QX8bvwz/q//KgBXAVsD+ANCBL4EkwMdAUT+bfzU+kT6o/uK/ckA7wPeBV0FlAP5Aa4AUgBK/zX+Iv20/HX9VP6h/3cB2QFJAd4BIgODA60Bbv7S+0H7+ftU/eH+0gDnAdYBIALzAcUBaAGL/7T9a/yX+zj8Bv3N/hwBFAPyA44CHwEVAM3/iADxAJQA//7M/NH7JvyB/R3/NQGQA4AEjgQuA68ASP64/LX9CADGAVUCQgFu/6n9G/7K/z8A0gAzAa8A7f/p/6T/z/7c/bb9wP4mAFQCBQNCA0ECfgDm/2L+BP4H/hH+DP6Z/Zn9zf1K/9EAQALyAhAC0wCG/5j+R/34+6H76PyS/44B8wEdAa4AxgDgANoAigBVANf//v5F/r/9Jf4XABcCSAOpAykDngI2AR3/b/1/+1H7Rvxx/oYBgwLaAugBUQL7AoACuAKEATsBiwDw/gn+Mv2E/MD8MP4/ALACpQK4AawBlwDn/879efyS/UT+UACZAMf/w/4+/i7/nP8lAML/SgAGAKz+uP2s/Z7+O/+HAOAA7QA3AccA/QChAPD/TP82/nT+x/5y/uj+VwABAi0DOAPaA9wEYgXvBC4Cn//o/fb8of26/tv/swDTANQAYAHlAXwBJwH6/+b/uv8AAPb/7/0e/oT9rP4CAOj/dAAaAGX/T/3L+gj6EftH/Fn+NP8F/zAAOAH7AUIBp/8e/9X+f/68/eP8Wf32/rsAoQGQAv8DlQVaBqEFiQSlAgEBnP+M/ub+pQAFAtACQgOYA1sEfgNWAm3/8P3V/jH/0P95/w//OP5w/Xj9NP+2AHgARQCM/qn8sPwQ/Dr7sPqT+k/6Cvoc+4D8EP7V/iD/nf6G/u3+7/5K/4YAMgKRAmADLwRUBKsEtASOBDUErwMJAzgC+gESAscBdAElAo4DewS6BC0ENgMgAioBVgC6/1YA7QCIADsAJgAcAC3/Fv5N/XH9Lf64/n79a/tr+ob5a/mH+FT4HPim+Nz53vqV+9H7Vv0H/s3/NQFwAvkCvAP8BbQGMQflBvwGMAfvBqAGAgWBA8wCKQJLAY4AdAAxAE4AdAA+AHEAxQFdA/ADZgQuBEEDxwIfA6QCdQHpAB4BtgAL/w7+sPyA+s74w/aE9Zn0uPTb9Zn1Y/ZH9vP3Z/s0/iP/c/52AHYC+wXJB1sJEAq9CcAKfgn+CI0HxQZeBMcBtwC8/xoAlv/e/hL9+fw1/7cADgKnAyAFDwZWBocGiQRWA+gD1ATeBOcCcwKAAZMAdf72+mv3ZvVT9W31Dvbq9KDzg/Hl8YzzEfV2+eD9aAF7APgAAgNxBmsLog3ZDtUMTg0SDDUHkwEV/p3+Lf1I/tz93PzP/JX9ff8E/0YCpgStBgEItglWCxEKUwpOB1YE5QEoARYAuP3f/f/9fP5w/iX9+/mc9s31rfW29eb1A/W59B/zbPSs8/b0s/lm/hACfwCHAwEEHwlkDRoPrQw5CAsLxQfeBCH/If78/E38Yv4A/Mr8Tv2oAEQBmgL+BfgGjQgACS0KmgkWCYEIOwQkAWv/r/5n/ef8SP6U/sv/WP+f/Cn5PPdC93j0NvRp9Cr0nPOF8ujzzvLN+Nn+9QJzA+cDQwYoBUMK+graCr4HPAl3Ch8FzwF7/Rz9K/sD/Rn9a/x+/7oBlAPPA6wGWQhzCHEJdgnlCDIIHwcvBIj/l/2v+xD6Eft2/VgARQH4AgMB5PxR+er2e/VR9Jr15vSv8oDuDe5M79T1fP+fBGYFgAX3B4MGcQikCqoMnQktCFUIVgNq/2j88/su+Xr7Gv54/lb/1wH1BHsGmQl9CpEI2QX2BUYGYwaPBkcF8AHB/o785/iG+LD7OgCKAoUDogPGAI39oflT98P0sfXM9ePz6u/P6j3r++27+QYDoAgwCYYIMQk0B74J/QcrCPwHAgn2BisAbvtz94n3DPg2/Pr/kQI2BssHKghCCOsIeAcWBHcEMQa2B2kH8gXoApb+4Pwt+gX6Lvx4AfsEIwVkAxb/uvsX+Xj4bvag9mT2tfRe8N/rfeqm6yX2rwHICdEKIAolB3YExwVjBkQJfwnaCvEG1f+a9zP0xvbi+HD9VACgBTAIfQnHCA8H4wZ5BUEE6wLuBFQHaQjIB+AEqgBz/A37c/zi/goCqQRIBMIBx/0X+9X4/Pa39Wj08PTC82Xzm/C17Q7uGfUNAM0HgguaCJQGSwVwBT0EzwRPB54IigcFAjz6n/SE9kj5X/yd/ygFtAoUDQ0McQkhCGAGAARQAQ8C7wTUBzEIfQQd/zv7Nft0/YQARQTvBn8GHQK//MH4XPeu9uP1BPXs8yz0KvQg9Gfwsu3X71z7BQd9CtgJMQRIAccAqgS7BHQFhQpUDTcJIfx59GD0nvnN/SMBxQQrCXsOQg1rB+0C3gIqBMcDrAR5BkkJ7wkWBm3/Kfp9+5r+OwIzBOUFoQUDApH81PdM97v3jPqR+Xj3MPS485bzBPEG8T3vLvUW+tsBSgb3BfcE0QC6AoACDAhQCk4MIgxqBWn+4fXz9ZD4EP8lAzIFYAilCT8LYglTBzsFrAPOA8IE+wVRBkwGsgQtAQP+1vwA/0YCKwXlBQgEswDc/Hv6WPiu9/j2M/YQ9lr2RPeH9832vPG07ibv+vOk/OQDYQfMBTIE2wBuAv0DkQdjC3gKUQgFA4r+Cvg6+Jz6PQCpBAsHbgt0C18LzQc9BDEAAABHBGgHMAkUCecI3gVoAED8rvt3/k8CpgSQA+YAev5q/DL6FveQ9tD3L/qO+0f6APj09F/z5fB08DvxtPQE+uX+PwNIBAcEYwJMA5oFMQqzC34KxggeBooDIv3e+OL5bv/ZA4gG/QfmCEAJ8wcIBjgDtQK3Be8IGAnWBsEEGQQuAnL/4v15/vz/BAHKAP/+Jf3L+6b6//gj+HL4lfkU+vL44fc8+PH38/Os71juz/LH+X/+Vf8c/3kBdQMMBnUGlwkzDYwNkQswBpcBSv4I/lT+1//sAAkD7QY7CMwHvQbhBYsFJAYwBvAF3gU4BccEJwPCAMf/7f+uAOkAuwAfAJX/GP7a/F38wfvC+9v6mfm8+JH4SvhS+F331vWV9Uv0uvJS8+v1LPmC/fv/TgFJAwMF3AYkCJQIeQjQCG4G9QNnApMA5v8cAKYB8AM7BmgGYAaSBeMDWAM3A/sCxQLjAlUDHwTHA+sCBAN4Ai0CUQLDAW8BVADU/6z/kP/S/mr+Z/5b/dT8jvwK/Wv7N/uN+8D55PlE+VH4OfiU+YX7n/yK/IH8uv1J/QH9fv3e/cT+d/89/xv/0v8/AAEBZwFkAfYB5wKyA4IEdgQTBHUE3ATRBfwFLAWYBA8FhwStA5oDsQGKAgIEwwJsA/4B+wFQAxUAqQD4AOH/4QBQ/2b/AwAJ/3z/3v5R/Fz8nf2D/Ir9dP4C/pr/KP+I/qT9afpF+or63fhv+rH7dPsl/O78Xf4W//v+sv5w/34AwAAXASIBzgA0AUMBRgE3AoICGQLOAdcBUAK8AysEaQTQBPIECQaMBRkDMgLvAXEA3wEeAmgAEQJ5AewA8AB+/sT/egEwAJAAagJLAp0BbAF6/0L9R/wC/Dz8v/x4/Yj8wfzi/TH9bf0L/8sANAC0AA8Bu/+c/3r///1c/O380fuV+y78e/si/f3++f+iAFwBfgE4AJ3/5f8AACsA9P+n/zcALP/3/tsAtAAyAb4A6P+lAEkAowEbAzoDowQlBSoEmwPqAfj/egBIALH/ngDK/nf9K//v/g0AmQOlA20DjgNYAtcBrgBz/z3/YP5o/Mj87Pz3/ID+if44AEACqAK9AQEA4/6S/av9Nv0K/RX+0v37/UT9D/w+++b73v1v/ZL8Df3l/V//gAFoAZkBCAP5ACwAWQCj/rL+sv+5/o79xv6Z/iL/2wGBAvMDjAS7BFsFPQRTA9AB+ABRAFQAIADr/sP/XAAUAroDBwNiBAcEWQIiAlABjQAiAAv/bv70/+H+2f1x/Db6hfv6+xj8U/2z/Sb/4ADU/5QAIQLJAOsAgwBi/m/+P/4S/Vj96P3q/T7+jP+/ASwDKQRnAw4DyAM3AhQCbgDw/iQAQP+q/iH/nv6Z/or/m/+YAFcCjAIoAw0D2QJ9AhEAhP/c/ob+ef+P/vj8TPws/a38Df11/hP/6QF7ArQB9wF0AZkBLgGp/xL+jP5t/jX9i/08/pj+Gv+8AEECLQOQA6YD+ALaAagA7f8+AAoAdgAhAPz+0//b/5r+kf4K/20AQABYAEYCWQGyAt4DLQJSAeX/Mf86/6v9c/xz/WL83PtS/Sv++/6TAJQBmAGEAp0C6AE0AccA7/7n/Gb8Vvzz/BP98/xX/Vj/SgHAAXICQwJNAnUCMwKiAEH+dv9rACUAzv9M/yQAf/89/vX+AgAHACgBMALNAoMDegLUAhAD1wHY/6f94/3M/fb8y/3P/zkAFv+J/1oBZQIoAsYB5wHYAeIAo/++/uX+Nf9p/hr9S/13/jD9bv01/wH/7//2ABUB4wBEAVMBgQBcAE7/rf8nAFr/vP6D/lAAEAD9/4kApgD7AWoBlQEjAfQA9wF1AT4B1ABj/wT+Ev5Y/x4ANv9I/9H+7f+7AR0A3QC6Aa4BtQEZANH/HAAw/wz+nv8pADL+wP4V/zP/AP6J/cH/JABuAJX/hgApAloAaACiANIAtwDQ/wMAIv8A//v/5QCjAEEBqgD5/2cBAACMAIsBTABcAB0Aj/+W/2b+cv5iABsAI/8q/8j/QABR/4v/YAGsAIj/FQDg/wL/uf8FAAYASAFMAFgA7/+Y/yUAp/2v/iD/IP5i/8L/KQGdAigCjAHLADr/rf8VAO//bgAQAOn/UgDd/zwAqAAkAOQB0QHLAFQACP+Q/7//fP9U/67+rf/h/qz+owCl/3L/sQD3AGQAXP8uAMUA1v6k/2IB5wBLAMb/ZwDI/3/+hP81AHj/wv6R/vz/WAAp/2MAgQE3AU4BBAH2AI4ADAF6/9v9sf///tz/9f+7ADECdP+PAHEBHwDEAG8Acf9w/4n+B/+G/5b/AgAT/pT/TgLm/oj+ggHN/0f/aADK/+v/QAH7/xACiwHd/b/+wf7R/jH9fwBpABT+YADM/UYA7f/e/akDzgLDABoAHf4GAMoAtQAtAJ3+IP89Ak8AiP0P/6j/JQP+AOL+XQE0/qwAEQMr/57/0AC//m3/ywDD/C/9Ov+S/zED9wDo/goEBANH/o//NADdAVUAi/ys/kAAHABDACj/Zv0m/wT/7QC2Aq//bP9IAEgApwDRAcj/aQJ8AnQAxgIt/5L+b//g/2gB1/4S/gP/AgBcA+oATwDJAZz/CwKLATr90/yI/zH+FwDd/m398AIiA0sC9/5kAKsCsQCE/sz+AgHh/dn8AQA9AKj/jwDB/zYBhAGGAGUB2P5G/hP/If3Z/2gC3gD0/1wAcgGXAe4BdQCV/tQAQgHB/UD+T/95/loBCgGD/6oBbAGVAVcA//8lAiz+//ou/4wCJgEL/wX/RQJjAW0BXwMk/p7/CQFk/rQAa/3T/B4Clf9q/lUCsgJZApMB7f4fAIgAc/u9+jD/+wET/+n+PQF3APQBgAMaAyQCLgIy/jT9TwDe/un+xgDX/lf/XQQyA/f+Y/1q/qb/mgFGAdH9Hv2sAZoCWv5cAI4BXgCQAaYBUf8t/9oA3gAF/uT8Mf/HAJ0B8wEhA4oCBQEwANUAtACi/LH8jP1u/zcDnv7+/nMCzwHLAuEBRwHlAosBr/7G/iL9+f5H/yz9jQCEAL0AdAFk/Y38BQA5AOr//QDtAKIBoAF5AbEADACU/4H84P26AvEBjwO1BAT+0Pw0/cr8CwEoA/UD6QKWAbsBnP4J/hsB5f84APAB9/3t+6r9Uv9JAD4CIwL9ApYEogHu/g3+6ADeAED+Of4J///9lfx6/Q/+2P5k/iX/GQDx/ij/dwBY/2394f1o/Pj6z/z6/gUBKQGkABsCPAITAgQDEANAAjQCQQNtBSYIRwZxA3ACcwLKA14DaAGhAHQBtf9V/28AFAGrApwDswOFAtIAkv6D/k/92fqm+nj7z/2e/V77ffq8+X/6H/3n/Ib6N/nK+Or4uPhh+LH4rfpc/Jb+YgG2Ap4DYQRrBQkGfwXoA+AD1AOwA4QECwW0BRIGoQbQBnkGIwZsBh8FiQPYAqMB0AGvARYBpgGfAXkB4ACj/mL8KPu/+uf5T/mn+ST6ofiv98f4f/iq+KL4HfeB9Vb1SfeD+RD7rvyS/n8A4gLEBQgIDQnkCNUHhgaDBWAE4AJ0AXwAxwEQBAgGbwekB8cHvwiTCRgJpweBBSoEXQMUAvYAZ/8N/i/+eP5//qP93PtO+nD5P/l2+T35Gfjb9o31UfRv883yYfJA88T05Pdu/OL/KAIlBBQGoAglC74LfguXCUkHPwUFAwQBcf8J/iD+7/8zAdoD7wWUB1sJSwpoCvgJrAhvBqwFAAQEA9gBpP9H/rP8v/vv+hb6Pfn7+G34kvi3+IH3i/YW9aPzaPJ58Nru2e6w8Af1k/qv/1gEggc4ChENVg7dDlIOZgvzByUFewK7AAn/Rv3g/FL9mP6+AIYCiASqBjYITwqDC1ILPwoPCaUHGgYxBAcCcQBA/ij8DPrO90b2SPae9uH3nvgm+Gr3NfV681ry4/Gg8IHvDO/s8RP44v5WBb8IyAuqDpARwBJOES4MvAZ1A6EAav+d/VT8CvyE/Zb/0gFfAwYE8wWsB2wKDAzGC90KLgkJCFsH7wWeAwkC4v/k/cv7mvhL9tz00/RD9jX4CPky+ev31fU59PrxFPDE7t7tJe/I9Pj7SQJeBqMIzwvKD0gTBBRnEHoKHwbsAg8AH/3u+Zj45vkx/bEAoALKAmQDKAW4BwkKugofC/kKwAoeCv8HnQUKA0oBMABK/ov7l/gc9mb1k/Z695r4fPkn+Z34X/eb9S/z8u/z7LTrrO1J9Qr/rASMB7UJSgyDEH8UpBOaDtkIvgTNAsr/B/yt+Oz2Zfju+yH/sQBeAXoCKQW2B0kJ7gkgCscL4gzWDAoLqgZHAx0CkABX/mX72PfA9hP3/vcJ+mz6NvqQ+ij5IPiU9t/yne/k7A7rpezZ80D9GAW6CIQK6wzzD0YUMBQED4cIHwWRA7MAUP2k+bv3ifff+Zj9jf/H/y0A2QHdBO8HlglaC+UMgw3pDWEMTwhUBAkCTgHo/yf8Uvhw9hP3jvl++5/8kP2n/CL73fmQ99b0wPBh7ITpe+i97nf74QRwCT0L1gtdD4IUSBUlEDkIrgOTA74BSP7x+gH3hvVk+Kr8tf9v/yr+SwBaA/wFDQhtCUULoA1UD7AOtQoOBWACBgJNAQn+evmp9kT2F/nj+zn9BP7x/dr80vvQ+Qb2nvEL7EvodOaC6pv3FgO8CKYLggwbDz8VKhe0EhwLSwSyAuAAf/xI+XX24vSR90r7e/7V/wP+6/7QAc0DKwasB+sJgw23DygQWg3HB8UDmgJRApEAy/tL90b2gveB+rD8Uv12/s3+hv2u+6H3z/Lq7rnqnefJ5Zfs4PoXBS0K5AsvDO0PZBaMF4USUgnxAnwC//87/If5s/Wn84v2ovqE/r3+0Pzq/swBzgT8BjkIZwvADhIRihHeDfUHMATXAoECNgC1+in3g/Za98X58fqm+/X8Qfwd+7r5JfUf8VntZOnJ5mzozPSnAv4IogpNCz4NWBNGGDoUvgvdBH8C4QCn/B/5BfeH9Hn2pvvP/gIAuv0x/TYAgQLzA3UFCgikCxEPwxE8Ed0M8gdcBfsEUwNF/mb4tfV29Tv3VPn9+fz6Y/vT+g/6dfYy8cbtuupX6Jrm8+yZ+yYGWQozC/gLfQ8cFocX1xBtCBIDNwGG/m76lPjZ9rj1e/lM/VEAcgA0/i7/5wBzAaECXAUcCeoMiQ8VEUQQ6AwoCS0H7QW0Ahz9E/h29Yb0u/Vm9y/5QPs1+8X5X/d28hjvEOyy6EXmOucL83MBTAnNCmsL1Q3jE9UZuxS4CwIGfALz/yn7MPiM+Dv3gfge/ecB8gQDBNcC1QJYAYAA5wQVCakKdQtJC2kN8w3WClcIqAU1Auz9NPkE9oH0r/Pb9fj5EPyp++j5lfeN82nwx+sX6DXlqefh86j/xAefCQELSQ00E+0YmhP3CyMG3AEU/lH3+fZx+jv4xfjK/b0EAQm7BxIF/gOIAZsALgVYCOkKEQtjCj0OmQ9+DN8JTAflA1z/xPgr9eHzKfKf82n2kvn1+jr6hveW8k3uYulo5ZnkOeoD9VgA0wZwCe8Lmw4ZFy0bnxQ4DD0FyAG//IP3uvhi+IT1IvgTAPsHNgrZBooECwTUApoD8wSkB10KMQqODHkQuRCYDUwKrAcHBJb9SvcC9brymvDx70jy2fY8+DP2EfIR7w3s1ecz5BLnb+89+g0EhAeyCogMgxNHHakb5BPQCnYEZQDC+7T7U/ri9J70xPuzBMMIywY5BIEEHQTjAygExgWnCLIIFQq5DmYSfxFGDvQKvwZPAVj7m/jl9TLxxe2q7jbzoPbs8wjvRu2H6+zoceQf5lPtX/ePAHADHgd1CWcSSx5vH3MZ5Q/fCJME9QIEAxP+iPaW9X/9IQT9BI4CUgGmA+IDcQLlAWEDAQaqBccGowztEe8SAhFhDQwJFQSI/2v9vvgC8jju4u4Y82r05vAp7ZXrQ+u25zDlZedr7jP5ovxT/xYCHQe5FJgbURqNFSwQMgx6CjwK2wYBAH76UP5sBXAH7wSeAT0DcASrAS3/5v5+Ap4CLf/UAb0I8g1UDp4L3QkOCDAEhAFa/vX3+fKZ8HvzfPYm9IzwTe5771HtkerS6Fnur/j4+KD4F/hh/0MMjxAUD7wKzglDCpEKUAq5BmcAn/1EBP8Lhw2ZCY0GJQpXDGcJSwSYAgIG+wPa/sj+PwRuCCIGkAGEAOYCIQO0ArT+3Pk192/1gvcM+I/2FPPq8TTz4vPi8dzyBPt1/Lb3P/AP9AgC8gaDAvX5Vfi8/CQBRAJ9/vz5LfqjAb0IhQpdBy0FoAnwDckNYApQCpgOkw0cCXYHdQqYDvsNAwkaBaEFSgm5C+0HpwLLABQBmQGx/mn4XvN58XXwgO9d62/sVfPm85bvJuie6vH1qPpo9kDuhezB8Qz6rP1e+0D3bfeFAGcIagrLB08HsQ02EwwTLg+jDwQVIxa1EuYQmxPhFsoU9A6hCvMJqgsvDH4IgwO4ARcC9QEl/+D4S/N68KTucOvR5Zznj+1Q7ernm+LB6Zf0bPZ78MfpL+ps75L2ufkD+Hv1mvkBBasMgg16CqsLfhLrFWETEhBrEoEXIhaPEa0SuRc5GisXLhHoDlYP2Q77DOYGiQHa/jn+FP7d+h32VfLe8fHvFOwi5g3oJe+87Bfm2d8l50TzQPR87Zzm7+hg74j11/bp9Bb1nvmRBLMLiA0ADrUQSRd0GbcWVRI+E5kXkxXCECQQkxWcGREXlBEtEH8S0hI2EMUIvgIZAan+HPvT9Zzwb+7M7N7rWumL5l3riu9h7SjlIeEb69z0mfPk6kXmqumJ8Fv0UfNr8u3y6vkIBF4JPA1eD34UrhutHNMZKRcCGnIc3hZKEF8RehYJFwUSkgwRDokRxBFdD/UJAQY9BC4B//sI9r3vXesc6MHleOL241XsC+646D3hyOW787v3ifAk6GznYex08sD0dvMD8iX0vvz7BNIHOQpvDaAVFxy1GpQZRRuNIBIfvxa/E88XVxo3FoIO+gq4DZMOKg1KCWgFJwQMA28A+Pu89hLxbuue5gbip+EH6Knq6Oay3+zhUPC/+eP2SOxG6Wntj/LW9Q30nPEU8mX5ogIKB0QJ3gs5Eh0YJBghFqwXWh40H4IYkBTzGCseUhsHE24N6w5xEJIOZglJBKoCaQEm/2z70PZt9BDwoOo95Vjjk+ou7V/n1d2H38PtTPZ+8yrqC+me7iH14PhA97bzYfKb+fgBHwXIBrIIDRGhGIoX3hVCFlYcQR7wFVMRWxa4HMQaEhPQDmURBBOWEBoLfwU2A2wB5P1H+bL01PE77hLpUeXl5krvvPHE6YXf/+LB8Ff2C/HF50znSe2D81D2TPVs8yf0gfvxAlsGMgegCQQRoBZcFgcURxYiHjAflRZaEa0VXxuiGD0PFwv9D8cTrRHLC8YG0QYhBHz/zPnh84HxMesP58DiOOXH7qjv9ug+3ynnXvej+xPzEei+6OLt1vI884/xkfHU8zP8rAIGBnoI0QpFEs4WqBXcE10WMx/nHssVchJAF2Mc+hdaDR8KJg87EfYOuQg9BX4HhgWOAWr8CPiy9BLtOuUH4c3mqO4p7TriG90e7Jf7//sD8L/ox+0a9BD2PfOC8fDwWfQt+yD/EgNHBqEMvhTQFrkVBxSIGZQfTRolE2UTJBrPHF8V4gz7DMsQuBCxC68E5gLGBKUCov7g+fv2HvXL7cPmReYE7V3xEOkI3DrfM/HW+kf0dOhi6BTyFPjA9jHz7PGD9Gf5Zfx4/2IC8gZ8DrcSqxT8E6AV8B3qHnsXgRKSFHkaJRh+DwQMGw+/EeoPRgpWBVMF7QIgAD36rfV89ELuU+nA5Y3slPP879Dj+N0Z7cj57PcH62zlA+z68rD1GvJ+8U700/nU/tr/twIkB60NmxHxECcR0hK5GVkdXxgeFL0UjRkQGQISeQwZDZEPrA60Cr4F+QSWBF0CL/1U+DT1DvEU6lDlOeun8LXvZeSm36juKPy5+7nvJOmr7R70QPRe8Nnu/+8V9vv6Kv2hAO4FBg+lFNoU6xPDFG0bjh2SFxwS2xJ2F+EWZRB+DP8OSBAkD8gKYAaNBPQCbAAI+pz2A/M48BLqH+bn7dLxCvEp5m3ifPA0+zr67+6+6iHwhfZB907zmPIu81L2Nfly+vT9OANLCl4OQQ/QEN8UaRyrHi0auBXbFT4YexXRDjMLUA39DTcMfQlFBz4HEgUxAbP7efi79b/wduic5f7stPAa7kDjE+S99MD9qvlS7tjr+/IF+J31HfJZ8rv1UfqB+h37PQASBwIN0gymCmYN+RMSG70a9BQ2EyoXNRoDF+MPYw2tD9kNBQqbBakDXwSIArX9hPmK98n1ufBj6F/s6fHt8MjpfuHA7Ej5hvrp8rjruu809/74YvSd8sXzmvcV+2f6jf5NBcQLhxBRDaMMPhHTFxca9RORDzARlBW+FP4OQQtnDjwR5Q7OCl8HaQavBKv/YvkZ9Vnx1O2U6BbtWfQz8sjqTeSo8Gf9dvwz9Mns9+8h9v334fOk8dLyRfZZ+rj6Tf+SBdsJkA07DBENsBHhF6EarxXtEPIQJhR5ExwNTgfAB3oKgwovCBkGYgU2BoUCN/7I+u/1pPLG6xPw1/IS7trnLOWh9J/9cfp58yDxQvbt+Q75NPRc8wD0gvY9+dn41f3fA1wIzgumCusMjxERF4AYYxPqEYIT5BSaEqwMbwlqCugJyAcdBEEBXwF1AHv9cvnR9vn0h/BT7+r1lvaS8FXodOti/JkAi/iu8J7w8PcF/D34svRM9an2qPkS+jH7aAA2BKoH/gm2CWoLOxAMFY4U+xDZEAwT6hP2D+gK6An7CV8JswcOBQMCVwFK/zj8/vgA9EXx5eut8QD32PEg7PHnHPjIBJv/kfd284P4tP2y/Lv2wfMe9M/2Bvrt+JX8qgL/BlsKWwoHDLYPExUtFYoPBQ4kEIAR3A1vB3gF4QcOCP8FKgTMAJIBBAJV/mT7g/ZI9cPxmvNX+K3z7O2253rycP/H/PD28/Kz9gb8jf1U+0f5CPmI+Zf7Y/v6/XcCGgQXBo4HGAmkDD8SRBSUERUQfxEDFMQR/ArXBjEGOwUpAyYBvPyc/B/9Dfv6+fH0IfR18eT1pvr59HLv6+n+99QDL/4092rz6/dn+zf6s/fC9pb2APgc+xf8jgCnBL4GdgrlC4UNuQ7tEQwUhhB7DkoP1hC4DroIZAXWBk4G9AMhAlP+Yf7L/bn7rvfU8lnwhe509Sb2dPGL67Pr6/zAAk77EfW29oz8Gf23+jz39vZy+Fj6Ev1i/lkBJQRbCPUMVQ6yD1QQehQjGEgWuhSUGNgaeRF7BfMAOQMqBIEAgvhj8NvvB/DQ7bfojuXm5FPoo+967gTuxOzs8ywCDwRaApoC4ggyDlMPYxDmDyINSwnsCq8LvQtpDNQK0A3RDcoMcgxGDHkQPwzPBVUFMQfRBgb+sPWc9d32bvOa7qDpeuaB5zjln+Ce3//fDOr+9I30u/U/+L0CqhJaFY0S+xN+GYYbWBYOEuUOHAjJAdcAkgLGAuX+gf00A68GOQhsCI8Jmw6WDFUJ3wqYDJcLoAHb+Bf5H/hL9XTvUOgI5VTk9uPQ4Lzf7OCG7cf44fW+9xX7fgbrEgIS7BAcFYUbWBodFH8QKw6NCIcBPACMAQsC6/zu+QMA3wMXBkUGOQiiDfILowqWC/MLoAqIAFT6ZvrM+M32FvHW6RflUORk4pHg3t5e41HzRvgn9uf4YgANENgXaBMmEqMYtBzQF3cQNAvvBhIBXfwk/LH+ZP4O+C74hgC8BmkJDgnjCzUQvg/vDnIOTA2KCJT+dvol+pb3c/WV7QXmUuRG5Krj9d+63W3mJvcO+673dfpUAx4TZRioETUSXBoFHHwTbgyYCwgIbAGU+j/4Wf39/cP3M/em/6MHFQq3CHUL9g/sEBsPEQyvC1MHqv8B/Cr5/faJ9cHt3eSH4YviXuOq4GXfqekL+qb76fgb/e8HHRgUG4ETthTiGyYa8w9gCFMFjALn/Zz2KPYr/eX83vZg+V4EkA3SDXYJsAvDEDQTbg8mCGMGbQTB/zz80vZ29Jbzz+xP5OPgBeP1493iIuH87W3+Z/3t+yf/oAs9HEkc0xPXFTgbchYqDT0GnALZACL85fQO9V/8Bv2W9yr6uAQvDl8OxAmdCqMQhRVMEGUGuwKeAq8ANP3m9MPwrfCC6b3hL92b3hvj4eJa5Djzr//sAOUBggYDFvciSx4uF7oX1BayEAoIeQEG/qn8SviG8pP2c/4n/mb5V/0kCBEQZg7IB18HGRD6FrYP6wIy/nwBGwOm/XzzVe5V7cvpO+LU23DcM+On50jrqfhBAfsDoAY+C34ZPCGOG5kX3BRXEMoLHQaIAQ3+Z/s/9Z/zivuxAd39yvhK/nEJzw/7CwsGxAYvEeoXNw6EAOf8hABiAnn7BPFg6v/nxeXP3nfZBNs95vHvLfjv/1ACHwjWDbUW5B8RHBUXABdjEpsMzgaFAf79avzt99TyavcxAHUBCPr+94UAEwxZDrMIdATqCIsVghg0C+X+I/5DAcsAI/mO78fmoOJc4M3bh9hr3jTsd/g5AucC+gIUCegSdh+JHmwT4hPbFr0RZQq1AwYA/v+K/hv30fJu90v+zvub9v74nwKcCzQMBgpUCm8RGxk/E9oEEgCYABwARPsU8g7oQ9+63EbbMdrZ3HPmvvLh/hgEMALEBEsNtxrRIZYZ1hNYF/0V3g9ZBy8B3v6Z/if6QfLv8xT6VPvn9y35rAJwCz0OzwujCpERRxiIFGAHL//HAGsAZ/z59ADrceL93DvaT9nb2oviLe7O+64E1AN3A8cJYRZ/Ib4csBFJEwEWwRL+CiwCg/5cAAr/4/Xq8QX5f/3599f1jPv7BqQNcgt+CI8MpBeGGk0NlAE9A9AEyAEd+S/u6OTS3r3ZodZ0157db+i387AACAWsAycH2RDgHE4hJBjQEh8VvRRlEG4GtP7A/SoAmvlh8dDzX/ob+mr3evqpA7INBw6NCigKehFEGF8OagJ1AyoGPART/B3wgub44evc6Nfp1sXcz+f28qv/+wPZAl8GxQ6DGMwckhXZD1oTrxVtE+wJcwAp/8YC9/z08iHxfPYD+UD2Vfgc/34JaA0HC4sK/w5TFwoSzAVUBrMIlQYNANvyhOfv4nLe4dkI2fPci+W87VX9MgdqBGQFZgy0FUsdMRnNDUwQZxdSGA4PFgFw/EQAxf1i857wOfXA+uH4w/U2+3oGTQusCUYIogqDFSQUgAizB1wJ9AfUAXXz4Oge5gXjB+A/33Hiyugd7zv+mwguBPECQghEEBYaPhgCC10PoxvGIFsXUwOl+6L+7v5f+cf4s/pP/Tn6yPW0+YMB6gRUA+cC1gbqEYcSLwrtCF0J4wUF/sXwuekQ6ufqwOpx6Nrn2+jF8LoAiwd0AOX8uwBQC58Z1xZCCpETwSKcJ0oZtf4f9vT6EQEgAdj+D/2v/NT3+PRl+LL7Kfyb+rT+fwmzFEgSngqMBSsFGgCd9UbvFO+H9JD1A/Hh6Nji/eQE87ABEgKg+Lf0xPwYDfcaKRQJCr8T2CDTI1QRaPqG+GcCCQhhBKP9mPjU+bT2HPIk8sX0xva8+ToD0Qx4ES8LMgH//Ab/xv1j+ff25va++N30Putw4Srfqeif+tUEUfx78mT2/AN3EjUUyQZLBjMY6CRSHxoJZP0LA8kL9gmXAe37DPuX/X/5uvWJ9dP3MPj3+zQDaAlhCkkCWPse+37//fx99wH1lPap9wbyvekA5HHmzPQAB9gGzffm8Dn43ge8ExcNZQC3CDIcmSTBFmAAi/vnBwQSRw0+BJr+sAH2A4L9A/dw9aD4xfvHAPMEWAfkBDX90Pau98b7CvuX9x32hvhd+NXwHue44nXnBvmKCUcE7vNi7/L5/goeE70HMf0XCdkcJiJiEaT9vf2JDRAW+A3TAwkAygalCZcBpfrX+pn/aALpAtICUAR5AX75VvLh88H50/rd9sry0PTu9vLwTuZc44HsWQO5Drn+iO607tD/1BDPDQn9iftlDpkeMRpfBcf5CgX9Fk8XBgxvA/cFjgyLCJb/7fu9AMgFPgY/A3ACqgPr/sP1vPEy9n/7Jvup9fHxaPME9VLujuW65A3xLQaZCSn5tOxF8EABYQ5ICBH7c/5AEP4atBOXAoH7LAhmF/YWhQz1BRYKRg8ACsABTwCrBagKKAnBA08BKwLr/R315vBH9DD6k/my84bvw/Bw8oTskeXH5jf19gZjBu72/e0A9HsDOQtjApn5qQHrEbAWfwyR/m7+jw1+GJwU0goiCd4PwRFyCUEBmwF1B6AKeQfdAWwAgAG8/D711fN5+Jn8zfny8prv1vE38z7tM+bh6HP4sAZzAhv06O1v9X4DHgiu/gX5EwNpEE4R/AWF/KMAfQ49FlYRMQneCOoPLBEaClwEJQaSC+INJgv9BHUBfQBo/fL3yfU1+BL6zPnu9uDzEPMv8iLvWepD68r2kQKKAk34xPCy8gX8GAOH/2D6DP9zCSkNTgaF/bn9OAc0EKcQxArXBwcMVA8/DKUHwAcnCw0Nwwt3BzQEDwIhAIH8mvkJ+zD99vxk+ub3M/Wb9EnzJPA978Lyu/pRAWQBefr+9Pbz6Pdw/fz+VP6b/zMFiAZfAgz9Afz3AX8IcwreByoHlgrJDHcJNAXzBRMLOw4KDLIFZwHhAisDNQCw/d3+cQG7ADf7WfkR/KH92f2A+WD24PsPAj798Pqz+l/3KPo1+JvzDvfx/TL+F/w3/jb+ZfvX+S/6ZPtK/uADGggpB8oFAQeUBqMDXwXTCdYI4wkNDr8K0QXVBlEFHwFyAvYDXQAm/gL+/f1y/pr81vtz/kD8iPgi+6n3j/cXACz93Pai+pb8n/fC+h39pvj9+lb/ifxo+sL+uwDX/zAB2QMzBGEDbAO2BOIDYwKdBCkGWAZDCH0JyQR8A9MElgUABY0DNAUVA/QCnAUyAw3/8f/8+hv+hwTG/lz+h/mu9sv6gf36+932APbo+uL7Lvuh/RD6yPpv/+f98/lZ+rD7Bv11/+j+j//t/6oAngFcALQAvQHgA/gGcgedB/sG1wUIB5EGdwXwBKoF3QRjBJUGhwT4AuEAAQHk/zX7Cf4PAIf80Pru+r/4Dfz8/qL78PqH+3v6JfsX/Hr6Wv29/sL9If1F+wX63fje+5785vyg/5L/lwFCBNcCxQDYAbsD7gQ0B04HDwaCB1QIxwaLBVoGfAUSA6MC6QCI/z8CqQIfAdMBQwFGAKL/xP5M/ej8vfyA/L79vf3G/Yf8NPsC+YP2Pvix+cr69Ps8+/j6A/zE+xT7IPsQ+8v9DwGaALIAcgMPBHcEjAVABKADYwVRBlcEygNCBNoDUwR4BEkD4wK4AgwB3QJeAywAUQC8AGn9ZgAuBgkB5voM+j//MwdPClAGKftD8Yr1uvxw/o4DWQB0+tf3bPUd9836Zv4jAPAA/v7y/vT9mP0NAXr/Hv/qAVoC0wLtAtAC7gJTA1IFyASlAh4DiQNtAqAC7QKCAs8CmQHv/8P+z/5Y/6n97/2e/wf/IwAcAR7/WABqAYj+bv7x/nv/CgExALL/Q//4/ej+UQDE/zX/K/5G/fn9LP8jAGEA2/8d/5L/8P8ZAD8AaP8h/8gAgAG+AQgDegEhAGMA6/4B/g/+3vzn/Ev+6/6k/o/+gADOAQkCuwEZABP/ZgAuA0sCNgA8AsIAV/4RAk8BlP6uAe8BlgF8BCsFWQMmAh0C2wAZAGb/X/8DAEUBaAL2ARcDkgERAEoA3/4d/Wj7pvoq+5P8y/w8/D/7d/ys/j3+gf36/GL9Xf8nAQIBXAAqAPL/bP8H/wX/bf7E/gUAQQA9AZQCvgKlAswBVwHuATUCUAEcA1MF3QR9BpwGwQO0ArsBK/8z/4z+e/1Z/zoAsABoALb+Mf5a/5D+wvxb/Fb9LP/O/yX/g/61/nv+Pv7f/Wr9cv2v/Xv9Cf3c/RT/ov9t/37/pv+7/9D/P/+J/6UARAFHAdUAnQAtAUoBOwAw//H+uf/xAKkBJAFvAJwASwHUAV8BrgDIACcCiAOFA5oCEQL3AX8B5QDw/z//Ef/w/vX+5v4Q/1//gf9L/+f+uv6N/in+7/20/qX/DwD2/4L/lP8xADUAUv/0/dL8l/3O/vr+qP6r/o7/7AByAXgAy/8EAIkBwQI+ArsBCAKJAp4COgIlAVQAcQB3ADAA6f/T////LgB6ACIAUv/J/in+J/6E/nn+5/6f/y8AiACiAGgAiv9x/iv9Sf2A/sr+fP5n/vj+2P9+AOH/8P7t/8YBwwJ6Ai8BDgE5AkUDoAInAaIAtwBWAdoAVAAsAC0AYABTAGwApf8F/+b+V/+Q/zP/4/4J/1sA/gBNACr/6f0v/dr8xfwh/VP9l/08/qz+9f7X/hT/if8lAIgBYQJYAuABMgJ4ArsCugLGAYMBhAG6AdIApv+q/7D/4v/SACMBkQBHACgASwBvALkAJgDw/xoByAFdAXMAOv8H/rL9Wf3f/H38kPwH/cv9B/5M/VP91/0G/8EADwFmACoAgQBeAQgCkwHcAEoBpQFHAeAAMwC+/+b/UwCxAJwAPwA7AJMAyQCNAN8ALQGbAWIC/AHUAcABeADt/jv+D/7q/QP+G/44/vX+of9b/5f+X/5X/04AIAA4/xX/3/8NAS0B4/9U/xsA8gC3AML/5v7e/hb/Yv+p/67/tv+u/x0ACADs/88AWgEfAgkD4gI6Ao0BgAB0/+v+mf6h/pn+qP7f/hP/Qf8S/wX/Vv8WABYBcQGjAC0AxwB+AeQBLQEWAFIACgEdATAA3P52/hf/df8R//X+VP/N/8v/gP8I/4f/+ABtAWMBsgEZAm8BMwBW//v+N/99/23/DP9F/3v/8f5U/tj9Q/5e/08AqQBOADoAlQA0AZABawG/AEsA8gBUAasAe/8p//T/mwB8AAwAGQClAP0A0/+O/mT/1QB2AUoBAQGMAb8BwQAY//H9Q/4e/0b/1v7L/hv/Ff9d/pT90/2M/h3/U/+B/ycAtgAwAToBmAAYACsAiQCmACUAW/9t////XgB1ABUA4/9iALAA2f8X/+P/RwEFArIBAAHpANAAFgDZ/gb+tv60//b/q/88/3j/Sf+S/k3+m/48/9v/+/+o/8z//v9JAOv/RP9X/47/JwBnADkAXQCoAPoAtgDm/17/b//a/+f/AgAvAKEAkAHNASoBdQBlAGIAvP/p/qf+iv/VAPkALQC+//D/2/9A/1n+g/6a/8//y/+o/9D/XwCKAFwAzf+0/2QAjgBSAEQAcQAdAVIB4AAOAJH/1v/j/5f/Wv/r/7AA7QC/ADIA1P++/5r/3f6F/tr+Zv8bAFUA6P8j/wf/E//K/sn+Pv/c/2cAlABPAGEAvwC0AOT/WP+0/zMAhQDJAB0BigHiAcUBPAGBABcAUABYAOn/m/+5/wIAWABmAM7/P/8Q/w3/4/69/hP/sP8nAEgAGQB0//L+yv6F/rj+Xv/9/3cAdwBzAIQAQADM/y3/wP4R/wMAxQBSAd8BTAIsAm8B7ABrABQAIQBWADgAHQCHANUA7ABeAJT/EP8c/zj/4v5//sL++f/rALkAv/80/+j+wP6C/m7+Xf9JAIEAIwCe/5T/v/9n/+T+if5H/9EAqgG+Ae8BOQLmATgBBAA4/1D/u/+FAA8BIwE3ARUBBQGTAEP/kP67/mb/5P+D/4X/ZQAYAfQA+f/a/rX+8P7u/jP/vf/FAEYB4AAeAEH/C/+//uH9iv1c/s3/FAF5AYgBkwFRAeIAOgAMAEEAwwBoAZQBUQHwAIsAJwCP/3f+A/7X/lEABAHWAP8AFAEbAaEAh//F/qX+Nf/N/0IA5gBYAQgBdQCo/8T+e/49/hL+Zf49/4gAewGBAQkBaAARANL/nP+g/ykAuwHhAvoCRQJLAeMAdQCy/5z+UP5x/70AbAHLAPP/0//0//0AhwGW/MD7iwSgAqL+YQPT/rj+2wR9/kv7OgA/AAL9YADNAX78PABZAyz/UQC/AMH88f7yAvj/4v9eBbgCMgAKA54AQv+i/1n+DwB/BO3+X/0JBTD/+f+qAwP8zf0hAjL+dv76AqIA3v77AC0AJf8L/4//LgAQAPz9LvrG/7wDfP40Aaz+l/wQA6z/3/vp/mIDjQJnAbMBUf9iAhAARvsIAccANP5LBVwBK/yHAoP/f/7GAmkB+f3V/BcDeQWI/wUAIQJ7/9MCoADe+UX+FgNa/hP9PP13/eEC1v18/xADAPyDAYUAB/oTA+EDd/4MA+sBovu6AU4Ei/zW/qr+NPtgAMT/Kf2N/44ABP5rAHsBnPu6AAgCUf54AYUB/P8JAcYBw/6zARUCpf1cAXX/WQDNAub9hgHtAEYAjgHt/nsBt/9GAJQAD/6UBEEEif8fAv4BCQEHAjsB6f8fAV4CCQB1AdMA9//W/x39VQBY/hH/lwHoABwBmvwg/+MBf/+e/nf78f1oAtH+Ov5e/hT99gEpAGT86gJgAncAQgUVApQBkQWGAuMC5gOIAkECWQO3BfkCaAPDAmABcAO2AWgAFQENAnv/nP+u/777FgA3AE/7FP2y+pL7Y/1b+ez5Tfw1+vv3B/us+Vf7SwAV/fr83P2r/okBAQJVARUCbgVjBmYGWAceBjQG4QktC50IAAhECTcJ/QecBb8ClQPYBEsCDgFB/6/9CP9y/Az4bPts+0b5Tfwm+fP5mfkQ9wL5l/cO9krzQfOq95r6Nvs9+en3Ff3PANAC2AMYA2MGiQhgCVcHIQYUCIQLIw84DkQNKw29DL8LXgkABrAEogU2BmIE6wBu/QD6R/pR+Mv13fYq9oP26/hx9zH06/NI8vPxdfTk8yHxv/Uu/KH9Bf3I9676wwAPBOUGGATHBusJRAyLDHMH3AeUCxoQuxDUDm0NYwxIDugLOQc3BJsDiwbGBVcCh/77+pf5Nvcy9M/x3PJ99Zj2efUo8tPxU/BZ77Hvbe5x7n3vtPjV/2H+9Poj+ej/kATWBSAIkAjkDvoR4g88C5kGfwqSDKUO2w3aDPsN5g1BDKsFOQEs/jkBfwTFApsAEf5T/Jb65PaM8iDx9/I3+Ir4ufOK8CHuMe4w7Rnsxu3p6+/0qAA3/p77tvht/X8GEwfsCbEKMA9UFuMTig+XBx8J5w3OD3IQUApeDIsMKQyDB1T8G/ur/V0D5AMf/xb+Jf2q/ZP5B/Is8LPyzvcJ+lL1kfIg8fHwVO5g6lHqwOgX9IL/Gf/b+2n3TP47COAGTgh9CIoPfRiPFdoRlgY2CuEONRFxD3sHPAueCsoOkwjK/b360fvcAh0C6f6N/Tj+zACA/WH1p/As8eL2a/mU9nvzyPGB8qDvouui6HTmJvCl/WUAMfvP9hn9lAbnB08HdQarDLgVmRcQE9EI/Al7DjQSCA8bBzsJvwr1DqQKrP9t+y/8/wEsAiz+ev2G/rgCMADY93bxafCw99b5/Pd983jx4PTg8Xbszud45ffqUvlPAvb7qvYG+d4Dhgr+BCoE6QfwEr0ZJRYuDCQGpA1yEkYS1gmfBuAKHQ3ODQYEgPvA+z0AkwPy/4786f1tAdQDNvwQ9BjxjPT8+j/5fvYZ8+3zlvWp8Y/rH+h555fuXv6sAWP6xvbK+wIGpQgpA4ACowp8FpwZZhMACTIIbBCZEtsP2ga3BzUNSg5aCxABs/zl/VkBIAJX/fH7cf/fAqABQPoD9N3yvPZV+tz39vTo9Er3ufYA8VLqMOoN6wHw/f1uALH6Jvfg+jkFsgdtAw4EZgstFv4YpBP7CZgHKRALEkMQeQhQCWYO+A2wDC0CQ/xk/Hf/RgD1+5b7aP9CArEBXPu/9eDzpvV1+bv3uPay9sf45faZ8ZbtUev26VDr0fm/AZ38zvfq+W4DlAeNBJ8ELgloEzQYpRQFDREIBA94ErYSogwGCjoNuwwBDaoEmPxh+gz9IgBv/p/9G/47AM8BY/1i94XyYvQ9+i36gfkL94H4Hfhy81PuXenw52fp5vlOAzn8APdz91UD0QoUBqQDawdoFfwbvxfRDlIHIhArFAsVJA1NB9IMRw2VDbACmPrp+Rn9+ABK/Rb8yfy//zIC/P0e92bzEfWL+4L8F/ku+Hb46Pdt9OXuB+r66cPnJPNpApH+NvhG9lH+PgePBh0DrAXEEIYZWRlMEuwIgwtJEuMT7A6JBhYJQgujDHcG2vzX+rn7ov9F/rD8KfzO/sgCBwHV+oH0XPQU+uX7aPgd9hD3hvmW9DXvpuqy52fneu9ZAMf/W/fB9in8mQeFB5kDiQYiDp8ayxgpE/oIdQdYEckRLRADBxMJgAzmC0wHYPsB+nn6Gv4O/yX9V/6H/zgCWwFg+5D16POA+Mv7l/qZ+IP4pfko9NDwxOut53/n8Ovh/v4BSPiF9Qf5FwZvCFUFbwSeCcUY3Rg+FDIJggSoDfURxhSACZYHRAoeC9gK1PyY+Z76Mf9fAkz+yv0//CIAGwIB/ez3qPOs9zz89voN+fX2K/it9YPxWO106annZOmg+qEDVftt9D32SALACXEF1gHiBqMT5hnsFLgLygNKCuESfhS9DGUGTgqGDLsKPP9v+Af6hf24AXf/J/3q/Bz/mwBD/S74CPTX9nr8hPy5+iz5IvmP94Txe+1t61nq/ejW848Czf1E9qP0LPxHBvAFUANxBOMPdhc9FrcP1wSxB54ONhRxEX8JkgqpCzAMBgJE92n4P/5OAhz/uftD+tb+wAHc+1n5cPiF92L9HwFy+5j32feQ9hL2JfQT7rfqH+pd7Vf6GACY9tXy7fYEAGsHkQWzBJwHgxS3FuAQ+AtBBkYOAhJ5Er8MjQsAD8IKWQfU+9b3pft//pkA8fxj/B39Lf7f/TL4qPjG+X77Q/8a++n5NPo5+gj3SvEA8I3s4utx7L/y9vsH+0H5u/aR97H/oARICb8IEwsDEfIQqhIVDo8LUQr/DGoSdxAkD7kHxwQlAyv/l/0F+k/9Bv83/5H/Pfx3/Ln7n/ol+0z78/0k/5L8y/s9+9v5RPeM8uXt1u1t78fupvE/9Ur8Yv0B9nr01/j1BMMOJAwVB3AH3Q0sFW0TLAs3BiEKTRGjFMoRtAqvBjQDVwEYACz/2gA1/x79lPyS/cIAO//M+WD2Ovda/T//ff1Z+Yj1Zvi991L20/FM7jTvZe6082f5xwDnAHH4Ava09Y0BrAsXDHYKmwHYA8oINwzEDtoIAwkECEMJ7QtBC30NYAgMA7H+M/x7Aa4D8AWvBTYA6f0t+4b7hvzF/MP+Y/35/T77lfkE/IT7Of1m/OD6qvmP+NT6Wf2J/xoAxv+e/Xj7uPoT/BD/7/9AANn/Rv+i/ar8iP5BAGkC4QMiBUAGvgT1AqgCnAO6BGUFvAbQBtoF1QT9AtQCsgKPAsID7APeA5ICowLsAicB6QEpAwwF0wMMAZX/Tf1o/fH8rf0Q/ZP6s/mm+CX5w/k++p/7YPuE+hn5zPd3+X36T/wg/r3/RQFCAAYA/P8bAOAAwALoBAgFRQSjA9UCnALDAqkErAa0Bo4GGwaLBQID9QFqA8YEcgX0A+sCDQHJ/7oAdACgANEAIwA+//b9h/2f/KL7zfst/AX8bfu6+y/8RPyP/EX9Nv6C/WD8bvwp/Fr8U/1p/2QBngDe/7j/0f8IALoAwQJmAzoE1gSPBIwD+AK9BAsFDQVjBMEDtgPIAiQCygAKAWACUgNbAcL+3f53/w0CSwXlA4P/ufsT+h78fP4iAHMA/v9e/Y76Ufpu+7n9oP6m/hz9u/q9+P73/fgT/GP/LAHBAGz+Uv0V/hsAVQGWA9sFewaKBXYDdgLeAp4FVAg0CRcIXQXUA7MDZgPUAtEB/AA8AZECYQMNAuj+2ftW+l39SgHsAOL+vfqH9pbzAfGV8Ffzk/WR+UP8lfnc9sLz6fY6/Nz/hQPGAiIDwAQjBhYINAgpCuULDAy3C74JLgobC0ULBwjeAkAAnAGeBccG0QSOAC/+nP7M/1oAef8O/n39p/2D/ZX9Pv7c/rL8T/kq9hf1+vRf81vwbewk66fuL/ne//r9JPlp9CT6/wRmCz8MugfaByYMvw14DhsNjg4IEM0O/Av+B2YIWglnCJ4CfPxv+8T/XQT7A1EA9PxN/Yf/QAJaAiYCrwF9AZgAGv5Q/qj+wP1q+dDzvu+V7l/v4OxB6pDpa/Eg/IX9VfqJ9bH4vQOdC0wOvQmnB3ANxxCsELUMAA3VEPsRJg/MCFEH2gdMCaYEy/0N+t781AOXBNEAQvw//Z4APwPVAaD/mf5y/l3+GfxL+sf6QPpU9n3xrexe7Ers/OuW6nLuz/fo+1b8B/j++BQDVQubDt0LmAcaC4AP1BFgELsNGA/qEEsRhguxB/EGqghTBtX/ffyo/BQCMgTNAbj8Sfuy/qEDYQPz/4H+Rv0f/Sj7yPnr+Fn4d/bt8qvuxOyH6xzrEumQ6r30xPmL+9n4Tfh+Aa4Klw80DrkIKgoVEM0S4BGYDtwPsRKCEwUQyQuVCboJpwhjAnj8Qvom/uwBNgEk/QT8vf4LAwAFfwFC/tz7/fsi+0r55PiA+Nb2tPNJ7+Lrc+pI6DDnWuZy7YX2YPlP+P72I/60COwNoQ63C8MKehGRFFgUNBC5DnoSVxUGFPcNCAwfC6AK+gMP/bb5VftM/9X+Lfx8+nD+dQQ/B2UCyv9L/fv8TPwZ+O31JPU+9fbxzu7L6gzq4OeR5XDjP+g88qz1wfZu9CP6bQZ3D68Q/w1WC/YRLxgsFgMSSQ6jET0UkhQwD2cM3wqJCksGYv4Q/MX88f8b/fH5Rvk5/mIEFwXHAUH/pf5j/xb+YvnU9kX1EfMt79Hr1ejh6CHnHOUc44XnrPOY9/z1lvIM+AkHChBIEI4MMwsYE1kb/xmUEiwNGQ9EFGkUIg7FCm4KkQo7Bm7/8P25/7oAcP0q+b/44v6KBQoFZ/+7/ZIAfANVAcv5ovWg9Qr1rvEY7rjppOlS6Irk5+KR5D7xiPfa9MryPfZOBakRpBB6Ca4HSxGEHbMczBKXDEUOthOAFe0PDwq7CCkJjgecAQn/PAHNAaD8HPiL+ez/awVFAlH9TP52BCYIaQTw+3v3F/mf+U717e7r6s/pl+og55rjVOK56DT0cPRe8sPyL/t/CioQLgxLCdgNVRgwHpMXSA/pDfcRPRR3EVMMTAoSC7kJZwXOAX8CVwJn/kj5ffn1/c4C+QL7/un9TgOBCG4FQv+X+Wn6XPzj+Ifys+1+7H7rvelb5MvhcOJG6STypvIP9Iz1n/1wC4wPYQyMCwwRNRkvHM0VnRDxD8cQPRJiEOAMXAp6CkwJ9QRMA4QE1gIQ/TL5cPsfAGACAwA//Qn/ZgTRBlECCP1d+kb7r/o79+TyJe9E7bLqVekY5B/iHuOh6ITxs/Ig9v33Rv/fC0EQpg7SDewRcRh4GhAUQRCuD5gPBhD0DkANnAseClgHagRxAxAELAJy/ZX7zf2wAPEB2v6++zD9WgJ5BLkAsv2e/En+rf0S+M3zE/Cj7V/r3+iq5drireIm5XruGvM99Zz2SvuBCSYQmw+/DVMPNxZsG2gXWhH5DhsOog++Dp8LgwmPCBIHtATTBM8GFAX4ADX9Iv7OAesCHAB3/JT87gC8BO4AYv2w+1v8IP7R+Qn1mPBP7xHtWekR5iHivuIC4wTrBPEW8n/0uviLB6wPzg12C0cO7BV3G/wYmBIwD4QNCQ5/Db4KvwhcCOUGUgU5BhMJcAhfA4L/1ACCBAsFigFM/d78TQF+A47+6foF++j7xvyz+d31mPMk8QPvP+s759HjC+Uc5Mrmy+3y7jPygvMZ/mILow0HDUIOlhMQGj4b2xSBENUN+wu6DJILHAr4CDcGvQQ3BYcI+AhZBUwCnwJGB+oIfgUcANj9uv9EAvL+e/k2+Sz6nPpC+Un2aPUv89fve+za6YvnjeVl5OzjlOrd7qzw/PAs96sGpg1BDTML2Q3nFHEZwBZLEsQPPA0NDXIMdAp5CE0FBwNUBCUIggo5B0cEawUWCVsLtAdlAtEAXwGGAksAKfpU+cn6ivl39zr1rfRj9BHxVu257KXrdOkC6JDkzufq7xzyaPKG8Yn6EAkiDeUKIAm1Cy8SoRVlEpgP9AsSCLoHOQnMCXUIiAWJBD4ItgybDRkJYAdsCbgMYA39B2MEigPHAusB4v1W+db5c/qF99P1SvWS9UP0/+/U7ULuP+796lrpV+c57Db0iPR99GrzIv0JCX0JkAXeA54HsA3PD9wKxwa0AmkBnAWDCYcKNAi9BZoHlA5JEgAQNQsmC0kQOBHvDRkIpgXcBnAE0gCy/PL6xvzg+hj2hvTX9kX4W/UJ8TXwPfIS8t3uDexe6WrtO/Vu90f3NfJs9QYBSgWwA+r+6P38AqoGVATIAIv+Xf9XBVkJaAgxBskFTgrjDxMTCBILEKMRQxSPFFIR4Ax3CrgK4gbqAp8Adv8mAK/9F/na9z/6Z/oI+Xr07fMr9WTzb/BI7XvsKe3v8gzzMvEK7vrtd/gI//r94vhP+Gz86AFbAkb/Bf2p+2f/wAQnB9UG5QY4Cv8PUxPEFFgTxBNuFocWyRW7E6wRgw/eCxsHYgX1A6QCHwHq/CP7wvwF/sP72veG9Wb2hPVZ87jvne2P7GHrg++N7qXsqOlw66j1Kfod+FH0vfYJ+2//x/7u+6/8ov2hAjgG0Af3CB4Ktg3jEZEVOBffFukWKRgkGHUXpBVlEbcO2AswCX0HBgXrAwsBw/zf+0H+BP5V+vL3KPez93T13vCp7Rbr/+i/6Ybr/eqI6ufnNutM9LL3QvaM81/1E/scAGoAc//a/3UAbAXkCDYJAArnCu8OaBKdFGEW+xWpFfMV/BadFrsUCxLDDt0LlQkqCC0HuQSAAC7+hv5ZAIH+ZvoF+J/2/vaz887vnuzF6jXpGegD6mvp9em35jPp4PIZ92b3WPXP99r8kQHUAfb/FQDWAPkEEQh9CFMJPArYDFcPCRKjFEgUExWkFVUWWRdUFW4SIBAZDfcKXglqB30GRAPE/4T/dv/+/fX6WPjs97z21vNc8KDtNuxM6TrmsefX6Tjq5uYS5irwP/kc+pr2GPYD+yMCWwSbAUgA4P8zA8IGWwfGB74IqApfDX8QgBOGFEkU3xStFLwVCBf1FG8SNQ4lC4wLHgphCKoEDgAc/y4BUQE6/V75rfdk93P0kvDz7Tjr7+g55ZPlH+lw6vbohuXZ61r37PtX+vP3svqkAGoESAIUANb/+AASBacFlAVhBloH0QrkDEQQNBM7FNIVahWpFXwXGBf7FMgRhg1RDNkMDQuiB7MCwf9nAYAAh/x0+dD3R/cs9Z/wp+2J7H3qHOfm42nn9OuF7Bbo7+cV8y/8+fzR9wX3wPy8A34EWQB3/e78RwAEAncCIQMHBaQIZwu4DpsSPRSPFUgXyxbIF5MZmRiVFd0PHQwXDVAMRwhNAwX/a/8zAaH+dPpM+Nb3ZPYi84nvUe+I7l3qLeYX5fbqK+7V65/nRupa9vz8Xvv09q33Dv5WAkcAuPw9/KP9HgBVASsCQQTVBiEKrwzRD2UUQBfaGFsYxRZNGIEaUBfmEQoN2AofDU4L5wVyAcv+LgA3AID8GvqY+kb6v/dE9K3xbfEt7g3qauY05m/sie7v6gPmdepA94X99vmo9Gf38v7RAiz/4vqp+qr8+P9pAcACEQb4CCALSQ0nEHAUyhfLGD8Y0BbEFwgaqRZXEK4L1QoQDC0JjQSfAdwAeAE3ANr8APz+/N77XPjh9Cv0w/Oc7zHpUeXv5SvrXe0A6hDnGuoR9eX7VfnK9Dz29PxkACH+3PtY/e3+Qv+0/5cBEgaQCdMKKQyjDxwVqRgrGVsWrRT1FgQZhhZLEEwLQAqSC98ICQSAAUUBgwLaAUUA3f/w/8z9VPlK9v/0Y/T48DvrUOf65cnocuu86Vjm+eab73j45fny9ob2JvtC/+3+Kf2I/Tn+mP5l/4cBwwXDCCMJiQkCDS4SixaEF+cV7xRWFUQXLhZ+Ef8M9gqHCxgLewjkBbkEFwS0AyQCkACmAI//jPzy94r1HPTG8AHsCueC5X3l8uj06qDpOOi46R3zI/qi+iH4ifgY/WUAWABj/uv8HfzU/FX/cQIaBV8HZghqC1EPTBOdFlkWYxV1FJcVpRcVFrwQKQzBC/gMVAtxB7kEAASJBNYDhAEkAMn/nP3H+RH2BfR98rPuZeoN6OjlXOf46mTrxupm6KntUPim+wr5fPaC+W3+0v/e/Wr8XPxQ/KT9w/+LAsEFHwdLCcgM9BDkFPgVdBXbE0AUqRWIFZ0SBg6MDMAMjgseCVAH6gV4BYwEngI1AZAAof+w/GT4/PUH9ZLyLe/H6SjnF+ZY6N3rHuuE6njqF/Gn+IL6Efn09236ZP37/Ur9If1k/Mn7pPz8/+kCSwWQBvsI9Q1JEScUmBRyE6sS+hOoFfkUDRIhDn8NhQ2pCx0J6QZtBZgFiwSVAswBFQEiAJX8PvkO9/b0NPLT7UXqxudM5jboleoz61/rs+sV8Rr4ePpA+RP4zPkp/aP+7Pxd+9/6GPwN/nX/wQGjBGsHrAk3DG8PehMuFhsVkxLPE7oVoRWAEiQNlw1jDaUMZgwwB94EwAVuBLEDMQQTAqn/a/wo+If1i/Km77jr0ugd5wDkF+bK6vjsYet+60PyLvlM/bT8ZPub/AQAQwFU/0L+HP2e/d//XwK3BLkGGAhbCvUNhxEsFDcVCBPdD2IQ1BK0Ew8PyAjbB8YIaQdaBrUEjAMhBcME+AIQAQ4AQ/1l+cn28/Nd8WPswOcu5OHioeII5bjrM/Fx88vykPc0AJUF0QXrAxIGdQrxCjoIUgUjAtwBlgN+BWYHAwl2CZcJzQk/C70O7w+iDocKTwkcDWINvwi1AqsAxwKCAmT/cf1S/az+h/6j/B79ev0K/D34uvRC8znx9u5P6z7oQeZX5ovmpep48Uj0ffeW+s8ClgzoDtwMvgtGDaAQKxHDDRsJzgRaA3ADwgM6A/ADOQW3BUgFGga1CI8KQQg8A8wDSgi/CR8FNwCHAc0FTQWzAmgCOgPOAyYBSP8vAAb/DPs99k3zzPGw71/slej55lzlj+Xg5djpJ/JC9jL6Q/0nBBsONRIqEs4RKBQ+F4sWNhKnC70FKgNEAtUAcv5Z/R39kv7d/fH9pwKHBR8F1gFPAnMIAAxKCJgE/gXMCVcKlwaxBVMGVwVLAqn/nv+V/jL69fRq8kfxA+/V6ljmBOWd4+riQOTQ5+LwffeP/MYAXQW1D9AWvRfvFhcXSRg9F+IRKQpkA3//dv2s+zH5cPfQ9875A/s9/IwAfAQcBoAFEgZXCp8OLA3+CRgKggtCDEgIiQbYBmoEMgKE/6v+D/5O+evznPGH8IHuVeql5q3loeVj5KTkcOay7Kr3hf0yAcIDcwrVFcIa+hkTGBoYrhYIEbkJOwNq/gz7sff89Zf15vVR+Nj6dv2xAcQFPAh5CZEIsAqhDjwQUQ0ICcQKKAxHCmEHbQWYBeYD6gDK/pP8lPoM95DzrPHu7xjulusF6abn5+bP5J/laOeB7rz5rv6XAowFawwIF6wajhi3FooVphJkDOoE8P/c+/v3IvWo9Nz19Pex+nz+0QEUBb4ImwpnC8wJRQsUDwsQZQzPB2QJMApaCE0GVgT5A3gCpv8q/wD+sfsb+C/07/Ps8lzwK+yk6a3oMOjf5TrlLuhg7PT3u/4ZAp4FrAkOFDUZehcGFZoTwRBECuEDAAC0/GP52vV89B72mfhB/LAA3QMxBqYJYgsYDHwKTAmwDNkNKQuzBpUGrAn5CKcGjAWtBVkE9wAD/2X/hv0++T/1L/Q09E/xbe7U64PqIemj5uHlyOYz6bvwN/vaAO8DyQbNDeAWBBmOFh4UihH8C8kFIAJI/zH7fPZa9Lr2dfl7+97/GwQcBiMH0Qh0C/ELmQi6CEMMDg0wCxoHtgjiCvAHLgfqBSUFhwOc/wz/5v7b+7H4xfVy9dTzkfDw7szsiOtY6KHlnOST5ijpP/D++mz/sANWB3MOjBeDGWgX+BSlEWYMCgfVAoX+KPoS9rbzHfYa+BH7IAAqBBAGwgaeCZkL2gwGCh0KnA75DXgLTgdmCHwKLgfABYsEoAOrAmD/7/5Q/z38QflZ9p/1afS38MjtUetv6cLn4uQX4x/lLejj8QD97gE9Bn4JkRBxGSIbahj0FNkPjQkABKYAGf1r+Lrz/vHS9YL5O/09AjMG0QfXCGgLZgwMDEwINQihDG0LlwkVB9oH6QrJB98GgQalBLkDBgB0/7b/NPxV+U32kfXH9NzwHO696+Tp8uf75IHjJuW/6CLxCvwcAS0FHwmPDqsW7hhZF90TiQ47CdED3gAJ/uH5uPWX80n3H/vx/eMBlQURCLwIYgoRC+4K7geKBnQK4Qp2CZwHQQiJC2YK+ggXCSsHawUWAqD/0v8J/e/5uPYI9XH0xvEk78zsHuuF6cHm0+Sy5HDlRetE9Vb+BgMZBoYKnxBwF74YYRZhEpQMDge9A38BBv4j+ZT0BfVN+X77r/1KAg8Fqwb7Bk4JVQu8CWcIaQjRDEcNrQrKCqALYA2sC04JWQiWBYACH/8K/fP8h/pk+OT2UfXx88HxOfAh7tbrVukf58jlPOSq5Gfqy/Ts/XQClAZFC+oQZBdyGeoXvBOLDHMGMwOpAO38jffj8ivzMvcQ+h79aQLlBfoH9QhBCzYNfAyLC+UKjg6DDtoMSwx8C3IM8gl9B4UFXAJa/w79nPsV+wv5VPhb+FT3cvWt8jjyuPBV7mnraegD56fltOMJ6Dbx0/mrAHQEpgnYDckSMxfbF64Vnw7BByEEHQKC/436LPUD9N726fo8/oMBQAUJCB8KlwsrDbEMEQxWC3AMcQ4ADQEMDgpECfMIMAflBI4BQv5V/BP8yvuF+gH5s/ko+sn5EvcZ9QH0L/Fn7h3qv+fF5W3jk+E956bxTfqOAhYGBgtgD9ATgxk6GlAWew7PB28EdAEw/oD52/Qf9J32K/xoAIYDJQdrCbkL2gxoDSAMuApgCQMJYQtrCgQJPQfmBfMGnAVQA8UAXv5q/RD9g/xb/Jv7yvtS+7n6Bfr59l/0LfDY7aDrbOgy5ovjF+OV5abug/jCAAcHwQleDqES5Rc1G0UY3BGYCX0EXAIW/9r7nvZV8xb2NfuKAHECFgWZCEQKfQscC8YK5Qf9BVIG1AeiCiQISQfMBiQGWAdPBfoD7ADJ/OP7VPwr/XD8KfpP+9H8Of30+lX35fU98lbvcOzt6Rbp/uXe5H3nPe8O+cT/LAZZCeYMKBFlFPkXfxU2EMkJAwSdASz+Cfy9+YH2Svdj+1IBzQNBBM8G5wisCe0H/QX7BOkEegRMBHEHmwh5COIH/AZQCPsGYgTaAWT+afyB/Kj9//0F/S39Uv/iACn/Tvtj+Sn3D/Qu8ezszeus6gnn6uY86bLw2Pgc/jcEBwflCcYMzw+iE/gSbg+vChAH3wQ9AlcA+fyw+Ar4Dfvl/jj/mP5iAbwENAW1A/YDvASSBiUHigcUDOEMzgvACscIHwnPBksDGQFU/gT9Dv6e/44A6f/TADoDEwSKAU/8B/qM9uHy8O7+6Wjo0uYo5PrjyuhM7q72eP2XAtIH3QlfDbAQLxQcFbgSGA6ZCIcEaAE2/+z8Uvjg9PD2kfsY/gz9U/96A4EFngUCBZ8G+gfPCNsI7gp2DVsLVAr9CNYHHAieBe8DBQLi/uj+MAA1AdwAdf9pAFsBoABF/M74qfZu83nwbuwP6pnp3ufn5CfnqunA7pb39PzQA2wH8AmXDuoRxhVMFjgTPA5NCAgF7QFv/1T8YPa382v19vlE/Gz8w/8vAyMFnwWFBUsGhQfGCC8J7AvRDYwNEQ4OC54JGwlqBnEEXgB+/fH94v6D/87+2/54ANABzwD6/Gb6/PfI9Fnxkuz76bXoIear5bzm5unf7ZP0qfxlAosIWwuGD0MTOBbUGHYWkRHDCRkETQGJ/VT6tvRg7/zwGfUc+er6Nv1JAfcDQAZDByUJ3ApGDD8OrQ63EB4Q0A6sDQ0JtAeaBWMDuQAo/GT7fP2r/x0Ao//5AIQCvAKWABf8zfmg9lDzO/BX68Xosuc25krnlujr6VXuBPUO/fMDoAknDQ0R3hPwFYEXyxStDg4GBABw/Gz43/Sx74XrKO6K9bn8sf/fAt8HUwvbDXEN/gylDlYOUg4uDhkOuw6oDPMJ6AWpA0wCYAAP/jP7uPsb/scAjQK4AvkD2gUCBeoCdv6l+lL3pvJF7n3pwuY55tDlE+dX6vXrKe508Ab4iAFhB7sLGQ34DxkSjhMCEmYNswe6ADb99fkk9vf0y/Ft8AP22v2wBN8G8wjEC0oOnQ8iDgoNtgvrCzQM2AuWC+0J9ginBuwCdgGNAJAAA/+0/Pv+IgOMBgcHqgXRBdcF0QPv/o75ZPVT8RzuXuq75wvm3+U75wrpguvg62btpe9F95MA5QY2DNsNABG+E+wUkhMEDlMH3AFJ/lv6SPZc9GjyHfPh+IAA4wYDCTYK/QuSDY4Ocw2HC4QKMQq4DCIMAgswCYsG1AaaAgMBSQCkAFMBwP8BAZgDDgeWB9AEwAKjAar/qPzM9ZvxCO+57D/syOjp6AvpaeuQ7cLue/Bb7wPyRvXJ/lYHUgsaDgwOGRD0ENMOBQqCBGwA6v11+nX3PPY9+Nf30fniAF8GMQtjCrgJ+wqXDEoNsgvbCeMIJQsvDFYLeAmPBgUGVgQsAXMAnQAsAtwB3f/eAJ8DMQWUAkv/4/0N/vn9Xvot96T1PvR/9NTygfA475HtxO3P7GXtNezW6+/twfMRAEEGJwpuC30MKQ9BD0IMBgeMBMEBQf8V/LX4B/v6+xD5LvzOAXAINAuLCMgIWAv5DXcO5gueCBQIgAlSCgUI4wRxAscCEgKM/1H/CwBmAuwBEwGYAikF1gYTBTwDzAIkA4gCcP8e+zj4L/aJ9KvyF+6z6ovoKujB6AfqJ+xo7V3wsvRm/nkG3ArIDLQMEw/LD5gNgQjxBLICwADx/k77Nvp6+3D6yvtc/9sDlQiMCFII+AnuCx0N2gtfCDcGMgbJBm4GSARzAegAkAG0AScCQQLlAz4FQAbrBqgHtwijCD0H0QThAtcBlv8a+/r1CfJd8Kvup+vW5y7meeZz6QPrmuy87sLuKPIF+D8D3wpODbkOPA/uEJkPyAtNBiEDnAEiADf9x/jv90H68/rN/IEAtwSqCQUKHQoXC5UMIw3cCkgH3gQ+BXEEvQU7BHoDigRIBBsGrgWXBXkG+AdSCKwIwge6BsQG9QROAXT+APw++Qn4ufK88K7vx+207DfpVee9557p4uq57zvxoPKb9f33NQEsCpwObw/jDhMN6QyOCqQD3QBnAIv/I//X+oz4Av24/uz/lQGtA5sJ5QzcC/cLfAy2DLEMVQjwA9MCtwM2BQkFVQIeAu0EXQapBlQFswWrB+gIFAh8Bt8E4QP1ArP/5vuB+bb4r/cn9fDxnfEY8kTxMe1O6nro9eqa7gbwoPOU8cLzM/Ta+r8HvwyQDjsMSgxmC44KpwXQAesCSwL7Aun/k/oN/Ez/LP96/6n/gQWrC6ULswrYCkoLLgsqCYUDHwE8AQID3AasBZQE8AXjBbcFlAMuAoAExAa9BwMILwf6BCAEFgLk/a/76fnx+k37Gvej9D3znfFx76rr9+hC6S7sm+9U9PX0BPPx8wz0n/mkBCkMsQ5XDh4MiQsXC2MGWgOzAsIA+ADe/oH5RvpO/Cf95/4KAGEF3wsgDWIMdQvVCQIKSAg9BAYCNAJMBRII8AbwA+kDMARQBNMDvgMvB0MKyQvXCt0HWgRVAgYA2Pyj+tb5gPpi+mD3APRt8uvwk+/D7DbqVenp6xnwfvLx887yJ/Eq8Af0jQFODigTpBHADecKfAhGBcH/6/7lAKQCKAOV/f/5lvw1/93/KQF9BR8N4hFmEJ8NfwpmCGAHnwPD/9r/kALKBKsHLQUPA8UCCgFAAz4E+wZYCjINtwxwCR4E7P2i/Mb7K/v0+/f7VPzr+5P2hvLu7pLsM+3h7ODr8erM7UTygPWz85rwwvDg8Qr65wjlErETOQ8YCwwJOwabApICYwV8BuYHngQF/OD4yvmC+4P90v9xB3QP+A99DLUIUgUbBKwCjACJACYClQYcCX4GtAKwAfgDAQYiCBoKpgxfDYwLFAfR/5n7tfrV+8P83/ze/T/+vfuV9zLz7fA08bzxDPFj7kjsk+t67ubx1PNH9A7ybPF98oL68Ap4FqIWQRC0CK4EqARYBDcE7QXjBmQHlwL59TDvYfFM95n+EATfCvMRIRLhDbEIaAMgBIoHNQmZCLUHLwdqB78EPP2k+7z8/wEKCMQJvgqwCaUHVQRvAcD9pv4fA9AEoQMi/xj6IviX9GjwrvAp8SLzuPPo7gfrQepP7ZLz/vXm9iH2FPOu8Gb5Igx9FGUTFAxiBPcBBgNTBCgEewSuBuwJKgG18hzwwvhRAgEIAQ3AERATsg5zCDwBrvzyABwImgihBK4BDQLYAf/8m/qe/XUE2wsxEGsPTgyYCuQJ2AcgBNwCeATXBEUAsfrb9f7y7PJJ867ztPO99Pb0SfHL7H3qgu3Z8m31zvjC+Ij22PB17J7w3f2kEXIZcRViCST/Q/4jAoUGfQhSDXsPggoK/CfuC+2U930E/QqRDaMM2ArrBRb+o/ov//QJSBFREPcJEQTeAFH/sv3K/tQF0w2aEbYNBAbuAFoAJwKYAhECvwL7Aw0BS/pj9YT1IPke/Ez8Dfo89530X/Gk7o3sfu3N8Gfz0/Y590726/O27Urrue/d/j4T1Bl+EbwFffyS+y0EFgyqD3ESzBDNBm/1ceiI7GP8ugmcD6EOMwpnBnIBjf0JAAIIrxKOGH8Oqv4p+Jv3lfx6AvkIEhEiDi8HlQFr/tX/xAMdCrILfwhhAXD6o/aF9pH6vv/RAf7/Qvxb9U3xLPAH83f2kfRG8k3t8+ri7ajxMfTe9bfzDe9U8tH+kRAaGBUTOwi6/8EAygcoDqwO0A5kCugAXPTN7CbySv82C9UMvAhMAyIBxADZAO0FHw5sFcYUigl6/YT6Kf5fA9EF8QVcBl0E+//M+6T7mwGFCScNego1BJr/PP71/Sb+kv9nAaMA4Pvg9AXwRPFS9Qb3ffUp8qPw+u3g7CXvY/Ww+9H7WveR7TPrh/SpCVYY4RUiDrsB3PmG/OoIZxCnEmkQcwaH+aLtN/DV+1gIIQ9RDREGxf58/ef9+QLjCjMSRxO2CeL+8PgW/LQDdAmyCi8InAQ2ACP9gvwyAS8ICQzlCe8C0/20/bX/iAFGAqoCzQAV+6n13PEW8+P2GfpU+SPzL+8V8Gzw+fKT+SD9avy79vXxXOw87UP3mghhFcMQkwgg+ELy/vxvDC0XLBX/EH0FXPh+8ML0GwN1EB4UmQnF/Qz5F/sJ/yYFowy/EF4OOwWU+i74IwAiCssOKAyzBmcAyvrP+QD/iwUPDJ8M9gTo/fj6//59BEMH0AeOBJL+6fj99Hb0AvgG+rr4FPSe75/tKe6W8EDyZvUs9zX4NPXE7wbu2e1m9nkE5Q55EZ8JD/1f99IA9RGeG0IZthGaCG8Asfo3+E79OAeGDboHPfob8qLzYPtuA38HIgkGCpwHXALd/RsBzQopE5ISrAmMAUb+/gCfAmAEEAYXBvEEtP72+dn4E/7tBNAGdQOx/Yj6Vvl8+bz4yvkB+r34JvVY8Obua++Z8kr0tPWN9bP05PQM9Przo/R890f/rwnmDhwMRgIg/OcAhQ10FhEUlAxbBQcCWv5V+qj6TAFmCi4LFALU+Nz3Iv4GBNwERgQwBTEGGAM3/cL6kP7HBVIIyQVBATf/1P8SANMAcQL9BCYFNgMeAEP+Zv9wAesBXQEAAMH7sPpL/Ij9fgAVAdH/DAB4ALICHQVRABD/+AEQA4UIyAQAAOz/fP2xABUBbP4D/iX8n/ze+6v43vlU+8f9ef5n/Eb8Fvz7/V7/E/4B/pb+2f6n/pn89/tN/a3+NwCdALcAuQFqAmkCfAIXAzoE6gPwApQC8wG2Ar0ChwLoA9ADGwRyA7YBQQFTANoA6QC2ADYBJACw/0//IP8m/yb/4v8+AUUC4gFiABgA8wG9AgwCKP++/T3+Rf67/f377/xM/On8uf4D/T3+zv7M/0IAgP42/7b+Of1J+0D6vPpB/FD9Zfyf+zn6JvrI+8T95v9/ADoA8v/J//T/OACyAUkEbQbsBnMFQgPJAsACeQL+AlMCkwKSARkAeQBG/6IAggLHAuwCUQGJAXYBbgEyA2gDUAMsA0AD8wSmBL//Uf1h/poBMAWvBJoACv1e/nMA/QKNA+oC1AK4ACD+APpy+bL7nvxm/J75EPZR81HzxvWY9r31RPSI8hbzhvaS/NABfgAg/F35v/zwA7oHVglRCFIH+gXdAtUAegJZCD4MtgnWAl/9NP1s/9X/DP/2/msAsP/0+5D5d/uAAYAGygaqBMwDYAW/B68IZglPCngKIwjqAygB3wASAtAB+/4c+7v4HPgr+HP4uPhi+cn4Gfcy9qT2k/iE+rP7XPqb93j1hvVb90v4kvh59UrxqfGM+j4Gdgp/BGD8jv0hCHQTOhaoEWYLAgkABzQDoQG3BFQLsQraAPz1lPM6+/QCagMxACD/ogCGAJr/vQIdCmkQUQ+sCNQDiAVLCl4MDgq9BgkEKAKY/y/9xP6lAhEFbAHg+zn5UPsF/9n/Z/6i+yb5pPa49bb1nvcE+VH4Q/Yd8xL0Hvc7+lf68/Z99M/ysvcPAkQLwgw/BJT80/tGBjUSjxbTEjEJEQP6/qL+ngC6BJMJyQaO/d/z1vKR+t0CcAXLAswABQBsAKsBHgUQCzQOkAxNBggCYwPsB4sLMArgBqYCu//h/rX/tQKjBEMEj/+I+cX2X/hw/D7+L/0++p33PPYW9+P4EPtk+2z5SPdQ9N/zW/Xd+Ar5vvXZ8nfyM/b7/GMGXwktBZT9mPtaA78PcBhLFkQMrwF8/kIAUwNSBvUI1gfW//v05fB29xgCkAdmBAP/UfyW/XkABwWICrwOZA7mCOMDFgOiBwAMKQwJCIoCdv7R/Hb+xQClAoYB7fya92b1g/ii/fIAiQB0/fb59/Z69jj40/pC++L4o/Yg9Gzzb/Tq9835jfi39Lfwy/Hl9sP+IQXtCOQHzQP0AFUCFQnnERMULA31AuH8Zv57AioFaANyAcT+O/oP9/742/8VBWEFCgEC/i0AXAXFCQgMKAymCaoFwgKMAoAFLQkYCZ0ETv9n/P78/f/TAvYCIAG+/Zz6N/pU/Fn/3f/O/Xr5RvYz9hn5j/vX+wT6PvbL9Jv0ofUN+BX8BPzV9/n1wvaU9kz1Yvjy/u4FLAhDA4L6OvkFBPEQ6xRRDaoEuQHKAaMBeQJtBaYHzwXC/mn3sPft/3gG7gUBAlf/9v/hAs8F6gaZCMIJAwelAmwBUgShB+QHBwQ+/3v9S//uAWkDcAO0AkQBfP+V/qT/ZQE1AQL/PPuz+Jz4cPkb+nv5OfgA94D2zvZc+fv8VPzl+IL30fgX+gb8l/qx9a/0h/d/+2D/SgMXAu//+AAFBIUKmBBEEBsKrgVsAzMD6QRMBWEEAwSqAQL9p/tT/ygDJQRHAlX/dv+bAh8FkAVJBrIG3AUsBCADdgSeB+YIHAYYAq7/HABvApIDtQEH/x39+PvU+8L8OP2C/R7+Hf3q+l764fsv/ez9Q/3s+h35jvk2+un6H/w2+8D4xvZe9eD0T/b/94H3H/Zl+Mz+6gXXBnQCWACJA34KARAVEtMO6giBBKIC7AGpAgoFQQVcATX8c/se/+wDCgWUA1YCiQEEAq0CvQQhB94H0wVpAqcAhgFMBBcGAAWDAhABUwCyAJMBbgJ5At8AeP6b/Dr9bf5g/gL9Rvs3+mX6B/s9+xH8hfyk++v6wfoy+2f8TP1r/uH9OvtP+Qv7Vfzg9yr12fVQ9T73pf82BsYDWQD2/3gACQZPDfYPcg7lCIoDAQLgAlYDMgRyBPAAOv0c/e//5ATHBwYFtAHbAOQBbgRZB7MHZAXkArv/5f1lAOoEVQfOBcIBp/7F/oEBjwOiA4QBO/7C+wv7gPvg/Hj+wv7C/dP7xfoZ/Cb/3v+k/dD8o/w9+Zf3C/sT/a778fkA+fL3WPmi/BT9fvos+Hf4Cvmy+i4AFQasBTAAC/3I/rgFEg1rDogINwLmAh0FtASrBPEEfwTjAcr+7v4KAjAGuwYmA8r/Pf/SAT8E7QQyBJsCWwEIAE7/EgHiA6sEKQJS/q78Z/2m/7gBGQFX/1L+Zv4L/1v/0v83AHH/W/1N/GL91P7f/s785fmw+Mf4Mfr0/RD/XPy7+mX6ZfgS+Yb9gf2u+iv41PQ984P26/yYAikFOALf/nf/zwOICoIO4AyaCOEFFAOXAWEDhwRJBNYBBP3Y+sX9GQIEBBQDNgFVACEBIQNUBGgFvAWXAx4BTf+bAJMDvQTKA8EBKQEfAfcBRgL/ALP/kf5o/vD+dv7Z/AP8sfwM/Hv6bfyV/Cj7+f3o/878n/kL+g/7If1B/mH8QfuY+S/36Pjy+gf6LPn39obzgfSv+iUAqARbBSAAK/95BQoKAwwsDXIJywJMALkBYAJaA1QCtADi/hL8Wf5LAuEE7QXsBAwDtAEWA2AFpAYQB9AFZwOmAa8BpgLxAi4CTwD+/oj/IgEvASj/+/zC+wz88vxI/nv/BwCW/+P8ovtV/YX/mgDH/wv9SvmC+Ib62fxM/jT9JPvC+QP5g/pP/igBFv5f+Az3fvaC9vD5e/2U/oH/pQBBAE0BEgMJB9ELfAoEB4cEYQMWA7IDVQQoAp8A9v7k/cL/UQI2BQoFrQKYAmIDcwX6BucF8gNYAm0CfAJVAkkCsQAe/yf+Nf4AAJUBJgIdAIz9Mf2z/Xv+bP95/xv/C/+c/Yv8sP5lAEf/Pf9y/pT7MvsE/SD9p/zR+xD70/rc+Pj52vuY+jz6dvru9/P2r/pa/Vf/1AAEAdwASQKBBnAIEgfMBDgFmwUCBMwD0QKoAW8BEwGiAHEAQgJcBAsESQMGAx4E/gRsBR0FyAOJA34D4QLYATwCLQNjA64CoQC3/kX/3wABAWkApP+U/cb7ovtN+w/7Nvwx/gf/yP41/aL8df+lALv+NwDLAFH9i/2P/mP7XPow/ev6f/gk+339AP9N/U/4G/c3+tD8TP4j/nf8Pf7/ArEBd/9qAo0GCgl8Bs4CygLVBMgFIwS/ACv/QgGFA6wB+v/1ASMEKwVEBEgDwQNSBQ8G1QSMA28DWwTSAxUC3wFKArEBVABn/2f/0P9rAFcA+f7o/kj/a/58/YP8hv6O/2r+v/0Q/uD9Dfvr+oT8gv2e/Mr8Pv5C/JD6J/2H/pT8Wf6vAiP+cfXo+e//Jf2H+1f7FfqP+nr8dQCwADT/jQI+BKgCzQHhBnAHdAMDA3EBKgIVA58BrQBU/6ABJgPNAT8EOAY3B3oG2AUwBiwFvwV6BBsCvQKfA3ICzQC5AC4B2AAfAdn/Nf64ACgCBgDX/jr/KP/r/cf9E/8Q/9b+Jv/r/Un8wvyz/dv7i/sD/dj84fvf99D2kPsAAKUAMvzN+DT6L/6BAGf/Lf0J+tz7mP2W+u/6ufzu/aX9DvwC/pgCAQVKBlsDRQI+BTYG0gVtAuADrQVEBNYCbQE1A2sEdwSNBJ8ELAa3BvIEqwMKBBcGEgYUBO8BKgGkA7QD4QBR/2T/k/+s/lb/rQACAEP/wf7e/V3+AQCK/pP7Z/zP/UH8AfxK/E/72fzE/HL7Nv2a/uL+Bf86/bj7vv41APT7tPoD/Pn5ufm3+pj7LPuy+UD7y/zv/an/WgLPAtQAIQBmAZsBOQPeBV8DWwDC/uEAqwPcBN0EYgSwBsUFMAOkBB8IUgkQCP0F4wPlAroECAY+A/IANgHxAaUAOP9hAE8CZAIrAFP+Tf+xAbQBoQB2/zP/ewD+/6v9rPzz/jr/F/20/Fz9ff0W/Rf9KPwM/MX8bv0y/Yj8vfyH+7n72fpZ/Pz/PP1D+hP4x/cW+pj8F/xi+YX7FfxQ+WX6xf5wA2UCp/98Acj+C/+9BpsImAMLADoCAAZmB9oIpAnYBu8DbQJ8BIsGowaeBYACxf8p/rEAogP8AvsAIACiAAcBiQOFBZ0EJgQrAuz/ggGaA2YCjwERAuD94/qY/jMAgP3R++z8Xvx2+rf87P5w/V799P+v/p768vxMAS7+cvu8/BH7Z/e+98n6Ovvy+b355/g59i/5dv/5/2X6A/oz/mP9hf9wAccB2QIJADr+ZABCApIENgeUAqP/mwMnBnQEgAT3B7EFjwH2AfcDiASQBcEFdQJDAQ0EJgW4A4QClQIQAyICdQG5AXACLAMOAzkBYABzAosDmAIYAjwCmAHnAEoA6f7x/Q7+fv7Z/Cr7Efw1/HL8qfwI/Hb7ifu+/E78o/xf+3H5QPpt+138xPjy93X7Qv5y/PL5mfv++UH+RQRKAKT4pvlAADcAV/6C/gr/If5O/qf+Hf8SAZ8CWwLrAPoBxgGoAvcFBQWVAegDGAj0BcYDQgeCCHwDbQJWBLgD0wF6BNYHVASHAe4CyQMrAVwCjQXBA9wAVQJAA78AXALVAp0A8f+//9H/tf91/439UPzq/B77zPou/uj+BP1w/Cr/eP+a/H/92v79/ar8Xvzg+yn63/tL/gz7JfeK+Vf/qP/O+lL6b/zs/ND7RfuJ/SX9xfwL/nb84/mw/ccEYgHe+Pj97gccAkX8zQNDCagCDQIlCQMFrwJjBiQG9AHkAKkElgRbAlQCPAPpAhQDtgJRAvgEUwfnBJQCqAS/BP4CZgPYAyoBfv/tALAApP7J/q4ABgB1/eH8S/6Y/t/+Tf4k/eT99f0y/YH/xP8V/Tf/CP/m+7f7xf3Y/Bf7ZP2M/A/73fnQ+c/8Zv7x/on9U/vw+4L+Dv3j+kH8rP1J/n3+ZP+m/Pr85wAN/1/+dQDLA48EqAHQ/xD9HQBMBWsEDgSFA58DQgJgAeAFrQcsB1wGPwPd/x8BeAYmBosDAwUNA5f/KwGsA+YDqgRzBKL/F/7+Ah4EXwEzAVcBhv66/Dv/KgCD/08Bhf81+577Qv7h/pv94v4vAHH9sPuH+6j8lf6P/hf9SPsD+/b8bv0v/Pr7PvwL/bT9MPys+f78pAFi/lL7pvze/Fz92gDg/z382P5WAeYAS//V/goCDAIO/oL+qwLBBAYFhwR+AcD+nAJYB4QHXwXCApwCEgIqAf0CJgahB/0COf/vATwCRALnBTEFHgPoAhcBMf5d/kkE9QVDA2UBUADsAAAAYAHyAmwCtgEE/jj6UfpT/k0AZf50/Qn8Ifmx+qj9P/9qAZ3/DPuc9wT6jPw5/PX+U/65/BD7GfmC+4n+swDf/1v9Pvz2+xb+FwFmAHT+U/95AMf9xfuWAgUG/wCHALcCAADx/AYBAgM4/8cAOAXBAjH/RwQqBwsC1gI9BzYFqQJmBWIH7wM/Ao4C9gCiAH4CfQI/AXABlwGHAbUAZABdAeID6APIAOkAyAE4AY4Azv///lb/2P/k/CT7l/36/gn+yP2E/fn7S/zQ/uT+Bv9aAaf/VPt5+kj+JwAD/cn8xP0n+wr6oPrQ+2r8U/0J/s366vmS+5v+EgLXAeL/OP6N/vj/6P+ZAa0EXwLv/q7+rv9bABMCvQOqAQEB8gKNBVkFTALBAjAE/gO5AwIE/wKcAVEDEQRSAlECJAO0Al8BMQHhA/MEJwK+/h//pQFtAxgEvgFDAH0A2gBnAH4AmABC/+v+kv7n/aD9JP8p/yb+w/2a/Yz/+f4f/Zj9hP7c/ZT7aPxp/e76lPot/e3+Fvt5+bn9Df2a/Gj/G/7q+Tz7d/8m/gP+WwE0Arb/6v3s/uz/agGABGoE2gDBAdQDhwEy/ywAnAI0Ax8DsAFNAFwCrwT7BOECdgFXAw0E5QJ0A0cD0QEsAiQCHQBk/y4DtQXZA08CwQF4AdgAuwBsAXwBEAEfAHj+//3t/bn+bwBm/4r9Qf3e/sH+k/1i/g//v/7b/KL7VPsz/F79Gf7K/Yb8Ufyi+4H7j/r3+gz+YAA3/zf8g/0W/zX/rQAzAyMDbQCv/yb/qv06/m0AAf+G/ej/WQG4/3//kQHPAXoDvwZuBiUCcQGqA3gCQAKiBHYEBAFSAk8E1gGVASwDVgITAPYAYgK/AvsCkQGn/4//9wHFA5sD7QFAAAkAcgDU//D+V/9t/x/+XP2n/uH/i/+E/qn+VP4g/hP/kv56/v/+D/9C/i39PPzb/Eb+wvwC/H3+jf2q+ZH6ovyD/Yb+Bf8v/Rb7iP+iA1ECcv+q/Sr/z/97//cA0wEAAhkAeP4B/ov+/wH+Ax4EqwJtAggEvAKCAEkBNwOqA1AEVAOm/yT/zgEHAloBBgN9AwQBTQCDAecB8gIOA1cBfQCTALsBAQOEA0UCwQDc//D9uf35/2oAxv4i/wf/vvyB/PX+T//t/Zz+if6b/N37gfxw/TX9n/yw/OT8JP1i/DP9Hv///rz+AgAi/978Zvx1/lUAD//L/sX+of7W/Bv9wwCHAW0BhQFJAZ//7/8DAp0CDQJaAoQC4wA8APsARgPnAxoDMQIBAvABJgGoAm4EXARTA1MCPwAHANcCYASUA8kCqAKgAEP/n/95AK8AaQCLAMz+MP66/nj/HQBt/1v+lP0W/8b+3f21/hz+Df1l/RP+Dv1//eb++P0M/LH8Pv19/IX9hP7P/gn+hf7Q/vz94P6q/8T/Gf4A/fv9xf6+/+v/Xf9b/qP9Fv9nATMD9QPcAt8A/f99ALkBEgPMA0cDnwHpALgBxAGQARICtgInAs0B8gEVAU0BNAKvAkoCMwKbAbQAJgHwAIQA9ABwAbL/hv79/qT+R/8TALr/sP/p/+b+d/59/zgACACk/wz/fv2D/Sf+Zv0A/ZL9lP1J/F78V/1q/ST+xP5C/rX+Pv9m/sL9m/6A/08AuQGSAJr9N/3Q/xUB4ACzAYgACf1g/P3+2ADaAZwCGwE9/1sAaQI2A6IDHwQTA7sBbgHoABgBuQGwASIBkQHzATcBvwCmAJkB9wLRA3MCsgARAPD/wgChAd8BkAASAFL/UP7R/g4AhwBE/8j+XP6w/Sf+WP9M/0n+P/6a/hL+Wv4v/z//3v7U/TD9Wf0w/rz+of8z/8b90Py6/JH9av4KAEMAeP/a/s/+rf7G/m//1P8GANv/Gf9y/rL/0gA6AIcA2QInA/EBEAKjAvUByAEAA20CYwE/AfoBGgJSAfYADQF3AWkBfgGTAX8BTgEOATsBHAHdAO4AMwHtAFgA6AAaAVQAAQAdAK3/Gf/5/nv+If6E/vz+kP7Q/hYAsv/5/qT/vP/1/qX+kf7r/cv9Xf5v/iP+Iv7b/gP/6/7P/sr+Jf9S/1n/B/+d/63/af9d/7n+u/7l/tL+0/5nAJcBswAKAI0AmwDB/+4ABwJeAYQBAwLeAND/EQGcAaYApABhAYQB+wACATIBQwETAasACAFHAQABCAFfAdoAIwArAGUAJwC7/9H/DABVABgAmf8y/wb/ff/L/37/hf/x/67/3P7I/hP/xf6W/m/+Yv55/hr/cP8T//v+CP9X/xf/h/8wACIAXv+p/sX+tP41/7//CwCf/27/kv+L/wkAUADyACsB2AC6AO0AEwG9AMkAewAGALcAlgE4AYkA2gCIAP//4AC2AXQBjAHHAZ8Amf85ADgBWAEYAaUAGADk//n/2v9FAOUAlgA=\" type=\"audio/wav\" />\n",
       "                    Your browser does not support the audio element.\n",
       "                </audio>\n",
       "              "
      ],
      "text/plain": [
       "<IPython.lib.display.Audio object>"
      ]
     },
     "execution_count": 37,
     "metadata": {},
     "output_type": "execute_result"
    }
   ],
   "source": [
    "import IPython\n",
    "example = dataset_samples['emovo'][100]\n",
    "IPython.display.Audio(example, rate=sr)"
   ]
  },
  {
   "cell_type": "code",
   "execution_count": 38,
   "id": "bca2618b",
   "metadata": {},
   "outputs": [
    {
     "data": {
      "text/html": [
       "\n",
       "                <audio  controls=\"controls\" >\n",
       "                    <source src=\"data:audio/wav;base64,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\" type=\"audio/wav\" />\n",
       "                    Your browser does not support the audio element.\n",
       "                </audio>\n",
       "              "
      ],
      "text/plain": [
       "<IPython.lib.display.Audio object>"
      ]
     },
     "execution_count": 38,
     "metadata": {},
     "output_type": "execute_result"
    }
   ],
   "source": [
    "s = time_stretch_sample(example, time_factors)\n",
    "IPython.display.Audio(s[0], rate=sr)"
   ]
  },
  {
   "cell_type": "code",
   "execution_count": 39,
   "id": "d052e1e2",
   "metadata": {},
   "outputs": [
    {
     "data": {
      "text/html": [
       "\n",
       "                <audio  controls=\"controls\" >\n",
       "                    <source src=\"data:audio/wav;base64,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\" type=\"audio/wav\" />\n",
       "                    Your browser does not support the audio element.\n",
       "                </audio>\n",
       "              "
      ],
      "text/plain": [
       "<IPython.lib.display.Audio object>"
      ]
     },
     "execution_count": 39,
     "metadata": {},
     "output_type": "execute_result"
    }
   ],
   "source": [
    "s = pitch_shift_sample(example, pitch_factors, sr)\n",
    "IPython.display.Audio(s[3], rate=sr)"
   ]
  },
  {
   "cell_type": "markdown",
   "id": "e888643e",
   "metadata": {},
   "source": [
    "# Dataset processing"
   ]
  },
  {
   "cell_type": "markdown",
   "id": "68096aa2",
   "metadata": {},
   "source": [
    "Split and repeat all the samples to the same length, then extract log Mel-specotrograms from all the samples"
   ]
  },
  {
   "cell_type": "code",
   "execution_count": 40,
   "id": "60dc97d5",
   "metadata": {},
   "outputs": [
    {
     "data": {
      "text/html": [
       "<div>\n",
       "<style scoped>\n",
       "    .dataframe tbody tr th:only-of-type {\n",
       "        vertical-align: middle;\n",
       "    }\n",
       "\n",
       "    .dataframe tbody tr th {\n",
       "        vertical-align: top;\n",
       "    }\n",
       "\n",
       "    .dataframe thead th {\n",
       "        text-align: right;\n",
       "    }\n",
       "</style>\n",
       "<table border=\"1\" class=\"dataframe\">\n",
       "  <thead>\n",
       "    <tr style=\"text-align: right;\">\n",
       "      <th></th>\n",
       "      <th>index</th>\n",
       "      <th>path</th>\n",
       "      <th>filename</th>\n",
       "      <th>label</th>\n",
       "      <th>actor</th>\n",
       "      <th>gender</th>\n",
       "      <th>length</th>\n",
       "      <th>trimmed_lenght</th>\n",
       "    </tr>\n",
       "  </thead>\n",
       "  <tbody>\n",
       "    <tr>\n",
       "      <th>0</th>\n",
       "      <td>0</td>\n",
       "      <td>D:\\Scuola\\TesiMag\\thesis_adversarial_ml_audio\\...</td>\n",
       "      <td>03a01Fa.wav</td>\n",
       "      <td>happy</td>\n",
       "      <td>3</td>\n",
       "      <td>m</td>\n",
       "      <td>1.898277</td>\n",
       "      <td>1.656</td>\n",
       "    </tr>\n",
       "    <tr>\n",
       "      <th>1</th>\n",
       "      <td>1</td>\n",
       "      <td>D:\\Scuola\\TesiMag\\thesis_adversarial_ml_audio\\...</td>\n",
       "      <td>03a01Nc.wav</td>\n",
       "      <td>neutral</td>\n",
       "      <td>3</td>\n",
       "      <td>m</td>\n",
       "      <td>1.611293</td>\n",
       "      <td>1.328</td>\n",
       "    </tr>\n",
       "    <tr>\n",
       "      <th>2</th>\n",
       "      <td>3</td>\n",
       "      <td>D:\\Scuola\\TesiMag\\thesis_adversarial_ml_audio\\...</td>\n",
       "      <td>03a02Fc.wav</td>\n",
       "      <td>happy</td>\n",
       "      <td>3</td>\n",
       "      <td>m</td>\n",
       "      <td>2.006259</td>\n",
       "      <td>1.792</td>\n",
       "    </tr>\n",
       "    <tr>\n",
       "      <th>3</th>\n",
       "      <td>4</td>\n",
       "      <td>D:\\Scuola\\TesiMag\\thesis_adversarial_ml_audio\\...</td>\n",
       "      <td>03a02Nc.wav</td>\n",
       "      <td>neutral</td>\n",
       "      <td>3</td>\n",
       "      <td>m</td>\n",
       "      <td>1.439819</td>\n",
       "      <td>1.220</td>\n",
       "    </tr>\n",
       "    <tr>\n",
       "      <th>4</th>\n",
       "      <td>5</td>\n",
       "      <td>D:\\Scuola\\TesiMag\\thesis_adversarial_ml_audio\\...</td>\n",
       "      <td>03a02Ta.wav</td>\n",
       "      <td>sad</td>\n",
       "      <td>3</td>\n",
       "      <td>m</td>\n",
       "      <td>1.735692</td>\n",
       "      <td>1.548</td>\n",
       "    </tr>\n",
       "  </tbody>\n",
       "</table>\n",
       "</div>"
      ],
      "text/plain": [
       "   index                                               path     filename  \\\n",
       "0      0  D:\\Scuola\\TesiMag\\thesis_adversarial_ml_audio\\...  03a01Fa.wav   \n",
       "1      1  D:\\Scuola\\TesiMag\\thesis_adversarial_ml_audio\\...  03a01Nc.wav   \n",
       "2      3  D:\\Scuola\\TesiMag\\thesis_adversarial_ml_audio\\...  03a02Fc.wav   \n",
       "3      4  D:\\Scuola\\TesiMag\\thesis_adversarial_ml_audio\\...  03a02Nc.wav   \n",
       "4      5  D:\\Scuola\\TesiMag\\thesis_adversarial_ml_audio\\...  03a02Ta.wav   \n",
       "\n",
       "     label actor gender    length  trimmed_lenght  \n",
       "0    happy     3      m  1.898277           1.656  \n",
       "1  neutral     3      m  1.611293           1.328  \n",
       "2    happy     3      m  2.006259           1.792  \n",
       "3  neutral     3      m  1.439819           1.220  \n",
       "4      sad     3      m  1.735692           1.548  "
      ]
     },
     "execution_count": 40,
     "metadata": {},
     "output_type": "execute_result"
    }
   ],
   "source": [
    "result.head()"
   ]
  },
  {
   "cell_type": "code",
   "execution_count": 41,
   "id": "6b123a63",
   "metadata": {},
   "outputs": [],
   "source": [
    "from tqdm.notebook import tqdm\n",
    "\n",
    "def process_audio_files(audio_data, metadata):\n",
    "    sgram_list = []\n",
    "    audio_list = []\n",
    "    mod_data = []\n",
    "    for idx, data in tqdm(metadata.iterrows(), total=metadata.shape[0]):\n",
    "        # load audio data\n",
    "        sample = audio_data[idx]\n",
    "        \n",
    "        # data augmentation\n",
    "        pitched = [(s,1) for s in pitch_shift_sample(sample, pitch_factors, sr)]\n",
    "        stretched = [(s,2) for s in time_stretch_sample(sample, time_factors)]\n",
    "        list_sample = [(sample, 0)] + pitched + stretched\n",
    "        \n",
    "        splitted_list = []\n",
    "        # split the larger segmtents\n",
    "        for s in list_sample:\n",
    "            if len(s[0]) >= buffer_length:\n",
    "                splitted = split_sample(s[0], int(buffer_length), int(min_l))\n",
    "                # trim silent parts in each splitted frame\n",
    "                samples = [(librosa.effects.trim(splitted_sample, top_db=30, frame_length=512, hop_length=64)[0], num, s[1])\n",
    "                           for num, splitted_sample in enumerate(splitted)]\n",
    "                splitted_list += samples\n",
    "            else:\n",
    "                splitted_list.append((s[0], 0, s[1]))\n",
    "           \n",
    "        # repeat the shorter segments\n",
    "        for sample in splitted_list:\n",
    "            s = sample[0]\n",
    "            if len(s) < buffer_length:\n",
    "                s = repeat_sample(s, buffer_length)\n",
    "            \n",
    "            # compute log mel-spectrograms\n",
    "            mel_scale_sgram = librosa.feature.melspectrogram(y=s, sr=sr, n_fft=368, hop_length=184, n_mels=128)\n",
    "            log_mel_sgram = librosa.amplitude_to_db(mel_scale_sgram, ref=np.min)\n",
    "            \n",
    "            # save computation\n",
    "            audio_list.append(s)\n",
    "            sgram_list.append(log_mel_sgram)\n",
    "            mod_data.append([data[\"path\"], data[\"filename\"], sample[1], data[\"label\"], data[\"actor\"], data[\"gender\"], sample[2]])\n",
    "\n",
    "    df_info_mod = pd.DataFrame(mod_data, columns=['path', 'filename', 'chunk', 'label', 'actor', 'gender', 'mod'])\n",
    "    return sgram_list, audio_list, df_info_mod"
   ]
  },
  {
   "cell_type": "code",
   "execution_count": 42,
   "id": "228e827e",
   "metadata": {},
   "outputs": [
    {
     "data": {
      "text/html": [
       "<div>\n",
       "<style scoped>\n",
       "    .dataframe tbody tr th:only-of-type {\n",
       "        vertical-align: middle;\n",
       "    }\n",
       "\n",
       "    .dataframe tbody tr th {\n",
       "        vertical-align: top;\n",
       "    }\n",
       "\n",
       "    .dataframe thead th {\n",
       "        text-align: right;\n",
       "    }\n",
       "</style>\n",
       "<table border=\"1\" class=\"dataframe\">\n",
       "  <thead>\n",
       "    <tr style=\"text-align: right;\">\n",
       "      <th></th>\n",
       "      <th>index</th>\n",
       "      <th>path</th>\n",
       "      <th>filename</th>\n",
       "      <th>label</th>\n",
       "      <th>actor</th>\n",
       "      <th>gender</th>\n",
       "      <th>length</th>\n",
       "      <th>trimmed_lenght</th>\n",
       "    </tr>\n",
       "  </thead>\n",
       "  <tbody>\n",
       "    <tr>\n",
       "      <th>0</th>\n",
       "      <td>14</td>\n",
       "      <td>D:\\Scuola\\TesiMag\\thesis_adversarial_ml_audio\\...</td>\n",
       "      <td>gio-f1-b1.wav</td>\n",
       "      <td>happy</td>\n",
       "      <td>f1</td>\n",
       "      <td>f</td>\n",
       "      <td>1.962676</td>\n",
       "      <td>1.392</td>\n",
       "    </tr>\n",
       "    <tr>\n",
       "      <th>1</th>\n",
       "      <td>15</td>\n",
       "      <td>D:\\Scuola\\TesiMag\\thesis_adversarial_ml_audio\\...</td>\n",
       "      <td>gio-f1-b2.wav</td>\n",
       "      <td>happy</td>\n",
       "      <td>f1</td>\n",
       "      <td>f</td>\n",
       "      <td>2.120000</td>\n",
       "      <td>1.616</td>\n",
       "    </tr>\n",
       "    <tr>\n",
       "      <th>2</th>\n",
       "      <td>16</td>\n",
       "      <td>D:\\Scuola\\TesiMag\\thesis_adversarial_ml_audio\\...</td>\n",
       "      <td>gio-f1-b3.wav</td>\n",
       "      <td>happy</td>\n",
       "      <td>f1</td>\n",
       "      <td>f</td>\n",
       "      <td>2.170703</td>\n",
       "      <td>1.624</td>\n",
       "    </tr>\n",
       "    <tr>\n",
       "      <th>3</th>\n",
       "      <td>17</td>\n",
       "      <td>D:\\Scuola\\TesiMag\\thesis_adversarial_ml_audio\\...</td>\n",
       "      <td>gio-f1-d1.wav</td>\n",
       "      <td>happy</td>\n",
       "      <td>f1</td>\n",
       "      <td>f</td>\n",
       "      <td>2.474694</td>\n",
       "      <td>1.092</td>\n",
       "    </tr>\n",
       "    <tr>\n",
       "      <th>4</th>\n",
       "      <td>18</td>\n",
       "      <td>D:\\Scuola\\TesiMag\\thesis_adversarial_ml_audio\\...</td>\n",
       "      <td>gio-f1-d2.wav</td>\n",
       "      <td>happy</td>\n",
       "      <td>f1</td>\n",
       "      <td>f</td>\n",
       "      <td>2.389342</td>\n",
       "      <td>1.104</td>\n",
       "    </tr>\n",
       "    <tr>\n",
       "      <th>...</th>\n",
       "      <td>...</td>\n",
       "      <td>...</td>\n",
       "      <td>...</td>\n",
       "      <td>...</td>\n",
       "      <td>...</td>\n",
       "      <td>...</td>\n",
       "      <td>...</td>\n",
       "      <td>...</td>\n",
       "    </tr>\n",
       "    <tr>\n",
       "      <th>415</th>\n",
       "      <td>583</td>\n",
       "      <td>D:\\Scuola\\TesiMag\\thesis_adversarial_ml_audio\\...</td>\n",
       "      <td>tri-m3-n1.wav</td>\n",
       "      <td>sad</td>\n",
       "      <td>m3</td>\n",
       "      <td>m</td>\n",
       "      <td>1.877370</td>\n",
       "      <td>1.476</td>\n",
       "    </tr>\n",
       "    <tr>\n",
       "      <th>416</th>\n",
       "      <td>584</td>\n",
       "      <td>D:\\Scuola\\TesiMag\\thesis_adversarial_ml_audio\\...</td>\n",
       "      <td>tri-m3-n2.wav</td>\n",
       "      <td>sad</td>\n",
       "      <td>m3</td>\n",
       "      <td>m</td>\n",
       "      <td>3.114694</td>\n",
       "      <td>2.356</td>\n",
       "    </tr>\n",
       "    <tr>\n",
       "      <th>417</th>\n",
       "      <td>585</td>\n",
       "      <td>D:\\Scuola\\TesiMag\\thesis_adversarial_ml_audio\\...</td>\n",
       "      <td>tri-m3-n3.wav</td>\n",
       "      <td>sad</td>\n",
       "      <td>m3</td>\n",
       "      <td>m</td>\n",
       "      <td>2.474694</td>\n",
       "      <td>1.892</td>\n",
       "    </tr>\n",
       "    <tr>\n",
       "      <th>418</th>\n",
       "      <td>586</td>\n",
       "      <td>D:\\Scuola\\TesiMag\\thesis_adversarial_ml_audio\\...</td>\n",
       "      <td>tri-m3-n4.wav</td>\n",
       "      <td>sad</td>\n",
       "      <td>m3</td>\n",
       "      <td>m</td>\n",
       "      <td>4.906667</td>\n",
       "      <td>3.796</td>\n",
       "    </tr>\n",
       "    <tr>\n",
       "      <th>419</th>\n",
       "      <td>587</td>\n",
       "      <td>D:\\Scuola\\TesiMag\\thesis_adversarial_ml_audio\\...</td>\n",
       "      <td>tri-m3-n5.wav</td>\n",
       "      <td>sad</td>\n",
       "      <td>m3</td>\n",
       "      <td>m</td>\n",
       "      <td>5.376009</td>\n",
       "      <td>4.472</td>\n",
       "    </tr>\n",
       "  </tbody>\n",
       "</table>\n",
       "<p>420 rows × 8 columns</p>\n",
       "</div>"
      ],
      "text/plain": [
       "     index                                               path       filename  \\\n",
       "0       14  D:\\Scuola\\TesiMag\\thesis_adversarial_ml_audio\\...  gio-f1-b1.wav   \n",
       "1       15  D:\\Scuola\\TesiMag\\thesis_adversarial_ml_audio\\...  gio-f1-b2.wav   \n",
       "2       16  D:\\Scuola\\TesiMag\\thesis_adversarial_ml_audio\\...  gio-f1-b3.wav   \n",
       "3       17  D:\\Scuola\\TesiMag\\thesis_adversarial_ml_audio\\...  gio-f1-d1.wav   \n",
       "4       18  D:\\Scuola\\TesiMag\\thesis_adversarial_ml_audio\\...  gio-f1-d2.wav   \n",
       "..     ...                                                ...            ...   \n",
       "415    583  D:\\Scuola\\TesiMag\\thesis_adversarial_ml_audio\\...  tri-m3-n1.wav   \n",
       "416    584  D:\\Scuola\\TesiMag\\thesis_adversarial_ml_audio\\...  tri-m3-n2.wav   \n",
       "417    585  D:\\Scuola\\TesiMag\\thesis_adversarial_ml_audio\\...  tri-m3-n3.wav   \n",
       "418    586  D:\\Scuola\\TesiMag\\thesis_adversarial_ml_audio\\...  tri-m3-n4.wav   \n",
       "419    587  D:\\Scuola\\TesiMag\\thesis_adversarial_ml_audio\\...  tri-m3-n5.wav   \n",
       "\n",
       "     label actor gender    length  trimmed_lenght  \n",
       "0    happy    f1      f  1.962676           1.392  \n",
       "1    happy    f1      f  2.120000           1.616  \n",
       "2    happy    f1      f  2.170703           1.624  \n",
       "3    happy    f1      f  2.474694           1.092  \n",
       "4    happy    f1      f  2.389342           1.104  \n",
       "..     ...   ...    ...       ...             ...  \n",
       "415    sad    m3      m  1.877370           1.476  \n",
       "416    sad    m3      m  3.114694           2.356  \n",
       "417    sad    m3      m  2.474694           1.892  \n",
       "418    sad    m3      m  4.906667           3.796  \n",
       "419    sad    m3      m  5.376009           4.472  \n",
       "\n",
       "[420 rows x 8 columns]"
      ]
     },
     "execution_count": 42,
     "metadata": {},
     "output_type": "execute_result"
    }
   ],
   "source": [
    "frames['emovo']"
   ]
  },
  {
   "cell_type": "code",
   "execution_count": 43,
   "id": "215dbc4b",
   "metadata": {},
   "outputs": [
    {
     "data": {
      "application/vnd.jupyter.widget-view+json": {
       "model_id": "6b614f57d3f742288aee7c6c27a3a5d6",
       "version_major": 2,
       "version_minor": 0
      },
      "text/plain": [
       "  0%|          | 0/1 [00:00<?, ?it/s]"
      ]
     },
     "metadata": {},
     "output_type": "display_data"
    },
    {
     "data": {
      "text/plain": [
       "([array([[38.573486, 38.573486, 38.573486, ..., 38.573486, 38.573486,\n",
       "          58.321457],\n",
       "         [38.573486, 38.573486, 38.573486, ..., 38.573486, 38.573486,\n",
       "          74.04675 ],\n",
       "         [38.573486, 38.573486, 38.573486, ..., 38.573486, 38.573486,\n",
       "          65.84705 ],\n",
       "         ...,\n",
       "         [38.573486, 38.573486, 38.573486, ..., 38.573486, 38.573486,\n",
       "          38.573486],\n",
       "         [38.573486, 38.573486, 38.573486, ..., 38.573486, 38.573486,\n",
       "          38.573486],\n",
       "         [38.573486, 38.573486, 38.573486, ..., 38.573486, 38.573486,\n",
       "          38.573486]], dtype=float32),\n",
       "  array([[29.805962, 29.805962, 29.805962, ..., 34.80715 , 34.578926,\n",
       "          35.58381 ],\n",
       "         [29.805962, 29.805962, 29.805962, ..., 50.53245 , 50.304226,\n",
       "          51.30911 ],\n",
       "         [29.805962, 29.805962, 29.805962, ..., 31.427246, 42.31703 ,\n",
       "          29.805962],\n",
       "         ...,\n",
       "         [29.805962, 29.805962, 29.805962, ..., 29.805962, 29.805962,\n",
       "          29.805962],\n",
       "         [29.805962, 29.805962, 29.805962, ..., 29.805962, 29.805962,\n",
       "          29.805962],\n",
       "         [29.805962, 29.805962, 29.805962, ..., 29.805962, 29.805962,\n",
       "          29.805962]], dtype=float32),\n",
       "  array([[34.631554, 34.631554, 34.631554, ..., 35.601494, 34.631554,\n",
       "          34.631554],\n",
       "         [34.631554, 34.631554, 34.631554, ..., 51.32679 , 37.569824,\n",
       "          34.631554],\n",
       "         [34.631554, 34.631554, 34.631554, ..., 35.315872, 34.631554,\n",
       "          34.631554],\n",
       "         ...,\n",
       "         [34.631554, 34.631554, 34.631554, ..., 34.631554, 34.631554,\n",
       "          34.631554],\n",
       "         [34.631554, 34.631554, 34.631554, ..., 34.631554, 34.631554,\n",
       "          34.631554],\n",
       "         [34.631554, 34.631554, 34.631554, ..., 34.631554, 34.631554,\n",
       "          34.631554]], dtype=float32),\n",
       "  array([[24.258675, 24.258675, 24.258675, ..., 45.5427  , 55.12177 ,\n",
       "          43.01502 ],\n",
       "         [24.258675, 24.258675, 24.258675, ..., 61.268   , 70.84707 ,\n",
       "          58.740314],\n",
       "         [24.258675, 24.258675, 24.258675, ..., 37.398   , 65.07547 ,\n",
       "          60.924133],\n",
       "         ...,\n",
       "         [24.258675, 24.258675, 24.258675, ..., 24.258675, 24.258675,\n",
       "          24.258675],\n",
       "         [24.258675, 24.258675, 24.258675, ..., 24.258675, 24.258675,\n",
       "          24.258675],\n",
       "         [24.258675, 24.258675, 24.258675, ..., 24.258675, 24.258675,\n",
       "          24.258675]], dtype=float32),\n",
       "  array([[27.98516 , 27.98516 , 27.98516 , ..., 36.892056, 47.705288,\n",
       "          42.310177],\n",
       "         [27.98516 , 27.98516 , 27.98516 , ..., 52.617355, 63.430588,\n",
       "          58.035473],\n",
       "         [27.98516 , 27.98516 , 27.98516 , ..., 56.96588 , 58.70445 ,\n",
       "          52.080482],\n",
       "         ...,\n",
       "         [27.98516 , 27.98516 , 27.98516 , ..., 27.98516 , 27.98516 ,\n",
       "          27.98516 ],\n",
       "         [27.98516 , 27.98516 , 27.98516 , ..., 27.98516 , 27.98516 ,\n",
       "          27.98516 ],\n",
       "         [27.98516 , 27.98516 , 27.98516 , ..., 27.98516 , 27.98516 ,\n",
       "          27.98516 ]], dtype=float32),\n",
       "  array([[35.544403, 35.544403, 35.544403, ..., 35.544403, 35.544403,\n",
       "          35.544403],\n",
       "         [35.544403, 35.544403, 35.544403, ..., 41.79664 , 48.939   ,\n",
       "          35.544403],\n",
       "         [35.544403, 35.544403, 35.544403, ..., 35.544403, 35.544403,\n",
       "          35.544403],\n",
       "         ...,\n",
       "         [35.544403, 35.544403, 35.544403, ..., 35.544403, 35.544403,\n",
       "          35.544403],\n",
       "         [35.544403, 35.544403, 35.544403, ..., 35.544403, 35.544403,\n",
       "          35.544403],\n",
       "         [35.544403, 35.544403, 35.544403, ..., 35.544403, 35.544403,\n",
       "          35.544403]], dtype=float32),\n",
       "  array([[24.343597, 24.343597, 24.343597, ..., 24.343597, 24.343597,\n",
       "          24.343597],\n",
       "         [24.343597, 24.343597, 24.343597, ..., 24.343597, 24.343597,\n",
       "          24.343597],\n",
       "         [24.343597, 24.343597, 24.343597, ..., 24.343597, 24.343597,\n",
       "          24.343597],\n",
       "         ...,\n",
       "         [24.343597, 24.343597, 24.343597, ..., 24.343597, 24.343597,\n",
       "          24.343597],\n",
       "         [24.343597, 24.343597, 24.343597, ..., 24.343597, 24.343597,\n",
       "          24.343597],\n",
       "         [24.343597, 24.343597, 24.343597, ..., 24.343597, 24.343597,\n",
       "          24.343597]], dtype=float32),\n",
       "  array([[36.00824, 36.00824, 36.00824, ..., 36.00824, 36.00824, 36.00824],\n",
       "         [36.00824, 36.00824, 36.00824, ..., 36.00824, 36.00824, 36.00824],\n",
       "         [36.00824, 36.00824, 36.00824, ..., 36.00824, 36.00824, 36.00824],\n",
       "         ...,\n",
       "         [36.00824, 36.00824, 36.00824, ..., 36.00824, 36.00824, 36.00824],\n",
       "         [36.00824, 36.00824, 36.00824, ..., 36.00824, 36.00824, 36.00824],\n",
       "         [36.00824, 36.00824, 36.00824, ..., 36.00824, 36.00824, 36.00824]],\n",
       "        dtype=float32),\n",
       "  array([[31.005577, 31.005577, 31.005577, ..., 31.005577, 31.005577,\n",
       "          32.15213 ],\n",
       "         [31.005577, 31.005577, 31.005577, ..., 31.005577, 31.005577,\n",
       "          47.87743 ],\n",
       "         [31.005577, 31.005577, 31.005577, ..., 31.005577, 35.501297,\n",
       "          31.005577],\n",
       "         ...,\n",
       "         [31.005577, 31.005577, 31.005577, ..., 31.005577, 31.005577,\n",
       "          31.005577],\n",
       "         [31.005577, 31.005577, 31.005577, ..., 31.005577, 31.005577,\n",
       "          31.005577],\n",
       "         [31.005577, 31.005577, 31.005577, ..., 31.005577, 31.005577,\n",
       "          31.005577]], dtype=float32)],\n",
       " [array([-7.0095943e-05, -9.8014192e-05, -1.3687049e-05, ...,\n",
       "         -5.2193087e-03,  2.0316362e-03,  2.2235545e-03], dtype=float32),\n",
       "  array([ 3.0693313e-04,  1.5936534e-04, -9.1536109e-05, ...,\n",
       "         -2.1317074e-02, -1.6307427e-02, -1.9249169e-02], dtype=float32),\n",
       "  array([ 1.1183347e-04,  9.2310574e-06, -7.2912488e-05, ...,\n",
       "         -4.1467273e-03, -1.0013239e-02, -1.4138341e-02], dtype=float32),\n",
       "  array([-1.7069377e-06, -2.8282089e-05,  7.5287295e-05, ...,\n",
       "          1.2528443e-02,  1.9407345e-02,  3.0221120e-02], dtype=float32),\n",
       "  array([ 4.03828963e-05,  6.33095478e-05,  1.17630065e-04, ...,\n",
       "         -1.19790677e-02, -1.58143062e-02, -1.30234100e-02], dtype=float32),\n",
       "  array([0.00014002, 0.00011314, 0.00017452, ..., 0.02349503, 0.01521598,\n",
       "         0.01740613], dtype=float32),\n",
       "  array([ 1.3932282e-05, -1.3545352e-05,  6.1659004e-05, ...,\n",
       "         -9.6051907e-04,  1.9492938e-04,  1.3267006e-04], dtype=float32),\n",
       "  array([ 1.3774422e-04, -1.7804332e-07, -7.7897697e-05, ...,\n",
       "          5.8958293e-03, -2.8535216e-03,  1.0027076e-03], dtype=float32),\n",
       "  array([ 0.00044955,  0.00014661, -0.00017416, ...,  0.01780544,\n",
       "          0.01863321,  0.01616607], dtype=float32)],\n",
       "                                                 path       filename  chunk  \\\n",
       " 0  D:\\Scuola\\TesiMag\\thesis_adversarial_ml_audio\\...  gio-f1-b1.wav      0   \n",
       " 1  D:\\Scuola\\TesiMag\\thesis_adversarial_ml_audio\\...  gio-f1-b1.wav      0   \n",
       " 2  D:\\Scuola\\TesiMag\\thesis_adversarial_ml_audio\\...  gio-f1-b1.wav      0   \n",
       " 3  D:\\Scuola\\TesiMag\\thesis_adversarial_ml_audio\\...  gio-f1-b1.wav      0   \n",
       " 4  D:\\Scuola\\TesiMag\\thesis_adversarial_ml_audio\\...  gio-f1-b1.wav      0   \n",
       " 5  D:\\Scuola\\TesiMag\\thesis_adversarial_ml_audio\\...  gio-f1-b1.wav      0   \n",
       " 6  D:\\Scuola\\TesiMag\\thesis_adversarial_ml_audio\\...  gio-f1-b1.wav      0   \n",
       " 7  D:\\Scuola\\TesiMag\\thesis_adversarial_ml_audio\\...  gio-f1-b1.wav      0   \n",
       " 8  D:\\Scuola\\TesiMag\\thesis_adversarial_ml_audio\\...  gio-f1-b1.wav      0   \n",
       " \n",
       "    label actor gender  mod  \n",
       " 0  happy    f1      f    0  \n",
       " 1  happy    f1      f    1  \n",
       " 2  happy    f1      f    1  \n",
       " 3  happy    f1      f    1  \n",
       " 4  happy    f1      f    1  \n",
       " 5  happy    f1      f    2  \n",
       " 6  happy    f1      f    2  \n",
       " 7  happy    f1      f    2  \n",
       " 8  happy    f1      f    2  )"
      ]
     },
     "execution_count": 43,
     "metadata": {},
     "output_type": "execute_result"
    }
   ],
   "source": [
    "process_audio_files(dataset_samples['emovo'], frames['emovo'].iloc[[0]]) "
   ]
  },
  {
   "cell_type": "code",
   "execution_count": 44,
   "id": "9cd4ca67",
   "metadata": {},
   "outputs": [
    {
     "data": {
      "application/vnd.jupyter.widget-view+json": {
       "model_id": "7933ae8a9f5a4f35a38ddd9484ece4a5",
       "version_major": 2,
       "version_minor": 0
      },
      "text/plain": [
       "  0%|          | 0/361 [00:00<?, ?it/s]"
      ]
     },
     "metadata": {},
     "output_type": "display_data"
    },
    {
     "name": "stdout",
     "output_type": "stream",
     "text": [
      "Done emodb\n"
     ]
    },
    {
     "data": {
      "application/vnd.jupyter.widget-view+json": {
       "model_id": "a66f1c98acfe4c95b25bf1caddf01be3",
       "version_major": 2,
       "version_minor": 0
      },
      "text/plain": [
       "  0%|          | 0/420 [00:00<?, ?it/s]"
      ]
     },
     "metadata": {},
     "output_type": "display_data"
    },
    {
     "name": "stdout",
     "output_type": "stream",
     "text": [
      "Done emovo\n"
     ]
    },
    {
     "data": {
      "application/vnd.jupyter.widget-view+json": {
       "model_id": "e2b56882bf9742ceae3b3143d8e370a8",
       "version_major": 2,
       "version_minor": 0
      },
      "text/plain": [
       "  0%|          | 0/960 [00:00<?, ?it/s]"
      ]
     },
     "metadata": {},
     "output_type": "display_data"
    },
    {
     "name": "stdout",
     "output_type": "stream",
     "text": [
      "Done ravdess\n"
     ]
    }
   ],
   "source": [
    "elaborated_data = {}\n",
    "for dataset in frames:\n",
    "    sgram, audio, df = process_audio_files(dataset_samples[dataset], frames[dataset])\n",
    "    print(f\"Done {dataset}\")\n",
    "    elaborated_data[dataset] = {\"sgram\": sgram, 'audio':audio, \"df\":df}"
   ]
  },
  {
   "cell_type": "code",
   "execution_count": 45,
   "id": "5f5a8d83",
   "metadata": {},
   "outputs": [
    {
     "data": {
      "text/html": [
       "<div>\n",
       "<style scoped>\n",
       "    .dataframe tbody tr th:only-of-type {\n",
       "        vertical-align: middle;\n",
       "    }\n",
       "\n",
       "    .dataframe tbody tr th {\n",
       "        vertical-align: top;\n",
       "    }\n",
       "\n",
       "    .dataframe thead th {\n",
       "        text-align: right;\n",
       "    }\n",
       "</style>\n",
       "<table border=\"1\" class=\"dataframe\">\n",
       "  <thead>\n",
       "    <tr style=\"text-align: right;\">\n",
       "      <th></th>\n",
       "      <th>path</th>\n",
       "      <th>filename</th>\n",
       "      <th>chunk</th>\n",
       "      <th>label</th>\n",
       "      <th>actor</th>\n",
       "      <th>gender</th>\n",
       "      <th>mod</th>\n",
       "    </tr>\n",
       "  </thead>\n",
       "  <tbody>\n",
       "    <tr>\n",
       "      <th>0</th>\n",
       "      <td>D:\\Scuola\\TesiMag\\thesis_adversarial_ml_audio\\...</td>\n",
       "      <td>gio-f1-b1.wav</td>\n",
       "      <td>0</td>\n",
       "      <td>happy</td>\n",
       "      <td>f1</td>\n",
       "      <td>f</td>\n",
       "      <td>0</td>\n",
       "    </tr>\n",
       "    <tr>\n",
       "      <th>1</th>\n",
       "      <td>D:\\Scuola\\TesiMag\\thesis_adversarial_ml_audio\\...</td>\n",
       "      <td>gio-f1-b1.wav</td>\n",
       "      <td>0</td>\n",
       "      <td>happy</td>\n",
       "      <td>f1</td>\n",
       "      <td>f</td>\n",
       "      <td>1</td>\n",
       "    </tr>\n",
       "    <tr>\n",
       "      <th>2</th>\n",
       "      <td>D:\\Scuola\\TesiMag\\thesis_adversarial_ml_audio\\...</td>\n",
       "      <td>gio-f1-b1.wav</td>\n",
       "      <td>0</td>\n",
       "      <td>happy</td>\n",
       "      <td>f1</td>\n",
       "      <td>f</td>\n",
       "      <td>1</td>\n",
       "    </tr>\n",
       "    <tr>\n",
       "      <th>3</th>\n",
       "      <td>D:\\Scuola\\TesiMag\\thesis_adversarial_ml_audio\\...</td>\n",
       "      <td>gio-f1-b1.wav</td>\n",
       "      <td>0</td>\n",
       "      <td>happy</td>\n",
       "      <td>f1</td>\n",
       "      <td>f</td>\n",
       "      <td>1</td>\n",
       "    </tr>\n",
       "    <tr>\n",
       "      <th>4</th>\n",
       "      <td>D:\\Scuola\\TesiMag\\thesis_adversarial_ml_audio\\...</td>\n",
       "      <td>gio-f1-b1.wav</td>\n",
       "      <td>0</td>\n",
       "      <td>happy</td>\n",
       "      <td>f1</td>\n",
       "      <td>f</td>\n",
       "      <td>1</td>\n",
       "    </tr>\n",
       "    <tr>\n",
       "      <th>...</th>\n",
       "      <td>...</td>\n",
       "      <td>...</td>\n",
       "      <td>...</td>\n",
       "      <td>...</td>\n",
       "      <td>...</td>\n",
       "      <td>...</td>\n",
       "      <td>...</td>\n",
       "    </tr>\n",
       "    <tr>\n",
       "      <th>4923</th>\n",
       "      <td>D:\\Scuola\\TesiMag\\thesis_adversarial_ml_audio\\...</td>\n",
       "      <td>tri-m3-n5.wav</td>\n",
       "      <td>1</td>\n",
       "      <td>sad</td>\n",
       "      <td>m3</td>\n",
       "      <td>m</td>\n",
       "      <td>2</td>\n",
       "    </tr>\n",
       "    <tr>\n",
       "      <th>4924</th>\n",
       "      <td>D:\\Scuola\\TesiMag\\thesis_adversarial_ml_audio\\...</td>\n",
       "      <td>tri-m3-n5.wav</td>\n",
       "      <td>0</td>\n",
       "      <td>sad</td>\n",
       "      <td>m3</td>\n",
       "      <td>m</td>\n",
       "      <td>2</td>\n",
       "    </tr>\n",
       "    <tr>\n",
       "      <th>4925</th>\n",
       "      <td>D:\\Scuola\\TesiMag\\thesis_adversarial_ml_audio\\...</td>\n",
       "      <td>tri-m3-n5.wav</td>\n",
       "      <td>1</td>\n",
       "      <td>sad</td>\n",
       "      <td>m3</td>\n",
       "      <td>m</td>\n",
       "      <td>2</td>\n",
       "    </tr>\n",
       "    <tr>\n",
       "      <th>4926</th>\n",
       "      <td>D:\\Scuola\\TesiMag\\thesis_adversarial_ml_audio\\...</td>\n",
       "      <td>tri-m3-n5.wav</td>\n",
       "      <td>0</td>\n",
       "      <td>sad</td>\n",
       "      <td>m3</td>\n",
       "      <td>m</td>\n",
       "      <td>2</td>\n",
       "    </tr>\n",
       "    <tr>\n",
       "      <th>4927</th>\n",
       "      <td>D:\\Scuola\\TesiMag\\thesis_adversarial_ml_audio\\...</td>\n",
       "      <td>tri-m3-n5.wav</td>\n",
       "      <td>1</td>\n",
       "      <td>sad</td>\n",
       "      <td>m3</td>\n",
       "      <td>m</td>\n",
       "      <td>2</td>\n",
       "    </tr>\n",
       "  </tbody>\n",
       "</table>\n",
       "<p>4928 rows × 7 columns</p>\n",
       "</div>"
      ],
      "text/plain": [
       "                                                   path       filename  chunk  \\\n",
       "0     D:\\Scuola\\TesiMag\\thesis_adversarial_ml_audio\\...  gio-f1-b1.wav      0   \n",
       "1     D:\\Scuola\\TesiMag\\thesis_adversarial_ml_audio\\...  gio-f1-b1.wav      0   \n",
       "2     D:\\Scuola\\TesiMag\\thesis_adversarial_ml_audio\\...  gio-f1-b1.wav      0   \n",
       "3     D:\\Scuola\\TesiMag\\thesis_adversarial_ml_audio\\...  gio-f1-b1.wav      0   \n",
       "4     D:\\Scuola\\TesiMag\\thesis_adversarial_ml_audio\\...  gio-f1-b1.wav      0   \n",
       "...                                                 ...            ...    ...   \n",
       "4923  D:\\Scuola\\TesiMag\\thesis_adversarial_ml_audio\\...  tri-m3-n5.wav      1   \n",
       "4924  D:\\Scuola\\TesiMag\\thesis_adversarial_ml_audio\\...  tri-m3-n5.wav      0   \n",
       "4925  D:\\Scuola\\TesiMag\\thesis_adversarial_ml_audio\\...  tri-m3-n5.wav      1   \n",
       "4926  D:\\Scuola\\TesiMag\\thesis_adversarial_ml_audio\\...  tri-m3-n5.wav      0   \n",
       "4927  D:\\Scuola\\TesiMag\\thesis_adversarial_ml_audio\\...  tri-m3-n5.wav      1   \n",
       "\n",
       "      label actor gender  mod  \n",
       "0     happy    f1      f    0  \n",
       "1     happy    f1      f    1  \n",
       "2     happy    f1      f    1  \n",
       "3     happy    f1      f    1  \n",
       "4     happy    f1      f    1  \n",
       "...     ...   ...    ...  ...  \n",
       "4923    sad    m3      m    2  \n",
       "4924    sad    m3      m    2  \n",
       "4925    sad    m3      m    2  \n",
       "4926    sad    m3      m    2  \n",
       "4927    sad    m3      m    2  \n",
       "\n",
       "[4928 rows x 7 columns]"
      ]
     },
     "execution_count": 45,
     "metadata": {},
     "output_type": "execute_result"
    }
   ],
   "source": [
    "elaborated_data['emovo']['df']"
   ]
  },
  {
   "cell_type": "code",
   "execution_count": 46,
   "id": "5655847f",
   "metadata": {},
   "outputs": [
    {
     "name": "stdout",
     "output_type": "stream",
     "text": [
      "Dataset emodb, original set 361, augmented 4156, factor of 11.512465373961218\n",
      "Dataset emovo, original set 420, augmented 4928, factor of 11.733333333333333\n",
      "Dataset ravdess, original set 960, augmented 8970, factor of 9.34375\n"
     ]
    }
   ],
   "source": [
    "augmentation_df = []\n",
    "for d in frames:\n",
    "    a = len(frames[d])\n",
    "    b = len(elaborated_data[d][\"df\"])\n",
    "    factor = b/a\n",
    "    print(f'Dataset {d}, original set {a}, augmented {b}, factor of {factor}')\n",
    "    augmentation_df.append([d,a,b,factor])"
   ]
  },
  {
   "cell_type": "code",
   "execution_count": 47,
   "id": "427f27cd",
   "metadata": {},
   "outputs": [
    {
     "data": {
      "text/html": [
       "<div>\n",
       "<style scoped>\n",
       "    .dataframe tbody tr th:only-of-type {\n",
       "        vertical-align: middle;\n",
       "    }\n",
       "\n",
       "    .dataframe tbody tr th {\n",
       "        vertical-align: top;\n",
       "    }\n",
       "\n",
       "    .dataframe thead th {\n",
       "        text-align: right;\n",
       "    }\n",
       "</style>\n",
       "<table border=\"1\" class=\"dataframe\">\n",
       "  <thead>\n",
       "    <tr style=\"text-align: right;\">\n",
       "      <th></th>\n",
       "      <th>Dataset</th>\n",
       "      <th>Original</th>\n",
       "      <th>Augmented</th>\n",
       "      <th>Factor</th>\n",
       "    </tr>\n",
       "  </thead>\n",
       "  <tbody>\n",
       "    <tr>\n",
       "      <th>0</th>\n",
       "      <td>emodb</td>\n",
       "      <td>361</td>\n",
       "      <td>4156</td>\n",
       "      <td>11.512465</td>\n",
       "    </tr>\n",
       "    <tr>\n",
       "      <th>1</th>\n",
       "      <td>emovo</td>\n",
       "      <td>420</td>\n",
       "      <td>4928</td>\n",
       "      <td>11.733333</td>\n",
       "    </tr>\n",
       "    <tr>\n",
       "      <th>2</th>\n",
       "      <td>ravdess</td>\n",
       "      <td>960</td>\n",
       "      <td>8970</td>\n",
       "      <td>9.343750</td>\n",
       "    </tr>\n",
       "  </tbody>\n",
       "</table>\n",
       "</div>"
      ],
      "text/plain": [
       "   Dataset  Original  Augmented     Factor\n",
       "0    emodb       361       4156  11.512465\n",
       "1    emovo       420       4928  11.733333\n",
       "2  ravdess       960       8970   9.343750"
      ]
     },
     "execution_count": 47,
     "metadata": {},
     "output_type": "execute_result"
    }
   ],
   "source": [
    "pd.DataFrame(augmentation_df, columns=['Dataset', 'Original', 'Augmented', 'Factor'])"
   ]
  },
  {
   "cell_type": "markdown",
   "id": "fbb7ee30",
   "metadata": {},
   "source": [
    "# New data distribution"
   ]
  },
  {
   "cell_type": "markdown",
   "id": "ccf806eb",
   "metadata": {},
   "source": [
    "## Actors distribution"
   ]
  },
  {
   "cell_type": "code",
   "execution_count": 48,
   "id": "d14f7547",
   "metadata": {},
   "outputs": [
    {
     "data": {
      "text/plain": [
       "(<AxesSubplot: >, <AxesSubplot: >)"
      ]
     },
     "execution_count": 48,
     "metadata": {},
     "output_type": "execute_result"
    },
    {
     "data": {
      "image/png": "[encoded data removed]",
      "text/plain": [
       "<Figure size 432x288 with 1 Axes>"
      ]
     },
     "metadata": {
      "needs_background": "light"
     },
     "output_type": "display_data"
    }
   ],
   "source": [
    "elaborated_data['emodb']['df'][\"actor\"].hist(bins=40), frames['emodb']['actor'].hist(bins=40)"
   ]
  },
  {
   "cell_type": "code",
   "execution_count": 49,
   "id": "16fca527",
   "metadata": {},
   "outputs": [
    {
     "data": {
      "text/plain": [
       "(<AxesSubplot: >, <AxesSubplot: >)"
      ]
     },
     "execution_count": 49,
     "metadata": {},
     "output_type": "execute_result"
    },
    {
     "data": {
      "image/png": "[encoded data removed]",
      "text/plain": [
       "<Figure size 432x288 with 1 Axes>"
      ]
     },
     "metadata": {
      "needs_background": "light"
     },
     "output_type": "display_data"
    }
   ],
   "source": [
    "elaborated_data['emovo']['df'][\"actor\"].hist(bins=40), frames['emovo']['actor'].hist(bins=40)"
   ]
  },
  {
   "cell_type": "code",
   "execution_count": 50,
   "id": "7beb1ba1",
   "metadata": {},
   "outputs": [
    {
     "data": {
      "text/plain": [
       "(<AxesSubplot: >, <AxesSubplot: >)"
      ]
     },
     "execution_count": 50,
     "metadata": {},
     "output_type": "execute_result"
    },
    {
     "data": {
      "image/png": "[encoded data removed]",
      "text/plain": [
       "<Figure size 432x288 with 1 Axes>"
      ]
     },
     "metadata": {
      "needs_background": "light"
     },
     "output_type": "display_data"
    }
   ],
   "source": [
    "elaborated_data['ravdess']['df'][\"actor\"].hist(bins=40), frames['ravdess']['actor'].hist(bins=40)"
   ]
  },
  {
   "cell_type": "markdown",
   "id": "7ec74a5c",
   "metadata": {},
   "source": [
    "## Labels distribution"
   ]
  },
  {
   "cell_type": "code",
   "execution_count": 51,
   "id": "d56880d0",
   "metadata": {},
   "outputs": [
    {
     "data": {
      "text/plain": [
       "(<AxesSubplot: >, <AxesSubplot: >)"
      ]
     },
     "execution_count": 51,
     "metadata": {},
     "output_type": "execute_result"
    },
    {
     "data": {
      "image/png": "[encoded data removed]",
      "text/plain": [
       "<Figure size 432x288 with 1 Axes>"
      ]
     },
     "metadata": {
      "needs_background": "light"
     },
     "output_type": "display_data"
    }
   ],
   "source": [
    "elaborated_data['emodb']['df'][\"label\"].hist(bins=40), frames['emodb'][\"label\"].hist(bins=40)"
   ]
  },
  {
   "cell_type": "code",
   "execution_count": 52,
   "id": "01b1bc05",
   "metadata": {},
   "outputs": [
    {
     "data": {
      "text/plain": [
       "(<AxesSubplot: >, <AxesSubplot: >)"
      ]
     },
     "execution_count": 52,
     "metadata": {},
     "output_type": "execute_result"
    },
    {
     "data": {
      "image/png": "[encoded data removed]",
      "text/plain": [
       "<Figure size 432x288 with 1 Axes>"
      ]
     },
     "metadata": {
      "needs_background": "light"
     },
     "output_type": "display_data"
    }
   ],
   "source": [
    "elaborated_data['emovo']['df'][\"label\"].hist(bins=40), frames['emovo'][\"label\"].hist(bins=40)"
   ]
  },
  {
   "cell_type": "code",
   "execution_count": 53,
   "id": "98351b49",
   "metadata": {},
   "outputs": [
    {
     "data": {
      "text/plain": [
       "(<AxesSubplot: >, <AxesSubplot: >)"
      ]
     },
     "execution_count": 53,
     "metadata": {},
     "output_type": "execute_result"
    },
    {
     "data": {
      "image/png": "[encoded data removed]",
      "text/plain": [
       "<Figure size 432x288 with 1 Axes>"
      ]
     },
     "metadata": {
      "needs_background": "light"
     },
     "output_type": "display_data"
    }
   ],
   "source": [
    "elaborated_data['ravdess']['df'][\"label\"].hist(bins=40), frames['ravdess'][\"label\"].hist(bins=40)"
   ]
  },
  {
   "cell_type": "markdown",
   "id": "92cf01ce",
   "metadata": {},
   "source": [
    "# Clean memory"
   ]
  },
  {
   "cell_type": "markdown",
   "id": "96b96910",
   "metadata": {},
   "source": [
    "Free some space that will be no longer used"
   ]
  },
  {
   "cell_type": "code",
   "execution_count": 73,
   "id": "70d5c29e",
   "metadata": {},
   "outputs": [],
   "source": [
    "del frames\n",
    "del dataset_samples"
   ]
  },
  {
   "cell_type": "code",
   "execution_count": 74,
   "id": "4bd31a8b",
   "metadata": {},
   "outputs": [
    {
     "data": {
      "text/plain": [
       "dict_keys(['sgram', 'audio', 'df', 'y'])"
      ]
     },
     "execution_count": 74,
     "metadata": {},
     "output_type": "execute_result"
    }
   ],
   "source": [
    "elaborated_data[\"emodb\"].keys()"
   ]
  },
  {
   "cell_type": "code",
   "execution_count": 75,
   "id": "aa652e91",
   "metadata": {},
   "outputs": [],
   "source": [
    "for f in elaborated_data:\n",
    "    del elaborated_data[f]['audio']"
   ]
  },
  {
   "cell_type": "code",
   "execution_count": 76,
   "id": "7a128355",
   "metadata": {},
   "outputs": [
    {
     "data": {
      "text/plain": [
       "1482"
      ]
     },
     "execution_count": 76,
     "metadata": {},
     "output_type": "execute_result"
    }
   ],
   "source": [
    "import gc\n",
    "gc.collect()"
   ]
  },
  {
   "cell_type": "markdown",
   "id": "68e92080",
   "metadata": {},
   "source": [
    "# Prepare data for models"
   ]
  },
  {
   "cell_type": "markdown",
   "id": "49ea8f8f",
   "metadata": {},
   "source": [
    "## Labels"
   ]
  },
  {
   "cell_type": "markdown",
   "id": "7d3f66b6",
   "metadata": {},
   "source": [
    "One-hot encode the labels"
   ]
  },
  {
   "cell_type": "code",
   "execution_count": 54,
   "id": "d87c408f",
   "metadata": {},
   "outputs": [],
   "source": [
    "from sklearn.preprocessing import OneHotEncoder\n",
    "\n",
    "\n",
    "for dataset in elaborated_data:\n",
    "    encoder = OneHotEncoder()\n",
    "    df_label = elaborated_data[dataset][\"df\"][\"label\"]\n",
    "    Y = encoder.fit_transform(np.array(df_label).reshape(-1,1)).toarray()\n",
    "    elaborated_data[dataset][\"y\"] = Y"
   ]
  },
  {
   "cell_type": "code",
   "execution_count": 55,
   "id": "1525b32a",
   "metadata": {},
   "outputs": [
    {
     "data": {
      "text/plain": [
       "(array([[0., 0., 1., 0., 0.],\n",
       "        [0., 0., 1., 0., 0.],\n",
       "        [0., 0., 1., 0., 0.],\n",
       "        ...,\n",
       "        [1., 0., 0., 0., 0.],\n",
       "        [1., 0., 0., 0., 0.],\n",
       "        [1., 0., 0., 0., 0.]]),\n",
       " (4156, 5))"
      ]
     },
     "execution_count": 55,
     "metadata": {},
     "output_type": "execute_result"
    }
   ],
   "source": [
    "elaborated_data[\"emodb\"][\"y\"], elaborated_data[\"emodb\"][\"y\"].shape"
   ]
  },
  {
   "cell_type": "markdown",
   "id": "54288e5e",
   "metadata": {},
   "source": [
    "## Features"
   ]
  },
  {
   "cell_type": "markdown",
   "id": "b05891e3",
   "metadata": {},
   "source": [
    "Normalize log mel spectrogram features. Divice each cell by the sum of the matrix; in this way the sum of the spectrogram is 1"
   ]
  },
  {
   "cell_type": "code",
   "execution_count": 56,
   "id": "415cf2cd",
   "metadata": {},
   "outputs": [
    {
     "data": {
      "text/plain": [
       "array([[1, 2, 3],\n",
       "       [2, 2, 2],\n",
       "       [3, 3, 1]])"
      ]
     },
     "execution_count": 56,
     "metadata": {},
     "output_type": "execute_result"
    }
   ],
   "source": [
    "a = np.array([[1,2,3],[2,2,2],[3,3,1]])\n",
    "a"
   ]
  },
  {
   "cell_type": "code",
   "execution_count": 57,
   "id": "fbb385ea",
   "metadata": {},
   "outputs": [],
   "source": [
    "def normalize(sgram):\n",
    "    s = sgram.sum()\n",
    "    return sgram/s"
   ]
  },
  {
   "cell_type": "code",
   "execution_count": 58,
   "id": "51d06c85",
   "metadata": {},
   "outputs": [
    {
     "data": {
      "text/plain": [
       "(array([[0.05263158, 0.10526316, 0.15789474],\n",
       "        [0.10526316, 0.10526316, 0.10526316],\n",
       "        [0.15789474, 0.15789474, 0.05263158]]),\n",
       " 1.0)"
      ]
     },
     "execution_count": 58,
     "metadata": {},
     "output_type": "execute_result"
    }
   ],
   "source": [
    "normalize(a), normalize(a).sum()"
   ]
  },
  {
   "cell_type": "markdown",
   "id": "ec5a1e7c",
   "metadata": {},
   "source": [
    "Reshape from numpy Height x Width to Width x Height x Depth as TimeDistributed want as first input times, which in our data is horizontal axis"
   ]
  },
  {
   "cell_type": "code",
   "execution_count": 60,
   "id": "387106d2",
   "metadata": {},
   "outputs": [
    {
     "data": {
      "text/plain": [
       "(128, 261)"
      ]
     },
     "execution_count": 60,
     "metadata": {},
     "output_type": "execute_result"
    }
   ],
   "source": [
    "elaborated_data[\"emovo\"][\"sgram\"][0].shape"
   ]
  },
  {
   "cell_type": "code",
   "execution_count": 62,
   "id": "2ec74eb5",
   "metadata": {},
   "outputs": [
    {
     "data": {
      "text/plain": [
       "(261, 128)"
      ]
     },
     "execution_count": 62,
     "metadata": {},
     "output_type": "execute_result"
    }
   ],
   "source": [
    "elaborated_data[\"emovo\"][\"sgram\"][0].transpose().shape"
   ]
  },
  {
   "cell_type": "code",
   "execution_count": 69,
   "id": "a146afa9",
   "metadata": {},
   "outputs": [
    {
     "data": {
      "text/plain": [
       "(261, 128, 1)"
      ]
     },
     "execution_count": 69,
     "metadata": {},
     "output_type": "execute_result"
    }
   ],
   "source": [
    "np.expand_dims(elaborated_data[\"emovo\"][\"sgram\"][0].transpose(), axis=2).shape"
   ]
  },
  {
   "cell_type": "code",
   "execution_count": 72,
   "id": "36b9e587",
   "metadata": {},
   "outputs": [
    {
     "data": {
      "text/plain": [
       "((3, 3, 1),\n",
       " array([[[1],\n",
       "         [2],\n",
       "         [3]],\n",
       " \n",
       "        [[2],\n",
       "         [2],\n",
       "         [2]],\n",
       " \n",
       "        [[3],\n",
       "         [3],\n",
       "         [1]]]))"
      ]
     },
     "execution_count": 72,
     "metadata": {},
     "output_type": "execute_result"
    }
   ],
   "source": [
    "np.expand_dims(a, axis=2).shape, np.expand_dims(a, axis=2)"
   ]
  },
  {
   "cell_type": "code",
   "execution_count": 77,
   "id": "4f95b297",
   "metadata": {},
   "outputs": [
    {
     "name": "stdout",
     "output_type": "stream",
     "text": [
      "Computing emodb\n",
      "Computing emovo\n"
     ]
    },
    {
     "name": "stderr",
     "output_type": "stream",
     "text": [
      "C:\\Users\\Nicolas Facchinetti\\AppData\\Local\\Temp\\ipykernel_9784\\974971219.py:3: RuntimeWarning: invalid value encountered in divide\n",
      "  return sgram/s\n"
     ]
    },
    {
     "name": "stdout",
     "output_type": "stream",
     "text": [
      "Computing ravdess\n"
     ]
    }
   ],
   "source": [
    "for d in elaborated_data:\n",
    "    print(f'Computing {d}')\n",
    "    # normalize and reshape data\n",
    "    elaborated_data[d]['x'] = np.array([np.expand_dims(normalize(s).transpose(), axis=2)\n",
    "                                        for s in elaborated_data[d]['sgram']])"
   ]
  },
  {
   "cell_type": "code",
   "execution_count": 81,
   "id": "0427cbea",
   "metadata": {},
   "outputs": [
    {
     "data": {
      "text/plain": [
       "(1.0, (261, 128, 1))"
      ]
     },
     "execution_count": 81,
     "metadata": {},
     "output_type": "execute_result"
    }
   ],
   "source": [
    "elaborated_data['emovo']['x'][0].sum(), elaborated_data['emovo']['x'][0].shape"
   ]
  },
  {
   "cell_type": "markdown",
   "id": "a316a452",
   "metadata": {},
   "source": [
    "# Save data"
   ]
  },
  {
   "cell_type": "markdown",
   "id": "19b91f7c",
   "metadata": {},
   "source": [
    "Save data for future computations"
   ]
  },
  {
   "cell_type": "code",
   "execution_count": 82,
   "id": "9f90eb70",
   "metadata": {},
   "outputs": [
    {
     "name": "stdout",
     "output_type": "stream",
     "text": [
      "Dumping data for emodb\n",
      "Dumping data for emovo\n",
      "Dumping data for ravdess\n"
     ]
    }
   ],
   "source": [
    "import pickle\n",
    "\n",
    "for dataset in elaborated_data:\n",
    "    print(f'Dumping data for {dataset}')\n",
    "    x = elaborated_data[dataset][\"x\"]\n",
    "    y = elaborated_data[dataset][\"y\"]\n",
    "    df = elaborated_data[dataset][\"df\"]\n",
    "    \n",
    "    # pickle.dump({'x':x, 'y':y}, open(f'/datasets/nicolas_facchinetti/processed_data/{dataset}/processed_data.p', \"wb\"))\n",
    "    # df.to_csv(f\"/datasets/nicolas_facchinetti/processed_data/{dataset}/metadata_multif.csv\", index=False)\n",
    "    \n",
    "    pickle.dump({'x':x, 'y':y}, open(f'D:\\\\Scuola\\\\TesiMag\\\\thesis_adversarial_ml_audio\\\\processed_data/{dataset}/processed_data.p', \"wb\"))\n",
    "    df.to_csv(f\"D:\\\\Scuola\\\\TesiMag\\\\thesis_adversarial_ml_audio\\\\processed_data//{dataset}/metadata_final.csv\", index=False)"
   ]
  },
  {
   "cell_type": "code",
   "execution_count": null,
   "id": "575202cf",
   "metadata": {},
   "outputs": [],
   "source": []
  }
 ],
 "metadata": {
  "kernelspec": {
   "display_name": "Python 3 (ipykernel)",
   "language": "python",
   "name": "python3"
  },
  "language_info": {
   "codemirror_mode": {
    "name": "ipython",
    "version": 3
   },
   "file_extension": ".py",
   "mimetype": "text/x-python",
   "name": "python",
   "nbconvert_exporter": "python",
   "pygments_lexer": "ipython3",
   "version": "3.9.13"
  }
 },
 "nbformat": 4,
 "nbformat_minor": 5
}
