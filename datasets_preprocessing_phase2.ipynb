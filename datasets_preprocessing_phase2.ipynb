{
 "cells": [
  {
   "cell_type": "markdown",
   "id": "3a5b7259",
   "metadata": {},
   "source": [
    "Extract features from EmoDB dataset"
   ]
  },
  {
   "cell_type": "code",
   "execution_count": 1,
   "id": "e0bf42ef",
   "metadata": {},
   "outputs": [],
   "source": [
    "import librosa\n",
    "import os\n",
    "import numpy as np\n",
    "import pandas as pd"
   ]
  },
  {
   "cell_type": "markdown",
   "id": "08ce6d72",
   "metadata": {},
   "source": [
    "# Import metadatas"
   ]
  },
  {
   "cell_type": "code",
   "execution_count": 2,
   "id": "3b8fa4af",
   "metadata": {},
   "outputs": [],
   "source": [
    "sr = 16000"
   ]
  },
  {
   "cell_type": "code",
   "execution_count": 3,
   "id": "dd72c2b1",
   "metadata": {},
   "outputs": [],
   "source": [
    "ravdess = pd.read_csv(\"/datasets/nicolas_facchinetti/processed_data/ravdess/processed_metadata.csv\")\n",
    "emovo = pd.read_csv(\"/datasets/nicolas_facchinetti/processed_data/emovo/processed_metadata.csv\")\n",
    "emodb = pd.read_csv(\"/datasets/nicolas_facchinetti/processed_data/emodb/processed_metadata.csv\")\n",
    "\n",
    "# ravdess = pd.read_csv(\"D:\\\\Scuola\\\\TesiMag\\\\thesis_adversarial_ml_audio\\\\processed_data/ravdess/processed_metadata.csv\")\n",
    "# emovo = pd.read_csv(\"D:\\\\Scuola\\\\TesiMag\\\\thesis_adversarial_ml_audio\\\\processed_data/emovo/processed_metadata.csv\")\n",
    "# emodb = pd.read_csv(\"D:\\\\Scuola\\\\TesiMag\\\\thesis_adversarial_ml_audio\\\\processed_data/emodb/processed_metadata.csv\")"
   ]
  },
  {
   "cell_type": "code",
   "execution_count": 4,
   "id": "d15eb23f",
   "metadata": {},
   "outputs": [
    {
     "data": {
      "text/html": [
       "<div>\n",
       "<style scoped>\n",
       "    .dataframe tbody tr th:only-of-type {\n",
       "        vertical-align: middle;\n",
       "    }\n",
       "\n",
       "    .dataframe tbody tr th {\n",
       "        vertical-align: top;\n",
       "    }\n",
       "\n",
       "    .dataframe thead th {\n",
       "        text-align: right;\n",
       "    }\n",
       "</style>\n",
       "<table border=\"1\" class=\"dataframe\">\n",
       "  <thead>\n",
       "    <tr style=\"text-align: right;\">\n",
       "      <th></th>\n",
       "      <th>path</th>\n",
       "      <th>filename</th>\n",
       "      <th>label</th>\n",
       "      <th>actor</th>\n",
       "      <th>gender</th>\n",
       "      <th>length</th>\n",
       "    </tr>\n",
       "  </thead>\n",
       "  <tbody>\n",
       "    <tr>\n",
       "      <th>0</th>\n",
       "      <td>/datasets/nicolas_facchinetti/emodb/data/13a05...</td>\n",
       "      <td>13a05Tc.wav</td>\n",
       "      <td>sad</td>\n",
       "      <td>13</td>\n",
       "      <td>f</td>\n",
       "      <td>4.451383</td>\n",
       "    </tr>\n",
       "    <tr>\n",
       "      <th>1</th>\n",
       "      <td>/datasets/nicolas_facchinetti/emodb/data/14b09...</td>\n",
       "      <td>14b09Ac.wav</td>\n",
       "      <td>fear</td>\n",
       "      <td>14</td>\n",
       "      <td>f</td>\n",
       "      <td>2.287710</td>\n",
       "    </tr>\n",
       "    <tr>\n",
       "      <th>2</th>\n",
       "      <td>/datasets/nicolas_facchinetti/emodb/data/11b02...</td>\n",
       "      <td>11b02Na.wav</td>\n",
       "      <td>neutral</td>\n",
       "      <td>11</td>\n",
       "      <td>m</td>\n",
       "      <td>2.698821</td>\n",
       "    </tr>\n",
       "    <tr>\n",
       "      <th>3</th>\n",
       "      <td>/datasets/nicolas_facchinetti/emodb/data/09b03...</td>\n",
       "      <td>09b03Fd.wav</td>\n",
       "      <td>happy</td>\n",
       "      <td>9</td>\n",
       "      <td>f</td>\n",
       "      <td>3.312517</td>\n",
       "    </tr>\n",
       "    <tr>\n",
       "      <th>4</th>\n",
       "      <td>/datasets/nicolas_facchinetti/emodb/data/16b10...</td>\n",
       "      <td>16b10Fb.wav</td>\n",
       "      <td>happy</td>\n",
       "      <td>16</td>\n",
       "      <td>f</td>\n",
       "      <td>2.583537</td>\n",
       "    </tr>\n",
       "    <tr>\n",
       "      <th>...</th>\n",
       "      <td>...</td>\n",
       "      <td>...</td>\n",
       "      <td>...</td>\n",
       "      <td>...</td>\n",
       "      <td>...</td>\n",
       "      <td>...</td>\n",
       "    </tr>\n",
       "    <tr>\n",
       "      <th>530</th>\n",
       "      <td>/datasets/nicolas_facchinetti/emodb/data/15a04...</td>\n",
       "      <td>15a04Wa.wav</td>\n",
       "      <td>angry</td>\n",
       "      <td>15</td>\n",
       "      <td>m</td>\n",
       "      <td>1.945397</td>\n",
       "    </tr>\n",
       "    <tr>\n",
       "      <th>531</th>\n",
       "      <td>/datasets/nicolas_facchinetti/emodb/data/11b03...</td>\n",
       "      <td>11b03Td.wav</td>\n",
       "      <td>sad</td>\n",
       "      <td>11</td>\n",
       "      <td>m</td>\n",
       "      <td>5.905034</td>\n",
       "    </tr>\n",
       "    <tr>\n",
       "      <th>532</th>\n",
       "      <td>/datasets/nicolas_facchinetti/emodb/data/12b02...</td>\n",
       "      <td>12b02Na.wav</td>\n",
       "      <td>neutral</td>\n",
       "      <td>12</td>\n",
       "      <td>m</td>\n",
       "      <td>2.982086</td>\n",
       "    </tr>\n",
       "    <tr>\n",
       "      <th>533</th>\n",
       "      <td>/datasets/nicolas_facchinetti/emodb/data/14b01...</td>\n",
       "      <td>14b01Eb.wav</td>\n",
       "      <td>disgust</td>\n",
       "      <td>14</td>\n",
       "      <td>f</td>\n",
       "      <td>3.291791</td>\n",
       "    </tr>\n",
       "    <tr>\n",
       "      <th>534</th>\n",
       "      <td>/datasets/nicolas_facchinetti/emodb/data/08b01...</td>\n",
       "      <td>08b01Fe.wav</td>\n",
       "      <td>happy</td>\n",
       "      <td>8</td>\n",
       "      <td>f</td>\n",
       "      <td>2.515782</td>\n",
       "    </tr>\n",
       "  </tbody>\n",
       "</table>\n",
       "<p>535 rows × 6 columns</p>\n",
       "</div>"
      ],
      "text/plain": [
       "                                                  path     filename    label  \\\n",
       "0    /datasets/nicolas_facchinetti/emodb/data/13a05...  13a05Tc.wav      sad   \n",
       "1    /datasets/nicolas_facchinetti/emodb/data/14b09...  14b09Ac.wav     fear   \n",
       "2    /datasets/nicolas_facchinetti/emodb/data/11b02...  11b02Na.wav  neutral   \n",
       "3    /datasets/nicolas_facchinetti/emodb/data/09b03...  09b03Fd.wav    happy   \n",
       "4    /datasets/nicolas_facchinetti/emodb/data/16b10...  16b10Fb.wav    happy   \n",
       "..                                                 ...          ...      ...   \n",
       "530  /datasets/nicolas_facchinetti/emodb/data/15a04...  15a04Wa.wav    angry   \n",
       "531  /datasets/nicolas_facchinetti/emodb/data/11b03...  11b03Td.wav      sad   \n",
       "532  /datasets/nicolas_facchinetti/emodb/data/12b02...  12b02Na.wav  neutral   \n",
       "533  /datasets/nicolas_facchinetti/emodb/data/14b01...  14b01Eb.wav  disgust   \n",
       "534  /datasets/nicolas_facchinetti/emodb/data/08b01...  08b01Fe.wav    happy   \n",
       "\n",
       "     actor gender    length  \n",
       "0       13      f  4.451383  \n",
       "1       14      f  2.287710  \n",
       "2       11      m  2.698821  \n",
       "3        9      f  3.312517  \n",
       "4       16      f  2.583537  \n",
       "..     ...    ...       ...  \n",
       "530     15      m  1.945397  \n",
       "531     11      m  5.905034  \n",
       "532     12      m  2.982086  \n",
       "533     14      f  3.291791  \n",
       "534      8      f  2.515782  \n",
       "\n",
       "[535 rows x 6 columns]"
      ]
     },
     "execution_count": 4,
     "metadata": {},
     "output_type": "execute_result"
    }
   ],
   "source": [
    "emodb"
   ]
  },
  {
   "cell_type": "code",
   "execution_count": 5,
   "id": "40368274",
   "metadata": {},
   "outputs": [
    {
     "data": {
      "text/html": [
       "<div>\n",
       "<style scoped>\n",
       "    .dataframe tbody tr th:only-of-type {\n",
       "        vertical-align: middle;\n",
       "    }\n",
       "\n",
       "    .dataframe tbody tr th {\n",
       "        vertical-align: top;\n",
       "    }\n",
       "\n",
       "    .dataframe thead th {\n",
       "        text-align: right;\n",
       "    }\n",
       "</style>\n",
       "<table border=\"1\" class=\"dataframe\">\n",
       "  <thead>\n",
       "    <tr style=\"text-align: right;\">\n",
       "      <th></th>\n",
       "      <th>path</th>\n",
       "      <th>filename</th>\n",
       "      <th>label</th>\n",
       "      <th>actor</th>\n",
       "      <th>gender</th>\n",
       "      <th>length</th>\n",
       "    </tr>\n",
       "  </thead>\n",
       "  <tbody>\n",
       "    <tr>\n",
       "      <th>0</th>\n",
       "      <td>/datasets/nicolas_facchinetti/ravdess/data/Act...</td>\n",
       "      <td>03-01-05-01-02-01-15.wav</td>\n",
       "      <td>angry</td>\n",
       "      <td>Actor_15</td>\n",
       "      <td>m</td>\n",
       "      <td>3.703719</td>\n",
       "    </tr>\n",
       "    <tr>\n",
       "      <th>1</th>\n",
       "      <td>/datasets/nicolas_facchinetti/ravdess/data/Act...</td>\n",
       "      <td>03-01-08-01-02-02-15.wav</td>\n",
       "      <td>surprised</td>\n",
       "      <td>Actor_15</td>\n",
       "      <td>m</td>\n",
       "      <td>3.370068</td>\n",
       "    </tr>\n",
       "    <tr>\n",
       "      <th>2</th>\n",
       "      <td>/datasets/nicolas_facchinetti/ravdess/data/Act...</td>\n",
       "      <td>03-01-07-02-02-02-15.wav</td>\n",
       "      <td>disgust</td>\n",
       "      <td>Actor_15</td>\n",
       "      <td>m</td>\n",
       "      <td>3.470159</td>\n",
       "    </tr>\n",
       "    <tr>\n",
       "      <th>3</th>\n",
       "      <td>/datasets/nicolas_facchinetti/ravdess/data/Act...</td>\n",
       "      <td>03-01-04-01-02-01-15.wav</td>\n",
       "      <td>sad</td>\n",
       "      <td>Actor_15</td>\n",
       "      <td>m</td>\n",
       "      <td>3.303356</td>\n",
       "    </tr>\n",
       "    <tr>\n",
       "      <th>4</th>\n",
       "      <td>/datasets/nicolas_facchinetti/ravdess/data/Act...</td>\n",
       "      <td>03-01-03-01-02-01-15.wav</td>\n",
       "      <td>happy</td>\n",
       "      <td>Actor_15</td>\n",
       "      <td>m</td>\n",
       "      <td>3.336689</td>\n",
       "    </tr>\n",
       "    <tr>\n",
       "      <th>...</th>\n",
       "      <td>...</td>\n",
       "      <td>...</td>\n",
       "      <td>...</td>\n",
       "      <td>...</td>\n",
       "      <td>...</td>\n",
       "      <td>...</td>\n",
       "    </tr>\n",
       "    <tr>\n",
       "      <th>1435</th>\n",
       "      <td>/datasets/nicolas_facchinetti/ravdess/data/Act...</td>\n",
       "      <td>03-01-06-02-01-02-13.wav</td>\n",
       "      <td>fear</td>\n",
       "      <td>Actor_13</td>\n",
       "      <td>m</td>\n",
       "      <td>3.269977</td>\n",
       "    </tr>\n",
       "    <tr>\n",
       "      <th>1436</th>\n",
       "      <td>/datasets/nicolas_facchinetti/ravdess/data/Act...</td>\n",
       "      <td>03-01-02-01-02-01-13.wav</td>\n",
       "      <td>calm</td>\n",
       "      <td>Actor_13</td>\n",
       "      <td>m</td>\n",
       "      <td>3.136463</td>\n",
       "    </tr>\n",
       "    <tr>\n",
       "      <th>1437</th>\n",
       "      <td>/datasets/nicolas_facchinetti/ravdess/data/Act...</td>\n",
       "      <td>03-01-04-01-01-02-13.wav</td>\n",
       "      <td>sad</td>\n",
       "      <td>Actor_13</td>\n",
       "      <td>m</td>\n",
       "      <td>3.536871</td>\n",
       "    </tr>\n",
       "    <tr>\n",
       "      <th>1438</th>\n",
       "      <td>/datasets/nicolas_facchinetti/ravdess/data/Act...</td>\n",
       "      <td>03-01-08-01-02-02-13.wav</td>\n",
       "      <td>surprised</td>\n",
       "      <td>Actor_13</td>\n",
       "      <td>m</td>\n",
       "      <td>3.036417</td>\n",
       "    </tr>\n",
       "    <tr>\n",
       "      <th>1439</th>\n",
       "      <td>/datasets/nicolas_facchinetti/ravdess/data/Act...</td>\n",
       "      <td>03-01-07-01-01-02-13.wav</td>\n",
       "      <td>disgust</td>\n",
       "      <td>Actor_13</td>\n",
       "      <td>m</td>\n",
       "      <td>3.169841</td>\n",
       "    </tr>\n",
       "  </tbody>\n",
       "</table>\n",
       "<p>1440 rows × 6 columns</p>\n",
       "</div>"
      ],
      "text/plain": [
       "                                                   path  \\\n",
       "0     /datasets/nicolas_facchinetti/ravdess/data/Act...   \n",
       "1     /datasets/nicolas_facchinetti/ravdess/data/Act...   \n",
       "2     /datasets/nicolas_facchinetti/ravdess/data/Act...   \n",
       "3     /datasets/nicolas_facchinetti/ravdess/data/Act...   \n",
       "4     /datasets/nicolas_facchinetti/ravdess/data/Act...   \n",
       "...                                                 ...   \n",
       "1435  /datasets/nicolas_facchinetti/ravdess/data/Act...   \n",
       "1436  /datasets/nicolas_facchinetti/ravdess/data/Act...   \n",
       "1437  /datasets/nicolas_facchinetti/ravdess/data/Act...   \n",
       "1438  /datasets/nicolas_facchinetti/ravdess/data/Act...   \n",
       "1439  /datasets/nicolas_facchinetti/ravdess/data/Act...   \n",
       "\n",
       "                      filename      label     actor gender    length  \n",
       "0     03-01-05-01-02-01-15.wav      angry  Actor_15      m  3.703719  \n",
       "1     03-01-08-01-02-02-15.wav  surprised  Actor_15      m  3.370068  \n",
       "2     03-01-07-02-02-02-15.wav    disgust  Actor_15      m  3.470159  \n",
       "3     03-01-04-01-02-01-15.wav        sad  Actor_15      m  3.303356  \n",
       "4     03-01-03-01-02-01-15.wav      happy  Actor_15      m  3.336689  \n",
       "...                        ...        ...       ...    ...       ...  \n",
       "1435  03-01-06-02-01-02-13.wav       fear  Actor_13      m  3.269977  \n",
       "1436  03-01-02-01-02-01-13.wav       calm  Actor_13      m  3.136463  \n",
       "1437  03-01-04-01-01-02-13.wav        sad  Actor_13      m  3.536871  \n",
       "1438  03-01-08-01-02-02-13.wav  surprised  Actor_13      m  3.036417  \n",
       "1439  03-01-07-01-01-02-13.wav    disgust  Actor_13      m  3.169841  \n",
       "\n",
       "[1440 rows x 6 columns]"
      ]
     },
     "execution_count": 5,
     "metadata": {},
     "output_type": "execute_result"
    }
   ],
   "source": [
    "ravdess"
   ]
  },
  {
   "cell_type": "code",
   "execution_count": 6,
   "id": "439e68db",
   "metadata": {},
   "outputs": [
    {
     "data": {
      "text/html": [
       "<div>\n",
       "<style scoped>\n",
       "    .dataframe tbody tr th:only-of-type {\n",
       "        vertical-align: middle;\n",
       "    }\n",
       "\n",
       "    .dataframe tbody tr th {\n",
       "        vertical-align: top;\n",
       "    }\n",
       "\n",
       "    .dataframe thead th {\n",
       "        text-align: right;\n",
       "    }\n",
       "</style>\n",
       "<table border=\"1\" class=\"dataframe\">\n",
       "  <thead>\n",
       "    <tr style=\"text-align: right;\">\n",
       "      <th></th>\n",
       "      <th>path</th>\n",
       "      <th>filename</th>\n",
       "      <th>label</th>\n",
       "      <th>actor</th>\n",
       "      <th>gender</th>\n",
       "      <th>length</th>\n",
       "    </tr>\n",
       "  </thead>\n",
       "  <tbody>\n",
       "    <tr>\n",
       "      <th>0</th>\n",
       "      <td>/datasets/nicolas_facchinetti/emovo/data/m3/gi...</td>\n",
       "      <td>gio-m3-l1.wav</td>\n",
       "      <td>happy</td>\n",
       "      <td>m3</td>\n",
       "      <td>m</td>\n",
       "      <td>5.205351</td>\n",
       "    </tr>\n",
       "    <tr>\n",
       "      <th>1</th>\n",
       "      <td>/datasets/nicolas_facchinetti/emovo/data/m3/gi...</td>\n",
       "      <td>gio-m3-b3.wav</td>\n",
       "      <td>happy</td>\n",
       "      <td>m3</td>\n",
       "      <td>m</td>\n",
       "      <td>1.877370</td>\n",
       "    </tr>\n",
       "    <tr>\n",
       "      <th>2</th>\n",
       "      <td>/datasets/nicolas_facchinetti/emovo/data/m3/pa...</td>\n",
       "      <td>pau-m3-n5.wav</td>\n",
       "      <td>fear</td>\n",
       "      <td>m3</td>\n",
       "      <td>m</td>\n",
       "      <td>4.394694</td>\n",
       "    </tr>\n",
       "    <tr>\n",
       "      <th>3</th>\n",
       "      <td>/datasets/nicolas_facchinetti/emovo/data/m3/tr...</td>\n",
       "      <td>tri-m3-b2.wav</td>\n",
       "      <td>sad</td>\n",
       "      <td>m3</td>\n",
       "      <td>m</td>\n",
       "      <td>2.773333</td>\n",
       "    </tr>\n",
       "    <tr>\n",
       "      <th>4</th>\n",
       "      <td>/datasets/nicolas_facchinetti/emovo/data/m3/tr...</td>\n",
       "      <td>tri-m3-l4.wav</td>\n",
       "      <td>sad</td>\n",
       "      <td>m3</td>\n",
       "      <td>m</td>\n",
       "      <td>3.370703</td>\n",
       "    </tr>\n",
       "    <tr>\n",
       "      <th>...</th>\n",
       "      <td>...</td>\n",
       "      <td>...</td>\n",
       "      <td>...</td>\n",
       "      <td>...</td>\n",
       "      <td>...</td>\n",
       "      <td>...</td>\n",
       "    </tr>\n",
       "    <tr>\n",
       "      <th>583</th>\n",
       "      <td>/datasets/nicolas_facchinetti/emovo/data/m2/di...</td>\n",
       "      <td>dis-m2-b3.wav</td>\n",
       "      <td>disgust</td>\n",
       "      <td>m2</td>\n",
       "      <td>m</td>\n",
       "      <td>2.474694</td>\n",
       "    </tr>\n",
       "    <tr>\n",
       "      <th>584</th>\n",
       "      <td>/datasets/nicolas_facchinetti/emovo/data/m2/so...</td>\n",
       "      <td>sor-m2-d1.wav</td>\n",
       "      <td>surprised</td>\n",
       "      <td>m2</td>\n",
       "      <td>m</td>\n",
       "      <td>2.090703</td>\n",
       "    </tr>\n",
       "    <tr>\n",
       "      <th>585</th>\n",
       "      <td>/datasets/nicolas_facchinetti/emovo/data/m2/pa...</td>\n",
       "      <td>pau-m2-b3.wav</td>\n",
       "      <td>fear</td>\n",
       "      <td>m2</td>\n",
       "      <td>m</td>\n",
       "      <td>1.962676</td>\n",
       "    </tr>\n",
       "    <tr>\n",
       "      <th>586</th>\n",
       "      <td>/datasets/nicolas_facchinetti/emovo/data/m2/tr...</td>\n",
       "      <td>tri-m2-n2.wav</td>\n",
       "      <td>sad</td>\n",
       "      <td>m2</td>\n",
       "      <td>m</td>\n",
       "      <td>2.368027</td>\n",
       "    </tr>\n",
       "    <tr>\n",
       "      <th>587</th>\n",
       "      <td>/datasets/nicolas_facchinetti/emovo/data/m2/ra...</td>\n",
       "      <td>rab-m2-l1.wav</td>\n",
       "      <td>angry</td>\n",
       "      <td>m2</td>\n",
       "      <td>m</td>\n",
       "      <td>5.461361</td>\n",
       "    </tr>\n",
       "  </tbody>\n",
       "</table>\n",
       "<p>588 rows × 6 columns</p>\n",
       "</div>"
      ],
      "text/plain": [
       "                                                  path       filename  \\\n",
       "0    /datasets/nicolas_facchinetti/emovo/data/m3/gi...  gio-m3-l1.wav   \n",
       "1    /datasets/nicolas_facchinetti/emovo/data/m3/gi...  gio-m3-b3.wav   \n",
       "2    /datasets/nicolas_facchinetti/emovo/data/m3/pa...  pau-m3-n5.wav   \n",
       "3    /datasets/nicolas_facchinetti/emovo/data/m3/tr...  tri-m3-b2.wav   \n",
       "4    /datasets/nicolas_facchinetti/emovo/data/m3/tr...  tri-m3-l4.wav   \n",
       "..                                                 ...            ...   \n",
       "583  /datasets/nicolas_facchinetti/emovo/data/m2/di...  dis-m2-b3.wav   \n",
       "584  /datasets/nicolas_facchinetti/emovo/data/m2/so...  sor-m2-d1.wav   \n",
       "585  /datasets/nicolas_facchinetti/emovo/data/m2/pa...  pau-m2-b3.wav   \n",
       "586  /datasets/nicolas_facchinetti/emovo/data/m2/tr...  tri-m2-n2.wav   \n",
       "587  /datasets/nicolas_facchinetti/emovo/data/m2/ra...  rab-m2-l1.wav   \n",
       "\n",
       "         label actor gender    length  \n",
       "0        happy    m3      m  5.205351  \n",
       "1        happy    m3      m  1.877370  \n",
       "2         fear    m3      m  4.394694  \n",
       "3          sad    m3      m  2.773333  \n",
       "4          sad    m3      m  3.370703  \n",
       "..         ...   ...    ...       ...  \n",
       "583    disgust    m2      m  2.474694  \n",
       "584  surprised    m2      m  2.090703  \n",
       "585       fear    m2      m  1.962676  \n",
       "586        sad    m2      m  2.368027  \n",
       "587      angry    m2      m  5.461361  \n",
       "\n",
       "[588 rows x 6 columns]"
      ]
     },
     "execution_count": 6,
     "metadata": {},
     "output_type": "execute_result"
    }
   ],
   "source": [
    "emovo"
   ]
  },
  {
   "cell_type": "code",
   "execution_count": 7,
   "id": "ae7a9126",
   "metadata": {},
   "outputs": [
    {
     "data": {
      "text/html": [
       "<div>\n",
       "<style scoped>\n",
       "    .dataframe tbody tr th:only-of-type {\n",
       "        vertical-align: middle;\n",
       "    }\n",
       "\n",
       "    .dataframe tbody tr th {\n",
       "        vertical-align: top;\n",
       "    }\n",
       "\n",
       "    .dataframe thead th {\n",
       "        text-align: right;\n",
       "    }\n",
       "</style>\n",
       "<table border=\"1\" class=\"dataframe\">\n",
       "  <thead>\n",
       "    <tr style=\"text-align: right;\">\n",
       "      <th></th>\n",
       "      <th>path</th>\n",
       "      <th>filename</th>\n",
       "      <th>label</th>\n",
       "      <th>actor</th>\n",
       "      <th>gender</th>\n",
       "      <th>length</th>\n",
       "    </tr>\n",
       "  </thead>\n",
       "  <tbody>\n",
       "    <tr>\n",
       "      <th>0</th>\n",
       "      <td>/datasets/nicolas_facchinetti/emodb/data/13a05...</td>\n",
       "      <td>13a05Tc.wav</td>\n",
       "      <td>sad</td>\n",
       "      <td>13</td>\n",
       "      <td>f</td>\n",
       "      <td>4.451383</td>\n",
       "    </tr>\n",
       "    <tr>\n",
       "      <th>1</th>\n",
       "      <td>/datasets/nicolas_facchinetti/emodb/data/14b09...</td>\n",
       "      <td>14b09Ac.wav</td>\n",
       "      <td>fear</td>\n",
       "      <td>14</td>\n",
       "      <td>f</td>\n",
       "      <td>2.287710</td>\n",
       "    </tr>\n",
       "    <tr>\n",
       "      <th>2</th>\n",
       "      <td>/datasets/nicolas_facchinetti/emodb/data/11b02...</td>\n",
       "      <td>11b02Na.wav</td>\n",
       "      <td>neutral</td>\n",
       "      <td>11</td>\n",
       "      <td>m</td>\n",
       "      <td>2.698821</td>\n",
       "    </tr>\n",
       "    <tr>\n",
       "      <th>3</th>\n",
       "      <td>/datasets/nicolas_facchinetti/emodb/data/09b03...</td>\n",
       "      <td>09b03Fd.wav</td>\n",
       "      <td>happy</td>\n",
       "      <td>9</td>\n",
       "      <td>f</td>\n",
       "      <td>3.312517</td>\n",
       "    </tr>\n",
       "    <tr>\n",
       "      <th>4</th>\n",
       "      <td>/datasets/nicolas_facchinetti/emodb/data/16b10...</td>\n",
       "      <td>16b10Fb.wav</td>\n",
       "      <td>happy</td>\n",
       "      <td>16</td>\n",
       "      <td>f</td>\n",
       "      <td>2.583537</td>\n",
       "    </tr>\n",
       "    <tr>\n",
       "      <th>...</th>\n",
       "      <td>...</td>\n",
       "      <td>...</td>\n",
       "      <td>...</td>\n",
       "      <td>...</td>\n",
       "      <td>...</td>\n",
       "      <td>...</td>\n",
       "    </tr>\n",
       "    <tr>\n",
       "      <th>1435</th>\n",
       "      <td>/datasets/nicolas_facchinetti/ravdess/data/Act...</td>\n",
       "      <td>03-01-06-02-01-02-13.wav</td>\n",
       "      <td>fear</td>\n",
       "      <td>Actor_13</td>\n",
       "      <td>m</td>\n",
       "      <td>3.269977</td>\n",
       "    </tr>\n",
       "    <tr>\n",
       "      <th>1436</th>\n",
       "      <td>/datasets/nicolas_facchinetti/ravdess/data/Act...</td>\n",
       "      <td>03-01-02-01-02-01-13.wav</td>\n",
       "      <td>calm</td>\n",
       "      <td>Actor_13</td>\n",
       "      <td>m</td>\n",
       "      <td>3.136463</td>\n",
       "    </tr>\n",
       "    <tr>\n",
       "      <th>1437</th>\n",
       "      <td>/datasets/nicolas_facchinetti/ravdess/data/Act...</td>\n",
       "      <td>03-01-04-01-01-02-13.wav</td>\n",
       "      <td>sad</td>\n",
       "      <td>Actor_13</td>\n",
       "      <td>m</td>\n",
       "      <td>3.536871</td>\n",
       "    </tr>\n",
       "    <tr>\n",
       "      <th>1438</th>\n",
       "      <td>/datasets/nicolas_facchinetti/ravdess/data/Act...</td>\n",
       "      <td>03-01-08-01-02-02-13.wav</td>\n",
       "      <td>surprised</td>\n",
       "      <td>Actor_13</td>\n",
       "      <td>m</td>\n",
       "      <td>3.036417</td>\n",
       "    </tr>\n",
       "    <tr>\n",
       "      <th>1439</th>\n",
       "      <td>/datasets/nicolas_facchinetti/ravdess/data/Act...</td>\n",
       "      <td>03-01-07-01-01-02-13.wav</td>\n",
       "      <td>disgust</td>\n",
       "      <td>Actor_13</td>\n",
       "      <td>m</td>\n",
       "      <td>3.169841</td>\n",
       "    </tr>\n",
       "  </tbody>\n",
       "</table>\n",
       "<p>2563 rows × 6 columns</p>\n",
       "</div>"
      ],
      "text/plain": [
       "                                                   path  \\\n",
       "0     /datasets/nicolas_facchinetti/emodb/data/13a05...   \n",
       "1     /datasets/nicolas_facchinetti/emodb/data/14b09...   \n",
       "2     /datasets/nicolas_facchinetti/emodb/data/11b02...   \n",
       "3     /datasets/nicolas_facchinetti/emodb/data/09b03...   \n",
       "4     /datasets/nicolas_facchinetti/emodb/data/16b10...   \n",
       "...                                                 ...   \n",
       "1435  /datasets/nicolas_facchinetti/ravdess/data/Act...   \n",
       "1436  /datasets/nicolas_facchinetti/ravdess/data/Act...   \n",
       "1437  /datasets/nicolas_facchinetti/ravdess/data/Act...   \n",
       "1438  /datasets/nicolas_facchinetti/ravdess/data/Act...   \n",
       "1439  /datasets/nicolas_facchinetti/ravdess/data/Act...   \n",
       "\n",
       "                      filename      label     actor gender    length  \n",
       "0                  13a05Tc.wav        sad        13      f  4.451383  \n",
       "1                  14b09Ac.wav       fear        14      f  2.287710  \n",
       "2                  11b02Na.wav    neutral        11      m  2.698821  \n",
       "3                  09b03Fd.wav      happy         9      f  3.312517  \n",
       "4                  16b10Fb.wav      happy        16      f  2.583537  \n",
       "...                        ...        ...       ...    ...       ...  \n",
       "1435  03-01-06-02-01-02-13.wav       fear  Actor_13      m  3.269977  \n",
       "1436  03-01-02-01-02-01-13.wav       calm  Actor_13      m  3.136463  \n",
       "1437  03-01-04-01-01-02-13.wav        sad  Actor_13      m  3.536871  \n",
       "1438  03-01-08-01-02-02-13.wav  surprised  Actor_13      m  3.036417  \n",
       "1439  03-01-07-01-01-02-13.wav    disgust  Actor_13      m  3.169841  \n",
       "\n",
       "[2563 rows x 6 columns]"
      ]
     },
     "execution_count": 7,
     "metadata": {},
     "output_type": "execute_result"
    }
   ],
   "source": [
    "frames = {'emodb': emodb, 'emovo': emovo, 'ravdess': ravdess}\n",
    "\n",
    "result = pd.concat(frames.values())\n",
    "result"
   ]
  },
  {
   "cell_type": "markdown",
   "id": "5f2d42b1",
   "metadata": {},
   "source": [
    "# Remove labels"
   ]
  },
  {
   "cell_type": "markdown",
   "id": "75828b98",
   "metadata": {},
   "source": [
    "Remove the labels to obtain the same number in all datasets by dropping problematic labels and the most correlated of the rest"
   ]
  },
  {
   "cell_type": "markdown",
   "id": "a764a43e",
   "metadata": {},
   "source": [
    "For emodb, remove class disgust that have serious imbalance and the most correlated which is sad"
   ]
  },
  {
   "cell_type": "code",
   "execution_count": 8,
   "id": "4940db11",
   "metadata": {},
   "outputs": [],
   "source": [
    "frames['emodb'] = frames['emodb'].drop(frames['emodb'][frames['emodb'].label == 'disgust'].index)\n",
    "frames['emodb'] = frames['emodb'].drop(frames['emodb'][frames['emodb'].label == 'bored'].index)"
   ]
  },
  {
   "cell_type": "code",
   "execution_count": 9,
   "id": "d26b9d00",
   "metadata": {},
   "outputs": [
    {
     "data": {
      "text/plain": [
       "array(['sad', 'fear', 'neutral', 'happy', 'angry'], dtype=object)"
      ]
     },
     "execution_count": 9,
     "metadata": {},
     "output_type": "execute_result"
    }
   ],
   "source": [
    "frames['emodb'].label.unique()"
   ]
  },
  {
   "cell_type": "markdown",
   "id": "650479e2",
   "metadata": {},
   "source": [
    "For emovo, remove the most correlated labes which are ..."
   ]
  },
  {
   "cell_type": "code",
   "execution_count": 10,
   "id": "84684681",
   "metadata": {},
   "outputs": [],
   "source": [
    "frames['emovo'] = frames['emovo'].drop(frames['emovo'][frames['emovo'].label == 'angry'].index)\n",
    "frames['emovo'] = frames['emovo'].drop(frames['emovo'][frames['emovo'].label == 'sad'].index)"
   ]
  },
  {
   "cell_type": "code",
   "execution_count": 11,
   "id": "7b294643",
   "metadata": {},
   "outputs": [
    {
     "data": {
      "text/plain": [
       "array(['happy', 'fear', 'surprised', 'disgust', 'neutral'], dtype=object)"
      ]
     },
     "execution_count": 11,
     "metadata": {},
     "output_type": "execute_result"
    }
   ],
   "source": [
    "frames['emovo'].label.unique()"
   ]
  },
  {
   "cell_type": "markdown",
   "id": "169d01ea",
   "metadata": {},
   "source": [
    "For ravdess, remove class neutral neutral which have half of the samples and the 2 most correlated which are ..."
   ]
  },
  {
   "cell_type": "code",
   "execution_count": 12,
   "id": "a850b19a",
   "metadata": {},
   "outputs": [],
   "source": [
    "frames['ravdess'] = frames['ravdess'].drop(frames['ravdess'][frames['ravdess'].label == 'angry'].index)\n",
    "frames['ravdess'] = frames['ravdess'].drop(frames['ravdess'][frames['ravdess'].label == 'calm'].index)\n",
    "frames['ravdess'] = frames['ravdess'].drop(frames['ravdess'][frames['ravdess'].label == 'neutral'].index)"
   ]
  },
  {
   "cell_type": "code",
   "execution_count": 13,
   "id": "4e55c536",
   "metadata": {},
   "outputs": [
    {
     "data": {
      "text/plain": [
       "array(['surprised', 'disgust', 'sad', 'happy', 'fear'], dtype=object)"
      ]
     },
     "execution_count": 13,
     "metadata": {},
     "output_type": "execute_result"
    }
   ],
   "source": [
    "frames['ravdess'].label.unique()"
   ]
  },
  {
   "cell_type": "markdown",
   "id": "8a08beb9",
   "metadata": {},
   "source": [
    "# Balance datasets"
   ]
  },
  {
   "cell_type": "code",
   "execution_count": 14,
   "id": "4cc65a86",
   "metadata": {},
   "outputs": [
    {
     "data": {
      "text/plain": [
       "<AxesSubplot:>"
      ]
     },
     "execution_count": 14,
     "metadata": {},
     "output_type": "execute_result"
    },
    {
     "data": {
      "image/png": "[encoded data removed]",
      "text/plain": [
       "<Figure size 640x480 with 1 Axes>"
      ]
     },
     "metadata": {},
     "output_type": "display_data"
    }
   ],
   "source": [
    "frames['emodb']['actor'].hist(bins=40)"
   ]
  },
  {
   "cell_type": "code",
   "execution_count": 15,
   "id": "2d5771db",
   "metadata": {},
   "outputs": [
    {
     "data": {
      "text/plain": [
       "<AxesSubplot:>"
      ]
     },
     "execution_count": 15,
     "metadata": {},
     "output_type": "execute_result"
    },
    {
     "data": {
      "image/png": "[encoded data removed]",
      "text/plain": [
       "<Figure size 640x480 with 1 Axes>"
      ]
     },
     "metadata": {},
     "output_type": "display_data"
    }
   ],
   "source": [
    "frames['emodb']['label'].hist(bins=40)"
   ]
  },
  {
   "cell_type": "markdown",
   "id": "6c635434",
   "metadata": {},
   "source": [
    "Undersample angry class to 80 sample"
   ]
  },
  {
   "cell_type": "code",
   "execution_count": 16,
   "id": "730f1fce",
   "metadata": {},
   "outputs": [
    {
     "data": {
      "text/plain": [
       "<AxesSubplot:>"
      ]
     },
     "execution_count": 16,
     "metadata": {},
     "output_type": "execute_result"
    },
    {
     "data": {
      "image/png": "[encoded data removed]",
      "text/plain": [
       "<Figure size 640x480 with 1 Axes>"
      ]
     },
     "metadata": {},
     "output_type": "display_data"
    }
   ],
   "source": [
    "frames['emodb'][frames['emodb'].label == 'angry']['actor'].hist(bins=40)"
   ]
  },
  {
   "cell_type": "markdown",
   "id": "1ca335f3",
   "metadata": {},
   "source": [
    "Keep only 8 samples for each actor"
   ]
  },
  {
   "cell_type": "code",
   "execution_count": 17,
   "id": "3e2c200d",
   "metadata": {},
   "outputs": [],
   "source": [
    "actors_emodb = frames['emodb'].actor.unique()\n",
    "for a in actors_emodb:\n",
    "    cond = (frames['emodb'].actor == a) & (frames['emodb'].label == 'angry')\n",
    "    ext = frames['emodb'][cond].sample(n=8, random_state=1997).index\n",
    "    to_drop = np.setdiff1d(frames['emodb'][cond].index, ext, assume_unique=True)\n",
    "    \n",
    "    frames['emodb'].drop(index=to_drop, inplace=True)"
   ]
  },
  {
   "cell_type": "code",
   "execution_count": 18,
   "id": "a90ea29c",
   "metadata": {},
   "outputs": [
    {
     "data": {
      "text/plain": [
       "<AxesSubplot:>"
      ]
     },
     "execution_count": 18,
     "metadata": {},
     "output_type": "execute_result"
    },
    {
     "data": {
      "image/png": "[encoded data removed]",
      "text/plain": [
       "<Figure size 640x480 with 1 Axes>"
      ]
     },
     "metadata": {},
     "output_type": "display_data"
    }
   ],
   "source": [
    "frames['emodb']['label'].hist(bins=40)"
   ]
  },
  {
   "cell_type": "code",
   "execution_count": 19,
   "id": "be97035f",
   "metadata": {},
   "outputs": [
    {
     "data": {
      "text/plain": [
       "<AxesSubplot:>"
      ]
     },
     "execution_count": 19,
     "metadata": {},
     "output_type": "execute_result"
    },
    {
     "data": {
      "image/png": "[encoded data removed]",
      "text/plain": [
       "<Figure size 640x480 with 1 Axes>"
      ]
     },
     "metadata": {},
     "output_type": "display_data"
    }
   ],
   "source": [
    "frames['emodb']['actor'].hist(bins=40)"
   ]
  },
  {
   "cell_type": "code",
   "execution_count": 20,
   "id": "d2049cbc",
   "metadata": {},
   "outputs": [
    {
     "data": {
      "text/plain": [
       "<AxesSubplot:>"
      ]
     },
     "execution_count": 20,
     "metadata": {},
     "output_type": "execute_result"
    },
    {
     "data": {
      "image/png": "[encoded data removed]",
      "text/plain": [
       "<Figure size 640x480 with 1 Axes>"
      ]
     },
     "metadata": {},
     "output_type": "display_data"
    }
   ],
   "source": [
    "frames['emodb'][frames['emodb'].label == 'angry']['actor'].hist(bins=40)"
   ]
  },
  {
   "cell_type": "code",
   "execution_count": 21,
   "id": "525638e6",
   "metadata": {},
   "outputs": [
    {
     "data": {
      "text/plain": [
       "<AxesSubplot:>"
      ]
     },
     "execution_count": 21,
     "metadata": {},
     "output_type": "execute_result"
    },
    {
     "data": {
      "image/png": "[encoded data removed]",
      "text/plain": [
       "<Figure size 640x480 with 1 Axes>"
      ]
     },
     "metadata": {},
     "output_type": "display_data"
    }
   ],
   "source": [
    "frames['emovo']['actor'].hist(bins=40)"
   ]
  },
  {
   "cell_type": "code",
   "execution_count": 22,
   "id": "aedd60a5",
   "metadata": {},
   "outputs": [
    {
     "data": {
      "text/plain": [
       "<AxesSubplot:>"
      ]
     },
     "execution_count": 22,
     "metadata": {},
     "output_type": "execute_result"
    },
    {
     "data": {
      "image/png": "[encoded data removed]",
      "text/plain": [
       "<Figure size 640x480 with 1 Axes>"
      ]
     },
     "metadata": {},
     "output_type": "display_data"
    }
   ],
   "source": [
    "frames['emovo']['label'].hist(bins=40)"
   ]
  },
  {
   "cell_type": "code",
   "execution_count": 23,
   "id": "ba0b812e",
   "metadata": {},
   "outputs": [
    {
     "data": {
      "text/plain": [
       "<AxesSubplot:>"
      ]
     },
     "execution_count": 23,
     "metadata": {},
     "output_type": "execute_result"
    },
    {
     "data": {
      "image/png": "[encoded data removed]",
      "text/plain": [
       "<Figure size 640x480 with 1 Axes>"
      ]
     },
     "metadata": {},
     "output_type": "display_data"
    }
   ],
   "source": [
    "frames['ravdess']['actor'].hist(bins=40)"
   ]
  },
  {
   "cell_type": "code",
   "execution_count": 24,
   "id": "bb2943a6",
   "metadata": {},
   "outputs": [
    {
     "data": {
      "text/plain": [
       "<AxesSubplot:>"
      ]
     },
     "execution_count": 24,
     "metadata": {},
     "output_type": "execute_result"
    },
    {
     "data": {
      "image/png": "[encoded data removed]",
      "text/plain": [
       "<Figure size 640x480 with 1 Axes>"
      ]
     },
     "metadata": {},
     "output_type": "display_data"
    }
   ],
   "source": [
    "frames['ravdess']['label'].hist(bins=40)"
   ]
  },
  {
   "cell_type": "code",
   "execution_count": 25,
   "id": "e5b633db",
   "metadata": {},
   "outputs": [],
   "source": [
    "for d in frames:\n",
    "    frames[d].reset_index(inplace=True)"
   ]
  },
  {
   "cell_type": "code",
   "execution_count": 26,
   "id": "e2ba8222",
   "metadata": {},
   "outputs": [
    {
     "data": {
      "text/html": [
       "<div>\n",
       "<style scoped>\n",
       "    .dataframe tbody tr th:only-of-type {\n",
       "        vertical-align: middle;\n",
       "    }\n",
       "\n",
       "    .dataframe tbody tr th {\n",
       "        vertical-align: top;\n",
       "    }\n",
       "\n",
       "    .dataframe thead th {\n",
       "        text-align: right;\n",
       "    }\n",
       "</style>\n",
       "<table border=\"1\" class=\"dataframe\">\n",
       "  <thead>\n",
       "    <tr style=\"text-align: right;\">\n",
       "      <th></th>\n",
       "      <th>index</th>\n",
       "      <th>path</th>\n",
       "      <th>filename</th>\n",
       "      <th>label</th>\n",
       "      <th>actor</th>\n",
       "      <th>gender</th>\n",
       "      <th>length</th>\n",
       "    </tr>\n",
       "  </thead>\n",
       "  <tbody>\n",
       "    <tr>\n",
       "      <th>0</th>\n",
       "      <td>0</td>\n",
       "      <td>/datasets/nicolas_facchinetti/emodb/data/13a05...</td>\n",
       "      <td>13a05Tc.wav</td>\n",
       "      <td>sad</td>\n",
       "      <td>13</td>\n",
       "      <td>f</td>\n",
       "      <td>4.451383</td>\n",
       "    </tr>\n",
       "    <tr>\n",
       "      <th>1</th>\n",
       "      <td>1</td>\n",
       "      <td>/datasets/nicolas_facchinetti/emodb/data/14b09...</td>\n",
       "      <td>14b09Ac.wav</td>\n",
       "      <td>fear</td>\n",
       "      <td>14</td>\n",
       "      <td>f</td>\n",
       "      <td>2.287710</td>\n",
       "    </tr>\n",
       "    <tr>\n",
       "      <th>2</th>\n",
       "      <td>2</td>\n",
       "      <td>/datasets/nicolas_facchinetti/emodb/data/11b02...</td>\n",
       "      <td>11b02Na.wav</td>\n",
       "      <td>neutral</td>\n",
       "      <td>11</td>\n",
       "      <td>m</td>\n",
       "      <td>2.698821</td>\n",
       "    </tr>\n",
       "    <tr>\n",
       "      <th>3</th>\n",
       "      <td>3</td>\n",
       "      <td>/datasets/nicolas_facchinetti/emodb/data/09b03...</td>\n",
       "      <td>09b03Fd.wav</td>\n",
       "      <td>happy</td>\n",
       "      <td>9</td>\n",
       "      <td>f</td>\n",
       "      <td>3.312517</td>\n",
       "    </tr>\n",
       "    <tr>\n",
       "      <th>4</th>\n",
       "      <td>4</td>\n",
       "      <td>/datasets/nicolas_facchinetti/emodb/data/16b10...</td>\n",
       "      <td>16b10Fb.wav</td>\n",
       "      <td>happy</td>\n",
       "      <td>16</td>\n",
       "      <td>f</td>\n",
       "      <td>2.583537</td>\n",
       "    </tr>\n",
       "    <tr>\n",
       "      <th>...</th>\n",
       "      <td>...</td>\n",
       "      <td>...</td>\n",
       "      <td>...</td>\n",
       "      <td>...</td>\n",
       "      <td>...</td>\n",
       "      <td>...</td>\n",
       "      <td>...</td>\n",
       "    </tr>\n",
       "    <tr>\n",
       "      <th>356</th>\n",
       "      <td>526</td>\n",
       "      <td>/datasets/nicolas_facchinetti/emodb/data/08a02...</td>\n",
       "      <td>08a02Ac.wav</td>\n",
       "      <td>fear</td>\n",
       "      <td>8</td>\n",
       "      <td>f</td>\n",
       "      <td>1.686349</td>\n",
       "    </tr>\n",
       "    <tr>\n",
       "      <th>357</th>\n",
       "      <td>530</td>\n",
       "      <td>/datasets/nicolas_facchinetti/emodb/data/15a04...</td>\n",
       "      <td>15a04Wa.wav</td>\n",
       "      <td>angry</td>\n",
       "      <td>15</td>\n",
       "      <td>m</td>\n",
       "      <td>1.945397</td>\n",
       "    </tr>\n",
       "    <tr>\n",
       "      <th>358</th>\n",
       "      <td>531</td>\n",
       "      <td>/datasets/nicolas_facchinetti/emodb/data/11b03...</td>\n",
       "      <td>11b03Td.wav</td>\n",
       "      <td>sad</td>\n",
       "      <td>11</td>\n",
       "      <td>m</td>\n",
       "      <td>5.905034</td>\n",
       "    </tr>\n",
       "    <tr>\n",
       "      <th>359</th>\n",
       "      <td>532</td>\n",
       "      <td>/datasets/nicolas_facchinetti/emodb/data/12b02...</td>\n",
       "      <td>12b02Na.wav</td>\n",
       "      <td>neutral</td>\n",
       "      <td>12</td>\n",
       "      <td>m</td>\n",
       "      <td>2.982086</td>\n",
       "    </tr>\n",
       "    <tr>\n",
       "      <th>360</th>\n",
       "      <td>534</td>\n",
       "      <td>/datasets/nicolas_facchinetti/emodb/data/08b01...</td>\n",
       "      <td>08b01Fe.wav</td>\n",
       "      <td>happy</td>\n",
       "      <td>8</td>\n",
       "      <td>f</td>\n",
       "      <td>2.515782</td>\n",
       "    </tr>\n",
       "  </tbody>\n",
       "</table>\n",
       "<p>361 rows × 7 columns</p>\n",
       "</div>"
      ],
      "text/plain": [
       "     index                                               path     filename  \\\n",
       "0        0  /datasets/nicolas_facchinetti/emodb/data/13a05...  13a05Tc.wav   \n",
       "1        1  /datasets/nicolas_facchinetti/emodb/data/14b09...  14b09Ac.wav   \n",
       "2        2  /datasets/nicolas_facchinetti/emodb/data/11b02...  11b02Na.wav   \n",
       "3        3  /datasets/nicolas_facchinetti/emodb/data/09b03...  09b03Fd.wav   \n",
       "4        4  /datasets/nicolas_facchinetti/emodb/data/16b10...  16b10Fb.wav   \n",
       "..     ...                                                ...          ...   \n",
       "356    526  /datasets/nicolas_facchinetti/emodb/data/08a02...  08a02Ac.wav   \n",
       "357    530  /datasets/nicolas_facchinetti/emodb/data/15a04...  15a04Wa.wav   \n",
       "358    531  /datasets/nicolas_facchinetti/emodb/data/11b03...  11b03Td.wav   \n",
       "359    532  /datasets/nicolas_facchinetti/emodb/data/12b02...  12b02Na.wav   \n",
       "360    534  /datasets/nicolas_facchinetti/emodb/data/08b01...  08b01Fe.wav   \n",
       "\n",
       "       label  actor gender    length  \n",
       "0        sad     13      f  4.451383  \n",
       "1       fear     14      f  2.287710  \n",
       "2    neutral     11      m  2.698821  \n",
       "3      happy      9      f  3.312517  \n",
       "4      happy     16      f  2.583537  \n",
       "..       ...    ...    ...       ...  \n",
       "356     fear      8      f  1.686349  \n",
       "357    angry     15      m  1.945397  \n",
       "358      sad     11      m  5.905034  \n",
       "359  neutral     12      m  2.982086  \n",
       "360    happy      8      f  2.515782  \n",
       "\n",
       "[361 rows x 7 columns]"
      ]
     },
     "execution_count": 26,
     "metadata": {},
     "output_type": "execute_result"
    }
   ],
   "source": [
    "frames['emodb']"
   ]
  },
  {
   "cell_type": "markdown",
   "id": "c522622e",
   "metadata": {},
   "source": [
    "# Load and trim the samples for each dataset"
   ]
  },
  {
   "cell_type": "code",
   "execution_count": 27,
   "id": "f1d59494",
   "metadata": {},
   "outputs": [],
   "source": [
    "def load_samples(metadata):\n",
    "    samples = []\n",
    "    for _, data in metadata.iterrows():\n",
    "        # load audio data\n",
    "        path = data[\"path\"]\n",
    "        sample, _ = librosa.load(path, sr=sr)\n",
    "        trimmed = librosa.effects.trim(sample, top_db=30, frame_length=512, hop_length=64)[0]\n",
    "        samples.append(trimmed)\n",
    "    return samples"
   ]
  },
  {
   "cell_type": "code",
   "execution_count": 28,
   "id": "364e4ae1",
   "metadata": {},
   "outputs": [
    {
     "name": "stdout",
     "output_type": "stream",
     "text": [
      "Processing emodb\n",
      "Processing emovo\n",
      "Processing ravdess\n"
     ]
    }
   ],
   "source": [
    "dataset_samples = {}\n",
    "for dataset in frames:\n",
    "    print(f'Processing {dataset}')\n",
    "    dataset_samples[dataset] = load_samples(frames[dataset])"
   ]
  },
  {
   "cell_type": "code",
   "execution_count": 29,
   "id": "b9054d12",
   "metadata": {},
   "outputs": [
    {
     "data": {
      "text/plain": [
       "(361, 361, 420, 420, 960, 960)"
      ]
     },
     "execution_count": 29,
     "metadata": {},
     "output_type": "execute_result"
    }
   ],
   "source": [
    "len(dataset_samples['emodb']), len(frames['emodb']), len(dataset_samples['emovo']), len(frames['emovo']), len(dataset_samples['ravdess']), len(frames['ravdess'])"
   ]
  },
  {
   "cell_type": "markdown",
   "id": "719dab11",
   "metadata": {},
   "source": [
    "Update metadata with new lengths"
   ]
  },
  {
   "cell_type": "code",
   "execution_count": 30,
   "id": "b0c91f4d",
   "metadata": {},
   "outputs": [],
   "source": [
    "for d in dataset_samples:\n",
    "    trimmed_length = [len(s)/sr for s in dataset_samples[d]]\n",
    "    frames[d]['trimmed_lenght'] = trimmed_length"
   ]
  },
  {
   "cell_type": "code",
   "execution_count": 31,
   "id": "0dbc335c",
   "metadata": {},
   "outputs": [
    {
     "data": {
      "text/html": [
       "<div>\n",
       "<style scoped>\n",
       "    .dataframe tbody tr th:only-of-type {\n",
       "        vertical-align: middle;\n",
       "    }\n",
       "\n",
       "    .dataframe tbody tr th {\n",
       "        vertical-align: top;\n",
       "    }\n",
       "\n",
       "    .dataframe thead th {\n",
       "        text-align: right;\n",
       "    }\n",
       "</style>\n",
       "<table border=\"1\" class=\"dataframe\">\n",
       "  <thead>\n",
       "    <tr style=\"text-align: right;\">\n",
       "      <th></th>\n",
       "      <th>index</th>\n",
       "      <th>path</th>\n",
       "      <th>filename</th>\n",
       "      <th>label</th>\n",
       "      <th>actor</th>\n",
       "      <th>gender</th>\n",
       "      <th>length</th>\n",
       "      <th>trimmed_lenght</th>\n",
       "    </tr>\n",
       "  </thead>\n",
       "  <tbody>\n",
       "    <tr>\n",
       "      <th>0</th>\n",
       "      <td>0</td>\n",
       "      <td>/datasets/nicolas_facchinetti/emodb/data/13a05...</td>\n",
       "      <td>13a05Tc.wav</td>\n",
       "      <td>sad</td>\n",
       "      <td>13</td>\n",
       "      <td>f</td>\n",
       "      <td>4.451383</td>\n",
       "      <td>4.451375</td>\n",
       "    </tr>\n",
       "    <tr>\n",
       "      <th>1</th>\n",
       "      <td>1</td>\n",
       "      <td>/datasets/nicolas_facchinetti/emodb/data/14b09...</td>\n",
       "      <td>14b09Ac.wav</td>\n",
       "      <td>fear</td>\n",
       "      <td>14</td>\n",
       "      <td>f</td>\n",
       "      <td>2.287710</td>\n",
       "      <td>2.180000</td>\n",
       "    </tr>\n",
       "    <tr>\n",
       "      <th>2</th>\n",
       "      <td>2</td>\n",
       "      <td>/datasets/nicolas_facchinetti/emodb/data/11b02...</td>\n",
       "      <td>11b02Na.wav</td>\n",
       "      <td>neutral</td>\n",
       "      <td>11</td>\n",
       "      <td>m</td>\n",
       "      <td>2.698821</td>\n",
       "      <td>2.500000</td>\n",
       "    </tr>\n",
       "    <tr>\n",
       "      <th>3</th>\n",
       "      <td>3</td>\n",
       "      <td>/datasets/nicolas_facchinetti/emodb/data/09b03...</td>\n",
       "      <td>09b03Fd.wav</td>\n",
       "      <td>happy</td>\n",
       "      <td>9</td>\n",
       "      <td>f</td>\n",
       "      <td>3.312517</td>\n",
       "      <td>3.132000</td>\n",
       "    </tr>\n",
       "    <tr>\n",
       "      <th>4</th>\n",
       "      <td>4</td>\n",
       "      <td>/datasets/nicolas_facchinetti/emodb/data/16b10...</td>\n",
       "      <td>16b10Fb.wav</td>\n",
       "      <td>happy</td>\n",
       "      <td>16</td>\n",
       "      <td>f</td>\n",
       "      <td>2.583537</td>\n",
       "      <td>2.268000</td>\n",
       "    </tr>\n",
       "    <tr>\n",
       "      <th>...</th>\n",
       "      <td>...</td>\n",
       "      <td>...</td>\n",
       "      <td>...</td>\n",
       "      <td>...</td>\n",
       "      <td>...</td>\n",
       "      <td>...</td>\n",
       "      <td>...</td>\n",
       "      <td>...</td>\n",
       "    </tr>\n",
       "    <tr>\n",
       "      <th>955</th>\n",
       "      <td>1434</td>\n",
       "      <td>/datasets/nicolas_facchinetti/ravdess/data/Act...</td>\n",
       "      <td>03-01-07-01-01-01-13.wav</td>\n",
       "      <td>disgust</td>\n",
       "      <td>Actor_13</td>\n",
       "      <td>m</td>\n",
       "      <td>3.136463</td>\n",
       "      <td>1.240000</td>\n",
       "    </tr>\n",
       "    <tr>\n",
       "      <th>956</th>\n",
       "      <td>1435</td>\n",
       "      <td>/datasets/nicolas_facchinetti/ravdess/data/Act...</td>\n",
       "      <td>03-01-06-02-01-02-13.wav</td>\n",
       "      <td>fear</td>\n",
       "      <td>Actor_13</td>\n",
       "      <td>m</td>\n",
       "      <td>3.269977</td>\n",
       "      <td>1.348000</td>\n",
       "    </tr>\n",
       "    <tr>\n",
       "      <th>957</th>\n",
       "      <td>1437</td>\n",
       "      <td>/datasets/nicolas_facchinetti/ravdess/data/Act...</td>\n",
       "      <td>03-01-04-01-01-02-13.wav</td>\n",
       "      <td>sad</td>\n",
       "      <td>Actor_13</td>\n",
       "      <td>m</td>\n",
       "      <td>3.536871</td>\n",
       "      <td>1.608000</td>\n",
       "    </tr>\n",
       "    <tr>\n",
       "      <th>958</th>\n",
       "      <td>1438</td>\n",
       "      <td>/datasets/nicolas_facchinetti/ravdess/data/Act...</td>\n",
       "      <td>03-01-08-01-02-02-13.wav</td>\n",
       "      <td>surprised</td>\n",
       "      <td>Actor_13</td>\n",
       "      <td>m</td>\n",
       "      <td>3.036417</td>\n",
       "      <td>1.096000</td>\n",
       "    </tr>\n",
       "    <tr>\n",
       "      <th>959</th>\n",
       "      <td>1439</td>\n",
       "      <td>/datasets/nicolas_facchinetti/ravdess/data/Act...</td>\n",
       "      <td>03-01-07-01-01-02-13.wav</td>\n",
       "      <td>disgust</td>\n",
       "      <td>Actor_13</td>\n",
       "      <td>m</td>\n",
       "      <td>3.169841</td>\n",
       "      <td>1.268000</td>\n",
       "    </tr>\n",
       "  </tbody>\n",
       "</table>\n",
       "<p>1741 rows × 8 columns</p>\n",
       "</div>"
      ],
      "text/plain": [
       "     index                                               path  \\\n",
       "0        0  /datasets/nicolas_facchinetti/emodb/data/13a05...   \n",
       "1        1  /datasets/nicolas_facchinetti/emodb/data/14b09...   \n",
       "2        2  /datasets/nicolas_facchinetti/emodb/data/11b02...   \n",
       "3        3  /datasets/nicolas_facchinetti/emodb/data/09b03...   \n",
       "4        4  /datasets/nicolas_facchinetti/emodb/data/16b10...   \n",
       "..     ...                                                ...   \n",
       "955   1434  /datasets/nicolas_facchinetti/ravdess/data/Act...   \n",
       "956   1435  /datasets/nicolas_facchinetti/ravdess/data/Act...   \n",
       "957   1437  /datasets/nicolas_facchinetti/ravdess/data/Act...   \n",
       "958   1438  /datasets/nicolas_facchinetti/ravdess/data/Act...   \n",
       "959   1439  /datasets/nicolas_facchinetti/ravdess/data/Act...   \n",
       "\n",
       "                     filename      label     actor gender    length  \\\n",
       "0                 13a05Tc.wav        sad        13      f  4.451383   \n",
       "1                 14b09Ac.wav       fear        14      f  2.287710   \n",
       "2                 11b02Na.wav    neutral        11      m  2.698821   \n",
       "3                 09b03Fd.wav      happy         9      f  3.312517   \n",
       "4                 16b10Fb.wav      happy        16      f  2.583537   \n",
       "..                        ...        ...       ...    ...       ...   \n",
       "955  03-01-07-01-01-01-13.wav    disgust  Actor_13      m  3.136463   \n",
       "956  03-01-06-02-01-02-13.wav       fear  Actor_13      m  3.269977   \n",
       "957  03-01-04-01-01-02-13.wav        sad  Actor_13      m  3.536871   \n",
       "958  03-01-08-01-02-02-13.wav  surprised  Actor_13      m  3.036417   \n",
       "959  03-01-07-01-01-02-13.wav    disgust  Actor_13      m  3.169841   \n",
       "\n",
       "     trimmed_lenght  \n",
       "0          4.451375  \n",
       "1          2.180000  \n",
       "2          2.500000  \n",
       "3          3.132000  \n",
       "4          2.268000  \n",
       "..              ...  \n",
       "955        1.240000  \n",
       "956        1.348000  \n",
       "957        1.608000  \n",
       "958        1.096000  \n",
       "959        1.268000  \n",
       "\n",
       "[1741 rows x 8 columns]"
      ]
     },
     "execution_count": 31,
     "metadata": {},
     "output_type": "execute_result"
    }
   ],
   "source": [
    "result = pd.concat(frames.values())\n",
    "result"
   ]
  },
  {
   "cell_type": "markdown",
   "id": "2a64d55b",
   "metadata": {},
   "source": [
    "# Split and repeat"
   ]
  },
  {
   "cell_type": "markdown",
   "id": "be2c1e52",
   "metadata": {},
   "source": [
    "Let's keep a sample length equal to 3 seconds, repeat the shorter while split the longer segments. Throw away samples below min lenght"
   ]
  },
  {
   "cell_type": "code",
   "execution_count": 32,
   "id": "16872bd7",
   "metadata": {},
   "outputs": [
    {
     "data": {
      "text/plain": [
       "(3, 48000)"
      ]
     },
     "execution_count": 32,
     "metadata": {},
     "output_type": "execute_result"
    }
   ],
   "source": [
    "target_l = 3\n",
    "buffer_length = target_l*sr\n",
    "target_l, buffer_length"
   ]
  },
  {
   "cell_type": "code",
   "execution_count": 33,
   "id": "17d30f93",
   "metadata": {},
   "outputs": [
    {
     "data": {
      "text/html": [
       "<div>\n",
       "<style scoped>\n",
       "    .dataframe tbody tr th:only-of-type {\n",
       "        vertical-align: middle;\n",
       "    }\n",
       "\n",
       "    .dataframe tbody tr th {\n",
       "        vertical-align: top;\n",
       "    }\n",
       "\n",
       "    .dataframe thead th {\n",
       "        text-align: right;\n",
       "    }\n",
       "</style>\n",
       "<table border=\"1\" class=\"dataframe\">\n",
       "  <thead>\n",
       "    <tr style=\"text-align: right;\">\n",
       "      <th></th>\n",
       "      <th>index</th>\n",
       "      <th>path</th>\n",
       "      <th>filename</th>\n",
       "      <th>label</th>\n",
       "      <th>actor</th>\n",
       "      <th>gender</th>\n",
       "      <th>length</th>\n",
       "      <th>trimmed_lenght</th>\n",
       "    </tr>\n",
       "  </thead>\n",
       "  <tbody>\n",
       "    <tr>\n",
       "      <th>323</th>\n",
       "      <td>451</td>\n",
       "      <td>/datasets/nicolas_facchinetti/emovo/data/m1/pa...</td>\n",
       "      <td>pau-m1-d2.wav</td>\n",
       "      <td>fear</td>\n",
       "      <td>m1</td>\n",
       "      <td>m</td>\n",
       "      <td>1.92</td>\n",
       "      <td>0.9</td>\n",
       "    </tr>\n",
       "  </tbody>\n",
       "</table>\n",
       "</div>"
      ],
      "text/plain": [
       "     index                                               path       filename  \\\n",
       "323    451  /datasets/nicolas_facchinetti/emovo/data/m1/pa...  pau-m1-d2.wav   \n",
       "\n",
       "    label actor gender  length  trimmed_lenght  \n",
       "323  fear    m1      m    1.92             0.9  "
      ]
     },
     "execution_count": 33,
     "metadata": {},
     "output_type": "execute_result"
    }
   ],
   "source": [
    "min_l = result[\"trimmed_lenght\"].describe()[\"min\"]\n",
    "min_s = result.loc[result['trimmed_lenght'] == min_l]\n",
    "min_s"
   ]
  },
  {
   "cell_type": "code",
   "execution_count": 34,
   "id": "dff90f3d",
   "metadata": {},
   "outputs": [],
   "source": [
    "import math \n",
    "def repeat_sample(data, length):\n",
    "    n = math.ceil(length/len(data))\n",
    "    data = np.tile(data, n)\n",
    "    return data[:int(length)]"
   ]
  },
  {
   "cell_type": "code",
   "execution_count": 35,
   "id": "196e43c8",
   "metadata": {},
   "outputs": [],
   "source": [
    "def split_sample(audio, length, minimum):\n",
    "    samples_total = len(audio)\n",
    "    samples_wrote = 0\n",
    "    segments = []\n",
    "    \n",
    "    to_process = samples_total - samples_wrote\n",
    "    while to_process > minimum:\n",
    "        segment = audio[samples_wrote : (samples_wrote + length)]\n",
    "        segments.append(segment)\n",
    "        samples_wrote += length\n",
    "        to_process = samples_total - samples_wrote\n",
    "    return segments"
   ]
  },
  {
   "cell_type": "markdown",
   "id": "b46fda04",
   "metadata": {},
   "source": [
    "# Data augmentation"
   ]
  },
  {
   "cell_type": "markdown",
   "id": "7bdb5954",
   "metadata": {},
   "source": [
    "We have not so much samples, augment the datasets' records"
   ]
  },
  {
   "cell_type": "code",
   "execution_count": 36,
   "id": "afb6fbac",
   "metadata": {},
   "outputs": [],
   "source": [
    "def time_stretch_sample(sample, factors):\n",
    "    stretched = []\n",
    "    for f in factors:\n",
    "        stretched.append(librosa.effects.time_stretch(y=sample, rate=f))\n",
    "    return stretched\n",
    "\n",
    "def pitch_shift_sample(sample, factors, sr):\n",
    "    stretched = []\n",
    "    for f in factors:\n",
    "        stretched.append(librosa.effects.pitch_shift(y=sample, sr=sr, n_steps=f))\n",
    "    return stretched\n",
    "\n",
    "time_factors = [0.75, 0.9, 1.1, 1.25]\n",
    "pitch_factors = [-3, -1.5, +1.5, +3]"
   ]
  },
  {
   "cell_type": "code",
   "execution_count": 37,
   "id": "d9b05f91",
   "metadata": {},
   "outputs": [
    {
     "data": {
      "text/html": [
       "\n",
       "                <audio  controls=\"controls\" >\n",
       "                    <source src=\"data:audio/wav;base64,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\" type=\"audio/wav\" />\n",
       "                    Your browser does not support the audio element.\n",
       "                </audio>\n",
       "              "
      ],
      "text/plain": [
       "<IPython.lib.display.Audio object>"
      ]
     },
     "execution_count": 37,
     "metadata": {},
     "output_type": "execute_result"
    }
   ],
   "source": [
    "import IPython\n",
    "example = dataset_samples['emovo'][100]\n",
    "IPython.display.Audio(example, rate=sr)"
   ]
  },
  {
   "cell_type": "code",
   "execution_count": 38,
   "id": "bca2618b",
   "metadata": {},
   "outputs": [
    {
     "data": {
      "text/html": [
       "\n",
       "                <audio  controls=\"controls\" >\n",
       "                    <source src=\"data:audio/wav;base64,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\" type=\"audio/wav\" />\n",
       "                    Your browser does not support the audio element.\n",
       "                </audio>\n",
       "              "
      ],
      "text/plain": [
       "<IPython.lib.display.Audio object>"
      ]
     },
     "execution_count": 38,
     "metadata": {},
     "output_type": "execute_result"
    }
   ],
   "source": [
    "s = time_stretch_sample(example, time_factors)\n",
    "IPython.display.Audio(s[0], rate=sr)"
   ]
  },
  {
   "cell_type": "code",
   "execution_count": 39,
   "id": "d052e1e2",
   "metadata": {},
   "outputs": [
    {
     "data": {
      "text/html": [
       "\n",
       "                <audio  controls=\"controls\" >\n",
       "                    <source src=\"data:audio/wav;base64,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\" type=\"audio/wav\" />\n",
       "                    Your browser does not support the audio element.\n",
       "                </audio>\n",
       "              "
      ],
      "text/plain": [
       "<IPython.lib.display.Audio object>"
      ]
     },
     "execution_count": 39,
     "metadata": {},
     "output_type": "execute_result"
    }
   ],
   "source": [
    "s = pitch_shift_sample(example, pitch_factors, sr)\n",
    "IPython.display.Audio(s[3], rate=sr)"
   ]
  },
  {
   "cell_type": "markdown",
   "id": "e888643e",
   "metadata": {},
   "source": [
    "# Dataset processing"
   ]
  },
  {
   "cell_type": "markdown",
   "id": "68096aa2",
   "metadata": {},
   "source": [
    "Split and repeat all the samples to the same length, then extract log Mel-specotrograms from all the samples"
   ]
  },
  {
   "cell_type": "code",
   "execution_count": 40,
   "id": "60dc97d5",
   "metadata": {},
   "outputs": [
    {
     "data": {
      "text/html": [
       "<div>\n",
       "<style scoped>\n",
       "    .dataframe tbody tr th:only-of-type {\n",
       "        vertical-align: middle;\n",
       "    }\n",
       "\n",
       "    .dataframe tbody tr th {\n",
       "        vertical-align: top;\n",
       "    }\n",
       "\n",
       "    .dataframe thead th {\n",
       "        text-align: right;\n",
       "    }\n",
       "</style>\n",
       "<table border=\"1\" class=\"dataframe\">\n",
       "  <thead>\n",
       "    <tr style=\"text-align: right;\">\n",
       "      <th></th>\n",
       "      <th>index</th>\n",
       "      <th>path</th>\n",
       "      <th>filename</th>\n",
       "      <th>label</th>\n",
       "      <th>actor</th>\n",
       "      <th>gender</th>\n",
       "      <th>length</th>\n",
       "      <th>trimmed_lenght</th>\n",
       "    </tr>\n",
       "  </thead>\n",
       "  <tbody>\n",
       "    <tr>\n",
       "      <th>0</th>\n",
       "      <td>0</td>\n",
       "      <td>/datasets/nicolas_facchinetti/emodb/data/13a05...</td>\n",
       "      <td>13a05Tc.wav</td>\n",
       "      <td>sad</td>\n",
       "      <td>13</td>\n",
       "      <td>f</td>\n",
       "      <td>4.451383</td>\n",
       "      <td>4.451375</td>\n",
       "    </tr>\n",
       "    <tr>\n",
       "      <th>1</th>\n",
       "      <td>1</td>\n",
       "      <td>/datasets/nicolas_facchinetti/emodb/data/14b09...</td>\n",
       "      <td>14b09Ac.wav</td>\n",
       "      <td>fear</td>\n",
       "      <td>14</td>\n",
       "      <td>f</td>\n",
       "      <td>2.287710</td>\n",
       "      <td>2.180000</td>\n",
       "    </tr>\n",
       "    <tr>\n",
       "      <th>2</th>\n",
       "      <td>2</td>\n",
       "      <td>/datasets/nicolas_facchinetti/emodb/data/11b02...</td>\n",
       "      <td>11b02Na.wav</td>\n",
       "      <td>neutral</td>\n",
       "      <td>11</td>\n",
       "      <td>m</td>\n",
       "      <td>2.698821</td>\n",
       "      <td>2.500000</td>\n",
       "    </tr>\n",
       "    <tr>\n",
       "      <th>3</th>\n",
       "      <td>3</td>\n",
       "      <td>/datasets/nicolas_facchinetti/emodb/data/09b03...</td>\n",
       "      <td>09b03Fd.wav</td>\n",
       "      <td>happy</td>\n",
       "      <td>9</td>\n",
       "      <td>f</td>\n",
       "      <td>3.312517</td>\n",
       "      <td>3.132000</td>\n",
       "    </tr>\n",
       "    <tr>\n",
       "      <th>4</th>\n",
       "      <td>4</td>\n",
       "      <td>/datasets/nicolas_facchinetti/emodb/data/16b10...</td>\n",
       "      <td>16b10Fb.wav</td>\n",
       "      <td>happy</td>\n",
       "      <td>16</td>\n",
       "      <td>f</td>\n",
       "      <td>2.583537</td>\n",
       "      <td>2.268000</td>\n",
       "    </tr>\n",
       "  </tbody>\n",
       "</table>\n",
       "</div>"
      ],
      "text/plain": [
       "   index                                               path     filename  \\\n",
       "0      0  /datasets/nicolas_facchinetti/emodb/data/13a05...  13a05Tc.wav   \n",
       "1      1  /datasets/nicolas_facchinetti/emodb/data/14b09...  14b09Ac.wav   \n",
       "2      2  /datasets/nicolas_facchinetti/emodb/data/11b02...  11b02Na.wav   \n",
       "3      3  /datasets/nicolas_facchinetti/emodb/data/09b03...  09b03Fd.wav   \n",
       "4      4  /datasets/nicolas_facchinetti/emodb/data/16b10...  16b10Fb.wav   \n",
       "\n",
       "     label actor gender    length  trimmed_lenght  \n",
       "0      sad    13      f  4.451383        4.451375  \n",
       "1     fear    14      f  2.287710        2.180000  \n",
       "2  neutral    11      m  2.698821        2.500000  \n",
       "3    happy     9      f  3.312517        3.132000  \n",
       "4    happy    16      f  2.583537        2.268000  "
      ]
     },
     "execution_count": 40,
     "metadata": {},
     "output_type": "execute_result"
    }
   ],
   "source": [
    "result.head()"
   ]
  },
  {
   "cell_type": "code",
   "execution_count": 41,
   "id": "6b123a63",
   "metadata": {},
   "outputs": [],
   "source": [
    "from tqdm.notebook import tqdm\n",
    "\n",
    "def process_audio_files(audio_data, metadata):\n",
    "    sgram_list = []\n",
    "    audio_list = []\n",
    "    mod_data = []\n",
    "    for idx, data in tqdm(metadata.iterrows(), total=metadata.shape[0]):\n",
    "        # load audio data\n",
    "        sample = audio_data[idx]\n",
    "        \n",
    "        # data augmentation\n",
    "        pitched = [(s,1) for s in pitch_shift_sample(sample, pitch_factors, sr)]\n",
    "        stretched = [(s,2) for s in time_stretch_sample(sample, time_factors)]\n",
    "        list_sample = [(sample, 0)] + pitched + stretched\n",
    "        \n",
    "        splitted_list = []\n",
    "        # split the larger segmtents\n",
    "        for s in list_sample:\n",
    "            if len(s[0]) >= buffer_length:\n",
    "                splitted = split_sample(s[0], int(buffer_length), int(min_l))\n",
    "                # trim silent parts in each splitted frame\n",
    "                samples = [(librosa.effects.trim(splitted_sample, top_db=30, frame_length=512, hop_length=64)[0], num, s[1])\n",
    "                           for num, splitted_sample in enumerate(splitted)]\n",
    "                splitted_list += samples\n",
    "            else:\n",
    "                splitted_list.append((s[0], 0, s[1]))\n",
    "           \n",
    "        # repeat the shorter segments\n",
    "        for sample in splitted_list:\n",
    "            s = sample[0]\n",
    "            if len(s) < buffer_length:\n",
    "                s = repeat_sample(s, buffer_length)\n",
    "            \n",
    "            # compute log mel-spectrograms\n",
    "            mel_scale_sgram = librosa.feature.melspectrogram(y=s, sr=sr, n_fft=368, hop_length=184, n_mels=128)\n",
    "            log_mel_sgram = librosa.amplitude_to_db(mel_scale_sgram, ref=np.min)\n",
    "            \n",
    "            # save computation\n",
    "            audio_list.append(s)\n",
    "            sgram_list.append(log_mel_sgram)\n",
    "            mod_data.append([data[\"path\"], data[\"filename\"], sample[1], data[\"label\"], data[\"actor\"], data[\"gender\"], sample[2]])\n",
    "\n",
    "    df_info_mod = pd.DataFrame(mod_data, columns=['path', 'filename', 'chunk', 'label', 'actor', 'gender', 'mod'])\n",
    "    return sgram_list, audio_list, df_info_mod"
   ]
  },
  {
   "cell_type": "code",
   "execution_count": 42,
   "id": "228e827e",
   "metadata": {},
   "outputs": [
    {
     "data": {
      "text/html": [
       "<div>\n",
       "<style scoped>\n",
       "    .dataframe tbody tr th:only-of-type {\n",
       "        vertical-align: middle;\n",
       "    }\n",
       "\n",
       "    .dataframe tbody tr th {\n",
       "        vertical-align: top;\n",
       "    }\n",
       "\n",
       "    .dataframe thead th {\n",
       "        text-align: right;\n",
       "    }\n",
       "</style>\n",
       "<table border=\"1\" class=\"dataframe\">\n",
       "  <thead>\n",
       "    <tr style=\"text-align: right;\">\n",
       "      <th></th>\n",
       "      <th>index</th>\n",
       "      <th>path</th>\n",
       "      <th>filename</th>\n",
       "      <th>label</th>\n",
       "      <th>actor</th>\n",
       "      <th>gender</th>\n",
       "      <th>length</th>\n",
       "      <th>trimmed_lenght</th>\n",
       "    </tr>\n",
       "  </thead>\n",
       "  <tbody>\n",
       "    <tr>\n",
       "      <th>0</th>\n",
       "      <td>0</td>\n",
       "      <td>/datasets/nicolas_facchinetti/emovo/data/m3/gi...</td>\n",
       "      <td>gio-m3-l1.wav</td>\n",
       "      <td>happy</td>\n",
       "      <td>m3</td>\n",
       "      <td>m</td>\n",
       "      <td>5.205351</td>\n",
       "      <td>3.888</td>\n",
       "    </tr>\n",
       "    <tr>\n",
       "      <th>1</th>\n",
       "      <td>1</td>\n",
       "      <td>/datasets/nicolas_facchinetti/emovo/data/m3/gi...</td>\n",
       "      <td>gio-m3-b3.wav</td>\n",
       "      <td>happy</td>\n",
       "      <td>m3</td>\n",
       "      <td>m</td>\n",
       "      <td>1.877370</td>\n",
       "      <td>1.392</td>\n",
       "    </tr>\n",
       "    <tr>\n",
       "      <th>2</th>\n",
       "      <td>2</td>\n",
       "      <td>/datasets/nicolas_facchinetti/emovo/data/m3/pa...</td>\n",
       "      <td>pau-m3-n5.wav</td>\n",
       "      <td>fear</td>\n",
       "      <td>m3</td>\n",
       "      <td>m</td>\n",
       "      <td>4.394694</td>\n",
       "      <td>3.440</td>\n",
       "    </tr>\n",
       "    <tr>\n",
       "      <th>3</th>\n",
       "      <td>5</td>\n",
       "      <td>/datasets/nicolas_facchinetti/emovo/data/m3/pa...</td>\n",
       "      <td>pau-m3-b2.wav</td>\n",
       "      <td>fear</td>\n",
       "      <td>m3</td>\n",
       "      <td>m</td>\n",
       "      <td>2.517370</td>\n",
       "      <td>1.576</td>\n",
       "    </tr>\n",
       "    <tr>\n",
       "      <th>4</th>\n",
       "      <td>6</td>\n",
       "      <td>/datasets/nicolas_facchinetti/emovo/data/m3/so...</td>\n",
       "      <td>sor-m3-n3.wav</td>\n",
       "      <td>surprised</td>\n",
       "      <td>m3</td>\n",
       "      <td>m</td>\n",
       "      <td>2.432018</td>\n",
       "      <td>1.512</td>\n",
       "    </tr>\n",
       "    <tr>\n",
       "      <th>...</th>\n",
       "      <td>...</td>\n",
       "      <td>...</td>\n",
       "      <td>...</td>\n",
       "      <td>...</td>\n",
       "      <td>...</td>\n",
       "      <td>...</td>\n",
       "      <td>...</td>\n",
       "      <td>...</td>\n",
       "    </tr>\n",
       "    <tr>\n",
       "      <th>415</th>\n",
       "      <td>581</td>\n",
       "      <td>/datasets/nicolas_facchinetti/emovo/data/m2/gi...</td>\n",
       "      <td>gio-m2-d1.wav</td>\n",
       "      <td>happy</td>\n",
       "      <td>m2</td>\n",
       "      <td>m</td>\n",
       "      <td>2.090703</td>\n",
       "      <td>1.276</td>\n",
       "    </tr>\n",
       "    <tr>\n",
       "      <th>416</th>\n",
       "      <td>582</td>\n",
       "      <td>/datasets/nicolas_facchinetti/emovo/data/m2/pa...</td>\n",
       "      <td>pau-m2-l1.wav</td>\n",
       "      <td>fear</td>\n",
       "      <td>m2</td>\n",
       "      <td>m</td>\n",
       "      <td>4.394694</td>\n",
       "      <td>3.724</td>\n",
       "    </tr>\n",
       "    <tr>\n",
       "      <th>417</th>\n",
       "      <td>583</td>\n",
       "      <td>/datasets/nicolas_facchinetti/emovo/data/m2/di...</td>\n",
       "      <td>dis-m2-b3.wav</td>\n",
       "      <td>disgust</td>\n",
       "      <td>m2</td>\n",
       "      <td>m</td>\n",
       "      <td>2.474694</td>\n",
       "      <td>2.408</td>\n",
       "    </tr>\n",
       "    <tr>\n",
       "      <th>418</th>\n",
       "      <td>584</td>\n",
       "      <td>/datasets/nicolas_facchinetti/emovo/data/m2/so...</td>\n",
       "      <td>sor-m2-d1.wav</td>\n",
       "      <td>surprised</td>\n",
       "      <td>m2</td>\n",
       "      <td>m</td>\n",
       "      <td>2.090703</td>\n",
       "      <td>1.392</td>\n",
       "    </tr>\n",
       "    <tr>\n",
       "      <th>419</th>\n",
       "      <td>585</td>\n",
       "      <td>/datasets/nicolas_facchinetti/emovo/data/m2/pa...</td>\n",
       "      <td>pau-m2-b3.wav</td>\n",
       "      <td>fear</td>\n",
       "      <td>m2</td>\n",
       "      <td>m</td>\n",
       "      <td>1.962676</td>\n",
       "      <td>1.252</td>\n",
       "    </tr>\n",
       "  </tbody>\n",
       "</table>\n",
       "<p>420 rows × 8 columns</p>\n",
       "</div>"
      ],
      "text/plain": [
       "     index                                               path       filename  \\\n",
       "0        0  /datasets/nicolas_facchinetti/emovo/data/m3/gi...  gio-m3-l1.wav   \n",
       "1        1  /datasets/nicolas_facchinetti/emovo/data/m3/gi...  gio-m3-b3.wav   \n",
       "2        2  /datasets/nicolas_facchinetti/emovo/data/m3/pa...  pau-m3-n5.wav   \n",
       "3        5  /datasets/nicolas_facchinetti/emovo/data/m3/pa...  pau-m3-b2.wav   \n",
       "4        6  /datasets/nicolas_facchinetti/emovo/data/m3/so...  sor-m3-n3.wav   \n",
       "..     ...                                                ...            ...   \n",
       "415    581  /datasets/nicolas_facchinetti/emovo/data/m2/gi...  gio-m2-d1.wav   \n",
       "416    582  /datasets/nicolas_facchinetti/emovo/data/m2/pa...  pau-m2-l1.wav   \n",
       "417    583  /datasets/nicolas_facchinetti/emovo/data/m2/di...  dis-m2-b3.wav   \n",
       "418    584  /datasets/nicolas_facchinetti/emovo/data/m2/so...  sor-m2-d1.wav   \n",
       "419    585  /datasets/nicolas_facchinetti/emovo/data/m2/pa...  pau-m2-b3.wav   \n",
       "\n",
       "         label actor gender    length  trimmed_lenght  \n",
       "0        happy    m3      m  5.205351           3.888  \n",
       "1        happy    m3      m  1.877370           1.392  \n",
       "2         fear    m3      m  4.394694           3.440  \n",
       "3         fear    m3      m  2.517370           1.576  \n",
       "4    surprised    m3      m  2.432018           1.512  \n",
       "..         ...   ...    ...       ...             ...  \n",
       "415      happy    m2      m  2.090703           1.276  \n",
       "416       fear    m2      m  4.394694           3.724  \n",
       "417    disgust    m2      m  2.474694           2.408  \n",
       "418  surprised    m2      m  2.090703           1.392  \n",
       "419       fear    m2      m  1.962676           1.252  \n",
       "\n",
       "[420 rows x 8 columns]"
      ]
     },
     "execution_count": 42,
     "metadata": {},
     "output_type": "execute_result"
    }
   ],
   "source": [
    "frames['emovo']"
   ]
  },
  {
   "cell_type": "code",
   "execution_count": 43,
   "id": "215dbc4b",
   "metadata": {},
   "outputs": [
    {
     "data": {
      "application/vnd.jupyter.widget-view+json": {
       "model_id": "20db8aeee1cd4e6ea1dfc1a848125af3",
       "version_major": 2,
       "version_minor": 0
      },
      "text/plain": [
       "  0%|          | 0/1 [00:00<?, ?it/s]"
      ]
     },
     "metadata": {},
     "output_type": "display_data"
    },
    {
     "data": {
      "text/plain": [
       "([array([[24.332962, 24.332962, 24.332962, ..., 24.332962, 24.404778,\n",
       "          29.285362],\n",
       "         [24.332962, 29.137001, 29.510788, ..., 38.979202, 40.130077,\n",
       "          45.010662],\n",
       "         [24.332962, 39.3718  , 55.62881 , ..., 24.332962, 24.332962,\n",
       "          34.27858 ],\n",
       "         ...,\n",
       "         [24.332962, 24.332962, 24.332962, ..., 24.332962, 24.332962,\n",
       "          24.332962],\n",
       "         [24.332962, 24.332962, 24.332962, ..., 24.332962, 24.332962,\n",
       "          24.332962],\n",
       "         [24.332962, 24.332962, 24.332962, ..., 24.332962, 24.332962,\n",
       "          24.332962]], dtype=float32),\n",
       "  array([[46.338696, 19.886238, 19.886238, ..., 19.886238, 19.886238,\n",
       "          30.789154],\n",
       "         [62.063995, 19.886238, 29.042953, ..., 30.748566, 33.63804 ,\n",
       "          46.514458],\n",
       "         [53.448013, 19.886238, 20.901428, ..., 31.454163, 35.04194 ,\n",
       "          33.565155],\n",
       "         ...,\n",
       "         [19.886238, 19.886238, 19.886238, ..., 19.886238, 19.886238,\n",
       "          19.886238],\n",
       "         [19.886238, 19.886238, 19.886238, ..., 19.886238, 19.886238,\n",
       "          19.886238],\n",
       "         [19.886238, 19.886238, 19.886238, ..., 19.886238, 19.886238,\n",
       "          19.886238]], dtype=float32),\n",
       "  array([[18.848488, 18.848488, 31.208145, ..., 21.592278, 18.848488,\n",
       "          28.944427],\n",
       "         [18.848488, 27.86222 , 46.933445, ..., 37.317577, 19.967545,\n",
       "          44.669727],\n",
       "         [18.848488, 41.079197, 58.26259 , ..., 38.119488, 41.339725,\n",
       "          48.522163],\n",
       "         ...,\n",
       "         [18.848488, 18.848488, 18.848488, ..., 18.848488, 18.848488,\n",
       "          18.848488],\n",
       "         [18.848488, 18.848488, 18.848488, ..., 18.848488, 18.848488,\n",
       "          18.848488],\n",
       "         [18.848488, 18.848488, 18.848488, ..., 18.848488, 18.848488,\n",
       "          18.848488]], dtype=float32),\n",
       "  array([[26.031784, 19.657928, 14.046593, ..., 14.046593, 14.046593,\n",
       "          20.330269],\n",
       "         [41.757084, 35.383224, 14.046593, ..., 24.655869, 17.464615,\n",
       "          36.05557 ],\n",
       "         [50.835133, 14.046593, 24.568588, ..., 43.511536, 39.968983,\n",
       "          27.345901],\n",
       "         ...,\n",
       "         [14.046593, 14.046593, 14.046593, ..., 14.046593, 14.046593,\n",
       "          14.046593],\n",
       "         [14.046593, 14.046593, 14.046593, ..., 14.046593, 14.046593,\n",
       "          14.046593],\n",
       "         [14.046593, 14.046593, 14.046593, ..., 14.046593, 14.046593,\n",
       "          14.046593]], dtype=float32),\n",
       "  array([[20.14257 , 20.14257 , 25.69976 , ..., 25.89296 , 42.708916,\n",
       "          25.938972],\n",
       "         [20.14257 , 28.333427, 41.42506 , ..., 41.618263, 58.434216,\n",
       "          41.664272],\n",
       "         [20.14257 , 39.77632 , 57.200096, ..., 35.028015, 37.77211 ,\n",
       "          30.9348  ],\n",
       "         ...,\n",
       "         [20.14257 , 20.14257 , 20.14257 , ..., 20.14257 , 20.14257 ,\n",
       "          20.14257 ],\n",
       "         [20.14257 , 20.14257 , 20.14257 , ..., 20.14257 , 20.14257 ,\n",
       "          20.14257 ],\n",
       "         [20.14257 , 20.14257 , 20.14257 , ..., 20.14257 , 20.14257 ,\n",
       "          20.14257 ]], dtype=float32),\n",
       "  array([[24.691208, 17.04972 , 14.712227, ..., 14.712227, 22.599182,\n",
       "          14.712227],\n",
       "         [40.416508, 32.775024, 24.58104 , ..., 14.712227, 38.32448 ,\n",
       "          19.572563],\n",
       "         [45.292454, 28.874908, 14.712227, ..., 26.898956, 31.901695,\n",
       "          45.80666 ],\n",
       "         ...,\n",
       "         [14.712227, 14.712227, 14.712227, ..., 14.712227, 14.712227,\n",
       "          14.712227],\n",
       "         [14.712227, 14.712227, 14.712227, ..., 14.712227, 14.712227,\n",
       "          14.712227],\n",
       "         [14.712227, 14.712227, 14.712227, ..., 14.712227, 14.712227,\n",
       "          14.712227]], dtype=float32),\n",
       "  array([[14.387817, 14.387817, 14.387817, ..., 41.3228  , 34.58158 ,\n",
       "          14.387817],\n",
       "         [14.387817, 24.363983, 14.387817, ..., 57.048103, 50.306877,\n",
       "          23.664482],\n",
       "         [14.387817, 36.432465, 50.80675 , ..., 42.344574, 30.49308 ,\n",
       "          18.107231],\n",
       "         ...,\n",
       "         [14.387817, 14.387817, 14.387817, ..., 14.387817, 14.387817,\n",
       "          14.387817],\n",
       "         [14.387817, 14.387817, 14.387817, ..., 14.387817, 14.387817,\n",
       "          14.387817],\n",
       "         [14.387817, 14.387817, 14.387817, ..., 14.387817, 14.387817,\n",
       "          14.387817]], dtype=float32),\n",
       "  array([[40.137352, 16.041084, 16.041084, ..., 16.041084, 16.041084,\n",
       "          16.041084],\n",
       "         [55.86265 , 23.8937  , 16.041084, ..., 21.99054 , 16.041084,\n",
       "          16.041084],\n",
       "         [48.031525, 16.041084, 16.041084, ..., 16.041084, 16.041084,\n",
       "          16.041084],\n",
       "         ...,\n",
       "         [16.041084, 16.041084, 16.041084, ..., 16.041084, 16.041084,\n",
       "          16.041084],\n",
       "         [16.041084, 16.041084, 16.041084, ..., 16.041084, 16.041084,\n",
       "          16.041084],\n",
       "         [16.041084, 16.041084, 16.041084, ..., 16.041084, 16.041084,\n",
       "          16.041084]], dtype=float32),\n",
       "  array([[12.319656, 12.319656, 12.319656, ..., 19.71576 , 14.219681,\n",
       "          31.644669],\n",
       "         [12.319656, 13.302803, 12.319656, ..., 35.441063, 29.944984,\n",
       "          47.369965],\n",
       "         [12.319656, 33.9896  , 44.93114 , ..., 22.538925, 12.319656,\n",
       "          38.019547],\n",
       "         ...,\n",
       "         [12.319656, 12.319656, 12.319656, ..., 12.319656, 12.319656,\n",
       "          12.319656],\n",
       "         [12.319656, 12.319656, 12.319656, ..., 12.319656, 12.319656,\n",
       "          12.319656],\n",
       "         [12.319656, 12.319656, 12.319656, ..., 12.319656, 12.319656,\n",
       "          12.319656]], dtype=float32),\n",
       "  array([[31.064049, 14.646675, 14.646675, ..., 15.101509, 14.646675,\n",
       "          14.646675],\n",
       "         [46.789345, 27.209396, 14.646675, ..., 30.826805, 19.831177,\n",
       "          25.482704],\n",
       "         [35.92968 , 14.646675, 14.646675, ..., 14.646675, 20.272987,\n",
       "          16.453766],\n",
       "         ...,\n",
       "         [14.646675, 14.646675, 14.646675, ..., 14.646675, 14.646675,\n",
       "          14.646675],\n",
       "         [14.646675, 14.646675, 14.646675, ..., 14.646675, 14.646675,\n",
       "          14.646675],\n",
       "         [14.646675, 14.646675, 14.646675, ..., 14.646675, 14.646675,\n",
       "          14.646675]], dtype=float32),\n",
       "  array([[15.6082  , 15.6082  , 15.6082  , ..., 17.164986, 16.802078,\n",
       "          15.6082  ],\n",
       "         [15.6082  , 28.459389, 28.465897, ..., 32.89028 , 32.52738 ,\n",
       "          31.327202],\n",
       "         [15.6082  , 36.84442 , 53.851135, ..., 49.79156 , 49.02117 ,\n",
       "          47.517532],\n",
       "         ...,\n",
       "         [15.6082  , 15.6082  , 15.6082  , ..., 15.6082  , 15.6082  ,\n",
       "          15.6082  ],\n",
       "         [15.6082  , 15.6082  , 15.6082  , ..., 15.6082  , 15.6082  ,\n",
       "          15.6082  ],\n",
       "         [15.6082  , 15.6082  , 15.6082  , ..., 15.6082  , 15.6082  ,\n",
       "          15.6082  ]], dtype=float32),\n",
       "  array([[23.77539 , 23.77539 , 23.77539 , ..., 37.573196, 40.31271 ,\n",
       "          53.42681 ],\n",
       "         [34.650696, 23.77539 , 26.837105, ..., 53.298492, 56.03801 ,\n",
       "          69.15211 ],\n",
       "         [32.04377 , 43.578125, 46.202766, ..., 23.77539 , 41.761967,\n",
       "          54.16085 ],\n",
       "         ...,\n",
       "         [23.77539 , 23.77539 , 23.77539 , ..., 23.77539 , 23.77539 ,\n",
       "          23.77539 ],\n",
       "         [23.77539 , 23.77539 , 23.77539 , ..., 23.77539 , 23.77539 ,\n",
       "          23.77539 ],\n",
       "         [23.77539 , 23.77539 , 23.77539 , ..., 23.77539 , 23.77539 ,\n",
       "          23.77539 ]], dtype=float32),\n",
       "  array([[16.204025, 16.204025, 16.204025, ..., 16.204025, 16.204025,\n",
       "          16.204025],\n",
       "         [16.204025, 28.511002, 29.529633, ..., 16.204025, 16.204025,\n",
       "          20.14457 ],\n",
       "         [16.204025, 37.238384, 54.2404  , ..., 29.624557, 35.815804,\n",
       "          41.981792],\n",
       "         ...,\n",
       "         [16.204025, 16.204025, 16.204025, ..., 16.204025, 16.204025,\n",
       "          16.204025],\n",
       "         [16.204025, 16.204025, 16.204025, ..., 16.204025, 16.204025,\n",
       "          16.204025],\n",
       "         [16.204025, 16.204025, 16.204025, ..., 16.204025, 16.204025,\n",
       "          16.204025]], dtype=float32),\n",
       "  array([[33.476128, 18.794327, 18.794327, ..., 18.794327, 18.794327,\n",
       "          18.794327],\n",
       "         [49.201427, 18.794327, 20.90451 , ..., 32.40838 , 24.27015 ,\n",
       "          30.932228],\n",
       "         [49.430283, 56.971268, 55.818157, ..., 30.597008, 24.03823 ,\n",
       "          18.794327],\n",
       "         ...,\n",
       "         [18.794327, 18.794327, 18.794327, ..., 18.794327, 18.794327,\n",
       "          18.794327],\n",
       "         [18.794327, 18.794327, 18.794327, ..., 18.794327, 18.794327,\n",
       "          18.794327],\n",
       "         [18.794327, 18.794327, 18.794327, ..., 18.794327, 18.794327,\n",
       "          18.794327]], dtype=float32),\n",
       "  array([[16.688133, 16.688133, 16.688133, ..., 19.753174, 22.437408,\n",
       "          17.226723],\n",
       "         [16.688133, 29.123543, 29.150993, ..., 35.478462, 38.16271 ,\n",
       "          32.95202 ],\n",
       "         [16.688133, 38.911633, 55.173878, ..., 16.688133, 30.938889,\n",
       "          31.818787],\n",
       "         ...,\n",
       "         [16.688133, 16.688133, 16.688133, ..., 16.688133, 16.688133,\n",
       "          16.688133],\n",
       "         [16.688133, 16.688133, 16.688133, ..., 16.688133, 16.688133,\n",
       "          16.688133],\n",
       "         [16.688133, 16.688133, 16.688133, ..., 16.688133, 16.688133,\n",
       "          16.688133]], dtype=float32),\n",
       "  array([[13.787239, 24.212967, 16.84665 , ...,  9.22023 ,  9.22023 ,\n",
       "           9.22023 ],\n",
       "         [29.512543, 39.93827 , 32.571938, ..., 11.01899 ,  9.22023 ,\n",
       "          12.67038 ],\n",
       "         [32.69673 , 37.58979 , 39.780003, ..., 37.765827, 39.112076,\n",
       "          35.244034],\n",
       "         ...,\n",
       "         [ 9.22023 ,  9.22023 ,  9.22023 , ...,  9.22023 ,  9.22023 ,\n",
       "           9.22023 ],\n",
       "         [ 9.22023 ,  9.22023 ,  9.22023 , ...,  9.22023 ,  9.22023 ,\n",
       "           9.22023 ],\n",
       "         [ 9.22023 ,  9.22023 ,  9.22023 , ...,  9.22023 ,  9.22023 ,\n",
       "           9.22023 ]], dtype=float32),\n",
       "  array([[11.290756, 13.384285, 12.872681, ..., 14.095421, 11.290756,\n",
       "          11.290756],\n",
       "         [11.290756, 29.109589, 28.597977, ..., 29.820724, 22.586304,\n",
       "          26.492989],\n",
       "         [11.290756, 38.270607, 54.47175 , ..., 31.951118, 44.95833 ,\n",
       "          48.297737],\n",
       "         ...,\n",
       "         [11.290756, 11.290756, 11.290756, ..., 11.290756, 11.290756,\n",
       "          11.290756],\n",
       "         [11.290756, 11.290756, 11.290756, ..., 11.290756, 11.290756,\n",
       "          11.290756],\n",
       "         [11.290756, 11.290756, 11.290756, ..., 11.290756, 11.290756,\n",
       "          11.290756]], dtype=float32),\n",
       "  array([[34.239944, 28.069794, 33.564873, ..., 13.456001, 33.797897,\n",
       "          26.532738],\n",
       "         [49.965244, 43.795094, 49.29017 , ..., 29.181305, 49.523193,\n",
       "          42.258034],\n",
       "         [47.396015, 60.355843, 63.473934, ..., 43.12591 , 29.12622 ,\n",
       "          59.5337  ],\n",
       "         ...,\n",
       "         [ 0.      ,  0.      ,  0.      , ...,  0.      ,  0.      ,\n",
       "           0.      ],\n",
       "         [ 0.      ,  0.      ,  0.      , ...,  0.      ,  0.      ,\n",
       "           0.      ],\n",
       "         [ 0.      ,  0.      ,  0.      , ...,  0.      ,  0.      ,\n",
       "           0.      ]], dtype=float32)],\n",
       " [array([ 0.00075571, -0.00010184, -0.00055937, ..., -0.06089042,\n",
       "         -0.07342827, -0.046218  ], dtype=float32),\n",
       "  array([-0.00642521,  0.01093181,  0.00356723, ...,  0.01125236,\n",
       "          0.00659924,  0.00112135], dtype=float32),\n",
       "  array([-0.00016332, -0.00097299, -0.00159534, ...,  0.01820198,\n",
       "          0.03403569,  0.05368377], dtype=float32),\n",
       "  array([ 0.05746438,  0.04403169,  0.03320055, ..., -0.01785563,\n",
       "         -0.01497869, -0.01034315], dtype=float32),\n",
       "  array([ 0.00029564, -0.00048754, -0.00108874, ...,  0.01039313,\n",
       "          0.0006419 , -0.00613797], dtype=float32),\n",
       "  array([ 0.00094559,  0.01231069,  0.02217296, ...,  0.00487282,\n",
       "         -0.00395809, -0.00466402], dtype=float32),\n",
       "  array([ 0.00068597, -0.00013742, -0.00063472, ..., -0.05405955,\n",
       "         -0.0170346 ,  0.0026893 ], dtype=float32),\n",
       "  array([-0.00110317,  0.01028959,  0.04159076, ..., -0.02214294,\n",
       "         -0.01988846, -0.01662387], dtype=float32),\n",
       "  array([ 0.00064593, -0.00019759, -0.000702  , ...,  0.05374204,\n",
       "          0.0367168 ,  0.04362087], dtype=float32),\n",
       "  array([ 0.0565883 ,  0.06687131,  0.06443204, ..., -0.02255799,\n",
       "         -0.02023402, -0.0228448 ], dtype=float32),\n",
       "  array([ 0.00079351, -0.00012207, -0.00066101, ...,  0.02973381,\n",
       "          0.0226514 ,  0.02137394], dtype=float32),\n",
       "  array([0.02511241, 0.02631561, 0.0225258 , ..., 0.01348488, 0.01151755,\n",
       "         0.01252697], dtype=float32),\n",
       "  array([ 0.00077087, -0.00010989, -0.00059985, ...,  0.00593392,\n",
       "          0.00817701,  0.00855432], dtype=float32),\n",
       "  array([ 0.00707521,  0.00672452,  0.00728471, ..., -0.03040448,\n",
       "         -0.0238479 , -0.00745493], dtype=float32),\n",
       "  array([ 0.00027343, -0.00065434, -0.00111861, ...,  0.02103183,\n",
       "          0.01362442,  0.00708707], dtype=float32),\n",
       "  array([ 0.00658441,  0.01237287,  0.00753784, ..., -0.00315329,\n",
       "         -0.00638286, -0.00898565], dtype=float32),\n",
       "  array([-0.0004501 , -0.0014831 , -0.0019575 , ..., -0.00407169,\n",
       "         -0.00489947,  0.00102416], dtype=float32),\n",
       "  array([ 0.00573078,  0.0033927 , -0.00076593, ..., -0.01911642,\n",
       "         -0.01675338, -0.01704953], dtype=float32)],\n",
       "                                                  path       filename  chunk  \\\n",
       " 0   /datasets/nicolas_facchinetti/emovo/data/m3/gi...  gio-m3-l1.wav      0   \n",
       " 1   /datasets/nicolas_facchinetti/emovo/data/m3/gi...  gio-m3-l1.wav      1   \n",
       " 2   /datasets/nicolas_facchinetti/emovo/data/m3/gi...  gio-m3-l1.wav      0   \n",
       " 3   /datasets/nicolas_facchinetti/emovo/data/m3/gi...  gio-m3-l1.wav      1   \n",
       " 4   /datasets/nicolas_facchinetti/emovo/data/m3/gi...  gio-m3-l1.wav      0   \n",
       " 5   /datasets/nicolas_facchinetti/emovo/data/m3/gi...  gio-m3-l1.wav      1   \n",
       " 6   /datasets/nicolas_facchinetti/emovo/data/m3/gi...  gio-m3-l1.wav      0   \n",
       " 7   /datasets/nicolas_facchinetti/emovo/data/m3/gi...  gio-m3-l1.wav      1   \n",
       " 8   /datasets/nicolas_facchinetti/emovo/data/m3/gi...  gio-m3-l1.wav      0   \n",
       " 9   /datasets/nicolas_facchinetti/emovo/data/m3/gi...  gio-m3-l1.wav      1   \n",
       " 10  /datasets/nicolas_facchinetti/emovo/data/m3/gi...  gio-m3-l1.wav      0   \n",
       " 11  /datasets/nicolas_facchinetti/emovo/data/m3/gi...  gio-m3-l1.wav      1   \n",
       " 12  /datasets/nicolas_facchinetti/emovo/data/m3/gi...  gio-m3-l1.wav      0   \n",
       " 13  /datasets/nicolas_facchinetti/emovo/data/m3/gi...  gio-m3-l1.wav      1   \n",
       " 14  /datasets/nicolas_facchinetti/emovo/data/m3/gi...  gio-m3-l1.wav      0   \n",
       " 15  /datasets/nicolas_facchinetti/emovo/data/m3/gi...  gio-m3-l1.wav      1   \n",
       " 16  /datasets/nicolas_facchinetti/emovo/data/m3/gi...  gio-m3-l1.wav      0   \n",
       " 17  /datasets/nicolas_facchinetti/emovo/data/m3/gi...  gio-m3-l1.wav      1   \n",
       " \n",
       "     label actor gender  mod  \n",
       " 0   happy    m3      m    0  \n",
       " 1   happy    m3      m    0  \n",
       " 2   happy    m3      m    1  \n",
       " 3   happy    m3      m    1  \n",
       " 4   happy    m3      m    1  \n",
       " 5   happy    m3      m    1  \n",
       " 6   happy    m3      m    1  \n",
       " 7   happy    m3      m    1  \n",
       " 8   happy    m3      m    1  \n",
       " 9   happy    m3      m    1  \n",
       " 10  happy    m3      m    2  \n",
       " 11  happy    m3      m    2  \n",
       " 12  happy    m3      m    2  \n",
       " 13  happy    m3      m    2  \n",
       " 14  happy    m3      m    2  \n",
       " 15  happy    m3      m    2  \n",
       " 16  happy    m3      m    2  \n",
       " 17  happy    m3      m    2  )"
      ]
     },
     "execution_count": 43,
     "metadata": {},
     "output_type": "execute_result"
    }
   ],
   "source": [
    "process_audio_files(dataset_samples['emovo'], frames['emovo'].iloc[[0]]) "
   ]
  },
  {
   "cell_type": "code",
   "execution_count": 44,
   "id": "9cd4ca67",
   "metadata": {},
   "outputs": [
    {
     "data": {
      "application/vnd.jupyter.widget-view+json": {
       "model_id": "73b92d74a98347fcb3a4a5724bbc74fa",
       "version_major": 2,
       "version_minor": 0
      },
      "text/plain": [
       "  0%|          | 0/361 [00:00<?, ?it/s]"
      ]
     },
     "metadata": {},
     "output_type": "display_data"
    },
    {
     "name": "stdout",
     "output_type": "stream",
     "text": [
      "Done emodb\n"
     ]
    },
    {
     "data": {
      "application/vnd.jupyter.widget-view+json": {
       "model_id": "79b9187a03654dcda9cc61b0003f0c8e",
       "version_major": 2,
       "version_minor": 0
      },
      "text/plain": [
       "  0%|          | 0/420 [00:00<?, ?it/s]"
      ]
     },
     "metadata": {},
     "output_type": "display_data"
    },
    {
     "name": "stdout",
     "output_type": "stream",
     "text": [
      "Done emovo\n"
     ]
    },
    {
     "data": {
      "application/vnd.jupyter.widget-view+json": {
       "model_id": "c229179343314014aa04686f9a528e33",
       "version_major": 2,
       "version_minor": 0
      },
      "text/plain": [
       "  0%|          | 0/960 [00:00<?, ?it/s]"
      ]
     },
     "metadata": {},
     "output_type": "display_data"
    },
    {
     "name": "stdout",
     "output_type": "stream",
     "text": [
      "Done ravdess\n"
     ]
    }
   ],
   "source": [
    "elaborated_data = {}\n",
    "for dataset in frames:\n",
    "    sgram, audio, df = process_audio_files(dataset_samples[dataset], frames[dataset])\n",
    "    print(f\"Done {dataset}\")\n",
    "    elaborated_data[dataset] = {\"sgram\": sgram, 'audio':audio, \"df\":df}"
   ]
  },
  {
   "cell_type": "code",
   "execution_count": 45,
   "id": "5f5a8d83",
   "metadata": {},
   "outputs": [
    {
     "data": {
      "text/html": [
       "<div>\n",
       "<style scoped>\n",
       "    .dataframe tbody tr th:only-of-type {\n",
       "        vertical-align: middle;\n",
       "    }\n",
       "\n",
       "    .dataframe tbody tr th {\n",
       "        vertical-align: top;\n",
       "    }\n",
       "\n",
       "    .dataframe thead th {\n",
       "        text-align: right;\n",
       "    }\n",
       "</style>\n",
       "<table border=\"1\" class=\"dataframe\">\n",
       "  <thead>\n",
       "    <tr style=\"text-align: right;\">\n",
       "      <th></th>\n",
       "      <th>path</th>\n",
       "      <th>filename</th>\n",
       "      <th>chunk</th>\n",
       "      <th>label</th>\n",
       "      <th>actor</th>\n",
       "      <th>gender</th>\n",
       "      <th>mod</th>\n",
       "    </tr>\n",
       "  </thead>\n",
       "  <tbody>\n",
       "    <tr>\n",
       "      <th>0</th>\n",
       "      <td>/datasets/nicolas_facchinetti/emovo/data/m3/gi...</td>\n",
       "      <td>gio-m3-l1.wav</td>\n",
       "      <td>0</td>\n",
       "      <td>happy</td>\n",
       "      <td>m3</td>\n",
       "      <td>m</td>\n",
       "      <td>0</td>\n",
       "    </tr>\n",
       "    <tr>\n",
       "      <th>1</th>\n",
       "      <td>/datasets/nicolas_facchinetti/emovo/data/m3/gi...</td>\n",
       "      <td>gio-m3-l1.wav</td>\n",
       "      <td>1</td>\n",
       "      <td>happy</td>\n",
       "      <td>m3</td>\n",
       "      <td>m</td>\n",
       "      <td>0</td>\n",
       "    </tr>\n",
       "    <tr>\n",
       "      <th>2</th>\n",
       "      <td>/datasets/nicolas_facchinetti/emovo/data/m3/gi...</td>\n",
       "      <td>gio-m3-l1.wav</td>\n",
       "      <td>0</td>\n",
       "      <td>happy</td>\n",
       "      <td>m3</td>\n",
       "      <td>m</td>\n",
       "      <td>1</td>\n",
       "    </tr>\n",
       "    <tr>\n",
       "      <th>3</th>\n",
       "      <td>/datasets/nicolas_facchinetti/emovo/data/m3/gi...</td>\n",
       "      <td>gio-m3-l1.wav</td>\n",
       "      <td>1</td>\n",
       "      <td>happy</td>\n",
       "      <td>m3</td>\n",
       "      <td>m</td>\n",
       "      <td>1</td>\n",
       "    </tr>\n",
       "    <tr>\n",
       "      <th>4</th>\n",
       "      <td>/datasets/nicolas_facchinetti/emovo/data/m3/gi...</td>\n",
       "      <td>gio-m3-l1.wav</td>\n",
       "      <td>0</td>\n",
       "      <td>happy</td>\n",
       "      <td>m3</td>\n",
       "      <td>m</td>\n",
       "      <td>1</td>\n",
       "    </tr>\n",
       "    <tr>\n",
       "      <th>...</th>\n",
       "      <td>...</td>\n",
       "      <td>...</td>\n",
       "      <td>...</td>\n",
       "      <td>...</td>\n",
       "      <td>...</td>\n",
       "      <td>...</td>\n",
       "      <td>...</td>\n",
       "    </tr>\n",
       "    <tr>\n",
       "      <th>4926</th>\n",
       "      <td>/datasets/nicolas_facchinetti/emovo/data/m2/pa...</td>\n",
       "      <td>pau-m2-b3.wav</td>\n",
       "      <td>0</td>\n",
       "      <td>fear</td>\n",
       "      <td>m2</td>\n",
       "      <td>m</td>\n",
       "      <td>1</td>\n",
       "    </tr>\n",
       "    <tr>\n",
       "      <th>4927</th>\n",
       "      <td>/datasets/nicolas_facchinetti/emovo/data/m2/pa...</td>\n",
       "      <td>pau-m2-b3.wav</td>\n",
       "      <td>0</td>\n",
       "      <td>fear</td>\n",
       "      <td>m2</td>\n",
       "      <td>m</td>\n",
       "      <td>2</td>\n",
       "    </tr>\n",
       "    <tr>\n",
       "      <th>4928</th>\n",
       "      <td>/datasets/nicolas_facchinetti/emovo/data/m2/pa...</td>\n",
       "      <td>pau-m2-b3.wav</td>\n",
       "      <td>0</td>\n",
       "      <td>fear</td>\n",
       "      <td>m2</td>\n",
       "      <td>m</td>\n",
       "      <td>2</td>\n",
       "    </tr>\n",
       "    <tr>\n",
       "      <th>4929</th>\n",
       "      <td>/datasets/nicolas_facchinetti/emovo/data/m2/pa...</td>\n",
       "      <td>pau-m2-b3.wav</td>\n",
       "      <td>0</td>\n",
       "      <td>fear</td>\n",
       "      <td>m2</td>\n",
       "      <td>m</td>\n",
       "      <td>2</td>\n",
       "    </tr>\n",
       "    <tr>\n",
       "      <th>4930</th>\n",
       "      <td>/datasets/nicolas_facchinetti/emovo/data/m2/pa...</td>\n",
       "      <td>pau-m2-b3.wav</td>\n",
       "      <td>0</td>\n",
       "      <td>fear</td>\n",
       "      <td>m2</td>\n",
       "      <td>m</td>\n",
       "      <td>2</td>\n",
       "    </tr>\n",
       "  </tbody>\n",
       "</table>\n",
       "<p>4931 rows × 7 columns</p>\n",
       "</div>"
      ],
      "text/plain": [
       "                                                   path       filename  chunk  \\\n",
       "0     /datasets/nicolas_facchinetti/emovo/data/m3/gi...  gio-m3-l1.wav      0   \n",
       "1     /datasets/nicolas_facchinetti/emovo/data/m3/gi...  gio-m3-l1.wav      1   \n",
       "2     /datasets/nicolas_facchinetti/emovo/data/m3/gi...  gio-m3-l1.wav      0   \n",
       "3     /datasets/nicolas_facchinetti/emovo/data/m3/gi...  gio-m3-l1.wav      1   \n",
       "4     /datasets/nicolas_facchinetti/emovo/data/m3/gi...  gio-m3-l1.wav      0   \n",
       "...                                                 ...            ...    ...   \n",
       "4926  /datasets/nicolas_facchinetti/emovo/data/m2/pa...  pau-m2-b3.wav      0   \n",
       "4927  /datasets/nicolas_facchinetti/emovo/data/m2/pa...  pau-m2-b3.wav      0   \n",
       "4928  /datasets/nicolas_facchinetti/emovo/data/m2/pa...  pau-m2-b3.wav      0   \n",
       "4929  /datasets/nicolas_facchinetti/emovo/data/m2/pa...  pau-m2-b3.wav      0   \n",
       "4930  /datasets/nicolas_facchinetti/emovo/data/m2/pa...  pau-m2-b3.wav      0   \n",
       "\n",
       "      label actor gender  mod  \n",
       "0     happy    m3      m    0  \n",
       "1     happy    m3      m    0  \n",
       "2     happy    m3      m    1  \n",
       "3     happy    m3      m    1  \n",
       "4     happy    m3      m    1  \n",
       "...     ...   ...    ...  ...  \n",
       "4926   fear    m2      m    1  \n",
       "4927   fear    m2      m    2  \n",
       "4928   fear    m2      m    2  \n",
       "4929   fear    m2      m    2  \n",
       "4930   fear    m2      m    2  \n",
       "\n",
       "[4931 rows x 7 columns]"
      ]
     },
     "execution_count": 45,
     "metadata": {},
     "output_type": "execute_result"
    }
   ],
   "source": [
    "elaborated_data['emovo']['df']"
   ]
  },
  {
   "cell_type": "code",
   "execution_count": 46,
   "id": "5655847f",
   "metadata": {},
   "outputs": [
    {
     "name": "stdout",
     "output_type": "stream",
     "text": [
      "Dataset emodb, original set 361, augmented 4149, factor of 11.493074792243767\n",
      "Dataset emovo, original set 420, augmented 4931, factor of 11.74047619047619\n",
      "Dataset ravdess, original set 960, augmented 8952, factor of 9.325\n"
     ]
    }
   ],
   "source": [
    "augmentation_df = []\n",
    "for d in frames:\n",
    "    a = len(frames[d])\n",
    "    b = len(elaborated_data[d][\"df\"])\n",
    "    factor = b/a\n",
    "    print(f'Dataset {d}, original set {a}, augmented {b}, factor of {factor}')\n",
    "    augmentation_df.append([d,a,b,factor])"
   ]
  },
  {
   "cell_type": "code",
   "execution_count": 47,
   "id": "427f27cd",
   "metadata": {},
   "outputs": [
    {
     "data": {
      "text/html": [
       "<div>\n",
       "<style scoped>\n",
       "    .dataframe tbody tr th:only-of-type {\n",
       "        vertical-align: middle;\n",
       "    }\n",
       "\n",
       "    .dataframe tbody tr th {\n",
       "        vertical-align: top;\n",
       "    }\n",
       "\n",
       "    .dataframe thead th {\n",
       "        text-align: right;\n",
       "    }\n",
       "</style>\n",
       "<table border=\"1\" class=\"dataframe\">\n",
       "  <thead>\n",
       "    <tr style=\"text-align: right;\">\n",
       "      <th></th>\n",
       "      <th>Dataset</th>\n",
       "      <th>Original</th>\n",
       "      <th>Augmented</th>\n",
       "      <th>Factor</th>\n",
       "    </tr>\n",
       "  </thead>\n",
       "  <tbody>\n",
       "    <tr>\n",
       "      <th>0</th>\n",
       "      <td>emodb</td>\n",
       "      <td>361</td>\n",
       "      <td>4149</td>\n",
       "      <td>11.493075</td>\n",
       "    </tr>\n",
       "    <tr>\n",
       "      <th>1</th>\n",
       "      <td>emovo</td>\n",
       "      <td>420</td>\n",
       "      <td>4931</td>\n",
       "      <td>11.740476</td>\n",
       "    </tr>\n",
       "    <tr>\n",
       "      <th>2</th>\n",
       "      <td>ravdess</td>\n",
       "      <td>960</td>\n",
       "      <td>8952</td>\n",
       "      <td>9.325000</td>\n",
       "    </tr>\n",
       "  </tbody>\n",
       "</table>\n",
       "</div>"
      ],
      "text/plain": [
       "   Dataset  Original  Augmented     Factor\n",
       "0    emodb       361       4149  11.493075\n",
       "1    emovo       420       4931  11.740476\n",
       "2  ravdess       960       8952   9.325000"
      ]
     },
     "execution_count": 47,
     "metadata": {},
     "output_type": "execute_result"
    }
   ],
   "source": [
    "pd.DataFrame(augmentation_df, columns=['Dataset', 'Original', 'Augmented', 'Factor'])"
   ]
  },
  {
   "cell_type": "markdown",
   "id": "fbb7ee30",
   "metadata": {},
   "source": [
    "# New data distribution"
   ]
  },
  {
   "cell_type": "markdown",
   "id": "ccf806eb",
   "metadata": {},
   "source": [
    "## Actors distribution"
   ]
  },
  {
   "cell_type": "code",
   "execution_count": 48,
   "id": "d14f7547",
   "metadata": {},
   "outputs": [
    {
     "data": {
      "text/plain": [
       "(<AxesSubplot:>, <AxesSubplot:>)"
      ]
     },
     "execution_count": 48,
     "metadata": {},
     "output_type": "execute_result"
    },
    {
     "data": {
      "image/png": "[encoded data removed]",
      "text/plain": [
       "<Figure size 640x480 with 1 Axes>"
      ]
     },
     "metadata": {},
     "output_type": "display_data"
    }
   ],
   "source": [
    "elaborated_data['emodb']['df'][\"actor\"].hist(bins=40), frames['emodb']['actor'].hist(bins=40)"
   ]
  },
  {
   "cell_type": "code",
   "execution_count": 49,
   "id": "16fca527",
   "metadata": {},
   "outputs": [
    {
     "data": {
      "text/plain": [
       "(<AxesSubplot:>, <AxesSubplot:>)"
      ]
     },
     "execution_count": 49,
     "metadata": {},
     "output_type": "execute_result"
    },
    {
     "data": {
      "image/png": "[encoded data removed]",
      "text/plain": [
       "<Figure size 640x480 with 1 Axes>"
      ]
     },
     "metadata": {},
     "output_type": "display_data"
    }
   ],
   "source": [
    "elaborated_data['emovo']['df'][\"actor\"].hist(bins=40), frames['emovo']['actor'].hist(bins=40)"
   ]
  },
  {
   "cell_type": "code",
   "execution_count": 50,
   "id": "7beb1ba1",
   "metadata": {},
   "outputs": [
    {
     "data": {
      "text/plain": [
       "(<AxesSubplot:>, <AxesSubplot:>)"
      ]
     },
     "execution_count": 50,
     "metadata": {},
     "output_type": "execute_result"
    },
    {
     "data": {
      "image/png": "[encoded data removed]",
      "text/plain": [
       "<Figure size 640x480 with 1 Axes>"
      ]
     },
     "metadata": {},
     "output_type": "display_data"
    }
   ],
   "source": [
    "elaborated_data['ravdess']['df'][\"actor\"].hist(bins=40), frames['ravdess']['actor'].hist(bins=40)"
   ]
  },
  {
   "cell_type": "markdown",
   "id": "7ec74a5c",
   "metadata": {},
   "source": [
    "## Labels distribution"
   ]
  },
  {
   "cell_type": "code",
   "execution_count": 51,
   "id": "d56880d0",
   "metadata": {},
   "outputs": [
    {
     "data": {
      "text/plain": [
       "(<AxesSubplot:>, <AxesSubplot:>)"
      ]
     },
     "execution_count": 51,
     "metadata": {},
     "output_type": "execute_result"
    },
    {
     "data": {
      "image/png": "[encoded data removed]",
      "text/plain": [
       "<Figure size 640x480 with 1 Axes>"
      ]
     },
     "metadata": {},
     "output_type": "display_data"
    }
   ],
   "source": [
    "elaborated_data['emodb']['df'][\"label\"].hist(bins=40), frames['emodb'][\"label\"].hist(bins=40)"
   ]
  },
  {
   "cell_type": "code",
   "execution_count": 52,
   "id": "01b1bc05",
   "metadata": {},
   "outputs": [
    {
     "data": {
      "text/plain": [
       "(<AxesSubplot:>, <AxesSubplot:>)"
      ]
     },
     "execution_count": 52,
     "metadata": {},
     "output_type": "execute_result"
    },
    {
     "data": {
      "image/png": "[encoded data removed]",
      "text/plain": [
       "<Figure size 640x480 with 1 Axes>"
      ]
     },
     "metadata": {},
     "output_type": "display_data"
    }
   ],
   "source": [
    "elaborated_data['emovo']['df'][\"label\"].hist(bins=40), frames['emovo'][\"label\"].hist(bins=40)"
   ]
  },
  {
   "cell_type": "code",
   "execution_count": 53,
   "id": "98351b49",
   "metadata": {},
   "outputs": [
    {
     "data": {
      "text/plain": [
       "(<AxesSubplot:>, <AxesSubplot:>)"
      ]
     },
     "execution_count": 53,
     "metadata": {},
     "output_type": "execute_result"
    },
    {
     "data": {
      "image/png": "[encoded data removed]",
      "text/plain": [
       "<Figure size 640x480 with 1 Axes>"
      ]
     },
     "metadata": {},
     "output_type": "display_data"
    }
   ],
   "source": [
    "elaborated_data['ravdess']['df'][\"label\"].hist(bins=40), frames['ravdess'][\"label\"].hist(bins=40)"
   ]
  },
  {
   "cell_type": "markdown",
   "id": "92cf01ce",
   "metadata": {},
   "source": [
    "# Clean memory"
   ]
  },
  {
   "cell_type": "markdown",
   "id": "96b96910",
   "metadata": {},
   "source": [
    "Free some space that will be no longer used"
   ]
  },
  {
   "cell_type": "code",
   "execution_count": 54,
   "id": "70d5c29e",
   "metadata": {},
   "outputs": [],
   "source": [
    "del frames\n",
    "del dataset_samples"
   ]
  },
  {
   "cell_type": "code",
   "execution_count": 55,
   "id": "4bd31a8b",
   "metadata": {},
   "outputs": [
    {
     "data": {
      "text/plain": [
       "dict_keys(['sgram', 'audio', 'df'])"
      ]
     },
     "execution_count": 55,
     "metadata": {},
     "output_type": "execute_result"
    }
   ],
   "source": [
    "elaborated_data[\"emodb\"].keys()"
   ]
  },
  {
   "cell_type": "code",
   "execution_count": 56,
   "id": "aa652e91",
   "metadata": {},
   "outputs": [],
   "source": [
    "for f in elaborated_data:\n",
    "    del elaborated_data[f]['audio']"
   ]
  },
  {
   "cell_type": "code",
   "execution_count": 57,
   "id": "7a128355",
   "metadata": {},
   "outputs": [
    {
     "data": {
      "text/plain": [
       "75"
      ]
     },
     "execution_count": 57,
     "metadata": {},
     "output_type": "execute_result"
    }
   ],
   "source": [
    "import gc\n",
    "gc.collect()"
   ]
  },
  {
   "cell_type": "markdown",
   "id": "68e92080",
   "metadata": {},
   "source": [
    "# Prepare data for models"
   ]
  },
  {
   "cell_type": "markdown",
   "id": "49ea8f8f",
   "metadata": {},
   "source": [
    "## Labels"
   ]
  },
  {
   "cell_type": "markdown",
   "id": "7d3f66b6",
   "metadata": {},
   "source": [
    "One-hot encode the labels"
   ]
  },
  {
   "cell_type": "code",
   "execution_count": 58,
   "id": "d87c408f",
   "metadata": {},
   "outputs": [],
   "source": [
    "from sklearn.preprocessing import OneHotEncoder\n",
    "\n",
    "\n",
    "for dataset in elaborated_data:\n",
    "    encoder = OneHotEncoder()\n",
    "    df_label = elaborated_data[dataset][\"df\"][\"label\"]\n",
    "    Y = encoder.fit_transform(np.array(df_label).reshape(-1,1)).toarray()\n",
    "    elaborated_data[dataset][\"y\"] = Y"
   ]
  },
  {
   "cell_type": "code",
   "execution_count": 59,
   "id": "1525b32a",
   "metadata": {},
   "outputs": [
    {
     "data": {
      "text/plain": [
       "(array([[0., 0., 0., 0., 1.],\n",
       "        [0., 0., 0., 0., 1.],\n",
       "        [0., 0., 0., 0., 1.],\n",
       "        ...,\n",
       "        [0., 0., 1., 0., 0.],\n",
       "        [0., 0., 1., 0., 0.],\n",
       "        [0., 0., 1., 0., 0.]]),\n",
       " (4149, 5))"
      ]
     },
     "execution_count": 59,
     "metadata": {},
     "output_type": "execute_result"
    }
   ],
   "source": [
    "elaborated_data[\"emodb\"][\"y\"], elaborated_data[\"emodb\"][\"y\"].shape"
   ]
  },
  {
   "cell_type": "markdown",
   "id": "54288e5e",
   "metadata": {},
   "source": [
    "## Features"
   ]
  },
  {
   "cell_type": "markdown",
   "id": "b05891e3",
   "metadata": {},
   "source": [
    "Normalize log mel spectrogram features. Divice each cell by the sum of the matrix; in this way the sum of the spectrogram is 1"
   ]
  },
  {
   "cell_type": "code",
   "execution_count": 60,
   "id": "415cf2cd",
   "metadata": {},
   "outputs": [
    {
     "data": {
      "text/plain": [
       "array([[1, 2, 3],\n",
       "       [2, 2, 2],\n",
       "       [3, 3, 1]])"
      ]
     },
     "execution_count": 60,
     "metadata": {},
     "output_type": "execute_result"
    }
   ],
   "source": [
    "a = np.array([[1,2,3],[2,2,2],[3,3,1]])\n",
    "a"
   ]
  },
  {
   "cell_type": "code",
   "execution_count": 61,
   "id": "fbb385ea",
   "metadata": {},
   "outputs": [],
   "source": [
    "def normalize(sgram):\n",
    "    s = sgram.sum()\n",
    "    return sgram/s"
   ]
  },
  {
   "cell_type": "code",
   "execution_count": 62,
   "id": "51d06c85",
   "metadata": {},
   "outputs": [
    {
     "data": {
      "text/plain": [
       "(array([[0.05263158, 0.10526316, 0.15789474],\n",
       "        [0.10526316, 0.10526316, 0.10526316],\n",
       "        [0.15789474, 0.15789474, 0.05263158]]),\n",
       " 1.0)"
      ]
     },
     "execution_count": 62,
     "metadata": {},
     "output_type": "execute_result"
    }
   ],
   "source": [
    "normalize(a), normalize(a).sum()"
   ]
  },
  {
   "cell_type": "markdown",
   "id": "ec5a1e7c",
   "metadata": {},
   "source": [
    "Reshape from numpy Height x Width to Width x Height x Depth as TimeDistributed want as first input times, which in our data is horizontal axis"
   ]
  },
  {
   "cell_type": "code",
   "execution_count": 63,
   "id": "387106d2",
   "metadata": {},
   "outputs": [
    {
     "data": {
      "text/plain": [
       "(128, 261)"
      ]
     },
     "execution_count": 63,
     "metadata": {},
     "output_type": "execute_result"
    }
   ],
   "source": [
    "elaborated_data[\"emovo\"][\"sgram\"][0].shape"
   ]
  },
  {
   "cell_type": "code",
   "execution_count": 64,
   "id": "2ec74eb5",
   "metadata": {},
   "outputs": [
    {
     "data": {
      "text/plain": [
       "(261, 128)"
      ]
     },
     "execution_count": 64,
     "metadata": {},
     "output_type": "execute_result"
    }
   ],
   "source": [
    "elaborated_data[\"emovo\"][\"sgram\"][0].transpose().shape"
   ]
  },
  {
   "cell_type": "code",
   "execution_count": 65,
   "id": "a146afa9",
   "metadata": {},
   "outputs": [
    {
     "data": {
      "text/plain": [
       "(261, 128, 1)"
      ]
     },
     "execution_count": 65,
     "metadata": {},
     "output_type": "execute_result"
    }
   ],
   "source": [
    "np.expand_dims(elaborated_data[\"emovo\"][\"sgram\"][0].transpose(), axis=2).shape"
   ]
  },
  {
   "cell_type": "code",
   "execution_count": 66,
   "id": "36b9e587",
   "metadata": {},
   "outputs": [
    {
     "data": {
      "text/plain": [
       "((3, 3, 1),\n",
       " array([[[1],\n",
       "         [2],\n",
       "         [3]],\n",
       " \n",
       "        [[2],\n",
       "         [2],\n",
       "         [2]],\n",
       " \n",
       "        [[3],\n",
       "         [3],\n",
       "         [1]]]))"
      ]
     },
     "execution_count": 66,
     "metadata": {},
     "output_type": "execute_result"
    }
   ],
   "source": [
    "np.expand_dims(a, axis=2).shape, np.expand_dims(a, axis=2)"
   ]
  },
  {
   "cell_type": "code",
   "execution_count": null,
   "id": "83798d8f",
   "metadata": {},
   "outputs": [],
   "source": []
  },
  {
   "cell_type": "code",
   "execution_count": 69,
   "id": "d7ee892e",
   "metadata": {},
   "outputs": [],
   "source": [
    "def normalize2(sgram):\n",
    "    max_s = sgram.max()\n",
    "    return sgram/max_s"
   ]
  },
  {
   "cell_type": "code",
   "execution_count": 70,
   "id": "c175cd86",
   "metadata": {},
   "outputs": [
    {
     "data": {
      "text/plain": [
       "(array([[0.33333333, 0.66666667, 1.        ],\n",
       "        [0.66666667, 0.66666667, 0.66666667],\n",
       "        [1.        , 1.        , 0.33333333]]),\n",
       " 6.333333333333333,\n",
       " 1.0)"
      ]
     },
     "execution_count": 70,
     "metadata": {},
     "output_type": "execute_result"
    }
   ],
   "source": [
    "normalize2(a), normalize2(a).sum(), normalize2(a).max()"
   ]
  },
  {
   "cell_type": "code",
   "execution_count": null,
   "id": "958ac3eb",
   "metadata": {},
   "outputs": [],
   "source": [
    "a = np.array([[1,2,3],[2,2,2],[3,3,1]])\n",
    "a"
   ]
  },
  {
   "cell_type": "code",
   "execution_count": 106,
   "id": "2d62d3df",
   "metadata": {},
   "outputs": [],
   "source": [
    "from sklearn.preprocessing import MinMaxScaler\n",
    "\n",
    "def normalize3(sgrams): \n",
    "    scaler = MinMaxScaler()\n",
    "    sgrams_f = [scaler.fit_transform(sample) for sample in sgrams]\n",
    "    return np.array(sgrams_f)"
   ]
  },
  {
   "cell_type": "code",
   "execution_count": 107,
   "id": "fd3932b3",
   "metadata": {},
   "outputs": [],
   "source": [
    "p = normalize3(np.array(elaborated_data['emodb']['sgram']))"
   ]
  },
  {
   "cell_type": "code",
   "execution_count": 108,
   "id": "94e52a08",
   "metadata": {},
   "outputs": [
    {
     "data": {
      "text/plain": [
       "(4149, 128, 261)"
      ]
     },
     "execution_count": 108,
     "metadata": {},
     "output_type": "execute_result"
    }
   ],
   "source": [
    "p.shape"
   ]
  },
  {
   "cell_type": "code",
   "execution_count": null,
   "id": "a7328bef",
   "metadata": {},
   "outputs": [],
   "source": []
  },
  {
   "cell_type": "code",
   "execution_count": 110,
   "id": "bf6317df",
   "metadata": {},
   "outputs": [
    {
     "data": {
      "text/plain": [
       "0.0"
      ]
     },
     "execution_count": 110,
     "metadata": {},
     "output_type": "execute_result"
    }
   ],
   "source": [
    "p[10].min()"
   ]
  },
  {
   "cell_type": "code",
   "execution_count": 112,
   "id": "4f95b297",
   "metadata": {},
   "outputs": [
    {
     "name": "stdout",
     "output_type": "stream",
     "text": [
      "Computing emodb\n",
      "Computing emovo\n"
     ]
    },
    {
     "name": "stderr",
     "output_type": "stream",
     "text": [
      "/tmp/ipykernel_697937/974971219.py:3: RuntimeWarning: invalid value encountered in true_divide\n",
      "  return sgram/s\n"
     ]
    },
    {
     "name": "stdout",
     "output_type": "stream",
     "text": [
      "Computing ravdess\n"
     ]
    },
    {
     "name": "stderr",
     "output_type": "stream",
     "text": [
      "/tmp/ipykernel_697937/974971219.py:3: RuntimeWarning: invalid value encountered in true_divide\n",
      "  return sgram/s\n"
     ]
    }
   ],
   "source": [
    "for d in elaborated_data:\n",
    "    print(f'Computing {d}')\n",
    "    # normalize and reshape data\n",
    "    elaborated_data[d]['x_Fnorm'] = np.array([np.expand_dims(normalize(s).transpose(), axis=2)\n",
    "                                              for s in elaborated_data[d]['sgram']])\n",
    "    elaborated_data[d]['x_Mnorm'] = np.array([np.expand_dims(normalize2(s).transpose(), axis=2)\n",
    "                                              for s in elaborated_data[d]['sgram']])\n",
    "    elaborated_data[d]['x_MMnorm'] = np.array([np.expand_dims(s.transpose(), axis=2)\n",
    "                                               for s in normalize3(elaborated_data[d]['sgram'])])"
   ]
  },
  {
   "cell_type": "code",
   "execution_count": 113,
   "id": "22e77894",
   "metadata": {},
   "outputs": [
    {
     "data": {
      "text/plain": [
       "(0.9999998, (261, 128, 1))"
      ]
     },
     "execution_count": 113,
     "metadata": {},
     "output_type": "execute_result"
    }
   ],
   "source": [
    "elaborated_data['emodb']['x_Fnorm'][0].sum(), elaborated_data['emodb']['x_Fnorm'][0].shape"
   ]
  },
  {
   "cell_type": "code",
   "execution_count": 115,
   "id": "2fa4e694",
   "metadata": {},
   "outputs": [
    {
     "data": {
      "text/plain": [
       "(1.0, (261, 128, 1))"
      ]
     },
     "execution_count": 115,
     "metadata": {},
     "output_type": "execute_result"
    }
   ],
   "source": [
    "elaborated_data['emodb']['x_Mnorm'][0].max(), elaborated_data['emodb']['x_Mnorm'][0].shape"
   ]
  },
  {
   "cell_type": "code",
   "execution_count": 119,
   "id": "302b6a57",
   "metadata": {},
   "outputs": [
    {
     "data": {
      "text/plain": [
       "(1.0000001, (261, 128, 1))"
      ]
     },
     "execution_count": 119,
     "metadata": {},
     "output_type": "execute_result"
    }
   ],
   "source": [
    "elaborated_data['emodb']['x_MMnorm'][1].max(), elaborated_data['emodb']['x_MMnorm'][0].shape"
   ]
  },
  {
   "cell_type": "code",
   "execution_count": 125,
   "id": "63b5327e",
   "metadata": {},
   "outputs": [
    {
     "data": {
      "text/plain": [
       "(4149, 128, 261)"
      ]
     },
     "execution_count": 125,
     "metadata": {},
     "output_type": "execute_result"
    }
   ],
   "source": [
    "np.array(elaborated_data['emodb']['sgram']).shape"
   ]
  },
  {
   "cell_type": "markdown",
   "id": "a316a452",
   "metadata": {},
   "source": [
    "# Save data"
   ]
  },
  {
   "cell_type": "markdown",
   "id": "19b91f7c",
   "metadata": {},
   "source": [
    "Save data for future computations"
   ]
  },
  {
   "cell_type": "code",
   "execution_count": 128,
   "id": "9f90eb70",
   "metadata": {},
   "outputs": [
    {
     "name": "stdout",
     "output_type": "stream",
     "text": [
      "Dumping data for emodb\n",
      "Dumping data for emovo\n",
      "Dumping data for ravdess\n"
     ]
    }
   ],
   "source": [
    "import pickle\n",
    "\n",
    "for dataset in elaborated_data:\n",
    "    print(f'Dumping data for {dataset}')\n",
    "    x0 = np.array([np.expand_dims(s.transpose(), axis=2) for s in elaborated_data[dataset]['sgram']])\n",
    "    x1 = elaborated_data[dataset][\"x_Fnorm\"]\n",
    "    x2 = elaborated_data[dataset][\"x_Mnorm\"]\n",
    "    x3 = elaborated_data[dataset][\"x_MMnorm\"]\n",
    "    y = elaborated_data[dataset][\"y\"]\n",
    "    df = elaborated_data[dataset][\"df\"]\n",
    "    \n",
    "    pickle.dump({'x':x0, 'y':y}, open(f'/datasets/nicolas_facchinetti/processed_data/{dataset}/processed_data0.p', \"wb\"))\n",
    "    pickle.dump({'x':x1, 'y':y}, open(f'/datasets/nicolas_facchinetti/processed_data/{dataset}/processed_data1.p', \"wb\"))\n",
    "    pickle.dump({'x':x2, 'y':y}, open(f'/datasets/nicolas_facchinetti/processed_data/{dataset}/processed_data2.p', \"wb\"))\n",
    "    pickle.dump({'x':x3, 'y':y}, open(f'/datasets/nicolas_facchinetti/processed_data/{dataset}/processed_data3.p', \"wb\"))\n",
    "    df.to_csv(f\"/datasets/nicolas_facchinetti/processed_data/{dataset}/metadata_final.csv\", index=False)\n",
    "    \n",
    "    # pickle.dump({'x':x, 'y':y}, open(f'D:\\\\Scuola\\\\TesiMag\\\\thesis_adversarial_ml_audio\\\\processed_data/{dataset}/processed_data.p', \"wb\"))\n",
    "    # df.to_csv(f\"D:\\\\Scuola\\\\TesiMag\\\\thesis_adversarial_ml_audio\\\\processed_data//{dataset}/metadata_final.csv\", index=False)"
   ]
  },
  {
   "cell_type": "code",
   "execution_count": null,
   "id": "575202cf",
   "metadata": {},
   "outputs": [],
   "source": []
  }
 ],
 "metadata": {
  "kernelspec": {
   "display_name": "Python 3 (ipykernel)",
   "language": "python",
   "name": "python3"
  },
  "language_info": {
   "codemirror_mode": {
    "name": "ipython",
    "version": 3
   },
   "file_extension": ".py",
   "mimetype": "text/x-python",
   "name": "python",
   "nbconvert_exporter": "python",
   "pygments_lexer": "ipython3",
   "version": "3.9.13"
  }
 },
 "nbformat": 4,
 "nbformat_minor": 5
}
