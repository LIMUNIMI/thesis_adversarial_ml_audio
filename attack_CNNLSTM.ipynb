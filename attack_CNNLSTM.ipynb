{
 "cells": [
  {
   "cell_type": "markdown",
   "id": "718abdcb",
   "metadata": {},
   "source": [
    "Import the pre trained model"
   ]
  },
  {
   "cell_type": "code",
   "execution_count": 1,
   "id": "e3cd8df7",
   "metadata": {},
   "outputs": [],
   "source": [
    "import tensorflow as tf\n",
    "import tensorflow.keras"
   ]
  },
  {
   "cell_type": "code",
   "execution_count": 2,
   "id": "0401dc20",
   "metadata": {},
   "outputs": [
    {
     "name": "stdout",
     "output_type": "stream",
     "text": [
      "Model: \"sequential\"\n",
      "_________________________________________________________________\n",
      "Layer (type)                 Output Shape              Param #   \n",
      "=================================================================\n",
      "time_distributed (TimeDistri (None, 128, 102, 64)      256       \n",
      "_________________________________________________________________\n",
      "time_distributed_1 (TimeDist (None, 128, 51, 64)       0         \n",
      "_________________________________________________________________\n",
      "time_distributed_2 (TimeDist (None, 128, 49, 64)       12352     \n",
      "_________________________________________________________________\n",
      "time_distributed_3 (TimeDist (None, 128, 12, 64)       0         \n",
      "_________________________________________________________________\n",
      "time_distributed_4 (TimeDist (None, 128, 10, 128)      24704     \n",
      "_________________________________________________________________\n",
      "time_distributed_5 (TimeDist (None, 128, 2, 128)       0         \n",
      "_________________________________________________________________\n",
      "time_distributed_6 (TimeDist (None, 128, 256)          0         \n",
      "_________________________________________________________________\n",
      "lstm (LSTM)                  (None, 128, 128)          197120    \n",
      "_________________________________________________________________\n",
      "flatten_1 (Flatten)          (None, 16384)             0         \n",
      "_________________________________________________________________\n",
      "dense (Dense)                (None, 7)                 114695    \n",
      "=================================================================\n",
      "Total params: 349,127\n",
      "Trainable params: 349,127\n",
      "Non-trainable params: 0\n",
      "_________________________________________________________________\n"
     ]
    }
   ],
   "source": [
    "model = tf.keras.models.load_model('trained_models/CNN_LSTM1.h5')\n",
    "model.summary()"
   ]
  },
  {
   "cell_type": "markdown",
   "id": "e93c6d5a",
   "metadata": {},
   "source": [
    "Import the pre processed data"
   ]
  },
  {
   "cell_type": "code",
   "execution_count": 3,
   "id": "50a0cdf3",
   "metadata": {},
   "outputs": [],
   "source": [
    "import numpy as np\n",
    "x_train = np.load('processed_data/first_experiment/x_train.npy')\n",
    "x_test = np.load('processed_data/first_experiment/x_test.npy')\n",
    "y_train = np.load('processed_data/first_experiment/y_train.npy')\n",
    "y_test = np.load('processed_data/first_experiment/y_test.npy')"
   ]
  },
  {
   "cell_type": "code",
   "execution_count": 4,
   "id": "5d1a5bce",
   "metadata": {},
   "outputs": [
    {
     "data": {
      "text/plain": [
       "(113, 7)"
      ]
     },
     "execution_count": 4,
     "metadata": {},
     "output_type": "execute_result"
    }
   ],
   "source": [
    "y_test.shape"
   ]
  },
  {
   "cell_type": "code",
   "execution_count": 5,
   "id": "f4a8fd97",
   "metadata": {},
   "outputs": [
    {
     "name": "stdout",
     "output_type": "stream",
     "text": [
      "4/4 [==============================] - 3s 197ms/step - loss: 0.9742 - accuracy: 0.6726\n",
      "Accuracy on original test data: 67.26%\n"
     ]
    }
   ],
   "source": [
    "_, accuracy_test_original = model.evaluate(x_test, y_test)\n",
    "print('Accuracy on original test data: {:4.2f}%'.format(accuracy_test_original * 100))"
   ]
  },
  {
   "cell_type": "markdown",
   "id": "68fb6cf7",
   "metadata": {},
   "source": [
    "Make ART model"
   ]
  },
  {
   "cell_type": "code",
   "execution_count": 7,
   "id": "00df425d",
   "metadata": {},
   "outputs": [],
   "source": [
    "from art.estimators.classification import TensorFlowV2Classifier\n",
    "from art.attacks.evasion import FastGradientMethod, CarliniL0Method"
   ]
  },
  {
   "cell_type": "code",
   "execution_count": 12,
   "id": "cb61026d",
   "metadata": {},
   "outputs": [],
   "source": [
    "loss_object = tf.keras.losses.CategoricalCrossentropy()\n",
    "classifier = TensorFlowV2Classifier(model=model, nb_classes=7, input_shape=(128, 104, 1), loss_object=loss_object)"
   ]
  },
  {
   "cell_type": "code",
   "execution_count": 13,
   "id": "c4c4a733",
   "metadata": {},
   "outputs": [],
   "source": [
    "attack_fgsm = FastGradientMethod(estimator=classifier, eps=0.3)"
   ]
  },
  {
   "cell_type": "code",
   "execution_count": 14,
   "id": "6558c293",
   "metadata": {},
   "outputs": [],
   "source": [
    "x_test_adv = attack_fgsm.generate(x_test)"
   ]
  },
  {
   "cell_type": "code",
   "execution_count": 15,
   "id": "b33746b1",
   "metadata": {},
   "outputs": [
    {
     "name": "stdout",
     "output_type": "stream",
     "text": [
      "4/4 [==============================] - 0s 92ms/step - loss: 1.0173 - accuracy: 0.6018\n",
      "Accuracy on adversarial test data: 60.18%\n",
      "Average perturbation: 0.22\n"
     ]
    }
   ],
   "source": [
    "_, accuracy_test_attack = model.evaluate(x_test_adv, y_test)\n",
    "perturbation = np.mean(np.abs((x_test_adv - x_test)))\n",
    "\n",
    "print('Accuracy on adversarial test data: {:4.2f}%'.format(accuracy_test_attack * 100))\n",
    "print('Average perturbation: {:4.2f}'.format(perturbation))"
   ]
  },
  {
   "cell_type": "code",
   "execution_count": null,
   "id": "77645e5d",
   "metadata": {},
   "outputs": [],
   "source": [
    "attack_cw = CarliniL0Method(classifier=classifier)\n",
    "\n",
    "x_test_adv = attack_cw.generate(x_test)"
   ]
  },
  {
   "cell_type": "code",
   "execution_count": null,
   "id": "1506b646",
   "metadata": {},
   "outputs": [],
   "source": [
    "loss_test, accuracy_test = model.evaluate(x_test_adv, y_test)\n",
    "perturbation = np.mean(np.abs((x_test_adv - x_test)))\n",
    "print('Accuracy on original test data: {:4.2f}%'.format(accuracy_test_original * 100))\n",
    "print('Accuracy on adversarial test data: {:4.2f}%'.format(accuracy_test * 100))\n",
    "print('Average perturbation: {:4.2f}'.format(perturbation))"
   ]
  }
 ],
 "metadata": {
  "kernelspec": {
   "display_name": "Python 3 (ipykernel)",
   "language": "python",
   "name": "python3"
  },
  "language_info": {
   "codemirror_mode": {
    "name": "ipython",
    "version": 3
   },
   "file_extension": ".py",
   "mimetype": "text/x-python",
   "name": "python",
   "nbconvert_exporter": "python",
   "pygments_lexer": "ipython3",
   "version": "3.9.13"
  }
 },
 "nbformat": 4,
 "nbformat_minor": 5
}
