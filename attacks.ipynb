{
 "cells": [
  {
   "cell_type": "code",
   "execution_count": 1,
   "id": "e3cd8df7",
   "metadata": {},
   "outputs": [
    {
     "name": "stderr",
     "output_type": "stream",
     "text": [
      "2023-01-31 11:24:22.901292: I tensorflow/stream_executor/platform/default/dso_loader.cc:49] Successfully opened dynamic library libcudart.so.10.1\n"
     ]
    }
   ],
   "source": [
    "import tensorflow as tf\n",
    "import numpy as np\n",
    "import pandas as pd\n",
    "import pickle"
   ]
  },
  {
   "cell_type": "markdown",
   "id": "c6e8233b",
   "metadata": {},
   "source": [
    "Load datasets and standardize data"
   ]
  },
  {
   "cell_type": "code",
   "execution_count": 2,
   "id": "522acb44",
   "metadata": {},
   "outputs": [],
   "source": [
    "def load_dataset(dsname):\n",
    "    metadata = pd.read_csv(f\"/datasets/nicolas_facchinetti/processed_data/{dsname}/metadata_final.csv\")\n",
    "    x = pickle.load(open(f\"/datasets/nicolas_facchinetti/processed_data/{dsname}/processed_data0.p\", \"rb\" ))\n",
    "    y = pickle.load(open(f\"/datasets/nicolas_facchinetti/processed_data/{dsname}/processed_labels.p\", \"rb\" ))\n",
    "    return metadata, x, y"
   ]
  },
  {
   "cell_type": "code",
   "execution_count": 3,
   "id": "8c97d4e1",
   "metadata": {},
   "outputs": [],
   "source": [
    "from sklearn.preprocessing import StandardScaler\n",
    "\n",
    "datasets = [\"emodb\", \"emovo\", \"ravdess\"]\n",
    "scalers = {d: StandardScaler() for d in datasets}\n",
    "\n",
    "data = {}\n",
    "for d in datasets:\n",
    "    md, x, y = load_dataset(d)\n",
    "    data[d] = {}\n",
    "    # standardize data\n",
    "    n = x.shape\n",
    "    data[d][\"x\"] = scalers[d].fit_transform(x.reshape(n[0],-1)).reshape(n)\n",
    "    data[d][\"y\"] = y\n",
    "    data[d][\"metadata\"] = md"
   ]
  },
  {
   "cell_type": "code",
   "execution_count": 4,
   "id": "353f7abd",
   "metadata": {},
   "outputs": [
    {
     "data": {
      "text/html": [
       "<div>\n",
       "<style scoped>\n",
       "    .dataframe tbody tr th:only-of-type {\n",
       "        vertical-align: middle;\n",
       "    }\n",
       "\n",
       "    .dataframe tbody tr th {\n",
       "        vertical-align: top;\n",
       "    }\n",
       "\n",
       "    .dataframe thead th {\n",
       "        text-align: right;\n",
       "    }\n",
       "</style>\n",
       "<table border=\"1\" class=\"dataframe\">\n",
       "  <thead>\n",
       "    <tr style=\"text-align: right;\">\n",
       "      <th></th>\n",
       "      <th>path</th>\n",
       "      <th>filename</th>\n",
       "      <th>chunk</th>\n",
       "      <th>label</th>\n",
       "      <th>actor</th>\n",
       "      <th>gender</th>\n",
       "      <th>mod</th>\n",
       "    </tr>\n",
       "  </thead>\n",
       "  <tbody>\n",
       "    <tr>\n",
       "      <th>0</th>\n",
       "      <td>/datasets/nicolas_facchinetti/emodb/data/13a05...</td>\n",
       "      <td>13a05Tc.wav</td>\n",
       "      <td>0</td>\n",
       "      <td>sad</td>\n",
       "      <td>13</td>\n",
       "      <td>f</td>\n",
       "      <td>0</td>\n",
       "    </tr>\n",
       "    <tr>\n",
       "      <th>1</th>\n",
       "      <td>/datasets/nicolas_facchinetti/emodb/data/13a05...</td>\n",
       "      <td>13a05Tc.wav</td>\n",
       "      <td>1</td>\n",
       "      <td>sad</td>\n",
       "      <td>13</td>\n",
       "      <td>f</td>\n",
       "      <td>0</td>\n",
       "    </tr>\n",
       "    <tr>\n",
       "      <th>2</th>\n",
       "      <td>/datasets/nicolas_facchinetti/emodb/data/13a05...</td>\n",
       "      <td>13a05Tc.wav</td>\n",
       "      <td>0</td>\n",
       "      <td>sad</td>\n",
       "      <td>13</td>\n",
       "      <td>f</td>\n",
       "      <td>1</td>\n",
       "    </tr>\n",
       "    <tr>\n",
       "      <th>3</th>\n",
       "      <td>/datasets/nicolas_facchinetti/emodb/data/13a05...</td>\n",
       "      <td>13a05Tc.wav</td>\n",
       "      <td>1</td>\n",
       "      <td>sad</td>\n",
       "      <td>13</td>\n",
       "      <td>f</td>\n",
       "      <td>1</td>\n",
       "    </tr>\n",
       "    <tr>\n",
       "      <th>4</th>\n",
       "      <td>/datasets/nicolas_facchinetti/emodb/data/13a05...</td>\n",
       "      <td>13a05Tc.wav</td>\n",
       "      <td>0</td>\n",
       "      <td>sad</td>\n",
       "      <td>13</td>\n",
       "      <td>f</td>\n",
       "      <td>1</td>\n",
       "    </tr>\n",
       "  </tbody>\n",
       "</table>\n",
       "</div>"
      ],
      "text/plain": [
       "                                                path     filename  chunk  \\\n",
       "0  /datasets/nicolas_facchinetti/emodb/data/13a05...  13a05Tc.wav      0   \n",
       "1  /datasets/nicolas_facchinetti/emodb/data/13a05...  13a05Tc.wav      1   \n",
       "2  /datasets/nicolas_facchinetti/emodb/data/13a05...  13a05Tc.wav      0   \n",
       "3  /datasets/nicolas_facchinetti/emodb/data/13a05...  13a05Tc.wav      1   \n",
       "4  /datasets/nicolas_facchinetti/emodb/data/13a05...  13a05Tc.wav      0   \n",
       "\n",
       "  label  actor gender  mod  \n",
       "0   sad     13      f    0  \n",
       "1   sad     13      f    0  \n",
       "2   sad     13      f    1  \n",
       "3   sad     13      f    1  \n",
       "4   sad     13      f    1  "
      ]
     },
     "execution_count": 4,
     "metadata": {},
     "output_type": "execute_result"
    }
   ],
   "source": [
    "data['emodb']['metadata'].head()"
   ]
  },
  {
   "cell_type": "markdown",
   "id": "8b18f3a7",
   "metadata": {},
   "source": [
    "Get train/test data"
   ]
  },
  {
   "cell_type": "code",
   "execution_count": 5,
   "id": "2d647052",
   "metadata": {},
   "outputs": [
    {
     "name": "stdout",
     "output_type": "stream",
     "text": [
      "For emodb:\ttrain size 3344, test size 837\n",
      "For emovo:\ttrain size 3944, test size 987\n",
      "For ravdess:\ttrain size 7161, test size 1791\n"
     ]
    }
   ],
   "source": [
    "from sklearn.model_selection import train_test_split\n",
    "\n",
    "train = {}\n",
    "test = {}\n",
    "test_md = {}\n",
    "for d in datasets:\n",
    "    train[d] = {}\n",
    "    test[d] = {}\n",
    "    train_df, test_df = train_test_split(data[d]['metadata'], \n",
    "                                       test_size = 0.2, \n",
    "                                       random_state = 1938,\n",
    "                                       stratify = data[d]['metadata']['label'])\n",
    "    test_md[d] = test_df.reset_index()\n",
    "    train_index = train_df.index\n",
    "    test_index = test_df.index\n",
    "    print(f'For {d}:\\ttrain size {len(train_index)}, test size {len(test_index)}')\n",
    "    train[d]['x'] = data[d]['x'][train_index]\n",
    "    train[d]['y'] = data[d]['y'][train_index]\n",
    "    test[d]['x']= data[d]['x'][test_index]\n",
    "    test[d]['y']= data[d]['y'][test_index]\n",
    "    "
   ]
  },
  {
   "cell_type": "code",
   "execution_count": 6,
   "id": "bfa1cfd2",
   "metadata": {},
   "outputs": [
    {
     "name": "stdout",
     "output_type": "stream",
     "text": [
      "For emodb the gender balance in test set is\n",
      "f    522\n",
      "m    315\n",
      "Name: gender, dtype: int64\n",
      "\n",
      "For emovo the gender balance in test set is\n",
      "f    499\n",
      "m    488\n",
      "Name: gender, dtype: int64\n",
      "\n",
      "For ravdess the gender balance in test set is\n",
      "f    896\n",
      "m    895\n",
      "Name: gender, dtype: int64\n",
      "\n"
     ]
    }
   ],
   "source": [
    "for d in datasets:\n",
    "    print(f'For {d} the gender balance in test set is\\n{test_md[d].gender.value_counts()}\\n')"
   ]
  },
  {
   "cell_type": "code",
   "execution_count": 7,
   "id": "294a21a6",
   "metadata": {},
   "outputs": [
    {
     "data": {
      "text/html": [
       "<div>\n",
       "<style scoped>\n",
       "    .dataframe tbody tr th:only-of-type {\n",
       "        vertical-align: middle;\n",
       "    }\n",
       "\n",
       "    .dataframe tbody tr th {\n",
       "        vertical-align: top;\n",
       "    }\n",
       "\n",
       "    .dataframe thead th {\n",
       "        text-align: right;\n",
       "    }\n",
       "</style>\n",
       "<table border=\"1\" class=\"dataframe\">\n",
       "  <thead>\n",
       "    <tr style=\"text-align: right;\">\n",
       "      <th></th>\n",
       "      <th>index</th>\n",
       "      <th>path</th>\n",
       "      <th>filename</th>\n",
       "      <th>chunk</th>\n",
       "      <th>label</th>\n",
       "      <th>actor</th>\n",
       "      <th>gender</th>\n",
       "      <th>mod</th>\n",
       "    </tr>\n",
       "  </thead>\n",
       "  <tbody>\n",
       "    <tr>\n",
       "      <th>0</th>\n",
       "      <td>2272</td>\n",
       "      <td>/datasets/nicolas_facchinetti/emodb/data/08b03...</td>\n",
       "      <td>08b03Tc.wav</td>\n",
       "      <td>2</td>\n",
       "      <td>sad</td>\n",
       "      <td>8</td>\n",
       "      <td>f</td>\n",
       "      <td>0</td>\n",
       "    </tr>\n",
       "    <tr>\n",
       "      <th>1</th>\n",
       "      <td>1115</td>\n",
       "      <td>/datasets/nicolas_facchinetti/emodb/data/14a07...</td>\n",
       "      <td>14a07Tc.wav</td>\n",
       "      <td>0</td>\n",
       "      <td>sad</td>\n",
       "      <td>14</td>\n",
       "      <td>f</td>\n",
       "      <td>2</td>\n",
       "    </tr>\n",
       "    <tr>\n",
       "      <th>2</th>\n",
       "      <td>4069</td>\n",
       "      <td>/datasets/nicolas_facchinetti/emodb/data/16b01...</td>\n",
       "      <td>16b01Tb.wav</td>\n",
       "      <td>1</td>\n",
       "      <td>sad</td>\n",
       "      <td>16</td>\n",
       "      <td>f</td>\n",
       "      <td>2</td>\n",
       "    </tr>\n",
       "    <tr>\n",
       "      <th>3</th>\n",
       "      <td>3325</td>\n",
       "      <td>/datasets/nicolas_facchinetti/emodb/data/16a07...</td>\n",
       "      <td>16a07Fb.wav</td>\n",
       "      <td>0</td>\n",
       "      <td>happy</td>\n",
       "      <td>16</td>\n",
       "      <td>f</td>\n",
       "      <td>2</td>\n",
       "    </tr>\n",
       "    <tr>\n",
       "      <th>4</th>\n",
       "      <td>3585</td>\n",
       "      <td>/datasets/nicolas_facchinetti/emodb/data/14a07...</td>\n",
       "      <td>14a07Fd.wav</td>\n",
       "      <td>0</td>\n",
       "      <td>happy</td>\n",
       "      <td>14</td>\n",
       "      <td>f</td>\n",
       "      <td>1</td>\n",
       "    </tr>\n",
       "  </tbody>\n",
       "</table>\n",
       "</div>"
      ],
      "text/plain": [
       "   index                                               path     filename  \\\n",
       "0   2272  /datasets/nicolas_facchinetti/emodb/data/08b03...  08b03Tc.wav   \n",
       "1   1115  /datasets/nicolas_facchinetti/emodb/data/14a07...  14a07Tc.wav   \n",
       "2   4069  /datasets/nicolas_facchinetti/emodb/data/16b01...  16b01Tb.wav   \n",
       "3   3325  /datasets/nicolas_facchinetti/emodb/data/16a07...  16a07Fb.wav   \n",
       "4   3585  /datasets/nicolas_facchinetti/emodb/data/14a07...  14a07Fd.wav   \n",
       "\n",
       "   chunk  label  actor gender  mod  \n",
       "0      2    sad      8      f    0  \n",
       "1      0    sad     14      f    2  \n",
       "2      1    sad     16      f    2  \n",
       "3      0  happy     16      f    2  \n",
       "4      0  happy     14      f    1  "
      ]
     },
     "execution_count": 7,
     "metadata": {},
     "output_type": "execute_result"
    }
   ],
   "source": [
    "test_md['emodb'].head()"
   ]
  },
  {
   "cell_type": "code",
   "execution_count": 8,
   "id": "07bfbbf4",
   "metadata": {},
   "outputs": [],
   "source": [
    "def get_m_f_data(md):\n",
    "    m = md[md.gender=='m'].index\n",
    "    f = md[md.gender=='f'].index\n",
    "    return m, f"
   ]
  },
  {
   "cell_type": "code",
   "execution_count": 9,
   "id": "be0f6770",
   "metadata": {},
   "outputs": [
    {
     "name": "stdout",
     "output_type": "stream",
     "text": [
      "For emodb\n",
      "\tmale:315\n",
      "\tfemale:522\n",
      "\n",
      "For emovo\n",
      "\tmale:488\n",
      "\tfemale:499\n",
      "\n",
      "For ravdess\n",
      "\tmale:895\n",
      "\tfemale:896\n",
      "\n"
     ]
    }
   ],
   "source": [
    "test_mf = {}\n",
    "for d in datasets:\n",
    "    data_d = get_m_f_data(test_md[d])\n",
    "    print(f\"For {d}\\n\\tmale:{data_d[0].shape[0]}\\n\\tfemale:{data_d[1].shape[0]}\\n\")"
   ]
  },
  {
   "cell_type": "markdown",
   "id": "57810aa3",
   "metadata": {},
   "source": [
    "Load best parameter for each dataset"
   ]
  },
  {
   "cell_type": "code",
   "execution_count": 10,
   "id": "6e2881ca",
   "metadata": {},
   "outputs": [
    {
     "data": {
      "text/plain": [
       "{'emodb': {'dropout': 0.3,\n",
       "  'lstm_dropout': 0.2,\n",
       "  'learning_rate': 0.001,\n",
       "  'batch_size': 32,\n",
       "  'tuner/epochs': 120,\n",
       "  'tuner/initial_epoch': 8,\n",
       "  'tuner/bracket': 1,\n",
       "  'tuner/round': 1,\n",
       "  'tuner/trial_id': '0050',\n",
       "  'lstm_units': 2},\n",
       " 'emovo': {'dropout': 0.3,\n",
       "  'lstm_dropout': 0.0,\n",
       "  'learning_rate': 0.0001,\n",
       "  'batch_size': 8,\n",
       "  'tuner/epochs': 120,\n",
       "  'tuner/initial_epoch': 8,\n",
       "  'tuner/bracket': 1,\n",
       "  'tuner/round': 1,\n",
       "  'tuner/trial_id': '0001',\n",
       "  'lstm_units': 2},\n",
       " 'ravdess': {'dropout': 0.6,\n",
       "  'lstm_dropout': 0.2,\n",
       "  'learning_rate': 0.001,\n",
       "  'batch_size': 128,\n",
       "  'tuner/epochs': 120,\n",
       "  'tuner/initial_epoch': 0,\n",
       "  'tuner/bracket': 0,\n",
       "  'tuner/round': 0,\n",
       "  'lstm_units': 2}}"
      ]
     },
     "execution_count": 10,
     "metadata": {},
     "output_type": "execute_result"
    }
   ],
   "source": [
    "import keras_tuner as kt\n",
    "param = pickle.load(open('/datasets/nicolas_facchinetti/param.p', \"rb\" ))\n",
    "param  "
   ]
  },
  {
   "cell_type": "markdown",
   "id": "68c565c8",
   "metadata": {},
   "source": [
    "# Model definition"
   ]
  },
  {
   "cell_type": "code",
   "execution_count": 12,
   "id": "ae971dfa",
   "metadata": {},
   "outputs": [],
   "source": [
    "import tensorflow.keras\n",
    "from tensorflow.keras.models import Sequential\n",
    "from tensorflow.keras.callbacks import EarlyStopping, ReduceLROnPlateau\n",
    "from tensorflow.keras.layers import Conv2D, Flatten, Dense, Dropout, MaxPooling2D, LSTM, TimeDistributed, InputLayer, Reshape, BatchNormalization, Bidirectional"
   ]
  },
  {
   "cell_type": "code",
   "execution_count": 13,
   "id": "358b22a5",
   "metadata": {},
   "outputs": [],
   "source": [
    "def get_m(best_param):\n",
    "    # Define hyper model architecture\n",
    "    m = Sequential([\n",
    "        InputLayer(input_shape=(261,128,1)),\n",
    "        Reshape((9,29,128,1)),\n",
    "        TimeDistributed(Conv2D(16, kernel_size=(5,5), activation='relu')),\n",
    "        TimeDistributed(BatchNormalization()),\n",
    "        TimeDistributed(MaxPooling2D(pool_size=(4,4), strides=2)),\n",
    "\n",
    "        TimeDistributed(Conv2D(32, kernel_size=(3,3), activation='relu')),\n",
    "        TimeDistributed(MaxPooling2D(pool_size=(2,2), strides=2)),\n",
    "\n",
    "        TimeDistributed(Conv2D(64, kernel_size=(3,3), activation='relu')),\n",
    "        TimeDistributed(MaxPooling2D(pool_size=(2,2), strides=1)),\n",
    "        TimeDistributed(Flatten()),\n",
    "        \n",
    "        Dropout(best_param['dropout']),\n",
    "        \n",
    "        Bidirectional(LSTM(256, dropout=best_param['lstm_dropout'], return_sequences=False)),\n",
    "        Dense(5, activation='softmax')\n",
    "    ])\n",
    "    \n",
    "    lr = best_param['learning_rate']\n",
    "    \n",
    "    # Define optimizer, loss, and metrics\n",
    "    m.compile(optimizer=tf.keras.optimizers.Adam(learning_rate=lr),\n",
    "              loss='categorical_crossentropy',\n",
    "              metrics=[\"accuracy\"])\n",
    "    return m"
   ]
  },
  {
   "cell_type": "markdown",
   "id": "95352038",
   "metadata": {},
   "source": [
    "Models training"
   ]
  },
  {
   "cell_type": "code",
   "execution_count": 14,
   "id": "5fc78eb3",
   "metadata": {
    "scrolled": true
   },
   "outputs": [
    {
     "name": "stderr",
     "output_type": "stream",
     "text": [
      "2023-01-31 11:24:32.910068: I tensorflow/compiler/jit/xla_cpu_device.cc:41] Not creating XLA devices, tf_xla_enable_xla_devices not set\n",
      "2023-01-31 11:24:32.911113: I tensorflow/stream_executor/platform/default/dso_loader.cc:49] Successfully opened dynamic library libcuda.so.1\n",
      "2023-01-31 11:24:33.020015: I tensorflow/core/common_runtime/gpu/gpu_device.cc:1720] Found device 0 with properties: \n",
      "pciBusID: 0000:15:00.0 name: NVIDIA TITAN V computeCapability: 7.0\n",
      "coreClock: 1.455GHz coreCount: 80 deviceMemorySize: 11.77GiB deviceMemoryBandwidth: 607.97GiB/s\n",
      "2023-01-31 11:24:33.020062: I tensorflow/stream_executor/platform/default/dso_loader.cc:49] Successfully opened dynamic library libcudart.so.10.1\n",
      "2023-01-31 11:24:33.022346: I tensorflow/stream_executor/platform/default/dso_loader.cc:49] Successfully opened dynamic library libcublas.so.10\n",
      "2023-01-31 11:24:33.022409: I tensorflow/stream_executor/platform/default/dso_loader.cc:49] Successfully opened dynamic library libcublasLt.so.10\n",
      "2023-01-31 11:24:33.024435: I tensorflow/stream_executor/platform/default/dso_loader.cc:49] Successfully opened dynamic library libcufft.so.10\n",
      "2023-01-31 11:24:33.024809: I tensorflow/stream_executor/platform/default/dso_loader.cc:49] Successfully opened dynamic library libcurand.so.10\n",
      "2023-01-31 11:24:33.026869: I tensorflow/stream_executor/platform/default/dso_loader.cc:49] Successfully opened dynamic library libcusolver.so.10\n",
      "2023-01-31 11:24:33.027887: I tensorflow/stream_executor/platform/default/dso_loader.cc:49] Successfully opened dynamic library libcusparse.so.10\n",
      "2023-01-31 11:24:33.031881: I tensorflow/stream_executor/platform/default/dso_loader.cc:49] Successfully opened dynamic library libcudnn.so.7\n",
      "2023-01-31 11:24:33.032452: I tensorflow/core/common_runtime/gpu/gpu_device.cc:1862] Adding visible gpu devices: 0\n",
      "2023-01-31 11:24:33.033487: I tensorflow/core/platform/cpu_feature_guard.cc:142] This TensorFlow binary is optimized with oneAPI Deep Neural Network Library (oneDNN) to use the following CPU instructions in performance-critical operations:  SSE4.1 SSE4.2 AVX AVX2 AVX512F FMA\n",
      "To enable them in other operations, rebuild TensorFlow with the appropriate compiler flags.\n",
      "2023-01-31 11:24:33.034839: I tensorflow/compiler/jit/xla_gpu_device.cc:99] Not creating XLA devices, tf_xla_enable_xla_devices not set\n",
      "2023-01-31 11:24:33.035177: I tensorflow/core/common_runtime/gpu/gpu_device.cc:1720] Found device 0 with properties: \n",
      "pciBusID: 0000:15:00.0 name: NVIDIA TITAN V computeCapability: 7.0\n",
      "coreClock: 1.455GHz coreCount: 80 deviceMemorySize: 11.77GiB deviceMemoryBandwidth: 607.97GiB/s\n",
      "2023-01-31 11:24:33.035197: I tensorflow/stream_executor/platform/default/dso_loader.cc:49] Successfully opened dynamic library libcudart.so.10.1\n",
      "2023-01-31 11:24:33.035215: I tensorflow/stream_executor/platform/default/dso_loader.cc:49] Successfully opened dynamic library libcublas.so.10\n",
      "2023-01-31 11:24:33.035224: I tensorflow/stream_executor/platform/default/dso_loader.cc:49] Successfully opened dynamic library libcublasLt.so.10\n",
      "2023-01-31 11:24:33.035232: I tensorflow/stream_executor/platform/default/dso_loader.cc:49] Successfully opened dynamic library libcufft.so.10\n",
      "2023-01-31 11:24:33.035241: I tensorflow/stream_executor/platform/default/dso_loader.cc:49] Successfully opened dynamic library libcurand.so.10\n",
      "2023-01-31 11:24:33.035249: I tensorflow/stream_executor/platform/default/dso_loader.cc:49] Successfully opened dynamic library libcusolver.so.10\n",
      "2023-01-31 11:24:33.035257: I tensorflow/stream_executor/platform/default/dso_loader.cc:49] Successfully opened dynamic library libcusparse.so.10\n",
      "2023-01-31 11:24:33.035266: I tensorflow/stream_executor/platform/default/dso_loader.cc:49] Successfully opened dynamic library libcudnn.so.7\n",
      "2023-01-31 11:24:33.039157: I tensorflow/core/common_runtime/gpu/gpu_device.cc:1862] Adding visible gpu devices: 0\n",
      "2023-01-31 11:24:33.039254: I tensorflow/stream_executor/platform/default/dso_loader.cc:49] Successfully opened dynamic library libcudart.so.10.1\n",
      "2023-01-31 11:24:33.549102: I tensorflow/core/common_runtime/gpu/gpu_device.cc:1261] Device interconnect StreamExecutor with strength 1 edge matrix:\n",
      "2023-01-31 11:24:33.549129: I tensorflow/core/common_runtime/gpu/gpu_device.cc:1267]      0 \n",
      "2023-01-31 11:24:33.549135: I tensorflow/core/common_runtime/gpu/gpu_device.cc:1280] 0:   N \n",
      "2023-01-31 11:24:33.549893: I tensorflow/core/common_runtime/gpu/gpu_device.cc:1406] Created TensorFlow device (/job:localhost/replica:0/task:0/device:GPU:0 with 10904 MB memory) -> physical GPU (device: 0, name: NVIDIA TITAN V, pci bus id: 0000:15:00.0, compute capability: 7.0)\n"
     ]
    },
    {
     "name": "stdout",
     "output_type": "stream",
     "text": [
      "Training on emodb dataset\n"
     ]
    },
    {
     "name": "stderr",
     "output_type": "stream",
     "text": [
      "2023-01-31 11:24:34.237005: I tensorflow/compiler/mlir/mlir_graph_optimization_pass.cc:116] None of the MLIR optimization passes are enabled (registered 2)\n",
      "2023-01-31 11:24:34.253302: I tensorflow/core/platform/profile_utils/cpu_utils.cc:112] CPU Frequency: 3301490000 Hz\n"
     ]
    },
    {
     "name": "stdout",
     "output_type": "stream",
     "text": [
      "Epoch 1/100\n"
     ]
    },
    {
     "name": "stderr",
     "output_type": "stream",
     "text": [
      "2023-01-31 11:24:36.032888: I tensorflow/stream_executor/platform/default/dso_loader.cc:49] Successfully opened dynamic library libcublas.so.10\n",
      "2023-01-31 11:24:36.211459: I tensorflow/stream_executor/platform/default/dso_loader.cc:49] Successfully opened dynamic library libcudnn.so.7\n"
     ]
    },
    {
     "name": "stdout",
     "output_type": "stream",
     "text": [
      "84/84 - 5s - loss: 1.1708 - accuracy: 0.5275 - val_loss: 1.4491 - val_accuracy: 0.4425\n",
      "Epoch 2/100\n",
      "84/84 - 1s - loss: 0.6891 - accuracy: 0.7271 - val_loss: 1.0118 - val_accuracy: 0.6024\n",
      "Epoch 3/100\n",
      "84/84 - 1s - loss: 0.4921 - accuracy: 0.8138 - val_loss: 0.7424 - val_accuracy: 0.7309\n",
      "Epoch 4/100\n",
      "84/84 - 1s - loss: 0.3770 - accuracy: 0.8650 - val_loss: 0.5409 - val_accuracy: 0.7743\n",
      "Epoch 5/100\n",
      "84/84 - 1s - loss: 0.2697 - accuracy: 0.9058 - val_loss: 0.3492 - val_accuracy: 0.8729\n",
      "Epoch 6/100\n",
      "84/84 - 1s - loss: 0.1779 - accuracy: 0.9477 - val_loss: 0.3054 - val_accuracy: 0.8924\n",
      "Epoch 7/100\n",
      "84/84 - 1s - loss: 0.1351 - accuracy: 0.9622 - val_loss: 0.2732 - val_accuracy: 0.9028\n",
      "Epoch 8/100\n",
      "84/84 - 1s - loss: 0.0833 - accuracy: 0.9817 - val_loss: 0.2715 - val_accuracy: 0.8999\n",
      "Epoch 9/100\n",
      "84/84 - 1s - loss: 0.0687 - accuracy: 0.9854 - val_loss: 0.2786 - val_accuracy: 0.9028\n",
      "Epoch 10/100\n",
      "84/84 - 1s - loss: 0.0430 - accuracy: 0.9903 - val_loss: 0.2879 - val_accuracy: 0.8999\n",
      "Epoch 11/100\n",
      "84/84 - 1s - loss: 0.0386 - accuracy: 0.9914 - val_loss: 0.2688 - val_accuracy: 0.9073\n",
      "Epoch 12/100\n",
      "84/84 - 1s - loss: 0.0465 - accuracy: 0.9892 - val_loss: 0.3051 - val_accuracy: 0.8909\n",
      "Epoch 13/100\n",
      "84/84 - 1s - loss: 0.0308 - accuracy: 0.9936 - val_loss: 0.2878 - val_accuracy: 0.9133\n",
      "Epoch 14/100\n",
      "84/84 - 1s - loss: 0.0218 - accuracy: 0.9959 - val_loss: 0.2944 - val_accuracy: 0.9013\n",
      "Epoch 15/100\n",
      "84/84 - 1s - loss: 0.0161 - accuracy: 0.9963 - val_loss: 0.2671 - val_accuracy: 0.9073\n",
      "Epoch 16/100\n",
      "84/84 - 1s - loss: 0.0100 - accuracy: 0.9989 - val_loss: 0.2880 - val_accuracy: 0.9028\n",
      "Epoch 17/100\n",
      "84/84 - 1s - loss: 0.0079 - accuracy: 0.9993 - val_loss: 0.2560 - val_accuracy: 0.9088\n",
      "Epoch 18/100\n",
      "84/84 - 1s - loss: 0.0066 - accuracy: 0.9989 - val_loss: 0.2824 - val_accuracy: 0.9073\n",
      "Epoch 19/100\n",
      "84/84 - 1s - loss: 0.0052 - accuracy: 0.9993 - val_loss: 0.2613 - val_accuracy: 0.9103\n",
      "Epoch 20/100\n",
      "84/84 - 1s - loss: 0.0048 - accuracy: 0.9993 - val_loss: 0.3028 - val_accuracy: 0.9058\n",
      "Epoch 21/100\n",
      "84/84 - 1s - loss: 0.0036 - accuracy: 0.9996 - val_loss: 0.2856 - val_accuracy: 0.9103\n",
      "Epoch 22/100\n",
      "84/84 - 1s - loss: 0.0041 - accuracy: 0.9996 - val_loss: 0.3056 - val_accuracy: 0.9133\n",
      "Epoch 23/100\n",
      "84/84 - 1s - loss: 0.0040 - accuracy: 0.9996 - val_loss: 0.2668 - val_accuracy: 0.9193\n",
      "\n",
      "Epoch 00023: ReduceLROnPlateau reducing learning rate to 0.00010000000474974513.\n",
      "Epoch 24/100\n",
      "84/84 - 1s - loss: 0.0029 - accuracy: 0.9993 - val_loss: 0.2616 - val_accuracy: 0.9193\n",
      "Epoch 25/100\n",
      "84/84 - 1s - loss: 0.0018 - accuracy: 1.0000 - val_loss: 0.2609 - val_accuracy: 0.9193\n",
      "Epoch 26/100\n",
      "84/84 - 1s - loss: 0.0024 - accuracy: 0.9996 - val_loss: 0.2631 - val_accuracy: 0.9223\n",
      "Epoch 27/100\n",
      "84/84 - 1s - loss: 0.0017 - accuracy: 1.0000 - val_loss: 0.2647 - val_accuracy: 0.9238\n",
      "Restoring model weights from the end of the best epoch.\n",
      "Epoch 00027: early stopping\n",
      "\n",
      "\n",
      "\n",
      "\n",
      "Training on emovo dataset\n",
      "Epoch 1/100\n",
      "395/395 - 6s - loss: 1.4011 - accuracy: 0.4098 - val_loss: 1.3474 - val_accuracy: 0.4056\n",
      "Epoch 2/100\n",
      "395/395 - 4s - loss: 1.1038 - accuracy: 0.5724 - val_loss: 1.0255 - val_accuracy: 0.6020\n",
      "Epoch 3/100\n",
      "395/395 - 4s - loss: 0.8643 - accuracy: 0.6770 - val_loss: 0.8706 - val_accuracy: 0.6629\n",
      "Epoch 4/100\n",
      "395/395 - 4s - loss: 0.6871 - accuracy: 0.7515 - val_loss: 0.7262 - val_accuracy: 0.7237\n",
      "Epoch 5/100\n",
      "395/395 - 4s - loss: 0.5158 - accuracy: 0.8254 - val_loss: 0.6034 - val_accuracy: 0.7947\n",
      "Epoch 6/100\n",
      "395/395 - 4s - loss: 0.4027 - accuracy: 0.8675 - val_loss: 0.5230 - val_accuracy: 0.8162\n",
      "Epoch 7/100\n",
      "395/395 - 4s - loss: 0.3093 - accuracy: 0.9021 - val_loss: 0.5881 - val_accuracy: 0.7934\n",
      "Epoch 8/100\n",
      "395/395 - 4s - loss: 0.2302 - accuracy: 0.9404 - val_loss: 0.4489 - val_accuracy: 0.8479\n",
      "Epoch 9/100\n",
      "395/395 - 4s - loss: 0.1788 - accuracy: 0.9528 - val_loss: 0.4633 - val_accuracy: 0.8365\n",
      "Epoch 10/100\n",
      "395/395 - 4s - loss: 0.1347 - accuracy: 0.9680 - val_loss: 0.4410 - val_accuracy: 0.8492\n",
      "Epoch 11/100\n",
      "395/395 - 4s - loss: 0.1031 - accuracy: 0.9762 - val_loss: 0.4208 - val_accuracy: 0.8644\n",
      "Epoch 12/100\n",
      "395/395 - 4s - loss: 0.0793 - accuracy: 0.9854 - val_loss: 0.4113 - val_accuracy: 0.8745\n",
      "Epoch 13/100\n",
      "395/395 - 4s - loss: 0.0637 - accuracy: 0.9892 - val_loss: 0.4179 - val_accuracy: 0.8682\n",
      "Epoch 14/100\n",
      "395/395 - 4s - loss: 0.0548 - accuracy: 0.9889 - val_loss: 0.4035 - val_accuracy: 0.8720\n",
      "Epoch 15/100\n",
      "395/395 - 4s - loss: 0.0465 - accuracy: 0.9921 - val_loss: 0.3874 - val_accuracy: 0.8859\n",
      "Epoch 16/100\n",
      "395/395 - 4s - loss: 0.0448 - accuracy: 0.9905 - val_loss: 0.4437 - val_accuracy: 0.8682\n",
      "Epoch 17/100\n",
      "395/395 - 4s - loss: 0.0387 - accuracy: 0.9905 - val_loss: 0.4376 - val_accuracy: 0.8669\n",
      "Epoch 18/100\n",
      "395/395 - 4s - loss: 0.0409 - accuracy: 0.9902 - val_loss: 0.4306 - val_accuracy: 0.8707\n",
      "Epoch 19/100\n",
      "395/395 - 4s - loss: 0.0294 - accuracy: 0.9952 - val_loss: 0.3853 - val_accuracy: 0.8847\n",
      "Epoch 20/100\n",
      "395/395 - 4s - loss: 0.0183 - accuracy: 0.9965 - val_loss: 0.3914 - val_accuracy: 0.8834\n",
      "Epoch 21/100\n",
      "395/395 - 4s - loss: 0.0256 - accuracy: 0.9930 - val_loss: 0.4894 - val_accuracy: 0.8542\n",
      "Epoch 22/100\n",
      "395/395 - 4s - loss: 0.0287 - accuracy: 0.9937 - val_loss: 0.4223 - val_accuracy: 0.8796\n",
      "Epoch 23/100\n",
      "395/395 - 4s - loss: 0.0131 - accuracy: 0.9975 - val_loss: 0.4214 - val_accuracy: 0.8897\n",
      "Epoch 24/100\n",
      "395/395 - 4s - loss: 0.0093 - accuracy: 0.9971 - val_loss: 0.4869 - val_accuracy: 0.8695\n",
      "Epoch 25/100\n",
      "395/395 - 4s - loss: 0.0176 - accuracy: 0.9962 - val_loss: 0.4372 - val_accuracy: 0.8783\n",
      "\n",
      "Epoch 00025: ReduceLROnPlateau reducing learning rate to 9.999999747378752e-06.\n",
      "Epoch 26/100\n",
      "395/395 - 4s - loss: 0.0095 - accuracy: 0.9978 - val_loss: 0.4051 - val_accuracy: 0.8910\n",
      "Epoch 27/100\n",
      "395/395 - 4s - loss: 0.0058 - accuracy: 0.9990 - val_loss: 0.4014 - val_accuracy: 0.8897\n",
      "Epoch 28/100\n",
      "395/395 - 4s - loss: 0.0057 - accuracy: 0.9987 - val_loss: 0.4059 - val_accuracy: 0.8872\n",
      "Epoch 29/100\n",
      "395/395 - 4s - loss: 0.0052 - accuracy: 0.9990 - val_loss: 0.3996 - val_accuracy: 0.8948\n",
      "Restoring model weights from the end of the best epoch.\n",
      "Epoch 00029: early stopping\n",
      "\n",
      "\n",
      "\n",
      "\n",
      "Training on ravdess dataset\n",
      "Epoch 1/100\n",
      "45/45 - 5s - loss: 1.5506 - accuracy: 0.3444 - val_loss: 1.4361 - val_accuracy: 0.3901\n",
      "Epoch 2/100\n",
      "45/45 - 2s - loss: 1.3191 - accuracy: 0.4520 - val_loss: 1.5082 - val_accuracy: 0.3524\n",
      "Epoch 3/100\n",
      "45/45 - 2s - loss: 1.1837 - accuracy: 0.5229 - val_loss: 1.4430 - val_accuracy: 0.3971\n",
      "Epoch 4/100\n",
      "45/45 - 2s - loss: 1.0528 - accuracy: 0.5859 - val_loss: 1.2049 - val_accuracy: 0.5276\n",
      "Epoch 5/100\n",
      "45/45 - 2s - loss: 0.8787 - accuracy: 0.6660 - val_loss: 1.2438 - val_accuracy: 0.5115\n",
      "Epoch 6/100\n",
      "45/45 - 2s - loss: 0.7335 - accuracy: 0.7194 - val_loss: 1.3298 - val_accuracy: 0.5052\n",
      "Epoch 7/100\n",
      "45/45 - 2s - loss: 0.6328 - accuracy: 0.7648 - val_loss: 1.2559 - val_accuracy: 0.5625\n",
      "Epoch 8/100\n",
      "45/45 - 2s - loss: 0.5037 - accuracy: 0.8212 - val_loss: 0.8363 - val_accuracy: 0.6881\n",
      "Epoch 9/100\n",
      "45/45 - 2s - loss: 0.4352 - accuracy: 0.8465 - val_loss: 0.7047 - val_accuracy: 0.7292\n",
      "Epoch 10/100\n",
      "45/45 - 2s - loss: 0.3378 - accuracy: 0.8841 - val_loss: 0.5774 - val_accuracy: 0.7823\n",
      "Epoch 11/100\n",
      "45/45 - 2s - loss: 0.3024 - accuracy: 0.8980 - val_loss: 0.5948 - val_accuracy: 0.7683\n",
      "Epoch 12/100\n",
      "45/45 - 2s - loss: 0.2541 - accuracy: 0.9148 - val_loss: 0.4231 - val_accuracy: 0.8437\n",
      "Epoch 13/100\n",
      "45/45 - 2s - loss: 0.2111 - accuracy: 0.9354 - val_loss: 0.3467 - val_accuracy: 0.8828\n",
      "Epoch 14/100\n",
      "45/45 - 2s - loss: 0.1813 - accuracy: 0.9455 - val_loss: 0.3595 - val_accuracy: 0.8807\n",
      "Epoch 15/100\n",
      "45/45 - 2s - loss: 0.1509 - accuracy: 0.9576 - val_loss: 0.3541 - val_accuracy: 0.8821\n",
      "Epoch 16/100\n",
      "45/45 - 2s - loss: 0.1375 - accuracy: 0.9558 - val_loss: 0.3352 - val_accuracy: 0.8939\n",
      "Epoch 17/100\n",
      "45/45 - 2s - loss: 0.1182 - accuracy: 0.9663 - val_loss: 0.2929 - val_accuracy: 0.9100\n",
      "Epoch 18/100\n",
      "45/45 - 2s - loss: 0.1009 - accuracy: 0.9712 - val_loss: 0.2835 - val_accuracy: 0.9065\n",
      "Epoch 19/100\n",
      "45/45 - 2s - loss: 0.0886 - accuracy: 0.9750 - val_loss: 0.2930 - val_accuracy: 0.9086\n",
      "Epoch 20/100\n",
      "45/45 - 2s - loss: 0.0769 - accuracy: 0.9801 - val_loss: 0.3157 - val_accuracy: 0.9051\n",
      "Epoch 21/100\n",
      "45/45 - 2s - loss: 0.0775 - accuracy: 0.9789 - val_loss: 0.2723 - val_accuracy: 0.9170\n",
      "Epoch 22/100\n",
      "45/45 - 2s - loss: 0.0764 - accuracy: 0.9791 - val_loss: 0.3061 - val_accuracy: 0.9051\n"
     ]
    },
    {
     "name": "stdout",
     "output_type": "stream",
     "text": [
      "Epoch 23/100\n",
      "45/45 - 2s - loss: 0.0726 - accuracy: 0.9784 - val_loss: 0.2911 - val_accuracy: 0.9114\n",
      "Epoch 24/100\n",
      "45/45 - 2s - loss: 0.0644 - accuracy: 0.9818 - val_loss: 0.2802 - val_accuracy: 0.9197\n",
      "Epoch 25/100\n",
      "45/45 - 2s - loss: 0.0567 - accuracy: 0.9838 - val_loss: 0.3051 - val_accuracy: 0.9100\n",
      "Epoch 26/100\n",
      "45/45 - 2s - loss: 0.0632 - accuracy: 0.9811 - val_loss: 0.2689 - val_accuracy: 0.9197\n",
      "Epoch 27/100\n",
      "45/45 - 2s - loss: 0.0547 - accuracy: 0.9848 - val_loss: 0.2741 - val_accuracy: 0.9170\n",
      "Epoch 28/100\n",
      "45/45 - 2s - loss: 0.0537 - accuracy: 0.9852 - val_loss: 0.2486 - val_accuracy: 0.9232\n",
      "Epoch 29/100\n",
      "45/45 - 2s - loss: 0.0475 - accuracy: 0.9864 - val_loss: 0.2958 - val_accuracy: 0.9170\n",
      "Epoch 30/100\n",
      "45/45 - 2s - loss: 0.0429 - accuracy: 0.9888 - val_loss: 0.2802 - val_accuracy: 0.9142\n",
      "Epoch 31/100\n",
      "45/45 - 2s - loss: 0.0455 - accuracy: 0.9869 - val_loss: 0.2807 - val_accuracy: 0.9107\n",
      "Epoch 32/100\n",
      "45/45 - 2s - loss: 0.0450 - accuracy: 0.9873 - val_loss: 0.2480 - val_accuracy: 0.9323\n",
      "Epoch 33/100\n",
      "45/45 - 2s - loss: 0.0477 - accuracy: 0.9848 - val_loss: 0.2547 - val_accuracy: 0.9218\n",
      "Epoch 34/100\n",
      "45/45 - 2s - loss: 0.0385 - accuracy: 0.9894 - val_loss: 0.2904 - val_accuracy: 0.9156\n",
      "Epoch 35/100\n",
      "45/45 - 2s - loss: 0.0415 - accuracy: 0.9874 - val_loss: 0.2852 - val_accuracy: 0.9135\n",
      "Epoch 36/100\n",
      "45/45 - 2s - loss: 0.0341 - accuracy: 0.9904 - val_loss: 0.3381 - val_accuracy: 0.9037\n",
      "Epoch 37/100\n",
      "45/45 - 2s - loss: 0.0338 - accuracy: 0.9900 - val_loss: 0.2890 - val_accuracy: 0.9184\n",
      "Epoch 38/100\n",
      "45/45 - 2s - loss: 0.0375 - accuracy: 0.9888 - val_loss: 0.3112 - val_accuracy: 0.9135\n",
      "\n",
      "Epoch 00038: ReduceLROnPlateau reducing learning rate to 0.00010000000474974513.\n",
      "Epoch 39/100\n",
      "45/45 - 2s - loss: 0.0283 - accuracy: 0.9928 - val_loss: 0.2864 - val_accuracy: 0.9191\n",
      "Epoch 40/100\n",
      "45/45 - 2s - loss: 0.0243 - accuracy: 0.9939 - val_loss: 0.2740 - val_accuracy: 0.9267\n",
      "Epoch 41/100\n",
      "45/45 - 2s - loss: 0.0244 - accuracy: 0.9934 - val_loss: 0.2729 - val_accuracy: 0.9253\n",
      "Epoch 42/100\n",
      "45/45 - 2s - loss: 0.0226 - accuracy: 0.9937 - val_loss: 0.2774 - val_accuracy: 0.9260\n",
      "Restoring model weights from the end of the best epoch.\n",
      "Epoch 00042: early stopping\n",
      "\n",
      "\n",
      "\n",
      "\n"
     ]
    }
   ],
   "source": [
    "models = {}\n",
    "for d in param:\n",
    "    m = get_m(param[d])\n",
    "\n",
    "    earlyStopping = EarlyStopping(monitor='val_loss', patience=10, verbose=1, mode='min', restore_best_weights=True)\n",
    "    reduce_lr_loss = ReduceLROnPlateau(monitor='val_loss', factor=0.1, patience=6, verbose=1, min_delta=1e-4, mode='min')\n",
    "    \n",
    "    print(f'Training on {d} dataset')\n",
    "    history = m.fit(train[d]['x'], train[d]['y'],\n",
    "                    epochs=100,\n",
    "                    batch_size=param[d][\"batch_size\"],\n",
    "                    validation_split=0.2,\n",
    "                    callbacks=[earlyStopping, reduce_lr_loss], verbose=2)\n",
    "    print(\"\\n\\n\\n\")\n",
    "    \n",
    "    models[d] = m"
   ]
  },
  {
   "cell_type": "markdown",
   "id": "3b94cd11",
   "metadata": {},
   "source": [
    "Model testing"
   ]
  },
  {
   "cell_type": "code",
   "execution_count": 15,
   "id": "f4a8fd97",
   "metadata": {},
   "outputs": [
    {
     "name": "stdout",
     "output_type": "stream",
     "text": [
      "27/27 [==============================] - 0s 8ms/step - loss: 0.3170 - accuracy: 0.9092\n",
      "For emodb test loss: 0.31697770953178406 accuracy: 0.9091995358467102\n",
      "124/124 [==============================] - 1s 5ms/step - loss: 0.3912 - accuracy: 0.8723\n",
      "For emovo test loss: 0.3912019729614258 accuracy: 0.8723404407501221\n",
      "14/14 [==============================] - 0s 17ms/step - loss: 0.3132 - accuracy: 0.9107\n",
      "For ravdess test loss: 0.3131626844406128 accuracy: 0.910664439201355\n"
     ]
    }
   ],
   "source": [
    "for d in models:\n",
    "    loss, accuracy = models[d].evaluate(test[d]['x'], test[d]['y'], batch_size=param[d][\"batch_size\"])\n",
    "    print(f'For {d} test loss: {loss} accuracy: {accuracy}')"
   ]
  },
  {
   "cell_type": "markdown",
   "id": "68fb6cf7",
   "metadata": {},
   "source": [
    "Make ART model"
   ]
  },
  {
   "cell_type": "code",
   "execution_count": 16,
   "id": "00df425d",
   "metadata": {},
   "outputs": [
    {
     "name": "stderr",
     "output_type": "stream",
     "text": [
      "/home/nicolas/.conda/envs/thesis/lib/python3.9/site-packages/art/estimators/certification/__init__.py:13: UserWarning: PyTorch not found. Not importing DeepZ functionality\n",
      "  warnings.warn(\"PyTorch not found. Not importing DeepZ functionality\")\n"
     ]
    }
   ],
   "source": [
    "from art.estimators.classification import TensorFlowV2Classifier"
   ]
  },
  {
   "cell_type": "code",
   "execution_count": 17,
   "id": "63c161f3",
   "metadata": {},
   "outputs": [
    {
     "name": "stdout",
     "output_type": "stream",
     "text": [
      "Model: \"sequential\"\n",
      "_________________________________________________________________\n",
      "Layer (type)                 Output Shape              Param #   \n",
      "=================================================================\n",
      "reshape (Reshape)            (None, 9, 29, 128, 1)     0         \n",
      "_________________________________________________________________\n",
      "time_distributed (TimeDistri (None, 9, 25, 124, 16)    416       \n",
      "_________________________________________________________________\n",
      "time_distributed_1 (TimeDist (None, 9, 25, 124, 16)    64        \n",
      "_________________________________________________________________\n",
      "time_distributed_2 (TimeDist (None, 9, 11, 61, 16)     0         \n",
      "_________________________________________________________________\n",
      "time_distributed_3 (TimeDist (None, 9, 9, 59, 32)      4640      \n",
      "_________________________________________________________________\n",
      "time_distributed_4 (TimeDist (None, 9, 4, 29, 32)      0         \n",
      "_________________________________________________________________\n",
      "time_distributed_5 (TimeDist (None, 9, 2, 27, 64)      18496     \n",
      "_________________________________________________________________\n",
      "time_distributed_6 (TimeDist (None, 9, 1, 26, 64)      0         \n",
      "_________________________________________________________________\n",
      "time_distributed_7 (TimeDist (None, 9, 1664)           0         \n",
      "_________________________________________________________________\n",
      "dropout (Dropout)            (None, 9, 1664)           0         \n",
      "_________________________________________________________________\n",
      "bidirectional (Bidirectional (None, 512)               3934208   \n",
      "_________________________________________________________________\n",
      "dense (Dense)                (None, 5)                 2565      \n",
      "=================================================================\n",
      "Total params: 3,960,389\n",
      "Trainable params: 3,960,357\n",
      "Non-trainable params: 32\n",
      "_________________________________________________________________\n"
     ]
    }
   ],
   "source": [
    "models['emodb'].summary()"
   ]
  },
  {
   "cell_type": "code",
   "execution_count": 18,
   "id": "0c7a6250",
   "metadata": {},
   "outputs": [],
   "source": [
    "minv = np.array([data[d]['x'].min() for d in models])\n",
    "minv = {d: v for v, d in zip(np.floor(minv), models)}\n",
    "\n",
    "maxv = np.array([data[d]['x'].max() for d in models])\n",
    "maxv = {d: v for v, d in zip(np.ceil(maxv), models)}"
   ]
  },
  {
   "cell_type": "code",
   "execution_count": 19,
   "id": "61d2757e",
   "metadata": {},
   "outputs": [
    {
     "data": {
      "text/plain": [
       "({'emodb': -5.0, 'emovo': -3.0, 'ravdess': -2.0},\n",
       " {'emodb': 7.0, 'emovo': 7.0, 'ravdess': 8.0})"
      ]
     },
     "execution_count": 19,
     "metadata": {},
     "output_type": "execute_result"
    }
   ],
   "source": [
    "minv, maxv"
   ]
  },
  {
   "cell_type": "code",
   "execution_count": 20,
   "id": "cb61026d",
   "metadata": {},
   "outputs": [],
   "source": [
    "classifiers = {d: TensorFlowV2Classifier(models[d],\n",
    "                                         nb_classes=5,\n",
    "                                         input_shape=(261,128,1),\n",
    "                                         loss_object=tf.keras.losses.SparseCategoricalCrossentropy(),\n",
    "                                         clip_values=(minv[d], maxv[d]),\n",
    "                                         channels_first=False)\n",
    "               for d in models}"
   ]
  },
  {
   "cell_type": "markdown",
   "id": "c80e48c4",
   "metadata": {},
   "source": [
    "# Model attack"
   ]
  },
  {
   "cell_type": "code",
   "execution_count": 31,
   "id": "80782348",
   "metadata": {},
   "outputs": [],
   "source": [
    "import time\n",
    "\n",
    "\n",
    "def attack(model, method, d, md, bs):\n",
    "    start = time.time()\n",
    "    x_adv = method.generate(d['x'], verbose=True)\n",
    "    elapsed = time.time() - start\n",
    "    \n",
    "    print(f'Attack get {elapsed}')\n",
    "    \n",
    "    mi, fi = get_m_f_data(md)\n",
    "    \n",
    "    def compute_attack(model, adv, x, y):\n",
    "        loss, accuracy = model.evaluate(adv, y, batch_size=bs, verbose=0)\n",
    "        perturbation = np.mean(np.abs((adv - x)))\n",
    "        print(f'\\t\\tloss: {loss:.5f}, accuracy: {accuracy:.5f}, avg perturbation: {perturbation:.5f}\\n')\n",
    "        return loss, accuracy, perturbation\n",
    "    \n",
    "    print('\\tWhole test set')\n",
    "    l1, a1, p1 = compute_attack(model, x_adv, d['x'], d['y'])\n",
    "    print('\\tOnly male data')\n",
    "    l2, a2, p2 = compute_attack(model, x_adv[mi], d['x'][mi], d['y'][mi])\n",
    "    print('\\tOnly female data')\n",
    "    l3, a3, p3 = compute_attack(model, x_adv[fi], d['x'][fi], d['y'][fi])\n",
    "    \n",
    "    def make_dict(v):\n",
    "        return {'All': v[0], 'Male': v[1], 'Female': v[2]}\n",
    "    \n",
    "    return {'Loss': make_dict([l1,l2,l3]), 'Accuracy': make_dict([a1,a2,a3]), 'Perturbation': make_dict([p1,p2,p3])}, elapsed"
   ]
  },
  {
   "cell_type": "code",
   "execution_count": 32,
   "id": "e66e0fa2",
   "metadata": {},
   "outputs": [],
   "source": [
    "results = {}\n",
    "times = {}"
   ]
  },
  {
   "cell_type": "code",
   "execution_count": 50,
   "id": "622cc56d",
   "metadata": {},
   "outputs": [],
   "source": [
    "def df_attack(d_res):\n",
    "    reform = {(dataset, param, metric): values\n",
    "              for dataset, inner1 in d_res.items()\n",
    "              for param, inner2 in inner1.items()\n",
    "              for metric, values in inner2.items()\n",
    "              if metric != 'Loss'}\n",
    "    mux = pd.MultiIndex.from_tuples(reform.keys())\n",
    "    df = pd.DataFrame(list(reform.values()), index=mux)\n",
    "    return df"
   ]
  },
  {
   "cell_type": "code",
   "execution_count": 52,
   "id": "d3a79bac",
   "metadata": {},
   "outputs": [],
   "source": [
    "def df_time(d_res):\n",
    "    reform = {(dataset, param): value\n",
    "              for dataset, inner1 in d_res.items()\n",
    "              for param, value in inner1.items()}\n",
    "    mux = pd.MultiIndex.from_tuples(reform.keys())\n",
    "    df = pd.DataFrame(list(reform.values()), index=mux, columns=['Time'])\n",
    "    return df"
   ]
  },
  {
   "cell_type": "markdown",
   "id": "80412fe5",
   "metadata": {},
   "source": [
    "# White Box attack"
   ]
  },
  {
   "cell_type": "code",
   "execution_count": 49,
   "id": "0e4ddc4e",
   "metadata": {
    "scrolled": true
   },
   "outputs": [
    {
     "name": "stdout",
     "output_type": "stream",
     "text": [
      "Attacking emodb with FGSM eps=0.25\n",
      "Attack get 1.6676230430603027\n",
      "\tWhole test set\n",
      "\t\tloss: 6.30713, accuracy: 0.17085, avg perturbation: 0.21394\n",
      "\n",
      "\tOnly male data\n",
      "\t\tloss: 7.19170, accuracy: 0.11429, avg perturbation: 0.21370\n",
      "\n",
      "\tOnly female data\n",
      "\t\tloss: 5.77334, accuracy: 0.20498, avg perturbation: 0.21408\n",
      "\n",
      "Attacking emodb with FGSM eps=0.5\n",
      "Attack get 1.6095926761627197\n",
      "\tWhole test set\n",
      "\t\tloss: 6.75274, accuracy: 0.12784, avg perturbation: 0.42787\n",
      "\n",
      "\tOnly male data\n",
      "\t\tloss: 7.42254, accuracy: 0.09524, avg perturbation: 0.42739\n",
      "\n",
      "\tOnly female data\n",
      "\t\tloss: 6.34855, accuracy: 0.14751, avg perturbation: 0.42816\n",
      "\n",
      "Attacking emodb with FGSM eps=0.75\n",
      "Attack get 1.5768837928771973\n",
      "\tWhole test set\n",
      "\t\tloss: 6.44006, accuracy: 0.11470, avg perturbation: 0.64181\n",
      "\n",
      "\tOnly male data\n",
      "\t\tloss: 6.88369, accuracy: 0.09206, avg perturbation: 0.64109\n",
      "\n",
      "\tOnly female data\n",
      "\t\tloss: 6.17236, accuracy: 0.12835, avg perturbation: 0.64224\n",
      "\n",
      "Attacking emodb with FGSM eps=1\n",
      "Attack get 1.4817683696746826\n",
      "\tWhole test set\n",
      "\t\tloss: 5.97165, accuracy: 0.11231, avg perturbation: 0.85574\n",
      "\n",
      "\tOnly male data\n",
      "\t\tloss: 6.26445, accuracy: 0.09206, avg perturbation: 0.85479\n",
      "\n",
      "\tOnly female data\n",
      "\t\tloss: 5.79496, accuracy: 0.12452, avg perturbation: 0.85632\n",
      "\n",
      "Attacking emodb with FGSM eps=1.25\n",
      "Attack get 1.5393381118774414\n",
      "\tWhole test set\n",
      "\t\tloss: 5.56537, accuracy: 0.10872, avg perturbation: 1.06968\n",
      "\n",
      "\tOnly male data\n",
      "\t\tloss: 5.74765, accuracy: 0.08889, avg perturbation: 1.06848\n",
      "\n",
      "\tOnly female data\n",
      "\t\tloss: 5.45537, accuracy: 0.12069, avg perturbation: 1.07040\n",
      "\n",
      "_____________________________\n",
      "Attacking emovo with FGSM eps=0.25\n",
      "Attack get 1.7959914207458496\n",
      "\tWhole test set\n",
      "\t\tloss: 9.66919, accuracy: 0.07295, avg perturbation: 0.21812\n",
      "\n",
      "\tOnly male data\n",
      "\t\tloss: 10.26838, accuracy: 0.06148, avg perturbation: 0.21817\n",
      "\n",
      "\tOnly female data\n",
      "\t\tloss: 9.08321, accuracy: 0.08417, avg perturbation: 0.21806\n",
      "\n",
      "Attacking emovo with FGSM eps=0.5\n",
      "Attack get 1.8037841320037842\n",
      "\tWhole test set\n",
      "\t\tloss: 8.12452, accuracy: 0.06991, avg perturbation: 0.43623\n",
      "\n",
      "\tOnly male data\n",
      "\t\tloss: 8.71043, accuracy: 0.06148, avg perturbation: 0.43634\n",
      "\n",
      "\tOnly female data\n",
      "\t\tloss: 7.55152, accuracy: 0.07816, avg perturbation: 0.43613\n",
      "\n",
      "Attacking emovo with FGSM eps=0.75\n",
      "Attack get 1.8474440574645996\n",
      "\tWhole test set\n",
      "\t\tloss: 6.34918, accuracy: 0.07599, avg perturbation: 0.65435\n",
      "\n",
      "\tOnly male data\n",
      "\t\tloss: 6.76796, accuracy: 0.06762, avg perturbation: 0.65451\n",
      "\n",
      "\tOnly female data\n",
      "\t\tloss: 5.93962, accuracy: 0.08417, avg perturbation: 0.65419\n",
      "\n",
      "Attacking emovo with FGSM eps=1\n",
      "Attack get 1.7992656230926514\n",
      "\tWhole test set\n",
      "\t\tloss: 5.16082, accuracy: 0.07700, avg perturbation: 0.87244\n",
      "\n",
      "\tOnly male data\n",
      "\t\tloss: 5.45068, accuracy: 0.06762, avg perturbation: 0.87266\n",
      "\n",
      "\tOnly female data\n",
      "\t\tloss: 4.87734, accuracy: 0.08617, avg perturbation: 0.87223\n",
      "\n",
      "Attacking emovo with FGSM eps=1.25\n",
      "Attack get 1.7596790790557861\n",
      "\tWhole test set\n",
      "\t\tloss: 4.45137, accuracy: 0.08105, avg perturbation: 1.09033\n",
      "\n",
      "\tOnly male data\n",
      "\t\tloss: 4.63120, accuracy: 0.07582, avg perturbation: 1.09059\n",
      "\n",
      "\tOnly female data\n",
      "\t\tloss: 4.27550, accuracy: 0.08617, avg perturbation: 1.09007\n",
      "\n",
      "_____________________________\n",
      "Attacking ravdess with FGSM eps=0.25\n",
      "Attack get 3.3278889656066895\n",
      "\tWhole test set\n",
      "\t\tloss: 7.63768, accuracy: 0.14573, avg perturbation: 0.19792\n",
      "\n",
      "\tOnly male data\n",
      "\t\tloss: 7.80217, accuracy: 0.12737, avg perturbation: 0.19178\n",
      "\n",
      "\tOnly female data\n",
      "\t\tloss: 7.47338, accuracy: 0.16406, avg perturbation: 0.20406\n",
      "\n",
      "Attacking ravdess with FGSM eps=0.5\n",
      "Attack get 3.1221163272857666\n",
      "\tWhole test set\n",
      "\t\tloss: 6.12598, accuracy: 0.18816, avg perturbation: 0.39571\n",
      "\n",
      "\tOnly male data\n",
      "\t\tloss: 6.00899, accuracy: 0.18101, avg perturbation: 0.38339\n",
      "\n",
      "\tOnly female data\n",
      "\t\tloss: 6.24283, accuracy: 0.19531, avg perturbation: 0.40801\n",
      "\n",
      "Attacking ravdess with FGSM eps=0.75\n",
      "Attack get 3.2456181049346924\n",
      "\tWhole test set\n",
      "\t\tloss: 5.90445, accuracy: 0.20380, avg perturbation: 0.59247\n",
      "\n",
      "\tOnly male data\n",
      "\t\tloss: 5.87260, accuracy: 0.20447, avg perturbation: 0.57386\n",
      "\n",
      "\tOnly female data\n",
      "\t\tloss: 5.93626, accuracy: 0.20312, avg perturbation: 0.61105\n",
      "\n",
      "Attacking ravdess with FGSM eps=1\n",
      "Attack get 3.256495714187622\n",
      "\tWhole test set\n",
      "\t\tloss: 5.82481, accuracy: 0.20715, avg perturbation: 0.78431\n",
      "\n",
      "\tOnly male data\n",
      "\t\tloss: 5.85287, accuracy: 0.20223, avg perturbation: 0.75875\n",
      "\n",
      "\tOnly female data\n",
      "\t\tloss: 5.79677, accuracy: 0.21205, avg perturbation: 0.80984\n",
      "\n",
      "Attacking ravdess with FGSM eps=1.25\n",
      "Attack get 3.3101158142089844\n",
      "\tWhole test set\n",
      "\t\tloss: 5.75424, accuracy: 0.19821, avg perturbation: 0.96109\n",
      "\n",
      "\tOnly male data\n",
      "\t\tloss: 5.82420, accuracy: 0.18771, avg perturbation: 0.92642\n",
      "\n",
      "\tOnly female data\n",
      "\t\tloss: 5.68437, accuracy: 0.20871, avg perturbation: 0.99572\n",
      "\n",
      "_____________________________\n"
     ]
    }
   ],
   "source": [
    "from art.attacks.evasion import FastGradientMethod\n",
    "\n",
    "epss = [0.25, 0.5, 0.75, 1, 1.25]\n",
    "results['fgsm'] = {}\n",
    "times['fgsm'] = {}\n",
    "\n",
    "for d in models:\n",
    "    results['fgsm'][d] = {}\n",
    "    times['fgsm'][d] = {}\n",
    "    for e in epss:\n",
    "        print(f'Attacking {d} with FGSM eps={e}')\n",
    "        fgsm = FastGradientMethod(estimator=classifiers[d], eps=e)\n",
    "\n",
    "        res, runtime = attack(models[d], fgsm, test[d], test_md[d], param[d][\"batch_size\"])\n",
    "        results['fgsm'][d][e] = res\n",
    "        times['fgsm'][d][e] = runtime\n",
    "    print(\"_____________________________\")"
   ]
  },
  {
   "cell_type": "code",
   "execution_count": 53,
   "id": "0c105c67",
   "metadata": {},
   "outputs": [
    {
     "data": {
      "text/html": [
       "<div>\n",
       "<style scoped>\n",
       "    .dataframe tbody tr th:only-of-type {\n",
       "        vertical-align: middle;\n",
       "    }\n",
       "\n",
       "    .dataframe tbody tr th {\n",
       "        vertical-align: top;\n",
       "    }\n",
       "\n",
       "    .dataframe thead th {\n",
       "        text-align: right;\n",
       "    }\n",
       "</style>\n",
       "<table border=\"1\" class=\"dataframe\">\n",
       "  <thead>\n",
       "    <tr style=\"text-align: right;\">\n",
       "      <th></th>\n",
       "      <th></th>\n",
       "      <th></th>\n",
       "      <th>All</th>\n",
       "      <th>Male</th>\n",
       "      <th>Female</th>\n",
       "    </tr>\n",
       "  </thead>\n",
       "  <tbody>\n",
       "    <tr>\n",
       "      <th rowspan=\"10\" valign=\"top\">emodb</th>\n",
       "      <th rowspan=\"2\" valign=\"top\">0.25</th>\n",
       "      <th>Accuracy</th>\n",
       "      <td>0.170848</td>\n",
       "      <td>0.114286</td>\n",
       "      <td>0.204981</td>\n",
       "    </tr>\n",
       "    <tr>\n",
       "      <th>Perturbation</th>\n",
       "      <td>0.213936</td>\n",
       "      <td>0.213697</td>\n",
       "      <td>0.214081</td>\n",
       "    </tr>\n",
       "    <tr>\n",
       "      <th rowspan=\"2\" valign=\"top\">0.50</th>\n",
       "      <th>Accuracy</th>\n",
       "      <td>0.127838</td>\n",
       "      <td>0.095238</td>\n",
       "      <td>0.147510</td>\n",
       "    </tr>\n",
       "    <tr>\n",
       "      <th>Perturbation</th>\n",
       "      <td>0.427872</td>\n",
       "      <td>0.427394</td>\n",
       "      <td>0.428161</td>\n",
       "    </tr>\n",
       "    <tr>\n",
       "      <th rowspan=\"2\" valign=\"top\">0.75</th>\n",
       "      <th>Accuracy</th>\n",
       "      <td>0.114695</td>\n",
       "      <td>0.092063</td>\n",
       "      <td>0.128352</td>\n",
       "    </tr>\n",
       "    <tr>\n",
       "      <th>Perturbation</th>\n",
       "      <td>0.641809</td>\n",
       "      <td>0.641091</td>\n",
       "      <td>0.642243</td>\n",
       "    </tr>\n",
       "    <tr>\n",
       "      <th rowspan=\"2\" valign=\"top\">1.00</th>\n",
       "      <th>Accuracy</th>\n",
       "      <td>0.112306</td>\n",
       "      <td>0.092063</td>\n",
       "      <td>0.124521</td>\n",
       "    </tr>\n",
       "    <tr>\n",
       "      <th>Perturbation</th>\n",
       "      <td>0.855744</td>\n",
       "      <td>0.854788</td>\n",
       "      <td>0.856322</td>\n",
       "    </tr>\n",
       "    <tr>\n",
       "      <th rowspan=\"2\" valign=\"top\">1.25</th>\n",
       "      <th>Accuracy</th>\n",
       "      <td>0.108722</td>\n",
       "      <td>0.088889</td>\n",
       "      <td>0.120690</td>\n",
       "    </tr>\n",
       "    <tr>\n",
       "      <th>Perturbation</th>\n",
       "      <td>1.069678</td>\n",
       "      <td>1.068483</td>\n",
       "      <td>1.070397</td>\n",
       "    </tr>\n",
       "    <tr>\n",
       "      <th rowspan=\"10\" valign=\"top\">emovo</th>\n",
       "      <th rowspan=\"2\" valign=\"top\">0.25</th>\n",
       "      <th>Accuracy</th>\n",
       "      <td>0.072948</td>\n",
       "      <td>0.061475</td>\n",
       "      <td>0.084168</td>\n",
       "    </tr>\n",
       "    <tr>\n",
       "      <th>Perturbation</th>\n",
       "      <td>0.218117</td>\n",
       "      <td>0.218172</td>\n",
       "      <td>0.218063</td>\n",
       "    </tr>\n",
       "    <tr>\n",
       "      <th rowspan=\"2\" valign=\"top\">0.50</th>\n",
       "      <th>Accuracy</th>\n",
       "      <td>0.069909</td>\n",
       "      <td>0.061475</td>\n",
       "      <td>0.078156</td>\n",
       "    </tr>\n",
       "    <tr>\n",
       "      <th>Perturbation</th>\n",
       "      <td>0.436233</td>\n",
       "      <td>0.436344</td>\n",
       "      <td>0.436126</td>\n",
       "    </tr>\n",
       "    <tr>\n",
       "      <th rowspan=\"2\" valign=\"top\">0.75</th>\n",
       "      <th>Accuracy</th>\n",
       "      <td>0.075988</td>\n",
       "      <td>0.067623</td>\n",
       "      <td>0.084168</td>\n",
       "    </tr>\n",
       "    <tr>\n",
       "      <th>Perturbation</th>\n",
       "      <td>0.654351</td>\n",
       "      <td>0.654515</td>\n",
       "      <td>0.654188</td>\n",
       "    </tr>\n",
       "    <tr>\n",
       "      <th rowspan=\"2\" valign=\"top\">1.00</th>\n",
       "      <th>Accuracy</th>\n",
       "      <td>0.077001</td>\n",
       "      <td>0.067623</td>\n",
       "      <td>0.086172</td>\n",
       "    </tr>\n",
       "    <tr>\n",
       "      <th>Perturbation</th>\n",
       "      <td>0.872439</td>\n",
       "      <td>0.872658</td>\n",
       "      <td>0.872231</td>\n",
       "    </tr>\n",
       "    <tr>\n",
       "      <th rowspan=\"2\" valign=\"top\">1.25</th>\n",
       "      <th>Accuracy</th>\n",
       "      <td>0.081054</td>\n",
       "      <td>0.075820</td>\n",
       "      <td>0.086172</td>\n",
       "    </tr>\n",
       "    <tr>\n",
       "      <th>Perturbation</th>\n",
       "      <td>1.090331</td>\n",
       "      <td>1.090594</td>\n",
       "      <td>1.090074</td>\n",
       "    </tr>\n",
       "    <tr>\n",
       "      <th rowspan=\"10\" valign=\"top\">ravdess</th>\n",
       "      <th rowspan=\"2\" valign=\"top\">0.25</th>\n",
       "      <th>Accuracy</th>\n",
       "      <td>0.145729</td>\n",
       "      <td>0.127374</td>\n",
       "      <td>0.164062</td>\n",
       "    </tr>\n",
       "    <tr>\n",
       "      <th>Perturbation</th>\n",
       "      <td>0.197921</td>\n",
       "      <td>0.191780</td>\n",
       "      <td>0.204056</td>\n",
       "    </tr>\n",
       "    <tr>\n",
       "      <th rowspan=\"2\" valign=\"top\">0.50</th>\n",
       "      <th>Accuracy</th>\n",
       "      <td>0.188163</td>\n",
       "      <td>0.181006</td>\n",
       "      <td>0.195312</td>\n",
       "    </tr>\n",
       "    <tr>\n",
       "      <th>Perturbation</th>\n",
       "      <td>0.395706</td>\n",
       "      <td>0.383389</td>\n",
       "      <td>0.408010</td>\n",
       "    </tr>\n",
       "    <tr>\n",
       "      <th rowspan=\"2\" valign=\"top\">0.75</th>\n",
       "      <th>Accuracy</th>\n",
       "      <td>0.203797</td>\n",
       "      <td>0.204469</td>\n",
       "      <td>0.203125</td>\n",
       "    </tr>\n",
       "    <tr>\n",
       "      <th>Perturbation</th>\n",
       "      <td>0.592467</td>\n",
       "      <td>0.573860</td>\n",
       "      <td>0.611054</td>\n",
       "    </tr>\n",
       "    <tr>\n",
       "      <th rowspan=\"2\" valign=\"top\">1.00</th>\n",
       "      <th>Accuracy</th>\n",
       "      <td>0.207147</td>\n",
       "      <td>0.202235</td>\n",
       "      <td>0.212054</td>\n",
       "    </tr>\n",
       "    <tr>\n",
       "      <th>Perturbation</th>\n",
       "      <td>0.784306</td>\n",
       "      <td>0.758748</td>\n",
       "      <td>0.809839</td>\n",
       "    </tr>\n",
       "    <tr>\n",
       "      <th rowspan=\"2\" valign=\"top\">1.25</th>\n",
       "      <th>Accuracy</th>\n",
       "      <td>0.198213</td>\n",
       "      <td>0.187709</td>\n",
       "      <td>0.208705</td>\n",
       "    </tr>\n",
       "    <tr>\n",
       "      <th>Perturbation</th>\n",
       "      <td>0.961089</td>\n",
       "      <td>0.926421</td>\n",
       "      <td>0.995723</td>\n",
       "    </tr>\n",
       "  </tbody>\n",
       "</table>\n",
       "</div>"
      ],
      "text/plain": [
       "                                All      Male    Female\n",
       "emodb   0.25 Accuracy      0.170848  0.114286  0.204981\n",
       "             Perturbation  0.213936  0.213697  0.214081\n",
       "        0.50 Accuracy      0.127838  0.095238  0.147510\n",
       "             Perturbation  0.427872  0.427394  0.428161\n",
       "        0.75 Accuracy      0.114695  0.092063  0.128352\n",
       "             Perturbation  0.641809  0.641091  0.642243\n",
       "        1.00 Accuracy      0.112306  0.092063  0.124521\n",
       "             Perturbation  0.855744  0.854788  0.856322\n",
       "        1.25 Accuracy      0.108722  0.088889  0.120690\n",
       "             Perturbation  1.069678  1.068483  1.070397\n",
       "emovo   0.25 Accuracy      0.072948  0.061475  0.084168\n",
       "             Perturbation  0.218117  0.218172  0.218063\n",
       "        0.50 Accuracy      0.069909  0.061475  0.078156\n",
       "             Perturbation  0.436233  0.436344  0.436126\n",
       "        0.75 Accuracy      0.075988  0.067623  0.084168\n",
       "             Perturbation  0.654351  0.654515  0.654188\n",
       "        1.00 Accuracy      0.077001  0.067623  0.086172\n",
       "             Perturbation  0.872439  0.872658  0.872231\n",
       "        1.25 Accuracy      0.081054  0.075820  0.086172\n",
       "             Perturbation  1.090331  1.090594  1.090074\n",
       "ravdess 0.25 Accuracy      0.145729  0.127374  0.164062\n",
       "             Perturbation  0.197921  0.191780  0.204056\n",
       "        0.50 Accuracy      0.188163  0.181006  0.195312\n",
       "             Perturbation  0.395706  0.383389  0.408010\n",
       "        0.75 Accuracy      0.203797  0.204469  0.203125\n",
       "             Perturbation  0.592467  0.573860  0.611054\n",
       "        1.00 Accuracy      0.207147  0.202235  0.212054\n",
       "             Perturbation  0.784306  0.758748  0.809839\n",
       "        1.25 Accuracy      0.198213  0.187709  0.208705\n",
       "             Perturbation  0.961089  0.926421  0.995723"
      ]
     },
     "execution_count": 53,
     "metadata": {},
     "output_type": "execute_result"
    }
   ],
   "source": [
    "df_attack(results['fgsm'])"
   ]
  },
  {
   "cell_type": "code",
   "execution_count": 47,
   "id": "2e086164",
   "metadata": {},
   "outputs": [
    {
     "data": {
      "text/html": [
       "<div>\n",
       "<style scoped>\n",
       "    .dataframe tbody tr th:only-of-type {\n",
       "        vertical-align: middle;\n",
       "    }\n",
       "\n",
       "    .dataframe tbody tr th {\n",
       "        vertical-align: top;\n",
       "    }\n",
       "\n",
       "    .dataframe thead th {\n",
       "        text-align: right;\n",
       "    }\n",
       "</style>\n",
       "<table border=\"1\" class=\"dataframe\">\n",
       "  <thead>\n",
       "    <tr style=\"text-align: right;\">\n",
       "      <th></th>\n",
       "      <th></th>\n",
       "      <th>Time</th>\n",
       "    </tr>\n",
       "  </thead>\n",
       "  <tbody>\n",
       "    <tr>\n",
       "      <th rowspan=\"3\" valign=\"top\">emodb</th>\n",
       "      <th>0.33</th>\n",
       "      <td>1.551730</td>\n",
       "    </tr>\n",
       "    <tr>\n",
       "      <th>0.66</th>\n",
       "      <td>1.549049</td>\n",
       "    </tr>\n",
       "    <tr>\n",
       "      <th>1.00</th>\n",
       "      <td>1.551334</td>\n",
       "    </tr>\n",
       "    <tr>\n",
       "      <th rowspan=\"3\" valign=\"top\">emovo</th>\n",
       "      <th>0.33</th>\n",
       "      <td>1.771480</td>\n",
       "    </tr>\n",
       "    <tr>\n",
       "      <th>0.66</th>\n",
       "      <td>1.724020</td>\n",
       "    </tr>\n",
       "    <tr>\n",
       "      <th>1.00</th>\n",
       "      <td>1.725117</td>\n",
       "    </tr>\n",
       "    <tr>\n",
       "      <th rowspan=\"3\" valign=\"top\">ravdess</th>\n",
       "      <th>0.33</th>\n",
       "      <td>3.291875</td>\n",
       "    </tr>\n",
       "    <tr>\n",
       "      <th>0.66</th>\n",
       "      <td>3.120408</td>\n",
       "    </tr>\n",
       "    <tr>\n",
       "      <th>1.00</th>\n",
       "      <td>3.192088</td>\n",
       "    </tr>\n",
       "  </tbody>\n",
       "</table>\n",
       "</div>"
      ],
      "text/plain": [
       "                  Time\n",
       "emodb   0.33  1.551730\n",
       "        0.66  1.549049\n",
       "        1.00  1.551334\n",
       "emovo   0.33  1.771480\n",
       "        0.66  1.724020\n",
       "        1.00  1.725117\n",
       "ravdess 0.33  3.291875\n",
       "        0.66  3.120408\n",
       "        1.00  3.192088"
      ]
     },
     "execution_count": 47,
     "metadata": {},
     "output_type": "execute_result"
    }
   ],
   "source": [
    "df_time(times['fgsm'])"
   ]
  },
  {
   "cell_type": "code",
   "execution_count": 54,
   "id": "c340356d",
   "metadata": {},
   "outputs": [
    {
     "name": "stdout",
     "output_type": "stream",
     "text": [
      "Attacking emodb with JSMA theta=0.33\n"
     ]
    },
    {
     "data": {
      "application/vnd.jupyter.widget-view+json": {
       "model_id": "7044407aa1934e018fe903f39d4606c6",
       "version_major": 2,
       "version_minor": 0
      },
      "text/plain": [
       "JSMA:   0%|          | 0/837 [00:00<?, ?it/s]"
      ]
     },
     "metadata": {},
     "output_type": "display_data"
    },
    {
     "ename": "KeyboardInterrupt",
     "evalue": "",
     "output_type": "error",
     "traceback": [
      "\u001b[0;31m---------------------------------------------------------------------------\u001b[0m",
      "\u001b[0;31mKeyboardInterrupt\u001b[0m                         Traceback (most recent call last)",
      "Input \u001b[0;32mIn [54]\u001b[0m, in \u001b[0;36m<cell line: 7>\u001b[0;34m()\u001b[0m\n\u001b[1;32m     10\u001b[0m     \u001b[38;5;28mprint\u001b[39m(\u001b[38;5;124mf\u001b[39m\u001b[38;5;124m'\u001b[39m\u001b[38;5;124mAttacking \u001b[39m\u001b[38;5;132;01m{\u001b[39;00md\u001b[38;5;132;01m}\u001b[39;00m\u001b[38;5;124m with JSMA theta=\u001b[39m\u001b[38;5;132;01m{\u001b[39;00mt\u001b[38;5;132;01m}\u001b[39;00m\u001b[38;5;124m'\u001b[39m)\n\u001b[1;32m     11\u001b[0m     jsma \u001b[38;5;241m=\u001b[39m SaliencyMapMethod(classifier\u001b[38;5;241m=\u001b[39mclassifiers[d],\n\u001b[1;32m     12\u001b[0m                              theta\u001b[38;5;241m=\u001b[39mt, \u001b[38;5;66;03m# +1 from paper but test in [-1, +1]\u001b[39;00m\n\u001b[1;32m     13\u001b[0m                              gamma\u001b[38;5;241m=\u001b[39m\u001b[38;5;241m0.1\u001b[39m, \u001b[38;5;66;03m#0.145 from paper\u001b[39;00m\n\u001b[1;32m     14\u001b[0m                              verbose\u001b[38;5;241m=\u001b[39m\u001b[38;5;28;01mTrue\u001b[39;00m)\n\u001b[0;32m---> 16\u001b[0m     res, rr \u001b[38;5;241m=\u001b[39m \u001b[43mattack\u001b[49m\u001b[43m(\u001b[49m\u001b[43mmodels\u001b[49m\u001b[43m[\u001b[49m\u001b[43md\u001b[49m\u001b[43m]\u001b[49m\u001b[43m,\u001b[49m\u001b[43m \u001b[49m\u001b[43mjsma\u001b[49m\u001b[43m,\u001b[49m\u001b[43m \u001b[49m\u001b[43mtest\u001b[49m\u001b[43m[\u001b[49m\u001b[43md\u001b[49m\u001b[43m]\u001b[49m\u001b[43m,\u001b[49m\u001b[43m \u001b[49m\u001b[43mtest_md\u001b[49m\u001b[43m[\u001b[49m\u001b[43md\u001b[49m\u001b[43m]\u001b[49m\u001b[43m,\u001b[49m\u001b[43m \u001b[49m\u001b[43mparam\u001b[49m\u001b[43m[\u001b[49m\u001b[43md\u001b[49m\u001b[43m]\u001b[49m\u001b[43m[\u001b[49m\u001b[38;5;124;43m\"\u001b[39;49m\u001b[38;5;124;43mbatch_size\u001b[39;49m\u001b[38;5;124;43m\"\u001b[39;49m\u001b[43m]\u001b[49m\u001b[43m)\u001b[49m\n\u001b[1;32m     17\u001b[0m     results[\u001b[38;5;124m'\u001b[39m\u001b[38;5;124mfgsm\u001b[39m\u001b[38;5;124m'\u001b[39m][d][e] \u001b[38;5;241m=\u001b[39m res\n\u001b[1;32m     18\u001b[0m \u001b[38;5;28mprint\u001b[39m(\u001b[38;5;124m\"\u001b[39m\u001b[38;5;124m_____________________________\u001b[39m\u001b[38;5;124m\"\u001b[39m)\n",
      "Input \u001b[0;32mIn [31]\u001b[0m, in \u001b[0;36mattack\u001b[0;34m(model, method, d, md, bs)\u001b[0m\n\u001b[1;32m      4\u001b[0m \u001b[38;5;28;01mdef\u001b[39;00m \u001b[38;5;21mattack\u001b[39m(model, method, d, md, bs):\n\u001b[1;32m      5\u001b[0m     start \u001b[38;5;241m=\u001b[39m time\u001b[38;5;241m.\u001b[39mtime()\n\u001b[0;32m----> 6\u001b[0m     x_adv \u001b[38;5;241m=\u001b[39m \u001b[43mmethod\u001b[49m\u001b[38;5;241;43m.\u001b[39;49m\u001b[43mgenerate\u001b[49m\u001b[43m(\u001b[49m\u001b[43md\u001b[49m\u001b[43m[\u001b[49m\u001b[38;5;124;43m'\u001b[39;49m\u001b[38;5;124;43mx\u001b[39;49m\u001b[38;5;124;43m'\u001b[39;49m\u001b[43m]\u001b[49m\u001b[43m,\u001b[49m\u001b[43m \u001b[49m\u001b[43mverbose\u001b[49m\u001b[38;5;241;43m=\u001b[39;49m\u001b[38;5;28;43;01mTrue\u001b[39;49;00m\u001b[43m)\u001b[49m\n\u001b[1;32m      7\u001b[0m     elapsed \u001b[38;5;241m=\u001b[39m time\u001b[38;5;241m.\u001b[39mtime() \u001b[38;5;241m-\u001b[39m start\n\u001b[1;32m      9\u001b[0m     \u001b[38;5;28mprint\u001b[39m(\u001b[38;5;124mf\u001b[39m\u001b[38;5;124m'\u001b[39m\u001b[38;5;124mAttack get \u001b[39m\u001b[38;5;132;01m{\u001b[39;00melapsed\u001b[38;5;132;01m}\u001b[39;00m\u001b[38;5;124m'\u001b[39m)\n",
      "File \u001b[0;32m~/.conda/envs/thesis/lib/python3.9/site-packages/art/attacks/evasion/saliency_map.py:136\u001b[0m, in \u001b[0;36mSaliencyMapMethod.generate\u001b[0;34m(self, x, y, **kwargs)\u001b[0m\n\u001b[1;32m    132\u001b[0m all_feat \u001b[38;5;241m=\u001b[39m np\u001b[38;5;241m.\u001b[39mzeros_like(batch)\n\u001b[1;32m    134\u001b[0m \u001b[38;5;28;01mwhile\u001b[39;00m active_indices\u001b[38;5;241m.\u001b[39msize \u001b[38;5;241m!=\u001b[39m \u001b[38;5;241m0\u001b[39m:\n\u001b[1;32m    135\u001b[0m     \u001b[38;5;66;03m# Compute saliency map\u001b[39;00m\n\u001b[0;32m--> 136\u001b[0m     feat_ind \u001b[38;5;241m=\u001b[39m \u001b[38;5;28;43mself\u001b[39;49m\u001b[38;5;241;43m.\u001b[39;49m\u001b[43m_saliency_map\u001b[49m\u001b[43m(\u001b[49m\n\u001b[1;32m    137\u001b[0m \u001b[43m        \u001b[49m\u001b[43mnp\u001b[49m\u001b[38;5;241;43m.\u001b[39;49m\u001b[43mreshape\u001b[49m\u001b[43m(\u001b[49m\u001b[43mbatch\u001b[49m\u001b[43m,\u001b[49m\u001b[43m \u001b[49m\u001b[43m[\u001b[49m\u001b[43mbatch\u001b[49m\u001b[38;5;241;43m.\u001b[39;49m\u001b[43mshape\u001b[49m\u001b[43m[\u001b[49m\u001b[38;5;241;43m0\u001b[39;49m\u001b[43m]\u001b[49m\u001b[43m]\u001b[49m\u001b[43m \u001b[49m\u001b[38;5;241;43m+\u001b[39;49m\u001b[43m \u001b[49m\u001b[43mdims\u001b[49m\u001b[43m)\u001b[49m\u001b[43m[\u001b[49m\u001b[43mactive_indices\u001b[49m\u001b[43m]\u001b[49m\u001b[43m,\u001b[49m\n\u001b[1;32m    138\u001b[0m \u001b[43m        \u001b[49m\u001b[43mtarget\u001b[49m\u001b[43m[\u001b[49m\u001b[43mactive_indices\u001b[49m\u001b[43m]\u001b[49m\u001b[43m,\u001b[49m\n\u001b[1;32m    139\u001b[0m \u001b[43m        \u001b[49m\u001b[43msearch_space\u001b[49m\u001b[43m[\u001b[49m\u001b[43mactive_indices\u001b[49m\u001b[43m]\u001b[49m\u001b[43m,\u001b[49m\n\u001b[1;32m    140\u001b[0m \u001b[43m    \u001b[49m\u001b[43m)\u001b[49m\n\u001b[1;32m    142\u001b[0m     \u001b[38;5;66;03m# Update used features\u001b[39;00m\n\u001b[1;32m    143\u001b[0m     all_feat[active_indices, feat_ind[:, \u001b[38;5;241m0\u001b[39m]] \u001b[38;5;241m=\u001b[39m \u001b[38;5;241m1\u001b[39m\n",
      "File \u001b[0;32m~/.conda/envs/thesis/lib/python3.9/site-packages/art/attacks/evasion/saliency_map.py:205\u001b[0m, in \u001b[0;36mSaliencyMapMethod._saliency_map\u001b[0;34m(self, x, target, search_space)\u001b[0m\n\u001b[1;32m    195\u001b[0m \u001b[38;5;28;01mdef\u001b[39;00m \u001b[38;5;21m_saliency_map\u001b[39m(\u001b[38;5;28mself\u001b[39m, x: np\u001b[38;5;241m.\u001b[39mndarray, target: Union[np\u001b[38;5;241m.\u001b[39mndarray, \u001b[38;5;28mint\u001b[39m], search_space: np\u001b[38;5;241m.\u001b[39mndarray) \u001b[38;5;241m-\u001b[39m\u001b[38;5;241m>\u001b[39m np\u001b[38;5;241m.\u001b[39mndarray:\n\u001b[1;32m    196\u001b[0m     \u001b[38;5;124;03m\"\"\"\u001b[39;00m\n\u001b[1;32m    197\u001b[0m \u001b[38;5;124;03m    Compute the saliency map of `x`. Return the top 2 coefficients in `search_space` that maximize / minimize\u001b[39;00m\n\u001b[1;32m    198\u001b[0m \u001b[38;5;124;03m    the saliency map.\u001b[39;00m\n\u001b[0;32m   (...)\u001b[0m\n\u001b[1;32m    203\u001b[0m \u001b[38;5;124;03m    :return: The top 2 coefficients in `search_space` that maximize / minimize the saliency map.\u001b[39;00m\n\u001b[1;32m    204\u001b[0m \u001b[38;5;124;03m    \"\"\"\u001b[39;00m\n\u001b[0;32m--> 205\u001b[0m     grads \u001b[38;5;241m=\u001b[39m \u001b[38;5;28;43mself\u001b[39;49m\u001b[38;5;241;43m.\u001b[39;49m\u001b[43mestimator\u001b[49m\u001b[38;5;241;43m.\u001b[39;49m\u001b[43mclass_gradient\u001b[49m\u001b[43m(\u001b[49m\u001b[43mx\u001b[49m\u001b[43m,\u001b[49m\u001b[43m \u001b[49m\u001b[43mlabel\u001b[49m\u001b[38;5;241;43m=\u001b[39;49m\u001b[43mtarget\u001b[49m\u001b[43m)\u001b[49m\n\u001b[1;32m    206\u001b[0m     grads \u001b[38;5;241m=\u001b[39m np\u001b[38;5;241m.\u001b[39mreshape(grads, (\u001b[38;5;241m-\u001b[39m\u001b[38;5;241m1\u001b[39m, \u001b[38;5;28mself\u001b[39m\u001b[38;5;241m.\u001b[39m_nb_features))\n\u001b[1;32m    208\u001b[0m     \u001b[38;5;66;03m# Remove gradients for already used features\u001b[39;00m\n",
      "File \u001b[0;32m~/.conda/envs/thesis/lib/python3.9/site-packages/art/estimators/classification/tensorflow.py:1076\u001b[0m, in \u001b[0;36mTensorFlowV2Classifier.class_gradient\u001b[0;34m(self, x, label, training_mode, **kwargs)\u001b[0m\n\u001b[1;32m   1073\u001b[0m     prediction \u001b[38;5;241m=\u001b[39m predictions[:, unique_label]\n\u001b[1;32m   1074\u001b[0m     tape\u001b[38;5;241m.\u001b[39mwatch(prediction)\n\u001b[0;32m-> 1076\u001b[0m     class_gradient \u001b[38;5;241m=\u001b[39m \u001b[43mtape\u001b[49m\u001b[38;5;241;43m.\u001b[39;49m\u001b[43mgradient\u001b[49m\u001b[43m(\u001b[49m\u001b[43mprediction\u001b[49m\u001b[43m,\u001b[49m\u001b[43m \u001b[49m\u001b[43mx_grad\u001b[49m\u001b[43m)\u001b[49m\u001b[38;5;241m.\u001b[39mnumpy()\n\u001b[1;32m   1077\u001b[0m     class_gradients\u001b[38;5;241m.\u001b[39mappend(class_gradient)\n\u001b[1;32m   1079\u001b[0m gradients \u001b[38;5;241m=\u001b[39m np\u001b[38;5;241m.\u001b[39mswapaxes(np\u001b[38;5;241m.\u001b[39marray(class_gradients), \u001b[38;5;241m0\u001b[39m, \u001b[38;5;241m1\u001b[39m)\n",
      "File \u001b[0;32m~/.conda/envs/thesis/lib/python3.9/site-packages/tensorflow/python/eager/backprop.py:1080\u001b[0m, in \u001b[0;36mGradientTape.gradient\u001b[0;34m(self, target, sources, output_gradients, unconnected_gradients)\u001b[0m\n\u001b[1;32m   1076\u001b[0m \u001b[38;5;28;01mif\u001b[39;00m output_gradients \u001b[38;5;129;01mis\u001b[39;00m \u001b[38;5;129;01mnot\u001b[39;00m \u001b[38;5;28;01mNone\u001b[39;00m:\n\u001b[1;32m   1077\u001b[0m   output_gradients \u001b[38;5;241m=\u001b[39m [\u001b[38;5;28;01mNone\u001b[39;00m \u001b[38;5;28;01mif\u001b[39;00m x \u001b[38;5;129;01mis\u001b[39;00m \u001b[38;5;28;01mNone\u001b[39;00m \u001b[38;5;28;01melse\u001b[39;00m ops\u001b[38;5;241m.\u001b[39mconvert_to_tensor(x)\n\u001b[1;32m   1078\u001b[0m                       \u001b[38;5;28;01mfor\u001b[39;00m x \u001b[38;5;129;01min\u001b[39;00m nest\u001b[38;5;241m.\u001b[39mflatten(output_gradients)]\n\u001b[0;32m-> 1080\u001b[0m flat_grad \u001b[38;5;241m=\u001b[39m \u001b[43mimperative_grad\u001b[49m\u001b[38;5;241;43m.\u001b[39;49m\u001b[43mimperative_grad\u001b[49m\u001b[43m(\u001b[49m\n\u001b[1;32m   1081\u001b[0m \u001b[43m    \u001b[49m\u001b[38;5;28;43mself\u001b[39;49m\u001b[38;5;241;43m.\u001b[39;49m\u001b[43m_tape\u001b[49m\u001b[43m,\u001b[49m\n\u001b[1;32m   1082\u001b[0m \u001b[43m    \u001b[49m\u001b[43mflat_targets\u001b[49m\u001b[43m,\u001b[49m\n\u001b[1;32m   1083\u001b[0m \u001b[43m    \u001b[49m\u001b[43mflat_sources\u001b[49m\u001b[43m,\u001b[49m\n\u001b[1;32m   1084\u001b[0m \u001b[43m    \u001b[49m\u001b[43moutput_gradients\u001b[49m\u001b[38;5;241;43m=\u001b[39;49m\u001b[43moutput_gradients\u001b[49m\u001b[43m,\u001b[49m\n\u001b[1;32m   1085\u001b[0m \u001b[43m    \u001b[49m\u001b[43msources_raw\u001b[49m\u001b[38;5;241;43m=\u001b[39;49m\u001b[43mflat_sources_raw\u001b[49m\u001b[43m,\u001b[49m\n\u001b[1;32m   1086\u001b[0m \u001b[43m    \u001b[49m\u001b[43munconnected_gradients\u001b[49m\u001b[38;5;241;43m=\u001b[39;49m\u001b[43munconnected_gradients\u001b[49m\u001b[43m)\u001b[49m\n\u001b[1;32m   1088\u001b[0m \u001b[38;5;28;01mif\u001b[39;00m \u001b[38;5;129;01mnot\u001b[39;00m \u001b[38;5;28mself\u001b[39m\u001b[38;5;241m.\u001b[39m_persistent:\n\u001b[1;32m   1089\u001b[0m   \u001b[38;5;66;03m# Keep track of watched variables before setting tape to None\u001b[39;00m\n\u001b[1;32m   1090\u001b[0m   \u001b[38;5;28mself\u001b[39m\u001b[38;5;241m.\u001b[39m_watched_variables \u001b[38;5;241m=\u001b[39m \u001b[38;5;28mself\u001b[39m\u001b[38;5;241m.\u001b[39m_tape\u001b[38;5;241m.\u001b[39mwatched_variables()\n",
      "File \u001b[0;32m~/.conda/envs/thesis/lib/python3.9/site-packages/tensorflow/python/eager/imperative_grad.py:71\u001b[0m, in \u001b[0;36mimperative_grad\u001b[0;34m(tape, target, sources, output_gradients, sources_raw, unconnected_gradients)\u001b[0m\n\u001b[1;32m     67\u001b[0m \u001b[38;5;28;01mexcept\u001b[39;00m \u001b[38;5;167;01mValueError\u001b[39;00m:\n\u001b[1;32m     68\u001b[0m   \u001b[38;5;28;01mraise\u001b[39;00m \u001b[38;5;167;01mValueError\u001b[39;00m(\n\u001b[1;32m     69\u001b[0m       \u001b[38;5;124m\"\u001b[39m\u001b[38;5;124mUnknown value for unconnected_gradients: \u001b[39m\u001b[38;5;132;01m%r\u001b[39;00m\u001b[38;5;124m\"\u001b[39m \u001b[38;5;241m%\u001b[39m unconnected_gradients)\n\u001b[0;32m---> 71\u001b[0m \u001b[38;5;28;01mreturn\u001b[39;00m \u001b[43mpywrap_tfe\u001b[49m\u001b[38;5;241;43m.\u001b[39;49m\u001b[43mTFE_Py_TapeGradient\u001b[49m\u001b[43m(\u001b[49m\n\u001b[1;32m     72\u001b[0m \u001b[43m    \u001b[49m\u001b[43mtape\u001b[49m\u001b[38;5;241;43m.\u001b[39;49m\u001b[43m_tape\u001b[49m\u001b[43m,\u001b[49m\u001b[43m  \u001b[49m\u001b[38;5;66;43;03m# pylint: disable=protected-access\u001b[39;49;00m\n\u001b[1;32m     73\u001b[0m \u001b[43m    \u001b[49m\u001b[43mtarget\u001b[49m\u001b[43m,\u001b[49m\n\u001b[1;32m     74\u001b[0m \u001b[43m    \u001b[49m\u001b[43msources\u001b[49m\u001b[43m,\u001b[49m\n\u001b[1;32m     75\u001b[0m \u001b[43m    \u001b[49m\u001b[43moutput_gradients\u001b[49m\u001b[43m,\u001b[49m\n\u001b[1;32m     76\u001b[0m \u001b[43m    \u001b[49m\u001b[43msources_raw\u001b[49m\u001b[43m,\u001b[49m\n\u001b[1;32m     77\u001b[0m \u001b[43m    \u001b[49m\u001b[43mcompat\u001b[49m\u001b[38;5;241;43m.\u001b[39;49m\u001b[43mas_str\u001b[49m\u001b[43m(\u001b[49m\u001b[43munconnected_gradients\u001b[49m\u001b[38;5;241;43m.\u001b[39;49m\u001b[43mvalue\u001b[49m\u001b[43m)\u001b[49m\u001b[43m)\u001b[49m\n",
      "File \u001b[0;32m~/.conda/envs/thesis/lib/python3.9/site-packages/tensorflow/python/eager/backprop.py:162\u001b[0m, in \u001b[0;36m_gradient_function\u001b[0;34m(op_name, attr_tuple, num_inputs, inputs, outputs, out_grads, skip_input_indices, forward_pass_name_scope)\u001b[0m\n\u001b[1;32m    160\u001b[0m     gradient_name_scope \u001b[38;5;241m+\u001b[39m\u001b[38;5;241m=\u001b[39m forward_pass_name_scope \u001b[38;5;241m+\u001b[39m \u001b[38;5;124m\"\u001b[39m\u001b[38;5;124m/\u001b[39m\u001b[38;5;124m\"\u001b[39m\n\u001b[1;32m    161\u001b[0m   \u001b[38;5;28;01mwith\u001b[39;00m ops\u001b[38;5;241m.\u001b[39mname_scope(gradient_name_scope):\n\u001b[0;32m--> 162\u001b[0m     \u001b[38;5;28;01mreturn\u001b[39;00m \u001b[43mgrad_fn\u001b[49m\u001b[43m(\u001b[49m\u001b[43mmock_op\u001b[49m\u001b[43m,\u001b[49m\u001b[43m \u001b[49m\u001b[38;5;241;43m*\u001b[39;49m\u001b[43mout_grads\u001b[49m\u001b[43m)\u001b[49m\n\u001b[1;32m    163\u001b[0m \u001b[38;5;28;01melse\u001b[39;00m:\n\u001b[1;32m    164\u001b[0m   \u001b[38;5;28;01mreturn\u001b[39;00m grad_fn(mock_op, \u001b[38;5;241m*\u001b[39mout_grads)\n",
      "File \u001b[0;32m~/.conda/envs/thesis/lib/python3.9/site-packages/tensorflow/python/ops/math_grad.py:1424\u001b[0m, in \u001b[0;36m_RealDivGrad\u001b[0;34m(op, grad)\u001b[0m\n\u001b[1;32m   1418\u001b[0m x \u001b[38;5;241m=\u001b[39m math_ops\u001b[38;5;241m.\u001b[39mconj(x)\n\u001b[1;32m   1419\u001b[0m y \u001b[38;5;241m=\u001b[39m math_ops\u001b[38;5;241m.\u001b[39mconj(y)\n\u001b[1;32m   1420\u001b[0m \u001b[38;5;28;01mreturn\u001b[39;00m (array_ops\u001b[38;5;241m.\u001b[39mreshape(\n\u001b[1;32m   1421\u001b[0m     math_ops\u001b[38;5;241m.\u001b[39mreduce_sum(math_ops\u001b[38;5;241m.\u001b[39mrealdiv(grad, y), rx), sx),\n\u001b[1;32m   1422\u001b[0m         array_ops\u001b[38;5;241m.\u001b[39mreshape(\n\u001b[1;32m   1423\u001b[0m             math_ops\u001b[38;5;241m.\u001b[39mreduce_sum(\n\u001b[0;32m-> 1424\u001b[0m                 grad \u001b[38;5;241m*\u001b[39m math_ops\u001b[38;5;241m.\u001b[39mrealdiv(\u001b[43mmath_ops\u001b[49m\u001b[38;5;241;43m.\u001b[39;49m\u001b[43mrealdiv\u001b[49m\u001b[43m(\u001b[49m\u001b[38;5;241;43m-\u001b[39;49m\u001b[43mx\u001b[49m\u001b[43m,\u001b[49m\u001b[43m \u001b[49m\u001b[43my\u001b[49m\u001b[43m)\u001b[49m, y), ry), sy))\n",
      "File \u001b[0;32m~/.conda/envs/thesis/lib/python3.9/site-packages/tensorflow/python/ops/gen_math_ops.py:7325\u001b[0m, in \u001b[0;36mreal_div\u001b[0;34m(x, y, name)\u001b[0m\n\u001b[1;32m   7323\u001b[0m \u001b[38;5;28;01mif\u001b[39;00m tld\u001b[38;5;241m.\u001b[39mis_eager:\n\u001b[1;32m   7324\u001b[0m   \u001b[38;5;28;01mtry\u001b[39;00m:\n\u001b[0;32m-> 7325\u001b[0m     _result \u001b[38;5;241m=\u001b[39m \u001b[43mpywrap_tfe\u001b[49m\u001b[38;5;241;43m.\u001b[39;49m\u001b[43mTFE_Py_FastPathExecute\u001b[49m\u001b[43m(\u001b[49m\n\u001b[1;32m   7326\u001b[0m \u001b[43m      \u001b[49m\u001b[43m_ctx\u001b[49m\u001b[43m,\u001b[49m\u001b[43m \u001b[49m\u001b[38;5;124;43m\"\u001b[39;49m\u001b[38;5;124;43mRealDiv\u001b[39;49m\u001b[38;5;124;43m\"\u001b[39;49m\u001b[43m,\u001b[49m\u001b[43m \u001b[49m\u001b[43mname\u001b[49m\u001b[43m,\u001b[49m\u001b[43m \u001b[49m\u001b[43mx\u001b[49m\u001b[43m,\u001b[49m\u001b[43m \u001b[49m\u001b[43my\u001b[49m\u001b[43m)\u001b[49m\n\u001b[1;32m   7327\u001b[0m     \u001b[38;5;28;01mreturn\u001b[39;00m _result\n\u001b[1;32m   7328\u001b[0m   \u001b[38;5;28;01mexcept\u001b[39;00m _core\u001b[38;5;241m.\u001b[39m_NotOkStatusException \u001b[38;5;28;01mas\u001b[39;00m e:\n",
      "\u001b[0;31mKeyboardInterrupt\u001b[0m: "
     ]
    }
   ],
   "source": [
    "from art.attacks.evasion import SaliencyMapMethod\n",
    "\n",
    "# amount of pertubration\n",
    "thetas = [0.33, 0.66, 1]\n",
    "results['jsma'] = {}\n",
    "\n",
    "for d in models:\n",
    "    results['jsma'][d] = {}\n",
    "    for t in thetas:\n",
    "        print(f'Attacking {d} with JSMA theta={t}')\n",
    "        jsma = SaliencyMapMethod(classifier=classifiers[d],\n",
    "                                 theta=t, # +1 from paper but test in [-1, +1]\n",
    "                                 gamma=0.1, #0.145 from paper\n",
    "                                 verbose=True)\n",
    "\n",
    "        res, rr = attack(models[d], jsma, test[d], test_md[d], param[d][\"batch_size\"])\n",
    "        results['fgsm'][d][e] = res\n",
    "    print(\"_____________________________\")"
   ]
  },
  {
   "cell_type": "code",
   "execution_count": 67,
   "id": "02cf259e",
   "metadata": {},
   "outputs": [
    {
     "name": "stdout",
     "output_type": "stream",
     "text": [
      "Attacking emodb with DeepFool eps=1\n"
     ]
    },
    {
     "data": {
      "application/vnd.jupyter.widget-view+json": {
       "model_id": "98428f51eba441448e54a9e60566b18b",
       "version_major": 2,
       "version_minor": 0
      },
      "text/plain": [
       "DeepFool:   0%|          | 0/837 [00:00<?, ?it/s]"
      ]
     },
     "metadata": {},
     "output_type": "display_data"
    },
    {
     "name": "stdout",
     "output_type": "stream",
     "text": [
      "Attack get 141.12766671180725\n",
      "\tWhole test set\n",
      "\t\tloss: 5.35159, accuracy: 0.11828, avg perturbation: 1.89471\n",
      "\n",
      "\tOnly male data\n",
      "\t\tloss: 5.79693, accuracy: 0.09841, avg perturbation: 1.85706\n",
      "\n",
      "\tOnly female data\n",
      "\t\tloss: 5.08284, accuracy: 0.13027, avg perturbation: 1.91743\n",
      "\n",
      "Attacking emodb with DeepFool eps=5\n"
     ]
    },
    {
     "data": {
      "application/vnd.jupyter.widget-view+json": {
       "model_id": "cb70ba980c514cedba3095f160474a64",
       "version_major": 2,
       "version_minor": 0
      },
      "text/plain": [
       "DeepFool:   0%|          | 0/837 [00:00<?, ?it/s]"
      ]
     },
     "metadata": {},
     "output_type": "display_data"
    },
    {
     "name": "stdout",
     "output_type": "stream",
     "text": [
      "Attack get 144.76467370986938\n",
      "\tWhole test set\n",
      "\t\tloss: 5.51903, accuracy: 0.06093, avg perturbation: 1.89447\n",
      "\n",
      "\tOnly male data\n",
      "\t\tloss: 5.90937, accuracy: 0.06984, avg perturbation: 1.85797\n",
      "\n",
      "\tOnly female data\n",
      "\t\tloss: 5.28349, accuracy: 0.05556, avg perturbation: 1.91650\n",
      "\n",
      "Attacking emodb with DeepFool eps=20\n"
     ]
    },
    {
     "data": {
      "application/vnd.jupyter.widget-view+json": {
       "model_id": "48408e26b25f409db3d8a93e46c5d36a",
       "version_major": 2,
       "version_minor": 0
      },
      "text/plain": [
       "DeepFool:   0%|          | 0/837 [00:00<?, ?it/s]"
      ]
     },
     "metadata": {},
     "output_type": "display_data"
    },
    {
     "name": "stdout",
     "output_type": "stream",
     "text": [
      "Attack get 146.11272406578064\n",
      "\tWhole test set\n",
      "\t\tloss: 5.51904, accuracy: 0.06093, avg perturbation: 1.89447\n",
      "\n",
      "\tOnly male data\n",
      "\t\tloss: 5.90937, accuracy: 0.06984, avg perturbation: 1.85797\n",
      "\n",
      "\tOnly female data\n",
      "\t\tloss: 5.28349, accuracy: 0.05556, avg perturbation: 1.91650\n",
      "\n",
      "_____________________________\n",
      "Attacking emovo with DeepFool eps=1\n"
     ]
    },
    {
     "data": {
      "application/vnd.jupyter.widget-view+json": {
       "model_id": "5d5f1c45c51844ac9898e01b32e9defc",
       "version_major": 2,
       "version_minor": 0
      },
      "text/plain": [
       "DeepFool:   0%|          | 0/987 [00:00<?, ?it/s]"
      ]
     },
     "metadata": {},
     "output_type": "display_data"
    },
    {
     "name": "stdout",
     "output_type": "stream",
     "text": [
      "Attack get 163.89784812927246\n",
      "\tWhole test set\n",
      "\t\tloss: 5.77439, accuracy: 0.13374, avg perturbation: 1.10542\n",
      "\n",
      "\tOnly male data\n",
      "\t\tloss: 5.99358, accuracy: 0.10041, avg perturbation: 1.19231\n",
      "\n",
      "\tOnly female data\n",
      "\t\tloss: 5.56004, accuracy: 0.16633, avg perturbation: 1.02045\n",
      "\n",
      "Attacking emovo with DeepFool eps=5\n"
     ]
    },
    {
     "data": {
      "application/vnd.jupyter.widget-view+json": {
       "model_id": "633add0ea43046a7929245213e8930d6",
       "version_major": 2,
       "version_minor": 0
      },
      "text/plain": [
       "DeepFool:   0%|          | 0/987 [00:00<?, ?it/s]"
      ]
     },
     "metadata": {},
     "output_type": "display_data"
    },
    {
     "name": "stdout",
     "output_type": "stream",
     "text": [
      "Attack get 167.4050314426422\n",
      "\tWhole test set\n",
      "\t\tloss: 5.83863, accuracy: 0.08612, avg perturbation: 1.10493\n",
      "\n",
      "\tOnly male data\n",
      "\t\tloss: 6.04007, accuracy: 0.06762, avg perturbation: 1.19204\n",
      "\n",
      "\tOnly female data\n",
      "\t\tloss: 5.64162, accuracy: 0.10421, avg perturbation: 1.01973\n",
      "\n",
      "Attacking emovo with DeepFool eps=20\n"
     ]
    },
    {
     "data": {
      "application/vnd.jupyter.widget-view+json": {
       "model_id": "144f9898deba432a856ce0b16344895a",
       "version_major": 2,
       "version_minor": 0
      },
      "text/plain": [
       "DeepFool:   0%|          | 0/987 [00:00<?, ?it/s]"
      ]
     },
     "metadata": {},
     "output_type": "display_data"
    },
    {
     "name": "stdout",
     "output_type": "stream",
     "text": [
      "Attack get 168.3308138847351\n",
      "\tWhole test set\n",
      "\t\tloss: 5.83863, accuracy: 0.08612, avg perturbation: 1.10493\n",
      "\n",
      "\tOnly male data\n",
      "\t\tloss: 6.04007, accuracy: 0.06762, avg perturbation: 1.19204\n",
      "\n",
      "\tOnly female data\n",
      "\t\tloss: 5.64162, accuracy: 0.10421, avg perturbation: 1.01973\n",
      "\n",
      "_____________________________\n",
      "Attacking ravdess with DeepFool eps=1\n"
     ]
    },
    {
     "data": {
      "application/vnd.jupyter.widget-view+json": {
       "model_id": "37e3238b70464754bfb9205cbcbb3dc7",
       "version_major": 2,
       "version_minor": 0
      },
      "text/plain": [
       "DeepFool:   0%|          | 0/1791 [00:00<?, ?it/s]"
      ]
     },
     "metadata": {},
     "output_type": "display_data"
    },
    {
     "ename": "KeyboardInterrupt",
     "evalue": "",
     "output_type": "error",
     "traceback": [
      "\u001b[0;31m---------------------------------------------------------------------------\u001b[0m",
      "\u001b[0;31m_FallbackException\u001b[0m                        Traceback (most recent call last)",
      "File \u001b[0;32m~/.conda/envs/thesis/lib/python3.9/site-packages/tensorflow/python/ops/gen_array_ops.py:8364\u001b[0m, in \u001b[0;36mreshape\u001b[0;34m(tensor, shape, name)\u001b[0m\n\u001b[1;32m   8363\u001b[0m \u001b[38;5;28;01mtry\u001b[39;00m:\n\u001b[0;32m-> 8364\u001b[0m   _result \u001b[38;5;241m=\u001b[39m \u001b[43mpywrap_tfe\u001b[49m\u001b[38;5;241;43m.\u001b[39;49m\u001b[43mTFE_Py_FastPathExecute\u001b[49m\u001b[43m(\u001b[49m\n\u001b[1;32m   8365\u001b[0m \u001b[43m    \u001b[49m\u001b[43m_ctx\u001b[49m\u001b[43m,\u001b[49m\u001b[43m \u001b[49m\u001b[38;5;124;43m\"\u001b[39;49m\u001b[38;5;124;43mReshape\u001b[39;49m\u001b[38;5;124;43m\"\u001b[39;49m\u001b[43m,\u001b[49m\u001b[43m \u001b[49m\u001b[43mname\u001b[49m\u001b[43m,\u001b[49m\u001b[43m \u001b[49m\u001b[43mtensor\u001b[49m\u001b[43m,\u001b[49m\u001b[43m \u001b[49m\u001b[43mshape\u001b[49m\u001b[43m)\u001b[49m\n\u001b[1;32m   8366\u001b[0m   \u001b[38;5;28;01mreturn\u001b[39;00m _result\n",
      "\u001b[0;31m_FallbackException\u001b[0m: This function does not handle the case of the path where all inputs are not already EagerTensors.",
      "\nDuring handling of the above exception, another exception occurred:\n",
      "\u001b[0;31mKeyboardInterrupt\u001b[0m                         Traceback (most recent call last)",
      "Input \u001b[0;32mIn [67]\u001b[0m, in \u001b[0;36m<cell line: 6>\u001b[0;34m()\u001b[0m\n\u001b[1;32m      9\u001b[0m     \u001b[38;5;28mprint\u001b[39m(\u001b[38;5;124mf\u001b[39m\u001b[38;5;124m'\u001b[39m\u001b[38;5;124mAttacking \u001b[39m\u001b[38;5;132;01m{\u001b[39;00md\u001b[38;5;132;01m}\u001b[39;00m\u001b[38;5;124m with DeepFool eps=\u001b[39m\u001b[38;5;132;01m{\u001b[39;00me\u001b[38;5;132;01m}\u001b[39;00m\u001b[38;5;124m'\u001b[39m)\n\u001b[1;32m     10\u001b[0m     df \u001b[38;5;241m=\u001b[39m DeepFool(classifier\u001b[38;5;241m=\u001b[39mclassifiers[d],\n\u001b[1;32m     11\u001b[0m                   nb_grads\u001b[38;5;241m=\u001b[39m\u001b[38;5;241m5\u001b[39m,\n\u001b[1;32m     12\u001b[0m                   max_iter\u001b[38;5;241m=\u001b[39me,\n\u001b[1;32m     13\u001b[0m                   verbose\u001b[38;5;241m=\u001b[39m\u001b[38;5;28;01mTrue\u001b[39;00m)\n\u001b[0;32m---> 15\u001b[0m     res, rr \u001b[38;5;241m=\u001b[39m \u001b[43mattack\u001b[49m\u001b[43m(\u001b[49m\u001b[43mmodels\u001b[49m\u001b[43m[\u001b[49m\u001b[43md\u001b[49m\u001b[43m]\u001b[49m\u001b[43m,\u001b[49m\u001b[43m \u001b[49m\u001b[43mdf\u001b[49m\u001b[43m,\u001b[49m\u001b[43m \u001b[49m\u001b[43mtest\u001b[49m\u001b[43m[\u001b[49m\u001b[43md\u001b[49m\u001b[43m]\u001b[49m\u001b[43m,\u001b[49m\u001b[43m \u001b[49m\u001b[43mtest_md\u001b[49m\u001b[43m[\u001b[49m\u001b[43md\u001b[49m\u001b[43m]\u001b[49m\u001b[43m,\u001b[49m\u001b[43m \u001b[49m\u001b[43mparam\u001b[49m\u001b[43m[\u001b[49m\u001b[43md\u001b[49m\u001b[43m]\u001b[49m\u001b[43m[\u001b[49m\u001b[38;5;124;43m\"\u001b[39;49m\u001b[38;5;124;43mbatch_size\u001b[39;49m\u001b[38;5;124;43m\"\u001b[39;49m\u001b[43m]\u001b[49m\u001b[43m)\u001b[49m\n\u001b[1;32m     16\u001b[0m     results[\u001b[38;5;124m'\u001b[39m\u001b[38;5;124mdf\u001b[39m\u001b[38;5;124m'\u001b[39m][d][e] \u001b[38;5;241m=\u001b[39m res\n\u001b[1;32m     17\u001b[0m \u001b[38;5;28mprint\u001b[39m(\u001b[38;5;124m\"\u001b[39m\u001b[38;5;124m_____________________________\u001b[39m\u001b[38;5;124m\"\u001b[39m)\n",
      "Input \u001b[0;32mIn [31]\u001b[0m, in \u001b[0;36mattack\u001b[0;34m(model, method, d, md, bs)\u001b[0m\n\u001b[1;32m      4\u001b[0m \u001b[38;5;28;01mdef\u001b[39;00m \u001b[38;5;21mattack\u001b[39m(model, method, d, md, bs):\n\u001b[1;32m      5\u001b[0m     start \u001b[38;5;241m=\u001b[39m time\u001b[38;5;241m.\u001b[39mtime()\n\u001b[0;32m----> 6\u001b[0m     x_adv \u001b[38;5;241m=\u001b[39m \u001b[43mmethod\u001b[49m\u001b[38;5;241;43m.\u001b[39;49m\u001b[43mgenerate\u001b[49m\u001b[43m(\u001b[49m\u001b[43md\u001b[49m\u001b[43m[\u001b[49m\u001b[38;5;124;43m'\u001b[39;49m\u001b[38;5;124;43mx\u001b[39;49m\u001b[38;5;124;43m'\u001b[39;49m\u001b[43m]\u001b[49m\u001b[43m,\u001b[49m\u001b[43m \u001b[49m\u001b[43mverbose\u001b[49m\u001b[38;5;241;43m=\u001b[39;49m\u001b[38;5;28;43;01mTrue\u001b[39;49;00m\u001b[43m)\u001b[49m\n\u001b[1;32m      7\u001b[0m     elapsed \u001b[38;5;241m=\u001b[39m time\u001b[38;5;241m.\u001b[39mtime() \u001b[38;5;241m-\u001b[39m start\n\u001b[1;32m      9\u001b[0m     \u001b[38;5;28mprint\u001b[39m(\u001b[38;5;124mf\u001b[39m\u001b[38;5;124m'\u001b[39m\u001b[38;5;124mAttack get \u001b[39m\u001b[38;5;132;01m{\u001b[39;00melapsed\u001b[38;5;132;01m}\u001b[39;00m\u001b[38;5;124m'\u001b[39m)\n",
      "File \u001b[0;32m~/.conda/envs/thesis/lib/python3.9/site-packages/art/attacks/evasion/deepfool.py:185\u001b[0m, in \u001b[0;36mDeepFool.generate\u001b[0;34m(self, x, y, **kwargs)\u001b[0m\n\u001b[1;32m    182\u001b[0m     batch[active_indices] \u001b[38;5;241m+\u001b[39m\u001b[38;5;241m=\u001b[39m r_var[active_indices]\n\u001b[1;32m    184\u001b[0m \u001b[38;5;66;03m# Recompute prediction for new x\u001b[39;00m\n\u001b[0;32m--> 185\u001b[0m f_batch \u001b[38;5;241m=\u001b[39m \u001b[38;5;28;43mself\u001b[39;49m\u001b[38;5;241;43m.\u001b[39;49m\u001b[43mestimator\u001b[49m\u001b[38;5;241;43m.\u001b[39;49m\u001b[43mpredict\u001b[49m\u001b[43m(\u001b[49m\u001b[43mbatch\u001b[49m\u001b[43m)\u001b[49m\n\u001b[1;32m    186\u001b[0m fk_i_hat \u001b[38;5;241m=\u001b[39m np\u001b[38;5;241m.\u001b[39margmax(f_batch, axis\u001b[38;5;241m=\u001b[39m\u001b[38;5;241m1\u001b[39m)\n\u001b[1;32m    188\u001b[0m \u001b[38;5;66;03m# Recompute gradients for new x\u001b[39;00m\n",
      "File \u001b[0;32m~/.conda/envs/thesis/lib/python3.9/site-packages/art/estimators/classification/classifier.py:74\u001b[0m, in \u001b[0;36mInputFilter.__init__.<locals>.make_replacement.<locals>.replacement_function\u001b[0;34m(self, *args, **kwargs)\u001b[0m\n\u001b[1;32m     72\u001b[0m \u001b[38;5;28;01mif\u001b[39;00m \u001b[38;5;28mlen\u001b[39m(args) \u001b[38;5;241m>\u001b[39m \u001b[38;5;241m0\u001b[39m:\n\u001b[1;32m     73\u001b[0m     args \u001b[38;5;241m=\u001b[39m \u001b[38;5;28mtuple\u001b[39m(lst)\n\u001b[0;32m---> 74\u001b[0m \u001b[38;5;28;01mreturn\u001b[39;00m \u001b[43mfdict\u001b[49m\u001b[43m[\u001b[49m\u001b[43mfunc_name\u001b[49m\u001b[43m]\u001b[49m\u001b[43m(\u001b[49m\u001b[38;5;28;43mself\u001b[39;49m\u001b[43m,\u001b[49m\u001b[43m \u001b[49m\u001b[38;5;241;43m*\u001b[39;49m\u001b[43margs\u001b[49m\u001b[43m,\u001b[49m\u001b[43m \u001b[49m\u001b[38;5;241;43m*\u001b[39;49m\u001b[38;5;241;43m*\u001b[39;49m\u001b[43mkwargs\u001b[49m\u001b[43m)\u001b[49m\n",
      "File \u001b[0;32m~/.conda/envs/thesis/lib/python3.9/site-packages/art/estimators/classification/tensorflow.py:908\u001b[0m, in \u001b[0;36mTensorFlowV2Classifier.predict\u001b[0;34m(self, x, batch_size, training_mode, **kwargs)\u001b[0m\n\u001b[1;32m    902\u001b[0m     begin, end \u001b[38;5;241m=\u001b[39m (\n\u001b[1;32m    903\u001b[0m         m \u001b[38;5;241m*\u001b[39m batch_size,\n\u001b[1;32m    904\u001b[0m         \u001b[38;5;28mmin\u001b[39m((m \u001b[38;5;241m+\u001b[39m \u001b[38;5;241m1\u001b[39m) \u001b[38;5;241m*\u001b[39m batch_size, x_preprocessed\u001b[38;5;241m.\u001b[39mshape[\u001b[38;5;241m0\u001b[39m]),\n\u001b[1;32m    905\u001b[0m     )\n\u001b[1;32m    907\u001b[0m     \u001b[38;5;66;03m# Run prediction\u001b[39;00m\n\u001b[0;32m--> 908\u001b[0m     results_list\u001b[38;5;241m.\u001b[39mappend(\u001b[38;5;28;43mself\u001b[39;49m\u001b[38;5;241;43m.\u001b[39;49m\u001b[43m_model\u001b[49m\u001b[43m(\u001b[49m\u001b[43mx_preprocessed\u001b[49m\u001b[43m[\u001b[49m\u001b[43mbegin\u001b[49m\u001b[43m:\u001b[49m\u001b[43mend\u001b[49m\u001b[43m]\u001b[49m\u001b[43m,\u001b[49m\u001b[43m \u001b[49m\u001b[43mtraining\u001b[49m\u001b[38;5;241;43m=\u001b[39;49m\u001b[43mtraining_mode\u001b[49m\u001b[43m)\u001b[49m)\n\u001b[1;32m    910\u001b[0m results \u001b[38;5;241m=\u001b[39m np\u001b[38;5;241m.\u001b[39mvstack(results_list)\n\u001b[1;32m    912\u001b[0m \u001b[38;5;66;03m# Apply postprocessing\u001b[39;00m\n",
      "File \u001b[0;32m~/.conda/envs/thesis/lib/python3.9/site-packages/tensorflow/python/keras/engine/base_layer.py:1012\u001b[0m, in \u001b[0;36mLayer.__call__\u001b[0;34m(self, *args, **kwargs)\u001b[0m\n\u001b[1;32m   1008\u001b[0m   \u001b[38;5;28mself\u001b[39m\u001b[38;5;241m.\u001b[39m_maybe_build(inputs)\n\u001b[1;32m   1010\u001b[0m \u001b[38;5;28;01mwith\u001b[39;00m autocast_variable\u001b[38;5;241m.\u001b[39menable_auto_cast_variables(\n\u001b[1;32m   1011\u001b[0m     \u001b[38;5;28mself\u001b[39m\u001b[38;5;241m.\u001b[39m_compute_dtype_object):\n\u001b[0;32m-> 1012\u001b[0m   outputs \u001b[38;5;241m=\u001b[39m \u001b[43mcall_fn\u001b[49m\u001b[43m(\u001b[49m\u001b[43minputs\u001b[49m\u001b[43m,\u001b[49m\u001b[43m \u001b[49m\u001b[38;5;241;43m*\u001b[39;49m\u001b[43margs\u001b[49m\u001b[43m,\u001b[49m\u001b[43m \u001b[49m\u001b[38;5;241;43m*\u001b[39;49m\u001b[38;5;241;43m*\u001b[39;49m\u001b[43mkwargs\u001b[49m\u001b[43m)\u001b[49m\n\u001b[1;32m   1014\u001b[0m \u001b[38;5;28;01mif\u001b[39;00m \u001b[38;5;28mself\u001b[39m\u001b[38;5;241m.\u001b[39m_activity_regularizer:\n\u001b[1;32m   1015\u001b[0m   \u001b[38;5;28mself\u001b[39m\u001b[38;5;241m.\u001b[39m_handle_activity_regularization(inputs, outputs)\n",
      "File \u001b[0;32m~/.conda/envs/thesis/lib/python3.9/site-packages/tensorflow/python/keras/engine/sequential.py:375\u001b[0m, in \u001b[0;36mSequential.call\u001b[0;34m(self, inputs, training, mask)\u001b[0m\n\u001b[1;32m    373\u001b[0m   \u001b[38;5;28;01mif\u001b[39;00m \u001b[38;5;129;01mnot\u001b[39;00m \u001b[38;5;28mself\u001b[39m\u001b[38;5;241m.\u001b[39mbuilt:\n\u001b[1;32m    374\u001b[0m     \u001b[38;5;28mself\u001b[39m\u001b[38;5;241m.\u001b[39m_init_graph_network(\u001b[38;5;28mself\u001b[39m\u001b[38;5;241m.\u001b[39minputs, \u001b[38;5;28mself\u001b[39m\u001b[38;5;241m.\u001b[39moutputs)\n\u001b[0;32m--> 375\u001b[0m   \u001b[38;5;28;01mreturn\u001b[39;00m \u001b[38;5;28;43msuper\u001b[39;49m\u001b[43m(\u001b[49m\u001b[43mSequential\u001b[49m\u001b[43m,\u001b[49m\u001b[43m \u001b[49m\u001b[38;5;28;43mself\u001b[39;49m\u001b[43m)\u001b[49m\u001b[38;5;241;43m.\u001b[39;49m\u001b[43mcall\u001b[49m\u001b[43m(\u001b[49m\u001b[43minputs\u001b[49m\u001b[43m,\u001b[49m\u001b[43m \u001b[49m\u001b[43mtraining\u001b[49m\u001b[38;5;241;43m=\u001b[39;49m\u001b[43mtraining\u001b[49m\u001b[43m,\u001b[49m\u001b[43m \u001b[49m\u001b[43mmask\u001b[49m\u001b[38;5;241;43m=\u001b[39;49m\u001b[43mmask\u001b[49m\u001b[43m)\u001b[49m\n\u001b[1;32m    377\u001b[0m outputs \u001b[38;5;241m=\u001b[39m inputs  \u001b[38;5;66;03m# handle the corner case where self.layers is empty\u001b[39;00m\n\u001b[1;32m    378\u001b[0m \u001b[38;5;28;01mfor\u001b[39;00m layer \u001b[38;5;129;01min\u001b[39;00m \u001b[38;5;28mself\u001b[39m\u001b[38;5;241m.\u001b[39mlayers:\n\u001b[1;32m    379\u001b[0m   \u001b[38;5;66;03m# During each iteration, `inputs` are the inputs to `layer`, and `outputs`\u001b[39;00m\n\u001b[1;32m    380\u001b[0m   \u001b[38;5;66;03m# are the outputs of `layer` applied to `inputs`. At the end of each\u001b[39;00m\n\u001b[1;32m    381\u001b[0m   \u001b[38;5;66;03m# iteration `inputs` is set to `outputs` to prepare for the next layer.\u001b[39;00m\n",
      "File \u001b[0;32m~/.conda/envs/thesis/lib/python3.9/site-packages/tensorflow/python/keras/engine/functional.py:424\u001b[0m, in \u001b[0;36mFunctional.call\u001b[0;34m(self, inputs, training, mask)\u001b[0m\n\u001b[1;32m    406\u001b[0m \u001b[38;5;28;01mdef\u001b[39;00m \u001b[38;5;21mcall\u001b[39m(\u001b[38;5;28mself\u001b[39m, inputs, training\u001b[38;5;241m=\u001b[39m\u001b[38;5;28;01mNone\u001b[39;00m, mask\u001b[38;5;241m=\u001b[39m\u001b[38;5;28;01mNone\u001b[39;00m):\n\u001b[1;32m    407\u001b[0m   \u001b[38;5;124;03m\"\"\"Calls the model on new inputs.\u001b[39;00m\n\u001b[1;32m    408\u001b[0m \n\u001b[1;32m    409\u001b[0m \u001b[38;5;124;03m  In this case `call` just reapplies\u001b[39;00m\n\u001b[0;32m   (...)\u001b[0m\n\u001b[1;32m    422\u001b[0m \u001b[38;5;124;03m      a list of tensors if there are more than one outputs.\u001b[39;00m\n\u001b[1;32m    423\u001b[0m \u001b[38;5;124;03m  \"\"\"\u001b[39;00m\n\u001b[0;32m--> 424\u001b[0m   \u001b[38;5;28;01mreturn\u001b[39;00m \u001b[38;5;28;43mself\u001b[39;49m\u001b[38;5;241;43m.\u001b[39;49m\u001b[43m_run_internal_graph\u001b[49m\u001b[43m(\u001b[49m\n\u001b[1;32m    425\u001b[0m \u001b[43m      \u001b[49m\u001b[43minputs\u001b[49m\u001b[43m,\u001b[49m\u001b[43m \u001b[49m\u001b[43mtraining\u001b[49m\u001b[38;5;241;43m=\u001b[39;49m\u001b[43mtraining\u001b[49m\u001b[43m,\u001b[49m\u001b[43m \u001b[49m\u001b[43mmask\u001b[49m\u001b[38;5;241;43m=\u001b[39;49m\u001b[43mmask\u001b[49m\u001b[43m)\u001b[49m\n",
      "File \u001b[0;32m~/.conda/envs/thesis/lib/python3.9/site-packages/tensorflow/python/keras/engine/functional.py:560\u001b[0m, in \u001b[0;36mFunctional._run_internal_graph\u001b[0;34m(self, inputs, training, mask)\u001b[0m\n\u001b[1;32m    557\u001b[0m   \u001b[38;5;28;01mcontinue\u001b[39;00m  \u001b[38;5;66;03m# Node is not computable, try skipping.\u001b[39;00m\n\u001b[1;32m    559\u001b[0m args, kwargs \u001b[38;5;241m=\u001b[39m node\u001b[38;5;241m.\u001b[39mmap_arguments(tensor_dict)\n\u001b[0;32m--> 560\u001b[0m outputs \u001b[38;5;241m=\u001b[39m \u001b[43mnode\u001b[49m\u001b[38;5;241;43m.\u001b[39;49m\u001b[43mlayer\u001b[49m\u001b[43m(\u001b[49m\u001b[38;5;241;43m*\u001b[39;49m\u001b[43margs\u001b[49m\u001b[43m,\u001b[49m\u001b[43m \u001b[49m\u001b[38;5;241;43m*\u001b[39;49m\u001b[38;5;241;43m*\u001b[39;49m\u001b[43mkwargs\u001b[49m\u001b[43m)\u001b[49m\n\u001b[1;32m    562\u001b[0m \u001b[38;5;66;03m# Update tensor_dict.\u001b[39;00m\n\u001b[1;32m    563\u001b[0m \u001b[38;5;28;01mfor\u001b[39;00m x_id, y \u001b[38;5;129;01min\u001b[39;00m \u001b[38;5;28mzip\u001b[39m(node\u001b[38;5;241m.\u001b[39mflat_output_ids, nest\u001b[38;5;241m.\u001b[39mflatten(outputs)):\n",
      "File \u001b[0;32m~/.conda/envs/thesis/lib/python3.9/site-packages/tensorflow/python/keras/engine/base_layer.py:1017\u001b[0m, in \u001b[0;36mLayer.__call__\u001b[0;34m(self, *args, **kwargs)\u001b[0m\n\u001b[1;32m   1015\u001b[0m   \u001b[38;5;28mself\u001b[39m\u001b[38;5;241m.\u001b[39m_handle_activity_regularization(inputs, outputs)\n\u001b[1;32m   1016\u001b[0m \u001b[38;5;28;01mif\u001b[39;00m \u001b[38;5;28mself\u001b[39m\u001b[38;5;241m.\u001b[39m_supports_masking:\n\u001b[0;32m-> 1017\u001b[0m   \u001b[38;5;28;43mself\u001b[39;49m\u001b[38;5;241;43m.\u001b[39;49m\u001b[43m_set_mask_metadata\u001b[49m\u001b[43m(\u001b[49m\u001b[43minputs\u001b[49m\u001b[43m,\u001b[49m\u001b[43m \u001b[49m\u001b[43moutputs\u001b[49m\u001b[43m,\u001b[49m\u001b[43m \u001b[49m\u001b[43minput_masks\u001b[49m\u001b[43m,\u001b[49m\u001b[43m \u001b[49m\u001b[38;5;129;43;01mnot\u001b[39;49;00m\u001b[43m \u001b[49m\u001b[43meager\u001b[49m\u001b[43m)\u001b[49m\n\u001b[1;32m   1018\u001b[0m \u001b[38;5;28;01mif\u001b[39;00m \u001b[38;5;28mself\u001b[39m\u001b[38;5;241m.\u001b[39m_saved_model_inputs_spec \u001b[38;5;129;01mis\u001b[39;00m \u001b[38;5;28;01mNone\u001b[39;00m:\n\u001b[1;32m   1019\u001b[0m   \u001b[38;5;28mself\u001b[39m\u001b[38;5;241m.\u001b[39m_set_save_spec(inputs)\n",
      "File \u001b[0;32m~/.conda/envs/thesis/lib/python3.9/site-packages/tensorflow/python/keras/engine/base_layer.py:2541\u001b[0m, in \u001b[0;36mLayer._set_mask_metadata\u001b[0;34m(self, inputs, outputs, previous_mask, build_graph)\u001b[0m\n\u001b[1;32m   2538\u001b[0m     \u001b[38;5;28mself\u001b[39m\u001b[38;5;241m.\u001b[39m_set_mask_keras_history_checked(flat_outputs)\n\u001b[1;32m   2539\u001b[0m   \u001b[38;5;28;01mreturn\u001b[39;00m\n\u001b[0;32m-> 2541\u001b[0m output_masks \u001b[38;5;241m=\u001b[39m \u001b[38;5;28;43mself\u001b[39;49m\u001b[38;5;241;43m.\u001b[39;49m\u001b[43mcompute_mask\u001b[49m\u001b[43m(\u001b[49m\u001b[43minputs\u001b[49m\u001b[43m,\u001b[49m\u001b[43m \u001b[49m\u001b[43mprevious_mask\u001b[49m\u001b[43m)\u001b[49m\n\u001b[1;32m   2542\u001b[0m \u001b[38;5;28;01mif\u001b[39;00m output_masks \u001b[38;5;129;01mis\u001b[39;00m \u001b[38;5;28;01mNone\u001b[39;00m:\n\u001b[1;32m   2543\u001b[0m   \u001b[38;5;28;01mreturn\u001b[39;00m\n",
      "File \u001b[0;32m~/.conda/envs/thesis/lib/python3.9/site-packages/tensorflow/python/keras/layers/wrappers.py:304\u001b[0m, in \u001b[0;36mTimeDistributed.compute_mask\u001b[0;34m(self, inputs, mask)\u001b[0m\n\u001b[1;32m    302\u001b[0m   inner_mask \u001b[38;5;241m=\u001b[39m K\u001b[38;5;241m.\u001b[39mreshape(inner_mask, inner_mask_shape)\n\u001b[1;32m    303\u001b[0m inner_input_shape \u001b[38;5;241m=\u001b[39m \u001b[38;5;28mself\u001b[39m\u001b[38;5;241m.\u001b[39m_get_shape_tuple((\u001b[38;5;241m-\u001b[39m\u001b[38;5;241m1\u001b[39m,), inputs, \u001b[38;5;241m2\u001b[39m)\n\u001b[0;32m--> 304\u001b[0m inner_inputs \u001b[38;5;241m=\u001b[39m \u001b[43marray_ops\u001b[49m\u001b[38;5;241;43m.\u001b[39;49m\u001b[43mreshape\u001b[49m\u001b[43m(\u001b[49m\u001b[43minputs\u001b[49m\u001b[43m,\u001b[49m\u001b[43m \u001b[49m\u001b[43minner_input_shape\u001b[49m\u001b[43m)\u001b[49m\n\u001b[1;32m    305\u001b[0m output_mask \u001b[38;5;241m=\u001b[39m \u001b[38;5;28mself\u001b[39m\u001b[38;5;241m.\u001b[39mlayer\u001b[38;5;241m.\u001b[39mcompute_mask(inner_inputs, inner_mask)\n\u001b[1;32m    306\u001b[0m \u001b[38;5;28;01mif\u001b[39;00m output_mask \u001b[38;5;129;01mis\u001b[39;00m \u001b[38;5;28;01mNone\u001b[39;00m:\n",
      "File \u001b[0;32m~/.conda/envs/thesis/lib/python3.9/site-packages/tensorflow/python/util/dispatch.py:201\u001b[0m, in \u001b[0;36madd_dispatch_support.<locals>.wrapper\u001b[0;34m(*args, **kwargs)\u001b[0m\n\u001b[1;32m    199\u001b[0m \u001b[38;5;124;03m\"\"\"Call target, and fall back on dispatchers if there is a TypeError.\"\"\"\u001b[39;00m\n\u001b[1;32m    200\u001b[0m \u001b[38;5;28;01mtry\u001b[39;00m:\n\u001b[0;32m--> 201\u001b[0m   \u001b[38;5;28;01mreturn\u001b[39;00m \u001b[43mtarget\u001b[49m\u001b[43m(\u001b[49m\u001b[38;5;241;43m*\u001b[39;49m\u001b[43margs\u001b[49m\u001b[43m,\u001b[49m\u001b[43m \u001b[49m\u001b[38;5;241;43m*\u001b[39;49m\u001b[38;5;241;43m*\u001b[39;49m\u001b[43mkwargs\u001b[49m\u001b[43m)\u001b[49m\n\u001b[1;32m    202\u001b[0m \u001b[38;5;28;01mexcept\u001b[39;00m (\u001b[38;5;167;01mTypeError\u001b[39;00m, \u001b[38;5;167;01mValueError\u001b[39;00m):\n\u001b[1;32m    203\u001b[0m   \u001b[38;5;66;03m# Note: convert_to_eager_tensor currently raises a ValueError, not a\u001b[39;00m\n\u001b[1;32m    204\u001b[0m   \u001b[38;5;66;03m# TypeError, when given unexpected types.  So we need to catch both.\u001b[39;00m\n\u001b[1;32m    205\u001b[0m   result \u001b[38;5;241m=\u001b[39m dispatch(wrapper, args, kwargs)\n",
      "File \u001b[0;32m~/.conda/envs/thesis/lib/python3.9/site-packages/tensorflow/python/ops/array_ops.py:195\u001b[0m, in \u001b[0;36mreshape\u001b[0;34m(tensor, shape, name)\u001b[0m\n\u001b[1;32m     59\u001b[0m \u001b[38;5;129m@tf_export\u001b[39m(\u001b[38;5;124m\"\u001b[39m\u001b[38;5;124mreshape\u001b[39m\u001b[38;5;124m\"\u001b[39m, v1\u001b[38;5;241m=\u001b[39m[\u001b[38;5;124m\"\u001b[39m\u001b[38;5;124mreshape\u001b[39m\u001b[38;5;124m\"\u001b[39m, \u001b[38;5;124m\"\u001b[39m\u001b[38;5;124mmanip.reshape\u001b[39m\u001b[38;5;124m\"\u001b[39m])\n\u001b[1;32m     60\u001b[0m \u001b[38;5;129m@dispatch\u001b[39m\u001b[38;5;241m.\u001b[39madd_dispatch_support\n\u001b[1;32m     61\u001b[0m \u001b[38;5;28;01mdef\u001b[39;00m \u001b[38;5;21mreshape\u001b[39m(tensor, shape, name\u001b[38;5;241m=\u001b[39m\u001b[38;5;28;01mNone\u001b[39;00m):  \u001b[38;5;66;03m# pylint: disable=redefined-outer-name\u001b[39;00m\n\u001b[1;32m     62\u001b[0m   \u001b[38;5;124mr\u001b[39m\u001b[38;5;124;03m\"\"\"Reshapes a tensor.\u001b[39;00m\n\u001b[1;32m     63\u001b[0m \n\u001b[1;32m     64\u001b[0m \u001b[38;5;124;03m  Given `tensor`, this operation returns a new `tf.Tensor` that has the same\u001b[39;00m\n\u001b[0;32m   (...)\u001b[0m\n\u001b[1;32m    193\u001b[0m \u001b[38;5;124;03m    A `Tensor`. Has the same type as `tensor`.\u001b[39;00m\n\u001b[1;32m    194\u001b[0m \u001b[38;5;124;03m  \"\"\"\u001b[39;00m\n\u001b[0;32m--> 195\u001b[0m   result \u001b[38;5;241m=\u001b[39m \u001b[43mgen_array_ops\u001b[49m\u001b[38;5;241;43m.\u001b[39;49m\u001b[43mreshape\u001b[49m\u001b[43m(\u001b[49m\u001b[43mtensor\u001b[49m\u001b[43m,\u001b[49m\u001b[43m \u001b[49m\u001b[43mshape\u001b[49m\u001b[43m,\u001b[49m\u001b[43m \u001b[49m\u001b[43mname\u001b[49m\u001b[43m)\u001b[49m\n\u001b[1;32m    196\u001b[0m   tensor_util\u001b[38;5;241m.\u001b[39mmaybe_set_static_shape(result, shape)\n\u001b[1;32m    197\u001b[0m   \u001b[38;5;28;01mreturn\u001b[39;00m result\n",
      "File \u001b[0;32m~/.conda/envs/thesis/lib/python3.9/site-packages/tensorflow/python/ops/gen_array_ops.py:8364\u001b[0m, in \u001b[0;36mreshape\u001b[0;34m(tensor, shape, name)\u001b[0m\n\u001b[1;32m   8362\u001b[0m \u001b[38;5;28;01mif\u001b[39;00m tld\u001b[38;5;241m.\u001b[39mis_eager:\n\u001b[1;32m   8363\u001b[0m   \u001b[38;5;28;01mtry\u001b[39;00m:\n\u001b[0;32m-> 8364\u001b[0m     _result \u001b[38;5;241m=\u001b[39m \u001b[43mpywrap_tfe\u001b[49m\u001b[38;5;241;43m.\u001b[39;49m\u001b[43mTFE_Py_FastPathExecute\u001b[49m\u001b[43m(\u001b[49m\n\u001b[1;32m   8365\u001b[0m \u001b[43m      \u001b[49m\u001b[43m_ctx\u001b[49m\u001b[43m,\u001b[49m\u001b[43m \u001b[49m\u001b[38;5;124;43m\"\u001b[39;49m\u001b[38;5;124;43mReshape\u001b[39;49m\u001b[38;5;124;43m\"\u001b[39;49m\u001b[43m,\u001b[49m\u001b[43m \u001b[49m\u001b[43mname\u001b[49m\u001b[43m,\u001b[49m\u001b[43m \u001b[49m\u001b[43mtensor\u001b[49m\u001b[43m,\u001b[49m\u001b[43m \u001b[49m\u001b[43mshape\u001b[49m\u001b[43m)\u001b[49m\n\u001b[1;32m   8366\u001b[0m     \u001b[38;5;28;01mreturn\u001b[39;00m _result\n\u001b[1;32m   8367\u001b[0m   \u001b[38;5;28;01mexcept\u001b[39;00m _core\u001b[38;5;241m.\u001b[39m_NotOkStatusException \u001b[38;5;28;01mas\u001b[39;00m e:\n",
      "\u001b[0;31mKeyboardInterrupt\u001b[0m: "
     ]
    }
   ],
   "source": [
    "from art.attacks.evasion import DeepFool\n",
    "\n",
    "# amount of pertubration\n",
    "results['df'] = {}\n",
    "epsilon = [1, 5, 20]\n",
    "for d in models:\n",
    "    results['df'][d] = {}\n",
    "    for e in epsilon:\n",
    "        print(f'Attacking {d} with DeepFool eps={e}')\n",
    "        df = DeepFool(classifier=classifiers[d],\n",
    "                      nb_grads=5,\n",
    "                      max_iter=e,\n",
    "                      verbose=True)\n",
    "\n",
    "        res, rr = attack(models[d], df, test[d], test_md[d], param[d][\"batch_size\"])\n",
    "        results['df'][d][e] = res\n",
    "    print(\"_____________________________\")"
   ]
  },
  {
   "cell_type": "code",
   "execution_count": 43,
   "id": "31c03b7f",
   "metadata": {},
   "outputs": [
    {
     "name": "stdout",
     "output_type": "stream",
     "text": [
      "Attacking emodb with BIM eps=0.1\n"
     ]
    },
    {
     "data": {
      "application/vnd.jupyter.widget-view+json": {
       "model_id": "",
       "version_major": 2,
       "version_minor": 0
      },
      "text/plain": [
       "PGD - Batches: 0it [00:00, ?it/s]"
      ]
     },
     "metadata": {},
     "output_type": "display_data"
    },
    {
     "name": "stdout",
     "output_type": "stream",
     "text": [
      "\tWhole test set\n",
      "\t\tloss: 7.88331, accuracy: 0.11111, avg perturbation: 0.06569\n",
      "\n",
      "\tOnly male data\n",
      "\t\tloss: 8.85329, accuracy: 0.08571, avg perturbation: 0.06608\n",
      "\n",
      "\tOnly female data\n",
      "\t\tloss: 7.29798, accuracy: 0.12644, avg perturbation: 0.06546\n",
      "\n",
      "Attacking emodb with BIM eps=0.5\n"
     ]
    },
    {
     "data": {
      "application/vnd.jupyter.widget-view+json": {
       "model_id": "",
       "version_major": 2,
       "version_minor": 0
      },
      "text/plain": [
       "PGD - Batches: 0it [00:00, ?it/s]"
      ]
     },
     "metadata": {},
     "output_type": "display_data"
    },
    {
     "name": "stdout",
     "output_type": "stream",
     "text": [
      "\tWhole test set\n",
      "\t\tloss: 27.62653, accuracy: 0.06930, avg perturbation: 0.28498\n",
      "\n",
      "\tOnly male data\n",
      "\t\tloss: 27.70691, accuracy: 0.07302, avg perturbation: 0.28350\n",
      "\n",
      "\tOnly female data\n",
      "\t\tloss: 27.57803, accuracy: 0.06705, avg perturbation: 0.28587\n",
      "\n",
      "Attacking emodb with BIM eps=0.8\n"
     ]
    },
    {
     "data": {
      "application/vnd.jupyter.widget-view+json": {
       "model_id": "",
       "version_major": 2,
       "version_minor": 0
      },
      "text/plain": [
       "PGD - Batches: 0it [00:00, ?it/s]"
      ]
     },
     "metadata": {},
     "output_type": "display_data"
    },
    {
     "name": "stdout",
     "output_type": "stream",
     "text": [
      "\tWhole test set\n",
      "\t\tloss: 29.79871, accuracy: 0.06930, avg perturbation: 0.42350\n",
      "\n",
      "\tOnly male data\n",
      "\t\tloss: 29.77892, accuracy: 0.07302, avg perturbation: 0.42081\n",
      "\n",
      "\tOnly female data\n",
      "\t\tloss: 29.81066, accuracy: 0.06705, avg perturbation: 0.42512\n",
      "\n",
      "_____________________________\n",
      "Attacking emovo with BIM eps=0.1\n"
     ]
    },
    {
     "data": {
      "application/vnd.jupyter.widget-view+json": {
       "model_id": "",
       "version_major": 2,
       "version_minor": 0
      },
      "text/plain": [
       "PGD - Batches: 0it [00:00, ?it/s]"
      ]
     },
     "metadata": {},
     "output_type": "display_data"
    },
    {
     "name": "stdout",
     "output_type": "stream",
     "text": [
      "\tWhole test set\n",
      "\t\tloss: 13.58827, accuracy: 0.07396, avg perturbation: 0.06506\n",
      "\n",
      "\tOnly male data\n",
      "\t\tloss: 14.38955, accuracy: 0.07377, avg perturbation: 0.06511\n",
      "\n",
      "\tOnly female data\n",
      "\t\tloss: 12.80466, accuracy: 0.07415, avg perturbation: 0.06502\n",
      "\n",
      "Attacking emovo with BIM eps=0.5\n"
     ]
    },
    {
     "data": {
      "application/vnd.jupyter.widget-view+json": {
       "model_id": "",
       "version_major": 2,
       "version_minor": 0
      },
      "text/plain": [
       "PGD - Batches: 0it [00:00, ?it/s]"
      ]
     },
     "metadata": {},
     "output_type": "display_data"
    },
    {
     "name": "stdout",
     "output_type": "stream",
     "text": [
      "\tWhole test set\n",
      "\t\tloss: 34.05412, accuracy: 0.07396, avg perturbation: 0.29382\n",
      "\n",
      "\tOnly male data\n",
      "\t\tloss: 34.56376, accuracy: 0.07582, avg perturbation: 0.29340\n",
      "\n",
      "\tOnly female data\n",
      "\t\tloss: 33.55571, accuracy: 0.07214, avg perturbation: 0.29422\n",
      "\n",
      "Attacking emovo with BIM eps=0.8\n"
     ]
    },
    {
     "data": {
      "application/vnd.jupyter.widget-view+json": {
       "model_id": "",
       "version_major": 2,
       "version_minor": 0
      },
      "text/plain": [
       "PGD - Batches: 0it [00:00, ?it/s]"
      ]
     },
     "metadata": {},
     "output_type": "display_data"
    },
    {
     "name": "stdout",
     "output_type": "stream",
     "text": [
      "\tWhole test set\n",
      "\t\tloss: 36.66292, accuracy: 0.07396, avg perturbation: 0.44114\n",
      "\n",
      "\tOnly male data\n",
      "\t\tloss: 37.09426, accuracy: 0.07582, avg perturbation: 0.44058\n",
      "\n",
      "\tOnly female data\n",
      "\t\tloss: 36.24108, accuracy: 0.07214, avg perturbation: 0.44168\n",
      "\n",
      "_____________________________\n",
      "Attacking ravdess with BIM eps=0.1\n"
     ]
    },
    {
     "data": {
      "application/vnd.jupyter.widget-view+json": {
       "model_id": "",
       "version_major": 2,
       "version_minor": 0
      },
      "text/plain": [
       "PGD - Batches: 0it [00:00, ?it/s]"
      ]
     },
     "metadata": {},
     "output_type": "display_data"
    },
    {
     "name": "stdout",
     "output_type": "stream",
     "text": [
      "\tWhole test set\n",
      "\t\tloss: 17.21029, accuracy: 0.05472, avg perturbation: 0.06190\n",
      "\n",
      "\tOnly male data\n",
      "\t\tloss: 17.99829, accuracy: 0.05251, avg perturbation: 0.06122\n",
      "\n",
      "\tOnly female data\n",
      "\t\tloss: 16.42317, accuracy: 0.05692, avg perturbation: 0.06258\n",
      "\n",
      "Attacking ravdess with BIM eps=0.5\n"
     ]
    },
    {
     "data": {
      "application/vnd.jupyter.widget-view+json": {
       "model_id": "",
       "version_major": 2,
       "version_minor": 0
      },
      "text/plain": [
       "PGD - Batches: 0it [00:00, ?it/s]"
      ]
     },
     "metadata": {},
     "output_type": "display_data"
    },
    {
     "name": "stdout",
     "output_type": "stream",
     "text": [
      "\tWhole test set\n",
      "\t\tloss: 41.17162, accuracy: 0.05416, avg perturbation: 0.27429\n",
      "\n",
      "\tOnly male data\n",
      "\t\tloss: 41.54029, accuracy: 0.05475, avg perturbation: 0.27351\n",
      "\n",
      "\tOnly female data\n",
      "\t\tloss: 40.80336, accuracy: 0.05357, avg perturbation: 0.27508\n",
      "\n",
      "Attacking ravdess with BIM eps=0.8\n"
     ]
    },
    {
     "data": {
      "application/vnd.jupyter.widget-view+json": {
       "model_id": "",
       "version_major": 2,
       "version_minor": 0
      },
      "text/plain": [
       "PGD - Batches: 0it [00:00, ?it/s]"
      ]
     },
     "metadata": {},
     "output_type": "display_data"
    },
    {
     "name": "stdout",
     "output_type": "stream",
     "text": [
      "\tWhole test set\n",
      "\t\tloss: 43.99225, accuracy: 0.05416, avg perturbation: 0.40761\n",
      "\n",
      "\tOnly male data\n",
      "\t\tloss: 44.41031, accuracy: 0.05475, avg perturbation: 0.40632\n",
      "\n",
      "\tOnly female data\n",
      "\t\tloss: 43.57465, accuracy: 0.05357, avg perturbation: 0.40891\n",
      "\n",
      "_____________________________\n"
     ]
    }
   ],
   "source": [
    "from art.attacks.evasion import BasicIterativeMethod\n",
    "\n",
    "# amount of pertubration\n",
    "results['bim'] = {}\n",
    "eps = [0.1, 0.5, 0.8]\n",
    "for d in models:\n",
    "    results['bim'][d] = {}\n",
    "    for e in eps:\n",
    "        print(f'Attacking {d} with BIM eps={e}')\n",
    "        df = BasicIterativeMethod(estimator=classifiers[d],\n",
    "                                  eps=e,\n",
    "                                  verbose=True)\n",
    "\n",
    "        res = attack(models[d], df, test[d], test_md[d], param[d][\"batch_size\"])\n",
    "        results['bim'][d][e] = res\n",
    "    print(\"_____________________________\")"
   ]
  },
  {
   "cell_type": "code",
   "execution_count": 140,
   "id": "0a638566",
   "metadata": {},
   "outputs": [
    {
     "name": "stdout",
     "output_type": "stream",
     "text": [
      "Attacking emodb with C&W LInf\n"
     ]
    },
    {
     "data": {
      "application/vnd.jupyter.widget-view+json": {
       "model_id": "4b029df1a077474285debd756d5ae963",
       "version_major": 2,
       "version_minor": 0
      },
      "text/plain": [
       "C&W L_inf:   0%|          | 0/837 [00:00<?, ?it/s]"
      ]
     },
     "metadata": {},
     "output_type": "display_data"
    },
    {
     "name": "stdout",
     "output_type": "stream",
     "text": [
      "WARNING:tensorflow:Calling GradientTape.gradient on a persistent tape inside its context is significantly less efficient than calling it outside the context (it causes the gradient ops to be recorded on the tape, leading to increased CPU and memory usage). Only call GradientTape.gradient inside the context if you actually want to trace the gradient in order to compute higher order derivatives.\n",
      "\tWhole test set\n",
      "\t\tloss: 2.51218 accuracy: 0.06930, avg perturbation: 0.05085\n",
      "\n",
      "\tOnly male data\n",
      "\t\tloss: 2.73026 accuracy: 0.08254, avg perturbation: 0.04878\n",
      "\n",
      "\tOnly female data\n",
      "\t\tloss: 2.38058 accuracy: 0.06130, avg perturbation: 0.05210\n",
      "\n",
      "Attacking emovo with C&W LInf\n"
     ]
    },
    {
     "data": {
      "application/vnd.jupyter.widget-view+json": {
       "model_id": "7336fcbb522a49a697a0cc66748390ee",
       "version_major": 2,
       "version_minor": 0
      },
      "text/plain": [
       "C&W L_inf:   0%|          | 0/987 [00:00<?, ?it/s]"
      ]
     },
     "metadata": {},
     "output_type": "display_data"
    },
    {
     "name": "stdout",
     "output_type": "stream",
     "text": [
      "\tWhole test set\n",
      "\t\tloss: 3.90252 accuracy: 0.07700, avg perturbation: 0.02697\n",
      "\n",
      "\tOnly male data\n",
      "\t\tloss: 4.17128 accuracy: 0.07172, avg perturbation: 0.02658\n",
      "\n",
      "\tOnly female data\n",
      "\t\tloss: 3.63968 accuracy: 0.08216, avg perturbation: 0.02736\n",
      "\n",
      "Attacking ravdess with C&W LInf\n"
     ]
    },
    {
     "data": {
      "application/vnd.jupyter.widget-view+json": {
       "model_id": "dc735a585d394ae7ad6ec6dd40a231c2",
       "version_major": 2,
       "version_minor": 0
      },
      "text/plain": [
       "C&W L_inf:   0%|          | 0/1791 [00:00<?, ?it/s]"
      ]
     },
     "metadata": {},
     "output_type": "display_data"
    },
    {
     "name": "stdout",
     "output_type": "stream",
     "text": [
      "\tWhole test set\n",
      "\t\tloss: 3.25371 accuracy: 0.05583, avg perturbation: 0.02460\n",
      "\n",
      "\tOnly male data\n",
      "\t\tloss: 3.39439 accuracy: 0.06257, avg perturbation: 0.02272\n",
      "\n",
      "\tOnly female data\n",
      "\t\tloss: 3.11318 accuracy: 0.04911, avg perturbation: 0.02647\n",
      "\n"
     ]
    }
   ],
   "source": [
    "from art.attacks.evasion import CarliniLInfMethod\n",
    "\n",
    "for d in models:\n",
    "    print(f'Attacking {d} with C&W LInf')\n",
    "    cw = CarliniLInfMethod(classifier=classifiers[d],\n",
    "                              max_iter=10,\n",
    "                              learning_rate=0.01,\n",
    "                              initial_const=1e0,\n",
    "                              largest_const=2e0,\n",
    "                              verbose=True)\n",
    "\n",
    "    attack(models[d], cw, test[d], test_md[d], param[d][\"batch_size\"])"
   ]
  },
  {
   "cell_type": "code",
   "execution_count": 46,
   "id": "d383fc24",
   "metadata": {},
   "outputs": [
    {
     "name": "stdout",
     "output_type": "stream",
     "text": [
      "Attacking emodb with Universal Perturbation eps=5\n"
     ]
    },
    {
     "data": {
      "application/vnd.jupyter.widget-view+json": {
       "model_id": "173f66c8f5e94c94971db587ab135401",
       "version_major": 2,
       "version_minor": 0
      },
      "text/plain": [
       "Universal perturbation:   0%|          | 0/20 [00:00<?, ?it/s]"
      ]
     },
     "metadata": {},
     "output_type": "display_data"
    },
    {
     "name": "stdout",
     "output_type": "stream",
     "text": [
      "\tWhole test set\n",
      "\t\tloss: 2.02437, accuracy: 0.15771, avg perturbation: 2.18741\n",
      "\n",
      "\tOnly male data\n",
      "\t\tloss: 2.11292, accuracy: 0.09206, avg perturbation: 2.18741\n",
      "\n",
      "\tOnly female data\n",
      "\t\tloss: 1.97094, accuracy: 0.19732, avg perturbation: 2.18741\n",
      "\n",
      "Attacking emodb with Universal Perturbation eps=10\n"
     ]
    },
    {
     "data": {
      "application/vnd.jupyter.widget-view+json": {
       "model_id": "335d69129efa48378780bcafdf558679",
       "version_major": 2,
       "version_minor": 0
      },
      "text/plain": [
       "Universal perturbation:   0%|          | 0/20 [00:00<?, ?it/s]"
      ]
     },
     "metadata": {},
     "output_type": "display_data"
    },
    {
     "name": "stdout",
     "output_type": "stream",
     "text": [
      "\tWhole test set\n",
      "\t\tloss: 2.19206, accuracy: 0.14815, avg perturbation: 2.48435\n",
      "\n",
      "\tOnly male data\n",
      "\t\tloss: 2.31193, accuracy: 0.07937, avg perturbation: 2.48434\n",
      "\n",
      "\tOnly female data\n",
      "\t\tloss: 2.11973, accuracy: 0.18966, avg perturbation: 2.48435\n",
      "\n",
      "Attacking emodb with Universal Perturbation eps=20\n"
     ]
    },
    {
     "data": {
      "application/vnd.jupyter.widget-view+json": {
       "model_id": "537b67d615fc4b858c1ed60941895089",
       "version_major": 2,
       "version_minor": 0
      },
      "text/plain": [
       "Universal perturbation:   0%|          | 0/20 [00:00<?, ?it/s]"
      ]
     },
     "metadata": {},
     "output_type": "display_data"
    },
    {
     "name": "stdout",
     "output_type": "stream",
     "text": [
      "\tWhole test set\n",
      "\t\tloss: 2.56425, accuracy: 0.14934, avg perturbation: 2.61251\n",
      "\n",
      "\tOnly male data\n",
      "\t\tloss: 2.72030, accuracy: 0.07937, avg perturbation: 2.61251\n",
      "\n",
      "\tOnly female data\n",
      "\t\tloss: 2.47008, accuracy: 0.19157, avg perturbation: 2.61251\n",
      "\n",
      "_____________________________\n",
      "Attacking emovo with Universal Perturbation eps=5\n"
     ]
    },
    {
     "data": {
      "application/vnd.jupyter.widget-view+json": {
       "model_id": "e2f32e300356438580c3205be7ada015",
       "version_major": 2,
       "version_minor": 0
      },
      "text/plain": [
       "Universal perturbation:   0%|          | 0/20 [00:00<?, ?it/s]"
      ]
     },
     "metadata": {},
     "output_type": "display_data"
    },
    {
     "name": "stdout",
     "output_type": "stream",
     "text": [
      "\tWhole test set\n",
      "\t\tloss: 1.71412, accuracy: 0.19959, avg perturbation: 2.25351\n",
      "\n",
      "\tOnly male data\n",
      "\t\tloss: 1.70580, accuracy: 0.20082, avg perturbation: 2.25352\n",
      "\n",
      "\tOnly female data\n",
      "\t\tloss: 1.72225, accuracy: 0.19840, avg perturbation: 2.25352\n",
      "\n",
      "Attacking emovo with Universal Perturbation eps=10\n"
     ]
    },
    {
     "data": {
      "application/vnd.jupyter.widget-view+json": {
       "model_id": "2c7c6083318043d696974a4b83a47002",
       "version_major": 2,
       "version_minor": 0
      },
      "text/plain": [
       "Universal perturbation:   0%|          | 0/20 [00:00<?, ?it/s]"
      ]
     },
     "metadata": {},
     "output_type": "display_data"
    },
    {
     "name": "stdout",
     "output_type": "stream",
     "text": [
      "\tWhole test set\n",
      "\t\tloss: 1.64405, accuracy: 0.18845, avg perturbation: 2.70586\n",
      "\n",
      "\tOnly male data\n",
      "\t\tloss: 1.64692, accuracy: 0.18648, avg perturbation: 2.70587\n",
      "\n",
      "\tOnly female data\n",
      "\t\tloss: 1.64123, accuracy: 0.19038, avg perturbation: 2.70587\n",
      "\n",
      "Attacking emovo with Universal Perturbation eps=20\n"
     ]
    },
    {
     "data": {
      "application/vnd.jupyter.widget-view+json": {
       "model_id": "845eb3931f044ac5bec5dd3097f9068e",
       "version_major": 2,
       "version_minor": 0
      },
      "text/plain": [
       "Universal perturbation:   0%|          | 0/20 [00:00<?, ?it/s]"
      ]
     },
     "metadata": {},
     "output_type": "display_data"
    },
    {
     "name": "stdout",
     "output_type": "stream",
     "text": [
      "\tWhole test set\n",
      "\t\tloss: 1.88762, accuracy: 0.18845, avg perturbation: 3.17205\n",
      "\n",
      "\tOnly male data\n",
      "\t\tloss: 1.84901, accuracy: 0.20697, avg perturbation: 3.17204\n",
      "\n",
      "\tOnly female data\n",
      "\t\tloss: 1.92538, accuracy: 0.17034, avg perturbation: 3.17204\n",
      "\n",
      "_____________________________\n",
      "Attacking ravdess with Universal Perturbation eps=5\n"
     ]
    },
    {
     "data": {
      "application/vnd.jupyter.widget-view+json": {
       "model_id": "11824b8e1dd840a299d51eadf82681ec",
       "version_major": 2,
       "version_minor": 0
      },
      "text/plain": [
       "Universal perturbation:   0%|          | 0/20 [00:00<?, ?it/s]"
      ]
     },
     "metadata": {},
     "output_type": "display_data"
    },
    {
     "name": "stdout",
     "output_type": "stream",
     "text": [
      "\tWhole test set\n",
      "\t\tloss: 1.80678, accuracy: 0.18816, avg perturbation: 2.30164\n",
      "\n",
      "\tOnly male data\n",
      "\t\tloss: 1.81198, accuracy: 0.18771, avg perturbation: 2.30164\n",
      "\n",
      "\tOnly female data\n",
      "\t\tloss: 1.80158, accuracy: 0.18862, avg perturbation: 2.30164\n",
      "\n",
      "Attacking ravdess with Universal Perturbation eps=10\n"
     ]
    },
    {
     "data": {
      "application/vnd.jupyter.widget-view+json": {
       "model_id": "37b6a08864564d948c25868928b36aeb",
       "version_major": 2,
       "version_minor": 0
      },
      "text/plain": [
       "Universal perturbation:   0%|          | 0/20 [00:00<?, ?it/s]"
      ]
     },
     "metadata": {},
     "output_type": "display_data"
    },
    {
     "name": "stdout",
     "output_type": "stream",
     "text": [
      "\tWhole test set\n",
      "\t\tloss: 1.69832, accuracy: 0.19375, avg perturbation: 3.50511\n",
      "\n",
      "\tOnly male data\n",
      "\t\tloss: 1.70510, accuracy: 0.19553, avg perturbation: 3.50511\n",
      "\n",
      "\tOnly female data\n",
      "\t\tloss: 1.69155, accuracy: 0.19196, avg perturbation: 3.50511\n",
      "\n",
      "Attacking ravdess with Universal Perturbation eps=20\n"
     ]
    },
    {
     "data": {
      "application/vnd.jupyter.widget-view+json": {
       "model_id": "2d88ecd9d74d4cbcac0ec817685f3c38",
       "version_major": 2,
       "version_minor": 0
      },
      "text/plain": [
       "Universal perturbation:   0%|          | 0/20 [00:00<?, ?it/s]"
      ]
     },
     "metadata": {},
     "output_type": "display_data"
    },
    {
     "name": "stdout",
     "output_type": "stream",
     "text": [
      "\tWhole test set\n",
      "\t\tloss: 1.83424, accuracy: 0.19710, avg perturbation: 5.35757\n",
      "\n",
      "\tOnly male data\n",
      "\t\tloss: 1.85394, accuracy: 0.19106, avg perturbation: 5.35757\n",
      "\n",
      "\tOnly female data\n",
      "\t\tloss: 1.81456, accuracy: 0.20312, avg perturbation: 5.35757\n",
      "\n",
      "_____________________________\n"
     ]
    }
   ],
   "source": [
    "from art.attacks.evasion import UniversalPerturbation\n",
    "\n",
    "# amount of pertubration\n",
    "results['up'] = {}\n",
    "eps = [5, 10, 20]\n",
    "\n",
    "for d in models:\n",
    "    results['up'][d] = {}\n",
    "    for e in eps:\n",
    "        print(f'Attacking {d} with Universal Perturbation eps={e}')\n",
    "        df = UniversalPerturbation(classifier=classifiers[d],\n",
    "                                   attacker='fgsm',\n",
    "                                   eps=e,\n",
    "                                   verbose=True)\n",
    "\n",
    "        res = attack(models[d], df, test[d], test_md[d], param[d][\"batch_size\"])\n",
    "        results['up'][d][e] = res\n",
    "    print(\"_____________________________\")"
   ]
  },
  {
   "cell_type": "markdown",
   "id": "7ecd8077",
   "metadata": {},
   "source": [
    "# Black Box attack"
   ]
  },
  {
   "cell_type": "code",
   "execution_count": null,
   "id": "fc2a40ab",
   "metadata": {},
   "outputs": [
    {
     "name": "stdout",
     "output_type": "stream",
     "text": [
      "Attacking emodb with Zoo eps=5\n"
     ]
    },
    {
     "data": {
      "application/vnd.jupyter.widget-view+json": {
       "model_id": "8ea1fee9a37e4687862f6d69db051f92",
       "version_major": 2,
       "version_minor": 0
      },
      "text/plain": [
       "ZOO:   0%|          | 0/837 [00:00<?, ?it/s]"
      ]
     },
     "metadata": {},
     "output_type": "display_data"
    }
   ],
   "source": [
    "from art.attacks.evasion import ZooAttack\n",
    "\n",
    "# amount of pertubration\n",
    "results['zoo'] = {}\n",
    "eps = [5]\n",
    "\n",
    "for d in models:\n",
    "    results['zoo'][d] = {}\n",
    "    for e in eps:\n",
    "        print(f'Attacking {d} with Zoo eps={e}')\n",
    "        df = ZooAttack(classifier=classifiers[d],\n",
    "                       max_iter=10,\n",
    "                       verbose=True)\n",
    "\n",
    "        res = attack(models[d], df, test[d], test_md[d], param[d][\"batch_size\"])\n",
    "        results['zoo'][d][e] = res\n",
    "    print(\"_____________________________\")"
   ]
  },
  {
   "cell_type": "code",
   "execution_count": 82,
   "id": "74d79d8b",
   "metadata": {},
   "outputs": [
    {
     "name": "stdout",
     "output_type": "stream",
     "text": [
      "Attacking emodb with PixelAttack eps=5\n"
     ]
    },
    {
     "data": {
      "application/vnd.jupyter.widget-view+json": {
       "model_id": "607c84f9da2347be914e26c8c0774a57",
       "version_major": 2,
       "version_minor": 0
      },
      "text/plain": [
       "Pixel threshold: 0it [00:00, ?it/s]"
      ]
     },
     "metadata": {},
     "output_type": "display_data"
    },
    {
     "ename": "KeyboardInterrupt",
     "evalue": "",
     "output_type": "error",
     "traceback": [
      "\u001b[0;31m---------------------------------------------------------------------------\u001b[0m",
      "\u001b[0;31mKeyboardInterrupt\u001b[0m                         Traceback (most recent call last)",
      "Input \u001b[0;32mIn [82]\u001b[0m, in \u001b[0;36m<cell line: 7>\u001b[0;34m()\u001b[0m\n\u001b[1;32m     10\u001b[0m     \u001b[38;5;28mprint\u001b[39m(\u001b[38;5;124mf\u001b[39m\u001b[38;5;124m'\u001b[39m\u001b[38;5;124mAttacking \u001b[39m\u001b[38;5;132;01m{\u001b[39;00md\u001b[38;5;132;01m}\u001b[39;00m\u001b[38;5;124m with PixelAttack eps=\u001b[39m\u001b[38;5;132;01m{\u001b[39;00me\u001b[38;5;132;01m}\u001b[39;00m\u001b[38;5;124m'\u001b[39m)\n\u001b[1;32m     11\u001b[0m     df \u001b[38;5;241m=\u001b[39m PixelAttack(classifier\u001b[38;5;241m=\u001b[39mclassifiers[d],\n\u001b[1;32m     12\u001b[0m                      verbose\u001b[38;5;241m=\u001b[39m\u001b[38;5;28;01mTrue\u001b[39;00m)\n\u001b[0;32m---> 14\u001b[0m     res \u001b[38;5;241m=\u001b[39m \u001b[43mattack\u001b[49m\u001b[43m(\u001b[49m\u001b[43mmodels\u001b[49m\u001b[43m[\u001b[49m\u001b[43md\u001b[49m\u001b[43m]\u001b[49m\u001b[43m,\u001b[49m\u001b[43m \u001b[49m\u001b[43mdf\u001b[49m\u001b[43m,\u001b[49m\u001b[43m \u001b[49m\u001b[43mtest\u001b[49m\u001b[43m[\u001b[49m\u001b[43md\u001b[49m\u001b[43m]\u001b[49m\u001b[43m,\u001b[49m\u001b[43m \u001b[49m\u001b[43mtest_md\u001b[49m\u001b[43m[\u001b[49m\u001b[43md\u001b[49m\u001b[43m]\u001b[49m\u001b[43m,\u001b[49m\u001b[43m \u001b[49m\u001b[43mparam\u001b[49m\u001b[43m[\u001b[49m\u001b[43md\u001b[49m\u001b[43m]\u001b[49m\u001b[43m[\u001b[49m\u001b[38;5;124;43m\"\u001b[39;49m\u001b[38;5;124;43mbatch_size\u001b[39;49m\u001b[38;5;124;43m\"\u001b[39;49m\u001b[43m]\u001b[49m\u001b[43m)\u001b[49m\n\u001b[1;32m     15\u001b[0m     results[\u001b[38;5;124m'\u001b[39m\u001b[38;5;124mpa\u001b[39m\u001b[38;5;124m'\u001b[39m][d][e] \u001b[38;5;241m=\u001b[39m res\n\u001b[1;32m     16\u001b[0m \u001b[38;5;28mprint\u001b[39m(\u001b[38;5;124m\"\u001b[39m\u001b[38;5;124m_____________________________\u001b[39m\u001b[38;5;124m\"\u001b[39m)\n",
      "Input \u001b[0;32mIn [80]\u001b[0m, in \u001b[0;36mattack\u001b[0;34m(model, method, d, md, bs)\u001b[0m\n\u001b[1;32m      1\u001b[0m \u001b[38;5;28;01mdef\u001b[39;00m \u001b[38;5;21mattack\u001b[39m(model, method, d, md, bs):\n\u001b[0;32m----> 2\u001b[0m     x_adv \u001b[38;5;241m=\u001b[39m \u001b[43mmethod\u001b[49m\u001b[38;5;241;43m.\u001b[39;49m\u001b[43mgenerate\u001b[49m\u001b[43m(\u001b[49m\u001b[43md\u001b[49m\u001b[43m[\u001b[49m\u001b[38;5;124;43m'\u001b[39;49m\u001b[38;5;124;43mx\u001b[39;49m\u001b[38;5;124;43m'\u001b[39;49m\u001b[43m]\u001b[49m\u001b[43m,\u001b[49m\u001b[43m \u001b[49m\u001b[43mverbose\u001b[49m\u001b[38;5;241;43m=\u001b[39;49m\u001b[38;5;28;43;01mTrue\u001b[39;49;00m\u001b[43m)\u001b[49m\n\u001b[1;32m      4\u001b[0m     mi, fi \u001b[38;5;241m=\u001b[39m get_m_f_data(md)\n\u001b[1;32m      6\u001b[0m     \u001b[38;5;28;01mdef\u001b[39;00m \u001b[38;5;21mcompute_attack\u001b[39m(model, adv, x, y):\n",
      "File \u001b[0;32m~/.conda/envs/thesis/lib/python3.9/site-packages/art/attacks/evasion/pixel_threshold.py:205\u001b[0m, in \u001b[0;36mPixelThreshold.generate\u001b[0;34m(self, x, y, **kwargs)\u001b[0m\n\u001b[1;32m    202\u001b[0m \u001b[38;5;28;01mwhile\u001b[39;00m \u001b[38;5;28;01mTrue\u001b[39;00m:  \u001b[38;5;66;03m# pragma: no cover\u001b[39;00m\n\u001b[1;32m    204\u001b[0m     threshold \u001b[38;5;241m=\u001b[39m (start \u001b[38;5;241m+\u001b[39m end) \u001b[38;5;241m/\u001b[39m\u001b[38;5;241m/\u001b[39m \u001b[38;5;241m2\u001b[39m\n\u001b[0;32m--> 205\u001b[0m     success, trial_image_result \u001b[38;5;241m=\u001b[39m \u001b[38;5;28;43mself\u001b[39;49m\u001b[38;5;241;43m.\u001b[39;49m\u001b[43m_attack\u001b[49m\u001b[43m(\u001b[49m\u001b[43mimage\u001b[49m\u001b[43m,\u001b[49m\u001b[43m \u001b[49m\u001b[43mtarget_class\u001b[49m\u001b[43m,\u001b[49m\u001b[43m \u001b[49m\u001b[43mthreshold\u001b[49m\u001b[43m)\u001b[49m\n\u001b[1;32m    207\u001b[0m     \u001b[38;5;28;01mif\u001b[39;00m success:\n\u001b[1;32m    208\u001b[0m         image_result \u001b[38;5;241m=\u001b[39m trial_image_result\n",
      "File \u001b[0;32m~/.conda/envs/thesis/lib/python3.9/site-packages/art/attacks/evasion/pixel_threshold.py:337\u001b[0m, in \u001b[0;36mPixelThreshold._attack\u001b[0;34m(self, image, target_class, limit)\u001b[0m\n\u001b[1;32m    335\u001b[0m     adv_x \u001b[38;5;241m=\u001b[39m strategy\u001b[38;5;241m.\u001b[39mresult[\u001b[38;5;241m0\u001b[39m]\n\u001b[1;32m    336\u001b[0m \u001b[38;5;28;01melse\u001b[39;00m:\n\u001b[0;32m--> 337\u001b[0m     strategy \u001b[38;5;241m=\u001b[39m \u001b[43mdifferential_evolution\u001b[49m\u001b[43m(\u001b[49m\n\u001b[1;32m    338\u001b[0m \u001b[43m        \u001b[49m\u001b[43mpredict_fn\u001b[49m\u001b[43m,\u001b[49m\n\u001b[1;32m    339\u001b[0m \u001b[43m        \u001b[49m\u001b[43mbounds\u001b[49m\u001b[43m,\u001b[49m\n\u001b[1;32m    340\u001b[0m \u001b[43m        \u001b[49m\u001b[43mdisp\u001b[49m\u001b[38;5;241;43m=\u001b[39;49m\u001b[38;5;28;43mself\u001b[39;49m\u001b[38;5;241;43m.\u001b[39;49m\u001b[43mverbose_es\u001b[49m\u001b[43m,\u001b[49m\n\u001b[1;32m    341\u001b[0m \u001b[43m        \u001b[49m\u001b[43mmaxiter\u001b[49m\u001b[38;5;241;43m=\u001b[39;49m\u001b[38;5;28;43mself\u001b[39;49m\u001b[38;5;241;43m.\u001b[39;49m\u001b[43mmax_iter\u001b[49m\u001b[43m,\u001b[49m\n\u001b[1;32m    342\u001b[0m \u001b[43m        \u001b[49m\u001b[43mpopsize\u001b[49m\u001b[38;5;241;43m=\u001b[39;49m\u001b[38;5;28;43mmax\u001b[39;49m\u001b[43m(\u001b[49m\u001b[38;5;241;43m1\u001b[39;49m\u001b[43m,\u001b[49m\u001b[43m \u001b[49m\u001b[38;5;241;43m400\u001b[39;49m\u001b[43m \u001b[49m\u001b[38;5;241;43m/\u001b[39;49m\u001b[38;5;241;43m/\u001b[39;49m\u001b[43m \u001b[49m\u001b[38;5;28;43mlen\u001b[39;49m\u001b[43m(\u001b[49m\u001b[43mbounds\u001b[49m\u001b[43m)\u001b[49m\u001b[43m)\u001b[49m\u001b[43m,\u001b[49m\n\u001b[1;32m    343\u001b[0m \u001b[43m        \u001b[49m\u001b[43mrecombination\u001b[49m\u001b[38;5;241;43m=\u001b[39;49m\u001b[38;5;241;43m1\u001b[39;49m\u001b[43m,\u001b[49m\n\u001b[1;32m    344\u001b[0m \u001b[43m        \u001b[49m\u001b[43matol\u001b[49m\u001b[38;5;241;43m=\u001b[39;49m\u001b[38;5;241;43m-\u001b[39;49m\u001b[38;5;241;43m1\u001b[39;49m\u001b[43m,\u001b[49m\n\u001b[1;32m    345\u001b[0m \u001b[43m        \u001b[49m\u001b[43mcallback\u001b[49m\u001b[38;5;241;43m=\u001b[39;49m\u001b[43mcallback_fn\u001b[49m\u001b[43m,\u001b[49m\n\u001b[1;32m    346\u001b[0m \u001b[43m        \u001b[49m\u001b[43mpolish\u001b[49m\u001b[38;5;241;43m=\u001b[39;49m\u001b[38;5;28;43;01mFalse\u001b[39;49;00m\u001b[43m,\u001b[49m\n\u001b[1;32m    347\u001b[0m \u001b[43m    \u001b[49m\u001b[43m)\u001b[49m\n\u001b[1;32m    348\u001b[0m     adv_x \u001b[38;5;241m=\u001b[39m strategy\u001b[38;5;241m.\u001b[39mx\n\u001b[1;32m    350\u001b[0m \u001b[38;5;28;01mif\u001b[39;00m \u001b[38;5;28mself\u001b[39m\u001b[38;5;241m.\u001b[39m_attack_success(adv_x, image, target_class):\n",
      "File \u001b[0;32m~/.conda/envs/thesis/lib/python3.9/site-packages/art/attacks/evasion/pixel_threshold.py:840\u001b[0m, in \u001b[0;36mdifferential_evolution\u001b[0;34m(func, bounds, args, strategy, maxiter, popsize, tol, mutation, recombination, seed, callback, disp, polish, init, atol)\u001b[0m\n\u001b[1;32m    648\u001b[0m \u001b[38;5;124;03m\"\"\"Finds the global minimum of a multivariate function.\u001b[39;00m\n\u001b[1;32m    649\u001b[0m \u001b[38;5;124;03mDifferential Evolution is stochastic in nature (does not use gradient\u001b[39;00m\n\u001b[1;32m    650\u001b[0m \u001b[38;5;124;03mmethods) to find the minimium, and can search large areas of candidate\u001b[39;00m\n\u001b[0;32m   (...)\u001b[0m\n\u001b[1;32m    820\u001b[0m \u001b[38;5;124;03m.. [3] http://en.wikipedia.org/wiki/Differential_evolution\u001b[39;00m\n\u001b[1;32m    821\u001b[0m \u001b[38;5;124;03m\"\"\"\u001b[39;00m\n\u001b[1;32m    823\u001b[0m solver \u001b[38;5;241m=\u001b[39m DifferentialEvolutionSolver(\n\u001b[1;32m    824\u001b[0m     func,\n\u001b[1;32m    825\u001b[0m     bounds,\n\u001b[0;32m   (...)\u001b[0m\n\u001b[1;32m    838\u001b[0m     atol\u001b[38;5;241m=\u001b[39matol,\n\u001b[1;32m    839\u001b[0m )\n\u001b[0;32m--> 840\u001b[0m \u001b[38;5;28;01mreturn\u001b[39;00m \u001b[43msolver\u001b[49m\u001b[38;5;241;43m.\u001b[39;49m\u001b[43msolve\u001b[49m\u001b[43m(\u001b[49m\u001b[43m)\u001b[49m\n",
      "File \u001b[0;32m~/.conda/envs/thesis/lib/python3.9/site-packages/art/attacks/evasion/pixel_threshold.py:1205\u001b[0m, in \u001b[0;36mDifferentialEvolutionSolver.solve\u001b[0;34m(self)\u001b[0m\n\u001b[1;32m   1202\u001b[0m \u001b[38;5;28;01mfor\u001b[39;00m nit \u001b[38;5;129;01min\u001b[39;00m \u001b[38;5;28mrange\u001b[39m(\u001b[38;5;241m1\u001b[39m, \u001b[38;5;28mself\u001b[39m\u001b[38;5;241m.\u001b[39mmaxiter \u001b[38;5;241m+\u001b[39m \u001b[38;5;241m1\u001b[39m):\n\u001b[1;32m   1203\u001b[0m     \u001b[38;5;66;03m# evolve the population by a generation\u001b[39;00m\n\u001b[1;32m   1204\u001b[0m     \u001b[38;5;28;01mtry\u001b[39;00m:\n\u001b[0;32m-> 1205\u001b[0m         \u001b[38;5;28;43mnext\u001b[39;49m\u001b[43m(\u001b[49m\u001b[38;5;28;43mself\u001b[39;49m\u001b[43m)\u001b[49m\n\u001b[1;32m   1206\u001b[0m     \u001b[38;5;28;01mexcept\u001b[39;00m \u001b[38;5;167;01mStopIteration\u001b[39;00m:\n\u001b[1;32m   1207\u001b[0m         warning_flag \u001b[38;5;241m=\u001b[39m \u001b[38;5;28;01mTrue\u001b[39;00m\n",
      "File \u001b[0;32m~/.conda/envs/thesis/lib/python3.9/site-packages/art/attacks/evasion/pixel_threshold.py:1336\u001b[0m, in \u001b[0;36mDifferentialEvolutionSolver.__next__\u001b[0;34m(self)\u001b[0m\n\u001b[1;32m   1334\u001b[0m     \u001b[38;5;28mself\u001b[39m\u001b[38;5;241m.\u001b[39m_ensure_constraint(trial)\n\u001b[1;32m   1335\u001b[0m parameters \u001b[38;5;241m=\u001b[39m np\u001b[38;5;241m.\u001b[39marray([\u001b[38;5;28mself\u001b[39m\u001b[38;5;241m.\u001b[39m_scale_parameters(trial) \u001b[38;5;28;01mfor\u001b[39;00m trial \u001b[38;5;129;01min\u001b[39;00m trials])\n\u001b[0;32m-> 1336\u001b[0m energies \u001b[38;5;241m=\u001b[39m \u001b[38;5;28;43mself\u001b[39;49m\u001b[38;5;241;43m.\u001b[39;49m\u001b[43mfunc\u001b[49m\u001b[43m(\u001b[49m\u001b[43mparameters\u001b[49m\u001b[43m,\u001b[49m\u001b[43m \u001b[49m\u001b[38;5;241;43m*\u001b[39;49m\u001b[38;5;28;43mself\u001b[39;49m\u001b[38;5;241;43m.\u001b[39;49m\u001b[43margs\u001b[49m\u001b[43m)\u001b[49m\n\u001b[1;32m   1337\u001b[0m \u001b[38;5;28mself\u001b[39m\u001b[38;5;241m.\u001b[39m_nfev \u001b[38;5;241m+\u001b[39m\u001b[38;5;241m=\u001b[39m itersize\n\u001b[1;32m   1339\u001b[0m \u001b[38;5;28;01mfor\u001b[39;00m candidate, (energy, trial) \u001b[38;5;129;01min\u001b[39;00m \u001b[38;5;28menumerate\u001b[39m(\u001b[38;5;28mzip\u001b[39m(energies, trials)):\n\u001b[1;32m   1340\u001b[0m     \u001b[38;5;66;03m# if the energy of the trial candidate is lower than the\u001b[39;00m\n\u001b[1;32m   1341\u001b[0m     \u001b[38;5;66;03m# original population member then replace it\u001b[39;00m\n",
      "File \u001b[0;32m~/.conda/envs/thesis/lib/python3.9/site-packages/art/attacks/evasion/pixel_threshold.py:293\u001b[0m, in \u001b[0;36mPixelThreshold._attack.<locals>.predict_fn\u001b[0;34m(x)\u001b[0m\n\u001b[1;32m    290\u001b[0m \u001b[38;5;28;01mif\u001b[39;00m \u001b[38;5;28mself\u001b[39m\u001b[38;5;241m.\u001b[39mrescale:\n\u001b[1;32m    291\u001b[0m     adv \u001b[38;5;241m=\u001b[39m \u001b[38;5;28mself\u001b[39m\u001b[38;5;241m.\u001b[39mrescale_input(adv)\n\u001b[0;32m--> 293\u001b[0m predictions \u001b[38;5;241m=\u001b[39m \u001b[38;5;28;43mself\u001b[39;49m\u001b[38;5;241;43m.\u001b[39;49m\u001b[43mestimator\u001b[49m\u001b[38;5;241;43m.\u001b[39;49m\u001b[43mpredict\u001b[49m\u001b[43m(\u001b[49m\u001b[43madv\u001b[49m\u001b[43m)\u001b[49m[:, target_class]\n\u001b[1;32m    294\u001b[0m \u001b[38;5;28;01mreturn\u001b[39;00m predictions \u001b[38;5;28;01mif\u001b[39;00m \u001b[38;5;129;01mnot\u001b[39;00m \u001b[38;5;28mself\u001b[39m\u001b[38;5;241m.\u001b[39mtargeted \u001b[38;5;28;01melse\u001b[39;00m \u001b[38;5;241m1\u001b[39m \u001b[38;5;241m-\u001b[39m predictions\n",
      "File \u001b[0;32m~/.conda/envs/thesis/lib/python3.9/site-packages/art/estimators/classification/classifier.py:74\u001b[0m, in \u001b[0;36mInputFilter.__init__.<locals>.make_replacement.<locals>.replacement_function\u001b[0;34m(self, *args, **kwargs)\u001b[0m\n\u001b[1;32m     72\u001b[0m \u001b[38;5;28;01mif\u001b[39;00m \u001b[38;5;28mlen\u001b[39m(args) \u001b[38;5;241m>\u001b[39m \u001b[38;5;241m0\u001b[39m:\n\u001b[1;32m     73\u001b[0m     args \u001b[38;5;241m=\u001b[39m \u001b[38;5;28mtuple\u001b[39m(lst)\n\u001b[0;32m---> 74\u001b[0m \u001b[38;5;28;01mreturn\u001b[39;00m \u001b[43mfdict\u001b[49m\u001b[43m[\u001b[49m\u001b[43mfunc_name\u001b[49m\u001b[43m]\u001b[49m\u001b[43m(\u001b[49m\u001b[38;5;28;43mself\u001b[39;49m\u001b[43m,\u001b[49m\u001b[43m \u001b[49m\u001b[38;5;241;43m*\u001b[39;49m\u001b[43margs\u001b[49m\u001b[43m,\u001b[49m\u001b[43m \u001b[49m\u001b[38;5;241;43m*\u001b[39;49m\u001b[38;5;241;43m*\u001b[39;49m\u001b[43mkwargs\u001b[49m\u001b[43m)\u001b[49m\n",
      "File \u001b[0;32m~/.conda/envs/thesis/lib/python3.9/site-packages/art/estimators/classification/tensorflow.py:895\u001b[0m, in \u001b[0;36mTensorFlowV2Classifier.predict\u001b[0;34m(self, x, batch_size, training_mode, **kwargs)\u001b[0m\n\u001b[1;32m    886\u001b[0m \u001b[38;5;124;03m\"\"\"\u001b[39;00m\n\u001b[1;32m    887\u001b[0m \u001b[38;5;124;03mPerform prediction for a batch of inputs.\u001b[39;00m\n\u001b[1;32m    888\u001b[0m \n\u001b[0;32m   (...)\u001b[0m\n\u001b[1;32m    892\u001b[0m \u001b[38;5;124;03m:return: Array of predictions of shape `(nb_inputs, nb_classes)`.\u001b[39;00m\n\u001b[1;32m    893\u001b[0m \u001b[38;5;124;03m\"\"\"\u001b[39;00m\n\u001b[1;32m    894\u001b[0m \u001b[38;5;66;03m# Apply preprocessing\u001b[39;00m\n\u001b[0;32m--> 895\u001b[0m x_preprocessed, _ \u001b[38;5;241m=\u001b[39m \u001b[38;5;28;43mself\u001b[39;49m\u001b[38;5;241;43m.\u001b[39;49m\u001b[43m_apply_preprocessing\u001b[49m\u001b[43m(\u001b[49m\u001b[43mx\u001b[49m\u001b[43m,\u001b[49m\u001b[43m \u001b[49m\u001b[43my\u001b[49m\u001b[38;5;241;43m=\u001b[39;49m\u001b[38;5;28;43;01mNone\u001b[39;49;00m\u001b[43m,\u001b[49m\u001b[43m \u001b[49m\u001b[43mfit\u001b[49m\u001b[38;5;241;43m=\u001b[39;49m\u001b[38;5;28;43;01mFalse\u001b[39;49;00m\u001b[43m)\u001b[49m\n\u001b[1;32m    897\u001b[0m \u001b[38;5;66;03m# Run prediction with batch processing\u001b[39;00m\n\u001b[1;32m    898\u001b[0m results_list \u001b[38;5;241m=\u001b[39m []\n",
      "File \u001b[0;32m~/.conda/envs/thesis/lib/python3.9/site-packages/art/estimators/tensorflow.py:199\u001b[0m, in \u001b[0;36mTensorFlowV2Estimator._apply_preprocessing\u001b[0;34m(self, x, y, fit)\u001b[0m\n\u001b[1;32m    197\u001b[0m \u001b[38;5;66;03m# Convert torch tensors back to np arrays.\u001b[39;00m\n\u001b[1;32m    198\u001b[0m \u001b[38;5;28;01mif\u001b[39;00m \u001b[38;5;129;01mnot\u001b[39;00m input_is_tensor:\n\u001b[0;32m--> 199\u001b[0m     x \u001b[38;5;241m=\u001b[39m \u001b[43mx\u001b[49m\u001b[38;5;241;43m.\u001b[39;49m\u001b[43mnumpy\u001b[49m\u001b[43m(\u001b[49m\u001b[43m)\u001b[49m\n\u001b[1;32m    200\u001b[0m     \u001b[38;5;28;01mif\u001b[39;00m y \u001b[38;5;129;01mis\u001b[39;00m \u001b[38;5;129;01mnot\u001b[39;00m \u001b[38;5;28;01mNone\u001b[39;00m:\n\u001b[1;32m    201\u001b[0m         y \u001b[38;5;241m=\u001b[39m y\u001b[38;5;241m.\u001b[39mnumpy()\n",
      "File \u001b[0;32m~/.conda/envs/thesis/lib/python3.9/site-packages/tensorflow/python/framework/ops.py:1072\u001b[0m, in \u001b[0;36m_EagerTensorBase.numpy\u001b[0;34m(self)\u001b[0m\n\u001b[1;32m   1070\u001b[0m \u001b[38;5;66;03m# TODO(slebedev): Consider avoiding a copy for non-CPU or remote tensors.\u001b[39;00m\n\u001b[1;32m   1071\u001b[0m maybe_arr \u001b[38;5;241m=\u001b[39m \u001b[38;5;28mself\u001b[39m\u001b[38;5;241m.\u001b[39m_numpy()  \u001b[38;5;66;03m# pylint: disable=protected-access\u001b[39;00m\n\u001b[0;32m-> 1072\u001b[0m \u001b[38;5;28;01mreturn\u001b[39;00m \u001b[43mmaybe_arr\u001b[49m\u001b[38;5;241;43m.\u001b[39;49m\u001b[43mcopy\u001b[49m\u001b[43m(\u001b[49m\u001b[43m)\u001b[49m \u001b[38;5;28;01mif\u001b[39;00m \u001b[38;5;28misinstance\u001b[39m(maybe_arr, np\u001b[38;5;241m.\u001b[39mndarray) \u001b[38;5;28;01melse\u001b[39;00m maybe_arr\n",
      "\u001b[0;31mKeyboardInterrupt\u001b[0m: "
     ]
    }
   ],
   "source": [
    "from art.attacks.evasion import PixelAttack\n",
    "\n",
    "# amount of pertubration\n",
    "results['pa'] = {}\n",
    "eps = [5]\n",
    "\n",
    "for d in models:\n",
    "    results['pa'][d] = {}\n",
    "    for e in eps:\n",
    "        print(f'Attacking {d} with PixelAttack eps={e}')\n",
    "        df = PixelAttack(classifier=classifiers[d],\n",
    "                         verbose=True)\n",
    "\n",
    "        res = attack(models[d], df, test[d], test_md[d], param[d][\"batch_size\"])\n",
    "        results['pa'][d][e] = res\n",
    "    print(\"_____________________________\")\n"
   ]
  },
  {
   "cell_type": "code",
   "execution_count": 31,
   "id": "974b9f46",
   "metadata": {},
   "outputs": [
    {
     "name": "stdout",
     "output_type": "stream",
     "text": [
      "Attacking emodb with PixelAttack eps=5\n"
     ]
    },
    {
     "data": {
      "application/vnd.jupyter.widget-view+json": {
       "model_id": "b93ae1f3770849a183c38bf3ffc744e2",
       "version_major": 2,
       "version_minor": 0
      },
      "text/plain": [
       "Boundary attack:   0%|          | 0/837 [00:00<?, ?it/s]"
      ]
     },
     "metadata": {},
     "output_type": "display_data"
    },
    {
     "data": {
      "application/vnd.jupyter.widget-view+json": {
       "model_id": "808352fc84bd40b88e0b74fbbd97e506",
       "version_major": 2,
       "version_minor": 0
      },
      "text/plain": [
       "Boundary attack - iterations:   0%|          | 0/100 [00:00<?, ?it/s]"
      ]
     },
     "metadata": {},
     "output_type": "display_data"
    },
    {
     "data": {
      "application/vnd.jupyter.widget-view+json": {
       "model_id": "8bbc7780c66e4b3db2b2669801988932",
       "version_major": 2,
       "version_minor": 0
      },
      "text/plain": [
       "Boundary attack - iterations:   0%|          | 0/100 [00:00<?, ?it/s]"
      ]
     },
     "metadata": {},
     "output_type": "display_data"
    },
    {
     "data": {
      "application/vnd.jupyter.widget-view+json": {
       "model_id": "f3a1125ff898426d83ae01933a3af8f7",
       "version_major": 2,
       "version_minor": 0
      },
      "text/plain": [
       "Boundary attack - iterations:   0%|          | 0/100 [00:00<?, ?it/s]"
      ]
     },
     "metadata": {},
     "output_type": "display_data"
    },
    {
     "data": {
      "application/vnd.jupyter.widget-view+json": {
       "model_id": "46441b51f1ac42b79a60d0ddf986b6a4",
       "version_major": 2,
       "version_minor": 0
      },
      "text/plain": [
       "Boundary attack - iterations:   0%|          | 0/100 [00:00<?, ?it/s]"
      ]
     },
     "metadata": {},
     "output_type": "display_data"
    },
    {
     "data": {
      "application/vnd.jupyter.widget-view+json": {
       "model_id": "3886f351e3424952a14eb72a588afa47",
       "version_major": 2,
       "version_minor": 0
      },
      "text/plain": [
       "Boundary attack - iterations:   0%|          | 0/100 [00:00<?, ?it/s]"
      ]
     },
     "metadata": {},
     "output_type": "display_data"
    },
    {
     "data": {
      "application/vnd.jupyter.widget-view+json": {
       "model_id": "7748f3021594447d8e1d69d9faad31bc",
       "version_major": 2,
       "version_minor": 0
      },
      "text/plain": [
       "Boundary attack - iterations:   0%|          | 0/100 [00:00<?, ?it/s]"
      ]
     },
     "metadata": {},
     "output_type": "display_data"
    },
    {
     "data": {
      "application/vnd.jupyter.widget-view+json": {
       "model_id": "730e11ff41db4a3a8820ea9749662da4",
       "version_major": 2,
       "version_minor": 0
      },
      "text/plain": [
       "Boundary attack - iterations:   0%|          | 0/100 [00:00<?, ?it/s]"
      ]
     },
     "metadata": {},
     "output_type": "display_data"
    },
    {
     "data": {
      "application/vnd.jupyter.widget-view+json": {
       "model_id": "62409d1ea2a64e51a84226317a72ae85",
       "version_major": 2,
       "version_minor": 0
      },
      "text/plain": [
       "Boundary attack - iterations:   0%|          | 0/100 [00:00<?, ?it/s]"
      ]
     },
     "metadata": {},
     "output_type": "display_data"
    },
    {
     "data": {
      "application/vnd.jupyter.widget-view+json": {
       "model_id": "61ca62dbf7514a479eb375549de45e12",
       "version_major": 2,
       "version_minor": 0
      },
      "text/plain": [
       "Boundary attack - iterations:   0%|          | 0/100 [00:00<?, ?it/s]"
      ]
     },
     "metadata": {},
     "output_type": "display_data"
    },
    {
     "data": {
      "application/vnd.jupyter.widget-view+json": {
       "model_id": "9e34540f2db04b9fb296cc028bb5fd0f",
       "version_major": 2,
       "version_minor": 0
      },
      "text/plain": [
       "Boundary attack - iterations:   0%|          | 0/100 [00:00<?, ?it/s]"
      ]
     },
     "metadata": {},
     "output_type": "display_data"
    },
    {
     "data": {
      "application/vnd.jupyter.widget-view+json": {
       "model_id": "ee37043ceed24e4d9466c7bace873b03",
       "version_major": 2,
       "version_minor": 0
      },
      "text/plain": [
       "Boundary attack - iterations:   0%|          | 0/100 [00:00<?, ?it/s]"
      ]
     },
     "metadata": {},
     "output_type": "display_data"
    },
    {
     "data": {
      "application/vnd.jupyter.widget-view+json": {
       "model_id": "efa4cd0b27604d4b87cea399fe8d583f",
       "version_major": 2,
       "version_minor": 0
      },
      "text/plain": [
       "Boundary attack - iterations:   0%|          | 0/100 [00:00<?, ?it/s]"
      ]
     },
     "metadata": {},
     "output_type": "display_data"
    },
    {
     "data": {
      "application/vnd.jupyter.widget-view+json": {
       "model_id": "177bbe8e7b044f7abee023c3501da98e",
       "version_major": 2,
       "version_minor": 0
      },
      "text/plain": [
       "Boundary attack - iterations:   0%|          | 0/100 [00:00<?, ?it/s]"
      ]
     },
     "metadata": {},
     "output_type": "display_data"
    },
    {
     "data": {
      "application/vnd.jupyter.widget-view+json": {
       "model_id": "76442640bb634fd292de1df34570e1d4",
       "version_major": 2,
       "version_minor": 0
      },
      "text/plain": [
       "Boundary attack - iterations:   0%|          | 0/100 [00:00<?, ?it/s]"
      ]
     },
     "metadata": {},
     "output_type": "display_data"
    },
    {
     "data": {
      "application/vnd.jupyter.widget-view+json": {
       "model_id": "6f24ffc71faa4c4cbf4655d9a9930812",
       "version_major": 2,
       "version_minor": 0
      },
      "text/plain": [
       "Boundary attack - iterations:   0%|          | 0/100 [00:00<?, ?it/s]"
      ]
     },
     "metadata": {},
     "output_type": "display_data"
    },
    {
     "data": {
      "application/vnd.jupyter.widget-view+json": {
       "model_id": "85a7ddc4920f41fbab698dbe887932c1",
       "version_major": 2,
       "version_minor": 0
      },
      "text/plain": [
       "Boundary attack - iterations:   0%|          | 0/100 [00:00<?, ?it/s]"
      ]
     },
     "metadata": {},
     "output_type": "display_data"
    },
    {
     "data": {
      "application/vnd.jupyter.widget-view+json": {
       "model_id": "59816185f9ea4933be79eaa08fe6aa2e",
       "version_major": 2,
       "version_minor": 0
      },
      "text/plain": [
       "Boundary attack - iterations:   0%|          | 0/100 [00:00<?, ?it/s]"
      ]
     },
     "metadata": {},
     "output_type": "display_data"
    },
    {
     "data": {
      "application/vnd.jupyter.widget-view+json": {
       "model_id": "41ac067dc51e4fd59d27449961c81cce",
       "version_major": 2,
       "version_minor": 0
      },
      "text/plain": [
       "Boundary attack - iterations:   0%|          | 0/100 [00:00<?, ?it/s]"
      ]
     },
     "metadata": {},
     "output_type": "display_data"
    },
    {
     "data": {
      "application/vnd.jupyter.widget-view+json": {
       "model_id": "548ce26065bc4001a29123bb0441c5eb",
       "version_major": 2,
       "version_minor": 0
      },
      "text/plain": [
       "Boundary attack - iterations:   0%|          | 0/100 [00:00<?, ?it/s]"
      ]
     },
     "metadata": {},
     "output_type": "display_data"
    },
    {
     "data": {
      "application/vnd.jupyter.widget-view+json": {
       "model_id": "db8e65ae4b95440b8963d104f4cbc6b2",
       "version_major": 2,
       "version_minor": 0
      },
      "text/plain": [
       "Boundary attack - iterations:   0%|          | 0/100 [00:00<?, ?it/s]"
      ]
     },
     "metadata": {},
     "output_type": "display_data"
    },
    {
     "data": {
      "application/vnd.jupyter.widget-view+json": {
       "model_id": "1b6fe06b5a6e42f790c547ab8fd14d35",
       "version_major": 2,
       "version_minor": 0
      },
      "text/plain": [
       "Boundary attack - iterations:   0%|          | 0/100 [00:00<?, ?it/s]"
      ]
     },
     "metadata": {},
     "output_type": "display_data"
    },
    {
     "data": {
      "application/vnd.jupyter.widget-view+json": {
       "model_id": "0a8be306249449fd8d126785f1cded5d",
       "version_major": 2,
       "version_minor": 0
      },
      "text/plain": [
       "Boundary attack - iterations:   0%|          | 0/100 [00:00<?, ?it/s]"
      ]
     },
     "metadata": {},
     "output_type": "display_data"
    },
    {
     "data": {
      "application/vnd.jupyter.widget-view+json": {
       "model_id": "e80a82a1cc0e434db4fbb1cd430698f6",
       "version_major": 2,
       "version_minor": 0
      },
      "text/plain": [
       "Boundary attack - iterations:   0%|          | 0/100 [00:00<?, ?it/s]"
      ]
     },
     "metadata": {},
     "output_type": "display_data"
    },
    {
     "data": {
      "application/vnd.jupyter.widget-view+json": {
       "model_id": "bb172fbdc9504a56a20d7fe7021d4a61",
       "version_major": 2,
       "version_minor": 0
      },
      "text/plain": [
       "Boundary attack - iterations:   0%|          | 0/100 [00:00<?, ?it/s]"
      ]
     },
     "metadata": {},
     "output_type": "display_data"
    },
    {
     "data": {
      "application/vnd.jupyter.widget-view+json": {
       "model_id": "45f3b09778da46b584b5820666c31390",
       "version_major": 2,
       "version_minor": 0
      },
      "text/plain": [
       "Boundary attack - iterations:   0%|          | 0/100 [00:00<?, ?it/s]"
      ]
     },
     "metadata": {},
     "output_type": "display_data"
    },
    {
     "data": {
      "application/vnd.jupyter.widget-view+json": {
       "model_id": "2b1a2134e9bc4397afcd82c94201c854",
       "version_major": 2,
       "version_minor": 0
      },
      "text/plain": [
       "Boundary attack - iterations:   0%|          | 0/100 [00:00<?, ?it/s]"
      ]
     },
     "metadata": {},
     "output_type": "display_data"
    },
    {
     "data": {
      "application/vnd.jupyter.widget-view+json": {
       "model_id": "f8feeedcc6fb4c24b5a3035dc8cab355",
       "version_major": 2,
       "version_minor": 0
      },
      "text/plain": [
       "Boundary attack - iterations:   0%|          | 0/100 [00:00<?, ?it/s]"
      ]
     },
     "metadata": {},
     "output_type": "display_data"
    },
    {
     "data": {
      "application/vnd.jupyter.widget-view+json": {
       "model_id": "2db2588fd4c841d5a6d0d75b19ac85e7",
       "version_major": 2,
       "version_minor": 0
      },
      "text/plain": [
       "Boundary attack - iterations:   0%|          | 0/100 [00:00<?, ?it/s]"
      ]
     },
     "metadata": {},
     "output_type": "display_data"
    },
    {
     "data": {
      "application/vnd.jupyter.widget-view+json": {
       "model_id": "c548311974f946ba86e68adfe28052b7",
       "version_major": 2,
       "version_minor": 0
      },
      "text/plain": [
       "Boundary attack - iterations:   0%|          | 0/100 [00:00<?, ?it/s]"
      ]
     },
     "metadata": {},
     "output_type": "display_data"
    },
    {
     "data": {
      "application/vnd.jupyter.widget-view+json": {
       "model_id": "f6a7c048f2d848639b85019eeb0abc91",
       "version_major": 2,
       "version_minor": 0
      },
      "text/plain": [
       "Boundary attack - iterations:   0%|          | 0/100 [00:00<?, ?it/s]"
      ]
     },
     "metadata": {},
     "output_type": "display_data"
    },
    {
     "data": {
      "application/vnd.jupyter.widget-view+json": {
       "model_id": "93d0dd81e1c54e5e8fcc11687f050f7d",
       "version_major": 2,
       "version_minor": 0
      },
      "text/plain": [
       "Boundary attack - iterations:   0%|          | 0/100 [00:00<?, ?it/s]"
      ]
     },
     "metadata": {},
     "output_type": "display_data"
    },
    {
     "data": {
      "application/vnd.jupyter.widget-view+json": {
       "model_id": "6b3f8aedc8ac4f25a531575bb5552557",
       "version_major": 2,
       "version_minor": 0
      },
      "text/plain": [
       "Boundary attack - iterations:   0%|          | 0/100 [00:00<?, ?it/s]"
      ]
     },
     "metadata": {},
     "output_type": "display_data"
    },
    {
     "data": {
      "application/vnd.jupyter.widget-view+json": {
       "model_id": "71461fea6ebe4b5bb96eaaa94e6425e8",
       "version_major": 2,
       "version_minor": 0
      },
      "text/plain": [
       "Boundary attack - iterations:   0%|          | 0/100 [00:00<?, ?it/s]"
      ]
     },
     "metadata": {},
     "output_type": "display_data"
    },
    {
     "data": {
      "application/vnd.jupyter.widget-view+json": {
       "model_id": "a8b3f00d5e5c4bb28359de55800937ab",
       "version_major": 2,
       "version_minor": 0
      },
      "text/plain": [
       "Boundary attack - iterations:   0%|          | 0/100 [00:00<?, ?it/s]"
      ]
     },
     "metadata": {},
     "output_type": "display_data"
    },
    {
     "data": {
      "application/vnd.jupyter.widget-view+json": {
       "model_id": "4079d23be0224c92896e9bad58469653",
       "version_major": 2,
       "version_minor": 0
      },
      "text/plain": [
       "Boundary attack - iterations:   0%|          | 0/100 [00:00<?, ?it/s]"
      ]
     },
     "metadata": {},
     "output_type": "display_data"
    },
    {
     "data": {
      "application/vnd.jupyter.widget-view+json": {
       "model_id": "2c0209f1d8e445a2814ed8cd38915a3e",
       "version_major": 2,
       "version_minor": 0
      },
      "text/plain": [
       "Boundary attack - iterations:   0%|          | 0/100 [00:00<?, ?it/s]"
      ]
     },
     "metadata": {},
     "output_type": "display_data"
    },
    {
     "data": {
      "application/vnd.jupyter.widget-view+json": {
       "model_id": "5323406a70cc4fd8b91d3a68b56db122",
       "version_major": 2,
       "version_minor": 0
      },
      "text/plain": [
       "Boundary attack - iterations:   0%|          | 0/100 [00:00<?, ?it/s]"
      ]
     },
     "metadata": {},
     "output_type": "display_data"
    },
    {
     "data": {
      "application/vnd.jupyter.widget-view+json": {
       "model_id": "ff52b0da5e8348369c4e2ed18610c27e",
       "version_major": 2,
       "version_minor": 0
      },
      "text/plain": [
       "Boundary attack - iterations:   0%|          | 0/100 [00:00<?, ?it/s]"
      ]
     },
     "metadata": {},
     "output_type": "display_data"
    },
    {
     "data": {
      "application/vnd.jupyter.widget-view+json": {
       "model_id": "aaa6d24d24564921b377be4a6b585adb",
       "version_major": 2,
       "version_minor": 0
      },
      "text/plain": [
       "Boundary attack - iterations:   0%|          | 0/100 [00:00<?, ?it/s]"
      ]
     },
     "metadata": {},
     "output_type": "display_data"
    },
    {
     "data": {
      "application/vnd.jupyter.widget-view+json": {
       "model_id": "4876ec4fc5384a4881d14064e62e207d",
       "version_major": 2,
       "version_minor": 0
      },
      "text/plain": [
       "Boundary attack - iterations:   0%|          | 0/100 [00:00<?, ?it/s]"
      ]
     },
     "metadata": {},
     "output_type": "display_data"
    },
    {
     "data": {
      "application/vnd.jupyter.widget-view+json": {
       "model_id": "4c70083e2d994dbf97c1116102ebcc4b",
       "version_major": 2,
       "version_minor": 0
      },
      "text/plain": [
       "Boundary attack - iterations:   0%|          | 0/100 [00:00<?, ?it/s]"
      ]
     },
     "metadata": {},
     "output_type": "display_data"
    },
    {
     "data": {
      "application/vnd.jupyter.widget-view+json": {
       "model_id": "70624fbba42244fb87625425a5eb2349",
       "version_major": 2,
       "version_minor": 0
      },
      "text/plain": [
       "Boundary attack - iterations:   0%|          | 0/100 [00:00<?, ?it/s]"
      ]
     },
     "metadata": {},
     "output_type": "display_data"
    },
    {
     "data": {
      "application/vnd.jupyter.widget-view+json": {
       "model_id": "c9f043f3856c4929bfe20a9381e3da9b",
       "version_major": 2,
       "version_minor": 0
      },
      "text/plain": [
       "Boundary attack - iterations:   0%|          | 0/100 [00:00<?, ?it/s]"
      ]
     },
     "metadata": {},
     "output_type": "display_data"
    },
    {
     "data": {
      "application/vnd.jupyter.widget-view+json": {
       "model_id": "6478df07a2dd47889b72cb89c84d0560",
       "version_major": 2,
       "version_minor": 0
      },
      "text/plain": [
       "Boundary attack - iterations:   0%|          | 0/100 [00:00<?, ?it/s]"
      ]
     },
     "metadata": {},
     "output_type": "display_data"
    },
    {
     "data": {
      "application/vnd.jupyter.widget-view+json": {
       "model_id": "b654835abee54be3af2f71f67807c7a4",
       "version_major": 2,
       "version_minor": 0
      },
      "text/plain": [
       "Boundary attack - iterations:   0%|          | 0/100 [00:00<?, ?it/s]"
      ]
     },
     "metadata": {},
     "output_type": "display_data"
    },
    {
     "data": {
      "application/vnd.jupyter.widget-view+json": {
       "model_id": "f3996acfb81640a7a8435aa7e52db0c4",
       "version_major": 2,
       "version_minor": 0
      },
      "text/plain": [
       "Boundary attack - iterations:   0%|          | 0/100 [00:00<?, ?it/s]"
      ]
     },
     "metadata": {},
     "output_type": "display_data"
    },
    {
     "data": {
      "application/vnd.jupyter.widget-view+json": {
       "model_id": "b01e9e8c12f74d9ca09c7bbae5ae155b",
       "version_major": 2,
       "version_minor": 0
      },
      "text/plain": [
       "Boundary attack - iterations:   0%|          | 0/100 [00:00<?, ?it/s]"
      ]
     },
     "metadata": {},
     "output_type": "display_data"
    },
    {
     "data": {
      "application/vnd.jupyter.widget-view+json": {
       "model_id": "2f7688315078436b807be4b2ee1c7836",
       "version_major": 2,
       "version_minor": 0
      },
      "text/plain": [
       "Boundary attack - iterations:   0%|          | 0/100 [00:00<?, ?it/s]"
      ]
     },
     "metadata": {},
     "output_type": "display_data"
    },
    {
     "data": {
      "application/vnd.jupyter.widget-view+json": {
       "model_id": "5e73b3dba9074a71b7ba2a295e959d6e",
       "version_major": 2,
       "version_minor": 0
      },
      "text/plain": [
       "Boundary attack - iterations:   0%|          | 0/100 [00:00<?, ?it/s]"
      ]
     },
     "metadata": {},
     "output_type": "display_data"
    },
    {
     "data": {
      "application/vnd.jupyter.widget-view+json": {
       "model_id": "b4773b2bda3e44f993d6161b8e0f1080",
       "version_major": 2,
       "version_minor": 0
      },
      "text/plain": [
       "Boundary attack - iterations:   0%|          | 0/100 [00:00<?, ?it/s]"
      ]
     },
     "metadata": {},
     "output_type": "display_data"
    },
    {
     "data": {
      "application/vnd.jupyter.widget-view+json": {
       "model_id": "65ac776fea49425d8d14cbd5a69cf0d6",
       "version_major": 2,
       "version_minor": 0
      },
      "text/plain": [
       "Boundary attack - iterations:   0%|          | 0/100 [00:00<?, ?it/s]"
      ]
     },
     "metadata": {},
     "output_type": "display_data"
    },
    {
     "data": {
      "application/vnd.jupyter.widget-view+json": {
       "model_id": "3357909c7bc44aaf8052c9c5859af362",
       "version_major": 2,
       "version_minor": 0
      },
      "text/plain": [
       "Boundary attack - iterations:   0%|          | 0/100 [00:00<?, ?it/s]"
      ]
     },
     "metadata": {},
     "output_type": "display_data"
    },
    {
     "data": {
      "application/vnd.jupyter.widget-view+json": {
       "model_id": "792f68ab4aad481e8853fa9ded900dcc",
       "version_major": 2,
       "version_minor": 0
      },
      "text/plain": [
       "Boundary attack - iterations:   0%|          | 0/100 [00:00<?, ?it/s]"
      ]
     },
     "metadata": {},
     "output_type": "display_data"
    },
    {
     "data": {
      "application/vnd.jupyter.widget-view+json": {
       "model_id": "b8f093e703344628a3ef54e1562e575d",
       "version_major": 2,
       "version_minor": 0
      },
      "text/plain": [
       "Boundary attack - iterations:   0%|          | 0/100 [00:00<?, ?it/s]"
      ]
     },
     "metadata": {},
     "output_type": "display_data"
    },
    {
     "data": {
      "application/vnd.jupyter.widget-view+json": {
       "model_id": "bd837fdf2fd943b19c6e412acf78823e",
       "version_major": 2,
       "version_minor": 0
      },
      "text/plain": [
       "Boundary attack - iterations:   0%|          | 0/100 [00:00<?, ?it/s]"
      ]
     },
     "metadata": {},
     "output_type": "display_data"
    },
    {
     "data": {
      "application/vnd.jupyter.widget-view+json": {
       "model_id": "d28a3e57b4aa42c695651ad71ee92b66",
       "version_major": 2,
       "version_minor": 0
      },
      "text/plain": [
       "Boundary attack - iterations:   0%|          | 0/100 [00:00<?, ?it/s]"
      ]
     },
     "metadata": {},
     "output_type": "display_data"
    },
    {
     "data": {
      "application/vnd.jupyter.widget-view+json": {
       "model_id": "0f0955899bd34fe2acf35251572205bb",
       "version_major": 2,
       "version_minor": 0
      },
      "text/plain": [
       "Boundary attack - iterations:   0%|          | 0/100 [00:00<?, ?it/s]"
      ]
     },
     "metadata": {},
     "output_type": "display_data"
    },
    {
     "data": {
      "application/vnd.jupyter.widget-view+json": {
       "model_id": "044f219e7e7b49ae9a8b0937556fdffe",
       "version_major": 2,
       "version_minor": 0
      },
      "text/plain": [
       "Boundary attack - iterations:   0%|          | 0/100 [00:00<?, ?it/s]"
      ]
     },
     "metadata": {},
     "output_type": "display_data"
    },
    {
     "data": {
      "application/vnd.jupyter.widget-view+json": {
       "model_id": "7529a87d3039456db92de348e6496b04",
       "version_major": 2,
       "version_minor": 0
      },
      "text/plain": [
       "Boundary attack - iterations:   0%|          | 0/100 [00:00<?, ?it/s]"
      ]
     },
     "metadata": {},
     "output_type": "display_data"
    },
    {
     "data": {
      "application/vnd.jupyter.widget-view+json": {
       "model_id": "0cc0584a77044c299deb2122e0970b23",
       "version_major": 2,
       "version_minor": 0
      },
      "text/plain": [
       "Boundary attack - iterations:   0%|          | 0/100 [00:00<?, ?it/s]"
      ]
     },
     "metadata": {},
     "output_type": "display_data"
    },
    {
     "data": {
      "application/vnd.jupyter.widget-view+json": {
       "model_id": "5301710871eb4ec091641c2b9d76eecf",
       "version_major": 2,
       "version_minor": 0
      },
      "text/plain": [
       "Boundary attack - iterations:   0%|          | 0/100 [00:00<?, ?it/s]"
      ]
     },
     "metadata": {},
     "output_type": "display_data"
    },
    {
     "data": {
      "application/vnd.jupyter.widget-view+json": {
       "model_id": "2a220e1a9bc64248b744dd3e1b205dc6",
       "version_major": 2,
       "version_minor": 0
      },
      "text/plain": [
       "Boundary attack - iterations:   0%|          | 0/100 [00:00<?, ?it/s]"
      ]
     },
     "metadata": {},
     "output_type": "display_data"
    },
    {
     "data": {
      "application/vnd.jupyter.widget-view+json": {
       "model_id": "c43c9b0a2b74429aa4860d1bc41075b5",
       "version_major": 2,
       "version_minor": 0
      },
      "text/plain": [
       "Boundary attack - iterations:   0%|          | 0/100 [00:00<?, ?it/s]"
      ]
     },
     "metadata": {},
     "output_type": "display_data"
    },
    {
     "data": {
      "application/vnd.jupyter.widget-view+json": {
       "model_id": "186036a3dba54a76a61278881d87c6c8",
       "version_major": 2,
       "version_minor": 0
      },
      "text/plain": [
       "Boundary attack - iterations:   0%|          | 0/100 [00:00<?, ?it/s]"
      ]
     },
     "metadata": {},
     "output_type": "display_data"
    },
    {
     "data": {
      "application/vnd.jupyter.widget-view+json": {
       "model_id": "43115f2ad97d4f58b4dd2c8e061a84f2",
       "version_major": 2,
       "version_minor": 0
      },
      "text/plain": [
       "Boundary attack - iterations:   0%|          | 0/100 [00:00<?, ?it/s]"
      ]
     },
     "metadata": {},
     "output_type": "display_data"
    },
    {
     "data": {
      "application/vnd.jupyter.widget-view+json": {
       "model_id": "7e3b420fcdd14ba8b86a52ed092d70a0",
       "version_major": 2,
       "version_minor": 0
      },
      "text/plain": [
       "Boundary attack - iterations:   0%|          | 0/100 [00:00<?, ?it/s]"
      ]
     },
     "metadata": {},
     "output_type": "display_data"
    },
    {
     "data": {
      "application/vnd.jupyter.widget-view+json": {
       "model_id": "7e0367ddce774eb5b7f39feb0dcbbe60",
       "version_major": 2,
       "version_minor": 0
      },
      "text/plain": [
       "Boundary attack - iterations:   0%|          | 0/100 [00:00<?, ?it/s]"
      ]
     },
     "metadata": {},
     "output_type": "display_data"
    },
    {
     "data": {
      "application/vnd.jupyter.widget-view+json": {
       "model_id": "884c814adca2419d8679e89bf0ed470f",
       "version_major": 2,
       "version_minor": 0
      },
      "text/plain": [
       "Boundary attack - iterations:   0%|          | 0/100 [00:00<?, ?it/s]"
      ]
     },
     "metadata": {},
     "output_type": "display_data"
    },
    {
     "data": {
      "application/vnd.jupyter.widget-view+json": {
       "model_id": "f7fa50c64a19408ba81654ec098b7c62",
       "version_major": 2,
       "version_minor": 0
      },
      "text/plain": [
       "Boundary attack - iterations:   0%|          | 0/100 [00:00<?, ?it/s]"
      ]
     },
     "metadata": {},
     "output_type": "display_data"
    },
    {
     "data": {
      "application/vnd.jupyter.widget-view+json": {
       "model_id": "a9c6a0b83e004495bf1357840d4007dc",
       "version_major": 2,
       "version_minor": 0
      },
      "text/plain": [
       "Boundary attack - iterations:   0%|          | 0/100 [00:00<?, ?it/s]"
      ]
     },
     "metadata": {},
     "output_type": "display_data"
    },
    {
     "data": {
      "application/vnd.jupyter.widget-view+json": {
       "model_id": "131580cf351d4a3da4881e130c57dc19",
       "version_major": 2,
       "version_minor": 0
      },
      "text/plain": [
       "Boundary attack - iterations:   0%|          | 0/100 [00:00<?, ?it/s]"
      ]
     },
     "metadata": {},
     "output_type": "display_data"
    },
    {
     "data": {
      "application/vnd.jupyter.widget-view+json": {
       "model_id": "db691bc9391d4ce18be4ad87b9f1e5dd",
       "version_major": 2,
       "version_minor": 0
      },
      "text/plain": [
       "Boundary attack - iterations:   0%|          | 0/100 [00:00<?, ?it/s]"
      ]
     },
     "metadata": {},
     "output_type": "display_data"
    },
    {
     "data": {
      "application/vnd.jupyter.widget-view+json": {
       "model_id": "2237ec686d4c41ada153c4a6d9a7fc94",
       "version_major": 2,
       "version_minor": 0
      },
      "text/plain": [
       "Boundary attack - iterations:   0%|          | 0/100 [00:00<?, ?it/s]"
      ]
     },
     "metadata": {},
     "output_type": "display_data"
    },
    {
     "data": {
      "application/vnd.jupyter.widget-view+json": {
       "model_id": "81c704170de6471db4b76ce51a61fe0d",
       "version_major": 2,
       "version_minor": 0
      },
      "text/plain": [
       "Boundary attack - iterations:   0%|          | 0/100 [00:00<?, ?it/s]"
      ]
     },
     "metadata": {},
     "output_type": "display_data"
    },
    {
     "data": {
      "application/vnd.jupyter.widget-view+json": {
       "model_id": "504045ba26104aa29796f9d373a22168",
       "version_major": 2,
       "version_minor": 0
      },
      "text/plain": [
       "Boundary attack - iterations:   0%|          | 0/100 [00:00<?, ?it/s]"
      ]
     },
     "metadata": {},
     "output_type": "display_data"
    },
    {
     "data": {
      "application/vnd.jupyter.widget-view+json": {
       "model_id": "dc5069e67d35436087a4a3cba56b7630",
       "version_major": 2,
       "version_minor": 0
      },
      "text/plain": [
       "Boundary attack - iterations:   0%|          | 0/100 [00:00<?, ?it/s]"
      ]
     },
     "metadata": {},
     "output_type": "display_data"
    },
    {
     "data": {
      "application/vnd.jupyter.widget-view+json": {
       "model_id": "24f584df16954726bd5110df3d1323a8",
       "version_major": 2,
       "version_minor": 0
      },
      "text/plain": [
       "Boundary attack - iterations:   0%|          | 0/100 [00:00<?, ?it/s]"
      ]
     },
     "metadata": {},
     "output_type": "display_data"
    },
    {
     "data": {
      "application/vnd.jupyter.widget-view+json": {
       "model_id": "157564961eb5417091e050515dee4b90",
       "version_major": 2,
       "version_minor": 0
      },
      "text/plain": [
       "Boundary attack - iterations:   0%|          | 0/100 [00:00<?, ?it/s]"
      ]
     },
     "metadata": {},
     "output_type": "display_data"
    },
    {
     "data": {
      "application/vnd.jupyter.widget-view+json": {
       "model_id": "f0b4de17550b4af7a4987a5bc8b3c793",
       "version_major": 2,
       "version_minor": 0
      },
      "text/plain": [
       "Boundary attack - iterations:   0%|          | 0/100 [00:00<?, ?it/s]"
      ]
     },
     "metadata": {},
     "output_type": "display_data"
    },
    {
     "data": {
      "application/vnd.jupyter.widget-view+json": {
       "model_id": "0782a8cda6b94e2f8c8e5c2d5c196f0c",
       "version_major": 2,
       "version_minor": 0
      },
      "text/plain": [
       "Boundary attack - iterations:   0%|          | 0/100 [00:00<?, ?it/s]"
      ]
     },
     "metadata": {},
     "output_type": "display_data"
    },
    {
     "data": {
      "application/vnd.jupyter.widget-view+json": {
       "model_id": "96b747bb8d8a4669a980259ece84e96c",
       "version_major": 2,
       "version_minor": 0
      },
      "text/plain": [
       "Boundary attack - iterations:   0%|          | 0/100 [00:00<?, ?it/s]"
      ]
     },
     "metadata": {},
     "output_type": "display_data"
    },
    {
     "data": {
      "application/vnd.jupyter.widget-view+json": {
       "model_id": "3476ee5bff344454ae92154f463bb27f",
       "version_major": 2,
       "version_minor": 0
      },
      "text/plain": [
       "Boundary attack - iterations:   0%|          | 0/100 [00:00<?, ?it/s]"
      ]
     },
     "metadata": {},
     "output_type": "display_data"
    },
    {
     "data": {
      "application/vnd.jupyter.widget-view+json": {
       "model_id": "4f37846d6b3941d58370e1a830634e66",
       "version_major": 2,
       "version_minor": 0
      },
      "text/plain": [
       "Boundary attack - iterations:   0%|          | 0/100 [00:00<?, ?it/s]"
      ]
     },
     "metadata": {},
     "output_type": "display_data"
    },
    {
     "data": {
      "application/vnd.jupyter.widget-view+json": {
       "model_id": "227a759641414ac1bf88a703fd4bbe43",
       "version_major": 2,
       "version_minor": 0
      },
      "text/plain": [
       "Boundary attack - iterations:   0%|          | 0/100 [00:00<?, ?it/s]"
      ]
     },
     "metadata": {},
     "output_type": "display_data"
    },
    {
     "data": {
      "application/vnd.jupyter.widget-view+json": {
       "model_id": "9f90bafe24ce4e6a8b4c7097d14b710e",
       "version_major": 2,
       "version_minor": 0
      },
      "text/plain": [
       "Boundary attack - iterations:   0%|          | 0/100 [00:00<?, ?it/s]"
      ]
     },
     "metadata": {},
     "output_type": "display_data"
    },
    {
     "data": {
      "application/vnd.jupyter.widget-view+json": {
       "model_id": "71e2e2bd34be435cb732e2db303dee08",
       "version_major": 2,
       "version_minor": 0
      },
      "text/plain": [
       "Boundary attack - iterations:   0%|          | 0/100 [00:00<?, ?it/s]"
      ]
     },
     "metadata": {},
     "output_type": "display_data"
    },
    {
     "data": {
      "application/vnd.jupyter.widget-view+json": {
       "model_id": "cace8ac79e134082ae3851ed11c1ad15",
       "version_major": 2,
       "version_minor": 0
      },
      "text/plain": [
       "Boundary attack - iterations:   0%|          | 0/100 [00:00<?, ?it/s]"
      ]
     },
     "metadata": {},
     "output_type": "display_data"
    },
    {
     "data": {
      "application/vnd.jupyter.widget-view+json": {
       "model_id": "e5af3b04e4204796a863bfa0aa60801e",
       "version_major": 2,
       "version_minor": 0
      },
      "text/plain": [
       "Boundary attack - iterations:   0%|          | 0/100 [00:00<?, ?it/s]"
      ]
     },
     "metadata": {},
     "output_type": "display_data"
    },
    {
     "data": {
      "application/vnd.jupyter.widget-view+json": {
       "model_id": "78519062f2a84cb48beef8f5f08ebaf0",
       "version_major": 2,
       "version_minor": 0
      },
      "text/plain": [
       "Boundary attack - iterations:   0%|          | 0/100 [00:00<?, ?it/s]"
      ]
     },
     "metadata": {},
     "output_type": "display_data"
    },
    {
     "data": {
      "application/vnd.jupyter.widget-view+json": {
       "model_id": "b4069f8d2b1746009bcafeb119c3999c",
       "version_major": 2,
       "version_minor": 0
      },
      "text/plain": [
       "Boundary attack - iterations:   0%|          | 0/100 [00:00<?, ?it/s]"
      ]
     },
     "metadata": {},
     "output_type": "display_data"
    },
    {
     "data": {
      "application/vnd.jupyter.widget-view+json": {
       "model_id": "70fa4c0203644b3cbd2c33b0b8a3250a",
       "version_major": 2,
       "version_minor": 0
      },
      "text/plain": [
       "Boundary attack - iterations:   0%|          | 0/100 [00:00<?, ?it/s]"
      ]
     },
     "metadata": {},
     "output_type": "display_data"
    },
    {
     "data": {
      "application/vnd.jupyter.widget-view+json": {
       "model_id": "f6ab5cbd38b746f69dbe665b9fc63b15",
       "version_major": 2,
       "version_minor": 0
      },
      "text/plain": [
       "Boundary attack - iterations:   0%|          | 0/100 [00:00<?, ?it/s]"
      ]
     },
     "metadata": {},
     "output_type": "display_data"
    },
    {
     "data": {
      "application/vnd.jupyter.widget-view+json": {
       "model_id": "c2f8296fccb14e59a5bc3d7c27f8cf92",
       "version_major": 2,
       "version_minor": 0
      },
      "text/plain": [
       "Boundary attack - iterations:   0%|          | 0/100 [00:00<?, ?it/s]"
      ]
     },
     "metadata": {},
     "output_type": "display_data"
    },
    {
     "data": {
      "application/vnd.jupyter.widget-view+json": {
       "model_id": "7cff3d9913f14eeeaed9fa845cc1875a",
       "version_major": 2,
       "version_minor": 0
      },
      "text/plain": [
       "Boundary attack - iterations:   0%|          | 0/100 [00:00<?, ?it/s]"
      ]
     },
     "metadata": {},
     "output_type": "display_data"
    },
    {
     "data": {
      "application/vnd.jupyter.widget-view+json": {
       "model_id": "331af7b8dc614980b306187618ac3fe0",
       "version_major": 2,
       "version_minor": 0
      },
      "text/plain": [
       "Boundary attack - iterations:   0%|          | 0/100 [00:00<?, ?it/s]"
      ]
     },
     "metadata": {},
     "output_type": "display_data"
    },
    {
     "data": {
      "application/vnd.jupyter.widget-view+json": {
       "model_id": "68e18eae13454f22a979ea13874f64c5",
       "version_major": 2,
       "version_minor": 0
      },
      "text/plain": [
       "Boundary attack - iterations:   0%|          | 0/100 [00:00<?, ?it/s]"
      ]
     },
     "metadata": {},
     "output_type": "display_data"
    },
    {
     "data": {
      "application/vnd.jupyter.widget-view+json": {
       "model_id": "53aefad0fab3405587f7014bd2d12b30",
       "version_major": 2,
       "version_minor": 0
      },
      "text/plain": [
       "Boundary attack - iterations:   0%|          | 0/100 [00:00<?, ?it/s]"
      ]
     },
     "metadata": {},
     "output_type": "display_data"
    },
    {
     "data": {
      "application/vnd.jupyter.widget-view+json": {
       "model_id": "8eb8e8306a734c8f93a82f2959df6560",
       "version_major": 2,
       "version_minor": 0
      },
      "text/plain": [
       "Boundary attack - iterations:   0%|          | 0/100 [00:00<?, ?it/s]"
      ]
     },
     "metadata": {},
     "output_type": "display_data"
    },
    {
     "data": {
      "application/vnd.jupyter.widget-view+json": {
       "model_id": "2511fb47ec4948c49c7209212a88c16d",
       "version_major": 2,
       "version_minor": 0
      },
      "text/plain": [
       "Boundary attack - iterations:   0%|          | 0/100 [00:00<?, ?it/s]"
      ]
     },
     "metadata": {},
     "output_type": "display_data"
    },
    {
     "data": {
      "application/vnd.jupyter.widget-view+json": {
       "model_id": "5e29c57400e14082a8e32c3b58a87d20",
       "version_major": 2,
       "version_minor": 0
      },
      "text/plain": [
       "Boundary attack - iterations:   0%|          | 0/100 [00:00<?, ?it/s]"
      ]
     },
     "metadata": {},
     "output_type": "display_data"
    },
    {
     "data": {
      "application/vnd.jupyter.widget-view+json": {
       "model_id": "fffcb2771f0f4078b6869c4d744c7d7d",
       "version_major": 2,
       "version_minor": 0
      },
      "text/plain": [
       "Boundary attack - iterations:   0%|          | 0/100 [00:00<?, ?it/s]"
      ]
     },
     "metadata": {},
     "output_type": "display_data"
    },
    {
     "data": {
      "application/vnd.jupyter.widget-view+json": {
       "model_id": "084866ecb45245afa113692f8c8b0622",
       "version_major": 2,
       "version_minor": 0
      },
      "text/plain": [
       "Boundary attack - iterations:   0%|          | 0/100 [00:00<?, ?it/s]"
      ]
     },
     "metadata": {},
     "output_type": "display_data"
    },
    {
     "data": {
      "application/vnd.jupyter.widget-view+json": {
       "model_id": "799292a8ddb542b1bc411fb99106440c",
       "version_major": 2,
       "version_minor": 0
      },
      "text/plain": [
       "Boundary attack - iterations:   0%|          | 0/100 [00:00<?, ?it/s]"
      ]
     },
     "metadata": {},
     "output_type": "display_data"
    },
    {
     "data": {
      "application/vnd.jupyter.widget-view+json": {
       "model_id": "41dd443be26b4a9ea003f9a0f4569874",
       "version_major": 2,
       "version_minor": 0
      },
      "text/plain": [
       "Boundary attack - iterations:   0%|          | 0/100 [00:00<?, ?it/s]"
      ]
     },
     "metadata": {},
     "output_type": "display_data"
    },
    {
     "data": {
      "application/vnd.jupyter.widget-view+json": {
       "model_id": "d8e55301041c462caa751bd896f8048f",
       "version_major": 2,
       "version_minor": 0
      },
      "text/plain": [
       "Boundary attack - iterations:   0%|          | 0/100 [00:00<?, ?it/s]"
      ]
     },
     "metadata": {},
     "output_type": "display_data"
    },
    {
     "data": {
      "application/vnd.jupyter.widget-view+json": {
       "model_id": "01c439f0a0f848338bea8e47b56b82fe",
       "version_major": 2,
       "version_minor": 0
      },
      "text/plain": [
       "Boundary attack - iterations:   0%|          | 0/100 [00:00<?, ?it/s]"
      ]
     },
     "metadata": {},
     "output_type": "display_data"
    },
    {
     "data": {
      "application/vnd.jupyter.widget-view+json": {
       "model_id": "d3244e1786cf4e448f8d26bd0909b7cc",
       "version_major": 2,
       "version_minor": 0
      },
      "text/plain": [
       "Boundary attack - iterations:   0%|          | 0/100 [00:00<?, ?it/s]"
      ]
     },
     "metadata": {},
     "output_type": "display_data"
    },
    {
     "data": {
      "application/vnd.jupyter.widget-view+json": {
       "model_id": "8cf99a1d207544b1909f4c13677c7337",
       "version_major": 2,
       "version_minor": 0
      },
      "text/plain": [
       "Boundary attack - iterations:   0%|          | 0/100 [00:00<?, ?it/s]"
      ]
     },
     "metadata": {},
     "output_type": "display_data"
    },
    {
     "data": {
      "application/vnd.jupyter.widget-view+json": {
       "model_id": "fa5626c5bb054820ab95be68ff083584",
       "version_major": 2,
       "version_minor": 0
      },
      "text/plain": [
       "Boundary attack - iterations:   0%|          | 0/100 [00:00<?, ?it/s]"
      ]
     },
     "metadata": {},
     "output_type": "display_data"
    },
    {
     "data": {
      "application/vnd.jupyter.widget-view+json": {
       "model_id": "84e8e2e98b1347da8f6adc7994052e5f",
       "version_major": 2,
       "version_minor": 0
      },
      "text/plain": [
       "Boundary attack - iterations:   0%|          | 0/100 [00:00<?, ?it/s]"
      ]
     },
     "metadata": {},
     "output_type": "display_data"
    },
    {
     "data": {
      "application/vnd.jupyter.widget-view+json": {
       "model_id": "d29030e30137402abfb1b638f173fd7e",
       "version_major": 2,
       "version_minor": 0
      },
      "text/plain": [
       "Boundary attack - iterations:   0%|          | 0/100 [00:00<?, ?it/s]"
      ]
     },
     "metadata": {},
     "output_type": "display_data"
    },
    {
     "data": {
      "application/vnd.jupyter.widget-view+json": {
       "model_id": "d3331f94467a4f34a692767673cd6a28",
       "version_major": 2,
       "version_minor": 0
      },
      "text/plain": [
       "Boundary attack - iterations:   0%|          | 0/100 [00:00<?, ?it/s]"
      ]
     },
     "metadata": {},
     "output_type": "display_data"
    },
    {
     "data": {
      "application/vnd.jupyter.widget-view+json": {
       "model_id": "5d56c5c3446242bf8c32fcf836bb5728",
       "version_major": 2,
       "version_minor": 0
      },
      "text/plain": [
       "Boundary attack - iterations:   0%|          | 0/100 [00:00<?, ?it/s]"
      ]
     },
     "metadata": {},
     "output_type": "display_data"
    },
    {
     "data": {
      "application/vnd.jupyter.widget-view+json": {
       "model_id": "5e1d3eb562904513acf5994654782d77",
       "version_major": 2,
       "version_minor": 0
      },
      "text/plain": [
       "Boundary attack - iterations:   0%|          | 0/100 [00:00<?, ?it/s]"
      ]
     },
     "metadata": {},
     "output_type": "display_data"
    },
    {
     "data": {
      "application/vnd.jupyter.widget-view+json": {
       "model_id": "2d348021796641e6a59ea53202fd6667",
       "version_major": 2,
       "version_minor": 0
      },
      "text/plain": [
       "Boundary attack - iterations:   0%|          | 0/100 [00:00<?, ?it/s]"
      ]
     },
     "metadata": {},
     "output_type": "display_data"
    },
    {
     "data": {
      "application/vnd.jupyter.widget-view+json": {
       "model_id": "feb056c6b9194eed9185d09cb0d335d8",
       "version_major": 2,
       "version_minor": 0
      },
      "text/plain": [
       "Boundary attack - iterations:   0%|          | 0/100 [00:00<?, ?it/s]"
      ]
     },
     "metadata": {},
     "output_type": "display_data"
    },
    {
     "data": {
      "application/vnd.jupyter.widget-view+json": {
       "model_id": "4fbb32f521924d5a82a23635bc954302",
       "version_major": 2,
       "version_minor": 0
      },
      "text/plain": [
       "Boundary attack - iterations:   0%|          | 0/100 [00:00<?, ?it/s]"
      ]
     },
     "metadata": {},
     "output_type": "display_data"
    },
    {
     "data": {
      "application/vnd.jupyter.widget-view+json": {
       "model_id": "55913bf5a8f9411d92686a36b64fb11c",
       "version_major": 2,
       "version_minor": 0
      },
      "text/plain": [
       "Boundary attack - iterations:   0%|          | 0/100 [00:00<?, ?it/s]"
      ]
     },
     "metadata": {},
     "output_type": "display_data"
    },
    {
     "data": {
      "application/vnd.jupyter.widget-view+json": {
       "model_id": "051e4da5dec74c4eaa82e3d16db38cdf",
       "version_major": 2,
       "version_minor": 0
      },
      "text/plain": [
       "Boundary attack - iterations:   0%|          | 0/100 [00:00<?, ?it/s]"
      ]
     },
     "metadata": {},
     "output_type": "display_data"
    },
    {
     "data": {
      "application/vnd.jupyter.widget-view+json": {
       "model_id": "4547ad61c6ca4aeb9312c38a9174023b",
       "version_major": 2,
       "version_minor": 0
      },
      "text/plain": [
       "Boundary attack - iterations:   0%|          | 0/100 [00:00<?, ?it/s]"
      ]
     },
     "metadata": {},
     "output_type": "display_data"
    },
    {
     "data": {
      "application/vnd.jupyter.widget-view+json": {
       "model_id": "3ea79d4c40c145538089a6b158f18253",
       "version_major": 2,
       "version_minor": 0
      },
      "text/plain": [
       "Boundary attack - iterations:   0%|          | 0/100 [00:00<?, ?it/s]"
      ]
     },
     "metadata": {},
     "output_type": "display_data"
    },
    {
     "data": {
      "application/vnd.jupyter.widget-view+json": {
       "model_id": "9d8758af8e1942aa96bc3951e3f5d9bf",
       "version_major": 2,
       "version_minor": 0
      },
      "text/plain": [
       "Boundary attack - iterations:   0%|          | 0/100 [00:00<?, ?it/s]"
      ]
     },
     "metadata": {},
     "output_type": "display_data"
    },
    {
     "data": {
      "application/vnd.jupyter.widget-view+json": {
       "model_id": "be3381142462446f98662215edbc445e",
       "version_major": 2,
       "version_minor": 0
      },
      "text/plain": [
       "Boundary attack - iterations:   0%|          | 0/100 [00:00<?, ?it/s]"
      ]
     },
     "metadata": {},
     "output_type": "display_data"
    },
    {
     "data": {
      "application/vnd.jupyter.widget-view+json": {
       "model_id": "197597e679254187b2ed566f78751622",
       "version_major": 2,
       "version_minor": 0
      },
      "text/plain": [
       "Boundary attack - iterations:   0%|          | 0/100 [00:00<?, ?it/s]"
      ]
     },
     "metadata": {},
     "output_type": "display_data"
    },
    {
     "data": {
      "application/vnd.jupyter.widget-view+json": {
       "model_id": "86434bc0c2594ae59c777bf2feb78916",
       "version_major": 2,
       "version_minor": 0
      },
      "text/plain": [
       "Boundary attack - iterations:   0%|          | 0/100 [00:00<?, ?it/s]"
      ]
     },
     "metadata": {},
     "output_type": "display_data"
    },
    {
     "data": {
      "application/vnd.jupyter.widget-view+json": {
       "model_id": "357f05bb0529498197ce727bc1951bd2",
       "version_major": 2,
       "version_minor": 0
      },
      "text/plain": [
       "Boundary attack - iterations:   0%|          | 0/100 [00:00<?, ?it/s]"
      ]
     },
     "metadata": {},
     "output_type": "display_data"
    },
    {
     "data": {
      "application/vnd.jupyter.widget-view+json": {
       "model_id": "e119a27026834857a4e1ecd904906538",
       "version_major": 2,
       "version_minor": 0
      },
      "text/plain": [
       "Boundary attack - iterations:   0%|          | 0/100 [00:00<?, ?it/s]"
      ]
     },
     "metadata": {},
     "output_type": "display_data"
    },
    {
     "data": {
      "application/vnd.jupyter.widget-view+json": {
       "model_id": "ef239c1a81094c3391b1be366e4d6699",
       "version_major": 2,
       "version_minor": 0
      },
      "text/plain": [
       "Boundary attack - iterations:   0%|          | 0/100 [00:00<?, ?it/s]"
      ]
     },
     "metadata": {},
     "output_type": "display_data"
    },
    {
     "data": {
      "application/vnd.jupyter.widget-view+json": {
       "model_id": "498aa6227c2b46538ddbead3852bfd72",
       "version_major": 2,
       "version_minor": 0
      },
      "text/plain": [
       "Boundary attack - iterations:   0%|          | 0/100 [00:00<?, ?it/s]"
      ]
     },
     "metadata": {},
     "output_type": "display_data"
    },
    {
     "data": {
      "application/vnd.jupyter.widget-view+json": {
       "model_id": "16196169a8d248879fb56406267c0ce4",
       "version_major": 2,
       "version_minor": 0
      },
      "text/plain": [
       "Boundary attack - iterations:   0%|          | 0/100 [00:00<?, ?it/s]"
      ]
     },
     "metadata": {},
     "output_type": "display_data"
    },
    {
     "data": {
      "application/vnd.jupyter.widget-view+json": {
       "model_id": "49e6f1f5bc4547f886be29af030eb05b",
       "version_major": 2,
       "version_minor": 0
      },
      "text/plain": [
       "Boundary attack - iterations:   0%|          | 0/100 [00:00<?, ?it/s]"
      ]
     },
     "metadata": {},
     "output_type": "display_data"
    },
    {
     "data": {
      "application/vnd.jupyter.widget-view+json": {
       "model_id": "e9c1cf6f489540998e8b606810ee6d83",
       "version_major": 2,
       "version_minor": 0
      },
      "text/plain": [
       "Boundary attack - iterations:   0%|          | 0/100 [00:00<?, ?it/s]"
      ]
     },
     "metadata": {},
     "output_type": "display_data"
    },
    {
     "data": {
      "application/vnd.jupyter.widget-view+json": {
       "model_id": "9c9dc4e803084a5a8c22b4b3a8f4afc4",
       "version_major": 2,
       "version_minor": 0
      },
      "text/plain": [
       "Boundary attack - iterations:   0%|          | 0/100 [00:00<?, ?it/s]"
      ]
     },
     "metadata": {},
     "output_type": "display_data"
    },
    {
     "data": {
      "application/vnd.jupyter.widget-view+json": {
       "model_id": "3489bd383eea4723ba92446c6acfd53a",
       "version_major": 2,
       "version_minor": 0
      },
      "text/plain": [
       "Boundary attack - iterations:   0%|          | 0/100 [00:00<?, ?it/s]"
      ]
     },
     "metadata": {},
     "output_type": "display_data"
    },
    {
     "data": {
      "application/vnd.jupyter.widget-view+json": {
       "model_id": "6e366999695044248201e61332f5f57a",
       "version_major": 2,
       "version_minor": 0
      },
      "text/plain": [
       "Boundary attack - iterations:   0%|          | 0/100 [00:00<?, ?it/s]"
      ]
     },
     "metadata": {},
     "output_type": "display_data"
    },
    {
     "data": {
      "application/vnd.jupyter.widget-view+json": {
       "model_id": "f37878bb8cc0495192b9f17bd266cea4",
       "version_major": 2,
       "version_minor": 0
      },
      "text/plain": [
       "Boundary attack - iterations:   0%|          | 0/100 [00:00<?, ?it/s]"
      ]
     },
     "metadata": {},
     "output_type": "display_data"
    },
    {
     "data": {
      "application/vnd.jupyter.widget-view+json": {
       "model_id": "83ad44fb7208448789b03b5f464f2b1c",
       "version_major": 2,
       "version_minor": 0
      },
      "text/plain": [
       "Boundary attack - iterations:   0%|          | 0/100 [00:00<?, ?it/s]"
      ]
     },
     "metadata": {},
     "output_type": "display_data"
    },
    {
     "data": {
      "application/vnd.jupyter.widget-view+json": {
       "model_id": "503b211aa66b44ab90c11698608ff0f6",
       "version_major": 2,
       "version_minor": 0
      },
      "text/plain": [
       "Boundary attack - iterations:   0%|          | 0/100 [00:00<?, ?it/s]"
      ]
     },
     "metadata": {},
     "output_type": "display_data"
    },
    {
     "data": {
      "application/vnd.jupyter.widget-view+json": {
       "model_id": "717e9f7f07844ac3a209eb78eff84e41",
       "version_major": 2,
       "version_minor": 0
      },
      "text/plain": [
       "Boundary attack - iterations:   0%|          | 0/100 [00:00<?, ?it/s]"
      ]
     },
     "metadata": {},
     "output_type": "display_data"
    },
    {
     "data": {
      "application/vnd.jupyter.widget-view+json": {
       "model_id": "994675896fcd4fe7b54806c736f5c7a4",
       "version_major": 2,
       "version_minor": 0
      },
      "text/plain": [
       "Boundary attack - iterations:   0%|          | 0/100 [00:00<?, ?it/s]"
      ]
     },
     "metadata": {},
     "output_type": "display_data"
    },
    {
     "data": {
      "application/vnd.jupyter.widget-view+json": {
       "model_id": "3f333b63c00a4229be0fbf01886f6a9c",
       "version_major": 2,
       "version_minor": 0
      },
      "text/plain": [
       "Boundary attack - iterations:   0%|          | 0/100 [00:00<?, ?it/s]"
      ]
     },
     "metadata": {},
     "output_type": "display_data"
    },
    {
     "data": {
      "application/vnd.jupyter.widget-view+json": {
       "model_id": "6d5051c81e794472aa11d1934afd4846",
       "version_major": 2,
       "version_minor": 0
      },
      "text/plain": [
       "Boundary attack - iterations:   0%|          | 0/100 [00:00<?, ?it/s]"
      ]
     },
     "metadata": {},
     "output_type": "display_data"
    },
    {
     "data": {
      "application/vnd.jupyter.widget-view+json": {
       "model_id": "1dd5c6e471be418d9dae94511a00b7a7",
       "version_major": 2,
       "version_minor": 0
      },
      "text/plain": [
       "Boundary attack - iterations:   0%|          | 0/100 [00:00<?, ?it/s]"
      ]
     },
     "metadata": {},
     "output_type": "display_data"
    },
    {
     "data": {
      "application/vnd.jupyter.widget-view+json": {
       "model_id": "a8596d6266914e0c9248c4d046e7a2bb",
       "version_major": 2,
       "version_minor": 0
      },
      "text/plain": [
       "Boundary attack - iterations:   0%|          | 0/100 [00:00<?, ?it/s]"
      ]
     },
     "metadata": {},
     "output_type": "display_data"
    },
    {
     "data": {
      "application/vnd.jupyter.widget-view+json": {
       "model_id": "1c74ce0ac0a74bddb0fe19b877374c21",
       "version_major": 2,
       "version_minor": 0
      },
      "text/plain": [
       "Boundary attack - iterations:   0%|          | 0/100 [00:00<?, ?it/s]"
      ]
     },
     "metadata": {},
     "output_type": "display_data"
    },
    {
     "data": {
      "application/vnd.jupyter.widget-view+json": {
       "model_id": "b26de6b78dad42368c02a704b465231b",
       "version_major": 2,
       "version_minor": 0
      },
      "text/plain": [
       "Boundary attack - iterations:   0%|          | 0/100 [00:00<?, ?it/s]"
      ]
     },
     "metadata": {},
     "output_type": "display_data"
    },
    {
     "data": {
      "application/vnd.jupyter.widget-view+json": {
       "model_id": "46c567a40a69407e94abcd13df6a30e4",
       "version_major": 2,
       "version_minor": 0
      },
      "text/plain": [
       "Boundary attack - iterations:   0%|          | 0/100 [00:00<?, ?it/s]"
      ]
     },
     "metadata": {},
     "output_type": "display_data"
    },
    {
     "data": {
      "application/vnd.jupyter.widget-view+json": {
       "model_id": "ecd65cbc72574b5dbad8f5cf82762c20",
       "version_major": 2,
       "version_minor": 0
      },
      "text/plain": [
       "Boundary attack - iterations:   0%|          | 0/100 [00:00<?, ?it/s]"
      ]
     },
     "metadata": {},
     "output_type": "display_data"
    },
    {
     "data": {
      "application/vnd.jupyter.widget-view+json": {
       "model_id": "3529c3df052544cdbd5cfa7156622b90",
       "version_major": 2,
       "version_minor": 0
      },
      "text/plain": [
       "Boundary attack - iterations:   0%|          | 0/100 [00:00<?, ?it/s]"
      ]
     },
     "metadata": {},
     "output_type": "display_data"
    },
    {
     "data": {
      "application/vnd.jupyter.widget-view+json": {
       "model_id": "7955dbc7a4f74c94a809139133837016",
       "version_major": 2,
       "version_minor": 0
      },
      "text/plain": [
       "Boundary attack - iterations:   0%|          | 0/100 [00:00<?, ?it/s]"
      ]
     },
     "metadata": {},
     "output_type": "display_data"
    },
    {
     "data": {
      "application/vnd.jupyter.widget-view+json": {
       "model_id": "00f0291ff2a84ef6bdb3ec0f279b0356",
       "version_major": 2,
       "version_minor": 0
      },
      "text/plain": [
       "Boundary attack - iterations:   0%|          | 0/100 [00:00<?, ?it/s]"
      ]
     },
     "metadata": {},
     "output_type": "display_data"
    },
    {
     "data": {
      "application/vnd.jupyter.widget-view+json": {
       "model_id": "707d150252e54dbebe566da9d137cce1",
       "version_major": 2,
       "version_minor": 0
      },
      "text/plain": [
       "Boundary attack - iterations:   0%|          | 0/100 [00:00<?, ?it/s]"
      ]
     },
     "metadata": {},
     "output_type": "display_data"
    },
    {
     "data": {
      "application/vnd.jupyter.widget-view+json": {
       "model_id": "977fc093268a4f5bb5cf5bb169033c8b",
       "version_major": 2,
       "version_minor": 0
      },
      "text/plain": [
       "Boundary attack - iterations:   0%|          | 0/100 [00:00<?, ?it/s]"
      ]
     },
     "metadata": {},
     "output_type": "display_data"
    },
    {
     "data": {
      "application/vnd.jupyter.widget-view+json": {
       "model_id": "4d1059fab2294ea09da85d5c61e4e2da",
       "version_major": 2,
       "version_minor": 0
      },
      "text/plain": [
       "Boundary attack - iterations:   0%|          | 0/100 [00:00<?, ?it/s]"
      ]
     },
     "metadata": {},
     "output_type": "display_data"
    },
    {
     "data": {
      "application/vnd.jupyter.widget-view+json": {
       "model_id": "ec5719b9575849c0aef12bd9f7826dba",
       "version_major": 2,
       "version_minor": 0
      },
      "text/plain": [
       "Boundary attack - iterations:   0%|          | 0/100 [00:00<?, ?it/s]"
      ]
     },
     "metadata": {},
     "output_type": "display_data"
    },
    {
     "data": {
      "application/vnd.jupyter.widget-view+json": {
       "model_id": "e48fac9a01714553a5bf942914f2e05c",
       "version_major": 2,
       "version_minor": 0
      },
      "text/plain": [
       "Boundary attack - iterations:   0%|          | 0/100 [00:00<?, ?it/s]"
      ]
     },
     "metadata": {},
     "output_type": "display_data"
    },
    {
     "data": {
      "application/vnd.jupyter.widget-view+json": {
       "model_id": "e23a5d6b97784eb1a52cf0abc61cfca9",
       "version_major": 2,
       "version_minor": 0
      },
      "text/plain": [
       "Boundary attack - iterations:   0%|          | 0/100 [00:00<?, ?it/s]"
      ]
     },
     "metadata": {},
     "output_type": "display_data"
    },
    {
     "data": {
      "application/vnd.jupyter.widget-view+json": {
       "model_id": "1600a9e8199e4a5ca2b959bc5c1a109e",
       "version_major": 2,
       "version_minor": 0
      },
      "text/plain": [
       "Boundary attack - iterations:   0%|          | 0/100 [00:00<?, ?it/s]"
      ]
     },
     "metadata": {},
     "output_type": "display_data"
    },
    {
     "data": {
      "application/vnd.jupyter.widget-view+json": {
       "model_id": "7dd235844d6940389d7f3a3257cfc647",
       "version_major": 2,
       "version_minor": 0
      },
      "text/plain": [
       "Boundary attack - iterations:   0%|          | 0/100 [00:00<?, ?it/s]"
      ]
     },
     "metadata": {},
     "output_type": "display_data"
    },
    {
     "data": {
      "application/vnd.jupyter.widget-view+json": {
       "model_id": "592fc481deba4d0f9171b184635c099a",
       "version_major": 2,
       "version_minor": 0
      },
      "text/plain": [
       "Boundary attack - iterations:   0%|          | 0/100 [00:00<?, ?it/s]"
      ]
     },
     "metadata": {},
     "output_type": "display_data"
    },
    {
     "data": {
      "application/vnd.jupyter.widget-view+json": {
       "model_id": "3f931c7f08094dfd810c30c12f99d48b",
       "version_major": 2,
       "version_minor": 0
      },
      "text/plain": [
       "Boundary attack - iterations:   0%|          | 0/100 [00:00<?, ?it/s]"
      ]
     },
     "metadata": {},
     "output_type": "display_data"
    },
    {
     "data": {
      "application/vnd.jupyter.widget-view+json": {
       "model_id": "3d9c268c6176486288ccc8b304720c6b",
       "version_major": 2,
       "version_minor": 0
      },
      "text/plain": [
       "Boundary attack - iterations:   0%|          | 0/100 [00:00<?, ?it/s]"
      ]
     },
     "metadata": {},
     "output_type": "display_data"
    },
    {
     "data": {
      "application/vnd.jupyter.widget-view+json": {
       "model_id": "74bb7b72f1994ea5b2c64d9492739346",
       "version_major": 2,
       "version_minor": 0
      },
      "text/plain": [
       "Boundary attack - iterations:   0%|          | 0/100 [00:00<?, ?it/s]"
      ]
     },
     "metadata": {},
     "output_type": "display_data"
    },
    {
     "data": {
      "application/vnd.jupyter.widget-view+json": {
       "model_id": "cbde37ad7afa43a3928907d5cf1d2e00",
       "version_major": 2,
       "version_minor": 0
      },
      "text/plain": [
       "Boundary attack - iterations:   0%|          | 0/100 [00:00<?, ?it/s]"
      ]
     },
     "metadata": {},
     "output_type": "display_data"
    },
    {
     "data": {
      "application/vnd.jupyter.widget-view+json": {
       "model_id": "ac9a0beb8d734bcb8367cd59eed30203",
       "version_major": 2,
       "version_minor": 0
      },
      "text/plain": [
       "Boundary attack - iterations:   0%|          | 0/100 [00:00<?, ?it/s]"
      ]
     },
     "metadata": {},
     "output_type": "display_data"
    },
    {
     "data": {
      "application/vnd.jupyter.widget-view+json": {
       "model_id": "362bef68244a415a9515a2a2c2e71909",
       "version_major": 2,
       "version_minor": 0
      },
      "text/plain": [
       "Boundary attack - iterations:   0%|          | 0/100 [00:00<?, ?it/s]"
      ]
     },
     "metadata": {},
     "output_type": "display_data"
    },
    {
     "data": {
      "application/vnd.jupyter.widget-view+json": {
       "model_id": "8d9c20dce4464817b32a818974d15b2c",
       "version_major": 2,
       "version_minor": 0
      },
      "text/plain": [
       "Boundary attack - iterations:   0%|          | 0/100 [00:00<?, ?it/s]"
      ]
     },
     "metadata": {},
     "output_type": "display_data"
    },
    {
     "data": {
      "application/vnd.jupyter.widget-view+json": {
       "model_id": "4c9a7952b19545679e4e8f6eeb49597e",
       "version_major": 2,
       "version_minor": 0
      },
      "text/plain": [
       "Boundary attack - iterations:   0%|          | 0/100 [00:00<?, ?it/s]"
      ]
     },
     "metadata": {},
     "output_type": "display_data"
    },
    {
     "data": {
      "application/vnd.jupyter.widget-view+json": {
       "model_id": "f68fd7d69de04c24955ce5a01462afea",
       "version_major": 2,
       "version_minor": 0
      },
      "text/plain": [
       "Boundary attack - iterations:   0%|          | 0/100 [00:00<?, ?it/s]"
      ]
     },
     "metadata": {},
     "output_type": "display_data"
    },
    {
     "data": {
      "application/vnd.jupyter.widget-view+json": {
       "model_id": "e22f61dbaf3f4d17aa7d3c64572a8a2f",
       "version_major": 2,
       "version_minor": 0
      },
      "text/plain": [
       "Boundary attack - iterations:   0%|          | 0/100 [00:00<?, ?it/s]"
      ]
     },
     "metadata": {},
     "output_type": "display_data"
    },
    {
     "data": {
      "application/vnd.jupyter.widget-view+json": {
       "model_id": "ff558cb2a89d47ff8989df78eb173a4e",
       "version_major": 2,
       "version_minor": 0
      },
      "text/plain": [
       "Boundary attack - iterations:   0%|          | 0/100 [00:00<?, ?it/s]"
      ]
     },
     "metadata": {},
     "output_type": "display_data"
    },
    {
     "data": {
      "application/vnd.jupyter.widget-view+json": {
       "model_id": "e159bc72600045f3b2bea0b1588616eb",
       "version_major": 2,
       "version_minor": 0
      },
      "text/plain": [
       "Boundary attack - iterations:   0%|          | 0/100 [00:00<?, ?it/s]"
      ]
     },
     "metadata": {},
     "output_type": "display_data"
    },
    {
     "data": {
      "application/vnd.jupyter.widget-view+json": {
       "model_id": "ef07b74d0d4d41b78a01ca0a66a84e8b",
       "version_major": 2,
       "version_minor": 0
      },
      "text/plain": [
       "Boundary attack - iterations:   0%|          | 0/100 [00:00<?, ?it/s]"
      ]
     },
     "metadata": {},
     "output_type": "display_data"
    },
    {
     "data": {
      "application/vnd.jupyter.widget-view+json": {
       "model_id": "3f63f08ebe7e477e8c3609ae7f758cac",
       "version_major": 2,
       "version_minor": 0
      },
      "text/plain": [
       "Boundary attack - iterations:   0%|          | 0/100 [00:00<?, ?it/s]"
      ]
     },
     "metadata": {},
     "output_type": "display_data"
    },
    {
     "data": {
      "application/vnd.jupyter.widget-view+json": {
       "model_id": "42ae95381b5d406a8583e739f27ab780",
       "version_major": 2,
       "version_minor": 0
      },
      "text/plain": [
       "Boundary attack - iterations:   0%|          | 0/100 [00:00<?, ?it/s]"
      ]
     },
     "metadata": {},
     "output_type": "display_data"
    },
    {
     "data": {
      "application/vnd.jupyter.widget-view+json": {
       "model_id": "69935ce43916417888193961bb07cc1c",
       "version_major": 2,
       "version_minor": 0
      },
      "text/plain": [
       "Boundary attack - iterations:   0%|          | 0/100 [00:00<?, ?it/s]"
      ]
     },
     "metadata": {},
     "output_type": "display_data"
    },
    {
     "data": {
      "application/vnd.jupyter.widget-view+json": {
       "model_id": "e2ebfe03a7c04144b861db8f27fcfe93",
       "version_major": 2,
       "version_minor": 0
      },
      "text/plain": [
       "Boundary attack - iterations:   0%|          | 0/100 [00:00<?, ?it/s]"
      ]
     },
     "metadata": {},
     "output_type": "display_data"
    },
    {
     "data": {
      "application/vnd.jupyter.widget-view+json": {
       "model_id": "feb7ff5842f3449ca19093d7c93c2ce5",
       "version_major": 2,
       "version_minor": 0
      },
      "text/plain": [
       "Boundary attack - iterations:   0%|          | 0/100 [00:00<?, ?it/s]"
      ]
     },
     "metadata": {},
     "output_type": "display_data"
    },
    {
     "ename": "KeyboardInterrupt",
     "evalue": "",
     "output_type": "error",
     "traceback": [
      "\u001b[0;31m---------------------------------------------------------------------------\u001b[0m",
      "\u001b[0;31mKeyboardInterrupt\u001b[0m                         Traceback (most recent call last)",
      "Input \u001b[0;32mIn [31]\u001b[0m, in \u001b[0;36m<cell line: 7>\u001b[0;34m()\u001b[0m\n\u001b[1;32m     10\u001b[0m     \u001b[38;5;28mprint\u001b[39m(\u001b[38;5;124mf\u001b[39m\u001b[38;5;124m'\u001b[39m\u001b[38;5;124mAttacking \u001b[39m\u001b[38;5;132;01m{\u001b[39;00md\u001b[38;5;132;01m}\u001b[39;00m\u001b[38;5;124m with PixelAttack eps=\u001b[39m\u001b[38;5;132;01m{\u001b[39;00me\u001b[38;5;132;01m}\u001b[39;00m\u001b[38;5;124m'\u001b[39m)\n\u001b[1;32m     11\u001b[0m     df \u001b[38;5;241m=\u001b[39m BoundaryAttack(estimator\u001b[38;5;241m=\u001b[39mclassifiers[d],\n\u001b[1;32m     12\u001b[0m                         max_iter\u001b[38;5;241m=\u001b[39m\u001b[38;5;241m100\u001b[39m,\n\u001b[1;32m     13\u001b[0m                         targeted\u001b[38;5;241m=\u001b[39m\u001b[38;5;28;01mFalse\u001b[39;00m,\n\u001b[1;32m     14\u001b[0m                         verbose\u001b[38;5;241m=\u001b[39m\u001b[38;5;28;01mTrue\u001b[39;00m)\n\u001b[0;32m---> 16\u001b[0m     res \u001b[38;5;241m=\u001b[39m \u001b[43mattack\u001b[49m\u001b[43m(\u001b[49m\u001b[43mmodels\u001b[49m\u001b[43m[\u001b[49m\u001b[43md\u001b[49m\u001b[43m]\u001b[49m\u001b[43m,\u001b[49m\u001b[43m \u001b[49m\u001b[43mdf\u001b[49m\u001b[43m,\u001b[49m\u001b[43m \u001b[49m\u001b[43mtest\u001b[49m\u001b[43m[\u001b[49m\u001b[43md\u001b[49m\u001b[43m]\u001b[49m\u001b[43m,\u001b[49m\u001b[43m \u001b[49m\u001b[43mtest_md\u001b[49m\u001b[43m[\u001b[49m\u001b[43md\u001b[49m\u001b[43m]\u001b[49m\u001b[43m,\u001b[49m\u001b[43m \u001b[49m\u001b[43mparam\u001b[49m\u001b[43m[\u001b[49m\u001b[43md\u001b[49m\u001b[43m]\u001b[49m\u001b[43m[\u001b[49m\u001b[38;5;124;43m\"\u001b[39;49m\u001b[38;5;124;43mbatch_size\u001b[39;49m\u001b[38;5;124;43m\"\u001b[39;49m\u001b[43m]\u001b[49m\u001b[43m)\u001b[49m\n\u001b[1;32m     17\u001b[0m     results[\u001b[38;5;124m'\u001b[39m\u001b[38;5;124mba\u001b[39m\u001b[38;5;124m'\u001b[39m][d][e] \u001b[38;5;241m=\u001b[39m res\n\u001b[1;32m     18\u001b[0m \u001b[38;5;28mprint\u001b[39m(\u001b[38;5;124m\"\u001b[39m\u001b[38;5;124m_____________________________\u001b[39m\u001b[38;5;124m\"\u001b[39m)\n",
      "Input \u001b[0;32mIn [23]\u001b[0m, in \u001b[0;36mattack\u001b[0;34m(model, method, d, md, bs)\u001b[0m\n\u001b[1;32m      1\u001b[0m \u001b[38;5;28;01mdef\u001b[39;00m \u001b[38;5;21mattack\u001b[39m(model, method, d, md, bs):\n\u001b[0;32m----> 2\u001b[0m     x_adv \u001b[38;5;241m=\u001b[39m \u001b[43mmethod\u001b[49m\u001b[38;5;241;43m.\u001b[39;49m\u001b[43mgenerate\u001b[49m\u001b[43m(\u001b[49m\u001b[43md\u001b[49m\u001b[43m[\u001b[49m\u001b[38;5;124;43m'\u001b[39;49m\u001b[38;5;124;43mx\u001b[39;49m\u001b[38;5;124;43m'\u001b[39;49m\u001b[43m]\u001b[49m\u001b[43m,\u001b[49m\u001b[43m \u001b[49m\u001b[43mverbose\u001b[49m\u001b[38;5;241;43m=\u001b[39;49m\u001b[38;5;28;43;01mTrue\u001b[39;49;00m\u001b[43m)\u001b[49m\n\u001b[1;32m      4\u001b[0m     mi, fi \u001b[38;5;241m=\u001b[39m get_m_f_data(md)\n\u001b[1;32m      6\u001b[0m     \u001b[38;5;28;01mdef\u001b[39;00m \u001b[38;5;21mcompute_attack\u001b[39m(model, adv, x, y):\n",
      "File \u001b[0;32m~/.conda/envs/thesis/lib/python3.9/site-packages/art/attacks/evasion/boundary.py:179\u001b[0m, in \u001b[0;36mBoundaryAttack.generate\u001b[0;34m(self, x, y, **kwargs)\u001b[0m\n\u001b[1;32m    169\u001b[0m         x_adv[ind] \u001b[38;5;241m=\u001b[39m \u001b[38;5;28mself\u001b[39m\u001b[38;5;241m.\u001b[39m_perturb(\n\u001b[1;32m    170\u001b[0m             x\u001b[38;5;241m=\u001b[39mval,\n\u001b[1;32m    171\u001b[0m             y\u001b[38;5;241m=\u001b[39my[ind],\n\u001b[0;32m   (...)\u001b[0m\n\u001b[1;32m    176\u001b[0m             clip_max\u001b[38;5;241m=\u001b[39mclip_max,\n\u001b[1;32m    177\u001b[0m         )\n\u001b[1;32m    178\u001b[0m     \u001b[38;5;28;01melse\u001b[39;00m:\n\u001b[0;32m--> 179\u001b[0m         x_adv[ind] \u001b[38;5;241m=\u001b[39m \u001b[38;5;28;43mself\u001b[39;49m\u001b[38;5;241;43m.\u001b[39;49m\u001b[43m_perturb\u001b[49m\u001b[43m(\u001b[49m\n\u001b[1;32m    180\u001b[0m \u001b[43m            \u001b[49m\u001b[43mx\u001b[49m\u001b[38;5;241;43m=\u001b[39;49m\u001b[43mval\u001b[49m\u001b[43m,\u001b[49m\n\u001b[1;32m    181\u001b[0m \u001b[43m            \u001b[49m\u001b[43my\u001b[49m\u001b[38;5;241;43m=\u001b[39;49m\u001b[38;5;241;43m-\u001b[39;49m\u001b[38;5;241;43m1\u001b[39;49m\u001b[43m,\u001b[49m\n\u001b[1;32m    182\u001b[0m \u001b[43m            \u001b[49m\u001b[43my_p\u001b[49m\u001b[38;5;241;43m=\u001b[39;49m\u001b[43mpreds\u001b[49m\u001b[43m[\u001b[49m\u001b[43mind\u001b[49m\u001b[43m]\u001b[49m\u001b[43m,\u001b[49m\n\u001b[1;32m    183\u001b[0m \u001b[43m            \u001b[49m\u001b[43minit_pred\u001b[49m\u001b[38;5;241;43m=\u001b[39;49m\u001b[43minit_preds\u001b[49m\u001b[43m[\u001b[49m\u001b[43mind\u001b[49m\u001b[43m]\u001b[49m\u001b[43m,\u001b[49m\n\u001b[1;32m    184\u001b[0m \u001b[43m            \u001b[49m\u001b[43madv_init\u001b[49m\u001b[38;5;241;43m=\u001b[39;49m\u001b[43mx_adv_init\u001b[49m\u001b[43m[\u001b[49m\u001b[43mind\u001b[49m\u001b[43m]\u001b[49m\u001b[43m,\u001b[49m\n\u001b[1;32m    185\u001b[0m \u001b[43m            \u001b[49m\u001b[43mclip_min\u001b[49m\u001b[38;5;241;43m=\u001b[39;49m\u001b[43mclip_min\u001b[49m\u001b[43m,\u001b[49m\n\u001b[1;32m    186\u001b[0m \u001b[43m            \u001b[49m\u001b[43mclip_max\u001b[49m\u001b[38;5;241;43m=\u001b[39;49m\u001b[43mclip_max\u001b[49m\u001b[43m,\u001b[49m\n\u001b[1;32m    187\u001b[0m \u001b[43m        \u001b[49m\u001b[43m)\u001b[49m\n\u001b[1;32m    189\u001b[0m y \u001b[38;5;241m=\u001b[39m to_categorical(y, \u001b[38;5;28mself\u001b[39m\u001b[38;5;241m.\u001b[39mestimator\u001b[38;5;241m.\u001b[39mnb_classes)\n\u001b[1;32m    191\u001b[0m logger\u001b[38;5;241m.\u001b[39minfo(\n\u001b[1;32m    192\u001b[0m     \u001b[38;5;124m\"\u001b[39m\u001b[38;5;124mSuccess rate of Boundary attack: \u001b[39m\u001b[38;5;132;01m%.2f\u001b[39;00m\u001b[38;5;132;01m%%\u001b[39;00m\u001b[38;5;124m\"\u001b[39m,\n\u001b[1;32m    193\u001b[0m     \u001b[38;5;241m100\u001b[39m \u001b[38;5;241m*\u001b[39m compute_success(\u001b[38;5;28mself\u001b[39m\u001b[38;5;241m.\u001b[39mestimator, x, y, x_adv, \u001b[38;5;28mself\u001b[39m\u001b[38;5;241m.\u001b[39mtargeted, batch_size\u001b[38;5;241m=\u001b[39m\u001b[38;5;28mself\u001b[39m\u001b[38;5;241m.\u001b[39mbatch_size),\n\u001b[1;32m    194\u001b[0m )\n",
      "File \u001b[0;32m~/.conda/envs/thesis/lib/python3.9/site-packages/art/attacks/evasion/boundary.py:228\u001b[0m, in \u001b[0;36mBoundaryAttack._perturb\u001b[0;34m(self, x, y, y_p, init_pred, adv_init, clip_min, clip_max)\u001b[0m\n\u001b[1;32m    225\u001b[0m     \u001b[38;5;28;01mreturn\u001b[39;00m x\n\u001b[1;32m    227\u001b[0m \u001b[38;5;66;03m# If an initial adversarial example found, then go with boundary attack\u001b[39;00m\n\u001b[0;32m--> 228\u001b[0m x_adv \u001b[38;5;241m=\u001b[39m \u001b[38;5;28;43mself\u001b[39;49m\u001b[38;5;241;43m.\u001b[39;49m\u001b[43m_attack\u001b[49m\u001b[43m(\u001b[49m\n\u001b[1;32m    229\u001b[0m \u001b[43m    \u001b[49m\u001b[43minitial_sample\u001b[49m\u001b[43m[\u001b[49m\u001b[38;5;241;43m0\u001b[39;49m\u001b[43m]\u001b[49m\u001b[43m,\u001b[49m\n\u001b[1;32m    230\u001b[0m \u001b[43m    \u001b[49m\u001b[43mx\u001b[49m\u001b[43m,\u001b[49m\n\u001b[1;32m    231\u001b[0m \u001b[43m    \u001b[49m\u001b[43my_p\u001b[49m\u001b[43m,\u001b[49m\n\u001b[1;32m    232\u001b[0m \u001b[43m    \u001b[49m\u001b[43minitial_sample\u001b[49m\u001b[43m[\u001b[49m\u001b[38;5;241;43m1\u001b[39;49m\u001b[43m]\u001b[49m\u001b[43m,\u001b[49m\n\u001b[1;32m    233\u001b[0m \u001b[43m    \u001b[49m\u001b[38;5;28;43mself\u001b[39;49m\u001b[38;5;241;43m.\u001b[39;49m\u001b[43mdelta\u001b[49m\u001b[43m,\u001b[49m\n\u001b[1;32m    234\u001b[0m \u001b[43m    \u001b[49m\u001b[38;5;28;43mself\u001b[39;49m\u001b[38;5;241;43m.\u001b[39;49m\u001b[43mepsilon\u001b[49m\u001b[43m,\u001b[49m\n\u001b[1;32m    235\u001b[0m \u001b[43m    \u001b[49m\u001b[43mclip_min\u001b[49m\u001b[43m,\u001b[49m\n\u001b[1;32m    236\u001b[0m \u001b[43m    \u001b[49m\u001b[43mclip_max\u001b[49m\u001b[43m,\u001b[49m\n\u001b[1;32m    237\u001b[0m \u001b[43m\u001b[49m\u001b[43m)\u001b[49m\n\u001b[1;32m    239\u001b[0m \u001b[38;5;28;01mreturn\u001b[39;00m x_adv\n",
      "File \u001b[0;32m~/.conda/envs/thesis/lib/python3.9/site-packages/art/attacks/evasion/boundary.py:283\u001b[0m, in \u001b[0;36mBoundaryAttack._attack\u001b[0;34m(self, initial_sample, original_sample, y_p, target, initial_delta, initial_epsilon, clip_min, clip_max)\u001b[0m\n\u001b[1;32m    279\u001b[0m     potential_adv \u001b[38;5;241m=\u001b[39m np\u001b[38;5;241m.\u001b[39mclip(potential_adv, clip_min, clip_max)\n\u001b[1;32m    280\u001b[0m     potential_advs\u001b[38;5;241m.\u001b[39mappend(potential_adv)\n\u001b[1;32m    282\u001b[0m preds \u001b[38;5;241m=\u001b[39m np\u001b[38;5;241m.\u001b[39margmax(\n\u001b[0;32m--> 283\u001b[0m     \u001b[38;5;28;43mself\u001b[39;49m\u001b[38;5;241;43m.\u001b[39;49m\u001b[43mestimator\u001b[49m\u001b[38;5;241;43m.\u001b[39;49m\u001b[43mpredict\u001b[49m\u001b[43m(\u001b[49m\u001b[43mnp\u001b[49m\u001b[38;5;241;43m.\u001b[39;49m\u001b[43marray\u001b[49m\u001b[43m(\u001b[49m\u001b[43mpotential_advs\u001b[49m\u001b[43m)\u001b[49m\u001b[43m,\u001b[49m\u001b[43m \u001b[49m\u001b[43mbatch_size\u001b[49m\u001b[38;5;241;43m=\u001b[39;49m\u001b[38;5;28;43mself\u001b[39;49m\u001b[38;5;241;43m.\u001b[39;49m\u001b[43mbatch_size\u001b[49m\u001b[43m)\u001b[49m,\n\u001b[1;32m    284\u001b[0m     axis\u001b[38;5;241m=\u001b[39m\u001b[38;5;241m1\u001b[39m,\n\u001b[1;32m    285\u001b[0m )\n\u001b[1;32m    287\u001b[0m \u001b[38;5;28;01mif\u001b[39;00m \u001b[38;5;28mself\u001b[39m\u001b[38;5;241m.\u001b[39mtargeted:\n\u001b[1;32m    288\u001b[0m     satisfied \u001b[38;5;241m=\u001b[39m preds \u001b[38;5;241m==\u001b[39m target\n",
      "File \u001b[0;32m~/.conda/envs/thesis/lib/python3.9/site-packages/art/estimators/classification/classifier.py:74\u001b[0m, in \u001b[0;36mInputFilter.__init__.<locals>.make_replacement.<locals>.replacement_function\u001b[0;34m(self, *args, **kwargs)\u001b[0m\n\u001b[1;32m     72\u001b[0m \u001b[38;5;28;01mif\u001b[39;00m \u001b[38;5;28mlen\u001b[39m(args) \u001b[38;5;241m>\u001b[39m \u001b[38;5;241m0\u001b[39m:\n\u001b[1;32m     73\u001b[0m     args \u001b[38;5;241m=\u001b[39m \u001b[38;5;28mtuple\u001b[39m(lst)\n\u001b[0;32m---> 74\u001b[0m \u001b[38;5;28;01mreturn\u001b[39;00m \u001b[43mfdict\u001b[49m\u001b[43m[\u001b[49m\u001b[43mfunc_name\u001b[49m\u001b[43m]\u001b[49m\u001b[43m(\u001b[49m\u001b[38;5;28;43mself\u001b[39;49m\u001b[43m,\u001b[49m\u001b[43m \u001b[49m\u001b[38;5;241;43m*\u001b[39;49m\u001b[43margs\u001b[49m\u001b[43m,\u001b[49m\u001b[43m \u001b[49m\u001b[38;5;241;43m*\u001b[39;49m\u001b[38;5;241;43m*\u001b[39;49m\u001b[43mkwargs\u001b[49m\u001b[43m)\u001b[49m\n",
      "File \u001b[0;32m~/.conda/envs/thesis/lib/python3.9/site-packages/art/estimators/classification/tensorflow.py:908\u001b[0m, in \u001b[0;36mTensorFlowV2Classifier.predict\u001b[0;34m(self, x, batch_size, training_mode, **kwargs)\u001b[0m\n\u001b[1;32m    902\u001b[0m     begin, end \u001b[38;5;241m=\u001b[39m (\n\u001b[1;32m    903\u001b[0m         m \u001b[38;5;241m*\u001b[39m batch_size,\n\u001b[1;32m    904\u001b[0m         \u001b[38;5;28mmin\u001b[39m((m \u001b[38;5;241m+\u001b[39m \u001b[38;5;241m1\u001b[39m) \u001b[38;5;241m*\u001b[39m batch_size, x_preprocessed\u001b[38;5;241m.\u001b[39mshape[\u001b[38;5;241m0\u001b[39m]),\n\u001b[1;32m    905\u001b[0m     )\n\u001b[1;32m    907\u001b[0m     \u001b[38;5;66;03m# Run prediction\u001b[39;00m\n\u001b[0;32m--> 908\u001b[0m     results_list\u001b[38;5;241m.\u001b[39mappend(\u001b[38;5;28;43mself\u001b[39;49m\u001b[38;5;241;43m.\u001b[39;49m\u001b[43m_model\u001b[49m\u001b[43m(\u001b[49m\u001b[43mx_preprocessed\u001b[49m\u001b[43m[\u001b[49m\u001b[43mbegin\u001b[49m\u001b[43m:\u001b[49m\u001b[43mend\u001b[49m\u001b[43m]\u001b[49m\u001b[43m,\u001b[49m\u001b[43m \u001b[49m\u001b[43mtraining\u001b[49m\u001b[38;5;241;43m=\u001b[39;49m\u001b[43mtraining_mode\u001b[49m\u001b[43m)\u001b[49m)\n\u001b[1;32m    910\u001b[0m results \u001b[38;5;241m=\u001b[39m np\u001b[38;5;241m.\u001b[39mvstack(results_list)\n\u001b[1;32m    912\u001b[0m \u001b[38;5;66;03m# Apply postprocessing\u001b[39;00m\n",
      "File \u001b[0;32m~/.conda/envs/thesis/lib/python3.9/site-packages/tensorflow/python/keras/engine/base_layer.py:1012\u001b[0m, in \u001b[0;36mLayer.__call__\u001b[0;34m(self, *args, **kwargs)\u001b[0m\n\u001b[1;32m   1008\u001b[0m   \u001b[38;5;28mself\u001b[39m\u001b[38;5;241m.\u001b[39m_maybe_build(inputs)\n\u001b[1;32m   1010\u001b[0m \u001b[38;5;28;01mwith\u001b[39;00m autocast_variable\u001b[38;5;241m.\u001b[39menable_auto_cast_variables(\n\u001b[1;32m   1011\u001b[0m     \u001b[38;5;28mself\u001b[39m\u001b[38;5;241m.\u001b[39m_compute_dtype_object):\n\u001b[0;32m-> 1012\u001b[0m   outputs \u001b[38;5;241m=\u001b[39m \u001b[43mcall_fn\u001b[49m\u001b[43m(\u001b[49m\u001b[43minputs\u001b[49m\u001b[43m,\u001b[49m\u001b[43m \u001b[49m\u001b[38;5;241;43m*\u001b[39;49m\u001b[43margs\u001b[49m\u001b[43m,\u001b[49m\u001b[43m \u001b[49m\u001b[38;5;241;43m*\u001b[39;49m\u001b[38;5;241;43m*\u001b[39;49m\u001b[43mkwargs\u001b[49m\u001b[43m)\u001b[49m\n\u001b[1;32m   1014\u001b[0m \u001b[38;5;28;01mif\u001b[39;00m \u001b[38;5;28mself\u001b[39m\u001b[38;5;241m.\u001b[39m_activity_regularizer:\n\u001b[1;32m   1015\u001b[0m   \u001b[38;5;28mself\u001b[39m\u001b[38;5;241m.\u001b[39m_handle_activity_regularization(inputs, outputs)\n",
      "File \u001b[0;32m~/.conda/envs/thesis/lib/python3.9/site-packages/tensorflow/python/keras/engine/sequential.py:375\u001b[0m, in \u001b[0;36mSequential.call\u001b[0;34m(self, inputs, training, mask)\u001b[0m\n\u001b[1;32m    373\u001b[0m   \u001b[38;5;28;01mif\u001b[39;00m \u001b[38;5;129;01mnot\u001b[39;00m \u001b[38;5;28mself\u001b[39m\u001b[38;5;241m.\u001b[39mbuilt:\n\u001b[1;32m    374\u001b[0m     \u001b[38;5;28mself\u001b[39m\u001b[38;5;241m.\u001b[39m_init_graph_network(\u001b[38;5;28mself\u001b[39m\u001b[38;5;241m.\u001b[39minputs, \u001b[38;5;28mself\u001b[39m\u001b[38;5;241m.\u001b[39moutputs)\n\u001b[0;32m--> 375\u001b[0m   \u001b[38;5;28;01mreturn\u001b[39;00m \u001b[38;5;28;43msuper\u001b[39;49m\u001b[43m(\u001b[49m\u001b[43mSequential\u001b[49m\u001b[43m,\u001b[49m\u001b[43m \u001b[49m\u001b[38;5;28;43mself\u001b[39;49m\u001b[43m)\u001b[49m\u001b[38;5;241;43m.\u001b[39;49m\u001b[43mcall\u001b[49m\u001b[43m(\u001b[49m\u001b[43minputs\u001b[49m\u001b[43m,\u001b[49m\u001b[43m \u001b[49m\u001b[43mtraining\u001b[49m\u001b[38;5;241;43m=\u001b[39;49m\u001b[43mtraining\u001b[49m\u001b[43m,\u001b[49m\u001b[43m \u001b[49m\u001b[43mmask\u001b[49m\u001b[38;5;241;43m=\u001b[39;49m\u001b[43mmask\u001b[49m\u001b[43m)\u001b[49m\n\u001b[1;32m    377\u001b[0m outputs \u001b[38;5;241m=\u001b[39m inputs  \u001b[38;5;66;03m# handle the corner case where self.layers is empty\u001b[39;00m\n\u001b[1;32m    378\u001b[0m \u001b[38;5;28;01mfor\u001b[39;00m layer \u001b[38;5;129;01min\u001b[39;00m \u001b[38;5;28mself\u001b[39m\u001b[38;5;241m.\u001b[39mlayers:\n\u001b[1;32m    379\u001b[0m   \u001b[38;5;66;03m# During each iteration, `inputs` are the inputs to `layer`, and `outputs`\u001b[39;00m\n\u001b[1;32m    380\u001b[0m   \u001b[38;5;66;03m# are the outputs of `layer` applied to `inputs`. At the end of each\u001b[39;00m\n\u001b[1;32m    381\u001b[0m   \u001b[38;5;66;03m# iteration `inputs` is set to `outputs` to prepare for the next layer.\u001b[39;00m\n",
      "File \u001b[0;32m~/.conda/envs/thesis/lib/python3.9/site-packages/tensorflow/python/keras/engine/functional.py:424\u001b[0m, in \u001b[0;36mFunctional.call\u001b[0;34m(self, inputs, training, mask)\u001b[0m\n\u001b[1;32m    406\u001b[0m \u001b[38;5;28;01mdef\u001b[39;00m \u001b[38;5;21mcall\u001b[39m(\u001b[38;5;28mself\u001b[39m, inputs, training\u001b[38;5;241m=\u001b[39m\u001b[38;5;28;01mNone\u001b[39;00m, mask\u001b[38;5;241m=\u001b[39m\u001b[38;5;28;01mNone\u001b[39;00m):\n\u001b[1;32m    407\u001b[0m   \u001b[38;5;124;03m\"\"\"Calls the model on new inputs.\u001b[39;00m\n\u001b[1;32m    408\u001b[0m \n\u001b[1;32m    409\u001b[0m \u001b[38;5;124;03m  In this case `call` just reapplies\u001b[39;00m\n\u001b[0;32m   (...)\u001b[0m\n\u001b[1;32m    422\u001b[0m \u001b[38;5;124;03m      a list of tensors if there are more than one outputs.\u001b[39;00m\n\u001b[1;32m    423\u001b[0m \u001b[38;5;124;03m  \"\"\"\u001b[39;00m\n\u001b[0;32m--> 424\u001b[0m   \u001b[38;5;28;01mreturn\u001b[39;00m \u001b[38;5;28;43mself\u001b[39;49m\u001b[38;5;241;43m.\u001b[39;49m\u001b[43m_run_internal_graph\u001b[49m\u001b[43m(\u001b[49m\n\u001b[1;32m    425\u001b[0m \u001b[43m      \u001b[49m\u001b[43minputs\u001b[49m\u001b[43m,\u001b[49m\u001b[43m \u001b[49m\u001b[43mtraining\u001b[49m\u001b[38;5;241;43m=\u001b[39;49m\u001b[43mtraining\u001b[49m\u001b[43m,\u001b[49m\u001b[43m \u001b[49m\u001b[43mmask\u001b[49m\u001b[38;5;241;43m=\u001b[39;49m\u001b[43mmask\u001b[49m\u001b[43m)\u001b[49m\n",
      "File \u001b[0;32m~/.conda/envs/thesis/lib/python3.9/site-packages/tensorflow/python/keras/engine/functional.py:560\u001b[0m, in \u001b[0;36mFunctional._run_internal_graph\u001b[0;34m(self, inputs, training, mask)\u001b[0m\n\u001b[1;32m    557\u001b[0m   \u001b[38;5;28;01mcontinue\u001b[39;00m  \u001b[38;5;66;03m# Node is not computable, try skipping.\u001b[39;00m\n\u001b[1;32m    559\u001b[0m args, kwargs \u001b[38;5;241m=\u001b[39m node\u001b[38;5;241m.\u001b[39mmap_arguments(tensor_dict)\n\u001b[0;32m--> 560\u001b[0m outputs \u001b[38;5;241m=\u001b[39m \u001b[43mnode\u001b[49m\u001b[38;5;241;43m.\u001b[39;49m\u001b[43mlayer\u001b[49m\u001b[43m(\u001b[49m\u001b[38;5;241;43m*\u001b[39;49m\u001b[43margs\u001b[49m\u001b[43m,\u001b[49m\u001b[43m \u001b[49m\u001b[38;5;241;43m*\u001b[39;49m\u001b[38;5;241;43m*\u001b[39;49m\u001b[43mkwargs\u001b[49m\u001b[43m)\u001b[49m\n\u001b[1;32m    562\u001b[0m \u001b[38;5;66;03m# Update tensor_dict.\u001b[39;00m\n\u001b[1;32m    563\u001b[0m \u001b[38;5;28;01mfor\u001b[39;00m x_id, y \u001b[38;5;129;01min\u001b[39;00m \u001b[38;5;28mzip\u001b[39m(node\u001b[38;5;241m.\u001b[39mflat_output_ids, nest\u001b[38;5;241m.\u001b[39mflatten(outputs)):\n",
      "File \u001b[0;32m~/.conda/envs/thesis/lib/python3.9/site-packages/tensorflow/python/keras/layers/wrappers.py:539\u001b[0m, in \u001b[0;36mBidirectional.__call__\u001b[0;34m(self, inputs, initial_state, constants, **kwargs)\u001b[0m\n\u001b[1;32m    536\u001b[0m   inputs \u001b[38;5;241m=\u001b[39m inputs[\u001b[38;5;241m0\u001b[39m]\n\u001b[1;32m    538\u001b[0m \u001b[38;5;28;01mif\u001b[39;00m initial_state \u001b[38;5;129;01mis\u001b[39;00m \u001b[38;5;28;01mNone\u001b[39;00m \u001b[38;5;129;01mand\u001b[39;00m constants \u001b[38;5;129;01mis\u001b[39;00m \u001b[38;5;28;01mNone\u001b[39;00m:\n\u001b[0;32m--> 539\u001b[0m   \u001b[38;5;28;01mreturn\u001b[39;00m \u001b[38;5;28;43msuper\u001b[39;49m\u001b[43m(\u001b[49m\u001b[43mBidirectional\u001b[49m\u001b[43m,\u001b[49m\u001b[43m \u001b[49m\u001b[38;5;28;43mself\u001b[39;49m\u001b[43m)\u001b[49m\u001b[38;5;241;43m.\u001b[39;49m\u001b[38;5;21;43m__call__\u001b[39;49m\u001b[43m(\u001b[49m\u001b[43minputs\u001b[49m\u001b[43m,\u001b[49m\u001b[43m \u001b[49m\u001b[38;5;241;43m*\u001b[39;49m\u001b[38;5;241;43m*\u001b[39;49m\u001b[43mkwargs\u001b[49m\u001b[43m)\u001b[49m\n\u001b[1;32m    541\u001b[0m \u001b[38;5;66;03m# Applies the same workaround as in `RNN.__call__`\u001b[39;00m\n\u001b[1;32m    542\u001b[0m additional_inputs \u001b[38;5;241m=\u001b[39m []\n",
      "File \u001b[0;32m~/.conda/envs/thesis/lib/python3.9/site-packages/tensorflow/python/keras/engine/base_layer.py:1012\u001b[0m, in \u001b[0;36mLayer.__call__\u001b[0;34m(self, *args, **kwargs)\u001b[0m\n\u001b[1;32m   1008\u001b[0m   \u001b[38;5;28mself\u001b[39m\u001b[38;5;241m.\u001b[39m_maybe_build(inputs)\n\u001b[1;32m   1010\u001b[0m \u001b[38;5;28;01mwith\u001b[39;00m autocast_variable\u001b[38;5;241m.\u001b[39menable_auto_cast_variables(\n\u001b[1;32m   1011\u001b[0m     \u001b[38;5;28mself\u001b[39m\u001b[38;5;241m.\u001b[39m_compute_dtype_object):\n\u001b[0;32m-> 1012\u001b[0m   outputs \u001b[38;5;241m=\u001b[39m \u001b[43mcall_fn\u001b[49m\u001b[43m(\u001b[49m\u001b[43minputs\u001b[49m\u001b[43m,\u001b[49m\u001b[43m \u001b[49m\u001b[38;5;241;43m*\u001b[39;49m\u001b[43margs\u001b[49m\u001b[43m,\u001b[49m\u001b[43m \u001b[49m\u001b[38;5;241;43m*\u001b[39;49m\u001b[38;5;241;43m*\u001b[39;49m\u001b[43mkwargs\u001b[49m\u001b[43m)\u001b[49m\n\u001b[1;32m   1014\u001b[0m \u001b[38;5;28;01mif\u001b[39;00m \u001b[38;5;28mself\u001b[39m\u001b[38;5;241m.\u001b[39m_activity_regularizer:\n\u001b[1;32m   1015\u001b[0m   \u001b[38;5;28mself\u001b[39m\u001b[38;5;241m.\u001b[39m_handle_activity_regularization(inputs, outputs)\n",
      "File \u001b[0;32m~/.conda/envs/thesis/lib/python3.9/site-packages/tensorflow/python/keras/layers/wrappers.py:652\u001b[0m, in \u001b[0;36mBidirectional.call\u001b[0;34m(self, inputs, training, mask, initial_state, constants)\u001b[0m\n\u001b[1;32m    649\u001b[0m     forward_inputs, backward_inputs \u001b[38;5;241m=\u001b[39m inputs, inputs\n\u001b[1;32m    650\u001b[0m     forward_state, backward_state \u001b[38;5;241m=\u001b[39m \u001b[38;5;28;01mNone\u001b[39;00m, \u001b[38;5;28;01mNone\u001b[39;00m\n\u001b[0;32m--> 652\u001b[0m   y \u001b[38;5;241m=\u001b[39m \u001b[38;5;28;43mself\u001b[39;49m\u001b[38;5;241;43m.\u001b[39;49m\u001b[43mforward_layer\u001b[49m\u001b[43m(\u001b[49m\u001b[43mforward_inputs\u001b[49m\u001b[43m,\u001b[49m\n\u001b[1;32m    653\u001b[0m \u001b[43m                         \u001b[49m\u001b[43minitial_state\u001b[49m\u001b[38;5;241;43m=\u001b[39;49m\u001b[43mforward_state\u001b[49m\u001b[43m,\u001b[49m\u001b[43m \u001b[49m\u001b[38;5;241;43m*\u001b[39;49m\u001b[38;5;241;43m*\u001b[39;49m\u001b[43mkwargs\u001b[49m\u001b[43m)\u001b[49m\n\u001b[1;32m    654\u001b[0m   y_rev \u001b[38;5;241m=\u001b[39m \u001b[38;5;28mself\u001b[39m\u001b[38;5;241m.\u001b[39mbackward_layer(backward_inputs,\n\u001b[1;32m    655\u001b[0m                               initial_state\u001b[38;5;241m=\u001b[39mbackward_state, \u001b[38;5;241m*\u001b[39m\u001b[38;5;241m*\u001b[39mkwargs)\n\u001b[1;32m    656\u001b[0m \u001b[38;5;28;01melse\u001b[39;00m:\n",
      "File \u001b[0;32m~/.conda/envs/thesis/lib/python3.9/site-packages/tensorflow/python/keras/layers/recurrent.py:660\u001b[0m, in \u001b[0;36mRNN.__call__\u001b[0;34m(self, inputs, initial_state, constants, **kwargs)\u001b[0m\n\u001b[1;32m    654\u001b[0m inputs, initial_state, constants \u001b[38;5;241m=\u001b[39m _standardize_args(inputs,\n\u001b[1;32m    655\u001b[0m                                                      initial_state,\n\u001b[1;32m    656\u001b[0m                                                      constants,\n\u001b[1;32m    657\u001b[0m                                                      \u001b[38;5;28mself\u001b[39m\u001b[38;5;241m.\u001b[39m_num_constants)\n\u001b[1;32m    659\u001b[0m \u001b[38;5;28;01mif\u001b[39;00m initial_state \u001b[38;5;129;01mis\u001b[39;00m \u001b[38;5;28;01mNone\u001b[39;00m \u001b[38;5;129;01mand\u001b[39;00m constants \u001b[38;5;129;01mis\u001b[39;00m \u001b[38;5;28;01mNone\u001b[39;00m:\n\u001b[0;32m--> 660\u001b[0m   \u001b[38;5;28;01mreturn\u001b[39;00m \u001b[38;5;28;43msuper\u001b[39;49m\u001b[43m(\u001b[49m\u001b[43mRNN\u001b[49m\u001b[43m,\u001b[49m\u001b[43m \u001b[49m\u001b[38;5;28;43mself\u001b[39;49m\u001b[43m)\u001b[49m\u001b[38;5;241;43m.\u001b[39;49m\u001b[38;5;21;43m__call__\u001b[39;49m\u001b[43m(\u001b[49m\u001b[43minputs\u001b[49m\u001b[43m,\u001b[49m\u001b[43m \u001b[49m\u001b[38;5;241;43m*\u001b[39;49m\u001b[38;5;241;43m*\u001b[39;49m\u001b[43mkwargs\u001b[49m\u001b[43m)\u001b[49m\n\u001b[1;32m    662\u001b[0m \u001b[38;5;66;03m# If any of `initial_state` or `constants` are specified and are Keras\u001b[39;00m\n\u001b[1;32m    663\u001b[0m \u001b[38;5;66;03m# tensors, then add them to the inputs and temporarily modify the\u001b[39;00m\n\u001b[1;32m    664\u001b[0m \u001b[38;5;66;03m# input_spec to include them.\u001b[39;00m\n\u001b[1;32m    666\u001b[0m additional_inputs \u001b[38;5;241m=\u001b[39m []\n",
      "File \u001b[0;32m~/.conda/envs/thesis/lib/python3.9/site-packages/tensorflow/python/keras/engine/base_layer.py:1012\u001b[0m, in \u001b[0;36mLayer.__call__\u001b[0;34m(self, *args, **kwargs)\u001b[0m\n\u001b[1;32m   1008\u001b[0m   \u001b[38;5;28mself\u001b[39m\u001b[38;5;241m.\u001b[39m_maybe_build(inputs)\n\u001b[1;32m   1010\u001b[0m \u001b[38;5;28;01mwith\u001b[39;00m autocast_variable\u001b[38;5;241m.\u001b[39menable_auto_cast_variables(\n\u001b[1;32m   1011\u001b[0m     \u001b[38;5;28mself\u001b[39m\u001b[38;5;241m.\u001b[39m_compute_dtype_object):\n\u001b[0;32m-> 1012\u001b[0m   outputs \u001b[38;5;241m=\u001b[39m \u001b[43mcall_fn\u001b[49m\u001b[43m(\u001b[49m\u001b[43minputs\u001b[49m\u001b[43m,\u001b[49m\u001b[43m \u001b[49m\u001b[38;5;241;43m*\u001b[39;49m\u001b[43margs\u001b[49m\u001b[43m,\u001b[49m\u001b[43m \u001b[49m\u001b[38;5;241;43m*\u001b[39;49m\u001b[38;5;241;43m*\u001b[39;49m\u001b[43mkwargs\u001b[49m\u001b[43m)\u001b[49m\n\u001b[1;32m   1014\u001b[0m \u001b[38;5;28;01mif\u001b[39;00m \u001b[38;5;28mself\u001b[39m\u001b[38;5;241m.\u001b[39m_activity_regularizer:\n\u001b[1;32m   1015\u001b[0m   \u001b[38;5;28mself\u001b[39m\u001b[38;5;241m.\u001b[39m_handle_activity_regularization(inputs, outputs)\n",
      "File \u001b[0;32m~/.conda/envs/thesis/lib/python3.9/site-packages/tensorflow/python/keras/layers/recurrent_v2.py:1194\u001b[0m, in \u001b[0;36mLSTM.call\u001b[0;34m(self, inputs, mask, training, initial_state)\u001b[0m\n\u001b[1;32m   1187\u001b[0m \u001b[38;5;28;01melse\u001b[39;00m:\n\u001b[1;32m   1188\u001b[0m   \u001b[38;5;66;03m# Use the new defun approach for backend implementation swap.\u001b[39;00m\n\u001b[1;32m   1189\u001b[0m   \u001b[38;5;66;03m# Note that different implementations need to have same function\u001b[39;00m\n\u001b[1;32m   1190\u001b[0m   \u001b[38;5;66;03m# signature, eg, the tensor parameters need to have same shape and dtypes.\u001b[39;00m\n\u001b[1;32m   1191\u001b[0m   \u001b[38;5;66;03m# Since the CuDNN has an extra set of bias, those bias will be passed to\u001b[39;00m\n\u001b[1;32m   1192\u001b[0m   \u001b[38;5;66;03m# both normal and CuDNN implementations.\u001b[39;00m\n\u001b[1;32m   1193\u001b[0m   \u001b[38;5;28mself\u001b[39m\u001b[38;5;241m.\u001b[39mreset_dropout_mask()\n\u001b[0;32m-> 1194\u001b[0m   dropout_mask \u001b[38;5;241m=\u001b[39m \u001b[38;5;28;43mself\u001b[39;49m\u001b[38;5;241;43m.\u001b[39;49m\u001b[43mget_dropout_mask_for_cell\u001b[49m\u001b[43m(\u001b[49m\u001b[43minputs\u001b[49m\u001b[43m,\u001b[49m\u001b[43m \u001b[49m\u001b[43mtraining\u001b[49m\u001b[43m,\u001b[49m\u001b[43m \u001b[49m\u001b[43mcount\u001b[49m\u001b[38;5;241;43m=\u001b[39;49m\u001b[38;5;241;43m4\u001b[39;49m\u001b[43m)\u001b[49m\n\u001b[1;32m   1195\u001b[0m   \u001b[38;5;28;01mif\u001b[39;00m dropout_mask \u001b[38;5;129;01mis\u001b[39;00m \u001b[38;5;129;01mnot\u001b[39;00m \u001b[38;5;28;01mNone\u001b[39;00m:\n\u001b[1;32m   1196\u001b[0m     inputs \u001b[38;5;241m=\u001b[39m inputs \u001b[38;5;241m*\u001b[39m dropout_mask[\u001b[38;5;241m0\u001b[39m]\n",
      "File \u001b[0;32m~/.conda/envs/thesis/lib/python3.9/site-packages/tensorflow/python/keras/layers/recurrent.py:1182\u001b[0m, in \u001b[0;36mDropoutRNNCellMixin.get_dropout_mask_for_cell\u001b[0;34m(self, inputs, training, count)\u001b[0m\n\u001b[1;32m   1180\u001b[0m   \u001b[38;5;28;01mreturn\u001b[39;00m \u001b[38;5;28;01mNone\u001b[39;00m\n\u001b[1;32m   1181\u001b[0m init_kwargs \u001b[38;5;241m=\u001b[39m \u001b[38;5;28mdict\u001b[39m(inputs\u001b[38;5;241m=\u001b[39minputs, training\u001b[38;5;241m=\u001b[39mtraining, count\u001b[38;5;241m=\u001b[39mcount)\n\u001b[0;32m-> 1182\u001b[0m \u001b[38;5;28;01mreturn\u001b[39;00m \u001b[38;5;28;43mself\u001b[39;49m\u001b[38;5;241;43m.\u001b[39;49m\u001b[43m_dropout_mask_cache\u001b[49m\u001b[38;5;241;43m.\u001b[39;49m\u001b[43msetdefault\u001b[49m\u001b[43m(\u001b[49m\u001b[43mkwargs\u001b[49m\u001b[38;5;241;43m=\u001b[39;49m\u001b[43minit_kwargs\u001b[49m\u001b[43m)\u001b[49m\n",
      "File \u001b[0;32m~/.conda/envs/thesis/lib/python3.9/site-packages/tensorflow/python/keras/backend.py:6578\u001b[0m, in \u001b[0;36mContextValueCache.setdefault\u001b[0;34m(self, key, default, kwargs)\u001b[0m\n\u001b[1;32m   6575\u001b[0m kwargs \u001b[38;5;241m=\u001b[39m kwargs \u001b[38;5;129;01mor\u001b[39;00m {}\n\u001b[1;32m   6577\u001b[0m \u001b[38;5;28;01mif\u001b[39;00m default \u001b[38;5;129;01mis\u001b[39;00m \u001b[38;5;28;01mNone\u001b[39;00m \u001b[38;5;129;01mand\u001b[39;00m key \u001b[38;5;129;01mnot\u001b[39;00m \u001b[38;5;129;01min\u001b[39;00m \u001b[38;5;28mself\u001b[39m:\n\u001b[0;32m-> 6578\u001b[0m   default \u001b[38;5;241m=\u001b[39m \u001b[38;5;28;43mself\u001b[39;49m\u001b[38;5;241;43m.\u001b[39;49m\u001b[43mdefault_factory\u001b[49m\u001b[43m(\u001b[49m\u001b[38;5;241;43m*\u001b[39;49m\u001b[38;5;241;43m*\u001b[39;49m\u001b[43mkwargs\u001b[49m\u001b[43m)\u001b[49m\n\u001b[1;32m   6579\u001b[0m \u001b[38;5;28;01mreturn\u001b[39;00m weakref\u001b[38;5;241m.\u001b[39mWeakKeyDictionary\u001b[38;5;241m.\u001b[39msetdefault(\u001b[38;5;28mself\u001b[39m, key, default)\n",
      "File \u001b[0;32m~/.conda/envs/thesis/lib/python3.9/site-packages/tensorflow/python/keras/layers/recurrent.py:1151\u001b[0m, in \u001b[0;36mDropoutRNNCellMixin._create_dropout_mask\u001b[0;34m(self, inputs, training, count)\u001b[0m\n\u001b[1;32m   1149\u001b[0m \u001b[38;5;28;01mdef\u001b[39;00m \u001b[38;5;21m_create_dropout_mask\u001b[39m(\u001b[38;5;28mself\u001b[39m, inputs, training, count\u001b[38;5;241m=\u001b[39m\u001b[38;5;241m1\u001b[39m):\n\u001b[1;32m   1150\u001b[0m   \u001b[38;5;28;01mreturn\u001b[39;00m _generate_dropout_mask(\n\u001b[0;32m-> 1151\u001b[0m       \u001b[43marray_ops\u001b[49m\u001b[38;5;241;43m.\u001b[39;49m\u001b[43mones_like\u001b[49m\u001b[43m(\u001b[49m\u001b[43minputs\u001b[49m\u001b[43m)\u001b[49m,\n\u001b[1;32m   1152\u001b[0m       \u001b[38;5;28mself\u001b[39m\u001b[38;5;241m.\u001b[39mdropout,\n\u001b[1;32m   1153\u001b[0m       training\u001b[38;5;241m=\u001b[39mtraining,\n\u001b[1;32m   1154\u001b[0m       count\u001b[38;5;241m=\u001b[39mcount)\n",
      "File \u001b[0;32m~/.conda/envs/thesis/lib/python3.9/site-packages/tensorflow/python/util/dispatch.py:201\u001b[0m, in \u001b[0;36madd_dispatch_support.<locals>.wrapper\u001b[0;34m(*args, **kwargs)\u001b[0m\n\u001b[1;32m    199\u001b[0m \u001b[38;5;124;03m\"\"\"Call target, and fall back on dispatchers if there is a TypeError.\"\"\"\u001b[39;00m\n\u001b[1;32m    200\u001b[0m \u001b[38;5;28;01mtry\u001b[39;00m:\n\u001b[0;32m--> 201\u001b[0m   \u001b[38;5;28;01mreturn\u001b[39;00m \u001b[43mtarget\u001b[49m\u001b[43m(\u001b[49m\u001b[38;5;241;43m*\u001b[39;49m\u001b[43margs\u001b[49m\u001b[43m,\u001b[49m\u001b[43m \u001b[49m\u001b[38;5;241;43m*\u001b[39;49m\u001b[38;5;241;43m*\u001b[39;49m\u001b[43mkwargs\u001b[49m\u001b[43m)\u001b[49m\n\u001b[1;32m    202\u001b[0m \u001b[38;5;28;01mexcept\u001b[39;00m (\u001b[38;5;167;01mTypeError\u001b[39;00m, \u001b[38;5;167;01mValueError\u001b[39;00m):\n\u001b[1;32m    203\u001b[0m   \u001b[38;5;66;03m# Note: convert_to_eager_tensor currently raises a ValueError, not a\u001b[39;00m\n\u001b[1;32m    204\u001b[0m   \u001b[38;5;66;03m# TypeError, when given unexpected types.  So we need to catch both.\u001b[39;00m\n\u001b[1;32m    205\u001b[0m   result \u001b[38;5;241m=\u001b[39m dispatch(wrapper, args, kwargs)\n",
      "File \u001b[0;32m~/.conda/envs/thesis/lib/python3.9/site-packages/tensorflow/python/ops/array_ops.py:3030\u001b[0m, in \u001b[0;36mones_like\u001b[0;34m(tensor, dtype, name, optimize)\u001b[0m\n\u001b[1;32m   3000\u001b[0m \u001b[38;5;129m@tf_export\u001b[39m(v1\u001b[38;5;241m=\u001b[39m[\u001b[38;5;124m\"\u001b[39m\u001b[38;5;124mones_like\u001b[39m\u001b[38;5;124m\"\u001b[39m])\n\u001b[1;32m   3001\u001b[0m \u001b[38;5;129m@dispatch\u001b[39m\u001b[38;5;241m.\u001b[39madd_dispatch_support\n\u001b[1;32m   3002\u001b[0m \u001b[38;5;28;01mdef\u001b[39;00m \u001b[38;5;21mones_like\u001b[39m(tensor, dtype\u001b[38;5;241m=\u001b[39m\u001b[38;5;28;01mNone\u001b[39;00m, name\u001b[38;5;241m=\u001b[39m\u001b[38;5;28;01mNone\u001b[39;00m, optimize\u001b[38;5;241m=\u001b[39m\u001b[38;5;28;01mTrue\u001b[39;00m):\n\u001b[1;32m   3003\u001b[0m   \u001b[38;5;124;03m\"\"\"Creates a tensor with all elements set to 1.\u001b[39;00m\n\u001b[1;32m   3004\u001b[0m \n\u001b[1;32m   3005\u001b[0m \u001b[38;5;124;03m  See also `tf.ones`.\u001b[39;00m\n\u001b[0;32m   (...)\u001b[0m\n\u001b[1;32m   3028\u001b[0m \u001b[38;5;124;03m    A `Tensor` with all elements set to 1.\u001b[39;00m\n\u001b[1;32m   3029\u001b[0m \u001b[38;5;124;03m  \"\"\"\u001b[39;00m\n\u001b[0;32m-> 3030\u001b[0m   \u001b[38;5;28;01mreturn\u001b[39;00m \u001b[43mones_like_impl\u001b[49m\u001b[43m(\u001b[49m\u001b[43mtensor\u001b[49m\u001b[43m,\u001b[49m\u001b[43m \u001b[49m\u001b[43mdtype\u001b[49m\u001b[43m,\u001b[49m\u001b[43m \u001b[49m\u001b[43mname\u001b[49m\u001b[43m,\u001b[49m\u001b[43m \u001b[49m\u001b[43moptimize\u001b[49m\u001b[43m)\u001b[49m\n",
      "File \u001b[0;32m~/.conda/envs/thesis/lib/python3.9/site-packages/tensorflow/python/ops/array_ops.py:3072\u001b[0m, in \u001b[0;36mones_like_impl\u001b[0;34m(tensor, dtype, name, optimize)\u001b[0m\n\u001b[1;32m   3070\u001b[0m \u001b[38;5;28;01mwith\u001b[39;00m ops\u001b[38;5;241m.\u001b[39mname_scope(name, \u001b[38;5;124m\"\u001b[39m\u001b[38;5;124mones_like\u001b[39m\u001b[38;5;124m\"\u001b[39m, [tensor]) \u001b[38;5;28;01mas\u001b[39;00m name:\n\u001b[1;32m   3071\u001b[0m   tensor \u001b[38;5;241m=\u001b[39m ops\u001b[38;5;241m.\u001b[39mconvert_to_tensor(tensor, name\u001b[38;5;241m=\u001b[39m\u001b[38;5;124m\"\u001b[39m\u001b[38;5;124mtensor\u001b[39m\u001b[38;5;124m\"\u001b[39m)\n\u001b[0;32m-> 3072\u001b[0m   ones_shape \u001b[38;5;241m=\u001b[39m \u001b[43mshape_internal\u001b[49m\u001b[43m(\u001b[49m\u001b[43mtensor\u001b[49m\u001b[43m,\u001b[49m\u001b[43m \u001b[49m\u001b[43moptimize\u001b[49m\u001b[38;5;241;43m=\u001b[39;49m\u001b[43moptimize\u001b[49m\u001b[43m)\u001b[49m\n\u001b[1;32m   3073\u001b[0m   \u001b[38;5;28;01mif\u001b[39;00m dtype \u001b[38;5;129;01mis\u001b[39;00m \u001b[38;5;28;01mNone\u001b[39;00m:\n\u001b[1;32m   3074\u001b[0m     dtype \u001b[38;5;241m=\u001b[39m tensor\u001b[38;5;241m.\u001b[39mdtype\n",
      "File \u001b[0;32m~/.conda/envs/thesis/lib/python3.9/site-packages/tensorflow/python/ops/array_ops.py:677\u001b[0m, in \u001b[0;36mshape_internal\u001b[0;34m(input, name, optimize, out_type)\u001b[0m\n\u001b[1;32m    675\u001b[0m   \u001b[38;5;28;01mif\u001b[39;00m optimize \u001b[38;5;129;01mand\u001b[39;00m input_shape\u001b[38;5;241m.\u001b[39mis_fully_defined():\n\u001b[1;32m    676\u001b[0m     \u001b[38;5;28;01mreturn\u001b[39;00m constant(input_shape\u001b[38;5;241m.\u001b[39mas_list(), out_type, name\u001b[38;5;241m=\u001b[39mname)\n\u001b[0;32m--> 677\u001b[0m \u001b[38;5;28;01mreturn\u001b[39;00m \u001b[43mgen_array_ops\u001b[49m\u001b[38;5;241;43m.\u001b[39;49m\u001b[43mshape\u001b[49m\u001b[43m(\u001b[49m\u001b[38;5;28;43minput\u001b[39;49m\u001b[43m,\u001b[49m\u001b[43m \u001b[49m\u001b[43mname\u001b[49m\u001b[38;5;241;43m=\u001b[39;49m\u001b[43mname\u001b[49m\u001b[43m,\u001b[49m\u001b[43m \u001b[49m\u001b[43mout_type\u001b[49m\u001b[38;5;241;43m=\u001b[39;49m\u001b[43mout_type\u001b[49m\u001b[43m)\u001b[49m\n",
      "File \u001b[0;32m~/.conda/envs/thesis/lib/python3.9/site-packages/tensorflow/python/ops/gen_array_ops.py:9157\u001b[0m, in \u001b[0;36mshape\u001b[0;34m(input, out_type, name)\u001b[0m\n\u001b[1;32m   9155\u001b[0m \u001b[38;5;28;01mif\u001b[39;00m tld\u001b[38;5;241m.\u001b[39mis_eager:\n\u001b[1;32m   9156\u001b[0m   \u001b[38;5;28;01mtry\u001b[39;00m:\n\u001b[0;32m-> 9157\u001b[0m     _result \u001b[38;5;241m=\u001b[39m \u001b[43mpywrap_tfe\u001b[49m\u001b[38;5;241;43m.\u001b[39;49m\u001b[43mTFE_Py_FastPathExecute\u001b[49m\u001b[43m(\u001b[49m\n\u001b[1;32m   9158\u001b[0m \u001b[43m      \u001b[49m\u001b[43m_ctx\u001b[49m\u001b[43m,\u001b[49m\u001b[43m \u001b[49m\u001b[38;5;124;43m\"\u001b[39;49m\u001b[38;5;124;43mShape\u001b[39;49m\u001b[38;5;124;43m\"\u001b[39;49m\u001b[43m,\u001b[49m\u001b[43m \u001b[49m\u001b[43mname\u001b[49m\u001b[43m,\u001b[49m\u001b[43m \u001b[49m\u001b[38;5;28;43minput\u001b[39;49m\u001b[43m,\u001b[49m\u001b[43m \u001b[49m\u001b[38;5;124;43m\"\u001b[39;49m\u001b[38;5;124;43mout_type\u001b[39;49m\u001b[38;5;124;43m\"\u001b[39;49m\u001b[43m,\u001b[49m\u001b[43m \u001b[49m\u001b[43mout_type\u001b[49m\u001b[43m)\u001b[49m\n\u001b[1;32m   9159\u001b[0m     \u001b[38;5;28;01mreturn\u001b[39;00m _result\n\u001b[1;32m   9160\u001b[0m   \u001b[38;5;28;01mexcept\u001b[39;00m _core\u001b[38;5;241m.\u001b[39m_NotOkStatusException \u001b[38;5;28;01mas\u001b[39;00m e:\n",
      "\u001b[0;31mKeyboardInterrupt\u001b[0m: "
     ]
    }
   ],
   "source": [
    "from art.attacks.evasion import BoundaryAttack\n",
    "\n",
    "# amount of pertubration\n",
    "results['ba'] = {}\n",
    "eps = [5]\n",
    "\n",
    "for d in models:\n",
    "    results['ba'][d] = {}\n",
    "    for e in eps:\n",
    "        print(f'Attacking {d} with PixelAttack eps={e}')\n",
    "        df = BoundaryAttack(estimator=classifiers[d],\n",
    "                            max_iter=100,\n",
    "                            targeted=False,\n",
    "                            verbose=True)\n",
    "\n",
    "        res = attack(models[d], df, test[d], test_md[d], param[d][\"batch_size\"])\n",
    "        results['ba'][d][e] = res\n",
    "    print(\"_____________________________\")"
   ]
  },
  {
   "cell_type": "code",
   "execution_count": null,
   "id": "6237545f",
   "metadata": {},
   "outputs": [],
   "source": []
  }
 ],
 "metadata": {
  "kernelspec": {
   "display_name": "Python 3 (ipykernel)",
   "language": "python",
   "name": "python3"
  },
  "language_info": {
   "codemirror_mode": {
    "name": "ipython",
    "version": 3
   },
   "file_extension": ".py",
   "mimetype": "text/x-python",
   "name": "python",
   "nbconvert_exporter": "python",
   "pygments_lexer": "ipython3",
   "version": "3.9.13"
  }
 },
 "nbformat": 4,
 "nbformat_minor": 5
}
