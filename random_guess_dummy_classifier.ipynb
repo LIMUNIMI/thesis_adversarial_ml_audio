{
 "cells": [
  {
   "cell_type": "code",
   "execution_count": 1,
   "id": "8d932823",
   "metadata": {},
   "outputs": [],
   "source": [
    "from sklearn.dummy import DummyClassifier\n",
    "from sklearn.metrics import plot_confusion_matrix\n",
    "from sklearn.model_selection import train_test_split\n",
    "\n",
    "import pandas as pd\n",
    "\n",
    "import matplotlib.pyplot as plt"
   ]
  },
  {
   "cell_type": "code",
   "execution_count": 2,
   "id": "805860b2",
   "metadata": {},
   "outputs": [],
   "source": [
    "ds = ['emodb', 'emovo', 'ravdess']"
   ]
  },
  {
   "cell_type": "code",
   "execution_count": 3,
   "id": "1c01d125",
   "metadata": {},
   "outputs": [],
   "source": [
    "mtd_ls = {}\n",
    "for d in ds:\n",
    "    mtd_ls[d] = pd.read_csv(f\"D:\\\\Scuola\\\\TesiMag\\\\thesis_adversarial_ml_audio\\\\processed_data//{d}/metadata_final.csv\")\n",
    "    \n",
    "    # pd.read_csv(f\"/datasets/nicolas_facchinetti/img_data/{d}_df.csv\")\n",
    "    "
   ]
  },
  {
   "cell_type": "code",
   "execution_count": 4,
   "id": "7c1d1d4b",
   "metadata": {},
   "outputs": [
    {
     "data": {
      "text/html": [
       "<div>\n",
       "<style scoped>\n",
       "    .dataframe tbody tr th:only-of-type {\n",
       "        vertical-align: middle;\n",
       "    }\n",
       "\n",
       "    .dataframe tbody tr th {\n",
       "        vertical-align: top;\n",
       "    }\n",
       "\n",
       "    .dataframe thead th {\n",
       "        text-align: right;\n",
       "    }\n",
       "</style>\n",
       "<table border=\"1\" class=\"dataframe\">\n",
       "  <thead>\n",
       "    <tr style=\"text-align: right;\">\n",
       "      <th></th>\n",
       "      <th>path</th>\n",
       "      <th>filename</th>\n",
       "      <th>chunk</th>\n",
       "      <th>label</th>\n",
       "      <th>actor</th>\n",
       "      <th>gender</th>\n",
       "      <th>mod</th>\n",
       "    </tr>\n",
       "  </thead>\n",
       "  <tbody>\n",
       "    <tr>\n",
       "      <th>0</th>\n",
       "      <td>D:\\Scuola\\TesiMag\\thesis_adversarial_ml_audio\\...</td>\n",
       "      <td>03a01Fa.wav</td>\n",
       "      <td>0</td>\n",
       "      <td>happy</td>\n",
       "      <td>3</td>\n",
       "      <td>m</td>\n",
       "      <td>0</td>\n",
       "    </tr>\n",
       "    <tr>\n",
       "      <th>1</th>\n",
       "      <td>D:\\Scuola\\TesiMag\\thesis_adversarial_ml_audio\\...</td>\n",
       "      <td>03a01Fa.wav</td>\n",
       "      <td>0</td>\n",
       "      <td>happy</td>\n",
       "      <td>3</td>\n",
       "      <td>m</td>\n",
       "      <td>1</td>\n",
       "    </tr>\n",
       "    <tr>\n",
       "      <th>2</th>\n",
       "      <td>D:\\Scuola\\TesiMag\\thesis_adversarial_ml_audio\\...</td>\n",
       "      <td>03a01Fa.wav</td>\n",
       "      <td>0</td>\n",
       "      <td>happy</td>\n",
       "      <td>3</td>\n",
       "      <td>m</td>\n",
       "      <td>1</td>\n",
       "    </tr>\n",
       "    <tr>\n",
       "      <th>3</th>\n",
       "      <td>D:\\Scuola\\TesiMag\\thesis_adversarial_ml_audio\\...</td>\n",
       "      <td>03a01Fa.wav</td>\n",
       "      <td>0</td>\n",
       "      <td>happy</td>\n",
       "      <td>3</td>\n",
       "      <td>m</td>\n",
       "      <td>1</td>\n",
       "    </tr>\n",
       "    <tr>\n",
       "      <th>4</th>\n",
       "      <td>D:\\Scuola\\TesiMag\\thesis_adversarial_ml_audio\\...</td>\n",
       "      <td>03a01Fa.wav</td>\n",
       "      <td>0</td>\n",
       "      <td>happy</td>\n",
       "      <td>3</td>\n",
       "      <td>m</td>\n",
       "      <td>1</td>\n",
       "    </tr>\n",
       "    <tr>\n",
       "      <th>...</th>\n",
       "      <td>...</td>\n",
       "      <td>...</td>\n",
       "      <td>...</td>\n",
       "      <td>...</td>\n",
       "      <td>...</td>\n",
       "      <td>...</td>\n",
       "      <td>...</td>\n",
       "    </tr>\n",
       "    <tr>\n",
       "      <th>4151</th>\n",
       "      <td>D:\\Scuola\\TesiMag\\thesis_adversarial_ml_audio\\...</td>\n",
       "      <td>16b10Wa.wav</td>\n",
       "      <td>0</td>\n",
       "      <td>angry</td>\n",
       "      <td>16</td>\n",
       "      <td>f</td>\n",
       "      <td>1</td>\n",
       "    </tr>\n",
       "    <tr>\n",
       "      <th>4152</th>\n",
       "      <td>D:\\Scuola\\TesiMag\\thesis_adversarial_ml_audio\\...</td>\n",
       "      <td>16b10Wa.wav</td>\n",
       "      <td>0</td>\n",
       "      <td>angry</td>\n",
       "      <td>16</td>\n",
       "      <td>f</td>\n",
       "      <td>2</td>\n",
       "    </tr>\n",
       "    <tr>\n",
       "      <th>4153</th>\n",
       "      <td>D:\\Scuola\\TesiMag\\thesis_adversarial_ml_audio\\...</td>\n",
       "      <td>16b10Wa.wav</td>\n",
       "      <td>0</td>\n",
       "      <td>angry</td>\n",
       "      <td>16</td>\n",
       "      <td>f</td>\n",
       "      <td>2</td>\n",
       "    </tr>\n",
       "    <tr>\n",
       "      <th>4154</th>\n",
       "      <td>D:\\Scuola\\TesiMag\\thesis_adversarial_ml_audio\\...</td>\n",
       "      <td>16b10Wa.wav</td>\n",
       "      <td>0</td>\n",
       "      <td>angry</td>\n",
       "      <td>16</td>\n",
       "      <td>f</td>\n",
       "      <td>2</td>\n",
       "    </tr>\n",
       "    <tr>\n",
       "      <th>4155</th>\n",
       "      <td>D:\\Scuola\\TesiMag\\thesis_adversarial_ml_audio\\...</td>\n",
       "      <td>16b10Wa.wav</td>\n",
       "      <td>0</td>\n",
       "      <td>angry</td>\n",
       "      <td>16</td>\n",
       "      <td>f</td>\n",
       "      <td>2</td>\n",
       "    </tr>\n",
       "  </tbody>\n",
       "</table>\n",
       "<p>4156 rows × 7 columns</p>\n",
       "</div>"
      ],
      "text/plain": [
       "                                                   path     filename  chunk  \\\n",
       "0     D:\\Scuola\\TesiMag\\thesis_adversarial_ml_audio\\...  03a01Fa.wav      0   \n",
       "1     D:\\Scuola\\TesiMag\\thesis_adversarial_ml_audio\\...  03a01Fa.wav      0   \n",
       "2     D:\\Scuola\\TesiMag\\thesis_adversarial_ml_audio\\...  03a01Fa.wav      0   \n",
       "3     D:\\Scuola\\TesiMag\\thesis_adversarial_ml_audio\\...  03a01Fa.wav      0   \n",
       "4     D:\\Scuola\\TesiMag\\thesis_adversarial_ml_audio\\...  03a01Fa.wav      0   \n",
       "...                                                 ...          ...    ...   \n",
       "4151  D:\\Scuola\\TesiMag\\thesis_adversarial_ml_audio\\...  16b10Wa.wav      0   \n",
       "4152  D:\\Scuola\\TesiMag\\thesis_adversarial_ml_audio\\...  16b10Wa.wav      0   \n",
       "4153  D:\\Scuola\\TesiMag\\thesis_adversarial_ml_audio\\...  16b10Wa.wav      0   \n",
       "4154  D:\\Scuola\\TesiMag\\thesis_adversarial_ml_audio\\...  16b10Wa.wav      0   \n",
       "4155  D:\\Scuola\\TesiMag\\thesis_adversarial_ml_audio\\...  16b10Wa.wav      0   \n",
       "\n",
       "      label  actor gender  mod  \n",
       "0     happy      3      m    0  \n",
       "1     happy      3      m    1  \n",
       "2     happy      3      m    1  \n",
       "3     happy      3      m    1  \n",
       "4     happy      3      m    1  \n",
       "...     ...    ...    ...  ...  \n",
       "4151  angry     16      f    1  \n",
       "4152  angry     16      f    2  \n",
       "4153  angry     16      f    2  \n",
       "4154  angry     16      f    2  \n",
       "4155  angry     16      f    2  \n",
       "\n",
       "[4156 rows x 7 columns]"
      ]
     },
     "execution_count": 4,
     "metadata": {},
     "output_type": "execute_result"
    }
   ],
   "source": [
    "mtd_ls[ds[0]]"
   ]
  },
  {
   "cell_type": "code",
   "execution_count": 5,
   "id": "5f83f57b",
   "metadata": {},
   "outputs": [
    {
     "data": {
      "text/html": [
       "<div>\n",
       "<style scoped>\n",
       "    .dataframe tbody tr th:only-of-type {\n",
       "        vertical-align: middle;\n",
       "    }\n",
       "\n",
       "    .dataframe tbody tr th {\n",
       "        vertical-align: top;\n",
       "    }\n",
       "\n",
       "    .dataframe thead th {\n",
       "        text-align: right;\n",
       "    }\n",
       "</style>\n",
       "<table border=\"1\" class=\"dataframe\">\n",
       "  <thead>\n",
       "    <tr style=\"text-align: right;\">\n",
       "      <th></th>\n",
       "      <th>path</th>\n",
       "      <th>filename</th>\n",
       "      <th>chunk</th>\n",
       "      <th>label</th>\n",
       "      <th>actor</th>\n",
       "      <th>gender</th>\n",
       "      <th>mod</th>\n",
       "    </tr>\n",
       "  </thead>\n",
       "  <tbody>\n",
       "    <tr>\n",
       "      <th>0</th>\n",
       "      <td>D:\\Scuola\\TesiMag\\thesis_adversarial_ml_audio\\...</td>\n",
       "      <td>gio-f1-b1.wav</td>\n",
       "      <td>0</td>\n",
       "      <td>happy</td>\n",
       "      <td>f1</td>\n",
       "      <td>f</td>\n",
       "      <td>0</td>\n",
       "    </tr>\n",
       "    <tr>\n",
       "      <th>1</th>\n",
       "      <td>D:\\Scuola\\TesiMag\\thesis_adversarial_ml_audio\\...</td>\n",
       "      <td>gio-f1-b1.wav</td>\n",
       "      <td>0</td>\n",
       "      <td>happy</td>\n",
       "      <td>f1</td>\n",
       "      <td>f</td>\n",
       "      <td>1</td>\n",
       "    </tr>\n",
       "    <tr>\n",
       "      <th>2</th>\n",
       "      <td>D:\\Scuola\\TesiMag\\thesis_adversarial_ml_audio\\...</td>\n",
       "      <td>gio-f1-b1.wav</td>\n",
       "      <td>0</td>\n",
       "      <td>happy</td>\n",
       "      <td>f1</td>\n",
       "      <td>f</td>\n",
       "      <td>1</td>\n",
       "    </tr>\n",
       "    <tr>\n",
       "      <th>3</th>\n",
       "      <td>D:\\Scuola\\TesiMag\\thesis_adversarial_ml_audio\\...</td>\n",
       "      <td>gio-f1-b1.wav</td>\n",
       "      <td>0</td>\n",
       "      <td>happy</td>\n",
       "      <td>f1</td>\n",
       "      <td>f</td>\n",
       "      <td>1</td>\n",
       "    </tr>\n",
       "    <tr>\n",
       "      <th>4</th>\n",
       "      <td>D:\\Scuola\\TesiMag\\thesis_adversarial_ml_audio\\...</td>\n",
       "      <td>gio-f1-b1.wav</td>\n",
       "      <td>0</td>\n",
       "      <td>happy</td>\n",
       "      <td>f1</td>\n",
       "      <td>f</td>\n",
       "      <td>1</td>\n",
       "    </tr>\n",
       "    <tr>\n",
       "      <th>...</th>\n",
       "      <td>...</td>\n",
       "      <td>...</td>\n",
       "      <td>...</td>\n",
       "      <td>...</td>\n",
       "      <td>...</td>\n",
       "      <td>...</td>\n",
       "      <td>...</td>\n",
       "    </tr>\n",
       "    <tr>\n",
       "      <th>4923</th>\n",
       "      <td>D:\\Scuola\\TesiMag\\thesis_adversarial_ml_audio\\...</td>\n",
       "      <td>tri-m3-n5.wav</td>\n",
       "      <td>1</td>\n",
       "      <td>sad</td>\n",
       "      <td>m3</td>\n",
       "      <td>m</td>\n",
       "      <td>2</td>\n",
       "    </tr>\n",
       "    <tr>\n",
       "      <th>4924</th>\n",
       "      <td>D:\\Scuola\\TesiMag\\thesis_adversarial_ml_audio\\...</td>\n",
       "      <td>tri-m3-n5.wav</td>\n",
       "      <td>0</td>\n",
       "      <td>sad</td>\n",
       "      <td>m3</td>\n",
       "      <td>m</td>\n",
       "      <td>2</td>\n",
       "    </tr>\n",
       "    <tr>\n",
       "      <th>4925</th>\n",
       "      <td>D:\\Scuola\\TesiMag\\thesis_adversarial_ml_audio\\...</td>\n",
       "      <td>tri-m3-n5.wav</td>\n",
       "      <td>1</td>\n",
       "      <td>sad</td>\n",
       "      <td>m3</td>\n",
       "      <td>m</td>\n",
       "      <td>2</td>\n",
       "    </tr>\n",
       "    <tr>\n",
       "      <th>4926</th>\n",
       "      <td>D:\\Scuola\\TesiMag\\thesis_adversarial_ml_audio\\...</td>\n",
       "      <td>tri-m3-n5.wav</td>\n",
       "      <td>0</td>\n",
       "      <td>sad</td>\n",
       "      <td>m3</td>\n",
       "      <td>m</td>\n",
       "      <td>2</td>\n",
       "    </tr>\n",
       "    <tr>\n",
       "      <th>4927</th>\n",
       "      <td>D:\\Scuola\\TesiMag\\thesis_adversarial_ml_audio\\...</td>\n",
       "      <td>tri-m3-n5.wav</td>\n",
       "      <td>1</td>\n",
       "      <td>sad</td>\n",
       "      <td>m3</td>\n",
       "      <td>m</td>\n",
       "      <td>2</td>\n",
       "    </tr>\n",
       "  </tbody>\n",
       "</table>\n",
       "<p>4928 rows × 7 columns</p>\n",
       "</div>"
      ],
      "text/plain": [
       "                                                   path       filename  chunk  \\\n",
       "0     D:\\Scuola\\TesiMag\\thesis_adversarial_ml_audio\\...  gio-f1-b1.wav      0   \n",
       "1     D:\\Scuola\\TesiMag\\thesis_adversarial_ml_audio\\...  gio-f1-b1.wav      0   \n",
       "2     D:\\Scuola\\TesiMag\\thesis_adversarial_ml_audio\\...  gio-f1-b1.wav      0   \n",
       "3     D:\\Scuola\\TesiMag\\thesis_adversarial_ml_audio\\...  gio-f1-b1.wav      0   \n",
       "4     D:\\Scuola\\TesiMag\\thesis_adversarial_ml_audio\\...  gio-f1-b1.wav      0   \n",
       "...                                                 ...            ...    ...   \n",
       "4923  D:\\Scuola\\TesiMag\\thesis_adversarial_ml_audio\\...  tri-m3-n5.wav      1   \n",
       "4924  D:\\Scuola\\TesiMag\\thesis_adversarial_ml_audio\\...  tri-m3-n5.wav      0   \n",
       "4925  D:\\Scuola\\TesiMag\\thesis_adversarial_ml_audio\\...  tri-m3-n5.wav      1   \n",
       "4926  D:\\Scuola\\TesiMag\\thesis_adversarial_ml_audio\\...  tri-m3-n5.wav      0   \n",
       "4927  D:\\Scuola\\TesiMag\\thesis_adversarial_ml_audio\\...  tri-m3-n5.wav      1   \n",
       "\n",
       "      label actor gender  mod  \n",
       "0     happy    f1      f    0  \n",
       "1     happy    f1      f    1  \n",
       "2     happy    f1      f    1  \n",
       "3     happy    f1      f    1  \n",
       "4     happy    f1      f    1  \n",
       "...     ...   ...    ...  ...  \n",
       "4923    sad    m3      m    2  \n",
       "4924    sad    m3      m    2  \n",
       "4925    sad    m3      m    2  \n",
       "4926    sad    m3      m    2  \n",
       "4927    sad    m3      m    2  \n",
       "\n",
       "[4928 rows x 7 columns]"
      ]
     },
     "execution_count": 5,
     "metadata": {},
     "output_type": "execute_result"
    }
   ],
   "source": [
    "mtd_ls[ds[1]]"
   ]
  },
  {
   "cell_type": "code",
   "execution_count": 6,
   "id": "82284c14",
   "metadata": {},
   "outputs": [
    {
     "data": {
      "text/html": [
       "<div>\n",
       "<style scoped>\n",
       "    .dataframe tbody tr th:only-of-type {\n",
       "        vertical-align: middle;\n",
       "    }\n",
       "\n",
       "    .dataframe tbody tr th {\n",
       "        vertical-align: top;\n",
       "    }\n",
       "\n",
       "    .dataframe thead th {\n",
       "        text-align: right;\n",
       "    }\n",
       "</style>\n",
       "<table border=\"1\" class=\"dataframe\">\n",
       "  <thead>\n",
       "    <tr style=\"text-align: right;\">\n",
       "      <th></th>\n",
       "      <th>path</th>\n",
       "      <th>filename</th>\n",
       "      <th>chunk</th>\n",
       "      <th>label</th>\n",
       "      <th>actor</th>\n",
       "      <th>gender</th>\n",
       "      <th>mod</th>\n",
       "    </tr>\n",
       "  </thead>\n",
       "  <tbody>\n",
       "    <tr>\n",
       "      <th>0</th>\n",
       "      <td>D:\\Scuola\\TesiMag\\thesis_adversarial_ml_audio\\...</td>\n",
       "      <td>03-01-02-01-01-01-01.wav</td>\n",
       "      <td>0</td>\n",
       "      <td>calm</td>\n",
       "      <td>Actor_01</td>\n",
       "      <td>m</td>\n",
       "      <td>0</td>\n",
       "    </tr>\n",
       "    <tr>\n",
       "      <th>1</th>\n",
       "      <td>D:\\Scuola\\TesiMag\\thesis_adversarial_ml_audio\\...</td>\n",
       "      <td>03-01-02-01-01-01-01.wav</td>\n",
       "      <td>0</td>\n",
       "      <td>calm</td>\n",
       "      <td>Actor_01</td>\n",
       "      <td>m</td>\n",
       "      <td>1</td>\n",
       "    </tr>\n",
       "    <tr>\n",
       "      <th>2</th>\n",
       "      <td>D:\\Scuola\\TesiMag\\thesis_adversarial_ml_audio\\...</td>\n",
       "      <td>03-01-02-01-01-01-01.wav</td>\n",
       "      <td>0</td>\n",
       "      <td>calm</td>\n",
       "      <td>Actor_01</td>\n",
       "      <td>m</td>\n",
       "      <td>1</td>\n",
       "    </tr>\n",
       "    <tr>\n",
       "      <th>3</th>\n",
       "      <td>D:\\Scuola\\TesiMag\\thesis_adversarial_ml_audio\\...</td>\n",
       "      <td>03-01-02-01-01-01-01.wav</td>\n",
       "      <td>0</td>\n",
       "      <td>calm</td>\n",
       "      <td>Actor_01</td>\n",
       "      <td>m</td>\n",
       "      <td>1</td>\n",
       "    </tr>\n",
       "    <tr>\n",
       "      <th>4</th>\n",
       "      <td>D:\\Scuola\\TesiMag\\thesis_adversarial_ml_audio\\...</td>\n",
       "      <td>03-01-02-01-01-01-01.wav</td>\n",
       "      <td>0</td>\n",
       "      <td>calm</td>\n",
       "      <td>Actor_01</td>\n",
       "      <td>m</td>\n",
       "      <td>1</td>\n",
       "    </tr>\n",
       "    <tr>\n",
       "      <th>...</th>\n",
       "      <td>...</td>\n",
       "      <td>...</td>\n",
       "      <td>...</td>\n",
       "      <td>...</td>\n",
       "      <td>...</td>\n",
       "      <td>...</td>\n",
       "      <td>...</td>\n",
       "    </tr>\n",
       "    <tr>\n",
       "      <th>8965</th>\n",
       "      <td>D:\\Scuola\\TesiMag\\thesis_adversarial_ml_audio\\...</td>\n",
       "      <td>03-01-08-02-02-02-24.wav</td>\n",
       "      <td>0</td>\n",
       "      <td>surprised</td>\n",
       "      <td>Actor_24</td>\n",
       "      <td>f</td>\n",
       "      <td>1</td>\n",
       "    </tr>\n",
       "    <tr>\n",
       "      <th>8966</th>\n",
       "      <td>D:\\Scuola\\TesiMag\\thesis_adversarial_ml_audio\\...</td>\n",
       "      <td>03-01-08-02-02-02-24.wav</td>\n",
       "      <td>0</td>\n",
       "      <td>surprised</td>\n",
       "      <td>Actor_24</td>\n",
       "      <td>f</td>\n",
       "      <td>2</td>\n",
       "    </tr>\n",
       "    <tr>\n",
       "      <th>8967</th>\n",
       "      <td>D:\\Scuola\\TesiMag\\thesis_adversarial_ml_audio\\...</td>\n",
       "      <td>03-01-08-02-02-02-24.wav</td>\n",
       "      <td>0</td>\n",
       "      <td>surprised</td>\n",
       "      <td>Actor_24</td>\n",
       "      <td>f</td>\n",
       "      <td>2</td>\n",
       "    </tr>\n",
       "    <tr>\n",
       "      <th>8968</th>\n",
       "      <td>D:\\Scuola\\TesiMag\\thesis_adversarial_ml_audio\\...</td>\n",
       "      <td>03-01-08-02-02-02-24.wav</td>\n",
       "      <td>0</td>\n",
       "      <td>surprised</td>\n",
       "      <td>Actor_24</td>\n",
       "      <td>f</td>\n",
       "      <td>2</td>\n",
       "    </tr>\n",
       "    <tr>\n",
       "      <th>8969</th>\n",
       "      <td>D:\\Scuola\\TesiMag\\thesis_adversarial_ml_audio\\...</td>\n",
       "      <td>03-01-08-02-02-02-24.wav</td>\n",
       "      <td>0</td>\n",
       "      <td>surprised</td>\n",
       "      <td>Actor_24</td>\n",
       "      <td>f</td>\n",
       "      <td>2</td>\n",
       "    </tr>\n",
       "  </tbody>\n",
       "</table>\n",
       "<p>8970 rows × 7 columns</p>\n",
       "</div>"
      ],
      "text/plain": [
       "                                                   path  \\\n",
       "0     D:\\Scuola\\TesiMag\\thesis_adversarial_ml_audio\\...   \n",
       "1     D:\\Scuola\\TesiMag\\thesis_adversarial_ml_audio\\...   \n",
       "2     D:\\Scuola\\TesiMag\\thesis_adversarial_ml_audio\\...   \n",
       "3     D:\\Scuola\\TesiMag\\thesis_adversarial_ml_audio\\...   \n",
       "4     D:\\Scuola\\TesiMag\\thesis_adversarial_ml_audio\\...   \n",
       "...                                                 ...   \n",
       "8965  D:\\Scuola\\TesiMag\\thesis_adversarial_ml_audio\\...   \n",
       "8966  D:\\Scuola\\TesiMag\\thesis_adversarial_ml_audio\\...   \n",
       "8967  D:\\Scuola\\TesiMag\\thesis_adversarial_ml_audio\\...   \n",
       "8968  D:\\Scuola\\TesiMag\\thesis_adversarial_ml_audio\\...   \n",
       "8969  D:\\Scuola\\TesiMag\\thesis_adversarial_ml_audio\\...   \n",
       "\n",
       "                      filename  chunk      label     actor gender  mod  \n",
       "0     03-01-02-01-01-01-01.wav      0       calm  Actor_01      m    0  \n",
       "1     03-01-02-01-01-01-01.wav      0       calm  Actor_01      m    1  \n",
       "2     03-01-02-01-01-01-01.wav      0       calm  Actor_01      m    1  \n",
       "3     03-01-02-01-01-01-01.wav      0       calm  Actor_01      m    1  \n",
       "4     03-01-02-01-01-01-01.wav      0       calm  Actor_01      m    1  \n",
       "...                        ...    ...        ...       ...    ...  ...  \n",
       "8965  03-01-08-02-02-02-24.wav      0  surprised  Actor_24      f    1  \n",
       "8966  03-01-08-02-02-02-24.wav      0  surprised  Actor_24      f    2  \n",
       "8967  03-01-08-02-02-02-24.wav      0  surprised  Actor_24      f    2  \n",
       "8968  03-01-08-02-02-02-24.wav      0  surprised  Actor_24      f    2  \n",
       "8969  03-01-08-02-02-02-24.wav      0  surprised  Actor_24      f    2  \n",
       "\n",
       "[8970 rows x 7 columns]"
      ]
     },
     "execution_count": 6,
     "metadata": {},
     "output_type": "execute_result"
    }
   ],
   "source": [
    "mtd_ls[ds[2]]"
   ]
  },
  {
   "cell_type": "code",
   "execution_count": 18,
   "id": "231d3492",
   "metadata": {},
   "outputs": [
    {
     "data": {
      "text/plain": [
       "array(['happy', 'neutral', 'sad', 'angry', 'fear'], dtype=object)"
      ]
     },
     "execution_count": 18,
     "metadata": {},
     "output_type": "execute_result"
    }
   ],
   "source": [
    "mtd_ls[ds[0]].label.unique()"
   ]
  },
  {
   "cell_type": "code",
   "execution_count": 19,
   "id": "0a76d62e",
   "metadata": {},
   "outputs": [
    {
     "data": {
      "text/plain": [
       "array(['happy', 'fear', 'angry', 'surprised', 'sad'], dtype=object)"
      ]
     },
     "execution_count": 19,
     "metadata": {},
     "output_type": "execute_result"
    }
   ],
   "source": [
    "mtd_ls[ds[1]].label.unique()"
   ]
  },
  {
   "cell_type": "code",
   "execution_count": 17,
   "id": "74ea480f",
   "metadata": {},
   "outputs": [
    {
     "data": {
      "text/plain": [
       "array(['calm', 'sad', 'angry', 'disgust', 'surprised'], dtype=object)"
      ]
     },
     "execution_count": 17,
     "metadata": {},
     "output_type": "execute_result"
    }
   ],
   "source": [
    "mtd_ls[ds[2]].label.unique()"
   ]
  },
  {
   "cell_type": "code",
   "execution_count": 7,
   "id": "d721f286",
   "metadata": {},
   "outputs": [],
   "source": [
    "random_state = 1997"
   ]
  },
  {
   "cell_type": "code",
   "execution_count": 20,
   "id": "5bac4629",
   "metadata": {},
   "outputs": [],
   "source": [
    "strategies = ['most_frequent', 'stratified', 'uniform', 'constant', 'prior']\n",
    "\n",
    "def dummy_scores(d):\n",
    "    y = d['label']\n",
    "    X = d.drop('label', axis = 1)\n",
    "    X = X.drop('actor', axis = 1)\n",
    "    X_train, X_test, y_train, y_test = train_test_split(X, y, test_size = 0.3, random_state = random_state)\n",
    "    \n",
    "\n",
    "    test_scores = []\n",
    "    for s in strategies:\n",
    "        if s =='constant':\n",
    "            dclf = DummyClassifier(strategy = s, random_state = random_state, constant ='angry')\n",
    "        else:\n",
    "            dclf = DummyClassifier(strategy = s, random_state = random_state)\n",
    "        dclf.fit(X_train, y_train)\n",
    "        score = dclf.score(X_test, y_test)\n",
    "        test_scores.append(score)\n",
    "    return test_scores"
   ]
  },
  {
   "cell_type": "code",
   "execution_count": 21,
   "id": "87700315",
   "metadata": {},
   "outputs": [],
   "source": [
    "scores = {d: dummy_scores(mtd_ls[d]) for d in ds}"
   ]
  },
  {
   "cell_type": "code",
   "execution_count": 22,
   "id": "0be41eed",
   "metadata": {},
   "outputs": [],
   "source": [
    "def plot_scores(scores):\n",
    "    strategies = ['most_frequent', 'stratified', 'uniform', 'constant', 'prior']\n",
    "    plt.plot(strategies, scores, 'ro')\n",
    "    plt.show()"
   ]
  },
  {
   "cell_type": "code",
   "execution_count": 23,
   "id": "f01cd7c1",
   "metadata": {},
   "outputs": [
    {
     "name": "stdout",
     "output_type": "stream",
     "text": [
      "emodb\n"
     ]
    },
    {
     "data": {
      "image/png": "[encoded data removed]",
      "text/plain": [
       "<Figure size 432x288 with 1 Axes>"
      ]
     },
     "metadata": {
      "needs_background": "light"
     },
     "output_type": "display_data"
    },
    {
     "name": "stdout",
     "output_type": "stream",
     "text": [
      "emovo\n"
     ]
    },
    {
     "data": {
      "image/png": "[encoded data removed]",
      "text/plain": [
       "<Figure size 432x288 with 1 Axes>"
      ]
     },
     "metadata": {
      "needs_background": "light"
     },
     "output_type": "display_data"
    },
    {
     "name": "stdout",
     "output_type": "stream",
     "text": [
      "ravdess\n"
     ]
    },
    {
     "data": {
      "image/png": "[encoded data removed]",
      "text/plain": [
       "<Figure size 432x288 with 1 Axes>"
      ]
     },
     "metadata": {
      "needs_background": "light"
     },
     "output_type": "display_data"
    }
   ],
   "source": [
    "for d in ds:\n",
    "    print(d)\n",
    "    plot_scores(scores[d])"
   ]
  },
  {
   "cell_type": "code",
   "execution_count": 24,
   "id": "cfc4909e",
   "metadata": {},
   "outputs": [
    {
     "name": "stdout",
     "output_type": "stream",
     "text": [
      "For emodb best strategy is most_frequent with score 0.24619085805934243\n",
      "For emovo best strategy is most_frequent with score 0.2325895875591616\n",
      "For ravdess best strategy is uniform with score 0.21070234113712374\n"
     ]
    }
   ],
   "source": [
    "best_strategies = []\n",
    "for d in ds:\n",
    "    max_value = max(scores[d])\n",
    "    max_index = scores[d].index(max_value)\n",
    "    best_strategies.append(strategies[max_index])\n",
    "    print(f'For {d} best strategy is {strategies[max_index]} with score {max_value}')"
   ]
  },
  {
   "cell_type": "code",
   "execution_count": 25,
   "id": "46b5acb5",
   "metadata": {},
   "outputs": [
    {
     "data": {
      "text/plain": [
       "['most_frequent', 'most_frequent', 'uniform']"
      ]
     },
     "execution_count": 25,
     "metadata": {},
     "output_type": "execute_result"
    }
   ],
   "source": [
    "best_strategies"
   ]
  },
  {
   "cell_type": "code",
   "execution_count": 27,
   "id": "aa77ae25",
   "metadata": {},
   "outputs": [
    {
     "name": "stdout",
     "output_type": "stream",
     "text": [
      "emodb with most_frequent\n",
      "emovo with most_frequent\n",
      "ravdess with uniform\n"
     ]
    },
    {
     "data": {
      "image/png": "[encoded data removed]",
      "text/plain": [
       "<Figure size 432x288 with 2 Axes>"
      ]
     },
     "metadata": {
      "needs_background": "light"
     },
     "output_type": "display_data"
    },
    {
     "data": {
      "image/png": "[encoded data removed]",
      "text/plain": [
       "<Figure size 432x288 with 2 Axes>"
      ]
     },
     "metadata": {
      "needs_background": "light"
     },
     "output_type": "display_data"
    },
    {
     "data": {
      "image/png": "[encoded data removed]",
      "text/plain": [
       "<Figure size 432x288 with 2 Axes>"
      ]
     },
     "metadata": {
      "needs_background": "light"
     },
     "output_type": "display_data"
    }
   ],
   "source": [
    "from sklearn.metrics import confusion_matrix, ConfusionMatrixDisplay\n",
    "\n",
    "for st, d in zip(best_strategies, mtd_ls):\n",
    "    print(f'{d} with {st}')\n",
    "    ds = mtd_ls[d]\n",
    "    y = ds['label']\n",
    "    X = ds.drop('label', axis = 1)\n",
    "    X = X.drop('actor', axis = 1)\n",
    "    X_train, X_test, y_train, y_test = train_test_split(X, y, test_size = 0.3, random_state = random_state)\n",
    "    \n",
    "    if st =='constant':\n",
    "        dclf = DummyClassifier(strategy = st, random_state = random_state, constant ='angry')\n",
    "    else:\n",
    "        dclf = DummyClassifier(strategy = st, random_state = random_state)\n",
    "        \n",
    "    dclf.fit(X_train, y_train)\n",
    "    y_pred = dclf.predict(X_test)\n",
    "    \n",
    "    cm = confusion_matrix(y_test, y_pred, labels=dclf.classes_)\n",
    "    disp = ConfusionMatrixDisplay(confusion_matrix=cm, display_labels=dclf.classes_)\n",
    "    disp.plot()"
   ]
  },
  {
   "cell_type": "code",
   "execution_count": null,
   "id": "c2cd202a",
   "metadata": {},
   "outputs": [],
   "source": []
  },
  {
   "cell_type": "code",
   "execution_count": null,
   "id": "53d79136",
   "metadata": {},
   "outputs": [],
   "source": []
  }
 ],
 "metadata": {
  "kernelspec": {
   "display_name": "Python 3 (ipykernel)",
   "language": "python",
   "name": "python3"
  },
  "language_info": {
   "codemirror_mode": {
    "name": "ipython",
    "version": 3
   },
   "file_extension": ".py",
   "mimetype": "text/x-python",
   "name": "python",
   "nbconvert_exporter": "python",
   "pygments_lexer": "ipython3",
   "version": "3.9.13"
  }
 },
 "nbformat": 4,
 "nbformat_minor": 5
}
