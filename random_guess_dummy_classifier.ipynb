{
 "cells": [
  {
   "cell_type": "code",
   "execution_count": 1,
   "id": "8d932823",
   "metadata": {},
   "outputs": [],
   "source": [
    "from sklearn.dummy import DummyClassifier\n",
    "from sklearn.metrics import plot_confusion_matrix\n",
    "from sklearn.model_selection import train_test_split\n",
    "\n",
    "import pandas as pd\n",
    "\n",
    "import matplotlib.pyplot as plt"
   ]
  },
  {
   "cell_type": "code",
   "execution_count": 2,
   "id": "805860b2",
   "metadata": {},
   "outputs": [],
   "source": [
    "ds = ['emodb', 'emovo', 'ravdess']"
   ]
  },
  {
   "cell_type": "code",
   "execution_count": 3,
   "id": "1c01d125",
   "metadata": {},
   "outputs": [],
   "source": [
    "mtd_ls = {}\n",
    "for d in ds:\n",
    "    mtd_ls[d] = pd.read_csv(f\"/datasets/nicolas_facchinetti/processed_data/{d}/metadata_final.csv\")\n",
    "    \n",
    "    # \n",
    "    # pd.read_csv(f\"D:\\\\Scuola\\\\TesiMag\\\\thesis_adversarial_ml_audio\\\\processed_data//{d}/metadata_final.csv\")\n",
    "    "
   ]
  },
  {
   "cell_type": "code",
   "execution_count": 4,
   "id": "7c1d1d4b",
   "metadata": {},
   "outputs": [
    {
     "data": {
      "text/html": [
       "<div>\n",
       "<style scoped>\n",
       "    .dataframe tbody tr th:only-of-type {\n",
       "        vertical-align: middle;\n",
       "    }\n",
       "\n",
       "    .dataframe tbody tr th {\n",
       "        vertical-align: top;\n",
       "    }\n",
       "\n",
       "    .dataframe thead th {\n",
       "        text-align: right;\n",
       "    }\n",
       "</style>\n",
       "<table border=\"1\" class=\"dataframe\">\n",
       "  <thead>\n",
       "    <tr style=\"text-align: right;\">\n",
       "      <th></th>\n",
       "      <th>path</th>\n",
       "      <th>filename</th>\n",
       "      <th>chunk</th>\n",
       "      <th>label</th>\n",
       "      <th>actor</th>\n",
       "      <th>gender</th>\n",
       "      <th>mod</th>\n",
       "    </tr>\n",
       "  </thead>\n",
       "  <tbody>\n",
       "    <tr>\n",
       "      <th>0</th>\n",
       "      <td>/datasets/nicolas_facchinetti/emodb/data/13a05...</td>\n",
       "      <td>13a05Tc.wav</td>\n",
       "      <td>0</td>\n",
       "      <td>sad</td>\n",
       "      <td>13</td>\n",
       "      <td>f</td>\n",
       "      <td>0</td>\n",
       "    </tr>\n",
       "    <tr>\n",
       "      <th>1</th>\n",
       "      <td>/datasets/nicolas_facchinetti/emodb/data/13a05...</td>\n",
       "      <td>13a05Tc.wav</td>\n",
       "      <td>1</td>\n",
       "      <td>sad</td>\n",
       "      <td>13</td>\n",
       "      <td>f</td>\n",
       "      <td>0</td>\n",
       "    </tr>\n",
       "    <tr>\n",
       "      <th>2</th>\n",
       "      <td>/datasets/nicolas_facchinetti/emodb/data/13a05...</td>\n",
       "      <td>13a05Tc.wav</td>\n",
       "      <td>0</td>\n",
       "      <td>sad</td>\n",
       "      <td>13</td>\n",
       "      <td>f</td>\n",
       "      <td>1</td>\n",
       "    </tr>\n",
       "    <tr>\n",
       "      <th>3</th>\n",
       "      <td>/datasets/nicolas_facchinetti/emodb/data/13a05...</td>\n",
       "      <td>13a05Tc.wav</td>\n",
       "      <td>1</td>\n",
       "      <td>sad</td>\n",
       "      <td>13</td>\n",
       "      <td>f</td>\n",
       "      <td>1</td>\n",
       "    </tr>\n",
       "    <tr>\n",
       "      <th>4</th>\n",
       "      <td>/datasets/nicolas_facchinetti/emodb/data/13a05...</td>\n",
       "      <td>13a05Tc.wav</td>\n",
       "      <td>0</td>\n",
       "      <td>sad</td>\n",
       "      <td>13</td>\n",
       "      <td>f</td>\n",
       "      <td>1</td>\n",
       "    </tr>\n",
       "    <tr>\n",
       "      <th>...</th>\n",
       "      <td>...</td>\n",
       "      <td>...</td>\n",
       "      <td>...</td>\n",
       "      <td>...</td>\n",
       "      <td>...</td>\n",
       "      <td>...</td>\n",
       "      <td>...</td>\n",
       "    </tr>\n",
       "    <tr>\n",
       "      <th>4176</th>\n",
       "      <td>/datasets/nicolas_facchinetti/emodb/data/08b01...</td>\n",
       "      <td>08b01Fe.wav</td>\n",
       "      <td>0</td>\n",
       "      <td>happy</td>\n",
       "      <td>8</td>\n",
       "      <td>f</td>\n",
       "      <td>2</td>\n",
       "    </tr>\n",
       "    <tr>\n",
       "      <th>4177</th>\n",
       "      <td>/datasets/nicolas_facchinetti/emodb/data/08b01...</td>\n",
       "      <td>08b01Fe.wav</td>\n",
       "      <td>1</td>\n",
       "      <td>happy</td>\n",
       "      <td>8</td>\n",
       "      <td>f</td>\n",
       "      <td>2</td>\n",
       "    </tr>\n",
       "    <tr>\n",
       "      <th>4178</th>\n",
       "      <td>/datasets/nicolas_facchinetti/emodb/data/08b01...</td>\n",
       "      <td>08b01Fe.wav</td>\n",
       "      <td>0</td>\n",
       "      <td>happy</td>\n",
       "      <td>8</td>\n",
       "      <td>f</td>\n",
       "      <td>2</td>\n",
       "    </tr>\n",
       "    <tr>\n",
       "      <th>4179</th>\n",
       "      <td>/datasets/nicolas_facchinetti/emodb/data/08b01...</td>\n",
       "      <td>08b01Fe.wav</td>\n",
       "      <td>0</td>\n",
       "      <td>happy</td>\n",
       "      <td>8</td>\n",
       "      <td>f</td>\n",
       "      <td>2</td>\n",
       "    </tr>\n",
       "    <tr>\n",
       "      <th>4180</th>\n",
       "      <td>/datasets/nicolas_facchinetti/emodb/data/08b01...</td>\n",
       "      <td>08b01Fe.wav</td>\n",
       "      <td>0</td>\n",
       "      <td>happy</td>\n",
       "      <td>8</td>\n",
       "      <td>f</td>\n",
       "      <td>2</td>\n",
       "    </tr>\n",
       "  </tbody>\n",
       "</table>\n",
       "<p>4181 rows × 7 columns</p>\n",
       "</div>"
      ],
      "text/plain": [
       "                                                   path     filename  chunk  \\\n",
       "0     /datasets/nicolas_facchinetti/emodb/data/13a05...  13a05Tc.wav      0   \n",
       "1     /datasets/nicolas_facchinetti/emodb/data/13a05...  13a05Tc.wav      1   \n",
       "2     /datasets/nicolas_facchinetti/emodb/data/13a05...  13a05Tc.wav      0   \n",
       "3     /datasets/nicolas_facchinetti/emodb/data/13a05...  13a05Tc.wav      1   \n",
       "4     /datasets/nicolas_facchinetti/emodb/data/13a05...  13a05Tc.wav      0   \n",
       "...                                                 ...          ...    ...   \n",
       "4176  /datasets/nicolas_facchinetti/emodb/data/08b01...  08b01Fe.wav      0   \n",
       "4177  /datasets/nicolas_facchinetti/emodb/data/08b01...  08b01Fe.wav      1   \n",
       "4178  /datasets/nicolas_facchinetti/emodb/data/08b01...  08b01Fe.wav      0   \n",
       "4179  /datasets/nicolas_facchinetti/emodb/data/08b01...  08b01Fe.wav      0   \n",
       "4180  /datasets/nicolas_facchinetti/emodb/data/08b01...  08b01Fe.wav      0   \n",
       "\n",
       "      label  actor gender  mod  \n",
       "0       sad     13      f    0  \n",
       "1       sad     13      f    0  \n",
       "2       sad     13      f    1  \n",
       "3       sad     13      f    1  \n",
       "4       sad     13      f    1  \n",
       "...     ...    ...    ...  ...  \n",
       "4176  happy      8      f    2  \n",
       "4177  happy      8      f    2  \n",
       "4178  happy      8      f    2  \n",
       "4179  happy      8      f    2  \n",
       "4180  happy      8      f    2  \n",
       "\n",
       "[4181 rows x 7 columns]"
      ]
     },
     "execution_count": 4,
     "metadata": {},
     "output_type": "execute_result"
    }
   ],
   "source": [
    "mtd_ls[ds[0]]"
   ]
  },
  {
   "cell_type": "code",
   "execution_count": 5,
   "id": "5f83f57b",
   "metadata": {},
   "outputs": [
    {
     "data": {
      "text/html": [
       "<div>\n",
       "<style scoped>\n",
       "    .dataframe tbody tr th:only-of-type {\n",
       "        vertical-align: middle;\n",
       "    }\n",
       "\n",
       "    .dataframe tbody tr th {\n",
       "        vertical-align: top;\n",
       "    }\n",
       "\n",
       "    .dataframe thead th {\n",
       "        text-align: right;\n",
       "    }\n",
       "</style>\n",
       "<table border=\"1\" class=\"dataframe\">\n",
       "  <thead>\n",
       "    <tr style=\"text-align: right;\">\n",
       "      <th></th>\n",
       "      <th>path</th>\n",
       "      <th>filename</th>\n",
       "      <th>chunk</th>\n",
       "      <th>label</th>\n",
       "      <th>actor</th>\n",
       "      <th>gender</th>\n",
       "      <th>mod</th>\n",
       "    </tr>\n",
       "  </thead>\n",
       "  <tbody>\n",
       "    <tr>\n",
       "      <th>0</th>\n",
       "      <td>/datasets/nicolas_facchinetti/emovo/data/m3/gi...</td>\n",
       "      <td>gio-m3-l1.wav</td>\n",
       "      <td>0</td>\n",
       "      <td>happy</td>\n",
       "      <td>m3</td>\n",
       "      <td>m</td>\n",
       "      <td>0</td>\n",
       "    </tr>\n",
       "    <tr>\n",
       "      <th>1</th>\n",
       "      <td>/datasets/nicolas_facchinetti/emovo/data/m3/gi...</td>\n",
       "      <td>gio-m3-l1.wav</td>\n",
       "      <td>1</td>\n",
       "      <td>happy</td>\n",
       "      <td>m3</td>\n",
       "      <td>m</td>\n",
       "      <td>0</td>\n",
       "    </tr>\n",
       "    <tr>\n",
       "      <th>2</th>\n",
       "      <td>/datasets/nicolas_facchinetti/emovo/data/m3/gi...</td>\n",
       "      <td>gio-m3-l1.wav</td>\n",
       "      <td>0</td>\n",
       "      <td>happy</td>\n",
       "      <td>m3</td>\n",
       "      <td>m</td>\n",
       "      <td>1</td>\n",
       "    </tr>\n",
       "    <tr>\n",
       "      <th>3</th>\n",
       "      <td>/datasets/nicolas_facchinetti/emovo/data/m3/gi...</td>\n",
       "      <td>gio-m3-l1.wav</td>\n",
       "      <td>1</td>\n",
       "      <td>happy</td>\n",
       "      <td>m3</td>\n",
       "      <td>m</td>\n",
       "      <td>1</td>\n",
       "    </tr>\n",
       "    <tr>\n",
       "      <th>4</th>\n",
       "      <td>/datasets/nicolas_facchinetti/emovo/data/m3/gi...</td>\n",
       "      <td>gio-m3-l1.wav</td>\n",
       "      <td>0</td>\n",
       "      <td>happy</td>\n",
       "      <td>m3</td>\n",
       "      <td>m</td>\n",
       "      <td>1</td>\n",
       "    </tr>\n",
       "    <tr>\n",
       "      <th>...</th>\n",
       "      <td>...</td>\n",
       "      <td>...</td>\n",
       "      <td>...</td>\n",
       "      <td>...</td>\n",
       "      <td>...</td>\n",
       "      <td>...</td>\n",
       "      <td>...</td>\n",
       "    </tr>\n",
       "    <tr>\n",
       "      <th>4926</th>\n",
       "      <td>/datasets/nicolas_facchinetti/emovo/data/m2/pa...</td>\n",
       "      <td>pau-m2-b3.wav</td>\n",
       "      <td>0</td>\n",
       "      <td>fear</td>\n",
       "      <td>m2</td>\n",
       "      <td>m</td>\n",
       "      <td>1</td>\n",
       "    </tr>\n",
       "    <tr>\n",
       "      <th>4927</th>\n",
       "      <td>/datasets/nicolas_facchinetti/emovo/data/m2/pa...</td>\n",
       "      <td>pau-m2-b3.wav</td>\n",
       "      <td>0</td>\n",
       "      <td>fear</td>\n",
       "      <td>m2</td>\n",
       "      <td>m</td>\n",
       "      <td>2</td>\n",
       "    </tr>\n",
       "    <tr>\n",
       "      <th>4928</th>\n",
       "      <td>/datasets/nicolas_facchinetti/emovo/data/m2/pa...</td>\n",
       "      <td>pau-m2-b3.wav</td>\n",
       "      <td>0</td>\n",
       "      <td>fear</td>\n",
       "      <td>m2</td>\n",
       "      <td>m</td>\n",
       "      <td>2</td>\n",
       "    </tr>\n",
       "    <tr>\n",
       "      <th>4929</th>\n",
       "      <td>/datasets/nicolas_facchinetti/emovo/data/m2/pa...</td>\n",
       "      <td>pau-m2-b3.wav</td>\n",
       "      <td>0</td>\n",
       "      <td>fear</td>\n",
       "      <td>m2</td>\n",
       "      <td>m</td>\n",
       "      <td>2</td>\n",
       "    </tr>\n",
       "    <tr>\n",
       "      <th>4930</th>\n",
       "      <td>/datasets/nicolas_facchinetti/emovo/data/m2/pa...</td>\n",
       "      <td>pau-m2-b3.wav</td>\n",
       "      <td>0</td>\n",
       "      <td>fear</td>\n",
       "      <td>m2</td>\n",
       "      <td>m</td>\n",
       "      <td>2</td>\n",
       "    </tr>\n",
       "  </tbody>\n",
       "</table>\n",
       "<p>4931 rows × 7 columns</p>\n",
       "</div>"
      ],
      "text/plain": [
       "                                                   path       filename  chunk  \\\n",
       "0     /datasets/nicolas_facchinetti/emovo/data/m3/gi...  gio-m3-l1.wav      0   \n",
       "1     /datasets/nicolas_facchinetti/emovo/data/m3/gi...  gio-m3-l1.wav      1   \n",
       "2     /datasets/nicolas_facchinetti/emovo/data/m3/gi...  gio-m3-l1.wav      0   \n",
       "3     /datasets/nicolas_facchinetti/emovo/data/m3/gi...  gio-m3-l1.wav      1   \n",
       "4     /datasets/nicolas_facchinetti/emovo/data/m3/gi...  gio-m3-l1.wav      0   \n",
       "...                                                 ...            ...    ...   \n",
       "4926  /datasets/nicolas_facchinetti/emovo/data/m2/pa...  pau-m2-b3.wav      0   \n",
       "4927  /datasets/nicolas_facchinetti/emovo/data/m2/pa...  pau-m2-b3.wav      0   \n",
       "4928  /datasets/nicolas_facchinetti/emovo/data/m2/pa...  pau-m2-b3.wav      0   \n",
       "4929  /datasets/nicolas_facchinetti/emovo/data/m2/pa...  pau-m2-b3.wav      0   \n",
       "4930  /datasets/nicolas_facchinetti/emovo/data/m2/pa...  pau-m2-b3.wav      0   \n",
       "\n",
       "      label actor gender  mod  \n",
       "0     happy    m3      m    0  \n",
       "1     happy    m3      m    0  \n",
       "2     happy    m3      m    1  \n",
       "3     happy    m3      m    1  \n",
       "4     happy    m3      m    1  \n",
       "...     ...   ...    ...  ...  \n",
       "4926   fear    m2      m    1  \n",
       "4927   fear    m2      m    2  \n",
       "4928   fear    m2      m    2  \n",
       "4929   fear    m2      m    2  \n",
       "4930   fear    m2      m    2  \n",
       "\n",
       "[4931 rows x 7 columns]"
      ]
     },
     "execution_count": 5,
     "metadata": {},
     "output_type": "execute_result"
    }
   ],
   "source": [
    "mtd_ls[ds[1]]"
   ]
  },
  {
   "cell_type": "code",
   "execution_count": 6,
   "id": "82284c14",
   "metadata": {},
   "outputs": [
    {
     "data": {
      "text/html": [
       "<div>\n",
       "<style scoped>\n",
       "    .dataframe tbody tr th:only-of-type {\n",
       "        vertical-align: middle;\n",
       "    }\n",
       "\n",
       "    .dataframe tbody tr th {\n",
       "        vertical-align: top;\n",
       "    }\n",
       "\n",
       "    .dataframe thead th {\n",
       "        text-align: right;\n",
       "    }\n",
       "</style>\n",
       "<table border=\"1\" class=\"dataframe\">\n",
       "  <thead>\n",
       "    <tr style=\"text-align: right;\">\n",
       "      <th></th>\n",
       "      <th>path</th>\n",
       "      <th>filename</th>\n",
       "      <th>chunk</th>\n",
       "      <th>label</th>\n",
       "      <th>actor</th>\n",
       "      <th>gender</th>\n",
       "      <th>mod</th>\n",
       "    </tr>\n",
       "  </thead>\n",
       "  <tbody>\n",
       "    <tr>\n",
       "      <th>0</th>\n",
       "      <td>/datasets/nicolas_facchinetti/ravdess/data/Act...</td>\n",
       "      <td>03-01-08-01-02-02-15.wav</td>\n",
       "      <td>0</td>\n",
       "      <td>surprised</td>\n",
       "      <td>Actor_15</td>\n",
       "      <td>m</td>\n",
       "      <td>0</td>\n",
       "    </tr>\n",
       "    <tr>\n",
       "      <th>1</th>\n",
       "      <td>/datasets/nicolas_facchinetti/ravdess/data/Act...</td>\n",
       "      <td>03-01-08-01-02-02-15.wav</td>\n",
       "      <td>0</td>\n",
       "      <td>surprised</td>\n",
       "      <td>Actor_15</td>\n",
       "      <td>m</td>\n",
       "      <td>1</td>\n",
       "    </tr>\n",
       "    <tr>\n",
       "      <th>2</th>\n",
       "      <td>/datasets/nicolas_facchinetti/ravdess/data/Act...</td>\n",
       "      <td>03-01-08-01-02-02-15.wav</td>\n",
       "      <td>0</td>\n",
       "      <td>surprised</td>\n",
       "      <td>Actor_15</td>\n",
       "      <td>m</td>\n",
       "      <td>1</td>\n",
       "    </tr>\n",
       "    <tr>\n",
       "      <th>3</th>\n",
       "      <td>/datasets/nicolas_facchinetti/ravdess/data/Act...</td>\n",
       "      <td>03-01-08-01-02-02-15.wav</td>\n",
       "      <td>0</td>\n",
       "      <td>surprised</td>\n",
       "      <td>Actor_15</td>\n",
       "      <td>m</td>\n",
       "      <td>1</td>\n",
       "    </tr>\n",
       "    <tr>\n",
       "      <th>4</th>\n",
       "      <td>/datasets/nicolas_facchinetti/ravdess/data/Act...</td>\n",
       "      <td>03-01-08-01-02-02-15.wav</td>\n",
       "      <td>0</td>\n",
       "      <td>surprised</td>\n",
       "      <td>Actor_15</td>\n",
       "      <td>m</td>\n",
       "      <td>1</td>\n",
       "    </tr>\n",
       "    <tr>\n",
       "      <th>...</th>\n",
       "      <td>...</td>\n",
       "      <td>...</td>\n",
       "      <td>...</td>\n",
       "      <td>...</td>\n",
       "      <td>...</td>\n",
       "      <td>...</td>\n",
       "      <td>...</td>\n",
       "    </tr>\n",
       "    <tr>\n",
       "      <th>8947</th>\n",
       "      <td>/datasets/nicolas_facchinetti/ravdess/data/Act...</td>\n",
       "      <td>03-01-07-01-01-02-13.wav</td>\n",
       "      <td>0</td>\n",
       "      <td>disgust</td>\n",
       "      <td>Actor_13</td>\n",
       "      <td>m</td>\n",
       "      <td>1</td>\n",
       "    </tr>\n",
       "    <tr>\n",
       "      <th>8948</th>\n",
       "      <td>/datasets/nicolas_facchinetti/ravdess/data/Act...</td>\n",
       "      <td>03-01-07-01-01-02-13.wav</td>\n",
       "      <td>0</td>\n",
       "      <td>disgust</td>\n",
       "      <td>Actor_13</td>\n",
       "      <td>m</td>\n",
       "      <td>2</td>\n",
       "    </tr>\n",
       "    <tr>\n",
       "      <th>8949</th>\n",
       "      <td>/datasets/nicolas_facchinetti/ravdess/data/Act...</td>\n",
       "      <td>03-01-07-01-01-02-13.wav</td>\n",
       "      <td>0</td>\n",
       "      <td>disgust</td>\n",
       "      <td>Actor_13</td>\n",
       "      <td>m</td>\n",
       "      <td>2</td>\n",
       "    </tr>\n",
       "    <tr>\n",
       "      <th>8950</th>\n",
       "      <td>/datasets/nicolas_facchinetti/ravdess/data/Act...</td>\n",
       "      <td>03-01-07-01-01-02-13.wav</td>\n",
       "      <td>0</td>\n",
       "      <td>disgust</td>\n",
       "      <td>Actor_13</td>\n",
       "      <td>m</td>\n",
       "      <td>2</td>\n",
       "    </tr>\n",
       "    <tr>\n",
       "      <th>8951</th>\n",
       "      <td>/datasets/nicolas_facchinetti/ravdess/data/Act...</td>\n",
       "      <td>03-01-07-01-01-02-13.wav</td>\n",
       "      <td>0</td>\n",
       "      <td>disgust</td>\n",
       "      <td>Actor_13</td>\n",
       "      <td>m</td>\n",
       "      <td>2</td>\n",
       "    </tr>\n",
       "  </tbody>\n",
       "</table>\n",
       "<p>8952 rows × 7 columns</p>\n",
       "</div>"
      ],
      "text/plain": [
       "                                                   path  \\\n",
       "0     /datasets/nicolas_facchinetti/ravdess/data/Act...   \n",
       "1     /datasets/nicolas_facchinetti/ravdess/data/Act...   \n",
       "2     /datasets/nicolas_facchinetti/ravdess/data/Act...   \n",
       "3     /datasets/nicolas_facchinetti/ravdess/data/Act...   \n",
       "4     /datasets/nicolas_facchinetti/ravdess/data/Act...   \n",
       "...                                                 ...   \n",
       "8947  /datasets/nicolas_facchinetti/ravdess/data/Act...   \n",
       "8948  /datasets/nicolas_facchinetti/ravdess/data/Act...   \n",
       "8949  /datasets/nicolas_facchinetti/ravdess/data/Act...   \n",
       "8950  /datasets/nicolas_facchinetti/ravdess/data/Act...   \n",
       "8951  /datasets/nicolas_facchinetti/ravdess/data/Act...   \n",
       "\n",
       "                      filename  chunk      label     actor gender  mod  \n",
       "0     03-01-08-01-02-02-15.wav      0  surprised  Actor_15      m    0  \n",
       "1     03-01-08-01-02-02-15.wav      0  surprised  Actor_15      m    1  \n",
       "2     03-01-08-01-02-02-15.wav      0  surprised  Actor_15      m    1  \n",
       "3     03-01-08-01-02-02-15.wav      0  surprised  Actor_15      m    1  \n",
       "4     03-01-08-01-02-02-15.wav      0  surprised  Actor_15      m    1  \n",
       "...                        ...    ...        ...       ...    ...  ...  \n",
       "8947  03-01-07-01-01-02-13.wav      0    disgust  Actor_13      m    1  \n",
       "8948  03-01-07-01-01-02-13.wav      0    disgust  Actor_13      m    2  \n",
       "8949  03-01-07-01-01-02-13.wav      0    disgust  Actor_13      m    2  \n",
       "8950  03-01-07-01-01-02-13.wav      0    disgust  Actor_13      m    2  \n",
       "8951  03-01-07-01-01-02-13.wav      0    disgust  Actor_13      m    2  \n",
       "\n",
       "[8952 rows x 7 columns]"
      ]
     },
     "execution_count": 6,
     "metadata": {},
     "output_type": "execute_result"
    }
   ],
   "source": [
    "mtd_ls[ds[2]]"
   ]
  },
  {
   "cell_type": "code",
   "execution_count": 7,
   "id": "231d3492",
   "metadata": {},
   "outputs": [
    {
     "data": {
      "text/plain": [
       "array(['sad', 'neutral', 'happy', 'bored', 'disgust'], dtype=object)"
      ]
     },
     "execution_count": 7,
     "metadata": {},
     "output_type": "execute_result"
    }
   ],
   "source": [
    "mtd_ls[ds[0]].label.unique()"
   ]
  },
  {
   "cell_type": "code",
   "execution_count": 8,
   "id": "0a76d62e",
   "metadata": {},
   "outputs": [
    {
     "data": {
      "text/plain": [
       "array(['happy', 'fear', 'surprised', 'disgust', 'neutral'], dtype=object)"
      ]
     },
     "execution_count": 8,
     "metadata": {},
     "output_type": "execute_result"
    }
   ],
   "source": [
    "mtd_ls[ds[1]].label.unique()"
   ]
  },
  {
   "cell_type": "code",
   "execution_count": 9,
   "id": "74ea480f",
   "metadata": {},
   "outputs": [
    {
     "data": {
      "text/plain": [
       "array(['surprised', 'disgust', 'sad', 'happy', 'fear'], dtype=object)"
      ]
     },
     "execution_count": 9,
     "metadata": {},
     "output_type": "execute_result"
    }
   ],
   "source": [
    "mtd_ls[ds[2]].label.unique()"
   ]
  },
  {
   "cell_type": "code",
   "execution_count": 10,
   "id": "d721f286",
   "metadata": {},
   "outputs": [],
   "source": [
    "random_state = 1997"
   ]
  },
  {
   "cell_type": "code",
   "execution_count": 11,
   "id": "5bac4629",
   "metadata": {},
   "outputs": [],
   "source": [
    "strategies = ['most_frequent', 'stratified', 'uniform', 'constant', 'prior']\n",
    "\n",
    "def dummy_scores(d):\n",
    "    y = d['label']\n",
    "    X = d.drop('label', axis = 1)\n",
    "    X = X.drop('actor', axis = 1)\n",
    "    X_train, X_test, y_train, y_test = train_test_split(X, y, test_size = 0.3, random_state = random_state)\n",
    "    \n",
    "\n",
    "    test_scores = []\n",
    "    for s in strategies:\n",
    "        if s =='constant':\n",
    "            dclf = DummyClassifier(strategy = s, random_state = random_state, constant ='happy')\n",
    "        else:\n",
    "            dclf = DummyClassifier(strategy = s, random_state = random_state)\n",
    "        dclf.fit(X_train, y_train)\n",
    "        score = dclf.score(X_test, y_test)\n",
    "        test_scores.append(score)\n",
    "    return test_scores"
   ]
  },
  {
   "cell_type": "code",
   "execution_count": 12,
   "id": "87700315",
   "metadata": {},
   "outputs": [],
   "source": [
    "scores = {d: dummy_scores(mtd_ls[d]) for d in ds}"
   ]
  },
  {
   "cell_type": "code",
   "execution_count": 13,
   "id": "0be41eed",
   "metadata": {},
   "outputs": [],
   "source": [
    "def plot_scores(scores):\n",
    "    strategies = ['most_frequent', 'stratified', 'uniform', 'constant', 'prior']\n",
    "    plt.plot(strategies, scores, 'ro')\n",
    "    plt.show()"
   ]
  },
  {
   "cell_type": "code",
   "execution_count": 14,
   "id": "f01cd7c1",
   "metadata": {},
   "outputs": [
    {
     "name": "stdout",
     "output_type": "stream",
     "text": [
      "emodb\n"
     ]
    },
    {
     "data": {
      "image/png": "[encoded data removed]",
      "text/plain": [
       "<Figure size 640x480 with 1 Axes>"
      ]
     },
     "metadata": {},
     "output_type": "display_data"
    },
    {
     "name": "stdout",
     "output_type": "stream",
     "text": [
      "emovo\n"
     ]
    },
    {
     "data": {
      "image/png": "[encoded data removed]",
      "text/plain": [
       "<Figure size 640x480 with 1 Axes>"
      ]
     },
     "metadata": {},
     "output_type": "display_data"
    },
    {
     "name": "stdout",
     "output_type": "stream",
     "text": [
      "ravdess\n"
     ]
    },
    {
     "data": {
      "image/png": "[encoded data removed]",
      "text/plain": [
       "<Figure size 640x480 with 1 Axes>"
      ]
     },
     "metadata": {},
     "output_type": "display_data"
    }
   ],
   "source": [
    "for d in ds:\n",
    "    print(d)\n",
    "    plot_scores(scores[d])"
   ]
  },
  {
   "cell_type": "code",
   "execution_count": 15,
   "id": "cfc4909e",
   "metadata": {},
   "outputs": [
    {
     "name": "stdout",
     "output_type": "stream",
     "text": [
      "For emodb best strategy is most_frequent with score 0.24940239043824702\n",
      "For emovo best strategy is most_frequent with score 0.21081081081081082\n",
      "For ravdess best strategy is stratified with score 0.20662695457930008\n"
     ]
    }
   ],
   "source": [
    "best_strategies = []\n",
    "for d in ds:\n",
    "    max_value = max(scores[d])\n",
    "    max_index = scores[d].index(max_value)\n",
    "    best_strategies.append(strategies[max_index])\n",
    "    print(f'For {d} best strategy is {strategies[max_index]} with score {max_value}')"
   ]
  },
  {
   "cell_type": "code",
   "execution_count": 16,
   "id": "46b5acb5",
   "metadata": {},
   "outputs": [
    {
     "data": {
      "text/plain": [
       "['most_frequent', 'most_frequent', 'stratified']"
      ]
     },
     "execution_count": 16,
     "metadata": {},
     "output_type": "execute_result"
    }
   ],
   "source": [
    "best_strategies"
   ]
  },
  {
   "cell_type": "code",
   "execution_count": 17,
   "id": "aa77ae25",
   "metadata": {},
   "outputs": [
    {
     "name": "stdout",
     "output_type": "stream",
     "text": [
      "emodb with most_frequent\n",
      "emovo with most_frequent\n",
      "ravdess with stratified\n"
     ]
    },
    {
     "data": {
      "image/png": "[encoded data removed]",
      "text/plain": [
       "<Figure size 640x480 with 2 Axes>"
      ]
     },
     "metadata": {},
     "output_type": "display_data"
    },
    {
     "data": {
      "image/png": "[encoded data removed]",
      "text/plain": [
       "<Figure size 640x480 with 2 Axes>"
      ]
     },
     "metadata": {},
     "output_type": "display_data"
    },
    {
     "data": {
      "image/png": "[encoded data removed]",
      "text/plain": [
       "<Figure size 640x480 with 2 Axes>"
      ]
     },
     "metadata": {},
     "output_type": "display_data"
    }
   ],
   "source": [
    "from sklearn.metrics import confusion_matrix, ConfusionMatrixDisplay\n",
    "\n",
    "for st, d in zip(best_strategies, mtd_ls):\n",
    "    print(f'{d} with {st}')\n",
    "    ds = mtd_ls[d]\n",
    "    y = ds['label']\n",
    "    X = ds.drop('label', axis = 1)\n",
    "    X = X.drop('actor', axis = 1)\n",
    "    X_train, X_test, y_train, y_test = train_test_split(X, y, test_size = 0.3, random_state = random_state)\n",
    "    \n",
    "    if st =='constant':\n",
    "        dclf = DummyClassifier(strategy = st, random_state = random_state, constant ='angry')\n",
    "    else:\n",
    "        dclf = DummyClassifier(strategy = st, random_state = random_state)\n",
    "        \n",
    "    dclf.fit(X_train, y_train)\n",
    "    y_pred = dclf.predict(X_test)\n",
    "    \n",
    "    cm = confusion_matrix(y_test, y_pred, labels=dclf.classes_)\n",
    "    disp = ConfusionMatrixDisplay(confusion_matrix=cm, display_labels=dclf.classes_)\n",
    "    disp.plot()"
   ]
  },
  {
   "cell_type": "code",
   "execution_count": null,
   "id": "c2cd202a",
   "metadata": {},
   "outputs": [],
   "source": []
  },
  {
   "cell_type": "code",
   "execution_count": null,
   "id": "53d79136",
   "metadata": {},
   "outputs": [],
   "source": []
  }
 ],
 "metadata": {
  "kernelspec": {
   "display_name": "Python 3 (ipykernel)",
   "language": "python",
   "name": "python3"
  },
  "language_info": {
   "codemirror_mode": {
    "name": "ipython",
    "version": 3
   },
   "file_extension": ".py",
   "mimetype": "text/x-python",
   "name": "python",
   "nbconvert_exporter": "python",
   "pygments_lexer": "ipython3",
   "version": "3.9.13"
  }
 },
 "nbformat": 4,
 "nbformat_minor": 5
}
