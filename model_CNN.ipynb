{
 "cells": [
  {
   "cell_type": "markdown",
   "id": "a8abf493",
   "metadata": {},
   "source": [
    "Import data for train/test"
   ]
  },
  {
   "cell_type": "code",
   "execution_count": 1,
   "id": "8df3291f",
   "metadata": {},
   "outputs": [],
   "source": [
    "import numpy as np\n",
    "import pandas as pd\n",
    "x = np.load(f'/datasets/nicolas_facchinetti/processed_data/emodb/x_im.npy')\n",
    "y = np.load(f'/datasets/nicolas_facchinetti/processed_data/emodb/y_im.npy')\n",
    "metadata = pd.read_csv(f'/datasets/nicolas_facchinetti/processed_data/emodb/mod_metadata.csv')"
   ]
  },
  {
   "cell_type": "code",
   "execution_count": 11,
   "id": "4ae3465f",
   "metadata": {},
   "outputs": [
    {
     "data": {
      "text/plain": [
       "(604, 256, 256, 3)"
      ]
     },
     "execution_count": 11,
     "metadata": {},
     "output_type": "execute_result"
    }
   ],
   "source": [
    "x.shape"
   ]
  },
  {
   "cell_type": "markdown",
   "id": "73e4b8ed",
   "metadata": {},
   "source": [
    "Train test data"
   ]
  },
  {
   "cell_type": "code",
   "execution_count": 2,
   "id": "ea401198",
   "metadata": {},
   "outputs": [],
   "source": [
    "def leave_one_speaker_out(data, n=5):\n",
    "    speakers = data.actor.unique()\n",
    "    # random select n actors as test\n",
    "    selected = np.random.choice(speakers, size=n, replace=False)\n",
    "    \n",
    "    myCViterator = []\n",
    "    for i in selected:\n",
    "        trainIndices = data[data['actor']!=i ].index.values.astype(int)\n",
    "        testIndices =  data[data['actor']==i ].index.values.astype(int)\n",
    "        myCViterator.append((trainIndices, testIndices))\n",
    "    return myCViterator"
   ]
  },
  {
   "cell_type": "code",
   "execution_count": 3,
   "id": "580d0628",
   "metadata": {},
   "outputs": [
    {
     "data": {
      "text/plain": [
       "(array([  0,   1,   2,   4,   5,   6,   7,   8,   9,  10,  11,  12,  13,\n",
       "         14,  15,  16,  18,  19,  20,  21,  23,  24,  25,  26,  27,  28,\n",
       "         29,  30,  31,  32,  33,  34,  35,  36,  37,  38,  39,  40,  41,\n",
       "         42,  43,  44,  45,  46,  47,  48,  49,  51,  52,  53,  54,  55,\n",
       "         56,  57,  58,  60,  61,  62,  64,  65,  66,  69,  70,  71,  72,\n",
       "         73,  74,  75,  76,  77,  78,  79,  80,  81,  82,  85,  86,  88,\n",
       "         89,  91,  92,  93,  94,  95,  97,  98,  99, 100, 101, 102, 103,\n",
       "        104, 105, 106, 107, 108, 109, 110, 111, 112, 113, 116, 117, 118,\n",
       "        119, 122, 123, 125, 126, 127, 128, 129, 130, 131, 132, 133, 134,\n",
       "        135, 136, 137, 140, 141, 142, 143, 144, 145, 146, 147, 148, 149,\n",
       "        150, 151, 152, 153, 154, 155, 156, 157, 158, 159, 160, 162, 164,\n",
       "        165, 166, 167, 168, 169, 170, 171, 172, 173, 174, 175, 176, 177,\n",
       "        178, 179, 180, 181, 182, 183, 184, 185, 186, 187, 188, 189, 190,\n",
       "        191, 192, 193, 194, 195, 196, 197, 198, 199, 200, 201, 202, 203,\n",
       "        204, 205, 206, 207, 208, 209, 210, 211, 212, 213, 214, 215, 217,\n",
       "        218, 219, 222, 223, 224, 225, 226, 227, 228, 229, 230, 231, 232,\n",
       "        233, 235, 236, 237, 238, 239, 241, 242, 243, 245, 246, 247, 248,\n",
       "        249, 250, 251, 252, 253, 254, 255, 256, 257, 258, 259, 260, 261,\n",
       "        262, 263, 264, 265, 266, 267, 268, 269, 270, 271, 272, 273, 274,\n",
       "        275, 276, 277, 278, 279, 280, 281, 282, 283, 284, 285, 286, 287,\n",
       "        288, 289, 290, 292, 293, 294, 295, 296, 297, 298, 299, 300, 302,\n",
       "        303, 304, 305, 306, 307, 308, 309, 312, 313, 314, 315, 316, 317,\n",
       "        318, 319, 320, 321, 322, 323, 324, 325, 326, 327, 328, 329, 330,\n",
       "        331, 332, 333, 334, 335, 337, 338, 339, 340, 341, 342, 343, 344,\n",
       "        345, 346, 347, 348, 350, 351, 352, 353, 354, 355, 356, 357, 358,\n",
       "        359, 360, 361, 363, 364, 367, 368, 369, 370, 371, 372, 373, 376,\n",
       "        377, 378, 379, 381, 382, 383, 384, 385, 386, 388, 389, 390, 391,\n",
       "        392, 393, 394, 396, 399, 400, 401, 402, 403, 404, 405, 406, 407,\n",
       "        408, 409, 410, 411, 412, 413, 415, 416, 417, 418, 419, 420, 421,\n",
       "        422, 423, 424, 425, 426, 427, 428, 430, 431, 432, 433, 434, 435,\n",
       "        436, 437, 438, 440, 441, 442, 443, 444, 445, 446, 447, 449, 450,\n",
       "        451, 452, 453, 454, 456, 458, 459, 460, 461, 462, 463, 464, 465,\n",
       "        466, 467, 468, 469, 470, 471, 472, 473, 474, 476, 477, 478, 479,\n",
       "        481, 482, 483, 484, 485, 486, 487, 488, 489, 490, 491, 492, 493,\n",
       "        494, 495, 496, 497, 498, 499, 501, 504, 505, 506, 507, 508, 509,\n",
       "        510, 511, 512, 513, 514, 515, 517, 518, 519, 520, 523, 524, 525,\n",
       "        526, 527, 528, 529, 530, 531, 532, 533, 534, 535, 536, 537, 538,\n",
       "        539, 540, 541, 542, 543, 544, 545, 546, 547, 548, 549, 550, 551,\n",
       "        552, 553, 556, 557, 558, 559, 560, 561, 563, 564, 565, 566, 567,\n",
       "        568, 569, 570, 571, 572, 573, 574, 575, 576, 577, 578, 579, 581,\n",
       "        582, 583, 584, 585, 586, 587, 588, 589, 590, 591, 592, 593, 594,\n",
       "        595, 596, 598, 601, 602, 603]),\n",
       " array([  3,  17,  22,  50,  59,  63,  67,  68,  83,  84,  87,  90,  96,\n",
       "        114, 115, 120, 121, 124, 138, 139, 161, 163, 216, 220, 221, 234,\n",
       "        240, 244, 291, 301, 310, 311, 336, 349, 362, 365, 366, 374, 375,\n",
       "        380, 387, 395, 397, 398, 414, 429, 439, 448, 455, 457, 475, 480,\n",
       "        500, 502, 503, 516, 521, 522, 554, 555, 562, 580, 597, 599, 600]))"
      ]
     },
     "execution_count": 3,
     "metadata": {},
     "output_type": "execute_result"
    }
   ],
   "source": [
    "indices = leave_one_speaker_out(metadata, 1)\n",
    "train = indices[0][0]\n",
    "test = indices[0][1]\n",
    "train, test"
   ]
  },
  {
   "cell_type": "code",
   "execution_count": 14,
   "id": "51d78a77",
   "metadata": {},
   "outputs": [
    {
     "data": {
      "text/plain": [
       "((539, 256, 256, 3), (539, 7), (65, 256, 256, 3), (65, 7))"
      ]
     },
     "execution_count": 14,
     "metadata": {},
     "output_type": "execute_result"
    }
   ],
   "source": [
    "x_train = x[train]\n",
    "y_train = y[train]\n",
    "x_test = x[test]\n",
    "y_test = y[test]\n",
    "x_train.shape, y_train.shape, x_test.shape, y_test.shape"
   ]
  },
  {
   "cell_type": "markdown",
   "id": "c9614dc8",
   "metadata": {},
   "source": [
    "# Define a model for SER"
   ]
  },
  {
   "cell_type": "code",
   "execution_count": 15,
   "id": "3f35aef4",
   "metadata": {},
   "outputs": [],
   "source": [
    "import tensorflow as tf\n",
    "import tensorflow.keras\n",
    "from tensorflow.keras.models import Sequential \n",
    "from tensorflow.keras.layers import Conv2D, Flatten, Dense, Dropout, MaxPool2D, InputLayer"
   ]
  },
  {
   "cell_type": "code",
   "execution_count": 16,
   "id": "8032900b",
   "metadata": {},
   "outputs": [],
   "source": [
    "input_size = (256, 256, 3)"
   ]
  },
  {
   "cell_type": "code",
   "execution_count": 17,
   "id": "b2c3499c",
   "metadata": {},
   "outputs": [
    {
     "name": "stdout",
     "output_type": "stream",
     "text": [
      "Model: \"sequential_1\"\n",
      "_________________________________________________________________\n",
      "Layer (type)                 Output Shape              Param #   \n",
      "=================================================================\n",
      "conv2d_3 (Conv2D)            (None, 256, 256, 16)      448       \n",
      "_________________________________________________________________\n",
      "max_pooling2d_3 (MaxPooling2 (None, 128, 128, 16)      0         \n",
      "_________________________________________________________________\n",
      "conv2d_4 (Conv2D)            (None, 64, 64, 32)        4640      \n",
      "_________________________________________________________________\n",
      "max_pooling2d_4 (MaxPooling2 (None, 32, 32, 32)        0         \n",
      "_________________________________________________________________\n",
      "conv2d_5 (Conv2D)            (None, 16, 16, 64)        18496     \n",
      "_________________________________________________________________\n",
      "max_pooling2d_5 (MaxPooling2 (None, 8, 8, 64)          0         \n",
      "_________________________________________________________________\n",
      "flatten_1 (Flatten)          (None, 4096)              0         \n",
      "_________________________________________________________________\n",
      "dropout_1 (Dropout)          (None, 4096)              0         \n",
      "_________________________________________________________________\n",
      "dense_3 (Dense)              (None, 128)               524416    \n",
      "_________________________________________________________________\n",
      "dense_4 (Dense)              (None, 64)                8256      \n",
      "_________________________________________________________________\n",
      "dense_5 (Dense)              (None, 7)                 455       \n",
      "=================================================================\n",
      "Total params: 556,711\n",
      "Trainable params: 556,711\n",
      "Non-trainable params: 0\n",
      "_________________________________________________________________\n"
     ]
    }
   ],
   "source": [
    "model = Sequential([\n",
    "    InputLayer(input_shape=input_size),\n",
    "    #1st hidden layer\n",
    "    Conv2D(16, (3, 3), activation='relu', padding=\"same\"),\n",
    "    MaxPool2D((2, 2)),\n",
    "    #2nd hidden layer\n",
    "    Conv2D(32, (3, 3), activation='relu', strides=(2, 2), padding=\"same\"),\n",
    "    MaxPool2D((2, 2)),\n",
    "    # 3rd conv block\n",
    "    Conv2D(64, (3, 3), activation='relu', strides=(2, 2), padding='same'),\n",
    "    MaxPool2D(pool_size=(2, 2), padding='same'),\n",
    "    #ANN\n",
    "    Flatten(),\n",
    "    Dropout(0.2),\n",
    "    Dense(units = 128, activation='relu'),\n",
    "    Dense(units = 64, activation='relu'),\n",
    "    #Output layer\n",
    "    Dense(units= 7, activation='softmax'),\n",
    "]) \n",
    "model.summary()"
   ]
  },
  {
   "cell_type": "code",
   "execution_count": 20,
   "id": "df3182a3",
   "metadata": {},
   "outputs": [],
   "source": [
    "model.compile(loss='categorical_crossentropy', optimizer='adam', metrics=['accuracy'])"
   ]
  },
  {
   "cell_type": "code",
   "execution_count": 25,
   "id": "a44f77cf",
   "metadata": {},
   "outputs": [
    {
     "name": "stdout",
     "output_type": "stream",
     "text": [
      "Epoch 1/50\n",
      "17/17 [==============================] - 0s 22ms/step - loss: 0.3802 - accuracy: 0.8757 - val_loss: 1.5139 - val_accuracy: 0.5846\n",
      "Epoch 2/50\n",
      "17/17 [==============================] - 0s 19ms/step - loss: 0.2856 - accuracy: 0.8961 - val_loss: 1.8998 - val_accuracy: 0.5846\n",
      "Epoch 3/50\n",
      "17/17 [==============================] - 0s 20ms/step - loss: 0.2165 - accuracy: 0.9239 - val_loss: 1.9125 - val_accuracy: 0.5385\n",
      "Epoch 4/50\n",
      "17/17 [==============================] - 0s 19ms/step - loss: 0.2216 - accuracy: 0.9332 - val_loss: 1.4066 - val_accuracy: 0.6462\n",
      "Epoch 5/50\n",
      "17/17 [==============================] - 0s 20ms/step - loss: 0.1998 - accuracy: 0.9295 - val_loss: 1.7486 - val_accuracy: 0.6308\n",
      "Epoch 6/50\n",
      "17/17 [==============================] - 0s 20ms/step - loss: 0.1497 - accuracy: 0.9443 - val_loss: 1.8209 - val_accuracy: 0.6308\n",
      "Epoch 7/50\n",
      "17/17 [==============================] - 0s 20ms/step - loss: 0.0839 - accuracy: 0.9722 - val_loss: 2.4797 - val_accuracy: 0.6615\n",
      "Epoch 8/50\n",
      "17/17 [==============================] - 0s 20ms/step - loss: 0.0724 - accuracy: 0.9740 - val_loss: 3.9590 - val_accuracy: 0.5231\n",
      "Epoch 9/50\n",
      "17/17 [==============================] - 0s 20ms/step - loss: 0.1133 - accuracy: 0.9610 - val_loss: 2.8374 - val_accuracy: 0.5231\n"
     ]
    }
   ],
   "source": [
    "from tensorflow.keras.callbacks import EarlyStopping \n",
    "early_stopping = EarlyStopping(monitor='val_loss', patience=5, mode='auto', restore_best_weights=True)\n",
    "\n",
    "history = model.fit(x_train, y_train,\n",
    "                    batch_size=32,\n",
    "                    epochs=50,\n",
    "                    validation_data=(x_test, y_test),\n",
    "                    callbacks=[early_stopping])"
   ]
  },
  {
   "cell_type": "code",
   "execution_count": 26,
   "id": "274a3c67",
   "metadata": {},
   "outputs": [
    {
     "data": {
      "image/png": "[encoded data removed]",
      "text/plain": [
       "<Figure size 640x480 with 1 Axes>"
      ]
     },
     "metadata": {},
     "output_type": "display_data"
    }
   ],
   "source": [
    "import matplotlib.pyplot as plt\n",
    "plt.plot(history.history['accuracy'])\n",
    "plt.plot(history.history['val_accuracy'])\n",
    "plt.title('model accuracy')\n",
    "plt.ylabel('accuracy')\n",
    "plt.xlabel('epoch')\n",
    "plt.legend(['train', 'val'], loc='upper left')\n",
    "plt.show()"
   ]
  },
  {
   "cell_type": "code",
   "execution_count": 27,
   "id": "6b5f679d",
   "metadata": {},
   "outputs": [
    {
     "data": {
      "image/png": "[encoded data removed]",
      "text/plain": [
       "<Figure size 640x480 with 1 Axes>"
      ]
     },
     "metadata": {},
     "output_type": "display_data"
    }
   ],
   "source": [
    "plt.plot(history.history['loss'])\n",
    "plt.plot(history.history['val_loss'])\n",
    "plt.title('model loss')\n",
    "plt.ylabel('loss')\n",
    "plt.xlabel('epoch')\n",
    "plt.legend(['train', 'val'], loc='upper left')\n",
    "plt.show()"
   ]
  },
  {
   "cell_type": "code",
   "execution_count": 28,
   "id": "a89bac7a",
   "metadata": {},
   "outputs": [
    {
     "name": "stdout",
     "output_type": "stream",
     "text": [
      "3/3 [==============================] - 0s 7ms/step - loss: 1.4066 - accuracy: 0.6462\n",
      "Accuracy on original test data: 64.62%\n"
     ]
    }
   ],
   "source": [
    "_, accuracy_test_original = model.evaluate(x_test, y_test)\n",
    "print('Accuracy on original test data: {:4.2f}%'.format(accuracy_test_original * 100))"
   ]
  },
  {
   "cell_type": "markdown",
   "id": "043476db",
   "metadata": {},
   "source": [
    "Save the model for future computations"
   ]
  },
  {
   "cell_type": "code",
   "execution_count": 20,
   "id": "46f2decd",
   "metadata": {},
   "outputs": [],
   "source": [
    "model.save('/datasets/nicolas_facchinetti/trained_models/EmoDB/firstCNN.h5')"
   ]
  },
  {
   "cell_type": "code",
   "execution_count": null,
   "id": "882b8851",
   "metadata": {},
   "outputs": [],
   "source": []
  }
 ],
 "metadata": {
  "kernelspec": {
   "display_name": "Python 3 (ipykernel)",
   "language": "python",
   "name": "python3"
  },
  "language_info": {
   "codemirror_mode": {
    "name": "ipython",
    "version": 3
   },
   "file_extension": ".py",
   "mimetype": "text/x-python",
   "name": "python",
   "nbconvert_exporter": "python",
   "pygments_lexer": "ipython3",
   "version": "3.9.13"
  }
 },
 "nbformat": 4,
 "nbformat_minor": 5
}
