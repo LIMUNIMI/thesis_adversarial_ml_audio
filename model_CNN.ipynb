{
 "cells": [
  {
   "cell_type": "markdown",
   "id": "a8abf493",
   "metadata": {},
   "source": [
    "Import data for train/test"
   ]
  },
  {
   "cell_type": "code",
   "execution_count": 5,
   "id": "fd777b7b",
   "metadata": {},
   "outputs": [
    {
     "data": {
      "text/html": [
       "<div>\n",
       "<style scoped>\n",
       "    .dataframe tbody tr th:only-of-type {\n",
       "        vertical-align: middle;\n",
       "    }\n",
       "\n",
       "    .dataframe tbody tr th {\n",
       "        vertical-align: top;\n",
       "    }\n",
       "\n",
       "    .dataframe thead th {\n",
       "        text-align: right;\n",
       "    }\n",
       "</style>\n",
       "<table border=\"1\" class=\"dataframe\">\n",
       "  <thead>\n",
       "    <tr style=\"text-align: right;\">\n",
       "      <th></th>\n",
       "      <th>path</th>\n",
       "      <th>label</th>\n",
       "    </tr>\n",
       "  </thead>\n",
       "  <tbody>\n",
       "    <tr>\n",
       "      <th>0</th>\n",
       "      <td>processed_data/images/03a01Fa.wav0.png</td>\n",
       "      <td>F</td>\n",
       "    </tr>\n",
       "    <tr>\n",
       "      <th>1</th>\n",
       "      <td>processed_data/images/03a01Nc.wav0.png</td>\n",
       "      <td>N</td>\n",
       "    </tr>\n",
       "    <tr>\n",
       "      <th>2</th>\n",
       "      <td>processed_data/images/03a01Wa.wav0.png</td>\n",
       "      <td>W</td>\n",
       "    </tr>\n",
       "    <tr>\n",
       "      <th>3</th>\n",
       "      <td>processed_data/images/03a02Fc.wav0.png</td>\n",
       "      <td>F</td>\n",
       "    </tr>\n",
       "    <tr>\n",
       "      <th>4</th>\n",
       "      <td>processed_data/images/03a02Nc.wav0.png</td>\n",
       "      <td>N</td>\n",
       "    </tr>\n",
       "  </tbody>\n",
       "</table>\n",
       "</div>"
      ],
      "text/plain": [
       "                                     path label\n",
       "0  processed_data/images/03a01Fa.wav0.png     F\n",
       "1  processed_data/images/03a01Nc.wav0.png     N\n",
       "2  processed_data/images/03a01Wa.wav0.png     W\n",
       "3  processed_data/images/03a02Fc.wav0.png     F\n",
       "4  processed_data/images/03a02Nc.wav0.png     N"
      ]
     },
     "execution_count": 5,
     "metadata": {},
     "output_type": "execute_result"
    }
   ],
   "source": [
    "import pandas as pd\n",
    "metadata = pd.read_csv(\"processed_data/processed_images.csv\")\n",
    "metadata.head()"
   ]
  },
  {
   "cell_type": "markdown",
   "id": "73e4b8ed",
   "metadata": {},
   "source": [
    "Train test data"
   ]
  },
  {
   "cell_type": "code",
   "execution_count": 8,
   "id": "28712828",
   "metadata": {},
   "outputs": [],
   "source": [
    "# data preaparation\n",
    "from sklearn.model_selection import train_test_split\n",
    "from sklearn.preprocessing import LabelEncoder, StandardScaler\n",
    "\n",
    "# dealing with images\n",
    "from tensorflow.keras.preprocessing.image import ImageDataGenerator\n",
    "\n",
    "import numpy as np"
   ]
  },
  {
   "cell_type": "code",
   "execution_count": 9,
   "id": "b2cccef2",
   "metadata": {},
   "outputs": [
    {
     "name": "stdout",
     "output_type": "stream",
     "text": [
      "Train (452, 2) and test (113, 2)\n"
     ]
    }
   ],
   "source": [
    "# get train/test dataframe\n",
    "train_df, test_df = train_test_split(metadata, \n",
    "                                   test_size = 0.20, \n",
    "                                   random_state = 2018,\n",
    "                                   stratify = metadata['label'])\n",
    "print(f'Train {np.shape(train_df)} and test {np.shape(test_df)}')"
   ]
  },
  {
   "cell_type": "code",
   "execution_count": 10,
   "id": "51eb380b",
   "metadata": {},
   "outputs": [
    {
     "name": "stdout",
     "output_type": "stream",
     "text": [
      "Found 452 validated image filenames belonging to 7 classes.\n"
     ]
    }
   ],
   "source": [
    "path_dir = \"./\"\n",
    "\n",
    "train_datagen = ImageDataGenerator(rescale=1./255.)\n",
    "\n",
    "train_generator = train_datagen.flow_from_dataframe(\n",
    "    dataframe=train_df,\n",
    "    directory=path_dir,\n",
    "    x_col=\"path\",\n",
    "    y_col=\"label\",\n",
    "    batch_size=32,\n",
    "    shuffle=True,\n",
    "    target_size=(256, 256),\n",
    "    class_mode='categorical',\n",
    "    subset='training'\n",
    ")"
   ]
  },
  {
   "cell_type": "code",
   "execution_count": 11,
   "id": "60dfe709",
   "metadata": {},
   "outputs": [
    {
     "name": "stdout",
     "output_type": "stream",
     "text": [
      "Found 113 validated image filenames belonging to 7 classes.\n"
     ]
    }
   ],
   "source": [
    "test_datagen=ImageDataGenerator(rescale=1./255.)\n",
    "\n",
    "test_generator=test_datagen.flow_from_dataframe(\n",
    "    dataframe=test_df,\n",
    "    directory=path_dir,\n",
    "    x_col=\"path\",\n",
    "    y_col=\"label\",\n",
    "    batch_size=32,\n",
    "    shuffle=False,\n",
    "    class_mode=\"categorical\",\n",
    "    target_size=(256, 256))"
   ]
  },
  {
   "cell_type": "markdown",
   "id": "c9614dc8",
   "metadata": {},
   "source": [
    "# Define a model for SER"
   ]
  },
  {
   "cell_type": "code",
   "execution_count": 21,
   "id": "3f35aef4",
   "metadata": {},
   "outputs": [],
   "source": [
    "import tensorflow as tf\n",
    "import tensorflow.keras\n",
    "from tensorflow.keras.models import Sequential \n",
    "from tensorflow.keras.layers import Conv2D, Flatten, Dense, Dropout, MaxPool2D, InputLayer"
   ]
  },
  {
   "cell_type": "code",
   "execution_count": 15,
   "id": "8032900b",
   "metadata": {},
   "outputs": [],
   "source": [
    "input_size = (256, 256, 3)\n",
    "adam = tf.keras.optimizers.Adam(learning_rate=0.001)\n",
    "batchsize = 32\n",
    "epochs = 50\n",
    "metrics = [\n",
    "    \"accuracy\",\n",
    "]\n",
    "callbacks=[\n",
    "    tf.keras.callbacks.EarlyStopping(monitor=\"val_loss\", mode=\"min\", patience=5, restore_best_weights=True)\n",
    "]"
   ]
  },
  {
   "cell_type": "code",
   "execution_count": 26,
   "id": "b2c3499c",
   "metadata": {},
   "outputs": [
    {
     "name": "stdout",
     "output_type": "stream",
     "text": [
      "Model: \"sequential_1\"\n",
      "_________________________________________________________________\n",
      "Layer (type)                 Output Shape              Param #   \n",
      "=================================================================\n",
      "conv2d_5 (Conv2D)            (None, 256, 256, 16)      448       \n",
      "_________________________________________________________________\n",
      "max_pooling2d_3 (MaxPooling2 (None, 128, 128, 16)      0         \n",
      "_________________________________________________________________\n",
      "conv2d_6 (Conv2D)            (None, 64, 64, 32)        4640      \n",
      "_________________________________________________________________\n",
      "max_pooling2d_4 (MaxPooling2 (None, 32, 32, 32)        0         \n",
      "_________________________________________________________________\n",
      "conv2d_7 (Conv2D)            (None, 16, 16, 64)        18496     \n",
      "_________________________________________________________________\n",
      "max_pooling2d_5 (MaxPooling2 (None, 8, 8, 64)          0         \n",
      "_________________________________________________________________\n",
      "flatten_1 (Flatten)          (None, 4096)              0         \n",
      "_________________________________________________________________\n",
      "dropout_1 (Dropout)          (None, 4096)              0         \n",
      "_________________________________________________________________\n",
      "dense_3 (Dense)              (None, 128)               524416    \n",
      "_________________________________________________________________\n",
      "dense_4 (Dense)              (None, 64)                8256      \n",
      "_________________________________________________________________\n",
      "dense_5 (Dense)              (None, 7)                 455       \n",
      "=================================================================\n",
      "Total params: 556,711\n",
      "Trainable params: 556,711\n",
      "Non-trainable params: 0\n",
      "_________________________________________________________________\n"
     ]
    }
   ],
   "source": [
    "model = Sequential([\n",
    "    InputLayer(input_shape=input_size),\n",
    "    #1st hidden layer\n",
    "    Conv2D(16, (3, 3), activation='relu', padding=\"same\"),\n",
    "    MaxPool2D((2, 2)),\n",
    "    #2nd hidden layer\n",
    "    Conv2D(32, (3, 3), activation='relu', strides=(2, 2), padding=\"same\"),\n",
    "    MaxPool2D((2, 2)),\n",
    "    # 3rd conv block\n",
    "    Conv2D(64, (3, 3), activation='relu', strides=(2, 2), padding='same'),\n",
    "    MaxPool2D(pool_size=(2, 2), padding='same'),\n",
    "    #ANN\n",
    "    Flatten(),\n",
    "    Dropout(0.2),\n",
    "    Dense(units = 128, activation='relu'),\n",
    "    Dense(units = 64, activation='relu'),\n",
    "    #Output layer\n",
    "    Dense(units= 7, activation='softmax'),\n",
    "]) \n",
    "model.summary()"
   ]
  },
  {
   "cell_type": "code",
   "execution_count": 27,
   "id": "df3182a3",
   "metadata": {},
   "outputs": [],
   "source": [
    "model.compile(loss='categorical_crossentropy', optimizer=adam, metrics=metrics)"
   ]
  },
  {
   "cell_type": "code",
   "execution_count": 28,
   "id": "a44f77cf",
   "metadata": {},
   "outputs": [
    {
     "name": "stdout",
     "output_type": "stream",
     "text": [
      "Epoch 1/50\n",
      "15/15 [==============================] - 8s 368ms/step - loss: 1.9106 - accuracy: 0.2367 - val_loss: 1.8699 - val_accuracy: 0.3009\n",
      "Epoch 2/50\n",
      "15/15 [==============================] - 3s 175ms/step - loss: 1.7195 - accuracy: 0.3717 - val_loss: 1.6148 - val_accuracy: 0.4248\n",
      "Epoch 3/50\n",
      "15/15 [==============================] - 3s 184ms/step - loss: 1.4775 - accuracy: 0.4226 - val_loss: 1.4450 - val_accuracy: 0.3982\n",
      "Epoch 4/50\n",
      "15/15 [==============================] - 3s 183ms/step - loss: 1.3501 - accuracy: 0.4757 - val_loss: 1.3512 - val_accuracy: 0.4425\n",
      "Epoch 5/50\n",
      "15/15 [==============================] - 3s 174ms/step - loss: 1.1727 - accuracy: 0.5354 - val_loss: 1.4787 - val_accuracy: 0.4956\n",
      "Epoch 6/50\n",
      "15/15 [==============================] - 3s 175ms/step - loss: 1.1666 - accuracy: 0.5465 - val_loss: 1.1984 - val_accuracy: 0.5310\n",
      "Epoch 7/50\n",
      "15/15 [==============================] - 3s 176ms/step - loss: 1.0372 - accuracy: 0.6106 - val_loss: 1.1955 - val_accuracy: 0.5133\n",
      "Epoch 8/50\n",
      "15/15 [==============================] - 3s 174ms/step - loss: 0.9544 - accuracy: 0.6394 - val_loss: 1.2041 - val_accuracy: 0.4779\n",
      "Epoch 9/50\n",
      "15/15 [==============================] - 3s 174ms/step - loss: 0.8436 - accuracy: 0.6881 - val_loss: 1.0941 - val_accuracy: 0.5575\n",
      "Epoch 10/50\n",
      "15/15 [==============================] - 3s 184ms/step - loss: 0.8139 - accuracy: 0.6814 - val_loss: 1.0998 - val_accuracy: 0.5487\n",
      "Epoch 11/50\n",
      "15/15 [==============================] - 3s 174ms/step - loss: 0.6936 - accuracy: 0.7279 - val_loss: 1.1193 - val_accuracy: 0.5929\n",
      "Epoch 12/50\n",
      "15/15 [==============================] - 3s 175ms/step - loss: 0.5949 - accuracy: 0.7677 - val_loss: 1.0401 - val_accuracy: 0.6106\n",
      "Epoch 13/50\n",
      "15/15 [==============================] - 3s 175ms/step - loss: 0.4996 - accuracy: 0.8252 - val_loss: 0.9884 - val_accuracy: 0.6549\n",
      "Epoch 14/50\n",
      "15/15 [==============================] - 3s 176ms/step - loss: 0.4826 - accuracy: 0.8119 - val_loss: 1.0873 - val_accuracy: 0.6106\n",
      "Epoch 15/50\n",
      "15/15 [==============================] - 3s 174ms/step - loss: 0.4441 - accuracy: 0.8208 - val_loss: 1.0001 - val_accuracy: 0.6726\n",
      "Epoch 16/50\n",
      "15/15 [==============================] - 3s 175ms/step - loss: 0.2746 - accuracy: 0.9292 - val_loss: 1.1672 - val_accuracy: 0.6106\n",
      "Epoch 17/50\n",
      "15/15 [==============================] - 3s 175ms/step - loss: 0.3030 - accuracy: 0.8850 - val_loss: 1.0461 - val_accuracy: 0.6814\n",
      "Epoch 18/50\n",
      "15/15 [==============================] - 3s 175ms/step - loss: 0.2158 - accuracy: 0.9204 - val_loss: 1.6104 - val_accuracy: 0.5575\n"
     ]
    }
   ],
   "source": [
    "history = model.fit(train_generator,\n",
    "                    batch_size=batchsize,\n",
    "                    epochs=epochs,\n",
    "                    validation_data=test_generator,\n",
    "                    callbacks=callbacks)"
   ]
  },
  {
   "cell_type": "code",
   "execution_count": 30,
   "id": "274a3c67",
   "metadata": {},
   "outputs": [
    {
     "data": {
      "image/png": "[encoded data removed]",
      "text/plain": [
       "<Figure size 432x288 with 1 Axes>"
      ]
     },
     "metadata": {
      "needs_background": "light"
     },
     "output_type": "display_data"
    }
   ],
   "source": [
    "import matplotlib.pyplot as plt\n",
    "plt.plot(history.history['accuracy'])\n",
    "plt.plot(history.history['val_accuracy'])\n",
    "plt.title('model accuracy')\n",
    "plt.ylabel('accuracy')\n",
    "plt.xlabel('epoch')\n",
    "plt.legend(['train', 'val'], loc='upper left')\n",
    "plt.show()"
   ]
  },
  {
   "cell_type": "code",
   "execution_count": 31,
   "id": "6b5f679d",
   "metadata": {},
   "outputs": [
    {
     "data": {
      "image/png": "[encoded data removed]",
      "text/plain": [
       "<Figure size 432x288 with 1 Axes>"
      ]
     },
     "metadata": {
      "needs_background": "light"
     },
     "output_type": "display_data"
    }
   ],
   "source": [
    "plt.plot(history.history['loss'])\n",
    "plt.plot(history.history['val_loss'])\n",
    "plt.title('model loss')\n",
    "plt.ylabel('loss')\n",
    "plt.xlabel('epoch')\n",
    "plt.legend(['train', 'val'], loc='upper left')\n",
    "plt.show()"
   ]
  },
  {
   "cell_type": "markdown",
   "id": "043476db",
   "metadata": {},
   "source": [
    "Save the model for future computations"
   ]
  },
  {
   "cell_type": "code",
   "execution_count": 33,
   "id": "46f2decd",
   "metadata": {},
   "outputs": [],
   "source": [
    "model.save('trained_models/firstCNN.h5')"
   ]
  }
 ],
 "metadata": {
  "kernelspec": {
   "display_name": "Python 3 (ipykernel)",
   "language": "python",
   "name": "python3"
  },
  "language_info": {
   "codemirror_mode": {
    "name": "ipython",
    "version": 3
   },
   "file_extension": ".py",
   "mimetype": "text/x-python",
   "name": "python",
   "nbconvert_exporter": "python",
   "pygments_lexer": "ipython3",
   "version": "3.9.13"
  }
 },
 "nbformat": 4,
 "nbformat_minor": 5
}
